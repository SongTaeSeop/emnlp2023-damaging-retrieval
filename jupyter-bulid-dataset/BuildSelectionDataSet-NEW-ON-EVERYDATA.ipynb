{
 "cells": [
  {
   "cell_type": "markdown",
   "id": "e86601ea",
   "metadata": {},
   "source": [
    "# BuildSelectionDataSet-NEW-ON-EVERYDATA\n",
    " - Making selection dataset from incremental results"
   ]
  },
  {
   "cell_type": "code",
   "execution_count": 1,
   "id": "05b5b23e",
   "metadata": {},
   "outputs": [],
   "source": [
    "import numpy as np\n",
    "import pathlib\n",
    "from pprint import pprint\n",
    "import pandas as pd\n",
    "from util import utils\n",
    "import re\n",
    "import os\n",
    "from copy import deepcopy\n",
    "import collections"
   ]
  },
  {
   "cell_type": "markdown",
   "id": "ba14baa2",
   "metadata": {},
   "source": [
    "## NQ TEST DPR "
   ]
  },
  {
   "cell_type": "code",
   "execution_count": 2,
   "id": "05cb4940",
   "metadata": {},
   "outputs": [],
   "source": [
    "# input_file = f'/data/philhoon-relevance/FiD/results/NQ_DPR/TEST/incremental_result_{sample_size}/ctx{sample_size}.json'\n",
    "# output_path = f'/data/philhoon-relevance/FiD/open_domain_data/NQ_TEST_DPR_SELECTION_NEW/'"
   ]
  },
  {
   "cell_type": "markdown",
   "id": "00248bcb",
   "metadata": {},
   "source": [
    "## NQ DEV DPR "
   ]
  },
  {
   "cell_type": "code",
   "execution_count": 3,
   "id": "ef0af1d5",
   "metadata": {},
   "outputs": [],
   "source": [
    "dataset = 'NQ'\n",
    "retriever = 'DPR'\n",
    "datatype = 'DEV'\n",
    "sample_size = 100"
   ]
  },
  {
   "cell_type": "markdown",
   "id": "03046fe2",
   "metadata": {},
   "source": [
    "## NQ DEV SEAL"
   ]
  },
  {
   "cell_type": "code",
   "execution_count": null,
   "id": "6409787a",
   "metadata": {},
   "outputs": [],
   "source": [
    "# dataset = 'NQ'\n",
    "# retriever = 'SEAL'\n",
    "# datatype = 'DEV'\n",
    "# sample_size = 100"
   ]
  },
  {
   "cell_type": "markdown",
   "id": "b4d4e1aa",
   "metadata": {},
   "source": [
    "## NQ DEV Contriever"
   ]
  },
  {
   "cell_type": "code",
   "execution_count": null,
   "id": "bb03cd4f",
   "metadata": {},
   "outputs": [],
   "source": [
    "# dataset = 'NQ'\n",
    "# retriever = 'CONTRIEVER'\n",
    "# datatype = 'DEV'\n",
    "# sample_size = 100"
   ]
  },
  {
   "cell_type": "markdown",
   "id": "7ada211e",
   "metadata": {},
   "source": [
    "## TQA TEST DPR "
   ]
  },
  {
   "cell_type": "code",
   "execution_count": null,
   "id": "36f173c5",
   "metadata": {},
   "outputs": [],
   "source": [
    "# dataset = 'TQA'\n",
    "# retriever = 'DPR'\n",
    "# datatype = 'TEST'\n",
    "# sample_size = 100"
   ]
  },
  {
   "cell_type": "markdown",
   "id": "0f16bd46",
   "metadata": {},
   "source": [
    "## TQA DEV DPR "
   ]
  },
  {
   "cell_type": "code",
   "execution_count": null,
   "id": "3378a369",
   "metadata": {},
   "outputs": [],
   "source": [
    "# dataset = 'TQA'\n",
    "# retriever = 'DPR'\n",
    "# datatype = 'DEV'\n",
    "# sample_size = 100"
   ]
  },
  {
   "cell_type": "markdown",
   "id": "c2f8b8dd",
   "metadata": {},
   "source": [
    "## TQA DEV CONTRIEVER "
   ]
  },
  {
   "cell_type": "code",
   "execution_count": null,
   "id": "00a95725",
   "metadata": {},
   "outputs": [],
   "source": [
    "# dataset = 'TQA'\n",
    "# retriever = 'CONTRIEVER'\n",
    "# datatype = 'DEV'\n",
    "# sample_size = 100"
   ]
  },
  {
   "cell_type": "markdown",
   "id": "f85946a4",
   "metadata": {},
   "source": [
    "## TQA DEV SEAL "
   ]
  },
  {
   "cell_type": "code",
   "execution_count": null,
   "id": "3c4efee5",
   "metadata": {},
   "outputs": [],
   "source": [
    "# dataset = 'TQA'\n",
    "# retriever = 'SEAL'\n",
    "# datatype = 'DEV'\n",
    "# sample_size = 100"
   ]
  },
  {
   "cell_type": "code",
   "execution_count": null,
   "id": "107489d0",
   "metadata": {},
   "outputs": [],
   "source": []
  },
  {
   "cell_type": "code",
   "execution_count": null,
   "id": "f2fec262",
   "metadata": {},
   "outputs": [],
   "source": []
  },
  {
   "cell_type": "code",
   "execution_count": 4,
   "id": "fceabf7e",
   "metadata": {},
   "outputs": [
    {
     "name": "stdout",
     "output_type": "stream",
     "text": [
      "/data/philhoon-relevance/FiD/results/NQ_DPR/DEV/incremental_result_100/ctx100.json\n"
     ]
    }
   ],
   "source": [
    "input_file = f'/data/philhoon-relevance/FiD/results/{dataset}_{retriever}/{datatype}/incremental_result_{sample_size}/ctx{sample_size}.json'\n",
    "print(input_file)"
   ]
  },
  {
   "cell_type": "code",
   "execution_count": 5,
   "id": "a806d722",
   "metadata": {},
   "outputs": [
    {
     "name": "stdout",
     "output_type": "stream",
     "text": [
      "/data/philhoon-relevance/FiD/open_domain_data/NQ_DEV_DPR_SELECTION_NEW/\n"
     ]
    }
   ],
   "source": [
    "output_path = f'/data/philhoon-relevance/FiD/open_domain_data/{dataset}_{datatype}_{retriever}_SELECTION_NEW/'\n",
    "print(output_path)"
   ]
  },
  {
   "cell_type": "code",
   "execution_count": null,
   "id": "bc70b192",
   "metadata": {},
   "outputs": [],
   "source": [
    "print(input_file)\n",
    "print(output_path)"
   ]
  },
  {
   "cell_type": "code",
   "execution_count": null,
   "id": "9746045d",
   "metadata": {},
   "outputs": [],
   "source": [
    "input_ = utils.open_json(input_file)"
   ]
  },
  {
   "cell_type": "code",
   "execution_count": null,
   "id": "2feb8943",
   "metadata": {},
   "outputs": [],
   "source": [
    "def get_definite_pos_neg(test_em):\n",
    "    positive_pos = []\n",
    "    if test_em.startswith('1'):\n",
    "        positive_pos.append(0)\n",
    "    iter_ = re.finditer(r'01', test_em)\n",
    "    for m in iter_:\n",
    "        pos_ = m.start() + 1\n",
    "        positive_pos.append(pos_)\n",
    "\n",
    "    negative_pos = []\n",
    "    iter_ = re.finditer(r'10', test_em)\n",
    "    for m in iter_:\n",
    "        pos_ = m.start() + 1\n",
    "        negative_pos.append(pos_)\n",
    "    \n",
    "    return positive_pos, negative_pos"
   ]
  },
  {
   "cell_type": "code",
   "execution_count": null,
   "id": "1eecbedf",
   "metadata": {},
   "outputs": [],
   "source": [
    "def get_semi_pos(test_em):\n",
    "    semi_pos = []\n",
    "    iter_ = re.finditer(r'(?=(11))', test_em)\n",
    "    for m in iter_:\n",
    "        semi_pos_ = m.start() + 1\n",
    "        semi_pos.append(semi_pos_)\n",
    "    \n",
    "    return semi_pos\n",
    "\n",
    "def get_semi_neg(test_em, num_undecisive):\n",
    "    semi_neg = []\n",
    "    test_em_temp = test_em[num_undecisive:]\n",
    "    iter_ = re.finditer(r'(?=(00))', test_em_temp)\n",
    "    for m in iter_:\n",
    "        semi_neg_ = m.start() + 1\n",
    "        semi_neg.append(semi_neg_)\n",
    "    semi_neg = [i + num_undecisive for i in semi_neg]\n",
    "    return semi_neg"
   ]
  },
  {
   "cell_type": "code",
   "execution_count": null,
   "id": "de8ca7c3",
   "metadata": {},
   "outputs": [],
   "source": [
    "input_[0].keys()"
   ]
  },
  {
   "cell_type": "code",
   "execution_count": null,
   "id": "66522ca2",
   "metadata": {},
   "outputs": [],
   "source": [
    "input_file = input_\n",
    "method = 'method1'"
   ]
  },
  {
   "cell_type": "code",
   "execution_count": null,
   "id": "f2798a08",
   "metadata": {
    "scrolled": false
   },
   "outputs": [],
   "source": [
    "output_format = []\n",
    "\n",
    "for id_, instance in enumerate(input_file, 1):\n",
    "    template_dict = {}\n",
    "    if 'id' in instance.keys():\n",
    "        template_dict['id'] = instance['id']\n",
    "    else:\n",
    "        template_dict['id'] = str(id_)\n",
    "    template_dict['answers'] = instance['answers']\n",
    "    template_dict['question'] = instance['question']\n",
    "    template_dict['em_pattern'] = instance['em_pattern']\n",
    "\n",
    "    em_pattern = deepcopy(instance['em_pattern'])\n",
    "    instances_ = deepcopy(instance['ctxs'])\n",
    "    num_undecisive = len(em_pattern) - len(em_pattern.lstrip('0'))\n",
    "\n",
    "\n",
    "    ## Meaing no EM\n",
    "    if num_undecisive == 100:\n",
    "        template_dict['ctxs']= instance['ctxs']\n",
    "        output_format.append(template_dict)\n",
    "    ## Meaning EM\n",
    "    else:\n",
    "#          check_lst = []\n",
    "        # initial zeros\n",
    "        new_context = []\n",
    "        initial_zeros_lst = [i for i in range(0, num_undecisive)]\n",
    "\n",
    "        # defnitie positive, definite negative\n",
    "        defnite_positve_lst, defnite_negative_lst = get_definite_pos_neg(em_pattern)\n",
    "\n",
    "        # semi positive, semi negative\n",
    "        semi_positive_lst = get_semi_pos(em_pattern)\n",
    "        semi_negative_lst = get_semi_neg(em_pattern, num_undecisive)\n",
    "\n",
    "        if method == 'method1':\n",
    "            new_context.extend(defnite_positve_lst)\n",
    "            new_context.extend(semi_positive_lst)\n",
    "\n",
    "        elif method == 'method2':\n",
    "            new_context.extend(defnite_positve_lst)\n",
    "\n",
    "        elif method == 'method3':\n",
    "            new_context.extend(initial_zeros_lst)\n",
    "            new_context.extend(defnite_positve_lst)\n",
    "            new_context.extend(semi_positive_lst)\n",
    "\n",
    "        elif method == 'method4':\n",
    "            new_context.extend(initial_zeros_lst)\n",
    "            new_context.extend(defnite_positve_lst)\n",
    "\n",
    "        elif method == 'method5':\n",
    "            new_context.extend(initial_zeros_lst)\n",
    "            new_context.extend(defnite_positve_lst)\n",
    "            new_context.extend(semi_positive_lst)\n",
    "            new_context.extend(semi_negative_lst)\n",
    "\n",
    "        elif method == 'method6':\n",
    "            new_context.extend(initial_zeros_lst)\n",
    "            new_context.extend(defnite_positve_lst)\n",
    "            new_context.extend(semi_negative_lst)\n",
    "        \n",
    "        \n",
    "        if defnite_positve_lst and defnite_negative_lst:\n",
    "            print(f\"em_pattern : {instance['em_pattern']}\")\n",
    "            print(f\"answer : {instance['question']}\")\n",
    "            print(f\"answer : {instance['answers']}\")\n",
    "            print(f\"defnite_positve_lst : {defnite_positve_lst}\")\n",
    "            pprint([instance['inference'][i]for i in defnite_positve_lst])\n",
    "            pprint([instances_[i]for i in defnite_positve_lst])\n",
    "            print(f\"defnite_negative_lst : {defnite_negative_lst}\")\n",
    "            pprint([instance['inference'][i]for i in defnite_negative_lst])\n",
    "            pprint([instances_[i]for i in defnite_negative_lst])\n",
    "            \n",
    "           \n",
    "            \n",
    "#         new_context.sort()\n",
    "#         if [item for item, count in collections.Counter(new_context).items() if count > 1]:\n",
    "#             print('Duplicates index!')\n",
    "#         else:\n",
    "#             new_context_lst = [instances_[i]for i in new_context]\n",
    "        \n",
    "        \n",
    "        \n",
    "#         template_dict['ctxs'] = new_context_lst\n",
    "#         output_format.append(template_dict)\n"
   ]
  },
  {
   "cell_type": "code",
   "execution_count": null,
   "id": "2ad2cfc8",
   "metadata": {},
   "outputs": [],
   "source": []
  },
  {
   "cell_type": "code",
   "execution_count": null,
   "id": "5b9e3b7a",
   "metadata": {},
   "outputs": [],
   "source": []
  },
  {
   "cell_type": "code",
   "execution_count": null,
   "id": "4eae876f",
   "metadata": {},
   "outputs": [],
   "source": []
  },
  {
   "cell_type": "code",
   "execution_count": null,
   "id": "6487b779",
   "metadata": {},
   "outputs": [],
   "source": []
  },
  {
   "cell_type": "code",
   "execution_count": null,
   "id": "4b9e3323",
   "metadata": {},
   "outputs": [],
   "source": []
  },
  {
   "cell_type": "code",
   "execution_count": null,
   "id": "ff4f6f4e",
   "metadata": {},
   "outputs": [],
   "source": []
  },
  {
   "cell_type": "code",
   "execution_count": null,
   "id": "d7caf278",
   "metadata": {},
   "outputs": [],
   "source": []
  },
  {
   "cell_type": "code",
   "execution_count": null,
   "id": "5f1d024c",
   "metadata": {},
   "outputs": [],
   "source": []
  },
  {
   "cell_type": "code",
   "execution_count": null,
   "id": "6b38e2ad",
   "metadata": {},
   "outputs": [],
   "source": []
  },
  {
   "cell_type": "code",
   "execution_count": null,
   "id": "6a661254",
   "metadata": {},
   "outputs": [],
   "source": []
  },
  {
   "cell_type": "code",
   "execution_count": null,
   "id": "ec0aeb75",
   "metadata": {},
   "outputs": [],
   "source": []
  },
  {
   "cell_type": "code",
   "execution_count": null,
   "id": "e1235aab",
   "metadata": {},
   "outputs": [],
   "source": []
  },
  {
   "cell_type": "code",
   "execution_count": null,
   "id": "93d0817f",
   "metadata": {},
   "outputs": [],
   "source": []
  },
  {
   "cell_type": "code",
   "execution_count": null,
   "id": "4f63ec18",
   "metadata": {},
   "outputs": [],
   "source": []
  },
  {
   "cell_type": "code",
   "execution_count": null,
   "id": "4d7584d2",
   "metadata": {},
   "outputs": [],
   "source": []
  },
  {
   "cell_type": "code",
   "execution_count": null,
   "id": "7eb30ec0",
   "metadata": {},
   "outputs": [],
   "source": []
  },
  {
   "cell_type": "code",
   "execution_count": null,
   "id": "35d44478",
   "metadata": {},
   "outputs": [],
   "source": []
  },
  {
   "cell_type": "code",
   "execution_count": null,
   "id": "4a300d61",
   "metadata": {
    "scrolled": false
   },
   "outputs": [],
   "source": [
    "def build_data_2(input_file, method):\n",
    "    output_format = []\n",
    "\n",
    "    for id_, instance in enumerate(input_file, 1):\n",
    "        template_dict = {}\n",
    "        if 'id' in instance.keys():\n",
    "            template_dict['id'] = instance['id']\n",
    "        else:\n",
    "            template_dict['id'] = str(id_)\n",
    "        template_dict['answers'] = instance['answers']\n",
    "        template_dict['question'] = instance['question']\n",
    "        template_dict['em_pattern'] = instance['em_pattern']\n",
    "\n",
    "        em_pattern = deepcopy(instance['em_pattern'])\n",
    "        instances_ = deepcopy(instance['ctxs'])\n",
    "        num_undecisive = len(em_pattern) - len(em_pattern.lstrip('0'))\n",
    "\n",
    "        \n",
    "        ## Meaing no EM\n",
    "        if num_undecisive == 100:\n",
    "            template_dict['ctxs']= instance['ctxs']\n",
    "            output_format.append(template_dict)\n",
    "        ## Meaning EM\n",
    "        else:\n",
    "#          check_lst = []\n",
    "            # initial zeros\n",
    "            new_context = []\n",
    "            initial_zeros_lst = [i for i in range(0, num_undecisive)]\n",
    "\n",
    "            # defnitie positive, definite negative\n",
    "            defnite_positve_lst, defnite_negative_lst = get_definite_pos_neg(em_pattern)\n",
    "\n",
    "            # semi positive, semi negative\n",
    "            semi_positive_lst = get_semi_pos(em_pattern)\n",
    "            semi_negative_lst = get_semi_neg(em_pattern, num_undecisive)\n",
    "\n",
    "            if method == 'method1':\n",
    "                new_context.extend(defnite_positve_lst)\n",
    "                new_context.extend(semi_positive_lst)\n",
    "\n",
    "            elif method == 'method2':\n",
    "                new_context.extend(defnite_positve_lst)\n",
    "\n",
    "            elif method == 'method3':\n",
    "                new_context.extend(initial_zeros_lst)\n",
    "                new_context.extend(defnite_positve_lst)\n",
    "                new_context.extend(semi_positive_lst)\n",
    "\n",
    "            elif method == 'method4':\n",
    "                new_context.extend(initial_zeros_lst)\n",
    "                new_context.extend(defnite_positve_lst)\n",
    "\n",
    "            elif method == 'method5':\n",
    "                new_context.extend(initial_zeros_lst)\n",
    "                new_context.extend(defnite_positve_lst)\n",
    "                new_context.extend(semi_positive_lst)\n",
    "                new_context.extend(semi_negative_lst)\n",
    "\n",
    "            elif method == 'method6':\n",
    "                new_context.extend(initial_zeros_lst)\n",
    "                new_context.extend(defnite_positve_lst)\n",
    "                new_context.extend(semi_negative_lst)\n",
    "\n",
    "            new_context.sort()\n",
    "            if [item for item, count in collections.Counter(new_context).items() if count > 1]:\n",
    "                print('Duplicates index!')\n",
    "            else:\n",
    "                new_context_lst = [instances_[i]for i in new_context]\n",
    "\n",
    "            template_dict['ctxs'] = new_context_lst\n",
    "            output_format.append(template_dict)\n",
    "    return output_format"
   ]
  },
  {
   "cell_type": "code",
   "execution_count": null,
   "id": "5b4ac51a",
   "metadata": {},
   "outputs": [],
   "source": [
    "method_lst = [\n",
    "    'method1',\n",
    "    'method2',\n",
    "    'method3',\n",
    "    'method4',\n",
    "    'method5',\n",
    "    'method6']"
   ]
  },
  {
   "cell_type": "code",
   "execution_count": null,
   "id": "6aa4ce83",
   "metadata": {},
   "outputs": [],
   "source": [
    "output_path"
   ]
  },
  {
   "cell_type": "code",
   "execution_count": null,
   "id": "9ee95f94",
   "metadata": {},
   "outputs": [],
   "source": [
    "check_method = []\n",
    "for method in method_lst:\n",
    "\n",
    "    filename = f'{method}.json'\n",
    "    output_file = os.path.join(output_path, filename)\n",
    "    print(output_file)\n",
    "    output_data = build_data_2(input_, method)\n",
    "    check_method.append(output_data)\n",
    "    utils.save_json(output_data, output_file)\n",
    "    print(f'{output_file} saved')\n",
    "            "
   ]
  },
  {
   "cell_type": "markdown",
   "id": "c375c248",
   "metadata": {},
   "source": [
    "## Mtehod1 Verify"
   ]
  },
  {
   "cell_type": "code",
   "execution_count": null,
   "id": "bfdc2fc6",
   "metadata": {},
   "outputs": [],
   "source": [
    "def m1_v(output_format):\n",
    "    for iins_ in output_format:\n",
    "        check_counter = collections.Counter(iins_['em_pattern'])\n",
    "        if check_counter['1'] == 0 and len(iins_['ctxs']) != 100:\n",
    "            print('context not 100 when no answer')\n",
    "        if check_counter['1'] > 1 and check_counter['1'] != len(iins_['ctxs']):\n",
    "            print('context number not match')\n",
    "        check_counter = None"
   ]
  },
  {
   "cell_type": "code",
   "execution_count": null,
   "id": "fbc5f81d",
   "metadata": {},
   "outputs": [],
   "source": [
    "m1_v(check_method[0])"
   ]
  },
  {
   "cell_type": "markdown",
   "id": "1e3277be",
   "metadata": {},
   "source": [
    "## Mtehod2 Verify"
   ]
  },
  {
   "cell_type": "code",
   "execution_count": null,
   "id": "0a5a3d40",
   "metadata": {},
   "outputs": [],
   "source": [
    "def m2_v(output_format):\n",
    "    for iins_ in output_format:\n",
    "        positive_pos, negative_pos = get_definite_pos_neg(iins_['em_pattern'])\n",
    "        check_counter = collections.Counter(iins_['em_pattern']) \n",
    "        if check_counter['0'] == 100 and len(iins_['ctxs']) != 100:\n",
    "            print('context not 100 when no answer')\n",
    "        if check_counter['0'] != 100 and len(iins_['ctxs']) != len(positive_pos):\n",
    "            print(positive_pos)\n",
    "            print(len(iins_['ctxs']))\n",
    "            print('context number not match')\n",
    "        check_counter = None"
   ]
  },
  {
   "cell_type": "code",
   "execution_count": null,
   "id": "d63cb29f",
   "metadata": {},
   "outputs": [],
   "source": [
    "m2_v(check_method[1])"
   ]
  },
  {
   "cell_type": "markdown",
   "id": "353e6ab8",
   "metadata": {},
   "source": [
    "## Mtehod3 Verify"
   ]
  },
  {
   "cell_type": "code",
   "execution_count": null,
   "id": "f7d09a74",
   "metadata": {},
   "outputs": [],
   "source": [
    "def m3_v(output_format):\n",
    "    for iins_ in output_format:\n",
    "        positive_pos, negative_pos = get_definite_pos_neg(iins_['em_pattern'])\n",
    "        semi_pos = get_semi_pos(iins_['em_pattern'])\n",
    "        num_undecisive = len(iins_['em_pattern']) - len(iins_['em_pattern'].lstrip('0'))\n",
    "        \n",
    "        if num_undecisive == 100 and len(iins_['ctxs']) != 100:\n",
    "            print('context not 100 when no answer')\n",
    "        if num_undecisive != 100 and len(iins_['ctxs']) != len(positive_pos) + len(semi_pos) + num_undecisive:\n",
    "            print(iins_['em_pattern'])\n",
    "            print(len(positive_pos))\n",
    "            print(len(semi_pos))\n",
    "            print(num_undecisive)\n",
    "            print(len(iins_['ctxs']))\n",
    "            print('context number not match')"
   ]
  },
  {
   "cell_type": "code",
   "execution_count": null,
   "id": "e7700f40",
   "metadata": {},
   "outputs": [],
   "source": [
    "m3_v(check_method[2])"
   ]
  },
  {
   "cell_type": "markdown",
   "id": "21572f3c",
   "metadata": {},
   "source": [
    "## Method4 Verify"
   ]
  },
  {
   "cell_type": "code",
   "execution_count": null,
   "id": "b470dccf",
   "metadata": {},
   "outputs": [],
   "source": [
    "def m4_v(output_format):\n",
    "    for iins_ in output_format:\n",
    "        positive_pos, negative_pos = get_definite_pos_neg(iins_['em_pattern'])\n",
    "        num_undecisive = len(iins_['em_pattern']) - len(iins_['em_pattern'].lstrip('0'))\n",
    "        \n",
    "        if num_undecisive == 100 and len(iins_['ctxs']) != 100:\n",
    "            print('context not 100 when no answer')\n",
    "        if num_undecisive != 100 and len(iins_['ctxs']) != len(positive_pos) + num_undecisive:\n",
    "            print(iins_['em_pattern'])\n",
    "            print(len(positive_pos))\n",
    "            print(len(semi_pos))\n",
    "            print(num_undecisive)\n",
    "            print(len(iins_['ctxs']))\n",
    "            print('context number not match')"
   ]
  },
  {
   "cell_type": "code",
   "execution_count": null,
   "id": "78745d74",
   "metadata": {},
   "outputs": [],
   "source": [
    "m4_v(check_method[3])"
   ]
  },
  {
   "cell_type": "markdown",
   "id": "12dea432",
   "metadata": {},
   "source": [
    "## Method5 Verify"
   ]
  },
  {
   "cell_type": "code",
   "execution_count": null,
   "id": "e8e95e83",
   "metadata": {},
   "outputs": [],
   "source": [
    "def m5_v(output_format):\n",
    "    for iins_ in output_format:\n",
    "        positive_pos, negative_pos = get_definite_pos_neg(iins_['em_pattern'])\n",
    "        semi_pos = get_semi_pos(iins_['em_pattern'])\n",
    "        num_undecisive = len(iins_['em_pattern']) - len(iins_['em_pattern'].lstrip('0'))\n",
    "        semi_neg = get_semi_neg(iins_['em_pattern'], num_undecisive)\n",
    "            \n",
    "        if num_undecisive == 100 and len(iins_['ctxs']) != 100:\n",
    "            print('context not 100 when no answer')\n",
    "        if num_undecisive != 100 and len(iins_['ctxs']) != len(positive_pos) + len(semi_pos) + len(semi_neg) + num_undecisive:\n",
    "            print(iins_['em_pattern'])\n",
    "            print(len(positive_pos))\n",
    "            print(len(semi_pos))\n",
    "            print(num_undecisive)\n",
    "            print(len(iins_['ctxs']))\n",
    "            print('context number not match')"
   ]
  },
  {
   "cell_type": "code",
   "execution_count": null,
   "id": "821dfb21",
   "metadata": {},
   "outputs": [],
   "source": [
    "m5_v(check_method[4])"
   ]
  },
  {
   "cell_type": "markdown",
   "id": "12a999e8",
   "metadata": {},
   "source": [
    "## Method6 Verify"
   ]
  },
  {
   "cell_type": "code",
   "execution_count": null,
   "id": "8ded5519",
   "metadata": {},
   "outputs": [],
   "source": [
    "def m6_v(output_format):\n",
    "    for iins_ in output_format:\n",
    "        positive_pos, negative_pos = get_definite_pos_neg(iins_['em_pattern'])\n",
    "#         semi_pos = get_semi_pos(iins_['em_pattern'])\n",
    "        num_undecisive = len(iins_['em_pattern']) - len(iins_['em_pattern'].lstrip('0'))\n",
    "        semi_neg = get_semi_neg(iins_['em_pattern'], num_undecisive)\n",
    "            \n",
    "        if num_undecisive == 100 and len(iins_['ctxs']) != 100:\n",
    "            print('context not 100 when no answer')\n",
    "        if num_undecisive != 100 and len(iins_['ctxs']) != len(positive_pos) + len(semi_neg) + num_undecisive:\n",
    "            print(iins_['em_pattern'])\n",
    "            print(len(positive_pos))\n",
    "            print(len(semi_pos))\n",
    "            print(num_undecisive)\n",
    "            print(len(iins_['ctxs']))\n",
    "            print('context number not match')"
   ]
  },
  {
   "cell_type": "code",
   "execution_count": null,
   "id": "c580a425",
   "metadata": {},
   "outputs": [],
   "source": [
    "m6_v(check_method[5])"
   ]
  },
  {
   "cell_type": "code",
   "execution_count": null,
   "id": "53a6ea79",
   "metadata": {},
   "outputs": [],
   "source": [
    "# output_path"
   ]
  },
  {
   "cell_type": "code",
   "execution_count": null,
   "id": "b8a11fe5",
   "metadata": {},
   "outputs": [],
   "source": [
    "# for "
   ]
  },
  {
   "cell_type": "code",
   "execution_count": null,
   "id": "4d61652a",
   "metadata": {},
   "outputs": [],
   "source": []
  },
  {
   "cell_type": "code",
   "execution_count": null,
   "id": "dce6a1b4",
   "metadata": {},
   "outputs": [],
   "source": []
  },
  {
   "cell_type": "code",
   "execution_count": null,
   "id": "da4b3e6e",
   "metadata": {},
   "outputs": [],
   "source": []
  },
  {
   "cell_type": "code",
   "execution_count": null,
   "id": "0a135b9d",
   "metadata": {},
   "outputs": [],
   "source": []
  },
  {
   "cell_type": "code",
   "execution_count": null,
   "id": "1e49df3d",
   "metadata": {},
   "outputs": [],
   "source": []
  },
  {
   "cell_type": "code",
   "execution_count": null,
   "id": "2c005a09",
   "metadata": {},
   "outputs": [],
   "source": []
  },
  {
   "cell_type": "code",
   "execution_count": null,
   "id": "2566cc72",
   "metadata": {},
   "outputs": [],
   "source": []
  },
  {
   "cell_type": "code",
   "execution_count": null,
   "id": "f5461993",
   "metadata": {},
   "outputs": [],
   "source": []
  },
  {
   "cell_type": "code",
   "execution_count": null,
   "id": "7e8223a9",
   "metadata": {},
   "outputs": [],
   "source": []
  },
  {
   "cell_type": "code",
   "execution_count": null,
   "id": "b8230c04",
   "metadata": {},
   "outputs": [],
   "source": []
  },
  {
   "cell_type": "code",
   "execution_count": null,
   "id": "dfe6a751",
   "metadata": {},
   "outputs": [],
   "source": []
  },
  {
   "cell_type": "code",
   "execution_count": null,
   "id": "104cad32",
   "metadata": {},
   "outputs": [],
   "source": []
  },
  {
   "cell_type": "code",
   "execution_count": null,
   "id": "a4f004d5",
   "metadata": {},
   "outputs": [],
   "source": []
  }
 ],
 "metadata": {
  "kernelspec": {
   "display_name": "relevance-kilt",
   "language": "python",
   "name": "relevance-kilt"
  },
  "language_info": {
   "codemirror_mode": {
    "name": "ipython",
    "version": 3
   },
   "file_extension": ".py",
   "mimetype": "text/x-python",
   "name": "python",
   "nbconvert_exporter": "python",
   "pygments_lexer": "ipython3",
   "version": "3.8.13"
  }
 },
 "nbformat": 4,
 "nbformat_minor": 5
}
