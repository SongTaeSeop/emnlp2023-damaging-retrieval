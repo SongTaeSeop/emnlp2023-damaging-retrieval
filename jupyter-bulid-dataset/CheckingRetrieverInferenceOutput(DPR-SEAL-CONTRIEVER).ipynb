{
 "cells": [
  {
   "cell_type": "markdown",
   "id": "e86601ea",
   "metadata": {},
   "source": [
    "# CheckingRetrieverInferenceOutput(DPR-SEAL-CONTRIEVER)"
   ]
  },
  {
   "cell_type": "markdown",
   "id": "c49f712c",
   "metadata": {},
   "source": [
    "    - Checking Inference Output on each DPR/SEAL/CONTRIEVER (O : Done, X : Needs checking)\n",
    "|Data|NQ-DEV|NQ-TEST|\n",
    "|------|---|---|\n",
    "|DPR|O|O|\n",
    "|SEAL|O|O|\n",
    "|CONTRIEVER|O|O|\n",
    "\n",
    "|Data|TQA-DEV|TQA-TEST|\n",
    "|------|---|---|\n",
    "|DPR|O|O|\n",
    "|SEAL|O|O|\n",
    "|CONTRIEVER|O|O|\n"
   ]
  },
  {
   "cell_type": "code",
   "execution_count": 15,
   "id": "45799c7c",
   "metadata": {},
   "outputs": [],
   "source": [
    "import json\n",
    "from pprint import pprint\n",
    "import torch\n",
    "import numpy as np\n",
    "import random\n",
    "from copy import deepcopy\n",
    "from util import utils"
   ]
  },
  {
   "cell_type": "code",
   "execution_count": 16,
   "id": "7dbe6e12",
   "metadata": {},
   "outputs": [],
   "source": [
    "def open_jsonl(file):\n",
    "    data = []\n",
    "    with open(file, \"r\") as fin:\n",
    "        for k, example in enumerate(fin):\n",
    "            example = json.loads(example)\n",
    "            data.append(example)\n",
    "    return data"
   ]
  },
  {
   "cell_type": "code",
   "execution_count": 17,
   "id": "27e8c461",
   "metadata": {},
   "outputs": [],
   "source": [
    "def check_status(instances):\n",
    "    print(len(instances))\n",
    "    print(instances[-1].keys())"
   ]
  },
  {
   "cell_type": "markdown",
   "id": "ec2e0b88",
   "metadata": {},
   "source": [
    "# Contriever"
   ]
  },
  {
   "cell_type": "markdown",
   "id": "eddb0771",
   "metadata": {},
   "source": [
    "## contriever NQ  retrieved\n",
    "    - dev_file : /data/philhoon-relevance/contriever/NQ/contriever-msmarco/dev.json\n",
    "    - test_file : /data/philhoon-relevance/contriever/NQ/contriever-msmarco/test.json"
   ]
  },
  {
   "cell_type": "code",
   "execution_count": 20,
   "id": "d318f308",
   "metadata": {},
   "outputs": [],
   "source": [
    "contriever_nq_dev_file = '/data/philhoon-relevance/contriever/NQ/contriever-msmarco/dev.jsonl'\n",
    "contriever_nq_test_file = '/data/philhoon-relevance/contriever/NQ/contriever-msmarco/test.jsonl'"
   ]
  },
  {
   "cell_type": "code",
   "execution_count": 21,
   "id": "322ae4df",
   "metadata": {},
   "outputs": [],
   "source": [
    "contriever_nq_dev = open_jsonl(contriever_nq_dev_file)\n",
    "contriever_nq_test = open_jsonl(contriever_nq_test_file)"
   ]
  },
  {
   "cell_type": "code",
   "execution_count": 22,
   "id": "142457bf",
   "metadata": {},
   "outputs": [
    {
     "name": "stdout",
     "output_type": "stream",
     "text": [
      "8757\n",
      "dict_keys(['question', 'answers', 'ctxs'])\n"
     ]
    }
   ],
   "source": [
    "check_status(contriever_nq_dev)"
   ]
  },
  {
   "cell_type": "code",
   "execution_count": 23,
   "id": "866cceb4",
   "metadata": {},
   "outputs": [
    {
     "name": "stdout",
     "output_type": "stream",
     "text": [
      "3610\n",
      "dict_keys(['question', 'answers', 'ctxs'])\n"
     ]
    }
   ],
   "source": [
    "check_status(contriever_nq_test)"
   ]
  },
  {
   "cell_type": "markdown",
   "id": "28d00b7e",
   "metadata": {},
   "source": [
    "## contriever TQA  retrieved\n",
    "    - dev_file : /data/philhoon-relevance/contriever/TQA/contriever-msmarco/dev.json\n",
    "    - test_file : /data/philhoon-relevance/contriever/TQA/contriever-msmarco/test.json"
   ]
  },
  {
   "cell_type": "code",
   "execution_count": 26,
   "id": "3c23fecd",
   "metadata": {},
   "outputs": [],
   "source": [
    "contriever_tqa_dev_file = '/data/philhoon-relevance/contriever/TQA/contriever-msmarco/dev.jsonl'\n",
    "contriever_tqa_test_file = '/data/philhoon-relevance/contriever/TQA/contriever-msmarco/test.jsonl'"
   ]
  },
  {
   "cell_type": "code",
   "execution_count": 27,
   "id": "daa221ec",
   "metadata": {},
   "outputs": [],
   "source": [
    "contriever_tqa_dev = open_jsonl(contriever_tqa_dev_file)\n",
    "contriever_tqa_test = open_jsonl(contriever_tqa_test_file)"
   ]
  },
  {
   "cell_type": "code",
   "execution_count": 28,
   "id": "5354882f",
   "metadata": {},
   "outputs": [
    {
     "name": "stdout",
     "output_type": "stream",
     "text": [
      "8837\n",
      "dict_keys(['question', 'answers', 'target', 'ctxs'])\n"
     ]
    }
   ],
   "source": [
    "check_status(contriever_tqa_dev)"
   ]
  },
  {
   "cell_type": "code",
   "execution_count": 29,
   "id": "30537119",
   "metadata": {},
   "outputs": [
    {
     "name": "stdout",
     "output_type": "stream",
     "text": [
      "11313\n",
      "dict_keys(['question', 'answers', 'target', 'ctxs'])\n"
     ]
    }
   ],
   "source": [
    "check_status(contriever_tqa_test)"
   ]
  },
  {
   "cell_type": "markdown",
   "id": "d3891f68",
   "metadata": {},
   "source": [
    "# DPR"
   ]
  },
  {
   "cell_type": "markdown",
   "id": "8847a9e3",
   "metadata": {},
   "source": [
    "## DPR NQ retrieved \n",
    "    - dev_file : /data/philhoon-relevance/FiD/open_domain_data/NQ/dev.json\n",
    "    - test_file : /data/philhoon-relevance/FiD/open_domain_data/NQ/test.json"
   ]
  },
  {
   "cell_type": "code",
   "execution_count": 41,
   "id": "016f8147",
   "metadata": {},
   "outputs": [],
   "source": [
    "dpr_nq_dev_file = '/data/philhoon-relevance/FiD/open_domain_data/NQ/dev.json'\n",
    "dpr_nq_test_file = '/data/philhoon-relevance/FiD/open_domain_data/NQ/test.json'"
   ]
  },
  {
   "cell_type": "code",
   "execution_count": 42,
   "id": "91856559",
   "metadata": {},
   "outputs": [],
   "source": [
    "dpr_nq_dpr_dev = utils.open_json(dpr_nq_dev_file)\n",
    "dpr_nq_dpr_test = utils.open_json(dpr_nq_test_file)"
   ]
  },
  {
   "cell_type": "code",
   "execution_count": 43,
   "id": "d98b5e68",
   "metadata": {},
   "outputs": [
    {
     "name": "stdout",
     "output_type": "stream",
     "text": [
      "8757\n",
      "dict_keys(['question', 'answers', 'ctxs'])\n"
     ]
    }
   ],
   "source": [
    "check_status(dpr_nq_dpr_dev)"
   ]
  },
  {
   "cell_type": "code",
   "execution_count": 44,
   "id": "6e859eda",
   "metadata": {},
   "outputs": [
    {
     "name": "stdout",
     "output_type": "stream",
     "text": [
      "3610\n",
      "dict_keys(['question', 'answers', 'ctxs'])\n"
     ]
    }
   ],
   "source": [
    "check_status(dpr_nq_dpr_test)"
   ]
  },
  {
   "cell_type": "markdown",
   "id": "aa507680",
   "metadata": {},
   "source": [
    "## DPR TQA  retrieved \n",
    "    - dev_file : /data/philhoon-relevance/FiD/open_domain_data/TQA/dev.json\n",
    "    - test_file : /data/philhoon-relevance/FiD/open_domain_data/TQA/test.json\n"
   ]
  },
  {
   "cell_type": "code",
   "execution_count": 37,
   "id": "1d3826e0",
   "metadata": {},
   "outputs": [],
   "source": [
    "dpr_tqa_dev_file = '/data/philhoon-relevance/FiD/open_domain_data/TQA/dev.json'\n",
    "dpr_tqa_test_file = '/data/philhoon-relevance/FiD/open_domain_data/TQA/test.json'"
   ]
  },
  {
   "cell_type": "code",
   "execution_count": 38,
   "id": "807be58e",
   "metadata": {},
   "outputs": [],
   "source": [
    "dpr_tqa_dev = utils.open_json(dpr_tqa_dev_file)\n",
    "dpr_tqa_test = utils.open_json(dpr_tqa_test_file)"
   ]
  },
  {
   "cell_type": "code",
   "execution_count": 39,
   "id": "c5bc1803",
   "metadata": {},
   "outputs": [
    {
     "name": "stdout",
     "output_type": "stream",
     "text": [
      "8837\n",
      "dict_keys(['question', 'answers', 'target', 'ctxs'])\n"
     ]
    }
   ],
   "source": [
    "check_status(dpr_tqa_dev)"
   ]
  },
  {
   "cell_type": "code",
   "execution_count": 40,
   "id": "2f7b2451",
   "metadata": {},
   "outputs": [
    {
     "name": "stdout",
     "output_type": "stream",
     "text": [
      "11313\n",
      "dict_keys(['question', 'answers', 'target', 'ctxs'])\n"
     ]
    }
   ],
   "source": [
    "check_status(dpr_tqa_test)"
   ]
  },
  {
   "cell_type": "markdown",
   "id": "c11f7d46",
   "metadata": {},
   "source": [
    "# SEAL"
   ]
  },
  {
   "cell_type": "markdown",
   "id": "7b9b9c60",
   "metadata": {},
   "source": [
    "## SEAL NQ retrieved \n",
    "    - dev_file : /data/philhoon-relevance/SEAL/NQ/dev.json\n",
    "    - test_file : /data/philhoon-relevance/SEAL/NQ/test.json"
   ]
  },
  {
   "cell_type": "code",
   "execution_count": 50,
   "id": "7723de24",
   "metadata": {},
   "outputs": [],
   "source": [
    "seal_nq_dev_file = '/data/philhoon-relevance/SEAL/NQ/dev.json'\n",
    "seal_nq_test_file = '/data/philhoon-relevance/SEAL/NQ/test.json'"
   ]
  },
  {
   "cell_type": "code",
   "execution_count": 51,
   "id": "5ad8226f",
   "metadata": {},
   "outputs": [],
   "source": [
    "seal_nq_dpr_dev = utils.open_json(seal_nq_dev_file)\n",
    "seal_nq_dpr_test = utils.open_json(seal_nq_test_file)"
   ]
  },
  {
   "cell_type": "code",
   "execution_count": 52,
   "id": "27d78efd",
   "metadata": {},
   "outputs": [
    {
     "name": "stdout",
     "output_type": "stream",
     "text": [
      "8757\n",
      "dict_keys(['question', 'answers', 'ctxs'])\n"
     ]
    }
   ],
   "source": [
    "check_status(seal_nq_dpr_dev)"
   ]
  },
  {
   "cell_type": "code",
   "execution_count": 53,
   "id": "80cc448d",
   "metadata": {},
   "outputs": [
    {
     "name": "stdout",
     "output_type": "stream",
     "text": [
      "3610\n",
      "dict_keys(['question', 'answers', 'ctxs'])\n"
     ]
    }
   ],
   "source": [
    "check_status(seal_nq_dpr_test)"
   ]
  },
  {
   "cell_type": "markdown",
   "id": "4ff128fe",
   "metadata": {},
   "source": [
    "## SEAL TQA retrieved \n",
    "    - dev_file : /data/philhoon-relevance/SEAL/TQA/dev.json\n",
    "    - test_file : /data/philhoon-relevance/SEAL/TQA/test.json"
   ]
  },
  {
   "cell_type": "code",
   "execution_count": 46,
   "id": "ab7da66f",
   "metadata": {},
   "outputs": [],
   "source": [
    "seal_tqa_dev_file = '/data/philhoon-relevance/SEAL/TQA/dev.json'\n",
    "seal_tqa_test_file = '/data/philhoon-relevance/SEAL/TQA/test.json'"
   ]
  },
  {
   "cell_type": "code",
   "execution_count": 47,
   "id": "bcacc7a3",
   "metadata": {},
   "outputs": [],
   "source": [
    "seal_tqa_dev = utils.open_json(seal_tqa_dev_file)\n",
    "seal_tqa_test = utils.open_json(seal_tqa_test_file)"
   ]
  },
  {
   "cell_type": "code",
   "execution_count": 48,
   "id": "7583645c",
   "metadata": {},
   "outputs": [
    {
     "name": "stdout",
     "output_type": "stream",
     "text": [
      "8837\n",
      "dict_keys(['question', 'answers', 'target', 'ctxs'])\n"
     ]
    }
   ],
   "source": [
    "check_status(dpr_tqa_dev)"
   ]
  },
  {
   "cell_type": "code",
   "execution_count": 49,
   "id": "fe03f811",
   "metadata": {},
   "outputs": [
    {
     "name": "stdout",
     "output_type": "stream",
     "text": [
      "11313\n",
      "dict_keys(['question', 'answers', 'target', 'ctxs'])\n"
     ]
    }
   ],
   "source": [
    "check_status(dpr_tqa_test)"
   ]
  },
  {
   "cell_type": "code",
   "execution_count": 55,
   "id": "6f9c14ff",
   "metadata": {
    "scrolled": false
   },
   "outputs": [],
   "source": [
    "# dpr_tqa_dev[0]"
   ]
  }
 ],
 "metadata": {
  "kernelspec": {
   "display_name": "relevance",
   "language": "python",
   "name": "relevance"
  },
  "language_info": {
   "codemirror_mode": {
    "name": "ipython",
    "version": 3
   },
   "file_extension": ".py",
   "mimetype": "text/x-python",
   "name": "python",
   "nbconvert_exporter": "python",
   "pygments_lexer": "ipython3",
   "version": "3.8.13"
  }
 },
 "nbformat": 4,
 "nbformat_minor": 5
}
