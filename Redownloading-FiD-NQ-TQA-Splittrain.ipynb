{
 "cells": [
  {
   "cell_type": "code",
   "execution_count": 1,
   "id": "5f192d32",
   "metadata": {},
   "outputs": [],
   "source": [
    "from util.utils import open_json, save_json"
   ]
  },
  {
   "cell_type": "code",
   "execution_count": 2,
   "id": "d0026e5c",
   "metadata": {},
   "outputs": [],
   "source": [
    "from copy import deepcopy\n",
    "from pprint import pprint\n",
    "import random"
   ]
  },
  {
   "cell_type": "markdown",
   "id": "24564a4f",
   "metadata": {},
   "source": [
    "## REVERSED"
   ]
  },
  {
   "cell_type": "code",
   "execution_count": 3,
   "id": "de1668c2",
   "metadata": {},
   "outputs": [],
   "source": [
    "PATH = '/projects/relevance-retrieval/data/FiD/open_domain_data/re-downloading/wiki_passages/TQA/train_chunks/train_0.json'"
   ]
  },
  {
   "cell_type": "code",
   "execution_count": 4,
   "id": "c2b1d32d",
   "metadata": {},
   "outputs": [],
   "source": [
    "data = open_json(PATH)"
   ]
  },
  {
   "cell_type": "code",
   "execution_count": 5,
   "id": "3cd16d4c",
   "metadata": {
    "scrolled": false
   },
   "outputs": [
    {
     "data": {
      "text/plain": [
       "dict_keys(['question', 'answers', 'target', 'ctxs'])"
      ]
     },
     "execution_count": 5,
     "metadata": {},
     "output_type": "execute_result"
    }
   ],
   "source": [
    "data[0].keys()"
   ]
  },
  {
   "cell_type": "code",
   "execution_count": 6,
   "id": "ac8a6897",
   "metadata": {},
   "outputs": [],
   "source": [
    "copied_data = deepcopy(data)"
   ]
  },
  {
   "cell_type": "code",
   "execution_count": null,
   "id": "817724de",
   "metadata": {
    "scrolled": false
   },
   "outputs": [],
   "source": [
    "# for instance in copied_data:\n",
    "#     context_rever = instance['ctxs'][::-1]\n",
    "#     instance['ctxs'] = context_rever"
   ]
  },
  {
   "cell_type": "code",
   "execution_count": null,
   "id": "1d919b8b",
   "metadata": {},
   "outputs": [],
   "source": [
    "# save_path = '/projects/relevance-retrieval/data/FiD/open_domain_data/re-downloading/wiki_passages/TQA/train_chunks/train_0_rev.json'"
   ]
  },
  {
   "cell_type": "code",
   "execution_count": null,
   "id": "c6ececf9",
   "metadata": {},
   "outputs": [],
   "source": [
    "# save_json(copied_data, save_path)"
   ]
  },
  {
   "cell_type": "code",
   "execution_count": null,
   "id": "0f80e335",
   "metadata": {},
   "outputs": [],
   "source": [
    "# ref = open_json(PATH)"
   ]
  },
  {
   "cell_type": "code",
   "execution_count": null,
   "id": "4d88a28e",
   "metadata": {},
   "outputs": [],
   "source": [
    "# saved = open_json(save_path)"
   ]
  },
  {
   "cell_type": "code",
   "execution_count": null,
   "id": "f6a796d7",
   "metadata": {},
   "outputs": [],
   "source": [
    "# ref[0]['ctxs'][-3:]"
   ]
  },
  {
   "cell_type": "code",
   "execution_count": null,
   "id": "4a8cad33",
   "metadata": {},
   "outputs": [],
   "source": [
    "# saved[0]['ctxs'][:3]"
   ]
  },
  {
   "cell_type": "markdown",
   "id": "47bc7e55",
   "metadata": {},
   "source": [
    "## ALL Random"
   ]
  },
  {
   "cell_type": "code",
   "execution_count": null,
   "id": "58c42207",
   "metadata": {},
   "outputs": [],
   "source": [
    "# random.seed(42)"
   ]
  },
  {
   "cell_type": "code",
   "execution_count": null,
   "id": "4646188c",
   "metadata": {
    "scrolled": false
   },
   "outputs": [],
   "source": [
    "# i = 0\n",
    "# for instance in copied_data:\n",
    "# #     pprint(instance['ctxs'][:3])\n",
    "#     random.shuffle(instance['ctxs'])\n",
    "# #     print('---')\n",
    "# #     pprint(instance['ctxs'][:3])\n",
    "# #     i += 1\n",
    "# #     if i ==3:\n",
    "# #         break\n",
    "# #     print('----')"
   ]
  },
  {
   "cell_type": "code",
   "execution_count": null,
   "id": "93db37d8",
   "metadata": {},
   "outputs": [],
   "source": [
    "# save_path = '/projects/relevance-retrieval/data/FiD/open_domain_data/re-downloading/wiki_passages/TQA/train_chunks/train_0_all_random.json'"
   ]
  },
  {
   "cell_type": "code",
   "execution_count": null,
   "id": "95a99f34",
   "metadata": {},
   "outputs": [],
   "source": [
    "# save_json(copied_data, save_path)"
   ]
  },
  {
   "cell_type": "code",
   "execution_count": null,
   "id": "484cbbaa",
   "metadata": {},
   "outputs": [],
   "source": [
    "# ref = open_json(PATH)"
   ]
  },
  {
   "cell_type": "code",
   "execution_count": null,
   "id": "1f0fbd3d",
   "metadata": {},
   "outputs": [],
   "source": [
    "# saved = open_json(save_path)"
   ]
  },
  {
   "cell_type": "code",
   "execution_count": null,
   "id": "a9cbd252",
   "metadata": {},
   "outputs": [],
   "source": [
    "# ref[0]['ctxs'][:3]"
   ]
  },
  {
   "cell_type": "code",
   "execution_count": null,
   "id": "38805bf3",
   "metadata": {},
   "outputs": [],
   "source": [
    "# saved[0]['ctxs'][:3]"
   ]
  },
  {
   "cell_type": "markdown",
   "id": "680cb6c5",
   "metadata": {},
   "source": [
    "## Same Random "
   ]
  },
  {
   "cell_type": "code",
   "execution_count": 7,
   "id": "0b849ad0",
   "metadata": {},
   "outputs": [],
   "source": [
    "random.seed(42)"
   ]
  },
  {
   "cell_type": "code",
   "execution_count": 8,
   "id": "4ebf7224",
   "metadata": {},
   "outputs": [],
   "source": [
    "b = list(range(0, 100))"
   ]
  },
  {
   "cell_type": "code",
   "execution_count": 9,
   "id": "fcb9c985",
   "metadata": {},
   "outputs": [],
   "source": [
    "# random.shuffle(b)"
   ]
  },
  {
   "cell_type": "code",
   "execution_count": 10,
   "id": "7614e4b7",
   "metadata": {},
   "outputs": [],
   "source": [
    "# b"
   ]
  },
  {
   "cell_type": "code",
   "execution_count": 11,
   "id": "fde081fe",
   "metadata": {
    "scrolled": false
   },
   "outputs": [
    {
     "name": "stdout",
     "output_type": "stream",
     "text": [
      "/projects/relevance-retrieval/data/FiD/open_domain_data/re-downloading/wiki_passages/TQA/train_chunks/train_0_random_0.json\n",
      "/projects/relevance-retrieval/data/FiD/open_domain_data/re-downloading/wiki_passages/TQA/train_chunks/train_0_random_1.json\n",
      "/projects/relevance-retrieval/data/FiD/open_domain_data/re-downloading/wiki_passages/TQA/train_chunks/train_0_random_2.json\n",
      "/projects/relevance-retrieval/data/FiD/open_domain_data/re-downloading/wiki_passages/TQA/train_chunks/train_0_random_3.json\n",
      "/projects/relevance-retrieval/data/FiD/open_domain_data/re-downloading/wiki_passages/TQA/train_chunks/train_0_random_4.json\n"
     ]
    }
   ],
   "source": [
    "for i in range(0,5):\n",
    "    random.shuffle(b)\n",
    "    save_path = f'/projects/relevance-retrieval/data/FiD/open_domain_data/re-downloading/wiki_passages/TQA/train_chunks/train_0_random_{i}.json'\n",
    "    for instance in copied_data:\n",
    "        a = instance['ctxs']\n",
    "        # pprint(a[:3])\n",
    "        sorted_list = [x for _, x in sorted(zip(b, a))]\n",
    "        instance['ctxs'] = sorted_list\n",
    "        # print('--------')\n",
    "        # pprint(sorted_list[:3])\n",
    "    print(save_path)\n",
    "    save_json(copied_data, save_path)"
   ]
  },
  {
   "cell_type": "code",
   "execution_count": 12,
   "id": "0bb95339",
   "metadata": {},
   "outputs": [],
   "source": [
    "save_path_1 = '/projects/relevance-retrieval/data/FiD/open_domain_data/re-downloading/wiki_passages/TQA/train_chunks/train_0_random_0.json'\n",
    "save_path_2 = '/projects/relevance-retrieval/data/FiD/open_domain_data/re-downloading/wiki_passages/TQA/train_chunks/train_0_random_1.json'\n",
    "save_path_3 = '/projects/relevance-retrieval/data/FiD/open_domain_data/re-downloading/wiki_passages/TQA/train_chunks/train_0_random_2.json'\n",
    "save_path_4 = '/projects/relevance-retrieval/data/FiD/open_domain_data/re-downloading/wiki_passages/TQA/train_chunks/train_0_random_3.json'\n",
    "save_path_5 = '/projects/relevance-retrieval/data/FiD/open_domain_data/re-downloading/wiki_passages/TQA/train_chunks/train_0_random_4.json'"
   ]
  },
  {
   "cell_type": "code",
   "execution_count": 13,
   "id": "c2f2adff",
   "metadata": {},
   "outputs": [],
   "source": [
    "ref = open_json(PATH)"
   ]
  },
  {
   "cell_type": "code",
   "execution_count": 14,
   "id": "e22ca305",
   "metadata": {},
   "outputs": [],
   "source": [
    "saved1 = open_json(save_path_1)\n",
    "saved2 = open_json(save_path_2)\n",
    "saved3 = open_json(save_path_3)\n",
    "saved4 = open_json(save_path_4)\n",
    "saved5 = open_json(save_path_5)"
   ]
  },
  {
   "cell_type": "code",
   "execution_count": 15,
   "id": "82b54d7c",
   "metadata": {},
   "outputs": [],
   "source": [
    "i = 20"
   ]
  },
  {
   "cell_type": "code",
   "execution_count": 16,
   "id": "bcb43493",
   "metadata": {},
   "outputs": [
    {
     "name": "stdout",
     "output_type": "stream",
     "text": [
      "10404397\n",
      "525803\n",
      "12368162\n",
      "525744\n",
      "2481618\n",
      "525737\n"
     ]
    }
   ],
   "source": [
    "print(ref[0]['ctxs'][i]['id'])\n",
    "print(saved1[0]['ctxs'][i]['id'])\n",
    "print(saved2[0]['ctxs'][i]['id'])\n",
    "print(saved3[0]['ctxs'][i]['id'])\n",
    "print(saved4[0]['ctxs'][i]['id'])\n",
    "print(saved5[0]['ctxs'][i]['id'])"
   ]
  },
  {
   "cell_type": "code",
   "execution_count": null,
   "id": "36eb0230",
   "metadata": {},
   "outputs": [],
   "source": []
  },
  {
   "cell_type": "code",
   "execution_count": null,
   "id": "96dd2f8b",
   "metadata": {},
   "outputs": [],
   "source": []
  },
  {
   "cell_type": "code",
   "execution_count": null,
   "id": "c1c12864",
   "metadata": {},
   "outputs": [],
   "source": [
    "# copied_data[0]['ctxs'][:5]"
   ]
  },
  {
   "cell_type": "code",
   "execution_count": null,
   "id": "b204cc31",
   "metadata": {},
   "outputs": [],
   "source": []
  },
  {
   "cell_type": "code",
   "execution_count": null,
   "id": "cdee4da1",
   "metadata": {},
   "outputs": [],
   "source": []
  },
  {
   "cell_type": "code",
   "execution_count": null,
   "id": "88676d67",
   "metadata": {},
   "outputs": [],
   "source": []
  },
  {
   "cell_type": "code",
   "execution_count": null,
   "id": "d74bd1a0",
   "metadata": {},
   "outputs": [],
   "source": []
  },
  {
   "cell_type": "code",
   "execution_count": null,
   "id": "0e2a93a1",
   "metadata": {},
   "outputs": [],
   "source": []
  },
  {
   "cell_type": "code",
   "execution_count": null,
   "id": "68222f7f",
   "metadata": {},
   "outputs": [],
   "source": []
  },
  {
   "cell_type": "code",
   "execution_count": null,
   "id": "f19e4cb9",
   "metadata": {},
   "outputs": [],
   "source": [
    "nq_path = '/projects/relevance-retrieval/data/FiD/open_domain_data/re-downloading/wiki_passages/NQ/train.json'"
   ]
  },
  {
   "cell_type": "code",
   "execution_count": null,
   "id": "8078bcc6",
   "metadata": {},
   "outputs": [],
   "source": [
    "import json"
   ]
  },
  {
   "cell_type": "code",
   "execution_count": null,
   "id": "b0e841ff",
   "metadata": {},
   "outputs": [],
   "source": [
    "from util.utils import open_json, save_json"
   ]
  },
  {
   "cell_type": "code",
   "execution_count": null,
   "id": "cc29626d",
   "metadata": {},
   "outputs": [],
   "source": [
    "data = open_json(nq_path)"
   ]
  },
  {
   "cell_type": "code",
   "execution_count": null,
   "id": "710bda7a",
   "metadata": {},
   "outputs": [],
   "source": [
    "len(data)"
   ]
  },
  {
   "cell_type": "code",
   "execution_count": null,
   "id": "8d370b74",
   "metadata": {
    "scrolled": false
   },
   "outputs": [],
   "source": [
    "# data[2]"
   ]
  },
  {
   "cell_type": "code",
   "execution_count": null,
   "id": "8c9fea70",
   "metadata": {},
   "outputs": [],
   "source": [
    "def chunk_lst(lst, chunk_size):\n",
    "    return [lst[i:i + chunk_size] for i in range(0, len(lst), chunk_size)]"
   ]
  },
  {
   "cell_type": "code",
   "execution_count": null,
   "id": "30f230b1",
   "metadata": {},
   "outputs": [],
   "source": [
    "train_chunk = chunk_lst(data, 10000)"
   ]
  },
  {
   "cell_type": "code",
   "execution_count": null,
   "id": "3183fa3f",
   "metadata": {},
   "outputs": [],
   "source": [
    "len(train_chunk)"
   ]
  },
  {
   "cell_type": "code",
   "execution_count": null,
   "id": "9386e7c5",
   "metadata": {},
   "outputs": [],
   "source": [
    "outpath = '/projects/relevance-retrieval/data/FiD/open_domain_data/re-downloading/wiki_passages/NQ/train_chunks'"
   ]
  },
  {
   "cell_type": "code",
   "execution_count": null,
   "id": "9e6c6cca",
   "metadata": {},
   "outputs": [],
   "source": [
    "for i in range(0, len(train_chunk)):\n",
    "    save_path = outpath + f'/train_{i}.json'\n",
    "    print(save_path)\n",
    "    save_json(train_chunk[i], save_path)\n"
   ]
  },
  {
   "cell_type": "code",
   "execution_count": null,
   "id": "bd3c4514",
   "metadata": {},
   "outputs": [],
   "source": [
    "save_path = '/projects/relevance-retrieval/data/FiD/open_domain_data/re-downloading/wiki_passages/NQ/train_chunks/train_7.json'"
   ]
  },
  {
   "cell_type": "code",
   "execution_count": null,
   "id": "3a7fa9d9",
   "metadata": {},
   "outputs": [],
   "source": [
    "data_7 = open_json(save_path)"
   ]
  },
  {
   "cell_type": "code",
   "execution_count": null,
   "id": "98d18a95",
   "metadata": {},
   "outputs": [],
   "source": [
    "len(data_7)"
   ]
  },
  {
   "cell_type": "code",
   "execution_count": null,
   "id": "49c9a918",
   "metadata": {
    "scrolled": false
   },
   "outputs": [],
   "source": [
    "# data_7[-1]"
   ]
  },
  {
   "cell_type": "code",
   "execution_count": null,
   "id": "267fb429",
   "metadata": {},
   "outputs": [],
   "source": []
  },
  {
   "cell_type": "code",
   "execution_count": null,
   "id": "e634b131",
   "metadata": {},
   "outputs": [],
   "source": []
  },
  {
   "cell_type": "code",
   "execution_count": null,
   "id": "0546e492",
   "metadata": {},
   "outputs": [],
   "source": []
  },
  {
   "cell_type": "code",
   "execution_count": null,
   "id": "670acfff",
   "metadata": {},
   "outputs": [],
   "source": []
  },
  {
   "cell_type": "code",
   "execution_count": null,
   "id": "01056b30",
   "metadata": {},
   "outputs": [],
   "source": [
    "tqa_path = '/projects/relevance-retrieval/data/FiD/open_domain_data/re-downloading/wiki_passages/TQA/train.json'"
   ]
  },
  {
   "cell_type": "code",
   "execution_count": null,
   "id": "b8c378cf",
   "metadata": {},
   "outputs": [],
   "source": [
    "tqa_data = open_json(tqa_path)"
   ]
  },
  {
   "cell_type": "code",
   "execution_count": null,
   "id": "ce8e855e",
   "metadata": {},
   "outputs": [],
   "source": [
    "print(len(tqa_data))"
   ]
  },
  {
   "cell_type": "code",
   "execution_count": null,
   "id": "85241ffc",
   "metadata": {},
   "outputs": [],
   "source": [
    "tqa_train_chunk = chunk_lst(tqa_data, 10000)\n",
    "print(len(tqa_train_chunk))"
   ]
  },
  {
   "cell_type": "code",
   "execution_count": null,
   "id": "6a122fb6",
   "metadata": {},
   "outputs": [],
   "source": [
    "outpath = '/projects/relevance-retrieval/data/FiD/open_domain_data/re-downloading/wiki_passages/TQA/train_chunks'"
   ]
  },
  {
   "cell_type": "code",
   "execution_count": null,
   "id": "42879436",
   "metadata": {},
   "outputs": [],
   "source": [
    "for i in range(0, len(tqa_train_chunk)):\n",
    "    save_path = outpath + f'/train_{i}.json'\n",
    "    print(save_path)\n",
    "    save_json(tqa_train_chunk[i], save_path)\n"
   ]
  },
  {
   "cell_type": "code",
   "execution_count": null,
   "id": "09d4915e",
   "metadata": {},
   "outputs": [],
   "source": [
    "save_path = '/projects/relevance-retrieval/data/FiD/open_domain_data/re-downloading/wiki_passages/TQA/train_chunks/train_7.json'"
   ]
  },
  {
   "cell_type": "code",
   "execution_count": null,
   "id": "05899f7a",
   "metadata": {},
   "outputs": [],
   "source": [
    "data_7 = open_json(save_path)"
   ]
  },
  {
   "cell_type": "code",
   "execution_count": null,
   "id": "87160817",
   "metadata": {},
   "outputs": [],
   "source": [
    "len(data_7)"
   ]
  },
  {
   "cell_type": "code",
   "execution_count": null,
   "id": "d15e2034",
   "metadata": {},
   "outputs": [],
   "source": []
  }
 ],
 "metadata": {
  "kernelspec": {
   "display_name": "relevance-kilt",
   "language": "python",
   "name": "relevance-kilt"
  },
  "language_info": {
   "codemirror_mode": {
    "name": "ipython",
    "version": 3
   },
   "file_extension": ".py",
   "mimetype": "text/x-python",
   "name": "python",
   "nbconvert_exporter": "python",
   "pygments_lexer": "ipython3",
   "version": "3.8.13"
  }
 },
 "nbformat": 4,
 "nbformat_minor": 5
}
