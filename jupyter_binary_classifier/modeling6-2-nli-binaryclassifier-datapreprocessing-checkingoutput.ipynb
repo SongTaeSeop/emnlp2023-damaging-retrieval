{
 "cells": [
  {
   "cell_type": "markdown",
   "id": "71651598",
   "metadata": {},
   "source": [
    "# modeling6-2-nli-binaryclassifier-datapreprocessing-checkingoutput\n",
    "- Based on modeling6-1-nli-binaryclassifier-datapreprocessing-checkingoutput\n",
    "- preparing new inputdata "
   ]
  },
  {
   "cell_type": "markdown",
   "id": "80cdfe6d",
   "metadata": {},
   "source": [
    "Previously, we get the training data by 1)\n",
    "\n",
    "    1) remove undecisive part (initial consecutive 0s)\n",
    "\t\te.g.) 001000010101 -> 1000010101\n",
    "\t\t\tNot working... -> roberta-large : learn nothing, FiDT5 : good training loss, but eval loss barely changes\n",
    "\n",
    "\t2) remove undecisive part + only using positive and damaging \n",
    "\t\te.g.) 001000010101 -> 10, 10, 10, 1"
   ]
  },
  {
   "cell_type": "markdown",
   "id": "8af27220",
   "metadata": {},
   "source": [
    "0011101000100100011\n",
    "\n",
    "    01* pattern -> extract 1\n",
    "    *10 pattern 0> extract 0\n",
    "    \n",
    "    Converting each data into binary dataset2"
   ]
  },
  {
   "cell_type": "code",
   "execution_count": null,
   "id": "0eb642f5",
   "metadata": {},
   "outputs": [],
   "source": []
  },
  {
   "cell_type": "code",
   "execution_count": null,
   "id": "84d2bd65",
   "metadata": {},
   "outputs": [],
   "source": []
  },
  {
   "cell_type": "code",
   "execution_count": 14,
   "id": "73f2ece3",
   "metadata": {},
   "outputs": [],
   "source": [
    "import os\n",
    "from util import utils\n",
    "from pprint import pprint\n",
    "import random\n",
    "from sklearn.model_selection import train_test_split\n",
    "from sklearn.model_selection import KFold"
   ]
  },
  {
   "cell_type": "markdown",
   "id": "2494f707",
   "metadata": {},
   "source": [
    "## Adding ID to query for tracking"
   ]
  },
  {
   "cell_type": "markdown",
   "id": "fd3f3c4a",
   "metadata": {},
   "source": [
    "### Dev"
   ]
  },
  {
   "cell_type": "code",
   "execution_count": 2,
   "id": "eab75cfe",
   "metadata": {},
   "outputs": [],
   "source": [
    "path = '/data/philhoon-relevance/FiD/results/NQ_DPR/DEV/incremental_result_100'\n",
    "file_name = 'ctx100.json'\n",
    "file_path = os.path.join(path, file_name)"
   ]
  },
  {
   "cell_type": "code",
   "execution_count": 3,
   "id": "f24f929f",
   "metadata": {},
   "outputs": [],
   "source": [
    "data = utils.open_json(file_path)"
   ]
  },
  {
   "cell_type": "markdown",
   "id": "ca6344a8",
   "metadata": {},
   "source": [
    "### Test"
   ]
  },
  {
   "cell_type": "code",
   "execution_count": 4,
   "id": "389f61ae",
   "metadata": {},
   "outputs": [],
   "source": [
    "# path = '/data/philhoon-relevance/FiD/results/NQ_DPR/TEST/incremental_result_100'\n",
    "# file_name = 'ctx100.json'\n",
    "# file_path = os.path.join(path, file_name)"
   ]
  },
  {
   "cell_type": "code",
   "execution_count": 5,
   "id": "dd42e478",
   "metadata": {},
   "outputs": [],
   "source": [
    "# data = utils.open_json(file_path)"
   ]
  },
  {
   "cell_type": "markdown",
   "id": "a364185c",
   "metadata": {},
   "source": [
    "### checking the result\n",
    "- incremental EM is same with the previous result"
   ]
  },
  {
   "cell_type": "code",
   "execution_count": 6,
   "id": "80313c70",
   "metadata": {},
   "outputs": [],
   "source": [
    "cnt_incre = 0\n",
    "cnt_all_cor = 0\n",
    "cnt_all_wrong = 0\n",
    "initial_zeros = 0\n",
    "\n",
    "for instance in data:\n",
    "    em_pat = instance['em_pattern']\n",
    "    \n",
    "    if '1' in em_pat and em_pat.startswith('0'):\n",
    "        initial_zeros += 1\n",
    "    if '1' in em_pat:\n",
    "        cnt_incre += 1\n",
    "    if em_pat.endswith('1'):\n",
    "        cnt_all_cor += 1\n",
    "    if em_pat.endswith('0'):\n",
    "        cnt_all_wrong += 1"
   ]
  },
  {
   "cell_type": "code",
   "execution_count": 7,
   "id": "aea16714",
   "metadata": {},
   "outputs": [
    {
     "name": "stdout",
     "output_type": "stream",
     "text": [
      "incremental top 100 em : 0.6230444216055727\n",
      "top 100 em : 0.5254082448327053\n",
      "initial 0s : 2457\n"
     ]
    }
   ],
   "source": [
    "print(f'incremental top 100 em : {cnt_incre/len(data)}')\n",
    "print(f'top 100 em : {cnt_all_cor/len(data)}')\n",
    "print(f'initial 0s : {initial_zeros}')"
   ]
  },
  {
   "cell_type": "code",
   "execution_count": 8,
   "id": "62d003d1",
   "metadata": {},
   "outputs": [],
   "source": [
    "for id_, instance in enumerate(data):\n",
    "    instance['id'] = id_"
   ]
  },
  {
   "cell_type": "code",
   "execution_count": null,
   "id": "7938871b",
   "metadata": {},
   "outputs": [],
   "source": [
    "# len(data)"
   ]
  },
  {
   "cell_type": "markdown",
   "id": "bcf9ce8a",
   "metadata": {},
   "source": [
    "### Dev"
   ]
  },
  {
   "cell_type": "code",
   "execution_count": 9,
   "id": "0f405c53",
   "metadata": {},
   "outputs": [],
   "source": [
    "out_path = '/data/philhoon-relevance/binary-classification/NQ-DEV-DPR'\n",
    "out_file_name = 'ctx100id.json'\n",
    "out_file_path = os.path.join(out_path, out_file_name)"
   ]
  },
  {
   "cell_type": "markdown",
   "id": "3ae54dc5",
   "metadata": {},
   "source": [
    "### Test"
   ]
  },
  {
   "cell_type": "code",
   "execution_count": 10,
   "id": "5c27c4a1",
   "metadata": {},
   "outputs": [],
   "source": [
    "# out_path = '/data/philhoon-relevance/binary-classification/NQ-TEST-DPR'\n",
    "# out_file_name = 'ctx100id.json'\n",
    "# out_file_path = os.path.join(out_path, out_file_name)"
   ]
  },
  {
   "cell_type": "code",
   "execution_count": 11,
   "id": "d36b2d1c",
   "metadata": {},
   "outputs": [],
   "source": [
    "# utils.save_json(data, out_file_path)"
   ]
  },
  {
   "cell_type": "code",
   "execution_count": 12,
   "id": "f7931428",
   "metadata": {},
   "outputs": [],
   "source": [
    "data_id = utils.open_json(out_file_path)"
   ]
  },
  {
   "cell_type": "code",
   "execution_count": 13,
   "id": "ff9667f0",
   "metadata": {
    "scrolled": false
   },
   "outputs": [
    {
     "name": "stdout",
     "output_type": "stream",
     "text": [
      "3\n"
     ]
    }
   ],
   "source": [
    "print(data_id[3]['id'])"
   ]
  },
  {
   "cell_type": "code",
   "execution_count": 14,
   "id": "57793d0b",
   "metadata": {},
   "outputs": [
    {
     "data": {
      "text/plain": [
       "8757"
      ]
     },
     "execution_count": 14,
     "metadata": {},
     "output_type": "execute_result"
    }
   ],
   "source": [
    "len(data_id)"
   ]
  },
  {
   "cell_type": "markdown",
   "id": "ad73dc28",
   "metadata": {},
   "source": [
    "## Split by Train and Dev\n",
    "- not need for future using 1st set of K-fold"
   ]
  },
  {
   "cell_type": "code",
   "execution_count": null,
   "id": "c46758a7",
   "metadata": {},
   "outputs": [],
   "source": [
    "random.seed(42)"
   ]
  },
  {
   "cell_type": "code",
   "execution_count": null,
   "id": "814bcbd7",
   "metadata": {},
   "outputs": [],
   "source": [
    "train, dev = train_test_split(data_id, test_size=0.2, shuffle=True)"
   ]
  },
  {
   "cell_type": "code",
   "execution_count": null,
   "id": "a36f8b0c",
   "metadata": {},
   "outputs": [],
   "source": [
    "len(train)"
   ]
  },
  {
   "cell_type": "code",
   "execution_count": null,
   "id": "dcf26c0a",
   "metadata": {},
   "outputs": [],
   "source": [
    "len(dev)"
   ]
  },
  {
   "cell_type": "code",
   "execution_count": null,
   "id": "73ed8f34",
   "metadata": {},
   "outputs": [],
   "source": [
    "out_path = '/data/philhoon-relevance/binary-classification/NQ-DEV-DPR/train_dev'\n",
    "out_file_name = 'ctx100id_train.json'\n",
    "out_file_path = os.path.join(out_path, out_file_name)"
   ]
  },
  {
   "cell_type": "code",
   "execution_count": null,
   "id": "4df04662",
   "metadata": {},
   "outputs": [],
   "source": [
    "# utils.save_json(train, out_file_path)"
   ]
  },
  {
   "cell_type": "code",
   "execution_count": null,
   "id": "172f11f7",
   "metadata": {},
   "outputs": [],
   "source": [
    "check = utils.open_json(out_file_path)"
   ]
  },
  {
   "cell_type": "code",
   "execution_count": null,
   "id": "9891b737",
   "metadata": {},
   "outputs": [],
   "source": [
    "len(check)"
   ]
  },
  {
   "cell_type": "code",
   "execution_count": null,
   "id": "32c37bdd",
   "metadata": {},
   "outputs": [],
   "source": [
    "out_path = '/data/philhoon-relevance/binary-classification/NQ-DEV-DPR/train_dev'\n",
    "out_file_name = 'ctx100id_dev.json'\n",
    "out_file_path = os.path.join(out_path, out_file_name)"
   ]
  },
  {
   "cell_type": "code",
   "execution_count": null,
   "id": "5e47cb56",
   "metadata": {},
   "outputs": [],
   "source": [
    "# utils.save_json(dev, out_file_path)"
   ]
  },
  {
   "cell_type": "code",
   "execution_count": null,
   "id": "b5fd9e98",
   "metadata": {},
   "outputs": [],
   "source": [
    "check = utils.open_json(out_file_path)"
   ]
  },
  {
   "cell_type": "code",
   "execution_count": null,
   "id": "5ceef9e8",
   "metadata": {},
   "outputs": [],
   "source": [
    "len(check)"
   ]
  },
  {
   "cell_type": "markdown",
   "id": "50ca75fa",
   "metadata": {},
   "source": [
    "## Split by 5-fold"
   ]
  },
  {
   "cell_type": "code",
   "execution_count": 15,
   "id": "e571a963",
   "metadata": {},
   "outputs": [
    {
     "name": "stdout",
     "output_type": "stream",
     "text": [
      "8757\n"
     ]
    }
   ],
   "source": [
    "in_path = '/data/philhoon-relevance/binary-classification/NQ-DEV-DPR'\n",
    "in_file_name = 'ctx100id.json'\n",
    "in_file_path = os.path.join(in_path, in_file_name)\n",
    "data_id = utils.open_json(in_file_path)\n",
    "print(len(data_id))"
   ]
  },
  {
   "cell_type": "code",
   "execution_count": null,
   "id": "0b0942cc",
   "metadata": {},
   "outputs": [],
   "source": [
    "kf = KFold(n_splits=5, random_state = 42, shuffle = True)"
   ]
  },
  {
   "cell_type": "code",
   "execution_count": null,
   "id": "891c0977",
   "metadata": {},
   "outputs": [],
   "source": [
    "kf.get_n_splits(data_id)"
   ]
  },
  {
   "cell_type": "code",
   "execution_count": null,
   "id": "36b481e4",
   "metadata": {},
   "outputs": [],
   "source": [
    "output_path = '/data/philhoon-relevance/binary-classification/NQ-DEV-DPR/5-fold'"
   ]
  },
  {
   "cell_type": "code",
   "execution_count": null,
   "id": "065f034f",
   "metadata": {},
   "outputs": [],
   "source": [
    "for i, (train_index, test_index) in enumerate(kf.split(data_id)):\n",
    "    output_path_i = output_path + f'/{i+1}'\n",
    "    train_file_name = f'ctx100id_split_train_{i+1}.json'\n",
    "    test_file_name = f'ctx100id_split_dev_{i+1}.json'\n",
    "    \n",
    "    train_path = os.path.join(output_path_i, train_file_name)\n",
    "    test_path = os.path.join(output_path_i, test_file_name)\n",
    "    print(f'train_path : {train_path}')\n",
    "    print(f'dev_path : {test_path}')\n",
    "    print(f\"Fold {i}:\")\n",
    "    print(f\"  Train: index={train_index[:10]}\")\n",
    "    print(f\"  Test:  index={test_index}\")\n",
    "    train_split = [data_id[j] for j in train_index]\n",
    "    test_split = [data_id[j] for j in test_index]\n",
    "    print(f'size of train : {len(train_split)}')\n",
    "    print(f'size of dev : {len(test_split)}')\n",
    "    \n",
    "#     utils.save_json(train_split, train_path)\n",
    "#     utils.save_json(test_split, test_path)"
   ]
  },
  {
   "cell_type": "markdown",
   "id": "8440322b",
   "metadata": {},
   "source": [
    "# Converting each data into binary dataset \n",
    "- For each split -> binary"
   ]
  },
  {
   "cell_type": "markdown",
   "id": "ac25177f",
   "metadata": {},
   "source": [
    "## input \n",
    "### input file \n",
    "    : incremental inference result file\n",
    "    : for need to split dataset since after transforming to binary dataset cannot track.\n",
    "    \n",
    "### inputformat \n",
    "    : list w/ dictionary elements\n",
    "    \n",
    "### keys\n",
    "    'id': str : id of question for tracking\n",
    "    'question': str : query \n",
    "    'answers' : list  : answers   \n",
    "    'ctxs' : list w/ dictionary elements : top-100 ctx retrieved from retrieval : \n",
    "    'em_pattern': str : EM of each inference @k  \n",
    "    'inference' : list : inference of each inference @k \n",
    "    'conversion' : str : existence of 10 pattern 1 if exits\n",
    "    'cumulative_em' : str : existence of answer in incremental inferencing "
   ]
  },
  {
   "cell_type": "markdown",
   "id": "b09ea2f7",
   "metadata": {},
   "source": [
    "## Output\n",
    "    - there should be option for undecisive 0s (initial consecutive zeros)\n",
    "    \n",
    "### output  file \n",
    "    : list w/ question and ctx pair as dictionary format \n",
    "    \n",
    "### output  format \n",
    "```python\n",
    "[  \n",
    "   {  \n",
    "       'id: str,\n",
    "       'question' : str,\n",
    "       'ctx' : {  \n",
    "           'id' : str,  \n",
    "           'text' : str,  \n",
    "           'title' : str  \n",
    "       }  \n",
    "       'em' : str\n",
    "   }  \n",
    "]  \n",
    "```"
   ]
  },
  {
   "cell_type": "code",
   "execution_count": null,
   "id": "a1495c1d",
   "metadata": {
    "scrolled": false
   },
   "outputs": [],
   "source": [
    "def convert_incremental_to_binary(data, option_exclude_zeros):    \n",
    "    check = 0\n",
    "    output = []\n",
    "    for instance in data:\n",
    "        id_ = instance['id']\n",
    "        query = instance['question']\n",
    "        em_pattern = instance['em_pattern']\n",
    "        answers = instance['answers']\n",
    "        num_undecisive = len(em_pattern) - len(em_pattern.lstrip('0'))\n",
    "        cumulative_em = instance['cumulative_em']\n",
    "        ctxs = instance['ctxs']\n",
    "\n",
    "        if num_undecisive > 0 and cumulative_em == '1' and option_exclude_zeros:\n",
    "            check += 1\n",
    "            for ctx, em in zip(ctxs[num_undecisive:], em_pattern[num_undecisive:]):\n",
    "                template = {\n",
    "                    'id' : id_,\n",
    "                    'question' : query,\n",
    "                    'ctx' : ctx,\n",
    "                    'em' : em\n",
    "                }\n",
    "                output.append(template)\n",
    "        else:\n",
    "            for ctx, em in zip(ctxs, em_pattern):\n",
    "                template = {\n",
    "                    'id' : id_,\n",
    "                    'question' : query,\n",
    "                    'ctx' : ctx,\n",
    "                    'em' : em\n",
    "                }\n",
    "                output.append(template)\n",
    "    return output, check"
   ]
  },
  {
   "cell_type": "code",
   "execution_count": null,
   "id": "740e3815",
   "metadata": {},
   "outputs": [],
   "source": [
    "# output_wout, check_1 = convert_incremental_to_binary(test_data, option_exclude_zeros = True)"
   ]
  },
  {
   "cell_type": "code",
   "execution_count": null,
   "id": "82fe05a6",
   "metadata": {},
   "outputs": [],
   "source": [
    "# output_with, check_2 = convert_incremental_to_binary(test_data, option_exclude_zeros = False)"
   ]
  },
  {
   "cell_type": "code",
   "execution_count": null,
   "id": "1e835c50",
   "metadata": {},
   "outputs": [],
   "source": [
    "k = 5\n",
    "in_path = '/data/philhoon-relevance/binary-classification/NQ-DEV-DPR/5-fold'\n",
    "option_exclude_zeros = True"
   ]
  },
  {
   "cell_type": "code",
   "execution_count": null,
   "id": "8831aaca",
   "metadata": {},
   "outputs": [],
   "source": [
    "for i in range(1, k+1):\n",
    "    train_file = f'{i}/ctx100id_split_train_{i}.json'\n",
    "    dev_file = f'{i}/ctx100id_split_dev_{i}.json'\n",
    "    \n",
    "    train_path = os.path.join(in_path, train_file)\n",
    "    dev_path = os.path.join(in_path, dev_file)\n",
    "    \n",
    "    train_data = utils.open_json(train_path)\n",
    "    dev_data = utils.open_json(dev_path)\n",
    "    \n",
    "    if option_exclude_zeros:\n",
    "        out_path = f'/data/philhoon-relevance/binary-classification/NQ-DEV-DPR/5-fold/{i}/binary_data'\n",
    "        \n",
    "        train_wout, _ = convert_incremental_to_binary(train_data, option_exclude_zeros = True)\n",
    "        dev_wout, _ = convert_incremental_to_binary(dev_data, option_exclude_zeros = True)\n",
    "        \n",
    "        train_out_file = f'binary_ex_ctx100id_split_train_{i}.json'\n",
    "        dev_out_file = f'binary_ex_ctx100id_split_dev_{i}.json'\n",
    "        \n",
    "        train_output_path = os.path.join(out_path, train_out_file)\n",
    "        dev_output_path = os.path.join(out_path, dev_out_file)\n",
    "        \n",
    "        utils.save_json(train_wout, train_output_path)\n",
    "        utils.save_json(dev_wout, dev_output_path)\n",
    "        print(f'train_output_path : \\n{train_output_path}')\n",
    "        print(f'dev_output_path : \\n{dev_output_path}')\n",
    "    else:\n",
    "        out_path = f'/data/philhoon-relevance/binary-classification/NQ-DEV-DPR/5-fold/{i}/binary_data'\n",
    "        \n",
    "        train_wout, _ = convert_incremental_to_binary(train_data, option_exclude_zeros = False)\n",
    "        dev_wout, _ = convert_incremental_to_binary(dev_data, option_exclude_zeros = False)\n",
    "        \n",
    "        train_out_file = f'binary_in_ctx100id_split_train_{i}.json'\n",
    "        dev_out_file = f'binary_in_ctx100id_split_dev_{i}.json'\n",
    "        \n",
    "        train_output_path = os.path.join(out_path, train_out_file)\n",
    "        dev_output_path = os.path.join(out_path, dev_out_file)\n",
    "        \n",
    "        utils.save_json(train_wout, train_output_path)\n",
    "        utils.save_json(dev_wout, dev_output_path)\n",
    "        print(f'train_output_path : \\n{train_output_path}')\n",
    "        print(f'dev_output_path : \\n{dev_output_path}')\n",
    "        "
   ]
  },
  {
   "cell_type": "code",
   "execution_count": 16,
   "id": "f1a3ffc9",
   "metadata": {},
   "outputs": [],
   "source": [
    "test_train = '/data/philhoon-relevance/binary-classification/NQ-DEV-DPR/5-fold/1/binary_data/binary_ex_ctx100id_split_train_1.json'"
   ]
  },
  {
   "cell_type": "code",
   "execution_count": 17,
   "id": "bc0bc23a",
   "metadata": {},
   "outputs": [],
   "source": [
    "test_dev = '/data/philhoon-relevance/binary-classification/NQ-DEV-DPR/5-fold/1/binary_data/binary_ex_ctx100id_split_dev_1.json'"
   ]
  },
  {
   "cell_type": "code",
   "execution_count": 18,
   "id": "8fc266da",
   "metadata": {},
   "outputs": [],
   "source": [
    "train_1 = utils.open_json(test_train)"
   ]
  },
  {
   "cell_type": "code",
   "execution_count": 19,
   "id": "9c69d9bd",
   "metadata": {},
   "outputs": [],
   "source": [
    "dev_1 = utils.open_json(test_dev)"
   ]
  },
  {
   "cell_type": "code",
   "execution_count": 20,
   "id": "0d577173",
   "metadata": {},
   "outputs": [
    {
     "name": "stdout",
     "output_type": "stream",
     "text": [
      "681487\n",
      "{'ctx': {'id': '533920',\n",
      "         'text': 'he was unsatisfied with the book. Ellison ultimately wrote '\n",
      "                 'more than 2,000 pages of this second novel but never '\n",
      "                 'finished it. Ellison died on April 16, 1994 of pancreatic '\n",
      "                 'cancer and was interred in a crypt at Trinity Church '\n",
      "                 'Cemetery in the Washington Heights neighborhood of Upper '\n",
      "                 'Manhattan. He was survived by his second wife, Fanny Ellison '\n",
      "                 '(November 27, 1911 – November 19, 2005). \"Invisible Man\" won '\n",
      "                 'the 1953 US National Book Award for Fiction. The award was '\n",
      "                 'his ticket into the American literary establishment. He '\n",
      "                 'eventually was admitted to the American Academy of Arts and '\n",
      "                 \"Letters, received two President's\",\n",
      "         'title': 'Ralph Ellison'},\n",
      " 'em': '0',\n",
      " 'id': 1,\n",
      " 'question': 'how many pages is invisible man by ralph ellison'}\n"
     ]
    }
   ],
   "source": [
    "print(len(train_1))\n",
    "pprint(train_1[0])"
   ]
  },
  {
   "cell_type": "code",
   "execution_count": 21,
   "id": "4dbdca98",
   "metadata": {},
   "outputs": [
    {
     "name": "stdout",
     "output_type": "stream",
     "text": [
      "169978\n",
      "{'ctx': {'id': '11828866',\n",
      "         'text': 'Does He Love You \"Does He Love You\" is a song written by '\n",
      "                 'Sandy Knox and Billy Stritch, and recorded as a duet by '\n",
      "                 'American country music artists Reba McEntire and Linda '\n",
      "                 'Davis. It was released in August 1993 as the first single '\n",
      "                 'from Reba\\'s album \"Greatest Hits Volume Two\". It is one of '\n",
      "                 'country music\\'s several songs about a love triangle. \"Does '\n",
      "                 'He Love You\" was written in 1982 by Billy Stritch. He '\n",
      "                 'recorded it with a trio in which he performed at the time, '\n",
      "                 'because he wanted a song that could be sung by the other two '\n",
      "                 'members',\n",
      "         'title': 'Does He Love You'},\n",
      " 'em': '1',\n",
      " 'id': 0,\n",
      " 'question': 'who sings does he love me with reba'}\n"
     ]
    }
   ],
   "source": [
    "print(len(dev_1))\n",
    "pprint(dev_1[0])"
   ]
  },
  {
   "cell_type": "code",
   "execution_count": 25,
   "id": "2acd6d51",
   "metadata": {},
   "outputs": [
    {
     "name": "stdout",
     "output_type": "stream",
     "text": [
      "7005\n"
     ]
    }
   ],
   "source": [
    "train_id_lst = []\n",
    "for instance in train_1:\n",
    "    train_id_lst.append(instance['id'])\n",
    "print(len(list(set(train_id_lst))))"
   ]
  },
  {
   "cell_type": "code",
   "execution_count": 36,
   "id": "d8de555c",
   "metadata": {},
   "outputs": [],
   "source": [
    "check_dict = {\n",
    "    '1' : 0,\n",
    "    '0' : 0\n",
    "}\n",
    "for instance in train_1:\n",
    "    if instance['em'] == '1':\n",
    "        check_dict['1'] += 1\n",
    "    if instance['em'] == '0':\n",
    "        check_dict['0'] += 1"
   ]
  },
  {
   "cell_type": "code",
   "execution_count": 37,
   "id": "e25b7d53",
   "metadata": {},
   "outputs": [
    {
     "data": {
      "text/plain": [
       "{'1': 358747, '0': 322740}"
      ]
     },
     "execution_count": 37,
     "metadata": {},
     "output_type": "execute_result"
    }
   ],
   "source": [
    "check_dict"
   ]
  },
  {
   "cell_type": "code",
   "execution_count": 41,
   "id": "adbfb768",
   "metadata": {},
   "outputs": [
    {
     "data": {
      "text/plain": [
       "681487"
      ]
     },
     "execution_count": 41,
     "metadata": {},
     "output_type": "execute_result"
    }
   ],
   "source": [
    "check_dict['0'] + check_dict['1']"
   ]
  },
  {
   "cell_type": "code",
   "execution_count": 42,
   "id": "903f5424",
   "metadata": {},
   "outputs": [
    {
     "name": "stdout",
     "output_type": "stream",
     "text": [
      "0.5264179654197365\n",
      "0.47358203458026343\n"
     ]
    }
   ],
   "source": [
    "print(check_dict['1']/(check_dict['0'] + check_dict['1']))\n",
    "print(check_dict['0']/(check_dict['0'] + check_dict['1']))"
   ]
  },
  {
   "cell_type": "code",
   "execution_count": null,
   "id": "f9c2ad59",
   "metadata": {},
   "outputs": [],
   "source": []
  },
  {
   "cell_type": "code",
   "execution_count": null,
   "id": "de4dbe09",
   "metadata": {},
   "outputs": [],
   "source": []
  },
  {
   "cell_type": "code",
   "execution_count": 33,
   "id": "1538ee41",
   "metadata": {},
   "outputs": [
    {
     "data": {
      "text/plain": [
       "{'1': 1, '0': 0}"
      ]
     },
     "execution_count": 33,
     "metadata": {},
     "output_type": "execute_result"
    }
   ],
   "source": [
    "check_dict"
   ]
  },
  {
   "cell_type": "code",
   "execution_count": 40,
   "id": "ada392fe",
   "metadata": {},
   "outputs": [
    {
     "data": {
      "text/plain": [
       "681487"
      ]
     },
     "execution_count": 40,
     "metadata": {},
     "output_type": "execute_result"
    }
   ],
   "source": [
    "len(train_1)"
   ]
  },
  {
   "cell_type": "code",
   "execution_count": 23,
   "id": "aa0f8180",
   "metadata": {},
   "outputs": [
    {
     "name": "stdout",
     "output_type": "stream",
     "text": [
      "1752\n"
     ]
    }
   ],
   "source": [
    "dev_id_lst = []\n",
    "for instance in dev_1:\n",
    "    dev_id_lst.append(instance['id'])\n",
    "print(len(list(set(dev_id_lst))))"
   ]
  },
  {
   "cell_type": "markdown",
   "id": "8ffaecda",
   "metadata": {},
   "source": [
    "# Converting Test data into binary dataset\n",
    "- Here include zero"
   ]
  },
  {
   "cell_type": "code",
   "execution_count": null,
   "id": "dffec406",
   "metadata": {},
   "outputs": [],
   "source": [
    "input_path = '/data/philhoon-relevance/binary-classification/NQ-TEST-DPR'\n",
    "input_file = 'ctx100id.json'\n",
    "output_file = 'binary_in_ctx100id_test.json'"
   ]
  },
  {
   "cell_type": "code",
   "execution_count": null,
   "id": "dde465dc",
   "metadata": {},
   "outputs": [],
   "source": [
    "input_file_path = os.path.join(input_path, input_file)\n",
    "data_in = utils.open_json(input_file_path)"
   ]
  },
  {
   "cell_type": "code",
   "execution_count": null,
   "id": "eda0c911",
   "metadata": {},
   "outputs": [],
   "source": [
    "test_output_path = os.path.join(input_path, output_file)\n",
    "print(test_output_path)"
   ]
  },
  {
   "cell_type": "code",
   "execution_count": null,
   "id": "269d41a0",
   "metadata": {},
   "outputs": [],
   "source": [
    "test_with, _ = convert_incremental_to_binary(data_in, option_exclude_zeros = False)\n",
    "utils.save_json(test_with, test_output_path)"
   ]
  },
  {
   "cell_type": "code",
   "execution_count": null,
   "id": "0976b3f6",
   "metadata": {},
   "outputs": [],
   "source": [
    "check_test = utils.open_json(test_output_path)"
   ]
  },
  {
   "cell_type": "code",
   "execution_count": null,
   "id": "a03e6b61",
   "metadata": {},
   "outputs": [],
   "source": [
    "print(len(check_test))\n",
    "pprint(check_test[0])\n"
   ]
  },
  {
   "cell_type": "code",
   "execution_count": null,
   "id": "82f9db3d",
   "metadata": {},
   "outputs": [],
   "source": [
    "test_id_lst = []\n",
    "for instance in check_test:\n",
    "    test_id_lst.append(instance['id'])\n",
    "print(len(list(set(test_id_lst))))\n"
   ]
  },
  {
   "cell_type": "markdown",
   "id": "357ff622",
   "metadata": {},
   "source": [
    "# Converting each data into binary dataset2\n",
    "- For each split -> remove undecisive part + only using positive and damaging "
   ]
  },
  {
   "cell_type": "markdown",
   "id": "618dd050",
   "metadata": {},
   "source": [
    "0011101000100100011\n",
    "\n",
    "    01* pattern -> extract 1\n",
    "    *10 pattern 0> extract 0\n",
    "    \n",
    "    Converting each data into binary dataset2\n",
    "    \n",
    "0000000000000000000\n",
    "\n",
    "    pass"
   ]
  },
  {
   "cell_type": "markdown",
   "id": "10d2a268",
   "metadata": {},
   "source": [
    "## input \n",
    "### input file \n",
    "    : incremental inference result file\n",
    "    : for need to split dataset since after transforming to binary dataset cannot track.\n",
    "    \n",
    "### inputformat \n",
    "    : list w/ dictionary elements\n",
    "    \n",
    "### keys\n",
    "    'id': str : id of question for tracking\n",
    "    'question': str : query \n",
    "    'answers' : list  : answers   \n",
    "    'ctxs' : list w/ dictionary elements : top-100 ctx retrieved from retrieval : \n",
    "    'em_pattern': str : EM of each inference @k  \n",
    "    'inference' : list : inference of each inference @k \n",
    "    'conversion' : str : existence of 10 pattern 1 if exits\n",
    "    'cumulative_em' : str : existence of answer in incremental inferencing "
   ]
  },
  {
   "cell_type": "markdown",
   "id": "6b7aaea5",
   "metadata": {},
   "source": [
    "## Output\n",
    "    - there should be option for undecisive 0s (initial consecutive zeros)\n",
    "    \n",
    "### output  file \n",
    "    : list w/ question and ctx pair as dictionary format \n",
    "    \n",
    "### output  format \n",
    "```python\n",
    "[  \n",
    "   {  \n",
    "       'id: str,\n",
    "       'question' : str,\n",
    "       'ctx' : {  \n",
    "           'id' : str,  \n",
    "           'text' : str,  \n",
    "           'title' : str  \n",
    "       }  \n",
    "       'inference' : str,\n",
    "       'em' : str\n",
    "   }  \n",
    "]  \n",
    "```"
   ]
  },
  {
   "cell_type": "code",
   "execution_count": 47,
   "id": "08382bf8",
   "metadata": {},
   "outputs": [],
   "source": [
    "import os\n",
    "import re"
   ]
  },
  {
   "cell_type": "code",
   "execution_count": 16,
   "id": "38257df2",
   "metadata": {},
   "outputs": [],
   "source": [
    "# i = 1"
   ]
  },
  {
   "cell_type": "code",
   "execution_count": 17,
   "id": "c0df02be",
   "metadata": {},
   "outputs": [],
   "source": [
    "# input_path = f'/data/philhoon-relevance/binary-classification/NQ-DEV-DPR/5-fold'"
   ]
  },
  {
   "cell_type": "code",
   "execution_count": 18,
   "id": "c93b51fc",
   "metadata": {},
   "outputs": [],
   "source": [
    "# train_file = f'{i}/ctx100id_split_train_{i}.json'\n",
    "# dev_file = f'{i}/ctx100id_split_dev_{i}.json'"
   ]
  },
  {
   "cell_type": "code",
   "execution_count": 19,
   "id": "1a904218",
   "metadata": {},
   "outputs": [],
   "source": [
    "# input_train_file = os.path.join(input_path, train_file)\n",
    "# input_dev_file = os.path.join(input_path, train_file)"
   ]
  },
  {
   "cell_type": "code",
   "execution_count": 20,
   "id": "e18afe5e",
   "metadata": {},
   "outputs": [],
   "source": [
    "# input_train = utils.open_json(input_train_file)"
   ]
  },
  {
   "cell_type": "code",
   "execution_count": 21,
   "id": "6c1c4ff0",
   "metadata": {},
   "outputs": [],
   "source": [
    "# input_dev = utils.open_json(input_dev_file)"
   ]
  },
  {
   "cell_type": "code",
   "execution_count": 22,
   "id": "73894bc9",
   "metadata": {},
   "outputs": [
    {
     "data": {
      "text/plain": [
       "7005"
      ]
     },
     "execution_count": 22,
     "metadata": {},
     "output_type": "execute_result"
    }
   ],
   "source": [
    "# len(input_train)"
   ]
  },
  {
   "cell_type": "code",
   "execution_count": 298,
   "id": "ab41f99e",
   "metadata": {},
   "outputs": [
    {
     "data": {
      "text/plain": [
       "1752"
      ]
     },
     "execution_count": 298,
     "metadata": {},
     "output_type": "execute_result"
    }
   ],
   "source": [
    "# len(input_dev)"
   ]
  },
  {
   "cell_type": "code",
   "execution_count": 27,
   "id": "af6e74fd",
   "metadata": {},
   "outputs": [
    {
     "name": "stdout",
     "output_type": "stream",
     "text": [
      "dict_keys(['question', 'answers', 'ctxs', 'em_pattern', 'inference', 'conversion', 'cumulative_em', 'id'])\n"
     ]
    }
   ],
   "source": [
    "# print(input_train[0].keys())"
   ]
  },
  {
   "cell_type": "code",
   "execution_count": 299,
   "id": "32ae6b3a",
   "metadata": {},
   "outputs": [],
   "source": [
    "# instance = input_train[3]"
   ]
  },
  {
   "cell_type": "code",
   "execution_count": 303,
   "id": "7724e778",
   "metadata": {},
   "outputs": [],
   "source": [
    "# id_ = instance['id']\n",
    "# query = instance['question']\n",
    "# em_pattern = instance['em_pattern']\n",
    "# answers = instance['answers']\n",
    "# num_undecisive = len(em_pattern) - len(em_pattern.lstrip('0'))\n",
    "# cumulative_em = instance['cumulative_em']\n",
    "# ctxs = instance['ctxs']"
   ]
  },
  {
   "cell_type": "code",
   "execution_count": 304,
   "id": "13803d65",
   "metadata": {},
   "outputs": [],
   "source": [
    "# em_pattern"
   ]
  },
  {
   "cell_type": "code",
   "execution_count": 305,
   "id": "555a9058",
   "metadata": {},
   "outputs": [],
   "source": [
    "# num_undecisive"
   ]
  },
  {
   "cell_type": "code",
   "execution_count": 306,
   "id": "05d58272",
   "metadata": {},
   "outputs": [],
   "source": [
    "def get_definite_pos_neg(test_em):\n",
    "    positive_pos = []\n",
    "    if test_em.startswith('1'):\n",
    "        positive_pos.append(0)\n",
    "    iter_ = re.finditer(r'01', test_em)\n",
    "    for m in iter_:\n",
    "        pos_ = m.start() + 1\n",
    "        positive_pos.append(pos_)\n",
    "\n",
    "    negative_pos = []\n",
    "    iter_ = re.finditer(r'10', test_em)\n",
    "    for m in iter_:\n",
    "        pos_ = m.start() + 1\n",
    "        negative_pos.append(pos_)\n",
    "    \n",
    "    return positive_pos, negative_pos"
   ]
  },
  {
   "cell_type": "code",
   "execution_count": 307,
   "id": "8ce489d3",
   "metadata": {},
   "outputs": [],
   "source": [
    "def convert_incremental_to_decisive_binary(data):\n",
    "    output = []\n",
    "    \n",
    "    for instance in data:\n",
    "        id_ = instance['id']\n",
    "        query = instance['question']\n",
    "        em_pattern = instance['em_pattern']\n",
    "        answers = instance['answers']\n",
    "        num_undecisive = len(em_pattern) - len(em_pattern.lstrip('0'))\n",
    "        cumulative_em = instance['cumulative_em']\n",
    "        ctxs = instance['ctxs']\n",
    "        \n",
    "        if num_undecisive == 100:\n",
    "            continue\n",
    "        else:\n",
    "            pos_indices, neg_indices = get_definite_pos_neg(em_pattern)\n",
    "\n",
    "            if pos_indices:\n",
    "                for pos_ in pos_indices:\n",
    "                    if em_pattern[pos_] == '1':\n",
    "                        ctx_ = ctxs[pos_]\n",
    "                        template = {\n",
    "                            'id' : id_,\n",
    "                            'question' : query,\n",
    "                            'ctx' : ctx_,\n",
    "                            'em' : em_pattern[pos_]\n",
    "                        }\n",
    "                        output.append(template)\n",
    "                    else:\n",
    "                        print('wrong')\n",
    "                        print(f'id_ : {id_}')\n",
    "                        break\n",
    "\n",
    "            if neg_indices:                \n",
    "                for neg_ in neg_indices:\n",
    "                    if em_pattern[neg_] == '0':\n",
    "                        ctx_ = ctxs[neg_]\n",
    "                        template = {\n",
    "                            'id' : id_,\n",
    "                            'question' : query,\n",
    "                            'ctx' : ctx_,\n",
    "                            'em' : em_pattern[neg_]\n",
    "                        }\n",
    "                        output.append(template)\n",
    "                    else:\n",
    "                        print('wrong')\n",
    "                        print(f'id_ : {id_}')\n",
    "                        break\n",
    "\n",
    "    return output\n"
   ]
  },
  {
   "cell_type": "code",
   "execution_count": 209,
   "id": "c4ad2dd9",
   "metadata": {},
   "outputs": [],
   "source": [
    "input_path = f'/data/philhoon-relevance/binary-classification/NQ-DEV-DPR/5-fold'"
   ]
  },
  {
   "cell_type": "code",
   "execution_count": 210,
   "id": "00ace5c9",
   "metadata": {},
   "outputs": [],
   "source": [
    "train_file = f'{i}/ctx100id_split_train_{i}.json'\n",
    "dev_file = f'{i}/ctx100id_split_dev_{i}.json'"
   ]
  },
  {
   "cell_type": "code",
   "execution_count": 211,
   "id": "fa46c2f2",
   "metadata": {},
   "outputs": [],
   "source": [
    "input_train_file = os.path.join(input_path, train_file)\n",
    "input_dev_file = os.path.join(input_path, dev_file)"
   ]
  },
  {
   "cell_type": "code",
   "execution_count": 212,
   "id": "8a51f79f",
   "metadata": {},
   "outputs": [],
   "source": [
    "input_train = utils.open_json(input_train_file)"
   ]
  },
  {
   "cell_type": "code",
   "execution_count": 213,
   "id": "fc8c1c3e",
   "metadata": {},
   "outputs": [],
   "source": [
    "input_dev = utils.open_json(input_dev_file)"
   ]
  },
  {
   "cell_type": "code",
   "execution_count": 214,
   "id": "bb669c60",
   "metadata": {},
   "outputs": [
    {
     "data": {
      "text/plain": [
       "7005"
      ]
     },
     "execution_count": 214,
     "metadata": {},
     "output_type": "execute_result"
    }
   ],
   "source": [
    "len(input_train)"
   ]
  },
  {
   "cell_type": "code",
   "execution_count": 215,
   "id": "7b812338",
   "metadata": {},
   "outputs": [
    {
     "data": {
      "text/plain": [
       "1752"
      ]
     },
     "execution_count": 215,
     "metadata": {},
     "output_type": "execute_result"
    }
   ],
   "source": [
    "len(input_dev)"
   ]
  },
  {
   "cell_type": "code",
   "execution_count": 216,
   "id": "cd480510",
   "metadata": {},
   "outputs": [],
   "source": [
    "train_decisive_binary = convert_incremental_to_decisive_binary(input_train)"
   ]
  },
  {
   "cell_type": "code",
   "execution_count": 217,
   "id": "d3bf6568",
   "metadata": {},
   "outputs": [
    {
     "data": {
      "text/plain": [
       "6721"
      ]
     },
     "execution_count": 217,
     "metadata": {},
     "output_type": "execute_result"
    }
   ],
   "source": [
    "len(train_decisive_binary)"
   ]
  },
  {
   "cell_type": "code",
   "execution_count": 296,
   "id": "af119322",
   "metadata": {},
   "outputs": [],
   "source": [
    "cnt_0 = 0\n",
    "cnt_1 = 0\n",
    "\n",
    "for ins in train_decisive_binary:\n",
    "    if ins['em'] == '0':\n",
    "        cnt_0 += 1\n",
    "    if ins['em'] == '1':\n",
    "        cnt_1 += 1 "
   ]
  },
  {
   "cell_type": "code",
   "execution_count": 297,
   "id": "5384d8e6",
   "metadata": {},
   "outputs": [
    {
     "name": "stdout",
     "output_type": "stream",
     "text": [
      "1516\n",
      "5205\n"
     ]
    }
   ],
   "source": [
    "print(cnt_0)\n",
    "print(cnt_1)"
   ]
  },
  {
   "cell_type": "markdown",
   "id": "16a53b17",
   "metadata": {},
   "source": [
    "## Converting each 5-fold"
   ]
  },
  {
   "cell_type": "code",
   "execution_count": 311,
   "id": "50588ce5",
   "metadata": {},
   "outputs": [],
   "source": [
    "k = 5\n",
    "in_path = f'/data/philhoon-relevance/binary-classification/NQ-DEV-DPR/5-fold'"
   ]
  },
  {
   "cell_type": "code",
   "execution_count": 315,
   "id": "cc2f435b",
   "metadata": {},
   "outputs": [
    {
     "name": "stdout",
     "output_type": "stream",
     "text": [
      "train_path : /data/philhoon-relevance/binary-classification/NQ-DEV-DPR/5-fold/1/ctx100id_split_train_1.json\n",
      "dev_path : /data/philhoon-relevance/binary-classification/NQ-DEV-DPR/5-fold/1/ctx100id_split_dev_1.json\n",
      "len(train_out) : 6721\n",
      "len(dev_out) : 1704\n",
      "train_output_path : \n",
      "/data/philhoon-relevance/binary-classification/NQ-DEV-DPR/5-fold/1/decisive_binary_data/binary_decisive_ctx100id_split_train_1.json\n",
      "dev_output_path : \n",
      "/data/philhoon-relevance/binary-classification/NQ-DEV-DPR/5-fold/1/decisive_binary_data/binary_decisive_ctx100id_split_dev_1.json\n",
      "=====\n",
      "train_path : /data/philhoon-relevance/binary-classification/NQ-DEV-DPR/5-fold/2/ctx100id_split_train_2.json\n",
      "dev_path : /data/philhoon-relevance/binary-classification/NQ-DEV-DPR/5-fold/2/ctx100id_split_dev_2.json\n",
      "len(train_out) : 6736\n",
      "len(dev_out) : 1689\n",
      "train_output_path : \n",
      "/data/philhoon-relevance/binary-classification/NQ-DEV-DPR/5-fold/2/decisive_binary_data/binary_decisive_ctx100id_split_train_2.json\n",
      "dev_output_path : \n",
      "/data/philhoon-relevance/binary-classification/NQ-DEV-DPR/5-fold/2/decisive_binary_data/binary_decisive_ctx100id_split_dev_2.json\n",
      "=====\n",
      "train_path : /data/philhoon-relevance/binary-classification/NQ-DEV-DPR/5-fold/3/ctx100id_split_train_3.json\n",
      "dev_path : /data/philhoon-relevance/binary-classification/NQ-DEV-DPR/5-fold/3/ctx100id_split_dev_3.json\n",
      "len(train_out) : 6764\n",
      "len(dev_out) : 1661\n",
      "train_output_path : \n",
      "/data/philhoon-relevance/binary-classification/NQ-DEV-DPR/5-fold/3/decisive_binary_data/binary_decisive_ctx100id_split_train_3.json\n",
      "dev_output_path : \n",
      "/data/philhoon-relevance/binary-classification/NQ-DEV-DPR/5-fold/3/decisive_binary_data/binary_decisive_ctx100id_split_dev_3.json\n",
      "=====\n",
      "train_path : /data/philhoon-relevance/binary-classification/NQ-DEV-DPR/5-fold/4/ctx100id_split_train_4.json\n",
      "dev_path : /data/philhoon-relevance/binary-classification/NQ-DEV-DPR/5-fold/4/ctx100id_split_dev_4.json\n",
      "len(train_out) : 6667\n",
      "len(dev_out) : 1758\n",
      "train_output_path : \n",
      "/data/philhoon-relevance/binary-classification/NQ-DEV-DPR/5-fold/4/decisive_binary_data/binary_decisive_ctx100id_split_train_4.json\n",
      "dev_output_path : \n",
      "/data/philhoon-relevance/binary-classification/NQ-DEV-DPR/5-fold/4/decisive_binary_data/binary_decisive_ctx100id_split_dev_4.json\n",
      "=====\n",
      "train_path : /data/philhoon-relevance/binary-classification/NQ-DEV-DPR/5-fold/5/ctx100id_split_train_5.json\n",
      "dev_path : /data/philhoon-relevance/binary-classification/NQ-DEV-DPR/5-fold/5/ctx100id_split_dev_5.json\n",
      "len(train_out) : 6812\n",
      "len(dev_out) : 1613\n",
      "train_output_path : \n",
      "/data/philhoon-relevance/binary-classification/NQ-DEV-DPR/5-fold/5/decisive_binary_data/binary_decisive_ctx100id_split_train_5.json\n",
      "dev_output_path : \n",
      "/data/philhoon-relevance/binary-classification/NQ-DEV-DPR/5-fold/5/decisive_binary_data/binary_decisive_ctx100id_split_dev_5.json\n",
      "=====\n"
     ]
    }
   ],
   "source": [
    "for i in range(1, k+1):\n",
    "    \n",
    "    # input_file\n",
    "    train_file = f'{i}/ctx100id_split_train_{i}.json'\n",
    "    dev_file = f'{i}/ctx100id_split_dev_{i}.json'\n",
    "    \n",
    "    train_path = os.path.join(in_path, train_file)\n",
    "    dev_path = os.path.join(in_path, dev_file)\n",
    "    \n",
    "    print(f'train_path : {train_path}')\n",
    "    print(f'dev_path : {dev_path}')\n",
    "    train_data = utils.open_json(train_path)\n",
    "    dev_data = utils.open_json(dev_path)\n",
    "    \n",
    "    \n",
    "    out_path = f'/data/philhoon-relevance/binary-classification/NQ-DEV-DPR/5-fold/{i}/decisive_binary_data'\n",
    "    \n",
    "    os.makedirs(out_path, exist_ok = True)\n",
    "    \n",
    "    train_out = convert_incremental_to_decisive_binary(train_data)\n",
    "    dev_out = convert_incremental_to_decisive_binary(dev_data)\n",
    "    \n",
    "    print(f'len(train_out) : {len(train_out)}')\n",
    "    print(f'len(dev_out) : {len(dev_out)}')\n",
    "    \n",
    "    train_out_file = f'binary_decisive_ctx100id_split_train_{i}.json'\n",
    "    dev_out_file = f'binary_decisive_ctx100id_split_dev_{i}.json'\n",
    "\n",
    "    train_output_path = os.path.join(out_path, train_out_file)\n",
    "    dev_output_path = os.path.join(out_path, dev_out_file)\n",
    "    \n",
    "    utils.save_json(train_out, train_output_path)\n",
    "    utils.save_json(dev_out, dev_output_path)\n",
    "    print(f'train_output_path : \\n{train_output_path}')\n",
    "    print(f'dev_output_path : \\n{dev_output_path}')\n",
    "    print('=====')\n",
    "        "
   ]
  },
  {
   "cell_type": "code",
   "execution_count": null,
   "id": "cabdcbe1",
   "metadata": {},
   "outputs": [],
   "source": []
  },
  {
   "cell_type": "code",
   "execution_count": 316,
   "id": "7748de9b",
   "metadata": {},
   "outputs": [
    {
     "name": "stdout",
     "output_type": "stream",
     "text": [
      "train_data : 6721\n",
      "dev_data : 1704\n",
      "train_data : 6736\n",
      "dev_data : 1689\n",
      "train_data : 6764\n",
      "dev_data : 1661\n",
      "train_data : 6667\n",
      "dev_data : 1758\n",
      "train_data : 6812\n",
      "dev_data : 1613\n"
     ]
    }
   ],
   "source": [
    "for i in range(1, k+1):\n",
    "    check_path = f'/data/philhoon-relevance/binary-classification/NQ-DEV-DPR/5-fold/{i}/decisive_binary_data'\n",
    "    train_out_file = f'binary_decisive_ctx100id_split_train_{i}.json'\n",
    "    dev_out_file = f'binary_decisive_ctx100id_split_dev_{i}.json'\n",
    "    \n",
    "    train_file = os.path.join(check_path, train_out_file)\n",
    "    dev_file = os.path.join(check_path, dev_out_file)\n",
    "    \n",
    "    train_data = utils.open_json(train_file)\n",
    "    dev_data = utils.open_json(dev_file)\n",
    "    \n",
    "    print(f'train_data : {len(train_data)}')\n",
    "    print(f'dev_data : {len(dev_data)}')"
   ]
  },
  {
   "cell_type": "code",
   "execution_count": null,
   "id": "1d665622",
   "metadata": {},
   "outputs": [],
   "source": []
  },
  {
   "cell_type": "code",
   "execution_count": null,
   "id": "3b5f6e15",
   "metadata": {},
   "outputs": [],
   "source": []
  },
  {
   "cell_type": "code",
   "execution_count": null,
   "id": "ba395ff1",
   "metadata": {},
   "outputs": [],
   "source": []
  },
  {
   "cell_type": "code",
   "execution_count": null,
   "id": "63b6c31d",
   "metadata": {},
   "outputs": [],
   "source": []
  },
  {
   "cell_type": "code",
   "execution_count": null,
   "id": "36791e7c",
   "metadata": {},
   "outputs": [],
   "source": []
  },
  {
   "cell_type": "code",
   "execution_count": 295,
   "id": "b439479b",
   "metadata": {},
   "outputs": [
    {
     "data": {
      "text/plain": [
       "{'id': 25,\n",
       " 'question': 'when is star vs the forces of evil coming back on 2017',\n",
       " 'ctx': {'id': '17192444',\n",
       "  'title': 'Star vs. the Forces of Evil',\n",
       "  'text': '\"The Battle for Mewni\" and consisted of the first four episodes. A live chat featuring Star and Marco was aired on Disney XD on July 17. The remaining third-season episodes started airing on November 6, 2017. A fourth season was also ordered ahead of the third season premiere. \"Star vs. the Forces of Evil\" premiered in Canada on the DHX-owned Disney XD on April 6, 2015, and was later moved to the Corus-owned Disney XD on December 1. The series premiered on Disney XD channels in the United Kingdom and Ireland on April 16, 2015, in Australia on August 3,'},\n",
       " 'em': '1'}"
      ]
     },
     "execution_count": 295,
     "metadata": {},
     "output_type": "execute_result"
    }
   ],
   "source": [
    "train_decisive_binary[14]"
   ]
  },
  {
   "cell_type": "code",
   "execution_count": 282,
   "id": "9ab6694b",
   "metadata": {},
   "outputs": [],
   "source": [
    "i = 9"
   ]
  },
  {
   "cell_type": "code",
   "execution_count": 283,
   "id": "26894ee8",
   "metadata": {},
   "outputs": [
    {
     "data": {
      "text/plain": [
       "11"
      ]
     },
     "execution_count": 283,
     "metadata": {},
     "output_type": "execute_result"
    }
   ],
   "source": [
    "input_train[i]['id']"
   ]
  },
  {
   "cell_type": "code",
   "execution_count": 284,
   "id": "55436a2f",
   "metadata": {},
   "outputs": [
    {
     "data": {
      "text/plain": [
       "'1111111111111111111111111111111111111111111111111111111111111111111111111111111111111111111111111111'"
      ]
     },
     "execution_count": 284,
     "metadata": {},
     "output_type": "execute_result"
    }
   ],
   "source": [
    "input_train[i]['em_pattern']"
   ]
  },
  {
   "cell_type": "code",
   "execution_count": 285,
   "id": "f91cee3b",
   "metadata": {},
   "outputs": [],
   "source": [
    "pos = len('1') - 1"
   ]
  },
  {
   "cell_type": "code",
   "execution_count": 286,
   "id": "3e797141",
   "metadata": {},
   "outputs": [
    {
     "data": {
      "text/plain": [
       "{'id': '2279250',\n",
       " 'title': 'Robinson projection',\n",
       " 'text': 'purpose world maps in 1988, replacing the Van der Grinten projection. In 1998 NGS abandoned the Robinson projection for that use in favor of the Winkel tripel projection, as the latter \"reduces the distortion of land masses as they near the poles\". The Robinson projection is neither equal-area nor conformal, abandoning both for a compromise. The creator felt this produced a better overall view than could be achieved by adhering to either. The meridians curve gently, avoiding extremes, but thereby stretch the poles into long lines instead of leaving them as points. Hence, distortion close to the poles is severe,'}"
      ]
     },
     "execution_count": 286,
     "metadata": {},
     "output_type": "execute_result"
    }
   ],
   "source": [
    "input_train[i]['ctxs'][pos]"
   ]
  },
  {
   "cell_type": "code",
   "execution_count": null,
   "id": "b4986685",
   "metadata": {},
   "outputs": [],
   "source": []
  },
  {
   "cell_type": "code",
   "execution_count": null,
   "id": "e5eb713c",
   "metadata": {},
   "outputs": [],
   "source": []
  },
  {
   "cell_type": "code",
   "execution_count": null,
   "id": "03a0b6bd",
   "metadata": {},
   "outputs": [],
   "source": []
  },
  {
   "cell_type": "code",
   "execution_count": null,
   "id": "5da7de3a",
   "metadata": {},
   "outputs": [],
   "source": []
  },
  {
   "cell_type": "code",
   "execution_count": null,
   "id": "bce96358",
   "metadata": {},
   "outputs": [],
   "source": []
  },
  {
   "cell_type": "code",
   "execution_count": null,
   "id": "6f26d5e2",
   "metadata": {},
   "outputs": [],
   "source": []
  },
  {
   "cell_type": "code",
   "execution_count": null,
   "id": "758523e6",
   "metadata": {},
   "outputs": [],
   "source": []
  },
  {
   "cell_type": "code",
   "execution_count": null,
   "id": "d667e66a",
   "metadata": {},
   "outputs": [],
   "source": []
  },
  {
   "cell_type": "code",
   "execution_count": null,
   "id": "f4ef3871",
   "metadata": {},
   "outputs": [],
   "source": []
  },
  {
   "cell_type": "code",
   "execution_count": null,
   "id": "f15f9e37",
   "metadata": {},
   "outputs": [],
   "source": []
  },
  {
   "cell_type": "code",
   "execution_count": null,
   "id": "9f23d42e",
   "metadata": {},
   "outputs": [],
   "source": []
  },
  {
   "cell_type": "code",
   "execution_count": null,
   "id": "980bcd97",
   "metadata": {},
   "outputs": [],
   "source": []
  },
  {
   "cell_type": "code",
   "execution_count": 180,
   "id": "cf8cf2bc",
   "metadata": {},
   "outputs": [],
   "source": []
  },
  {
   "cell_type": "code",
   "execution_count": 189,
   "id": "af60c1ab",
   "metadata": {},
   "outputs": [],
   "source": [
    "# test_em = '0011101000100100011'\n",
    "# test_em = '0000000000000000001'\n",
    "# test_em = '0000111000011110001'\n",
    "# test_em = '1000111000011110000'\n",
    "test_em = '1111111111111111111'"
   ]
  },
  {
   "cell_type": "code",
   "execution_count": 198,
   "id": "9a18d3a8",
   "metadata": {},
   "outputs": [
    {
     "data": {
      "text/plain": [
       "'1'"
      ]
     },
     "execution_count": 198,
     "metadata": {},
     "output_type": "execute_result"
    }
   ],
   "source": [
    "test_em[0]"
   ]
  },
  {
   "cell_type": "code",
   "execution_count": 190,
   "id": "806fcaa8",
   "metadata": {},
   "outputs": [
    {
     "name": "stdout",
     "output_type": "stream",
     "text": [
      "pos_indices : [0]\n",
      "neg_indices : []\n"
     ]
    }
   ],
   "source": [
    "pos_indices, neg_indices = get_definite_pos_neg(test_em)\n",
    "print(f'pos_indices : {pos_indices}')\n",
    "print(f'neg_indices : {neg_indices}')"
   ]
  },
  {
   "cell_type": "code",
   "execution_count": 191,
   "id": "abcd6082",
   "metadata": {},
   "outputs": [
    {
     "name": "stdout",
     "output_type": "stream",
     "text": [
      "1\n"
     ]
    }
   ],
   "source": [
    "for p in pos_indices:\n",
    "    print(test_em[p])"
   ]
  },
  {
   "cell_type": "code",
   "execution_count": 192,
   "id": "51f24901",
   "metadata": {},
   "outputs": [],
   "source": [
    "for n in neg_indices:\n",
    "    print(test_em[n])"
   ]
  },
  {
   "cell_type": "code",
   "execution_count": 193,
   "id": "89c5514a",
   "metadata": {},
   "outputs": [
    {
     "data": {
      "text/plain": [
       "False"
      ]
     },
     "execution_count": 193,
     "metadata": {},
     "output_type": "execute_result"
    }
   ],
   "source": [
    "not pos_indices"
   ]
  },
  {
   "cell_type": "code",
   "execution_count": 197,
   "id": "e2a5f37d",
   "metadata": {},
   "outputs": [
    {
     "data": {
      "text/plain": [
       "True"
      ]
     },
     "execution_count": 197,
     "metadata": {},
     "output_type": "execute_result"
    }
   ],
   "source": [
    "not neg_indices"
   ]
  },
  {
   "cell_type": "code",
   "execution_count": null,
   "id": "e2fd7f39",
   "metadata": {},
   "outputs": [],
   "source": []
  },
  {
   "cell_type": "code",
   "execution_count": null,
   "id": "f2798c62",
   "metadata": {},
   "outputs": [],
   "source": []
  },
  {
   "cell_type": "code",
   "execution_count": null,
   "id": "d3cffd6e",
   "metadata": {},
   "outputs": [],
   "source": []
  },
  {
   "cell_type": "code",
   "execution_count": null,
   "id": "6f35360f",
   "metadata": {},
   "outputs": [],
   "source": []
  },
  {
   "cell_type": "code",
   "execution_count": null,
   "id": "e596c3c6",
   "metadata": {},
   "outputs": [],
   "source": []
  },
  {
   "cell_type": "code",
   "execution_count": null,
   "id": "c8a1025b",
   "metadata": {},
   "outputs": [],
   "source": []
  },
  {
   "cell_type": "code",
   "execution_count": null,
   "id": "41e0db4c",
   "metadata": {},
   "outputs": [],
   "source": []
  },
  {
   "cell_type": "code",
   "execution_count": null,
   "id": "53327524",
   "metadata": {},
   "outputs": [],
   "source": [
    "def convert_incremental_to_binary(data, option_exclude_zeros):    \n",
    "    check = 0\n",
    "    output = []\n",
    "    for instance in data:\n",
    "        id_ = instance['id']\n",
    "        query = instance['question']\n",
    "        em_pattern = instance['em_pattern']\n",
    "        answers = instance['answers']\n",
    "        num_undecisive = len(em_pattern) - len(em_pattern.lstrip('0'))\n",
    "        cumulative_em = instance['cumulative_em']\n",
    "        ctxs = instance['ctxs']\n",
    "\n",
    "        if num_undecisive > 0 and cumulative_em == '1' and option_exclude_zeros:\n",
    "            check += 1\n",
    "            for ctx, em in zip(ctxs[num_undecisive:], em_pattern[num_undecisive:]):\n",
    "                template = {\n",
    "                    'id' : id_,\n",
    "                    'question' : query,\n",
    "                    'ctx' : ctx,\n",
    "                    'em' : em\n",
    "                }\n",
    "                output.append(template)\n",
    "        else:\n",
    "            for ctx, em in zip(ctxs, em_pattern):\n",
    "                template = {\n",
    "                    'id' : id_,\n",
    "                    'question' : query,\n",
    "                    'ctx' : ctx,\n",
    "                    'em' : em\n",
    "                }\n",
    "                output.append(template)\n",
    "    return output, check"
   ]
  },
  {
   "cell_type": "code",
   "execution_count": null,
   "id": "ce909d3f",
   "metadata": {},
   "outputs": [],
   "source": []
  },
  {
   "cell_type": "code",
   "execution_count": null,
   "id": "1585af57",
   "metadata": {},
   "outputs": [],
   "source": []
  },
  {
   "cell_type": "code",
   "execution_count": null,
   "id": "88a081a7",
   "metadata": {},
   "outputs": [],
   "source": []
  },
  {
   "cell_type": "code",
   "execution_count": null,
   "id": "d70f9112",
   "metadata": {},
   "outputs": [],
   "source": []
  },
  {
   "cell_type": "code",
   "execution_count": null,
   "id": "b1fbb283",
   "metadata": {},
   "outputs": [],
   "source": []
  },
  {
   "cell_type": "code",
   "execution_count": null,
   "id": "759a8604",
   "metadata": {},
   "outputs": [],
   "source": []
  },
  {
   "cell_type": "code",
   "execution_count": null,
   "id": "87ea6090",
   "metadata": {},
   "outputs": [],
   "source": []
  },
  {
   "cell_type": "code",
   "execution_count": null,
   "id": "3c85b781",
   "metadata": {},
   "outputs": [],
   "source": []
  },
  {
   "cell_type": "code",
   "execution_count": 1,
   "id": "9068b4f2",
   "metadata": {},
   "outputs": [
    {
     "ename": "NameError",
     "evalue": "name 'i' is not defined",
     "output_type": "error",
     "traceback": [
      "\u001b[0;31m---------------------------------------------------------------------------\u001b[0m",
      "\u001b[0;31mNameError\u001b[0m                                 Traceback (most recent call last)",
      "Cell \u001b[0;32mIn [1], line 1\u001b[0m\n\u001b[0;32m----> 1\u001b[0m out_path \u001b[38;5;241m=\u001b[39m \u001b[38;5;124mf\u001b[39m\u001b[38;5;124m'\u001b[39m\u001b[38;5;124m/data/philhoon-relevance/binary-classification/NQ-DEV-DPR/5-fold/\u001b[39m\u001b[38;5;132;01m{\u001b[39;00mi\u001b[38;5;132;01m}\u001b[39;00m\u001b[38;5;124m/decisive_binary_data\u001b[39m\u001b[38;5;124m'\u001b[39m\n",
      "\u001b[0;31mNameError\u001b[0m: name 'i' is not defined"
     ]
    }
   ],
   "source": [
    "out_path = f'/data/philhoon-relevance/binary-classification/NQ-DEV-DPR/5-fold/{i}/decisive_binary_data'"
   ]
  },
  {
   "cell_type": "code",
   "execution_count": null,
   "id": "32c88528",
   "metadata": {},
   "outputs": [],
   "source": []
  },
  {
   "cell_type": "code",
   "execution_count": null,
   "id": "0727f39f",
   "metadata": {},
   "outputs": [],
   "source": []
  },
  {
   "cell_type": "code",
   "execution_count": null,
   "id": "71b1c485",
   "metadata": {},
   "outputs": [],
   "source": []
  },
  {
   "cell_type": "code",
   "execution_count": null,
   "id": "9c28eb58",
   "metadata": {},
   "outputs": [],
   "source": []
  },
  {
   "cell_type": "code",
   "execution_count": null,
   "id": "30ed6865",
   "metadata": {},
   "outputs": [],
   "source": []
  },
  {
   "cell_type": "code",
   "execution_count": null,
   "id": "6fad9b0f",
   "metadata": {},
   "outputs": [],
   "source": []
  },
  {
   "cell_type": "code",
   "execution_count": null,
   "id": "255e441c",
   "metadata": {},
   "outputs": [],
   "source": []
  },
  {
   "cell_type": "code",
   "execution_count": null,
   "id": "ec86c55b",
   "metadata": {},
   "outputs": [],
   "source": []
  },
  {
   "cell_type": "code",
   "execution_count": null,
   "id": "84a8f8ce",
   "metadata": {},
   "outputs": [],
   "source": []
  },
  {
   "cell_type": "code",
   "execution_count": null,
   "id": "d101ba42",
   "metadata": {},
   "outputs": [],
   "source": []
  },
  {
   "cell_type": "code",
   "execution_count": null,
   "id": "4ad3a582",
   "metadata": {},
   "outputs": [],
   "source": []
  },
  {
   "cell_type": "code",
   "execution_count": null,
   "id": "3d75e2bc",
   "metadata": {},
   "outputs": [],
   "source": []
  },
  {
   "cell_type": "code",
   "execution_count": null,
   "id": "082548fd",
   "metadata": {},
   "outputs": [],
   "source": []
  },
  {
   "cell_type": "code",
   "execution_count": null,
   "id": "e0f67e6e",
   "metadata": {},
   "outputs": [],
   "source": []
  },
  {
   "cell_type": "code",
   "execution_count": null,
   "id": "186acc85",
   "metadata": {},
   "outputs": [],
   "source": []
  },
  {
   "cell_type": "code",
   "execution_count": null,
   "id": "d046319e",
   "metadata": {},
   "outputs": [],
   "source": []
  },
  {
   "cell_type": "code",
   "execution_count": null,
   "id": "5d207087",
   "metadata": {},
   "outputs": [],
   "source": []
  },
  {
   "cell_type": "code",
   "execution_count": null,
   "id": "3c238295",
   "metadata": {},
   "outputs": [],
   "source": []
  },
  {
   "cell_type": "code",
   "execution_count": null,
   "id": "467525c3",
   "metadata": {},
   "outputs": [],
   "source": []
  },
  {
   "cell_type": "code",
   "execution_count": null,
   "id": "9172dba4",
   "metadata": {},
   "outputs": [],
   "source": []
  },
  {
   "cell_type": "code",
   "execution_count": null,
   "id": "22d90a66",
   "metadata": {},
   "outputs": [],
   "source": []
  }
 ],
 "metadata": {
  "kernelspec": {
   "display_name": "relevance-kilt",
   "language": "python",
   "name": "relevance-kilt"
  },
  "language_info": {
   "codemirror_mode": {
    "name": "ipython",
    "version": 3
   },
   "file_extension": ".py",
   "mimetype": "text/x-python",
   "name": "python",
   "nbconvert_exporter": "python",
   "pygments_lexer": "ipython3",
   "version": "3.8.13"
  }
 },
 "nbformat": 4,
 "nbformat_minor": 5
}
