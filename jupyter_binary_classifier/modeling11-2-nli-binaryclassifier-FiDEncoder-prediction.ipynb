{
 "cells": [
  {
   "cell_type": "markdown",
   "id": "b9908fbb",
   "metadata": {},
   "source": [
    "# modeling11-2-nli-binaryclassifier-FiDEncoder-prediction\n",
    "- making prediction script for binary_classifier_predict.py"
   ]
  },
  {
   "cell_type": "code",
   "execution_count": 1,
   "id": "554d34f8",
   "metadata": {},
   "outputs": [],
   "source": [
    "import os\n",
    "os.environ['CUDA_VISIBLE_DEVICES']='1'"
   ]
  },
  {
   "cell_type": "code",
   "execution_count": 2,
   "id": "f4943461",
   "metadata": {},
   "outputs": [],
   "source": [
    "from pprint import pprint"
   ]
  },
  {
   "cell_type": "code",
   "execution_count": 3,
   "id": "6f94c709",
   "metadata": {},
   "outputs": [],
   "source": [
    "from accelerate import Accelerator\n",
    "from accelerate.logging import get_logger\n",
    "\n",
    "from FiD.src.model import FiDT5\n",
    "from src.model import FiDEncoderForSequenceClassification\n",
    "\n",
    "from tqdm.auto import tqdm\n",
    "from src.data import (\n",
    "    BinaryCustomDatasetShuffle,\n",
    "    BinarySentenceDataset,\n",
    "    BinaryCustomDatasetDecisiveBinaryGold,\n",
    ")\n",
    "\n",
    "import logging\n",
    "import json\n",
    "import math\n",
    "import os\n",
    "import evaluate\n",
    "from util import utils\n",
    "\n",
    "import transformers\n",
    "import torch\n",
    "import numpy as np\n",
    "import random\n",
    "from torch import nn\n",
    "from torch.utils.data import Dataset, DataLoader\n",
    "from transformers import (\n",
    "    AutoModelForSequenceClassification,\n",
    "    AutoModel,\n",
    "    AutoConfig,\n",
    "    AutoTokenizer,\n",
    "    DataCollatorWithPadding,\n",
    "    EvalPrediction,\n",
    "    HfArgumentParser,\n",
    "    set_seed,\n",
    "    get_scheduler,\n",
    ")\n",
    "from util.arguments import ModelArguments, DataTrainingArguments, CustomTrainingArguments\n",
    "from torch.nn import BCEWithLogitsLoss, CrossEntropyLoss, MSELoss\n",
    "\n",
    "NEW_LINE = \"\\n\"\n",
    "os.environ[\"TOKENIZERS_PARALLELISM\"] = \"false\"\n",
    "\n",
    "DATASET_MAPPING = {\n",
    "    \"BinaryCustomDatasetShuffle\" : BinaryCustomDatasetShuffle,\n",
    "    \"BinarySentenceDataset\" : BinarySentenceDataset,\n",
    "    'BinaryCustomDatasetDecisiveBinaryGold' : BinaryCustomDatasetDecisiveBinaryGold,\n",
    "}"
   ]
  },
  {
   "cell_type": "code",
   "execution_count": 4,
   "id": "37a0f2bc",
   "metadata": {},
   "outputs": [],
   "source": [
    "# #!/bin/bash\n",
    "\n",
    "# #echo $SLURM_ARRAY_TASK_ID\n",
    "# #export i=$SLURM_ARRAY_TASK_ID\n",
    "# #echo $CUDA_VISIBLE_DEVICES\n",
    "# export gpu_=$CUDA_VISIBLE_DEVICES\n",
    "\n",
    "# # decisive_binary_gold_data\n",
    "# CUDA_VISIBLE_DEVICES=\"$gpu_\" python binary_classifier_predict.py \\\n",
    "# --do_train False \\\n",
    "# --do_eval True \\\n",
    "# --do_predict True \\\n",
    "# --per_device_eval_batch_size 128 \\\n",
    "# --prediction_model_name_or_path /data/philhoon-relevance/binary-classification/results/NQ-DEV-DPR/5-fold/1/roberta-decisive_binary_gold_data_trial1 \\\n",
    "# --prediction_model_step 380 \\\n",
    "# --max_seq_length 200 \\\n",
    "# --eval_file /data/philhoon-relevance/binary-classification/NQ-DEV-DPR/5-fold/1/decisive_binary_gold_data/binary_decisive_gold_ctx100id_split_dev_1.json \\\n",
    "# --dataset_class BinaryCustomDatasetDecisiveBinaryGold \\\n",
    "# --num_labels 2 \\\n"
   ]
  },
  {
   "cell_type": "code",
   "execution_count": 5,
   "id": "c1c023f1",
   "metadata": {},
   "outputs": [],
   "source": [
    "parser = HfArgumentParser(\n",
    "    (ModelArguments, DataTrainingArguments, CustomTrainingArguments)\n",
    ")\n",
    "model_args, data_args, train_args = parser.parse_args_into_dataclasses([])\n",
    "# os.environ['WANDB_PROJECT'] = model_args.wandb_project"
   ]
  },
  {
   "cell_type": "code",
   "execution_count": 6,
   "id": "2215321f",
   "metadata": {},
   "outputs": [
    {
     "name": "stdout",
     "output_type": "stream",
     "text": [
      "{'config_base_path': '/data/philhoon-relevance/FiD/pretrained_models/nq_reader_large',\n",
      " 'config_name': None,\n",
      " 'git_tag': 'v1.1',\n",
      " 'max_seq_length': 200,\n",
      " 'model_architecture': 'roberta-large',\n",
      " 'model_name_or_path': 'roberta-large',\n",
      " 'prediction_model_name_or_path': '/data/philhoon-relevance/binary-classification/results/NQ-DEV-DPR/5-fold/1/roberta-decisive_binary_gold_data_trial1',\n",
      " 'prediction_model_step': '380',\n",
      " 'tokenizer_name': None}\n"
     ]
    }
   ],
   "source": [
    "pprint(vars(model_args))"
   ]
  },
  {
   "cell_type": "code",
   "execution_count": 7,
   "id": "94867319",
   "metadata": {},
   "outputs": [
    {
     "name": "stdout",
     "output_type": "stream",
     "text": [
      "{'data': 'NQ-DEV-DPR/5-fold/1',\n",
      " 'dataset_class': 'BinaryCustomDatasetShuffle',\n",
      " 'eval_file': '/data/philhoon-relevance/binary-classification/NQ-DEV-DPR/5-fold/1/binary_data/binary_ex_ctx100id_split_train_1_partial.json',\n",
      " 'intact_eval': False,\n",
      " 'num_labels': 2,\n",
      " 'overwrite_cache': False,\n",
      " 'pad_to_max_length': False,\n",
      " 'train_file': '/data/philhoon-relevance/binary-classification/NQ-DEV-DPR/5-fold/1/binary_data/binary_ex_ctx100id_split_train_1_partial.json'}\n"
     ]
    }
   ],
   "source": [
    "pprint(vars(data_args))"
   ]
  },
  {
   "cell_type": "code",
   "execution_count": 8,
   "id": "1a9d6004",
   "metadata": {
    "scrolled": false
   },
   "outputs": [
    {
     "name": "stdout",
     "output_type": "stream",
     "text": [
      "{'adam_beta1': 0.9,\n",
      " 'adam_beta2': 0.999,\n",
      " 'adam_epsilon': 1e-08,\n",
      " 'best_metric': 'accuracy',\n",
      " 'checkpointing_steps': None,\n",
      " 'class_weights': False,\n",
      " 'do_eval': True,\n",
      " 'do_predict': False,\n",
      " 'do_train': True,\n",
      " 'drop_out_rate': None,\n",
      " 'gradient_accumulation_steps': 1,\n",
      " 'headtype': 'adaptive',\n",
      " 'learning_rate': 5e-05,\n",
      " 'lr_scheduler_type': 'linear',\n",
      " 'max_train_steps': None,\n",
      " 'num_layers': None,\n",
      " 'num_train_epochs': 3,\n",
      " 'num_warmup_steps': 0,\n",
      " 'output_dir': '/data/philhoon-relevance/binary-classification/results/NQ-DEV-DPR/5-fold/1/testing-scratch',\n",
      " 'padding': -100,\n",
      " 'per_device_eval_batch_size': 8,\n",
      " 'per_device_train_batch_size': 8,\n",
      " 'report_to': 'wandb',\n",
      " 'run_name': 'testing_from_scratch',\n",
      " 'save_max_limit': 3,\n",
      " 'seed': 42,\n",
      " 'train_loss_steps': 10,\n",
      " 'wandb_project': 'binary_classifier',\n",
      " 'weight_decay': 0.0,\n",
      " 'with_tracking': True}\n"
     ]
    }
   ],
   "source": [
    "pprint(vars(train_args))"
   ]
  },
  {
   "cell_type": "code",
   "execution_count": null,
   "id": "2988e01c",
   "metadata": {},
   "outputs": [],
   "source": [
    "train_args.do_train = False\n",
    "train_args.do_eval = True\n",
    "train_args.do_predict = True\n",
    "train_args.per_device_eval_batch_size = 128"
   ]
  },
  {
   "cell_type": "code",
   "execution_count": null,
   "id": "896bd190",
   "metadata": {},
   "outputs": [],
   "source": [
    "model_args.prediction_model_name_or_path = '/data/philhoon-relevance/binary-classification/results/NQ-DEV-DPR/5-fold/1/fid-encoder-linear-decisive-trial6'\n",
    "model_args.prediction_model_step = '80'\n",
    "model_args.max_seq_length = 200\n",
    "model_args.num_labels = 2\n",
    "train_args.headtype = 'linear'"
   ]
  },
  {
   "cell_type": "code",
   "execution_count": null,
   "id": "172e75c5",
   "metadata": {},
   "outputs": [],
   "source": [
    "# data_args.intact_eval = False\n",
    "# data_args.eval_file = '/data/philhoon-relevance/binary-classification/NQ-TEST-DPR/binary_decisive_format_ctx100id_test.json'\n",
    "\n",
    "# data_args.intact_eval = True\n",
    "# data_args.eval_file = '/data/philhoon-relevance/binary-classification/NQ-TEST-DPR/binary_decisive_gold_ctx100id_test.json'\n",
    "\n",
    "data_args.dataset_class = 'BinaryCustomDatasetShuffle'"
   ]
  },
  {
   "cell_type": "code",
   "execution_count": null,
   "id": "42282fa3",
   "metadata": {},
   "outputs": [],
   "source": [
    "logger = get_logger(__name__)\n",
    "accelerator = Accelerator()"
   ]
  },
  {
   "cell_type": "code",
   "execution_count": null,
   "id": "7904b4de",
   "metadata": {},
   "outputs": [],
   "source": [
    "logging.basicConfig(\n",
    "        format=\"%(asctime)s - %(levelname)s - %(name)s - %(message)s\",\n",
    "        datefmt=\"%m/%d/%Y %H:%M:%S\",\n",
    "        level=logging.INFO,\n",
    "    )"
   ]
  },
  {
   "cell_type": "code",
   "execution_count": null,
   "id": "525a679b",
   "metadata": {},
   "outputs": [],
   "source": [
    "logger.info(accelerator.state, main_process_only=False)\n",
    "if accelerator.is_local_main_process:\n",
    "    transformers.utils.logging.set_verbosity_info()\n",
    "else:\n",
    "    transformers.utils.logging.set_verbosity_error()"
   ]
  },
  {
   "cell_type": "code",
   "execution_count": null,
   "id": "8a354d06",
   "metadata": {},
   "outputs": [],
   "source": [
    "if not data_args.intact_eval:\n",
    "    train_args.output_dir = os.path.join(model_args.prediction_model_name_or_path,\n",
    "                                         f'step_{model_args.prediction_model_step}', 'partial_prediction')\n",
    "else:\n",
    "    train_args.output_dir = os.path.join(model_args.prediction_model_name_or_path,\n",
    "                                         f'step_{model_args.prediction_model_step}', 'intact_prediction')"
   ]
  },
  {
   "cell_type": "code",
   "execution_count": null,
   "id": "152c99dd",
   "metadata": {},
   "outputs": [],
   "source": [
    "print(train_args.output_dir)"
   ]
  },
  {
   "cell_type": "code",
   "execution_count": null,
   "id": "1b17aad8",
   "metadata": {},
   "outputs": [],
   "source": [
    "if accelerator.is_main_process and train_args.output_dir is not None:\n",
    "    os.makedirs(train_args.output_dir, exist_ok=True)\n",
    "accelerator.wait_for_everyone()"
   ]
  },
  {
   "cell_type": "code",
   "execution_count": null,
   "id": "8629b84f",
   "metadata": {},
   "outputs": [],
   "source": [
    "config_path = model_args.config_base_path"
   ]
  },
  {
   "cell_type": "code",
   "execution_count": null,
   "id": "341e62fb",
   "metadata": {},
   "outputs": [],
   "source": [
    "config_path"
   ]
  },
  {
   "cell_type": "code",
   "execution_count": null,
   "id": "8f2e6503",
   "metadata": {
    "scrolled": true
   },
   "outputs": [],
   "source": [
    "config = AutoConfig.from_pretrained(config_path, num_labels=data_args.num_labels)"
   ]
  },
  {
   "cell_type": "code",
   "execution_count": null,
   "id": "a85881d4",
   "metadata": {},
   "outputs": [],
   "source": [
    "tokenizer = AutoTokenizer.from_pretrained('t5-base')"
   ]
  },
  {
   "cell_type": "code",
   "execution_count": null,
   "id": "c12b6eac",
   "metadata": {},
   "outputs": [],
   "source": [
    "# pprint(vars(tokenizer))"
   ]
  },
  {
   "cell_type": "code",
   "execution_count": null,
   "id": "3ea25177",
   "metadata": {},
   "outputs": [],
   "source": [
    "model_args.prediction_model_name_or_path"
   ]
  },
  {
   "cell_type": "code",
   "execution_count": null,
   "id": "fb1bf0bc",
   "metadata": {},
   "outputs": [],
   "source": [
    "config_path"
   ]
  },
  {
   "cell_type": "code",
   "execution_count": null,
   "id": "dbf239e0",
   "metadata": {
    "scrolled": false
   },
   "outputs": [],
   "source": [
    "fid_model = FiDT5.from_pretrained(config_path)"
   ]
  },
  {
   "cell_type": "code",
   "execution_count": null,
   "id": "a306c9ec",
   "metadata": {},
   "outputs": [],
   "source": [
    "fid_encoder = fid_model.encoder.encoder"
   ]
  },
  {
   "cell_type": "code",
   "execution_count": null,
   "id": "3ff2c800",
   "metadata": {},
   "outputs": [],
   "source": [
    "train_args.headtype"
   ]
  },
  {
   "cell_type": "code",
   "execution_count": null,
   "id": "d697b6bd",
   "metadata": {},
   "outputs": [],
   "source": [
    "model = FiDEncoderForSequenceClassification(config, fid_encoder, pooler = train_args.headtype)"
   ]
  },
  {
   "cell_type": "code",
   "execution_count": null,
   "id": "1d27d800",
   "metadata": {},
   "outputs": [],
   "source": [
    "pytorch_model_path = os.path.join(model_args.prediction_model_name_or_path,\n",
    "                                      f'step_{model_args.prediction_model_step}', 'pytorch_model.bin')"
   ]
  },
  {
   "cell_type": "code",
   "execution_count": null,
   "id": "96a35729",
   "metadata": {},
   "outputs": [],
   "source": [
    "pytorch_model_path"
   ]
  },
  {
   "cell_type": "code",
   "execution_count": null,
   "id": "98d146a4",
   "metadata": {},
   "outputs": [],
   "source": [
    "state_dict_ = torch.load(pytorch_model_path)"
   ]
  },
  {
   "cell_type": "code",
   "execution_count": null,
   "id": "30e86405",
   "metadata": {},
   "outputs": [],
   "source": [
    "model.load_state_dict(state_dict_)"
   ]
  },
  {
   "cell_type": "code",
   "execution_count": null,
   "id": "04dea457",
   "metadata": {},
   "outputs": [],
   "source": [
    "# data_args.dataset_class\n",
    "data_args.eval_file"
   ]
  },
  {
   "cell_type": "code",
   "execution_count": null,
   "id": "1ea08e11",
   "metadata": {},
   "outputs": [],
   "source": [
    "eval_file = data_args.eval_file\n",
    "eval_data = utils.open_json(eval_file)\n",
    "DataSetClass = DATASET_MAPPING[data_args.dataset_class]\n",
    "eval_dataset = DataSetClass(eval_data, tokenizer=tokenizer,\n",
    "                            max_length=model_args.max_seq_length, shuffle=False)\n"
   ]
  },
  {
   "cell_type": "code",
   "execution_count": null,
   "id": "3c725b1f",
   "metadata": {},
   "outputs": [],
   "source": [
    "# for index in random.sample(range(len(eval_dataset)), 5):\n",
    "#     logger.info(f\"Sample {index} of the eval set: {eval_dataset[index]}.\")"
   ]
  },
  {
   "cell_type": "code",
   "execution_count": null,
   "id": "7c7a225d",
   "metadata": {},
   "outputs": [],
   "source": [
    "data_collator = DataCollatorWithPadding(tokenizer, pad_to_multiple_of=8)"
   ]
  },
  {
   "cell_type": "code",
   "execution_count": null,
   "id": "424b552f",
   "metadata": {},
   "outputs": [],
   "source": [
    "eval_dataloader = DataLoader(eval_dataset,\n",
    "                             shuffle=False,\n",
    "                             collate_fn=data_collator,\n",
    "                             batch_size=train_args.per_device_eval_batch_size,\n",
    "                             )"
   ]
  },
  {
   "cell_type": "code",
   "execution_count": null,
   "id": "9458fb1a",
   "metadata": {},
   "outputs": [],
   "source": [
    "model, eval_dataloader = accelerator.prepare(\n",
    "    model, eval_dataloader\n",
    ")"
   ]
  },
  {
   "cell_type": "code",
   "execution_count": null,
   "id": "fad525c7",
   "metadata": {},
   "outputs": [],
   "source": [
    "metric_acc = evaluate.load(\"accuracy\")\n",
    "metric_pre = evaluate.load('precision')\n",
    "metric_re = evaluate.load('recall')\n",
    "metric_f1 = evaluate.load('f1')"
   ]
  },
  {
   "cell_type": "code",
   "execution_count": null,
   "id": "b7f88128",
   "metadata": {},
   "outputs": [],
   "source": [
    "logger.info(\"***** Running evaluation *****\")\n",
    "logger.info(f\"  Num examples = {len(eval_dataset)}\")\n",
    "logger.info(f\"  Instantaneous batch size per device = {train_args.per_device_eval_batch_size}\")\n",
    "logger.info(f\"  Steps = {math.ceil(len(eval_dataset)/train_args.per_device_eval_batch_size) + 1}\")\n"
   ]
  },
  {
   "cell_type": "code",
   "execution_count": null,
   "id": "cf0e34bb",
   "metadata": {},
   "outputs": [],
   "source": [
    "# Saving model_args, data_args, train_args\n",
    "train_dict = vars(train_args)\n",
    "logger.info(f\"  Saving training_args = {train_dict}\")\n",
    "with open(os.path.join(train_args.output_dir, \"train_args.json\"), \"w\") as f:\n",
    "    json.dump(train_dict, f)\n",
    "\n",
    "model_dict = vars(model_args)\n",
    "logger.info(f\"  Saving model_args = {model_dict}\")\n",
    "with open(os.path.join(train_args.output_dir, \"model_args.json\"), \"w\") as f:\n",
    "    json.dump(model_dict, f)\n",
    "\n",
    "data_dict = vars(data_args)\n",
    "logger.info(f\"  Saving data_args = {data_dict}\")\n",
    "with open(os.path.join(train_args.output_dir, \"data_args.json\"), \"w\") as f:\n",
    "    json.dump(data_dict, f)"
   ]
  },
  {
   "cell_type": "code",
   "execution_count": null,
   "id": "2800eb3f",
   "metadata": {},
   "outputs": [],
   "source": [
    "eval_progress_bar = tqdm(range(len(eval_dataloader)), disable=not accelerator.is_local_main_process)"
   ]
  },
  {
   "cell_type": "code",
   "execution_count": null,
   "id": "a12b1d7e",
   "metadata": {},
   "outputs": [],
   "source": [
    "eval_loss = 0\n",
    "model.eval()\n",
    "samples_seen = 0\n",
    "prediction_lst = []\n",
    "reference_lst = []"
   ]
  },
  {
   "cell_type": "code",
   "execution_count": null,
   "id": "572d0dd8",
   "metadata": {},
   "outputs": [],
   "source": [
    "for step, batch in enumerate(eval_dataloader):\n",
    "    with torch.no_grad():\n",
    "        outputs = model(**batch)\n",
    "        loss = outputs.loss\n",
    "    if train_args.with_tracking:\n",
    "        eval_loss += loss.detach().float()\n",
    "\n",
    "    predictions = outputs.logits.argmax(dim=-1)\n",
    "    predictions, references = accelerator.gather((predictions, batch[\"labels\"]))\n",
    "    # If we are in a multiprocess environment, the last batch has duplicates\n",
    "    if accelerator.num_processes > 1:\n",
    "        if step == len(eval_dataloader) - 1:\n",
    "            predictions = predictions[: len(eval_dataloader.dataset) - samples_seen]\n",
    "            references = references[: len(eval_dataloader.dataset) - samples_seen]\n",
    "        else:\n",
    "            samples_seen += references.shape[0]\n",
    "    \n",
    "    metric_acc.add_batch(\n",
    "        predictions=predictions,\n",
    "        references=references,\n",
    "    )\n",
    "    metric_pre.add_batch(\n",
    "        predictions=predictions,\n",
    "        references=references,\n",
    "    )\n",
    "    metric_re.add_batch(\n",
    "        predictions=predictions,\n",
    "        references=references,\n",
    "    )\n",
    "    metric_f1.add_batch(\n",
    "        predictions=predictions,\n",
    "        references=references,\n",
    "    )\n",
    "    eval_progress_bar.update(1)\n",
    "    prediction_lst.extend(predictions.detach().cpu().tolist())\n",
    "    reference_lst.extend(references.detach().cpu().tolist())\n",
    "#     print(f'predictions : {predictions}')\n",
    "#     print(f'prediction_lst : {prediction_lst}')\n",
    "#     print(f'references : {references}')\n",
    "#     print(f'eval_loss : {eval_loss}')\n"
   ]
  },
  {
   "cell_type": "code",
   "execution_count": null,
   "id": "06fafa12",
   "metadata": {},
   "outputs": [],
   "source": [
    "eval_metric = metric_acc.compute()\n",
    "eval_metric_pre = metric_pre.compute()\n",
    "eval_metric_re = metric_re.compute()\n",
    "eval_metric_f1 = metric_f1.compute()\n",
    "\n",
    "logger.info(f\"Accuracy : {eval_metric['accuracy']} Precision : {eval_metric_pre['precision']}\")\n",
    "logger.info(f\"Recall : {eval_metric_re['recall']} F1 : {eval_metric_f1['f1']}\")\n",
    "logger.info(f\"Eval_loss : {eval_loss.item() / len(eval_dataloader)}\")\n"
   ]
  },
  {
   "cell_type": "code",
   "execution_count": null,
   "id": "6e15d73a",
   "metadata": {},
   "outputs": [],
   "source": [
    "result_log = {\n",
    "    \"eval_accuracy\": eval_metric['accuracy'],\n",
    "    \"eval_precision\": eval_metric_pre['precision'],\n",
    "    \"eval_recall\": eval_metric_re['recall'],\n",
    "    \"eval_f1\": eval_metric_f1['f1'],\n",
    "    \"eval_loss\": eval_loss.item() / len(eval_dataloader),\n",
    "}"
   ]
  },
  {
   "cell_type": "code",
   "execution_count": null,
   "id": "1fe4c305",
   "metadata": {},
   "outputs": [],
   "source": [
    "output_result_path = os.path.join(train_args.output_dir, 'result.json')\n",
    "with open(output_result_path, \"w\") as f:\n",
    "    json.dump(result_log, f)"
   ]
  },
  {
   "cell_type": "code",
   "execution_count": null,
   "id": "aff409a1",
   "metadata": {},
   "outputs": [],
   "source": [
    "output_result_path"
   ]
  },
  {
   "cell_type": "code",
   "execution_count": null,
   "id": "5dede458",
   "metadata": {},
   "outputs": [],
   "source": [
    "prediction_np = np.array(prediction_lst)\n",
    "reference_np = np.array(reference_lst)"
   ]
  },
  {
   "cell_type": "code",
   "execution_count": null,
   "id": "0a0c8fd7",
   "metadata": {},
   "outputs": [],
   "source": [
    "for ins, p_, r_ in zip(eval_data, prediction_np, reference_np):\n",
    "    if str(r_) != ins['em']:\n",
    "        logger.info(f\"Not Matching Instance\")\n",
    "    ins['binary_inference'] = str(p_)"
   ]
  },
  {
   "cell_type": "code",
   "execution_count": null,
   "id": "182a88d7",
   "metadata": {},
   "outputs": [],
   "source": [
    "predcition_output_path = os.path.join(train_args.output_dir, 'prediction.json')\n",
    "with open(predcition_output_path, \"w\") as f:\n",
    "    json.dump(eval_data, f)"
   ]
  },
  {
   "cell_type": "code",
   "execution_count": null,
   "id": "4d643f84",
   "metadata": {},
   "outputs": [],
   "source": [
    "predcition_output_path"
   ]
  },
  {
   "cell_type": "code",
   "execution_count": null,
   "id": "22b3cfab",
   "metadata": {},
   "outputs": [],
   "source": []
  },
  {
   "cell_type": "code",
   "execution_count": null,
   "id": "959da51c",
   "metadata": {},
   "outputs": [],
   "source": []
  },
  {
   "cell_type": "code",
   "execution_count": null,
   "id": "2632a94e",
   "metadata": {},
   "outputs": [],
   "source": []
  },
  {
   "cell_type": "code",
   "execution_count": null,
   "id": "2b0a69fb",
   "metadata": {},
   "outputs": [],
   "source": []
  },
  {
   "cell_type": "markdown",
   "id": "f8c9af90",
   "metadata": {},
   "source": [
    "# Get top model"
   ]
  },
  {
   "cell_type": "code",
   "execution_count": null,
   "id": "2bdb48ba",
   "metadata": {},
   "outputs": [],
   "source": [
    "path = '/data/philhoon-relevance/binary-classification/results/NQ-DEV-DPR/5-fold/1/roberta-decisive_binary_data-weighted-trial3_desktop1'\n",
    "path = '/data/philhoon-relevance/binary-classification/results/NQ-DEV-DPR/5-fold/1/roberta-decisive_binary_gold_data_trial1'\n",
    "\n",
    "\n",
    "\n",
    "\n",
    "\n",
    "\n"
   ]
  },
  {
   "cell_type": "code",
   "execution_count": null,
   "id": "728f2e89",
   "metadata": {},
   "outputs": [],
   "source": [
    "import pathlib\n",
    "from pprint import pprint"
   ]
  },
  {
   "cell_type": "code",
   "execution_count": null,
   "id": "c96eda62",
   "metadata": {},
   "outputs": [],
   "source": [
    "path"
   ]
  },
  {
   "cell_type": "code",
   "execution_count": null,
   "id": "e038f7fa",
   "metadata": {},
   "outputs": [],
   "source": [
    "path = pathlib.Path(path)"
   ]
  },
  {
   "cell_type": "code",
   "execution_count": null,
   "id": "fa1568ab",
   "metadata": {},
   "outputs": [],
   "source": [
    "files = path.glob('*/*[0-9]_results.json')\n",
    "# pprint(list(files))"
   ]
  },
  {
   "cell_type": "code",
   "execution_count": null,
   "id": "b732ff23",
   "metadata": {
    "scrolled": false
   },
   "outputs": [],
   "source": [
    "step_result = []\n",
    "\n",
    "for file in files:\n",
    "    step = str(file).split('/')[-2]\n",
    "    result = utils.open_json(file)\n",
    "    step_result.append(result)\n",
    "    \n",
    "pprint(step_result)"
   ]
  },
  {
   "cell_type": "code",
   "execution_count": null,
   "id": "5bb09a1d",
   "metadata": {},
   "outputs": [],
   "source": [
    "score_dict = {}\n",
    "for dict_ins in step_result:\n",
    "    score_dict[dict_ins['step']] = 0\n",
    "print(score_dict)"
   ]
  },
  {
   "cell_type": "code",
   "execution_count": null,
   "id": "263d4ece",
   "metadata": {},
   "outputs": [],
   "source": [
    "top_n = len(step_result)"
   ]
  },
  {
   "cell_type": "code",
   "execution_count": null,
   "id": "91a42566",
   "metadata": {},
   "outputs": [],
   "source": [
    "sorted(step_result, key=lambda x: x['eval_accuracy'], reverse = True) "
   ]
  },
  {
   "cell_type": "code",
   "execution_count": null,
   "id": "5a622a6f",
   "metadata": {},
   "outputs": [],
   "source": [
    "def sort_by(result, key, top_k, score_dict):\n",
    "    newlist = sorted(result, key=lambda d: d[key], reverse = True) \n",
    "    print(f'sorting by {key}')\n",
    "    for dic_ in newlist[:top_k]:\n",
    "        print(f\"step : {dic_['step']}, key : {dic_[key]}\")\n",
    "    for dic_, score_ in zip(newlist, list(range(len(step_result) ,0 , -1))):\n",
    "        score_dict[dic_['step']] += score_\n",
    "    print(score_dict)"
   ]
  },
  {
   "cell_type": "code",
   "execution_count": null,
   "id": "07fef0bc",
   "metadata": {},
   "outputs": [],
   "source": [
    "sort_by(step_result, 'eval_accuracy', top_n, score_dict)"
   ]
  },
  {
   "cell_type": "code",
   "execution_count": null,
   "id": "c4f08be6",
   "metadata": {},
   "outputs": [],
   "source": [
    "sort_by(step_result, 'eval_f1', top_n, score_dict)"
   ]
  },
  {
   "cell_type": "code",
   "execution_count": null,
   "id": "1eb0c093",
   "metadata": {},
   "outputs": [],
   "source": [
    "sort_by(step_result, 'eval_precision', top_n, score_dict)"
   ]
  },
  {
   "cell_type": "code",
   "execution_count": null,
   "id": "5a99b3dc",
   "metadata": {},
   "outputs": [],
   "source": [
    "sort_by(step_result, 'eval_recall', top_n, score_dict)"
   ]
  },
  {
   "cell_type": "code",
   "execution_count": null,
   "id": "a8e20e71",
   "metadata": {},
   "outputs": [],
   "source": [
    "def sort_by(result, key, top_k, score_dict):\n",
    "    newlist = sorted(result, key=lambda d: d[key], reverse = True) \n",
    "    print(f'sorting by {key}')\n",
    "    for dic_ in newlist[:top_k]:\n",
    "        print(f\"step : {dic_['step']}, key : {dic_[key]}\")\n",
    "    for dic_, score_ in zip(newlist, list(range(len(step_result) ,0 , -1))):\n",
    "        score_dict[dic_['step']] += score_\n",
    "    print(score_dict)"
   ]
  },
  {
   "cell_type": "code",
   "execution_count": null,
   "id": "a5875e59",
   "metadata": {},
   "outputs": [],
   "source": [
    "sorted_score_dict = sorted(score_dict.items(), key=lambda x:x[1], reverse = True)\n",
    "for k, v in sorted_score_dict:\n",
    "    print(f'step {k} : scores : {v}')"
   ]
  },
  {
   "cell_type": "markdown",
   "id": "9ee03d5e",
   "metadata": {},
   "source": [
    "## Reverse REsult"
   ]
  },
  {
   "cell_type": "code",
   "execution_count": null,
   "id": "43a4da83",
   "metadata": {},
   "outputs": [],
   "source": [
    "files = path.glob('*/*rev_results.json')\n",
    "# pprint(list(files))"
   ]
  },
  {
   "cell_type": "code",
   "execution_count": null,
   "id": "ee2bdf8c",
   "metadata": {},
   "outputs": [],
   "source": [
    "step_result = []\n",
    "\n",
    "for file in files:\n",
    "    step = str(file).split('/')[-2]\n",
    "    result = utils.open_json(file)\n",
    "    step_result.append(result)"
   ]
  },
  {
   "cell_type": "code",
   "execution_count": null,
   "id": "678e0f99",
   "metadata": {},
   "outputs": [],
   "source": [
    "# pprint(step_result)"
   ]
  },
  {
   "cell_type": "code",
   "execution_count": null,
   "id": "252d9604",
   "metadata": {},
   "outputs": [],
   "source": [
    "score_dict = {}\n",
    "for dict_ins in step_result:\n",
    "    score_dict[dict_ins['step']] = 0\n",
    "print(score_dict)"
   ]
  },
  {
   "cell_type": "code",
   "execution_count": null,
   "id": "2b85f312",
   "metadata": {},
   "outputs": [],
   "source": [
    "top_n = len(step_result)"
   ]
  },
  {
   "cell_type": "code",
   "execution_count": null,
   "id": "ad41f8e9",
   "metadata": {},
   "outputs": [],
   "source": [
    "sort_by(step_result, 'eval_rev_accuracy', top_n, score_dict)"
   ]
  },
  {
   "cell_type": "code",
   "execution_count": null,
   "id": "a129f70d",
   "metadata": {},
   "outputs": [],
   "source": [
    "sort_by(step_result, 'eval_rev_precision', top_n, score_dict)"
   ]
  },
  {
   "cell_type": "code",
   "execution_count": null,
   "id": "72dc37de",
   "metadata": {},
   "outputs": [],
   "source": [
    "sort_by(step_result, 'eval_rev_recall', top_n, score_dict)"
   ]
  },
  {
   "cell_type": "code",
   "execution_count": null,
   "id": "69158f8d",
   "metadata": {},
   "outputs": [],
   "source": [
    "sort_by(step_result, 'eval_rev_f1', top_n, score_dict)"
   ]
  },
  {
   "cell_type": "code",
   "execution_count": null,
   "id": "17c1d1f0",
   "metadata": {},
   "outputs": [],
   "source": [
    "def sort_by(result, key, top_k, score_dict):\n",
    "    newlist = sorted(result, key=lambda d: d[key], reverse = True) \n",
    "    print(f'sorting by {key}')\n",
    "    for dic_ in newlist[:top_k]:\n",
    "        print(f\"step : {dic_['step']}, key : {dic_[key]}\")\n",
    "    for dic_, score_ in zip(newlist, list(range(len(step_result) ,0 , -1))):\n",
    "        score_dict[dic_['step']] += score_\n",
    "    print(score_dict)"
   ]
  },
  {
   "cell_type": "code",
   "execution_count": null,
   "id": "ec0696e2",
   "metadata": {},
   "outputs": [],
   "source": [
    "sorted_score_dict = sorted(score_dict.items(), key=lambda x:x[1], reverse = True)\n",
    "for k, v in sorted_score_dict:\n",
    "    print(f'step {k} : scores : {v}')"
   ]
  },
  {
   "cell_type": "code",
   "execution_count": null,
   "id": "5a4d61a1",
   "metadata": {},
   "outputs": [],
   "source": []
  },
  {
   "cell_type": "code",
   "execution_count": null,
   "id": "7f0533c7",
   "metadata": {},
   "outputs": [],
   "source": []
  },
  {
   "cell_type": "code",
   "execution_count": null,
   "id": "857df0f2",
   "metadata": {},
   "outputs": [],
   "source": []
  },
  {
   "cell_type": "code",
   "execution_count": null,
   "id": "2567751a",
   "metadata": {},
   "outputs": [],
   "source": []
  },
  {
   "cell_type": "code",
   "execution_count": null,
   "id": "b5256252",
   "metadata": {},
   "outputs": [],
   "source": []
  },
  {
   "cell_type": "code",
   "execution_count": null,
   "id": "6e5baea4",
   "metadata": {},
   "outputs": [],
   "source": []
  },
  {
   "cell_type": "code",
   "execution_count": null,
   "id": "6f162ceb",
   "metadata": {},
   "outputs": [],
   "source": []
  },
  {
   "cell_type": "code",
   "execution_count": null,
   "id": "4e491931",
   "metadata": {},
   "outputs": [],
   "source": []
  },
  {
   "cell_type": "code",
   "execution_count": null,
   "id": "626a9483",
   "metadata": {},
   "outputs": [],
   "source": [
    "prediction_file = '/data/philhoon-relevance/binary-classification/results/NQ-DEV-DPR/5-fold/1/roberta-decisive_binary_gold_data_trial1/step_320/prediction/prediction.json'\n",
    "# prediction_file = '/data/philhoon-relevance/binary-classification/results/NQ-DEV-DPR/5-fold/1/fid-encoder-adpative-decisive-trial7/step_360/partial_prediction/prediction.json'\n",
    "predict_data = utils.open_json(prediction_file)\n"
   ]
  },
  {
   "cell_type": "code",
   "execution_count": null,
   "id": "ffbd8f9b",
   "metadata": {},
   "outputs": [],
   "source": [
    "len(predict_data)"
   ]
  },
  {
   "cell_type": "code",
   "execution_count": null,
   "id": "2203fc61",
   "metadata": {},
   "outputs": [],
   "source": [
    "predict_data[0]"
   ]
  },
  {
   "cell_type": "code",
   "execution_count": null,
   "id": "778a0317",
   "metadata": {},
   "outputs": [],
   "source": [
    "ref_lst = []\n",
    "pre_lst = []\n",
    "for ins in predict_data:\n",
    "    ref_lst.append(int(ins['em']))\n",
    "    pre_lst.append(int(ins['binary_inference']))"
   ]
  },
  {
   "cell_type": "code",
   "execution_count": null,
   "id": "04b5ca29",
   "metadata": {},
   "outputs": [],
   "source": [
    "from collections import Counter"
   ]
  },
  {
   "cell_type": "code",
   "execution_count": null,
   "id": "1769b2a6",
   "metadata": {},
   "outputs": [],
   "source": [
    "def check_ratio(data):\n",
    "    counter = Counter(data)\n",
    "    print(counter)"
   ]
  },
  {
   "cell_type": "code",
   "execution_count": null,
   "id": "ae81f73e",
   "metadata": {},
   "outputs": [],
   "source": [
    "check_ratio(ref_lst)"
   ]
  },
  {
   "cell_type": "code",
   "execution_count": null,
   "id": "dead02a5",
   "metadata": {},
   "outputs": [],
   "source": [
    "check_ratio(pre_lst)"
   ]
  },
  {
   "cell_type": "code",
   "execution_count": null,
   "id": "528c201a",
   "metadata": {},
   "outputs": [],
   "source": [
    "from sklearn.metrics import confusion_matrix\n",
    "import pandas as pd"
   ]
  },
  {
   "cell_type": "code",
   "execution_count": null,
   "id": "521214b3",
   "metadata": {},
   "outputs": [],
   "source": [
    "reference_np = np.array(ref_lst)\n",
    "prediction_np = np.array(pre_lst)\n",
    "y_actu = pd.Series(reference_np, name='Actual')\n",
    "y_pred = pd.Series(prediction_np, name='Predicted')"
   ]
  },
  {
   "cell_type": "code",
   "execution_count": null,
   "id": "b1d5da1b",
   "metadata": {},
   "outputs": [],
   "source": [
    "df_confusion = pd.crosstab(y_actu, y_pred, rownames=['Actual'], colnames=['Predicted'], margins=True)\n",
    "df_confusion"
   ]
  },
  {
   "cell_type": "code",
   "execution_count": null,
   "id": "818084a8",
   "metadata": {},
   "outputs": [],
   "source": [
    "from sklearn.metrics import accuracy_score\n",
    "from sklearn.metrics import precision_score\n",
    "from sklearn.metrics import recall_score\n",
    "from sklearn.metrics import f1_score"
   ]
  },
  {
   "cell_type": "code",
   "execution_count": null,
   "id": "24ffdaba",
   "metadata": {},
   "outputs": [],
   "source": [
    "accuracy = accuracy_score(y_actu, y_pred)\n",
    "print('Accuracy: %f' % accuracy)\n",
    "# precision tp / (tp + fp)\n",
    "precision = precision_score(y_actu, y_pred)\n",
    "print('Precision: %f' % precision)\n",
    "# recall: tp / (tp + fn)\n",
    "recall = recall_score(y_actu, y_pred)\n",
    "print('Recall: %f' % recall)\n",
    "# f1: 2 tp / (2 tp + fp + fn)\n",
    "f1 = f1_score(y_actu, y_pred)\n",
    "print('F1 score: %f' % f1)"
   ]
  },
  {
   "cell_type": "code",
   "execution_count": null,
   "id": "0650524d",
   "metadata": {},
   "outputs": [],
   "source": [
    "reversey_pred = y_pred.map(lambda x : 0 if x == 1 else 1)"
   ]
  },
  {
   "cell_type": "code",
   "execution_count": null,
   "id": "0fed78de",
   "metadata": {},
   "outputs": [],
   "source": [
    "reversey_pred"
   ]
  },
  {
   "cell_type": "code",
   "execution_count": null,
   "id": "7b818afa",
   "metadata": {},
   "outputs": [],
   "source": [
    "reversey_actu = y_actu.map(lambda x : 0 if x == 1 else 1)"
   ]
  },
  {
   "cell_type": "code",
   "execution_count": null,
   "id": "acaa8093",
   "metadata": {},
   "outputs": [],
   "source": [
    "accuracy = accuracy_score(reversey_actu, reversey_pred)\n",
    "print('Accuracy: %f' % accuracy)\n",
    "# precision tp / (tp + fp)\n",
    "precision = precision_score(reversey_actu, reversey_pred)\n",
    "print('Precision: %f' % precision)\n",
    "# recall: tp / (tp + fn)\n",
    "recall = recall_score(reversey_actu, reversey_pred)\n",
    "print('Recall: %f' % recall)\n",
    "# f1: 2 tp / (2 tp + fp + fn)\n",
    "f1 = f1_score(reversey_actu, reversey_pred)\n",
    "print('F1 score: %f' % f1)"
   ]
  },
  {
   "cell_type": "markdown",
   "id": "ccda263c",
   "metadata": {},
   "source": [
    "## Reversing Result"
   ]
  },
  {
   "cell_type": "code",
   "execution_count": null,
   "id": "8fb4ab57",
   "metadata": {},
   "outputs": [],
   "source": [
    "y_actu = pd.Series(reference_np, name='Actual')\n",
    "y_pred = pd.Series(prediction_np, name='Predicted')\n",
    "df_confusion = pd.crosstab(y_actu, y_pred, rownames=['Actual'], colnames=['Predicted'], margins=True)\n",
    "df_confusion"
   ]
  },
  {
   "cell_type": "code",
   "execution_count": null,
   "id": "e9fd3612",
   "metadata": {},
   "outputs": [],
   "source": [
    "len(eval_data)"
   ]
  },
  {
   "cell_type": "code",
   "execution_count": null,
   "id": "cd60409c",
   "metadata": {},
   "outputs": [],
   "source": [
    "len(prediction_np)"
   ]
  },
  {
   "cell_type": "code",
   "execution_count": null,
   "id": "cced8a4f",
   "metadata": {},
   "outputs": [],
   "source": [
    "for ins, p_, r_ in zip(eval_data, prediction_np, reference_np):\n",
    "    if str(r_) != ins['em']:\n",
    "        logger.info(f\"Not Matching Instance\")\n",
    "        break\n",
    "    ins['binary_inference'] = str(p_)"
   ]
  },
  {
   "cell_type": "code",
   "execution_count": null,
   "id": "367c0580",
   "metadata": {},
   "outputs": [],
   "source": [
    "eval_data[2]"
   ]
  },
  {
   "cell_type": "code",
   "execution_count": null,
   "id": "18ff0c7e",
   "metadata": {},
   "outputs": [],
   "source": [
    "predcition_output_path = os.path.join(train_args.output_dir, 'prediction.json')"
   ]
  },
  {
   "cell_type": "code",
   "execution_count": null,
   "id": "c5c7b145",
   "metadata": {},
   "outputs": [],
   "source": [
    "with open(predcition_output_path, \"w\") as f:\n",
    "    json.dump(eval_data, f)"
   ]
  },
  {
   "cell_type": "code",
   "execution_count": null,
   "id": "835b3688",
   "metadata": {},
   "outputs": [],
   "source": []
  },
  {
   "cell_type": "code",
   "execution_count": null,
   "id": "36c0de60",
   "metadata": {},
   "outputs": [],
   "source": []
  },
  {
   "cell_type": "code",
   "execution_count": null,
   "id": "99551e35",
   "metadata": {},
   "outputs": [],
   "source": []
  },
  {
   "cell_type": "code",
   "execution_count": null,
   "id": "1751c78c",
   "metadata": {},
   "outputs": [],
   "source": []
  }
 ],
 "metadata": {
  "kernelspec": {
   "display_name": "relevance-kilt",
   "language": "python",
   "name": "relevance-kilt"
  },
  "language_info": {
   "codemirror_mode": {
    "name": "ipython",
    "version": 3
   },
   "file_extension": ".py",
   "mimetype": "text/x-python",
   "name": "python",
   "nbconvert_exporter": "python",
   "pygments_lexer": "ipython3",
   "version": "3.8.13"
  }
 },
 "nbformat": 4,
 "nbformat_minor": 5
}
