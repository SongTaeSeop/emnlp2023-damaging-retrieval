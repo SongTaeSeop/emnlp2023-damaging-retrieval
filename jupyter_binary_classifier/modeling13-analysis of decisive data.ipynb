{
 "cells": [
  {
   "cell_type": "markdown",
   "id": "e86601ea",
   "metadata": {},
   "source": [
    "# modeling13-analysis of decisive data\n",
    "\n",
    "- Analyzing decisive data"
   ]
  },
  {
   "cell_type": "code",
   "execution_count": null,
   "id": "05b5b23e",
   "metadata": {},
   "outputs": [],
   "source": [
    "import numpy as np\n",
    "import pathlib\n",
    "from pprint import pprint\n",
    "import pandas as pd\n",
    "from util import utils\n",
    "import re\n",
    "import os"
   ]
  },
  {
   "cell_type": "code",
   "execution_count": null,
   "id": "257dbd20",
   "metadata": {},
   "outputs": [],
   "source": [
    "gold_input = '/data/philhoon-relevance/binary-classification/NQ-TEST-DPR/binary_decisive_format_gold_ctx100id_test.json'"
   ]
  },
  {
   "cell_type": "code",
   "execution_count": null,
   "id": "1ff8a062",
   "metadata": {},
   "outputs": [],
   "source": [
    "in_data = utils.open_json(gold_input)"
   ]
  },
  {
   "cell_type": "code",
   "execution_count": null,
   "id": "ab21c107",
   "metadata": {
    "scrolled": false
   },
   "outputs": [],
   "source": [
    "in_data[0]\n",
    "\n",
    "for instance in in_data:\n",
    "#     if instance['gold'] in instance['ctx']['text']:\n",
    "#         print(f'gold exist in text')\n",
    "#         print(f\"em : {instance['em']}\")\n",
    "#     elif instance['gold'] in instance['ctx']['title']:\n",
    "#         print(f'gold exist in title')\n",
    "#         print(f\"em : {instance['em']}\")\n",
    "        \n",
    "#     else:\n",
    "#         print(f'gold not exist')\n",
    "#         print(f\"em : {instance['em']}\")\n",
    "    if instance['em'] == '0':\n",
    "        pprint(instance)\n",
    "        input(\"Press Enter to continue...\")"
   ]
  },
  {
   "cell_type": "code",
   "execution_count": null,
   "id": "6f38e23f",
   "metadata": {},
   "outputs": [],
   "source": [
    "len(in_data)"
   ]
  },
  {
   "cell_type": "markdown",
   "id": "e5e85d58",
   "metadata": {},
   "source": [
    "    {'answers': ['middle layer', 'The uvea', 'uvea'],\n",
    "     'ctx': {'id': '2829741',\n",
    "             'text': 'Choroid The choroid, also known as the choroidea or choroid '\n",
    "                     'coat, is the vascular layer of the eye, containing '\n",
    "                     'connective tissues, and lying between the retina and the '\n",
    "                     'sclera. The human choroid is thickest at the far extreme '\n",
    "                     'rear of the eye (at 0.2 mm), while in the outlying areas it '\n",
    "                     'narrows to 0.1 mm. The choroid provides oxygen and '\n",
    "                     'nourishment to the outer layers of the retina. Along with '\n",
    "                     'the ciliary body and iris, the choroid forms the uveal '\n",
    "                     'tract. The structure of the choroid is generally divided '\n",
    "                     'into four layers (classified in order of furthest away from '\n",
    "                     'the',\n",
    "             'title': 'Choroid'},\n",
    "     'em': '0',\n",
    "     'gold': 'uvea',\n",
    "     'id': 56,\n",
    "     'inference': 'choroid',\n",
    "     'question': 'the vascular layer of the eye is the'}"
   ]
  },
  {
   "cell_type": "code",
   "execution_count": null,
   "id": "6c1f6b28",
   "metadata": {},
   "outputs": [],
   "source": []
  },
  {
   "cell_type": "code",
   "execution_count": null,
   "id": "5af617b2",
   "metadata": {},
   "outputs": [],
   "source": []
  },
  {
   "cell_type": "code",
   "execution_count": null,
   "id": "095be048",
   "metadata": {},
   "outputs": [],
   "source": []
  },
  {
   "cell_type": "code",
   "execution_count": null,
   "id": "3fd84693",
   "metadata": {},
   "outputs": [],
   "source": []
  },
  {
   "cell_type": "markdown",
   "id": "ac9b45a1",
   "metadata": {},
   "source": [
    "## Incremental Testing Setting\n",
    "\n",
    "### 3 Method (Check out README.md)\n",
    "\n",
    "### Method 2 (2nd method of in README.md)\n",
    "    - The sooner, The better approach\n",
    "      - Keep the Positive Context in order\n",
    "    - Since we testing it, let's keep sample size of 5\n",
    "    - When there is no Exact Mathcing during the incremental inference e.g.) em_pattern = '00000'\n",
    "        - Keep the whole context so that those cases will have False on Exact Match values\n",
    "        \n",
    "    - Patterns: \n",
    "        - first 1 : positive\n",
    "        - first 0 : irrelevant \n",
    "            - we know that first is the positive context that includes answer\n",
    "            - with that perspective, it is relevant in theory\n",
    "            - ; however, dataset is created via BLEU score on two different corpus.\n",
    "            - If FiD does not correctly infer the output, \n",
    "            - context what we concieved of artificial positive context is actually irrelevant to the query.\n",
    "            - Also when realistic scenario, we don't know whether the first context contains the answer\n",
    "        - 01 pattern : Positive \n",
    "        - 11 pattern : Strict Positive(relevant) or Naive Positive(positive)\n",
    "        - 00 pattern : Strict Damaging(irrelevant) or Naive Damaging(damaging) \n",
    "        - 10 pattern : Damaging\n",
    "        \n",
    "        - 11 pattern : relevant vs positive\n",
    "            Strict Positive\n",
    "                Under strict rule : consider it as relevant ?(or irrelevant?)\n",
    "                                in terms of strictly limiting the number of positive passages\n",
    "            Naive Positive\n",
    "                Under naive rule : consider it as positive\n",
    "                                in that this would increase the number of positive passages\n",
    "                \n",
    "        - A00 pattern : irrelevant vs damaging\n",
    "            if '1' does not occured in A, currnet passage is irrelevant\n",
    "            if '1' occurred in A, current passage is damaging either irrelevant \n",
    "                Strict Damaging\n",
    "                    Under strict rule : consider it as irrelevnat \n",
    "                                    in terms of strictly limiting the number of damaging passage\n",
    "                Naive Damaging\n",
    "                    Under naive rule : consider it as damaging \n",
    "                                    in that this would increase the number of damaging passages\n",
    "        \n",
    "    - Options1 : Removes only damaging\n",
    "    - Options2 : Removes damaging + irrelevant\n",
    "    - Options3 : Removes damaging + relevant\n",
    "    - Options4 : Removes damaging + irrelevant + relevnat\n",
    "        "
   ]
  },
  {
   "cell_type": "markdown",
   "id": "d2f3933d",
   "metadata": {},
   "source": [
    "# Input\n",
    "    - result from 5-1\n",
    "    - /data/philhoon-relevance/FiD/results/KILT_BM25_NQ/incremental_result/pos1_ctx5.json"
   ]
  },
  {
   "cell_type": "markdown",
   "id": "8cb2e864",
   "metadata": {},
   "source": [
    "# Trials\n",
    "    - Need to check FiD input when there are less ctxs than n_context"
   ]
  },
  {
   "cell_type": "markdown",
   "id": "48e70256",
   "metadata": {},
   "source": [
    "# Binary Classification Output File"
   ]
  },
  {
   "cell_type": "code",
   "execution_count": null,
   "id": "cb6c0d99",
   "metadata": {},
   "outputs": [],
   "source": [
    "sample_size = 100\n",
    "# input_file = f'/data/philhoon-relevance/binary-classification/results/NQ-DEV-DPR/5-fold/1/fid-encoder-adpative-decisive-trial7/step_360/intact_prediction/prediction.json'\n",
    "# input_path = '/data/philhoon-relevance/binary-classification/results/NQ-DEV-DPR/5-fold/1/fid-encoder-linear-decisive-trial6/step_80/intact_prediction'\n",
    "input_path = '/data/philhoon-relevance/binary-classification/results/NQ-DEV-DPR/5-fold/1/roberta-decisive_binary_data-weighted-trial3_desktop1/step_240/intact_prediction'\n",
    "\n",
    "input_file = 'prediction.json'\n",
    "input_file_path = os.path.join(input_path, input_file)\n",
    "input_data = utils.open_json(input_file_path)\n",
    "pprint((input_data[5]))\n"
   ]
  },
  {
   "cell_type": "code",
   "execution_count": null,
   "id": "76c63fbb",
   "metadata": {},
   "outputs": [],
   "source": [
    "len(input_data)"
   ]
  },
  {
   "cell_type": "code",
   "execution_count": null,
   "id": "25a8da3b",
   "metadata": {},
   "outputs": [],
   "source": [
    "predict_id = {}\n",
    "for ins in input_data:\n",
    "    if ins['id'] not in predict_id:\n",
    "        predict_id[ins['id']] = str(ins['binary_inference'])\n",
    "    else:\n",
    "        predict_id[ins['id']] += str(ins['binary_inference'])"
   ]
  },
  {
   "cell_type": "code",
   "execution_count": null,
   "id": "172c0626",
   "metadata": {},
   "outputs": [],
   "source": [
    "print(len(predict_id))"
   ]
  },
  {
   "cell_type": "code",
   "execution_count": null,
   "id": "60873d29",
   "metadata": {},
   "outputs": [],
   "source": [
    "print(len(predict_id[0]))"
   ]
  },
  {
   "cell_type": "markdown",
   "id": "089262b2",
   "metadata": {},
   "source": [
    "# Binary Classification Output File -> DPR format"
   ]
  },
  {
   "cell_type": "code",
   "execution_count": null,
   "id": "407c3a16",
   "metadata": {},
   "outputs": [],
   "source": [
    "dpr_test_json = '/data/philhoon-relevance/binary-classification/NQ-TEST-DPR/ctx100id.json'"
   ]
  },
  {
   "cell_type": "code",
   "execution_count": null,
   "id": "5e985a3e",
   "metadata": {},
   "outputs": [],
   "source": [
    "dpr_test_data = utils.open_json(dpr_test_json)\n",
    "print(dpr_test_data[0].keys())"
   ]
  },
  {
   "cell_type": "code",
   "execution_count": null,
   "id": "791ed386",
   "metadata": {},
   "outputs": [],
   "source": [
    "for ins in dpr_test_data:\n",
    "    prediction_em_pattern = predict_id[ins['id']]\n",
    "    ins['prediction_em_pattern'] = prediction_em_pattern\n",
    "    "
   ]
  },
  {
   "cell_type": "code",
   "execution_count": null,
   "id": "22c32b72",
   "metadata": {},
   "outputs": [],
   "source": [
    "print(dpr_test_data[1].keys())"
   ]
  },
  {
   "cell_type": "code",
   "execution_count": null,
   "id": "fa4bece0",
   "metadata": {},
   "outputs": [],
   "source": [
    "input_path"
   ]
  },
  {
   "cell_type": "code",
   "execution_count": null,
   "id": "8cb00866",
   "metadata": {},
   "outputs": [],
   "source": [
    "output_path = input_path\n",
    "output_file_name = 'ctx100id_prediction_em.json'\n",
    "output_file_path = os.path.join(output_path, output_file_name)\n",
    "print(output_file_path)"
   ]
  },
  {
   "cell_type": "code",
   "execution_count": null,
   "id": "c7689ba6",
   "metadata": {},
   "outputs": [],
   "source": [
    "utils.save_json(dpr_test_data, output_file_path)"
   ]
  },
  {
   "cell_type": "markdown",
   "id": "57a294aa",
   "metadata": {},
   "source": [
    "# Method Selection"
   ]
  },
  {
   "cell_type": "code",
   "execution_count": null,
   "id": "aa293b02",
   "metadata": {},
   "outputs": [],
   "source": [
    "def build_data_on_prediction(input_file, option, option_p, option_d, sample_size):\n",
    "    '''\n",
    "    input_file : incremental inference result from FiD from KILT-5-1\n",
    "        path : /data/philhoon-relevance/FiD/results/KILT_BM25_NQ/incremental_result/pos1_ctx5.json\n",
    "        \n",
    "    output : FiD input json format\n",
    "    \n",
    "    option(required) : removing strategies\n",
    "        op1 : removes damages only\n",
    "        op2 : removes damaging + irrelevant\n",
    "        op3 : removes damaging + relevant\n",
    "        op4 : removes damaging + irrelevant + relevant\n",
    "        \n",
    "    option_p(required) : positive passage selection options\n",
    "        strict : strict positive\n",
    "            e.g.) 11 pattern \n",
    "                1st '1' is positive, 2nd '1' is relevant\n",
    "        naive : naive positive\n",
    "            e.g.) 11 pattern \n",
    "                1st '1' is positive, 2nd '1' is positive\n",
    "                \n",
    "    option_d(required) : damaging passage selection options\n",
    "        strict : strict negative\n",
    "            e.g.) A00 pattern \n",
    "                if there is at least one '1' occurred in A, 2nd '0' is irrelevant\n",
    "        naive : naive damaging\n",
    "            e.g.) A00 pattern \n",
    "                if there is at least one '1' occurred in A, 2nd '0' is damaging\n",
    "    \n",
    "    '''\n",
    "    \n",
    "    output_format = []\n",
    "    null_em = '0' * sample_size\n",
    "    \n",
    "    # 'strict', 'naive'  \n",
    "    # option_p = 'naive'\n",
    "    # option_d = 'naive'\n",
    "    # option = 'op4'\n",
    "\n",
    "    for id_, instance in enumerate(input_file,1):\n",
    "        template_dict = {}\n",
    "        if 'id' in instance.keys():\n",
    "            template_dict['id'] = instance['id']\n",
    "        else:\n",
    "            template_dict['id'] = str(id_)\n",
    "        template_dict['answers'] = instance['answers']\n",
    "        template_dict['question'] = instance['question']\n",
    "#         template_dict['em_pattern'] = instance['em_pattern']\n",
    "        template_dict['em_pattern'] = instance['em_pattern']\n",
    "        template_dict['prediction_em_pattern'] = instance['prediction_em_pattern']\n",
    "\n",
    "        em_pattern = instance['prediction_em_pattern']\n",
    "\n",
    "        # when there is at least one EM in the accumulated inference\n",
    "        if em_pattern != null_em:   \n",
    "            new_ctx = []\n",
    "\n",
    "            # relevant vs positive\n",
    "            positve_ctx_lst = []\n",
    "            relevant_ctx_lst = []\n",
    "\n",
    "            # irrelevant vs damaging\n",
    "            damaging_ctx_lst = []\n",
    "            irrelevant_ctx_lst = []\n",
    "\n",
    "\n",
    "            for idx_, ctx in enumerate(instance['ctxs']):\n",
    "\n",
    "                # checking current em\n",
    "                cur_em = em_pattern[idx_]\n",
    "                pre_em_pattern = em_pattern[:idx_]\n",
    "\n",
    "\n",
    "                # first 1 : positive\n",
    "                if not pre_em_pattern and cur_em == '1':\n",
    "                    positve_ctx_lst.append(ctx)\n",
    "\n",
    "                # first 0 : irrelevant\n",
    "                elif not pre_em_pattern and cur_em == '0':\n",
    "                    irrelevant_ctx_lst.append(ctx)\n",
    "                    \n",
    "                # 01 pattern : positive \n",
    "                elif pre_em_pattern and pre_em_pattern[-1] == '0' and cur_em == '1':\n",
    "                    positve_ctx_lst.append(ctx)\n",
    "\n",
    "                # 10 pattern : damaging\n",
    "                elif pre_em_pattern and pre_em_pattern[-1] == '1' and cur_em == '0':\n",
    "                    damaging_ctx_lst.append(ctx)\n",
    "\n",
    "                # 11 pattern : Strict Positive(relevant) or Naive Positive(positive)\n",
    "                elif pre_em_pattern and pre_em_pattern[-1] == '1' and cur_em == '1':\n",
    "                    if option_p == 'strict':\n",
    "                        relevant_ctx_lst.append(ctx)\n",
    "\n",
    "                    elif option_p == 'naive':\n",
    "                        positve_ctx_lst.append(ctx)\n",
    "\n",
    "                    else:\n",
    "                        print('option_p should be either \\'strict\\' or \\'naive\\'')\n",
    "                        return \n",
    "\n",
    "                # 00 pattern : Strict Damaging(irrelevant) or Naive Damaging(damaging) \n",
    "                elif pre_em_pattern and pre_em_pattern[-1] == '0' and cur_em == '0':\n",
    "                    # if '1' does not occured in A, currnet passage is irrelevant\n",
    "                    if not '1' in pre_em_pattern:\n",
    "                        irrelevant_ctx_lst.append(ctx)\n",
    "\n",
    "                    # if '1' occurred in A, \n",
    "                    else:\n",
    "                        # strict : consider it as irrelevnat \n",
    "                        if option_d == 'strict':\n",
    "                            irrelevant_ctx_lst.append(ctx)\n",
    "\n",
    "                        # naive : consider it as damaging \n",
    "                        elif option_d == 'naive':\n",
    "                            damaging_ctx_lst.append(ctx)\n",
    "\n",
    "                        else:\n",
    "                            print('option_p should be either \\'strict\\' or \\'naive\\'')\n",
    "                            return \n",
    "\n",
    "            # op1 removes damages only\n",
    "            if option == 'op1':\n",
    "                new_ctx.extend(positve_ctx_lst)\n",
    "                new_ctx.extend(relevant_ctx_lst)\n",
    "                new_ctx.extend(irrelevant_ctx_lst)\n",
    "\n",
    "\n",
    "            # op2 removes damaging + irrelevant\n",
    "            elif option == 'op2':\n",
    "                new_ctx.extend(positve_ctx_lst)\n",
    "                new_ctx.extend(relevant_ctx_lst)\n",
    "\n",
    "            # op3 : Removes damaging + relevant\n",
    "            elif option == 'op3':\n",
    "                new_ctx.extend(positve_ctx_lst)\n",
    "                new_ctx.extend(irrelevant_ctx_lst)\n",
    "\n",
    "            # op4 : Removes damaging + irrelevant + relevant\n",
    "            elif option == 'op4':\n",
    "                new_ctx.extend(positve_ctx_lst)\n",
    "\n",
    "            else:\n",
    "                print('option should be op1, op2, op3, op4')\n",
    "                return \n",
    "\n",
    "            template_dict['ctxs'] = new_ctx\n",
    "            output_format.append(template_dict)\n",
    "\n",
    "        # when there is no EM in the accumulated inference\n",
    "        else:\n",
    "            template_dict['ctxs']= instance['ctxs']\n",
    "            output_format.append(template_dict)\n",
    "    \n",
    "    print('==============instance finished======================')\n",
    "    return output_format\n",
    "        \n"
   ]
  },
  {
   "cell_type": "code",
   "execution_count": null,
   "id": "e9790bbb",
   "metadata": {},
   "outputs": [],
   "source": [
    "# option_dict = {\n",
    "#     'op1' : 'remove_damage',\n",
    "#     'op2' : 'remove_damage_irrelevant',\n",
    "#     'op3' : 'remove_damage_relevant',\n",
    "#     'op4' : 'remove_damage_irrelevant_relevant',\n",
    "# }\n",
    "# option = 'op4'"
   ]
  },
  {
   "cell_type": "code",
   "execution_count": null,
   "id": "623eae29",
   "metadata": {},
   "outputs": [],
   "source": [
    "# op1, op2 are duplicates\n",
    "method_option_dict = {\n",
    "    'op3' : 'remove_damage_relevant',\n",
    "    'op4' : 'remove_damage_irrelevant_relevant',\n",
    "}"
   ]
  },
  {
   "cell_type": "code",
   "execution_count": null,
   "id": "fcb0587c",
   "metadata": {},
   "outputs": [],
   "source": [
    "option_p_dict = {\n",
    "    'strict' : 'strict_positive',\n",
    "    'naive' : 'naive_positive',\n",
    "}\n",
    "# option_p = 'strict'"
   ]
  },
  {
   "cell_type": "code",
   "execution_count": null,
   "id": "5403cb45",
   "metadata": {},
   "outputs": [],
   "source": [
    "option_d_dict = {\n",
    "    'strict' : 'strict_damaging',\n",
    "    'naive' : 'naive_damaging',\n",
    "}\n",
    "# option_d = 'strict'"
   ]
  },
  {
   "cell_type": "code",
   "execution_count": null,
   "id": "d2ae7412",
   "metadata": {},
   "outputs": [],
   "source": [
    "# input_file = utils.open_json('/data/philhoon-relevance/FiD/results/KILT_BM25_NQ/incremental_result/pos1_ctx5.json')\n",
    "# output_path = '/data/philhoon-relevance/FiD/open_domain_data/NQ_KILT_BM25_SELECTION'"
   ]
  },
  {
   "cell_type": "markdown",
   "id": "ceac45fe",
   "metadata": {},
   "source": [
    "# TEST set Inference"
   ]
  },
  {
   "cell_type": "code",
   "execution_count": null,
   "id": "15e3c70a",
   "metadata": {},
   "outputs": [],
   "source": [
    "input_file = 'ctx100id_prediction_em.json'\n",
    "input_file_path = os.path.join(input_path, input_file)\n",
    "print(input_file_path)\n"
   ]
  },
  {
   "cell_type": "code",
   "execution_count": null,
   "id": "3adaae36",
   "metadata": {},
   "outputs": [],
   "source": [
    "input_ = utils.open_json(input_file_path)"
   ]
  },
  {
   "cell_type": "code",
   "execution_count": null,
   "id": "9794ace2",
   "metadata": {},
   "outputs": [],
   "source": [
    "len(input_)"
   ]
  },
  {
   "cell_type": "code",
   "execution_count": null,
   "id": "89ec30e4",
   "metadata": {},
   "outputs": [],
   "source": [
    "output_path = input_path\n",
    "output_path_dir = os.path.join(input_path, 'selection_methods')\n",
    "print(output_path_dir)"
   ]
  },
  {
   "cell_type": "code",
   "execution_count": null,
   "id": "d44845de",
   "metadata": {},
   "outputs": [],
   "source": [
    "os.makedirs(output_path_dir, exist_ok = True)"
   ]
  },
  {
   "cell_type": "code",
   "execution_count": null,
   "id": "b83ba6d9",
   "metadata": {},
   "outputs": [],
   "source": [
    "output_path = output_path_dir"
   ]
  },
  {
   "cell_type": "code",
   "execution_count": null,
   "id": "207428ef",
   "metadata": {},
   "outputs": [],
   "source": [
    "print(output_path)"
   ]
  },
  {
   "cell_type": "code",
   "execution_count": null,
   "id": "39f8cb1b",
   "metadata": {
    "scrolled": false
   },
   "outputs": [],
   "source": [
    "for o_ in method_option_dict.keys():\n",
    "    for op in option_p_dict.keys():\n",
    "        for od in option_d_dict.keys():\n",
    "            option = o_\n",
    "            option_p = op\n",
    "            option_d = od\n",
    "            \n",
    "            if option == 'op4' and option_p == 'strict' and option_d == 'strict':\n",
    "                continue\n",
    "            if option == 'op4' and option_p == 'naive' and option_d == 'strict':\n",
    "                continue \n",
    "            \n",
    "            filename = f'{option_p_dict[option_p]}_{option_d_dict[option_d]}_{method_option_dict[option]}.json'\n",
    "\n",
    "            output_file = os.path.join(output_path, filename)\n",
    "#             print(output_file)\n",
    "            output_format = build_data_on_prediction(input_, option, option_p, option_d, sample_size)\n",
    "            utils.save_json(output_format, output_file)\n",
    "            print(f'{filename} save on \\n {output_path}')\n",
    "#             print(f'option : {option}')\n",
    "#             print(f'option_p : {option_p}')\n",
    "#             print(f'option_d : {option_d}')\n",
    "#             print(f'filename : {filename}')\n",
    "#             print(f'output_file : {output_file}')\n",
    "            "
   ]
  },
  {
   "cell_type": "markdown",
   "id": "0c9e4db1",
   "metadata": {},
   "source": [
    "- Method3. '00011011000'  -> \n",
    "<span style=\"color:blue\">0</span><span style=\"color:blue\">0</span><span style=\"color:blue\">0</span><span style=\"color:red\">1</span></span><span style=\"color:red\">1</span>0<span style=\"color:red\">1</span></span><span style=\"color:red\">1</span>000  (__0.73651__)     \n",
    "\n",
    "- Method4. '00011011000'  -> \n",
    "<span style=\"color:blue\">0</span><span style=\"color:blue\">0</span><span style=\"color:blue\">0</span><span style=\"color:red\">1</span>10<span style=\"color:red\">1</span>1000 (_0.73611_)    \n",
    "\n",
    "- Method1. '00011011000'  -> 000<span style=\"color:red\">1</span><span style=\"color:red\">1</span>0<span style=\"color:red\">1</span><span style=\"color:red\">1</span>000 (0.71130)    \n",
    "\n",
    "- Method2. '00011011000'  -> 000<span style=\"color:red\">1</span>10<span style=\"color:red\">1</span>1000  (0.70972)        \n",
    "- Method6. '00011011000'  -> <span style=\"color:blue\">0</span><span style=\"color:blue\">0</span><span style=\"color:blue\">0</span><span style=\"color:red\">1</span>10<span style=\"color:red\">1</span>10<span style=\"color:blue\">0</span><span style=\"color:blue\">0</span> (0.68609)    \n",
    "\n",
    "- Method5. '00011011000'  -> <span style=\"color:blue\">0</span><span style=\"color:blue\">0</span><span style=\"color:blue\">0</span><span style=\"color:red\">1</span><span style=\"color:red\">1</span>0<span style=\"color:red\">1</span></span><span style=\"color:red\">1</span>0<span style=\"color:blue\">0</span><span style=\"color:blue\">0</span>    (0.68452) "
   ]
  },
  {
   "cell_type": "code",
   "execution_count": null,
   "id": "6db221c5",
   "metadata": {},
   "outputs": [],
   "source": [
    "method_dict = {\n",
    "'strict_positive_strict_damaging_remove_damage_relevant.json' : 'Method6', \n",
    "'strict_positive_naive_damaging_remove_damage_relevant.json' : 'Method4', \n",
    "'naive_positive_strict_damaging_remove_damage_relevant.json' : 'Method5', \n",
    "'naive_positive_naive_damaging_remove_damage_relevant.json' : 'Method3', \n",
    "'strict_positive_naive_damaging_remove_damage_irrelevant_relevant.json' : 'Method2', \n",
    "'naive_positive_naive_damaging_remove_damage_irrelevant_relevant.json' : 'Method1',\n",
    "}"
   ]
  },
  {
   "cell_type": "markdown",
   "id": "91d99fe4",
   "metadata": {},
   "source": [
    "# Confirm the result"
   ]
  },
  {
   "cell_type": "markdown",
   "id": "3f33d550",
   "metadata": {
    "scrolled": true
   },
   "source": [
    "### Method 1 Test\n",
    "- Method1. '00011011000'  -> 000<span style=\"color:red\">1</span><span style=\"color:red\">1</span>0<span style=\"color:red\">1</span><span style=\"color:red\">1</span>000 (0.71130)    \n"
   ]
  },
  {
   "cell_type": "code",
   "execution_count": null,
   "id": "f3f29388",
   "metadata": {
    "scrolled": false
   },
   "outputs": [],
   "source": [
    "test_file = 'naive_positive_naive_damaging_remove_damage_irrelevant_relevant.json'\n",
    "test_input_path = os.path.join(output_path, test_file)\n",
    "print(test_input_path)\n",
    "test_data = utils.open_json(test_input_path)\n",
    "\n",
    "\n",
    "for instance in test_data:\n",
    "    check_len = [1 if i == '1' else 0 for i in instance['prediction_em_pattern']]\n",
    "    \n",
    "    if sum(check_len) != len(instance['ctxs']):\n",
    "        print('method 1 failed')\n",
    "        break\n",
    "else:\n",
    "    print('pass')"
   ]
  },
  {
   "cell_type": "markdown",
   "id": "8e4f7804",
   "metadata": {},
   "source": [
    "### Method 2 Test\n",
    "- Method2. '00011011000'  -> 000<span style=\"color:red\">1</span>10<span style=\"color:red\">1</span>1000  (0.70972)     "
   ]
  },
  {
   "cell_type": "code",
   "execution_count": null,
   "id": "af516d3d",
   "metadata": {},
   "outputs": [],
   "source": [
    "def get_definite_pos_neg(test_em):\n",
    "    positive_pos = []\n",
    "    if test_em.startswith('1'):\n",
    "        positive_pos.append(0)\n",
    "    iter_ = re.finditer(r'01', test_em)\n",
    "    for m in iter_:\n",
    "        pos_ = m.start() + 1\n",
    "        positive_pos.append(pos_)\n",
    "\n",
    "    negative_pos = []\n",
    "    iter_ = re.finditer(r'10', test_em)\n",
    "    for m in iter_:\n",
    "        pos_ = m.start() + 1\n",
    "        negative_pos.append(pos_)\n",
    "    \n",
    "    return positive_pos, negative_pos"
   ]
  },
  {
   "cell_type": "code",
   "execution_count": null,
   "id": "83117cd6",
   "metadata": {
    "scrolled": false
   },
   "outputs": [],
   "source": [
    "test_file = 'strict_positive_naive_damaging_remove_damage_irrelevant_relevant.json'\n",
    "test_input_path = os.path.join(output_path, test_file)\n",
    "print(test_input_path)\n",
    "test_data = utils.open_json(test_input_path)\n",
    "\n",
    "\n",
    "for instance in test_data:\n",
    "    positive_pos, _ = get_definite_pos_neg(instance['prediction_em_pattern'])\n",
    "    \n",
    "    if len(positive_pos) != len(instance['ctxs']):\n",
    "        print('method 2 failed')\n",
    "        break\n",
    "        \n",
    "else:\n",
    "    print('pass')"
   ]
  },
  {
   "cell_type": "markdown",
   "id": "014c9554",
   "metadata": {},
   "source": [
    "### Method 3 Test\n",
    "- Method3. '00011011000'  -> \n",
    "<span style=\"color:blue\">0</span><span style=\"color:blue\">0</span><span style=\"color:blue\">0</span><span style=\"color:red\">1</span></span><span style=\"color:red\">1</span>0<span style=\"color:red\">1</span></span><span style=\"color:red\">1</span>000  (__0.73651__)   "
   ]
  },
  {
   "cell_type": "code",
   "execution_count": null,
   "id": "8fffe771",
   "metadata": {},
   "outputs": [],
   "source": [
    "test_file = 'naive_positive_naive_damaging_remove_damage_relevant.json'\n",
    "test_input_path = os.path.join(output_path, test_file)\n",
    "print(test_input_path)\n",
    "test_data = utils.open_json(test_input_path)\n",
    "\n",
    "\n",
    "for instance in test_data:\n",
    "    prediction_em_pattern = instance['prediction_em_pattern']\n",
    "    \n",
    "    check_len = sum([1 if i == '1' else 0 for i in prediction_em_pattern])\n",
    "    num_undecisive = len(prediction_em_pattern) - len(prediction_em_pattern.lstrip('0'))\n",
    "    \n",
    "    \n",
    "    if check_len + num_undecisive != len(instance['ctxs']):\n",
    "        print('method 3 failed')\n",
    "        break\n",
    "else:\n",
    "    print('pass')"
   ]
  },
  {
   "cell_type": "markdown",
   "id": "c4838605",
   "metadata": {},
   "source": [
    "### Method 4 Test\n",
    "- Method4. '00011011000'  -> \n",
    "<span style=\"color:blue\">0</span><span style=\"color:blue\">0</span><span style=\"color:blue\">0</span><span style=\"color:red\">1</span>10<span style=\"color:red\">1</span>1000 (_0.73611_)    \n"
   ]
  },
  {
   "cell_type": "code",
   "execution_count": null,
   "id": "13e183c6",
   "metadata": {},
   "outputs": [],
   "source": [
    "test_file = 'strict_positive_naive_damaging_remove_damage_relevant.json'\n",
    "test_input_path = os.path.join(output_path, test_file)\n",
    "print(test_input_path)\n",
    "test_data = utils.open_json(test_input_path)\n",
    "\n",
    "\n",
    "for instance in test_data:\n",
    "    prediction_em_pattern = instance['prediction_em_pattern']\n",
    "    num_undecisive = len(prediction_em_pattern) - len(prediction_em_pattern.lstrip('0'))\n",
    "    positive_pos, _ = get_definite_pos_neg(prediction_em_pattern)\n",
    "    \n",
    "    if num_undecisive + len(positive_pos) != len(instance['ctxs']):\n",
    "        print('method 4 failed')\n",
    "        break\n",
    "        \n",
    "else:\n",
    "    print('pass')"
   ]
  },
  {
   "cell_type": "markdown",
   "id": "3510b170",
   "metadata": {},
   "source": [
    "### Method 5 Test\n",
    "- Method5. '00011011000'  -> <span style=\"color:blue\">0</span><span style=\"color:blue\">0</span><span style=\"color:blue\">0</span><span style=\"color:red\">1</span><span style=\"color:red\">1</span>0<span style=\"color:red\">1</span></span><span style=\"color:red\">1</span>0<span style=\"color:blue\">0</span><span style=\"color:blue\">0</span>    (0.68452) "
   ]
  },
  {
   "cell_type": "code",
   "execution_count": null,
   "id": "ca1fba50",
   "metadata": {},
   "outputs": [],
   "source": [
    "test_file = 'naive_positive_strict_damaging_remove_damage_relevant.json'\n",
    "test_input_path = os.path.join(output_path, test_file)\n",
    "print(test_input_path)\n",
    "test_data = utils.open_json(test_input_path)\n",
    "\n",
    "\n",
    "for instance in test_data:\n",
    "    prediction_em_pattern = instance['prediction_em_pattern']\n",
    "    _, negative_pos = get_definite_pos_neg(prediction_em_pattern)\n",
    "    \n",
    "    if len(negative_pos) + len(instance['ctxs']) != 100:\n",
    "        print(f\"id : {instance['id']}\")\n",
    "        print(f\"p_em_pattern : {instance['prediction_em_pattern']}\")\n",
    "        print(f\"em_pattern   : {instance['em_pattern']}\")\n",
    "        print(f'len(negative_pos) : {len(negative_pos)}')\n",
    "        print(f\"len(instance['ctxs'] : {len(instance['ctxs'])}\")\n",
    "                                            \n",
    "        print('method 5 failed')\n",
    "        break\n",
    "        \n",
    "else:\n",
    "    print('pass')"
   ]
  },
  {
   "cell_type": "markdown",
   "id": "43e0a59d",
   "metadata": {},
   "source": [
    "### Method 6 Test\n",
    "- Method6. '00011011000'  -> <span style=\"color:blue\">0</span><span style=\"color:blue\">0</span><span style=\"color:blue\">0</span><span style=\"color:red\">1</span>10<span style=\"color:red\">1</span>10<span style=\"color:blue\">0</span><span style=\"color:blue\">0</span> (0.68609)    \n",
    "\n",
    "\n"
   ]
  },
  {
   "cell_type": "code",
   "execution_count": null,
   "id": "781e3720",
   "metadata": {},
   "outputs": [],
   "source": [
    "test_file = 'strict_positive_strict_damaging_remove_damage_relevant.json'\n",
    "test_input_path = os.path.join(output_path, test_file)\n",
    "print(test_input_path)\n",
    "test_data = utils.open_json(test_input_path)\n",
    "\n",
    "\n",
    "for instance in test_data:\n",
    "    prediction_em_pattern = instance['prediction_em_pattern']\n",
    "    num_undecisive = len(prediction_em_pattern) - len(prediction_em_pattern.lstrip('0'))\n",
    "    positive_pos, negative_pos = get_definite_pos_neg(prediction_em_pattern)\n",
    "\n",
    "    check_0 = sum([1 if i == '0' else 0 for i in instance['prediction_em_pattern']])\n",
    "    rest_0 = check_0 - len(negative_pos) - num_undecisive\n",
    "    \n",
    "    included = num_undecisive + len(positive_pos) + rest_0\n",
    "\n",
    "    if included != len(instance['ctxs']):\n",
    "        print('method 6 failed')\n",
    "        break\n",
    "        \n",
    "else:\n",
    "    print('pass')"
   ]
  },
  {
   "cell_type": "code",
   "execution_count": null,
   "id": "7e278bd7",
   "metadata": {},
   "outputs": [],
   "source": []
  },
  {
   "cell_type": "code",
   "execution_count": null,
   "id": "3d5a9f9b",
   "metadata": {},
   "outputs": [],
   "source": []
  },
  {
   "cell_type": "code",
   "execution_count": null,
   "id": "8e8415cd",
   "metadata": {},
   "outputs": [],
   "source": []
  },
  {
   "cell_type": "code",
   "execution_count": null,
   "id": "c6156479",
   "metadata": {},
   "outputs": [],
   "source": []
  },
  {
   "cell_type": "code",
   "execution_count": null,
   "id": "2459ad91",
   "metadata": {},
   "outputs": [],
   "source": []
  },
  {
   "cell_type": "code",
   "execution_count": null,
   "id": "c948a016",
   "metadata": {},
   "outputs": [],
   "source": []
  },
  {
   "cell_type": "code",
   "execution_count": null,
   "id": "da1004f1",
   "metadata": {},
   "outputs": [],
   "source": []
  },
  {
   "cell_type": "code",
   "execution_count": null,
   "id": "300523c5",
   "metadata": {},
   "outputs": [],
   "source": []
  },
  {
   "cell_type": "code",
   "execution_count": null,
   "id": "87dd019f",
   "metadata": {},
   "outputs": [],
   "source": []
  },
  {
   "cell_type": "code",
   "execution_count": null,
   "id": "f007cc5e",
   "metadata": {},
   "outputs": [],
   "source": []
  },
  {
   "cell_type": "code",
   "execution_count": null,
   "id": "2df0ebb6",
   "metadata": {},
   "outputs": [],
   "source": []
  },
  {
   "cell_type": "code",
   "execution_count": null,
   "id": "66805c3d",
   "metadata": {},
   "outputs": [],
   "source": []
  },
  {
   "cell_type": "code",
   "execution_count": null,
   "id": "2133abda",
   "metadata": {},
   "outputs": [],
   "source": []
  },
  {
   "cell_type": "code",
   "execution_count": null,
   "id": "ca1905a9",
   "metadata": {},
   "outputs": [],
   "source": []
  },
  {
   "cell_type": "code",
   "execution_count": null,
   "id": "2a4fb824",
   "metadata": {},
   "outputs": [],
   "source": []
  },
  {
   "cell_type": "markdown",
   "id": "ba14baa2",
   "metadata": {},
   "source": [
    "## NQ dev set"
   ]
  },
  {
   "cell_type": "code",
   "execution_count": null,
   "id": "05cb4940",
   "metadata": {},
   "outputs": [],
   "source": [
    "sample_size = 100\n",
    "input_file = f'/data/philhoon-relevance/FiD/results/NQ_DPR/DEV/incremental_result_{sample_size}/ctx{sample_size}.json'\n",
    "output_path = f'/data/philhoon-relevance/FiD/open_domain_data/NQ_DPR_DEV_SELECTION/ctx_{sample_size}'"
   ]
  },
  {
   "cell_type": "code",
   "execution_count": null,
   "id": "9746045d",
   "metadata": {},
   "outputs": [],
   "source": [
    "input_ = utils.open_json(input_file)"
   ]
  },
  {
   "cell_type": "code",
   "execution_count": null,
   "id": "45554375",
   "metadata": {},
   "outputs": [],
   "source": [
    "output_path"
   ]
  },
  {
   "cell_type": "code",
   "execution_count": null,
   "id": "32a3c36b",
   "metadata": {},
   "outputs": [],
   "source": [
    "len(input_)"
   ]
  },
  {
   "cell_type": "code",
   "execution_count": null,
   "id": "3ad569e9",
   "metadata": {},
   "outputs": [],
   "source": [
    "for o_ in method_option_dict.keys():\n",
    "    for op in option_p_dict.keys():\n",
    "        for od in option_d_dict.keys():\n",
    "            option = o_\n",
    "            option_p = op\n",
    "            option_d = od\n",
    "            \n",
    "            if option == 'op4' and option_p == 'strict' and option_d == 'strict':\n",
    "                continue\n",
    "            if option == 'op4' and option_p == 'naive' and option_d == 'strict':\n",
    "                continue \n",
    "            \n",
    "            filename = f'{option_p_dict[option_p]}_{option_d_dict[option_d]}_{method_option_dict[option]}.json'\n",
    "\n",
    "            output_file = os.path.join(output_path, filename)\n",
    "            output_format = build_data(input_, option, option_p, option_d, sample_size)\n",
    "            \n",
    "            utils.save_json(output_format, output_file)\n",
    "            print(f'{filename} save on \\n {output_path}')\n",
    "#             print(f'option : {option}')\n",
    "#             print(f'option_p : {option_p}')\n",
    "#             print(f'option_d : {option_d}')\n",
    "#             print(f'filename : {filename}')\n",
    "#             print(f'output_file : {output_file}')\n",
    "            "
   ]
  },
  {
   "cell_type": "markdown",
   "id": "090d292b",
   "metadata": {},
   "source": [
    "# Method explanation\n",
    "- Redundancies in selection strategies -> remove them -> 6"
   ]
  },
  {
   "cell_type": "markdown",
   "id": "9768e084",
   "metadata": {},
   "source": [
    "#### Method1. Include passages that corresponds to 1s\n",
    "- all __option2__ belong to this case\n",
    "- option4_naive_naive, option4_naive_strict\n",
    "\n",
    "'00011011000'  -> 000<span style=\"color:red\">1</span><span style=\"color:red\">1</span>0<span style=\"color:red\">1</span><span style=\"color:red\">1</span>000  \n",
    "- red 1s"
   ]
  },
  {
   "cell_type": "markdown",
   "id": "59ffe64a",
   "metadata": {},
   "source": [
    "#### Method2. Include passages that corresponds to first 1s\n",
    "- option4_strict_naive, option4_strict_strcit \n",
    "\n",
    "'00011011000'  -> \n",
    "000<span style=\"color:red\">1</span>10<span style=\"color:red\">1</span>1000  \n",
    "- red 1s\n",
    "- removing consecutive passages when the previous output is correct as well"
   ]
  },
  {
   "cell_type": "markdown",
   "id": "8c5e48f2",
   "metadata": {},
   "source": [
    "#### Method3. Include passages that corresponds to 1s + Included First appeared consecutive 0s\n",
    "- option1_naive_naive, option1_strict_naive\n",
    "- option3_naive_naive\n",
    "\n",
    "'00011011000'  -> \n",
    "<span style=\"color:blue\">0</span><span style=\"color:blue\">0</span><span style=\"color:blue\">0</span><span style=\"color:red\">1</span></span><span style=\"color:red\">1</span>0<span style=\"color:red\">1</span></span><span style=\"color:red\">1</span>000  \n",
    "- red 1s and blue 0s\n",
    "- usually top-retrieved results contain the answer "
   ]
  },
  {
   "cell_type": "markdown",
   "id": "80226855",
   "metadata": {},
   "source": [
    "#### Method4. Include passages that corresponds to first 1s + Included First appeared consecutive 0s\n",
    "- option3_strict_naive\n",
    "\n",
    "'00011011000'  -> \n",
    "<span style=\"color:blue\">0</span><span style=\"color:blue\">0</span><span style=\"color:blue\">0</span><span style=\"color:red\">1</span>10<span style=\"color:red\">1</span>1000  \n",
    "- red 1s and blue 0s\n",
    "- removing consecutive passages when the previous output is correct as well\n",
    "- usually top-retrieved results contain the answer "
   ]
  },
  {
   "cell_type": "markdown",
   "id": "77239a92",
   "metadata": {},
   "source": [
    "#### Method5. Include passages that corresponds to 1s + Remove only damaging\n",
    "- option1_naive_strict, option1_strict_strict\n",
    "- option3_naive_strict\n",
    "\n",
    "'00011011000'  -> \n",
    "<span style=\"color:blue\">0</span><span style=\"color:blue\">0</span><span style=\"color:blue\">0</span><span style=\"color:red\">1</span></span><span style=\"color:red\">1</span>0<span style=\"color:red\">1</span></span><span style=\"color:red\">1</span>0<span style=\"color:blue\">0</span><span style=\"color:blue\"><span style=\"color:blue\">0</span><span style=\"color:blue\"> \n",
    "- red 1s and blue 0s\n",
    "- only removes damaging passages for comparison with Method3, Method4\n",
    "- usually top-retrieved results contain the answer "
   ]
  },
  {
   "cell_type": "markdown",
   "id": "428e22f7",
   "metadata": {},
   "source": [
    "#### Method6. Include passages that corresponds to first 1s  + Remove only damaging\n",
    "- option3_strict_strict\n",
    "\n",
    "'00011011000'  -> \n",
    "<span style=\"color:blue\">0</span><span style=\"color:blue\">0</span><span style=\"color:blue\">0</span><span style=\"color:red\">1</span>10<span style=\"color:red\">1</span>10<span style=\"color:blue\">0</span><span style=\"color:blue\">0</span>\n",
    "- red 1s and blue 0s\n",
    "- removing consecutive passages when the previous output is correct as well\n",
    "- only removes damaging passages for comparison with Method3, Method4\n",
    "- usually top-retrieved results contain the answer "
   ]
  },
  {
   "cell_type": "markdown",
   "id": "7c4b546c",
   "metadata": {},
   "source": [
    "## Conclusion\n",
    "- option1, option2 are not needed\n",
    "- Method1 : option4_naive_naive\n",
    "- Method2 : option4_strict_naive \n",
    "- Method3 : option3_naive_naive\n",
    "- Method4 : option3_strict_naive\n",
    "- Method5 : option3_naive_strict\n",
    "- Method6 : option3_strict_strict"
   ]
  },
  {
   "cell_type": "code",
   "execution_count": null,
   "id": "dfe6a751",
   "metadata": {},
   "outputs": [],
   "source": []
  },
  {
   "cell_type": "code",
   "execution_count": null,
   "id": "104cad32",
   "metadata": {},
   "outputs": [],
   "source": []
  },
  {
   "cell_type": "code",
   "execution_count": null,
   "id": "a4f004d5",
   "metadata": {},
   "outputs": [],
   "source": []
  }
 ],
 "metadata": {
  "kernelspec": {
   "display_name": "relevance-kilt",
   "language": "python",
   "name": "relevance-kilt"
  },
  "language_info": {
   "codemirror_mode": {
    "name": "ipython",
    "version": 3
   },
   "file_extension": ".py",
   "mimetype": "text/x-python",
   "name": "python",
   "nbconvert_exporter": "python",
   "pygments_lexer": "ipython3",
   "version": "3.8.13"
  }
 },
 "nbformat": 4,
 "nbformat_minor": 5
}
