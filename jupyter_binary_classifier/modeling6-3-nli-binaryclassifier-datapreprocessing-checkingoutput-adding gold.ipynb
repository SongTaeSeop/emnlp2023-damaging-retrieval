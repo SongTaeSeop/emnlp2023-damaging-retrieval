{
 "cells": [
  {
   "cell_type": "markdown",
   "id": "71651598",
   "metadata": {},
   "source": [
    "# modeling6-3-nli-binaryclassifier-datapreprocessing-checkingoutput-adding gold\n",
    "\n",
    "- Described in the Summary"
   ]
  },
  {
   "cell_type": "markdown",
   "id": "17e1cec4",
   "metadata": {},
   "source": [
    "# Datasets\n",
    "\n",
    "## Original Dev - Binary\n",
    "    1. add id for tracking\n",
    "        /data/philhoon-relevance/binary-classification/NQ-DEV-DPR/ctx100id.json\n",
    "        \n",
    "    2. split 5-fold (80:20) ratio\n",
    "        /data/philhoon-relevance/binary-classification/NQ-DEV-DPR/5-fold/{i}/ctx100id_split_train_{i}.json\n",
    "        /data/philhoon-relevance/binary-classification/NQ-DEV-DPR/5-fold/{i}/ctx100id_split_dev_{i}.json\n",
    "\n",
    "    a. Converting splits into binary dataset \n",
    "        - convert each split into binary dataset\n",
    "        - remove indecisve part (initial consecutive zeros)\n",
    "\n",
    "        /data/philhoon-relevance/binary-classification/NQ-DEV-DPR/5fold/{i}/\n",
    "            binary_data/binary_ex_ctx100id_split_dev_{i}.json\n",
    "        /data/philhoon-relevance/binary-classification/NQ-DEV-DPR/5-fold/{i}/binary_data/\n",
    "            binary_ex_ctx100id_split_train_{i}.json      \n",
    "        \n",
    "    b. Converting each data into binary dataset4\n",
    "        - convert each split into binary dataset\n",
    "        - remove indecisve part (initial consecutive zeros)\n",
    "        - remove query with no correct answer (0000000000..000 pattern)\n",
    "        /data/philhoon-relevance/binary-classification/NQ-DEV-DPR/5-fold/{i}/binary_exclude_no_answer\n",
    "            binary_exclude_no_answer_ex_ctx100id_split_dev_{i}.json\n",
    "            binary_exclude_no_answer_ex_ctx100id_split_train_{i}.json\n",
    "        \n",
    "    c. Converting each data into binary dataset2\n",
    "        - convert each split into binary dataset\n",
    "        - use only decisive parth (01 & 10)\n",
    "        - remove query with no correct answer (0000000000..000 pattern)\n",
    "        /data/philhoon-relevance/binary-classification/NQ-DEV-DPR/5-fold/{i}/decisive_binary_data\n",
    "            binary_decisive_ctx100id_split_dev_{i}.json\n",
    "            binary_decisive_ctx100id_split_train_{i}.json\n",
    "    \n",
    "    d. Converting each data into binary dataset3\n",
    "        - convert each split into binary dataset\n",
    "        - use only decisive parth (01 & 10)\n",
    "        - remove query with no correct answer (0000000000..000 pattern) \n",
    "        - add gold answer\n",
    "        /data/philhoon-relevance/binary-classification/NQ-DEV-DPR/5-fold/{i}/decisive_binary_gold_data\n",
    "            binary_decisive_gold_ctx100id_split_dev_{i}.json\n",
    "            binary_decisive_gold_ctx100id_split_train_{i}.json\n",
    "            \n",
    "    e. Converting each data into binary dataset inference\n",
    "        - convert each split into binary dataset\n",
    "        - use only decisive parth (01 & 10)\n",
    "        - remove query with no correct answer (0000000000..000 pattern) \n",
    "        - add inference answer\n",
    "        /data/philhoon-relevance/binary-classification/NQ-DEV-DPR/5-fold/{i}/decisive_binary_inference_data\n",
    "            binary_decisive_inference_ctx100id_split_dev_{i}.json\n",
    "            binary_decisive_inference_ctx100id_split_train_{i}.json\n",
    "        \n",
    "\n",
    "## Original Test - Binary\n",
    "        1. add id for tracking\n",
    "            /data/philhoon-relevance/binary-classification/NQ-TEST-DPR/ctx100id.json\n",
    "            \n",
    "        a. Converting Test data into binary dataset\n",
    "            - convert test into binary dataset\n",
    "            - this is for inference (preserve all contexts)\n",
    "            /data/philhoon-relevance/binary-classification/NQ-TEST-DPR/binary_in_ctx100id_test.json\n",
    "        \n",
    "        b. decisive_binary_data Test Set\n",
    "            - convert test into binary dataset\n",
    "            - use only decisive parth (01 & 10)\n",
    "            - remove query with no correct answer (0000000000..000 pattern)\n",
    "            - this is for inference model trained on Converting each data into binary dataset2\n",
    "            /data/philhoon-relevance/binary-classification/NQ-TEST-DPR\n",
    "                binary_decisive_format_ctx100id_test.json\n",
    "        \n",
    "        c. Converting Test data into binary Gold whole dataset\n",
    "            - convert test into binary dataset \n",
    "            - add gold answer\n",
    "            - this is for inference model trained on Converting each data into binary dataset3\n",
    "            - preserve all contexts\n",
    "            /data/philhoon-relevance/binary-classification/NQ-TEST-DPR/\n",
    "                binary_decisive_gold_ctx100id_test.json\n",
    "        \n",
    "        d. decisive_binary_format_gold_data Test Set\n",
    "            - convert test into binary dataset \n",
    "            - use only decisive parth (01 & 10)\n",
    "            - remove query with no correct answer (0000000000..000 pattern)\n",
    "            - add gold answer\n",
    "            - this is for inference model trained on Converting each data into binary dataset3\n",
    "            /data/philhoon-relevance/binary-classification/NQ-TEST-DPR/\n",
    "                binary_decisive_format_gold_ctx100id_test.json\n",
    "                \n",
    "        e. decisive_binary_format_inference_data Test Set\n",
    "            - convert each split into binary dataset\n",
    "            - use only decisive parth (01 & 10)\n",
    "            - remove query with no correct answer (0000000000..000 pattern) \n",
    "            - add inference answer\n",
    "            - this is for inference model trained on Converting each data into binary dataset inference\n",
    "            /data/philhoon-relevance/binary-classification/NQ-TEST-DPR/\n",
    "                binary_decisive_format_inference_ctx100id_test.json\n",
    "            \n",
    "        f. decisive_binary_format_inference_data (Whole Test Set)"
   ]
  },
  {
   "cell_type": "markdown",
   "id": "3bdcec01",
   "metadata": {},
   "source": [
    "## Original Dev - Sentence\n",
    "    1. add id for tracking\n",
    "        /data/philhoon-relevance/binary-classification/NQ-DEV-DPR/ctx100id.json\n",
    "        \n",
    "    2. split 5-fold (80:20) ratio\n",
    "        /data/philhoon-relevance/binary-classification/NQ-DEV-DPR/5-fold/{i}/ctx100id_split_train_{i}.json\n",
    "        /data/philhoon-relevance/binary-classification/NQ-DEV-DPR/5-fold/{i}/ctx100id_split_dev_{i}.json\n",
    "\n",
    "    a. Converting each data into dataset5\n",
    "        - convert each split into senetencedataset\n",
    "        - remove query with no correct answer (0000000000..000 pattern)\n",
    "            - cumulative_em == '0' -> continue  \n",
    "        - exclude indecisive part \n",
    "            - num_undecisive > 0 and cumulative_em == '1' and option_exclude_zeros -> exclude indecisive part\n",
    "        - Used for building sentence-level embedding\n",
    "        /data/philhoon-relevance/binary-classification/NQ-DEV-DPR/5-fold/{i}\n",
    "            /sequence_exclude_no_answer_exclude_indecisve\n",
    "            /sequence_exclude_no_answer_exclude_indecisve_ctx100id_split_dev_{i}.json\n",
    "\n",
    "    b. Converting each data into dataset6\n",
    "        - convert each split into senetencedataset\n",
    "        - remove query with no correct answer (0000000000..000 pattern)\n",
    "            - cumulative_em == '0' -> continue  \n",
    "        - Include indecisive part \n",
    "        - Used for building sentence-level embedding\n",
    "        /data/philhoon-relevance/binary-classification/NQ-DEV-DPR/5-fold/{i}/sequence_exclude_no_answer\n",
    "            sequence_exclude_no_answer_ctx100id_split_dev_{i}.json\n",
    "            sequence_exclude_no_answer_ctx100id_split_train_{i}.json\n",
    "            \n",
    "    c. Converting each data into dataset7\n",
    "        - convert each split into senetencedataset\n",
    "        - use only decisive part (01 & 10)\n",
    "            - use decisive 1 when 01\n",
    "            - use decisvie 0 when 10\n",
    "            - + use 0 when 01 for extra negative\n",
    "        - remove query with no correct answer (0000000000..000 pattern)\n",
    "            - cumulative_em == '0' -> continue  \n",
    "        - Used for building sentence-level embedding \n",
    "\n",
    "    /data/philhoon-relevance/binary-classification/NQ-DEV-DPR/5-fold/{i}/sequence_exclude_no_answer_partial_decisive\n",
    "            sequence_exclude_no_answer_partial_decisive_ctx100id_split_dev_{i}.json\n",
    "            sequence_exclude_no_answer_partial_decisive_ctx100id_split_train_{i}.json"
   ]
  },
  {
   "cell_type": "markdown",
   "id": "f2194cb5",
   "metadata": {},
   "source": [
    "================================================================================"
   ]
  },
  {
   "cell_type": "code",
   "execution_count": 1,
   "id": "73f2ece3",
   "metadata": {},
   "outputs": [],
   "source": [
    "import re\n",
    "import os\n",
    "from util import utils\n",
    "from pprint import pprint\n",
    "import random\n",
    "from sklearn.model_selection import train_test_split\n",
    "from sklearn.model_selection import KFold"
   ]
  },
  {
   "cell_type": "markdown",
   "id": "2494f707",
   "metadata": {},
   "source": [
    "## Adding ID to query for tracking"
   ]
  },
  {
   "cell_type": "markdown",
   "id": "fd3f3c4a",
   "metadata": {},
   "source": [
    "### Dev"
   ]
  },
  {
   "cell_type": "code",
   "execution_count": null,
   "id": "eab75cfe",
   "metadata": {},
   "outputs": [],
   "source": [
    "path = '/data/philhoon-relevance/FiD/results/NQ_DPR/DEV/incremental_result_100'\n",
    "file_name = 'ctx100.json'\n",
    "file_path = os.path.join(path, file_name)"
   ]
  },
  {
   "cell_type": "code",
   "execution_count": null,
   "id": "f24f929f",
   "metadata": {},
   "outputs": [],
   "source": [
    "data = utils.open_json(file_path)"
   ]
  },
  {
   "cell_type": "markdown",
   "id": "ca6344a8",
   "metadata": {},
   "source": [
    "### Test"
   ]
  },
  {
   "cell_type": "code",
   "execution_count": null,
   "id": "389f61ae",
   "metadata": {},
   "outputs": [],
   "source": [
    "# path = '/data/philhoon-relevance/FiD/results/NQ_DPR/TEST/incremental_result_100'\n",
    "# file_name = 'ctx100.json'\n",
    "# file_path = os.path.join(path, file_name)"
   ]
  },
  {
   "cell_type": "code",
   "execution_count": null,
   "id": "dd42e478",
   "metadata": {},
   "outputs": [],
   "source": [
    "# data = utils.open_json(file_path)"
   ]
  },
  {
   "cell_type": "markdown",
   "id": "a364185c",
   "metadata": {},
   "source": [
    "### checking the result\n",
    "- incremental EM is same with the previous result"
   ]
  },
  {
   "cell_type": "code",
   "execution_count": null,
   "id": "80313c70",
   "metadata": {},
   "outputs": [],
   "source": [
    "cnt_incre = 0\n",
    "cnt_all_cor = 0\n",
    "cnt_all_wrong = 0\n",
    "initial_zeros = 0\n",
    "\n",
    "for instance in data:\n",
    "    em_pat = instance['em_pattern']\n",
    "    \n",
    "    if '1' in em_pat and em_pat.startswith('0'):\n",
    "        initial_zeros += 1\n",
    "    if '1' in em_pat:\n",
    "        cnt_incre += 1\n",
    "    if em_pat.endswith('1'):\n",
    "        cnt_all_cor += 1\n",
    "    if em_pat.endswith('0'):\n",
    "        cnt_all_wrong += 1"
   ]
  },
  {
   "cell_type": "code",
   "execution_count": null,
   "id": "aea16714",
   "metadata": {},
   "outputs": [],
   "source": [
    "print(f'incremental top 100 em : {cnt_incre/len(data)}')\n",
    "print(f'top 100 em : {cnt_all_cor/len(data)}')\n",
    "print(f'initial 0s : {initial_zeros}')"
   ]
  },
  {
   "cell_type": "code",
   "execution_count": null,
   "id": "62d003d1",
   "metadata": {},
   "outputs": [],
   "source": [
    "for id_, instance in enumerate(data):\n",
    "    instance['id'] = id_"
   ]
  },
  {
   "cell_type": "code",
   "execution_count": null,
   "id": "7938871b",
   "metadata": {},
   "outputs": [],
   "source": [
    "# len(data)"
   ]
  },
  {
   "cell_type": "markdown",
   "id": "bcf9ce8a",
   "metadata": {},
   "source": [
    "### Dev"
   ]
  },
  {
   "cell_type": "code",
   "execution_count": null,
   "id": "0f405c53",
   "metadata": {},
   "outputs": [],
   "source": [
    "out_path = '/data/philhoon-relevance/binary-classification/NQ-DEV-DPR'\n",
    "out_file_name = 'ctx100id.json'\n",
    "out_file_path = os.path.join(out_path, out_file_name)"
   ]
  },
  {
   "cell_type": "markdown",
   "id": "3ae54dc5",
   "metadata": {},
   "source": [
    "### Test"
   ]
  },
  {
   "cell_type": "code",
   "execution_count": null,
   "id": "5c27c4a1",
   "metadata": {},
   "outputs": [],
   "source": [
    "# out_path = '/data/philhoon-relevance/binary-classification/NQ-TEST-DPR'\n",
    "# out_file_name = 'ctx100id.json'\n",
    "# out_file_path = os.path.join(out_path, out_file_name)"
   ]
  },
  {
   "cell_type": "code",
   "execution_count": null,
   "id": "d36b2d1c",
   "metadata": {},
   "outputs": [],
   "source": [
    "# utils.save_json(data, out_file_path)"
   ]
  },
  {
   "cell_type": "code",
   "execution_count": null,
   "id": "f7931428",
   "metadata": {},
   "outputs": [],
   "source": [
    "data_id = utils.open_json(out_file_path)"
   ]
  },
  {
   "cell_type": "code",
   "execution_count": null,
   "id": "ff9667f0",
   "metadata": {
    "scrolled": false
   },
   "outputs": [],
   "source": [
    "print(data_id[3]['id'])"
   ]
  },
  {
   "cell_type": "code",
   "execution_count": null,
   "id": "57793d0b",
   "metadata": {},
   "outputs": [],
   "source": [
    "len(data_id)"
   ]
  },
  {
   "cell_type": "markdown",
   "id": "ad73dc28",
   "metadata": {},
   "source": [
    "## Split by Train and Dev\n",
    "- not need for future using 1st set of K-fold"
   ]
  },
  {
   "cell_type": "code",
   "execution_count": null,
   "id": "c46758a7",
   "metadata": {},
   "outputs": [],
   "source": [
    "random.seed(42)"
   ]
  },
  {
   "cell_type": "code",
   "execution_count": null,
   "id": "814bcbd7",
   "metadata": {},
   "outputs": [],
   "source": [
    "train, dev = train_test_split(data_id, test_size=0.2, shuffle=True)"
   ]
  },
  {
   "cell_type": "code",
   "execution_count": null,
   "id": "a36f8b0c",
   "metadata": {},
   "outputs": [],
   "source": [
    "len(train)"
   ]
  },
  {
   "cell_type": "code",
   "execution_count": null,
   "id": "dcf26c0a",
   "metadata": {},
   "outputs": [],
   "source": [
    "len(dev)"
   ]
  },
  {
   "cell_type": "code",
   "execution_count": null,
   "id": "73ed8f34",
   "metadata": {},
   "outputs": [],
   "source": [
    "out_path = '/data/philhoon-relevance/binary-classification/NQ-DEV-DPR/train_dev'\n",
    "out_file_name = 'ctx100id_train.json'\n",
    "out_file_path = os.path.join(out_path, out_file_name)"
   ]
  },
  {
   "cell_type": "code",
   "execution_count": null,
   "id": "4df04662",
   "metadata": {},
   "outputs": [],
   "source": [
    "# utils.save_json(train, out_file_path)"
   ]
  },
  {
   "cell_type": "code",
   "execution_count": null,
   "id": "172f11f7",
   "metadata": {},
   "outputs": [],
   "source": [
    "check = utils.open_json(out_file_path)"
   ]
  },
  {
   "cell_type": "code",
   "execution_count": null,
   "id": "9891b737",
   "metadata": {},
   "outputs": [],
   "source": [
    "len(check)"
   ]
  },
  {
   "cell_type": "code",
   "execution_count": null,
   "id": "32c37bdd",
   "metadata": {},
   "outputs": [],
   "source": [
    "out_path = '/data/philhoon-relevance/binary-classification/NQ-DEV-DPR/train_dev'\n",
    "out_file_name = 'ctx100id_dev.json'\n",
    "out_file_path = os.path.join(out_path, out_file_name)"
   ]
  },
  {
   "cell_type": "code",
   "execution_count": null,
   "id": "5e47cb56",
   "metadata": {},
   "outputs": [],
   "source": [
    "# utils.save_json(dev, out_file_path)"
   ]
  },
  {
   "cell_type": "code",
   "execution_count": null,
   "id": "b5fd9e98",
   "metadata": {},
   "outputs": [],
   "source": [
    "check = utils.open_json(out_file_path)"
   ]
  },
  {
   "cell_type": "code",
   "execution_count": null,
   "id": "5ceef9e8",
   "metadata": {},
   "outputs": [],
   "source": [
    "len(check)"
   ]
  },
  {
   "cell_type": "markdown",
   "id": "50ca75fa",
   "metadata": {},
   "source": [
    "## Split by 5-fold"
   ]
  },
  {
   "cell_type": "code",
   "execution_count": null,
   "id": "e571a963",
   "metadata": {},
   "outputs": [],
   "source": [
    "in_path = '/data/philhoon-relevance/binary-classification/NQ-DEV-DPR'\n",
    "in_file_name = 'ctx100id.json'\n",
    "in_file_path = os.path.join(in_path, in_file_name)\n",
    "data_id = utils.open_json(in_file_path)\n",
    "print(len(data_id))"
   ]
  },
  {
   "cell_type": "code",
   "execution_count": null,
   "id": "0b0942cc",
   "metadata": {},
   "outputs": [],
   "source": [
    "kf = KFold(n_splits=5, random_state = 42, shuffle = True)"
   ]
  },
  {
   "cell_type": "code",
   "execution_count": null,
   "id": "891c0977",
   "metadata": {},
   "outputs": [],
   "source": [
    "kf.get_n_splits(data_id)"
   ]
  },
  {
   "cell_type": "code",
   "execution_count": null,
   "id": "36b481e4",
   "metadata": {},
   "outputs": [],
   "source": [
    "output_path = '/data/philhoon-relevance/binary-classification/NQ-DEV-DPR/5-fold'"
   ]
  },
  {
   "cell_type": "code",
   "execution_count": null,
   "id": "065f034f",
   "metadata": {},
   "outputs": [],
   "source": [
    "for i, (train_index, test_index) in enumerate(kf.split(data_id)):\n",
    "    output_path_i = output_path + f'/{i+1}'\n",
    "    train_file_name = f'ctx100id_split_train_{i+1}.json'\n",
    "    test_file_name = f'ctx100id_split_dev_{i+1}.json'\n",
    "    \n",
    "    train_path = os.path.join(output_path_i, train_file_name)\n",
    "    test_path = os.path.join(output_path_i, test_file_name)\n",
    "    print(f'train_path : {train_path}')\n",
    "    print(f'dev_path : {test_path}')\n",
    "    print(f\"Fold {i}:\")\n",
    "    print(f\"  Train: index={train_index[:10]}\")\n",
    "    print(f\"  Test:  index={test_index}\")\n",
    "    train_split = [data_id[j] for j in train_index]\n",
    "    test_split = [data_id[j] for j in test_index]\n",
    "    print(f'size of train : {len(train_split)}')\n",
    "    print(f'size of dev : {len(test_split)}')\n",
    "    \n",
    "#     utils.save_json(train_split, train_path)\n",
    "#     utils.save_json(test_split, test_path)"
   ]
  },
  {
   "cell_type": "markdown",
   "id": "e2c6c538",
   "metadata": {},
   "source": [
    "========================================================================"
   ]
  },
  {
   "cell_type": "markdown",
   "id": "8440322b",
   "metadata": {},
   "source": [
    "# Converting each data into binary dataset \n",
    "- For each split -> binary"
   ]
  },
  {
   "cell_type": "markdown",
   "id": "ac25177f",
   "metadata": {},
   "source": [
    "## input \n",
    "### input file \n",
    "    : incremental inference result file\n",
    "    : for need to split dataset since after transforming to binary dataset cannot track.\n",
    "    \n",
    "### inputformat \n",
    "    : list w/ dictionary elements\n",
    "    \n",
    "### keys\n",
    "    'id': str : id of question for tracking\n",
    "    'question': str : query \n",
    "    'answers' : list  : answers   \n",
    "    'ctxs' : list w/ dictionary elements : top-100 ctx retrieved from retrieval : \n",
    "    'em_pattern': str : EM of each inference @k  \n",
    "    'inference' : list : inference of each inference @k \n",
    "    'conversion' : str : existence of 10 pattern 1 if exits\n",
    "    'cumulative_em' : str : existence of answer in incremental inferencing "
   ]
  },
  {
   "cell_type": "markdown",
   "id": "b09ea2f7",
   "metadata": {},
   "source": [
    "## Output\n",
    "    - there should be option for undecisive 0s (initial consecutive zeros)\n",
    "    \n",
    "### output  file \n",
    "    : list w/ question and ctx pair as dictionary format \n",
    "    \n",
    "### output  format \n",
    "```python\n",
    "[  \n",
    "   {  \n",
    "       'id: str,\n",
    "       'question' : str,\n",
    "       'ctx' : {  \n",
    "           'id' : str,  \n",
    "           'text' : str,  \n",
    "           'title' : str  \n",
    "       }  \n",
    "       'em' : str,\n",
    "   }  \n",
    "]  \n",
    "```"
   ]
  },
  {
   "cell_type": "code",
   "execution_count": null,
   "id": "a1495c1d",
   "metadata": {
    "scrolled": false
   },
   "outputs": [],
   "source": [
    "def convert_incremental_to_binary(data, option_exclude_zeros):    \n",
    "    check = 0\n",
    "    output = []\n",
    "    for instance in data:\n",
    "        id_ = instance['id']\n",
    "        query = instance['question']\n",
    "        em_pattern = instance['em_pattern']\n",
    "        answers = instance['answers']\n",
    "        num_undecisive = len(em_pattern) - len(em_pattern.lstrip('0'))\n",
    "        cumulative_em = instance['cumulative_em']\n",
    "        ctxs = instance['ctxs']\n",
    "\n",
    "        if num_undecisive > 0 and cumulative_em == '1' and option_exclude_zeros:\n",
    "            check += 1\n",
    "            for ctx, em in zip(ctxs[num_undecisive:], em_pattern[num_undecisive:]):\n",
    "                template = {\n",
    "                    'id' : id_,\n",
    "                    'question' : query,\n",
    "                    'ctx' : ctx,\n",
    "                    'em' : em\n",
    "                }\n",
    "                output.append(template)\n",
    "        else:\n",
    "            for ctx, em in zip(ctxs, em_pattern):\n",
    "                template = {\n",
    "                    'id' : id_,\n",
    "                    'question' : query,\n",
    "                    'ctx' : ctx,\n",
    "                    'em' : em\n",
    "                }\n",
    "                output.append(template)\n",
    "    return output, check"
   ]
  },
  {
   "cell_type": "code",
   "execution_count": null,
   "id": "740e3815",
   "metadata": {},
   "outputs": [],
   "source": [
    "# output_wout, check_1 = convert_incremental_to_binary(test_data, option_exclude_zeros = True)"
   ]
  },
  {
   "cell_type": "code",
   "execution_count": null,
   "id": "82fe05a6",
   "metadata": {},
   "outputs": [],
   "source": [
    "# output_with, check_2 = convert_incremental_to_binary(test_data, option_exclude_zeros = False)"
   ]
  },
  {
   "cell_type": "code",
   "execution_count": null,
   "id": "1e835c50",
   "metadata": {},
   "outputs": [],
   "source": [
    "k = 5\n",
    "in_path = '/data/philhoon-relevance/binary-classification/NQ-DEV-DPR/5-fold'\n",
    "option_exclude_zeros = True"
   ]
  },
  {
   "cell_type": "code",
   "execution_count": null,
   "id": "8831aaca",
   "metadata": {},
   "outputs": [],
   "source": [
    "for i in range(1, k+1):\n",
    "    train_file = f'{i}/ctx100id_split_train_{i}.json'\n",
    "    dev_file = f'{i}/ctx100id_split_dev_{i}.json'\n",
    "    \n",
    "    train_path = os.path.join(in_path, train_file)\n",
    "    dev_path = os.path.join(in_path, dev_file)\n",
    "    \n",
    "    train_data = utils.open_json(train_path)\n",
    "    dev_data = utils.open_json(dev_path)\n",
    "    \n",
    "    if option_exclude_zeros:\n",
    "        out_path = f'/data/philhoon-relevance/binary-classification/NQ-DEV-DPR/5-fold/{i}/binary_data'\n",
    "        \n",
    "        train_wout, _ = convert_incremental_to_binary(train_data, option_exclude_zeros = True)\n",
    "        dev_wout, _ = convert_incremental_to_binary(dev_data, option_exclude_zeros = True)\n",
    "        \n",
    "        train_out_file = f'binary_ex_ctx100id_split_train_{i}.json'\n",
    "        dev_out_file = f'binary_ex_ctx100id_split_dev_{i}.json'\n",
    "        \n",
    "        train_output_path = os.path.join(out_path, train_out_file)\n",
    "        dev_output_path = os.path.join(out_path, dev_out_file)\n",
    "        \n",
    "        utils.save_json(train_wout, train_output_path)\n",
    "        utils.save_json(dev_wout, dev_output_path)\n",
    "        print(f'train_output_path : \\n{train_output_path}')\n",
    "        print(f'dev_output_path : \\n{dev_output_path}')\n",
    "    else:\n",
    "        out_path = f'/data/philhoon-relevance/binary-classification/NQ-DEV-DPR/5-fold/{i}/binary_data'\n",
    "        \n",
    "        train_wout, _ = convert_incremental_to_binary(train_data, option_exclude_zeros = False)\n",
    "        dev_wout, _ = convert_incremental_to_binary(dev_data, option_exclude_zeros = False)\n",
    "        \n",
    "        train_out_file = f'binary_in_ctx100id_split_train_{i}.json'\n",
    "        dev_out_file = f'binary_in_ctx100id_split_dev_{i}.json'\n",
    "        \n",
    "        train_output_path = os.path.join(out_path, train_out_file)\n",
    "        dev_output_path = os.path.join(out_path, dev_out_file)\n",
    "        \n",
    "        utils.save_json(train_wout, train_output_path)\n",
    "        utils.save_json(dev_wout, dev_output_path)\n",
    "        print(f'train_output_path : \\n{train_output_path}')\n",
    "        print(f'dev_output_path : \\n{dev_output_path}')\n",
    "        "
   ]
  },
  {
   "cell_type": "code",
   "execution_count": null,
   "id": "f1a3ffc9",
   "metadata": {},
   "outputs": [],
   "source": [
    "# test_train = '/data/philhoon-relevance/binary-classification/NQ-DEV-DPR/5-fold/1/binary_data/binary_ex_ctx100id_split_train_1.json'"
   ]
  },
  {
   "cell_type": "code",
   "execution_count": null,
   "id": "bc0bc23a",
   "metadata": {},
   "outputs": [],
   "source": [
    "# test_dev = '/data/philhoon-relevance/binary-classification/NQ-DEV-DPR/5-fold/1/binary_data/binary_ex_ctx100id_split_dev_1.json'"
   ]
  },
  {
   "cell_type": "code",
   "execution_count": null,
   "id": "8fc266da",
   "metadata": {},
   "outputs": [],
   "source": [
    "train_1 = utils.open_json(test_train)"
   ]
  },
  {
   "cell_type": "code",
   "execution_count": null,
   "id": "9c69d9bd",
   "metadata": {},
   "outputs": [],
   "source": [
    "dev_1 = utils.open_json(test_dev)"
   ]
  },
  {
   "cell_type": "code",
   "execution_count": null,
   "id": "0d577173",
   "metadata": {},
   "outputs": [],
   "source": [
    "print(len(train_1))\n",
    "pprint(train_1[0])"
   ]
  },
  {
   "cell_type": "code",
   "execution_count": null,
   "id": "4dbdca98",
   "metadata": {},
   "outputs": [],
   "source": [
    "print(len(dev_1))\n",
    "pprint(dev_1[0])"
   ]
  },
  {
   "cell_type": "code",
   "execution_count": null,
   "id": "2acd6d51",
   "metadata": {},
   "outputs": [],
   "source": [
    "train_id_lst = []\n",
    "for instance in train_1:\n",
    "    train_id_lst.append(instance['id'])\n",
    "print(len(list(set(train_id_lst))))"
   ]
  },
  {
   "cell_type": "code",
   "execution_count": null,
   "id": "d8de555c",
   "metadata": {},
   "outputs": [],
   "source": [
    "check_dict = {\n",
    "    '1' : 0,\n",
    "    '0' : 0\n",
    "}\n",
    "for instance in train_1:\n",
    "    if instance['em'] == '1':\n",
    "        check_dict['1'] += 1\n",
    "    if instance['em'] == '0':\n",
    "        check_dict['0'] += 1"
   ]
  },
  {
   "cell_type": "code",
   "execution_count": null,
   "id": "e25b7d53",
   "metadata": {},
   "outputs": [],
   "source": [
    "check_dict"
   ]
  },
  {
   "cell_type": "code",
   "execution_count": null,
   "id": "adbfb768",
   "metadata": {},
   "outputs": [],
   "source": [
    "check_dict['0'] + check_dict['1']"
   ]
  },
  {
   "cell_type": "code",
   "execution_count": null,
   "id": "903f5424",
   "metadata": {},
   "outputs": [],
   "source": [
    "print(check_dict['1']/(check_dict['0'] + check_dict['1']))\n",
    "print(check_dict['0']/(check_dict['0'] + check_dict['1']))"
   ]
  },
  {
   "cell_type": "markdown",
   "id": "664f2bfc",
   "metadata": {},
   "source": [
    "# Converting each data into binary dataset4\n",
    "- For each split -> binary  \n",
    "- Here exclude no answer queries   \n",
    "    - cumulative_em == '0' -> continue  \n",
    "- Here exclude indecisive part \n",
    "    - num_undecisive > 0 and cumulative_em == '1' and option_exclude_zeros -> exclude indecisive part"
   ]
  },
  {
   "cell_type": "code",
   "execution_count": null,
   "id": "99d1c8ee",
   "metadata": {},
   "outputs": [],
   "source": [
    "def convert_incremental_to_binary_remove_no_answer(data, option_exclude_zeros):    \n",
    "    check = 0\n",
    "    output = []\n",
    "    for instance in data:\n",
    "        id_ = instance['id']\n",
    "        query = instance['question']\n",
    "        em_pattern = instance['em_pattern']\n",
    "        answers = instance['answers']\n",
    "        num_undecisive = len(em_pattern) - len(em_pattern.lstrip('0'))\n",
    "        cumulative_em = instance['cumulative_em']\n",
    "        ctxs = instance['ctxs']\n",
    "        \n",
    "        if cumulative_em == '0':\n",
    "            continue\n",
    "        elif num_undecisive > 0 and cumulative_em == '1' and option_exclude_zeros:\n",
    "            check += 1\n",
    "            for ctx, em in zip(ctxs[num_undecisive:], em_pattern[num_undecisive:]):\n",
    "                template = {\n",
    "                    'id' : id_,\n",
    "                    'question' : query,\n",
    "                    'ctx' : ctx,\n",
    "                    'em' : em\n",
    "                }\n",
    "                output.append(template)\n",
    "        else:\n",
    "            for ctx, em in zip(ctxs, em_pattern):\n",
    "                template = {\n",
    "                    'id' : id_,\n",
    "                    'question' : query,\n",
    "                    'ctx' : ctx,\n",
    "                    'em' : em\n",
    "                }\n",
    "                output.append(template)\n",
    "    return output, check"
   ]
  },
  {
   "cell_type": "code",
   "execution_count": null,
   "id": "d064311c",
   "metadata": {},
   "outputs": [],
   "source": [
    "k = 5\n",
    "in_path = '/data/philhoon-relevance/binary-classification/NQ-DEV-DPR/5-fold'\n",
    "option_exclude_zeros = True"
   ]
  },
  {
   "cell_type": "code",
   "execution_count": null,
   "id": "0498fabf",
   "metadata": {},
   "outputs": [],
   "source": [
    "for i in range(1, k+1):\n",
    "    train_file = f'{i}/ctx100id_split_train_{i}.json'\n",
    "    dev_file = f'{i}/ctx100id_split_dev_{i}.json'\n",
    "    \n",
    "    train_path = os.path.join(in_path, train_file)\n",
    "    dev_path = os.path.join(in_path, dev_file)\n",
    "\n",
    "    train_data = utils.open_json(train_path)\n",
    "    dev_data = utils.open_json(dev_path)\n",
    "    \n",
    "    if option_exclude_zeros:\n",
    "        out_path = f'/data/philhoon-relevance/binary-classification/NQ-DEV-DPR/5-fold/{i}/binary_exclude_no_answer'\n",
    "        \n",
    "        os.makedirs(out_path, exist_ok = True)\n",
    "        \n",
    "        train_wout, _ = convert_incremental_to_binary_remove_no_answer(train_data, option_exclude_zeros = True)\n",
    "        dev_wout, _ = convert_incremental_to_binary_remove_no_answer(dev_data, option_exclude_zeros = True)\n",
    "        \n",
    "        train_out_file = f'binary_exclude_no_answer_ex_ctx100id_split_train_{i}.json'\n",
    "        dev_out_file = f'binary_exclude_no_answer_ex_ctx100id_split_dev_{i}.json'\n",
    "        \n",
    "        train_output_path = os.path.join(out_path, train_out_file)\n",
    "        dev_output_path = os.path.join(out_path, dev_out_file)\n",
    "        \n",
    "        utils.save_json(train_wout, train_output_path)\n",
    "        utils.save_json(dev_wout, dev_output_path)\n",
    "        print(f'train_output_path : \\n{train_output_path}')\n",
    "        print(f'dev_output_path : \\n{dev_output_path}')\n",
    "#     else:\n",
    "#         out_path = f'/data/philhoon-relevance/binary-classification/NQ-DEV-DPR/5-fold/{i}/binary_exclude_no_answer'\n",
    "#         os.makedirs(out_path, exist_ok = True)\n",
    "        \n",
    "#         train_wout, _ = convert_incremental_to_binary(train_data, option_exclude_zeros = False)\n",
    "#         dev_wout, _ = convert_incremental_to_binary(dev_data, option_exclude_zeros = False)\n",
    "        \n",
    "#         train_out_file = f'binary_exclude_no_answer_in_ctx100id_split_train_{i}.json'\n",
    "#         dev_out_file = f'binary_exclude_no_answer_in_ctx100id_split_dev_{i}.json'\n",
    "        \n",
    "#         train_output_path = os.path.join(out_path, train_out_file)\n",
    "#         dev_output_path = os.path.join(out_path, dev_out_file)\n",
    "        \n",
    "#         utils.save_json(train_wout, train_output_path)\n",
    "#         utils.save_json(dev_wout, dev_output_path)\n",
    "#         print(f'train_output_path : \\n{train_output_path}')\n",
    "#         print(f'dev_output_path : \\n{dev_output_path}')\n",
    "        "
   ]
  },
  {
   "cell_type": "code",
   "execution_count": null,
   "id": "06297862",
   "metadata": {},
   "outputs": [],
   "source": [
    "def check_ratio(data):\n",
    "    cnt_0 = 0\n",
    "    cnt_1 = 0\n",
    "\n",
    "    for ins in data:\n",
    "        if ins['em'] == '0':\n",
    "            cnt_0 += 1\n",
    "        if ins['em'] == '1':\n",
    "            cnt_1 += 1 \n",
    "    \n",
    "    print(f'total number of instances : {len(data)}')\n",
    "    print(f'number of 1 : {cnt_1}')\n",
    "    print(f'number of 0 : {cnt_0}')\n",
    "    print(f'ratio of 1 : {cnt_1/len(data)}')\n",
    "    print(f'ratio of 0 : {cnt_0/len(data)}')"
   ]
  },
  {
   "cell_type": "code",
   "execution_count": null,
   "id": "190f5e57",
   "metadata": {},
   "outputs": [],
   "source": [
    "train_file_path = '/data/philhoon-relevance/binary-classification/NQ-DEV-DPR/5-fold/1/binary_exclude_no_answer/binary_exclude_no_answer_ex_ctx100id_split_train_1.json'\n",
    "dev_file_path = '/data/philhoon-relevance/binary-classification/NQ-DEV-DPR/5-fold/1/binary_exclude_no_answer/binary_exclude_no_answer_ex_ctx100id_split_dev_1.json'"
   ]
  },
  {
   "cell_type": "code",
   "execution_count": null,
   "id": "a86dcffc",
   "metadata": {},
   "outputs": [],
   "source": [
    "train_data = utils.open_json(train_file_path)\n",
    "dev_data = utils.open_json(dev_file_path)"
   ]
  },
  {
   "cell_type": "code",
   "execution_count": null,
   "id": "c7a08e55",
   "metadata": {},
   "outputs": [],
   "source": [
    "check_ratio(train_data)\n",
    "check_ratio(dev_data)"
   ]
  },
  {
   "cell_type": "code",
   "execution_count": null,
   "id": "7009cc6a",
   "metadata": {},
   "outputs": [],
   "source": []
  },
  {
   "cell_type": "markdown",
   "id": "149a42ec",
   "metadata": {},
   "source": [
    "# Converting each data into dataset5\n",
    "- For each split\n",
    "- Here exclude no answer queries   \n",
    "    - cumulative_em == '0' -> continue  \n",
    "- Here exclude indecisive part \n",
    "    - num_undecisive > 0 and cumulative_em == '1' and option_exclude_zeros -> exclude indecisive part\n",
    "- Used for building sentence-level embedding"
   ]
  },
  {
   "cell_type": "code",
   "execution_count": null,
   "id": "61acd742",
   "metadata": {},
   "outputs": [],
   "source": [
    "def convert_incremental_to_senetence_input(data, option_exclude_zeros):    \n",
    "    check = 0\n",
    "    output = []\n",
    "    for instance in data:\n",
    "        \n",
    "        id_ = instance['id']\n",
    "        question_ = instance['question']\n",
    "        em_pattern_ = instance['em_pattern']\n",
    "        answers_ = instance['answers']\n",
    "        ctxs_ = instance['ctxs']\n",
    "        inference_ = instance['inference']\n",
    "        conversion_ = instance['conversion']\n",
    "        cumulative_em_ = instance['cumulative_em']\n",
    "        \n",
    "        num_undecisive = len(em_pattern_) - len(em_pattern_.lstrip('0'))\n",
    "        \n",
    "        if cumulative_em_ == '0':\n",
    "            check += 1\n",
    "            continue\n",
    "        elif num_undecisive > 0 and cumulative_em_ == '1' and option_exclude_zeros:\n",
    "            check += 1\n",
    "            template = {\n",
    "                'question' : question_,\n",
    "                'answers' : answers_,\n",
    "                'ctxs' : ctxs_[num_undecisive:],\n",
    "                'em_pattern' : em_pattern_[num_undecisive:],\n",
    "                'inference' : inference_[num_undecisive:],\n",
    "                'conversion' : conversion_,\n",
    "                'cumulative_em' : cumulative_em_,\n",
    "                'id' : id_,\n",
    "                \n",
    "            }\n",
    "            output.append(template)\n",
    "        else:\n",
    "            template = {\n",
    "                'question' : question_,\n",
    "                'answers' : answers_,\n",
    "                'ctxs' : ctxs_,\n",
    "                'em_pattern' : em_pattern_,\n",
    "                'inference' : inference_,\n",
    "                'conversion' : conversion_,\n",
    "                'cumulative_em' : cumulative_em_,\n",
    "                'id' : id_,\n",
    "                \n",
    "            }\n",
    "            output.append(template)\n",
    "    return output, check"
   ]
  },
  {
   "cell_type": "code",
   "execution_count": null,
   "id": "846cc32f",
   "metadata": {},
   "outputs": [],
   "source": [
    "in_path = '/data/philhoon-relevance/binary-classification/NQ-DEV-DPR/5-fold/1/ctx100id_split_train_1.json'"
   ]
  },
  {
   "cell_type": "code",
   "execution_count": null,
   "id": "0a9b9509",
   "metadata": {},
   "outputs": [],
   "source": [
    "test_data = utils.open_json(in_path)"
   ]
  },
  {
   "cell_type": "code",
   "execution_count": null,
   "id": "b68f239b",
   "metadata": {
    "scrolled": true
   },
   "outputs": [],
   "source": [
    "type(test_data)"
   ]
  },
  {
   "cell_type": "code",
   "execution_count": null,
   "id": "98aa9ec2",
   "metadata": {},
   "outputs": [],
   "source": [
    "test_converted = convert_incremental_to_senetence_input(test_data, True)"
   ]
  },
  {
   "cell_type": "code",
   "execution_count": null,
   "id": "57a28f6d",
   "metadata": {},
   "outputs": [],
   "source": [
    "len(test_converted[0])"
   ]
  },
  {
   "cell_type": "code",
   "execution_count": null,
   "id": "4ecb83f6",
   "metadata": {},
   "outputs": [],
   "source": [
    "k = 5\n",
    "in_path = '/data/philhoon-relevance/binary-classification/NQ-DEV-DPR/5-fold'\n",
    "option_exclude_zeros = True"
   ]
  },
  {
   "cell_type": "code",
   "execution_count": null,
   "id": "46b92e06",
   "metadata": {},
   "outputs": [],
   "source": [
    "for i in range(1, k+1):\n",
    "    train_file = f'{i}/ctx100id_split_train_{i}.json'\n",
    "    dev_file = f'{i}/ctx100id_split_dev_{i}.json'\n",
    "    \n",
    "    train_path = os.path.join(in_path, train_file)\n",
    "    dev_path = os.path.join(in_path, dev_file)\n",
    "\n",
    "    train_data = utils.open_json(train_path)\n",
    "    dev_data = utils.open_json(dev_path)\n",
    "    \n",
    "    if option_exclude_zeros:\n",
    "        out_path = f'/data/philhoon-relevance/binary-classification/NQ-DEV-DPR/5-fold/{i}/sequence_exclude_no_answer_exclude_indecisve'\n",
    "        \n",
    "        os.makedirs(out_path, exist_ok = True)\n",
    "        \n",
    "        train_wout, _ = convert_incremental_to_senetence_input(train_data, option_exclude_zeros = True)\n",
    "        dev_wout, _ = convert_incremental_to_senetence_input(dev_data, option_exclude_zeros = True)\n",
    "        \n",
    "        train_out_file = f'sequence_exclude_no_answer_exclude_indecisve_ctx100id_split_train_{i}.json'\n",
    "        dev_out_file = f'sequence_exclude_no_answer_exclude_indecisve_ctx100id_split_dev_{i}.json'\n",
    "        \n",
    "        train_output_path = os.path.join(out_path, train_out_file)\n",
    "        dev_output_path = os.path.join(out_path, dev_out_file)\n",
    "        \n",
    "        utils.save_json(train_wout, train_output_path)\n",
    "        utils.save_json(dev_wout, dev_output_path)\n",
    "        print(f'train_output_path : \\n{train_output_path}')\n",
    "        print(f'dev_output_path : \\n{dev_output_path}')\n",
    "#     else:\n",
    "#         out_path = f'/data/philhoon-relevance/binary-classification/NQ-DEV-DPR/5-fold/{i}/binary_exclude_no_answer'\n",
    "#         os.makedirs(out_path, exist_ok = True)\n",
    "        \n",
    "#         train_wout, _ = convert_incremental_to_binary(train_data, option_exclude_zeros = False)\n",
    "#         dev_wout, _ = convert_incremental_to_binary(dev_data, option_exclude_zeros = False)\n",
    "        \n",
    "#         train_out_file = f'binary_exclude_no_answer_in_ctx100id_split_train_{i}.json'\n",
    "#         dev_out_file = f'binary_exclude_no_answer_in_ctx100id_split_dev_{i}.json'\n",
    "        \n",
    "#         train_output_path = os.path.join(out_path, train_out_file)\n",
    "#         dev_output_path = os.path.join(out_path, dev_out_file)\n",
    "        \n",
    "#         utils.save_json(train_wout, train_output_path)\n",
    "#         utils.save_json(dev_wout, dev_output_path)\n",
    "#         print(f'train_output_path : \\n{train_output_path}')\n",
    "#         print(f'dev_output_path : \\n{dev_output_path}')\n",
    "        "
   ]
  },
  {
   "cell_type": "code",
   "execution_count": null,
   "id": "de42f89b",
   "metadata": {},
   "outputs": [],
   "source": []
  },
  {
   "cell_type": "markdown",
   "id": "493020fb",
   "metadata": {},
   "source": [
    "# Converting each data into dataset6\n",
    "- For each split\n",
    "- Here exclude no answer queries   \n",
    "    - cumulative_em == '0' -> continue  \n",
    "- Here include indecisive part \n",
    "    - num_undecisive > 0 and cumulative_em == '1' and option_exclude_zeros -> exclude indecisive part\n",
    "- Used for building sentence-level embedding"
   ]
  },
  {
   "cell_type": "code",
   "execution_count": null,
   "id": "f107d752",
   "metadata": {},
   "outputs": [],
   "source": [
    "def convert_incremental_to_senetence_input_2(data):    \n",
    "    check = 0\n",
    "    output = []\n",
    "    for instance in data:\n",
    "        \n",
    "        id_ = instance['id']\n",
    "        question_ = instance['question']\n",
    "        em_pattern_ = instance['em_pattern']\n",
    "        answers_ = instance['answers']\n",
    "        ctxs_ = instance['ctxs']\n",
    "        inference_ = instance['inference']\n",
    "        conversion_ = instance['conversion']\n",
    "        cumulative_em_ = instance['cumulative_em']\n",
    "        \n",
    "        num_undecisive = len(em_pattern_) - len(em_pattern_.lstrip('0'))\n",
    "        \n",
    "        if cumulative_em_ == '0':\n",
    "            check += 1\n",
    "            continue\n",
    "        template = {\n",
    "            'question' : question_,\n",
    "            'answers' : answers_,\n",
    "            'ctxs' : ctxs_,\n",
    "            'em_pattern' : em_pattern_,\n",
    "            'inference' : inference_,\n",
    "            'conversion' : conversion_,\n",
    "            'cumulative_em' : cumulative_em_,\n",
    "            'id' : id_,\n",
    "\n",
    "        }\n",
    "        output.append(template)\n",
    "    return output, check"
   ]
  },
  {
   "cell_type": "code",
   "execution_count": null,
   "id": "1e88abe1",
   "metadata": {},
   "outputs": [],
   "source": [
    "in_path = '/data/philhoon-relevance/binary-classification/NQ-DEV-DPR/5-fold/1/ctx100id_split_train_1.json'"
   ]
  },
  {
   "cell_type": "code",
   "execution_count": null,
   "id": "efc2fc3f",
   "metadata": {},
   "outputs": [],
   "source": [
    "test_data = utils.open_json(in_path)"
   ]
  },
  {
   "cell_type": "code",
   "execution_count": null,
   "id": "ead00991",
   "metadata": {},
   "outputs": [],
   "source": [
    "print(type(test_data))\n",
    "print(len(test_data))"
   ]
  },
  {
   "cell_type": "code",
   "execution_count": null,
   "id": "d4f1d970",
   "metadata": {},
   "outputs": [],
   "source": [
    "test_converted, _ = convert_incremental_to_senetence_input_2(test_data)"
   ]
  },
  {
   "cell_type": "code",
   "execution_count": null,
   "id": "19acecf6",
   "metadata": {},
   "outputs": [],
   "source": [
    "print(type(test_converted))\n",
    "print(len(test_converted))"
   ]
  },
  {
   "cell_type": "code",
   "execution_count": null,
   "id": "f36f6082",
   "metadata": {},
   "outputs": [],
   "source": [
    "for instance in test_converted:\n",
    "    if len(instance['ctxs']) != 100:\n",
    "        print('wrong contexts')\n",
    "    if len(instance['em_pattern']) != 100:\n",
    "        print('wrong contexts')"
   ]
  },
  {
   "cell_type": "code",
   "execution_count": null,
   "id": "c61e9df8",
   "metadata": {},
   "outputs": [],
   "source": [
    "k = 5\n",
    "in_path = '/data/philhoon-relevance/binary-classification/NQ-DEV-DPR/5-fold'"
   ]
  },
  {
   "cell_type": "code",
   "execution_count": null,
   "id": "b9c76621",
   "metadata": {},
   "outputs": [],
   "source": [
    "for i in range(1, k+1):\n",
    "    train_file = f'{i}/ctx100id_split_train_{i}.json'\n",
    "    dev_file = f'{i}/ctx100id_split_dev_{i}.json'\n",
    "    \n",
    "    train_path = os.path.join(in_path, train_file)\n",
    "    dev_path = os.path.join(in_path, dev_file)\n",
    "\n",
    "    train_data = utils.open_json(train_path)\n",
    "    dev_data = utils.open_json(dev_path)\n",
    "    \n",
    "    out_path = f'/data/philhoon-relevance/binary-classification/NQ-DEV-DPR/5-fold/{i}/sequence_exclude_no_answer'\n",
    "\n",
    "    os.makedirs(out_path, exist_ok = True)\n",
    "\n",
    "    train_wout, _ = convert_incremental_to_senetence_input_2(train_data)\n",
    "    dev_wout, _ = convert_incremental_to_senetence_input_2(dev_data)\n",
    "\n",
    "    train_out_file = f'sequence_exclude_no_answer_ctx100id_split_train_{i}.json'\n",
    "    dev_out_file = f'sequence_exclude_no_answer_ctx100id_split_dev_{i}.json'\n",
    "\n",
    "    train_output_path = os.path.join(out_path, train_out_file)\n",
    "    dev_output_path = os.path.join(out_path, dev_out_file)\n",
    "\n",
    "    utils.save_json(train_wout, train_output_path)\n",
    "    utils.save_json(dev_wout, dev_output_path)\n",
    "    print(f'train_output_path : \\n{train_output_path}')\n",
    "    print(f'dev_output_path : \\n{dev_output_path}')"
   ]
  },
  {
   "cell_type": "code",
   "execution_count": null,
   "id": "940890f2",
   "metadata": {},
   "outputs": [],
   "source": []
  },
  {
   "cell_type": "code",
   "execution_count": null,
   "id": "295d2fff",
   "metadata": {},
   "outputs": [],
   "source": []
  },
  {
   "cell_type": "markdown",
   "id": "7153da3a",
   "metadata": {},
   "source": [
    "# Converting each data into dataset7\n",
    "- convert each split into senetencedataset\n",
    "- use only decisive part (01 & 10)\n",
    "    - use decisive 1 when 01\n",
    "    - use decisvie 0 when 10\n",
    "    - + use 0 when 01 for extra negative\n",
    "- remove query with no correct answer (0000000000..000 pattern)\n",
    "    - cumulative_em == '0' -> continue  \n",
    "- Used for building sentence-level embedding "
   ]
  },
  {
   "cell_type": "markdown",
   "id": "d739dd6a",
   "metadata": {},
   "source": [
    "    /data/philhoon-relevance/binary-classification/NQ-DEV-DPR/5-fold/{i}/sequence_exclude_no_answer_partial_decisive\n",
    "            sequence_exclude_no_answer_partial_decisive_ctx100id_split_dev_{i}.json\n",
    "            sequence_exclude_no_answer_partial_decisive_ctx100id_split_train_{i}.json"
   ]
  },
  {
   "cell_type": "code",
   "execution_count": null,
   "id": "f9c2ad59",
   "metadata": {},
   "outputs": [],
   "source": [
    "import re\n",
    "import os\n",
    "from util import utils\n",
    "from pprint import pprint\n",
    "import random\n",
    "from sklearn.model_selection import train_test_split\n",
    "from sklearn.model_selection import KFold"
   ]
  },
  {
   "cell_type": "code",
   "execution_count": null,
   "id": "0031610e",
   "metadata": {},
   "outputs": [],
   "source": [
    "def get_definite_pos_neg_2(test_em):\n",
    "    positive_pos = []\n",
    "    negative_pos = []\n",
    "    \n",
    "    # pos\n",
    "    if test_em.startswith('1'):\n",
    "        positive_pos.append(0)\n",
    "    iter_ = re.finditer(r'01', test_em)\n",
    "    for m in iter_:\n",
    "        pos_ = m.start() + 1\n",
    "        positive_pos.append(pos_)\n",
    "        \n",
    "        # extra\n",
    "        neg_ = m.start()\n",
    "        negative_pos.append(neg_)\n",
    "        \n",
    "    # neg\n",
    "    iter_ = re.finditer(r'10', test_em)\n",
    "    for m in iter_:\n",
    "        pos_ = m.start() + 1\n",
    "        if pos_ not in negative_pos:\n",
    "            negative_pos.append(pos_)\n",
    "    \n",
    "    return positive_pos, negative_pos"
   ]
  },
  {
   "cell_type": "code",
   "execution_count": null,
   "id": "f437e2ce",
   "metadata": {},
   "outputs": [],
   "source": [
    "def convert_incremental_to_senetence_input_3(data):\n",
    "    output = []\n",
    "    cnt_0 = 0\n",
    "    cnt_1 = 0\n",
    "    \n",
    "    for instance in data:\n",
    "#         dict_keys(['question', 'answers', 'ctxs', 'em_pattern', 'inference', 'conversion', 'cumulative_em', 'id'])\n",
    "        question_ = instance['question']\n",
    "        answers_ = instance['answers']\n",
    "        ctxs_ = instance['ctxs']\n",
    "        em_pattern_ = instance['em_pattern']\n",
    "        inference_ = instance['inference']\n",
    "        cumulative_em_ = instance['cumulative_em']\n",
    "        conversion_ = instance['conversion']\n",
    "        id_ = instance['id']\n",
    "        \n",
    "        num_undecisive = len(em_pattern_) - len(em_pattern_.lstrip('0'))\n",
    "        if num_undecisive == 100:\n",
    "            continue\n",
    "        else:\n",
    "            pos_indices, neg_indices = get_definite_pos_neg_2(em_pattern_)\n",
    "            decisive_indices = pos_indices + neg_indices\n",
    "            decisive_indices.sort()\n",
    "            decisive_em_pattern_ = ''.join([str(em_pattern_[d]) for d in decisive_indices])\n",
    "            decisive_ctxs_ = [ctxs_[d] for d in decisive_indices]\n",
    "            decisive_inference_ = [inference_[d] for d in decisive_indices]\n",
    "#             print(f'em_pattern_ : {em_pattern_}')\n",
    "#             print(f'decisive_indices : {decisive_indices}')\n",
    "#             print(f'decisive_em_pattern_ : {decisive_em_pattern_}')\n",
    "#             print(f'decisive_inference_ : {decisive_inference_}')\n",
    "#             print(f'decisive_ctxs_ : {decisive_ctxs_}')\n",
    "#             print('-----')\n",
    "            cnt_0 += decisive_em_pattern_.count('0')\n",
    "            cnt_1 += decisive_em_pattern_.count('1')\n",
    "            \n",
    "\n",
    "        template = {\n",
    "            'question' : question_,\n",
    "            'answers' : answers_,\n",
    "            'ctxs' : ctxs_,\n",
    "            'em_pattern' : em_pattern_,\n",
    "            'inference' : inference_,\n",
    "            'conversion' : conversion_,\n",
    "            'cumulative_em' : cumulative_em_,\n",
    "            'id' : id_,\n",
    "            'decisive_ctxs' : decisive_ctxs_,\n",
    "            'decisive_em_pattern' : decisive_em_pattern_,\n",
    "            'decisive_inference_' : decisive_inference_,\n",
    "\n",
    "        }\n",
    "        output.append(template)\n",
    "    print(f'cnt_0 : {cnt_0}')\n",
    "    print(f'cnt_1 : {cnt_1}')\n",
    "\n",
    "    return output\n"
   ]
  },
  {
   "cell_type": "code",
   "execution_count": null,
   "id": "ee51175f",
   "metadata": {},
   "outputs": [],
   "source": [
    "i = 1"
   ]
  },
  {
   "cell_type": "code",
   "execution_count": null,
   "id": "6fea7cba",
   "metadata": {},
   "outputs": [],
   "source": [
    "input_path = f'/data/philhoon-relevance/binary-classification/NQ-DEV-DPR/5-fold'"
   ]
  },
  {
   "cell_type": "code",
   "execution_count": null,
   "id": "d31e62a8",
   "metadata": {},
   "outputs": [],
   "source": [
    "train_file = f'{i}/ctx100id_split_train_{i}.json'\n",
    "dev_file = f'{i}/ctx100id_split_dev_{i}.json'"
   ]
  },
  {
   "cell_type": "code",
   "execution_count": null,
   "id": "3439996c",
   "metadata": {},
   "outputs": [],
   "source": [
    "input_train_file = os.path.join(input_path, train_file)\n",
    "input_dev_file = os.path.join(input_path, dev_file)"
   ]
  },
  {
   "cell_type": "code",
   "execution_count": null,
   "id": "940a5cce",
   "metadata": {},
   "outputs": [],
   "source": [
    "input_train = utils.open_json(input_train_file)\n",
    "input_dev = utils.open_json(input_dev_file)"
   ]
  },
  {
   "cell_type": "code",
   "execution_count": null,
   "id": "e6d55eb6",
   "metadata": {},
   "outputs": [],
   "source": [
    "input_train[0].keys()"
   ]
  },
  {
   "cell_type": "code",
   "execution_count": null,
   "id": "518640ff",
   "metadata": {
    "scrolled": false
   },
   "outputs": [],
   "source": [
    "# convert_incremental_to_senetence_input_3(input_train)"
   ]
  },
  {
   "cell_type": "code",
   "execution_count": null,
   "id": "106c0d89",
   "metadata": {
    "scrolled": false
   },
   "outputs": [],
   "source": [
    "test_dev = convert_incremental_to_senetence_input_3(input_dev)"
   ]
  },
  {
   "cell_type": "code",
   "execution_count": null,
   "id": "de4dbe09",
   "metadata": {},
   "outputs": [],
   "source": [
    "test_train = convert_incremental_to_senetence_input_3(input_train)"
   ]
  },
  {
   "cell_type": "code",
   "execution_count": null,
   "id": "61a7e156",
   "metadata": {},
   "outputs": [],
   "source": [
    "k = 5\n",
    "in_path = f'/data/philhoon-relevance/binary-classification/NQ-DEV-DPR/5-fold'"
   ]
  },
  {
   "cell_type": "code",
   "execution_count": null,
   "id": "10c84275",
   "metadata": {},
   "outputs": [],
   "source": [
    "for i in range(1, k+1):\n",
    "    \n",
    "    # input_file\n",
    "    train_file = f'{i}/ctx100id_split_train_{i}.json'\n",
    "    dev_file = f'{i}/ctx100id_split_dev_{i}.json'\n",
    "    \n",
    "    train_path = os.path.join(in_path, train_file)\n",
    "    dev_path = os.path.join(in_path, dev_file)\n",
    "    \n",
    "    print(f'train_path : {train_path}')\n",
    "    print(f'dev_path : {dev_path}')\n",
    "    train_data = utils.open_json(train_path)\n",
    "    dev_data = utils.open_json(dev_path)\n",
    "    \n",
    "    \n",
    "    out_path = f'/data/philhoon-relevance/binary-classification/NQ-DEV-DPR/5-fold/{i}/sequence_exclude_no_answer_partial_decisive'\n",
    "    \n",
    "    os.makedirs(out_path, exist_ok = True)\n",
    "    \n",
    "    train_out = convert_incremental_to_senetence_input_3(train_data)\n",
    "    dev_out = convert_incremental_to_senetence_input_3(dev_data)\n",
    "    \n",
    "    print(f'len(train_out) : {len(train_out)}')\n",
    "    print(f'len(dev_out) : {len(dev_out)}')\n",
    "    \n",
    "    train_out_file = f'sequence_exclude_no_answer_partial_decisive_ctx100id_split_train_{i}.json'\n",
    "    dev_out_file = f'sequence_exclude_no_answer_partial_decisive_ctx100id_split_dev_{i}.json'\n",
    "\n",
    "    train_output_path = os.path.join(out_path, train_out_file)\n",
    "    dev_output_path = os.path.join(out_path, dev_out_file)\n",
    "    \n",
    "    utils.save_json(train_out, train_output_path)\n",
    "    utils.save_json(dev_out, dev_output_path)\n",
    "    print(f'train_output_path : \\n{train_output_path}')\n",
    "    print(f'dev_output_path : \\n{dev_output_path}')\n",
    "    print('=====')\n",
    "        "
   ]
  },
  {
   "cell_type": "code",
   "execution_count": null,
   "id": "f671c97f",
   "metadata": {},
   "outputs": [],
   "source": []
  },
  {
   "cell_type": "code",
   "execution_count": null,
   "id": "fb0530a0",
   "metadata": {},
   "outputs": [],
   "source": []
  },
  {
   "cell_type": "code",
   "execution_count": null,
   "id": "1199a3c6",
   "metadata": {},
   "outputs": [],
   "source": []
  },
  {
   "cell_type": "code",
   "execution_count": null,
   "id": "9a79ed1d",
   "metadata": {},
   "outputs": [],
   "source": []
  },
  {
   "cell_type": "code",
   "execution_count": null,
   "id": "56540f1e",
   "metadata": {},
   "outputs": [],
   "source": []
  },
  {
   "cell_type": "code",
   "execution_count": null,
   "id": "97800661",
   "metadata": {},
   "outputs": [],
   "source": []
  },
  {
   "cell_type": "code",
   "execution_count": null,
   "id": "8493a7de",
   "metadata": {},
   "outputs": [],
   "source": []
  },
  {
   "cell_type": "code",
   "execution_count": null,
   "id": "77f6f975",
   "metadata": {},
   "outputs": [],
   "source": []
  },
  {
   "cell_type": "code",
   "execution_count": null,
   "id": "c34c33b3",
   "metadata": {},
   "outputs": [],
   "source": []
  },
  {
   "cell_type": "code",
   "execution_count": null,
   "id": "5a6a735c",
   "metadata": {},
   "outputs": [],
   "source": []
  },
  {
   "cell_type": "code",
   "execution_count": null,
   "id": "2c3d8197",
   "metadata": {},
   "outputs": [],
   "source": []
  },
  {
   "cell_type": "code",
   "execution_count": null,
   "id": "0bd0bda1",
   "metadata": {},
   "outputs": [],
   "source": []
  },
  {
   "cell_type": "code",
   "execution_count": null,
   "id": "7a16a280",
   "metadata": {},
   "outputs": [],
   "source": []
  },
  {
   "cell_type": "code",
   "execution_count": null,
   "id": "bb8c1918",
   "metadata": {},
   "outputs": [],
   "source": []
  },
  {
   "cell_type": "markdown",
   "id": "8ffaecda",
   "metadata": {},
   "source": [
    "# Converting Test data into binary dataset\n",
    "## Naive Binary Test Data\n",
    "- Here include zero\n",
    "- Also get exclude zero binary\n",
    "- if there is no gold random.choice "
   ]
  },
  {
   "cell_type": "code",
   "execution_count": null,
   "id": "dffec406",
   "metadata": {},
   "outputs": [],
   "source": [
    "input_path = '/data/philhoon-relevance/binary-classification/NQ-TEST-DPR'\n",
    "input_file = 'ctx100id.json'\n",
    "output_file = 'binary_in_ctx100id_test.json'"
   ]
  },
  {
   "cell_type": "code",
   "execution_count": null,
   "id": "dde465dc",
   "metadata": {},
   "outputs": [],
   "source": [
    "input_file_path = os.path.join(input_path, input_file)\n",
    "data_in = utils.open_json(input_file_path)"
   ]
  },
  {
   "cell_type": "code",
   "execution_count": null,
   "id": "eda0c911",
   "metadata": {},
   "outputs": [],
   "source": [
    "test_output_path = os.path.join(input_path, output_file)\n",
    "print(test_output_path)"
   ]
  },
  {
   "cell_type": "code",
   "execution_count": null,
   "id": "269d41a0",
   "metadata": {},
   "outputs": [],
   "source": [
    "test_with, _ = convert_incremental_to_binary(data_in, option_exclude_zeros = False)\n",
    "# utils.save_json(test_with, test_output_path)"
   ]
  },
  {
   "cell_type": "code",
   "execution_count": null,
   "id": "0976b3f6",
   "metadata": {},
   "outputs": [],
   "source": [
    "check_test = utils.open_json(test_output_path)"
   ]
  },
  {
   "cell_type": "code",
   "execution_count": null,
   "id": "a03e6b61",
   "metadata": {},
   "outputs": [],
   "source": [
    "print(len(check_test))\n",
    "pprint(check_test[0])\n"
   ]
  },
  {
   "cell_type": "code",
   "execution_count": null,
   "id": "82f9db3d",
   "metadata": {},
   "outputs": [],
   "source": [
    "test_id_lst = []\n",
    "for instance in check_test:\n",
    "    test_id_lst.append(instance['id'])\n",
    "print(len(list(set(test_id_lst))))\n"
   ]
  },
  {
   "cell_type": "markdown",
   "id": "7e3a3010",
   "metadata": {},
   "source": [
    "# Converting Test data into binary Gold whole dataset \n",
    "## binary_decisive_gold_ctx100id_test"
   ]
  },
  {
   "cell_type": "markdown",
   "id": "2c4ffc12",
   "metadata": {},
   "source": [
    "## Output\n",
    "    - there should be option for undecisive 0s (initial consecutive zeros)\n",
    "    - intact one / include non-decisive part as well\n",
    "    - if there is no em, random.choice\n",
    "    \n",
    "### output  file \n",
    "    : list w/ question and ctx pair as dictionary format \n",
    "    \n",
    "### output  format \n",
    "```python\n",
    "[  \n",
    "   {  \n",
    "       'id: str,\n",
    "       'question' : str,\n",
    "       'ctx' : {  \n",
    "           'id' : str,  \n",
    "           'text' : str,  \n",
    "           'title' : str  \n",
    "       }  \n",
    "       'em' : str,\n",
    "       'answers' : lst, # for checking the data after processing\n",
    "       'gold' : str, # this one for input\n",
    "       'inference : str, # for checking the data after processing\n",
    "   }  \n",
    "]  \n",
    "```"
   ]
  },
  {
   "cell_type": "code",
   "execution_count": null,
   "id": "1805adbc",
   "metadata": {},
   "outputs": [],
   "source": [
    "input_path = '/data/philhoon-relevance/binary-classification/NQ-TEST-DPR'\n",
    "input_file = 'ctx100id.json'\n",
    "output_path = f'/data/philhoon-relevance/binary-classification/NQ-TEST-DPR'\n",
    "output_file = 'binary_decisive_gold_ctx100id_test.json'"
   ]
  },
  {
   "cell_type": "code",
   "execution_count": null,
   "id": "ab4cf543",
   "metadata": {},
   "outputs": [],
   "source": [
    "input_file_path = os.path.join(input_path, input_file)\n",
    "data = utils.open_json(input_file_path)"
   ]
  },
  {
   "cell_type": "code",
   "execution_count": null,
   "id": "566c0608",
   "metadata": {},
   "outputs": [],
   "source": [
    "test_output_path = os.path.join(input_path, output_file)\n",
    "print(test_output_path)"
   ]
  },
  {
   "cell_type": "markdown",
   "id": "ac00f3bb",
   "metadata": {},
   "source": [
    "    'id': str : id of question for tracking\n",
    "    'question': str : query \n",
    "    'answers' : list  : answers   \n",
    "    'ctxs' : list w/ dictionary elements : top-100 ctx retrieved from retrieval : \n",
    "    'em_pattern': str : EM of each inference @k  \n",
    "    'inference' : list : inference of each inference @k \n",
    "    'conversion' : str : existence of 10 pattern 1 if exits\n",
    "    'cumulative_em' : str : existence of answer in incremental inferencing "
   ]
  },
  {
   "cell_type": "code",
   "execution_count": null,
   "id": "366e1c97",
   "metadata": {},
   "outputs": [],
   "source": [
    "def convert_incremental_to_decisive_binary_gold_whole(data):\n",
    "    output = []\n",
    "\n",
    "    for instance in data:\n",
    "        id_ = instance['id']\n",
    "        question_ = instance['question']\n",
    "        answers_ = instance['answers']\n",
    "        ctxs_ = instance['ctxs']\n",
    "        em_pattern_ = instance['em_pattern']\n",
    "        inference_ = instance['inference']\n",
    "        cumulative_em_ = instance['cumulative_em']\n",
    "\n",
    "        if cumulative_em_ == '0':\n",
    "            gold_ = random.choice(answers_)\n",
    "\n",
    "            for idx_ in range(0, len(em_pattern_)):\n",
    "                template = {\n",
    "                        'id' : id_,\n",
    "                        'question' : question_,\n",
    "                        'ctx' : ctxs_[idx_],\n",
    "                        'em' : em_pattern_[idx_],\n",
    "                        'answers' : answers_,\n",
    "                        'gold' : gold_,\n",
    "                        'inference' : str(inference_[idx_]),\n",
    "                    }\n",
    "                output.append(template)\n",
    "        else:\n",
    "            cur_gold = None\n",
    "            for idx_ in range(0, len(em_pattern_)):\n",
    "                cur_em_ = em_pattern_[idx_]\n",
    "                if cur_em_ == '1':\n",
    "                    cur_gold = str(inference_[idx_])\n",
    "                    template = {\n",
    "                            'id' : id_,\n",
    "                            'question' : question_,\n",
    "                            'ctx' : ctxs_[idx_],\n",
    "                            'em' : cur_em_,\n",
    "                            'answers' : answers_,\n",
    "                            'gold' : cur_gold,\n",
    "                            'inference' : cur_gold,\n",
    "                    }\n",
    "                    output.append(template)\n",
    "\n",
    "                elif cur_em_ == '0' and cur_gold is not None:\n",
    "                    template = {\n",
    "                            'id' : id_,\n",
    "                            'question' : question_,\n",
    "                            'ctx' : ctxs_[idx_],\n",
    "                            'em' : cur_em_,\n",
    "                            'answers' : answers_,\n",
    "                            'gold' : cur_gold,\n",
    "                            'inference' : str(inference_[idx_]),\n",
    "                    }\n",
    "                    output.append(template)\n",
    "\n",
    "                elif cur_em_ == '0' and cur_gold is None:\n",
    "                    gold_ = random.choice(answers_)\n",
    "                    template = {\n",
    "                            'id' : id_,\n",
    "                            'question' : question_,\n",
    "                            'ctx' : ctxs_[idx_],\n",
    "                            'em' : cur_em_,\n",
    "                            'answers' : answers_,\n",
    "                            'gold' : gold_,\n",
    "                            'inference' : str(inference_[idx_]),\n",
    "                    }\n",
    "                    output.append(template)\n",
    "\n",
    "    return output"
   ]
  },
  {
   "cell_type": "code",
   "execution_count": null,
   "id": "86eb8b26",
   "metadata": {},
   "outputs": [],
   "source": [
    "test_with = convert_incremental_to_decisive_binary_gold_whole(data)"
   ]
  },
  {
   "cell_type": "code",
   "execution_count": null,
   "id": "c2cea579",
   "metadata": {},
   "outputs": [],
   "source": [
    "len(test_with)"
   ]
  },
  {
   "cell_type": "code",
   "execution_count": null,
   "id": "c33f5781",
   "metadata": {},
   "outputs": [],
   "source": [
    "test_with[100001]"
   ]
  },
  {
   "cell_type": "code",
   "execution_count": null,
   "id": "5b7ba5d2",
   "metadata": {},
   "outputs": [],
   "source": [
    "print(test_output_path)"
   ]
  },
  {
   "cell_type": "code",
   "execution_count": null,
   "id": "771bfd81",
   "metadata": {},
   "outputs": [],
   "source": [
    "utils.save_json(test_with, test_output_path)"
   ]
  },
  {
   "cell_type": "code",
   "execution_count": null,
   "id": "9e784895",
   "metadata": {},
   "outputs": [],
   "source": []
  },
  {
   "cell_type": "code",
   "execution_count": null,
   "id": "2555df28",
   "metadata": {},
   "outputs": [],
   "source": []
  },
  {
   "cell_type": "code",
   "execution_count": null,
   "id": "0c5cf419",
   "metadata": {},
   "outputs": [],
   "source": []
  },
  {
   "cell_type": "code",
   "execution_count": null,
   "id": "422b8f07",
   "metadata": {},
   "outputs": [],
   "source": []
  },
  {
   "cell_type": "code",
   "execution_count": null,
   "id": "35e0eaf3",
   "metadata": {},
   "outputs": [],
   "source": []
  },
  {
   "cell_type": "code",
   "execution_count": null,
   "id": "ec239a58",
   "metadata": {},
   "outputs": [],
   "source": []
  },
  {
   "cell_type": "code",
   "execution_count": null,
   "id": "b6c22581",
   "metadata": {},
   "outputs": [],
   "source": []
  },
  {
   "cell_type": "code",
   "execution_count": null,
   "id": "1fa2c0b3",
   "metadata": {},
   "outputs": [],
   "source": []
  },
  {
   "cell_type": "code",
   "execution_count": null,
   "id": "f713b61f",
   "metadata": {},
   "outputs": [],
   "source": []
  },
  {
   "cell_type": "code",
   "execution_count": null,
   "id": "d754d8e5",
   "metadata": {},
   "outputs": [],
   "source": []
  },
  {
   "cell_type": "code",
   "execution_count": null,
   "id": "8976fe7f",
   "metadata": {},
   "outputs": [],
   "source": []
  },
  {
   "cell_type": "code",
   "execution_count": null,
   "id": "d99a956c",
   "metadata": {},
   "outputs": [],
   "source": []
  },
  {
   "cell_type": "code",
   "execution_count": null,
   "id": "59eabb59",
   "metadata": {},
   "outputs": [],
   "source": []
  },
  {
   "cell_type": "code",
   "execution_count": null,
   "id": "5d68121d",
   "metadata": {},
   "outputs": [],
   "source": []
  },
  {
   "cell_type": "code",
   "execution_count": null,
   "id": "be02c4ba",
   "metadata": {},
   "outputs": [],
   "source": []
  },
  {
   "cell_type": "code",
   "execution_count": null,
   "id": "8f8a31b0",
   "metadata": {},
   "outputs": [],
   "source": []
  },
  {
   "cell_type": "code",
   "execution_count": null,
   "id": "8b980b46",
   "metadata": {},
   "outputs": [],
   "source": []
  },
  {
   "cell_type": "markdown",
   "id": "357ff622",
   "metadata": {},
   "source": [
    "# Converting each data into binary dataset2\n",
    "- For each split -> remove undecisive part + only using positive and damaging "
   ]
  },
  {
   "cell_type": "markdown",
   "id": "618dd050",
   "metadata": {},
   "source": [
    "0011101000100100011\n",
    "\n",
    "    01* pattern -> extract 1\n",
    "    *10 pattern 0> extract 0\n",
    "    \n",
    "    Converting each data into binary dataset2\n",
    "    \n",
    "0000000000000000000\n",
    "\n",
    "    pass"
   ]
  },
  {
   "cell_type": "markdown",
   "id": "10d2a268",
   "metadata": {},
   "source": [
    "## input \n",
    "### input file \n",
    "    : incremental inference result file\n",
    "    : for need to split dataset since after transforming to binary dataset cannot track.\n",
    "    \n",
    "### inputformat \n",
    "    : list w/ dictionary elements\n",
    "    \n",
    "### keys\n",
    "    'id': str : id of question for tracking\n",
    "    'question': str : query \n",
    "    'answers' : list  : answers   \n",
    "    'ctxs' : list w/ dictionary elements : top-100 ctx retrieved from retrieval : \n",
    "    'em_pattern': str : EM of each inference @k  \n",
    "    'inference' : list : inference of each inference @k \n",
    "    'conversion' : str : existence of 10 pattern 1 if exits\n",
    "    'cumulative_em' : str : existence of answer in incremental inferencing "
   ]
  },
  {
   "cell_type": "markdown",
   "id": "6b7aaea5",
   "metadata": {},
   "source": [
    "## Output\n",
    "    - there should be option for undecisive 0s (initial consecutive zeros)\n",
    "    \n",
    "### output  file \n",
    "    : list w/ question and ctx pair as dictionary format \n",
    "    \n",
    "### output  format \n",
    "```python\n",
    "[  \n",
    "   {  \n",
    "       'id: str,\n",
    "       'question' : str,\n",
    "       'ctx' : {  \n",
    "           'id' : str,  \n",
    "           'text' : str,  \n",
    "           'title' : str  \n",
    "       }  \n",
    "       'inference' : str,\n",
    "       'em' : str\n",
    "   }  \n",
    "]  \n",
    "```"
   ]
  },
  {
   "cell_type": "code",
   "execution_count": null,
   "id": "08382bf8",
   "metadata": {},
   "outputs": [],
   "source": [
    "import os\n",
    "import re"
   ]
  },
  {
   "cell_type": "code",
   "execution_count": null,
   "id": "38257df2",
   "metadata": {},
   "outputs": [],
   "source": [
    "# i = 1"
   ]
  },
  {
   "cell_type": "code",
   "execution_count": null,
   "id": "c0df02be",
   "metadata": {},
   "outputs": [],
   "source": [
    "# input_path = f'/data/philhoon-relevance/binary-classification/NQ-DEV-DPR/5-fold'"
   ]
  },
  {
   "cell_type": "code",
   "execution_count": null,
   "id": "c93b51fc",
   "metadata": {},
   "outputs": [],
   "source": [
    "# train_file = f'{i}/ctx100id_split_train_{i}.json'\n",
    "# dev_file = f'{i}/ctx100id_split_dev_{i}.json'"
   ]
  },
  {
   "cell_type": "code",
   "execution_count": null,
   "id": "1a904218",
   "metadata": {},
   "outputs": [],
   "source": [
    "# input_train_file = os.path.join(input_path, train_file)\n",
    "# input_dev_file = os.path.join(input_path, train_file)"
   ]
  },
  {
   "cell_type": "code",
   "execution_count": null,
   "id": "e18afe5e",
   "metadata": {},
   "outputs": [],
   "source": [
    "# input_train = utils.open_json(input_train_file)"
   ]
  },
  {
   "cell_type": "code",
   "execution_count": null,
   "id": "6c1c4ff0",
   "metadata": {},
   "outputs": [],
   "source": [
    "# input_dev = utils.open_json(input_dev_file)"
   ]
  },
  {
   "cell_type": "code",
   "execution_count": null,
   "id": "73894bc9",
   "metadata": {},
   "outputs": [],
   "source": [
    "# len(input_train)"
   ]
  },
  {
   "cell_type": "code",
   "execution_count": null,
   "id": "ab41f99e",
   "metadata": {},
   "outputs": [],
   "source": [
    "# len(input_dev)"
   ]
  },
  {
   "cell_type": "code",
   "execution_count": null,
   "id": "af6e74fd",
   "metadata": {},
   "outputs": [],
   "source": [
    "# print(input_train[0].keys())"
   ]
  },
  {
   "cell_type": "code",
   "execution_count": null,
   "id": "32ae6b3a",
   "metadata": {},
   "outputs": [],
   "source": [
    "# instance = input_train[3]"
   ]
  },
  {
   "cell_type": "code",
   "execution_count": null,
   "id": "7724e778",
   "metadata": {},
   "outputs": [],
   "source": [
    "# id_ = instance['id']\n",
    "# query = instance['question']\n",
    "# em_pattern = instance['em_pattern']\n",
    "# answers = instance['answers']\n",
    "# num_undecisive = len(em_pattern) - len(em_pattern.lstrip('0'))\n",
    "# cumulative_em = instance['cumulative_em']\n",
    "# ctxs = instance['ctxs']"
   ]
  },
  {
   "cell_type": "code",
   "execution_count": null,
   "id": "13803d65",
   "metadata": {},
   "outputs": [],
   "source": [
    "# em_pattern"
   ]
  },
  {
   "cell_type": "code",
   "execution_count": null,
   "id": "555a9058",
   "metadata": {},
   "outputs": [],
   "source": [
    "# num_undecisive"
   ]
  },
  {
   "cell_type": "code",
   "execution_count": null,
   "id": "05d58272",
   "metadata": {},
   "outputs": [],
   "source": [
    "def get_definite_pos_neg(test_em):\n",
    "    positive_pos = []\n",
    "    if test_em.startswith('1'):\n",
    "        positive_pos.append(0)\n",
    "    iter_ = re.finditer(r'01', test_em)\n",
    "    for m in iter_:\n",
    "        pos_ = m.start() + 1\n",
    "        positive_pos.append(pos_)\n",
    "\n",
    "    negative_pos = []\n",
    "    iter_ = re.finditer(r'10', test_em)\n",
    "    for m in iter_:\n",
    "        pos_ = m.start() + 1\n",
    "        negative_pos.append(pos_)\n",
    "    \n",
    "    return positive_pos, negative_pos"
   ]
  },
  {
   "cell_type": "code",
   "execution_count": null,
   "id": "8ce489d3",
   "metadata": {},
   "outputs": [],
   "source": [
    "def convert_incremental_to_decisive_binary(data):\n",
    "    output = []\n",
    "    \n",
    "    for instance in data:\n",
    "        id_ = instance['id']\n",
    "        query = instance['question']\n",
    "        em_pattern = instance['em_pattern']\n",
    "        num_undecisive = len(em_pattern) - len(em_pattern.lstrip('0'))\n",
    "        cumulative_em = instance['cumulative_em']\n",
    "        ctxs = instance['ctxs']\n",
    "        answers = instance['answers']\n",
    "        inference = instance['inference']\n",
    "        \n",
    "        \n",
    "        if num_undecisive == 100:\n",
    "            continue\n",
    "        else:\n",
    "            pos_indices, neg_indices = get_definite_pos_neg(em_pattern)\n",
    "\n",
    "            if pos_indices:\n",
    "                for pos_ in pos_indices:\n",
    "                    if em_pattern[pos_] == '1':\n",
    "                        ctx_ = ctxs[pos_]\n",
    "                        template = {\n",
    "                            'id' : id_,\n",
    "                            'question' : query,\n",
    "                            'ctx' : ctx_,\n",
    "                            'em' : em_pattern[pos_],\n",
    "                            'answers' : answers,\n",
    "                            'inference' : inference[pos_]\n",
    "                        }\n",
    "                        output.append(template)\n",
    "                    else:\n",
    "                        print('wrong')\n",
    "                        print(f'id_ : {id_}')\n",
    "                        break\n",
    "\n",
    "            if neg_indices:                \n",
    "                for neg_ in neg_indices:\n",
    "                    if em_pattern[neg_] == '0':\n",
    "                        ctx_ = ctxs[neg_]\n",
    "                        template = {\n",
    "                            'id' : id_,\n",
    "                            'question' : query,\n",
    "                            'ctx' : ctx_,\n",
    "                            'em' : em_pattern[neg_],\n",
    "                            'answers' : answers,\n",
    "                            'inference' : inference[neg_]\n",
    "                        }\n",
    "                        output.append(template)\n",
    "                    else:\n",
    "                        print('wrong')\n",
    "                        print(f'id_ : {id_}')\n",
    "                        break\n",
    "\n",
    "    return output\n"
   ]
  },
  {
   "cell_type": "code",
   "execution_count": null,
   "id": "c4ad2dd9",
   "metadata": {},
   "outputs": [],
   "source": [
    "input_path = f'/data/philhoon-relevance/binary-classification/NQ-DEV-DPR/5-fold'"
   ]
  },
  {
   "cell_type": "code",
   "execution_count": null,
   "id": "00ace5c9",
   "metadata": {},
   "outputs": [],
   "source": [
    "train_file = f'{i}/ctx100id_split_train_{i}.json'\n",
    "dev_file = f'{i}/ctx100id_split_dev_{i}.json'"
   ]
  },
  {
   "cell_type": "code",
   "execution_count": null,
   "id": "fa46c2f2",
   "metadata": {},
   "outputs": [],
   "source": [
    "input_train_file = os.path.join(input_path, train_file)\n",
    "input_dev_file = os.path.join(input_path, dev_file)"
   ]
  },
  {
   "cell_type": "code",
   "execution_count": null,
   "id": "8a51f79f",
   "metadata": {},
   "outputs": [],
   "source": [
    "input_train = utils.open_json(input_train_file)"
   ]
  },
  {
   "cell_type": "code",
   "execution_count": null,
   "id": "fc8c1c3e",
   "metadata": {},
   "outputs": [],
   "source": [
    "input_dev = utils.open_json(input_dev_file)"
   ]
  },
  {
   "cell_type": "code",
   "execution_count": null,
   "id": "bb669c60",
   "metadata": {},
   "outputs": [],
   "source": [
    "len(input_train)"
   ]
  },
  {
   "cell_type": "code",
   "execution_count": null,
   "id": "7b812338",
   "metadata": {},
   "outputs": [],
   "source": [
    "len(input_dev)"
   ]
  },
  {
   "cell_type": "code",
   "execution_count": null,
   "id": "cd480510",
   "metadata": {},
   "outputs": [],
   "source": [
    "train_decisive_binary = convert_incremental_to_decisive_binary(input_train)"
   ]
  },
  {
   "cell_type": "code",
   "execution_count": null,
   "id": "d3bf6568",
   "metadata": {},
   "outputs": [],
   "source": [
    "len(train_decisive_binary)"
   ]
  },
  {
   "cell_type": "code",
   "execution_count": null,
   "id": "af119322",
   "metadata": {},
   "outputs": [],
   "source": [
    "cnt_0 = 0\n",
    "cnt_1 = 0\n",
    "\n",
    "for ins in train_decisive_binary:\n",
    "    if ins['em'] == '0':\n",
    "        cnt_0 += 1\n",
    "    if ins['em'] == '1':\n",
    "        cnt_1 += 1 "
   ]
  },
  {
   "cell_type": "code",
   "execution_count": null,
   "id": "5384d8e6",
   "metadata": {},
   "outputs": [],
   "source": [
    "print(cnt_0)\n",
    "print(cnt_1)"
   ]
  },
  {
   "cell_type": "markdown",
   "id": "16a53b17",
   "metadata": {},
   "source": [
    "## Converting each 5-fold"
   ]
  },
  {
   "cell_type": "code",
   "execution_count": null,
   "id": "50588ce5",
   "metadata": {},
   "outputs": [],
   "source": [
    "k = 5\n",
    "in_path = f'/data/philhoon-relevance/binary-classification/NQ-DEV-DPR/5-fold'"
   ]
  },
  {
   "cell_type": "code",
   "execution_count": null,
   "id": "cc2f435b",
   "metadata": {},
   "outputs": [],
   "source": [
    "for i in range(1, k+1):\n",
    "    \n",
    "    # input_file\n",
    "    train_file = f'{i}/ctx100id_split_train_{i}.json'\n",
    "    dev_file = f'{i}/ctx100id_split_dev_{i}.json'\n",
    "    \n",
    "    train_path = os.path.join(in_path, train_file)\n",
    "    dev_path = os.path.join(in_path, dev_file)\n",
    "    \n",
    "    print(f'train_path : {train_path}')\n",
    "    print(f'dev_path : {dev_path}')\n",
    "    train_data = utils.open_json(train_path)\n",
    "    dev_data = utils.open_json(dev_path)\n",
    "    \n",
    "    \n",
    "    out_path = f'/data/philhoon-relevance/binary-classification/NQ-DEV-DPR/5-fold/{i}/decisive_binary_data'\n",
    "    \n",
    "    os.makedirs(out_path, exist_ok = True)\n",
    "    \n",
    "    train_out = convert_incremental_to_decisive_binary(train_data)\n",
    "    dev_out = convert_incremental_to_decisive_binary(dev_data)\n",
    "    \n",
    "    print(f'len(train_out) : {len(train_out)}')\n",
    "    print(f'len(dev_out) : {len(dev_out)}')\n",
    "    \n",
    "    train_out_file = f'binary_decisive_ctx100id_split_train_{i}.json'\n",
    "    dev_out_file = f'binary_decisive_ctx100id_split_dev_{i}.json'\n",
    "\n",
    "    train_output_path = os.path.join(out_path, train_out_file)\n",
    "    dev_output_path = os.path.join(out_path, dev_out_file)\n",
    "    \n",
    "    utils.save_json(train_out, train_output_path)\n",
    "    utils.save_json(dev_out, dev_output_path)\n",
    "    print(f'train_output_path : \\n{train_output_path}')\n",
    "    print(f'dev_output_path : \\n{dev_output_path}')\n",
    "    print('=====')\n",
    "        "
   ]
  },
  {
   "cell_type": "code",
   "execution_count": null,
   "id": "cabdcbe1",
   "metadata": {},
   "outputs": [],
   "source": []
  },
  {
   "cell_type": "code",
   "execution_count": null,
   "id": "7748de9b",
   "metadata": {},
   "outputs": [],
   "source": [
    "for i in range(1, k+1):\n",
    "    check_path = f'/data/philhoon-relevance/binary-classification/NQ-DEV-DPR/5-fold/{i}/decisive_binary_data'\n",
    "    train_out_file = f'binary_decisive_ctx100id_split_train_{i}.json'\n",
    "    dev_out_file = f'binary_decisive_ctx100id_split_dev_{i}.json'\n",
    "    \n",
    "    train_file = os.path.join(check_path, train_out_file)\n",
    "    dev_file = os.path.join(check_path, dev_out_file)\n",
    "    \n",
    "    train_data = utils.open_json(train_file)\n",
    "    dev_data = utils.open_json(dev_file)\n",
    "    \n",
    "    print(f'train_data : {len(train_data)}')\n",
    "    print(f'dev_data : {len(dev_data)}')"
   ]
  },
  {
   "cell_type": "code",
   "execution_count": null,
   "id": "b439479b",
   "metadata": {},
   "outputs": [],
   "source": [
    "train_decisive_binary[14]"
   ]
  },
  {
   "cell_type": "code",
   "execution_count": null,
   "id": "9ab6694b",
   "metadata": {},
   "outputs": [],
   "source": [
    "i = 9"
   ]
  },
  {
   "cell_type": "code",
   "execution_count": null,
   "id": "26894ee8",
   "metadata": {},
   "outputs": [],
   "source": [
    "input_train[i]['id']"
   ]
  },
  {
   "cell_type": "code",
   "execution_count": null,
   "id": "55436a2f",
   "metadata": {},
   "outputs": [],
   "source": [
    "input_train[i]['em_pattern']"
   ]
  },
  {
   "cell_type": "code",
   "execution_count": null,
   "id": "f91cee3b",
   "metadata": {},
   "outputs": [],
   "source": [
    "pos = len('1') - 1"
   ]
  },
  {
   "cell_type": "code",
   "execution_count": null,
   "id": "3e797141",
   "metadata": {},
   "outputs": [],
   "source": [
    "input_train[i]['ctxs'][pos]"
   ]
  },
  {
   "cell_type": "markdown",
   "id": "f64836c0",
   "metadata": {},
   "source": [
    "# decisive_binary_data Test Set"
   ]
  },
  {
   "cell_type": "code",
   "execution_count": null,
   "id": "2a280902",
   "metadata": {},
   "outputs": [],
   "source": [
    "input_path = f'/data/philhoon-relevance/binary-classification/NQ-TEST-DPR'\n",
    "test_file = 'ctx100id.json'\n",
    "output_path = f'/data/philhoon-relevance/binary-classification/NQ-TEST-DPR'\n",
    "output_file = 'binary_decisive_format_ctx100id_test.json'\n",
    "test_output_path = os.path.join(output_path, output_file)"
   ]
  },
  {
   "cell_type": "code",
   "execution_count": null,
   "id": "7343efa4",
   "metadata": {},
   "outputs": [],
   "source": [
    "print(test_output_path)"
   ]
  },
  {
   "cell_type": "code",
   "execution_count": null,
   "id": "eef6d4fa",
   "metadata": {},
   "outputs": [],
   "source": [
    "test_file = os.path.join(input_path, test_file)"
   ]
  },
  {
   "cell_type": "code",
   "execution_count": null,
   "id": "35ab2f28",
   "metadata": {},
   "outputs": [],
   "source": [
    "input_test = utils.open_json(test_file)\n",
    "print(len(input_test))"
   ]
  },
  {
   "cell_type": "code",
   "execution_count": null,
   "id": "df1ee73b",
   "metadata": {},
   "outputs": [],
   "source": [
    "test_decisive_binary = convert_incremental_to_decisive_binary(input_test)"
   ]
  },
  {
   "cell_type": "code",
   "execution_count": null,
   "id": "c900e36d",
   "metadata": {},
   "outputs": [],
   "source": [
    "print(len(test_decisive_binary))"
   ]
  },
  {
   "cell_type": "code",
   "execution_count": null,
   "id": "420706f9",
   "metadata": {},
   "outputs": [],
   "source": [
    "# pprint(test_decisive_binary[2421])"
   ]
  },
  {
   "cell_type": "code",
   "execution_count": null,
   "id": "41d6b3ed",
   "metadata": {},
   "outputs": [],
   "source": [
    "def check_ratio(data):\n",
    "    cnt_0 = 0\n",
    "    cnt_1 = 0\n",
    "\n",
    "    for ins in data:\n",
    "        if ins['em'] == '0':\n",
    "            cnt_0 += 1\n",
    "        if ins['em'] == '1':\n",
    "            cnt_1 += 1 \n",
    "    \n",
    "    print(f'total number of instances : {len(data)}')\n",
    "    print(f'number of 1 : {cnt_1}')\n",
    "    print(f'number of 0 : {cnt_0}')\n",
    "    print(f'ratio of 1 : {cnt_1/len(data)}')\n",
    "    print(f'ratio of 0 : {cnt_0/len(data)}')"
   ]
  },
  {
   "cell_type": "code",
   "execution_count": null,
   "id": "9ed03f59",
   "metadata": {},
   "outputs": [],
   "source": [
    "check_ratio(test_decisive_binary)"
   ]
  },
  {
   "cell_type": "code",
   "execution_count": null,
   "id": "18c5457f",
   "metadata": {},
   "outputs": [],
   "source": [
    "from pprint import pprint\n",
    "pprint(test_decisive_binary[0])\n",
    "print(len(test_decisive_binary))\n",
    "print(type(test_decisive_binary))"
   ]
  },
  {
   "cell_type": "code",
   "execution_count": null,
   "id": "0b96824e",
   "metadata": {},
   "outputs": [],
   "source": [
    "print(test_output_path)\n"
   ]
  },
  {
   "cell_type": "code",
   "execution_count": null,
   "id": "7eb9db45",
   "metadata": {},
   "outputs": [],
   "source": [
    "# utils.save_json(test_decisive_binary, test_output_path)\n"
   ]
  },
  {
   "cell_type": "code",
   "execution_count": null,
   "id": "79df1736",
   "metadata": {},
   "outputs": [],
   "source": []
  },
  {
   "cell_type": "code",
   "execution_count": null,
   "id": "4ef0ec99",
   "metadata": {},
   "outputs": [],
   "source": []
  },
  {
   "cell_type": "code",
   "execution_count": null,
   "id": "f3fd9582",
   "metadata": {},
   "outputs": [],
   "source": []
  },
  {
   "cell_type": "code",
   "execution_count": null,
   "id": "6b011fb8",
   "metadata": {},
   "outputs": [],
   "source": []
  },
  {
   "cell_type": "code",
   "execution_count": null,
   "id": "c67b602c",
   "metadata": {},
   "outputs": [],
   "source": []
  },
  {
   "cell_type": "code",
   "execution_count": null,
   "id": "186b8d3e",
   "metadata": {},
   "outputs": [],
   "source": []
  },
  {
   "cell_type": "code",
   "execution_count": null,
   "id": "ec864f91",
   "metadata": {},
   "outputs": [],
   "source": []
  },
  {
   "cell_type": "code",
   "execution_count": null,
   "id": "e5eb713c",
   "metadata": {},
   "outputs": [],
   "source": []
  },
  {
   "cell_type": "code",
   "execution_count": null,
   "id": "03a0b6bd",
   "metadata": {},
   "outputs": [],
   "source": []
  },
  {
   "cell_type": "markdown",
   "id": "540140ad",
   "metadata": {},
   "source": [
    "# Converting each data into binary dataset3\n",
    "- For each split -> remove undecisive part + only using positive and damaging \n",
    "- Plus adding gold answer"
   ]
  },
  {
   "cell_type": "markdown",
   "id": "4540a309",
   "metadata": {},
   "source": [
    "0011101000100100011\n",
    "\n",
    "    01* pattern -> extract 1\n",
    "    *10 pattern 0> extract 0\n",
    "    \n",
    "    Converting each data into binary dataset2\n",
    "    \n",
    "0000000000000000000\n",
    "\n",
    "    pass\n",
    "\n",
    "    "
   ]
  },
  {
   "cell_type": "markdown",
   "id": "0319b7a3",
   "metadata": {},
   "source": [
    "## input \n",
    "### input file \n",
    "    : incremental inference result file\n",
    "    : for need to split dataset since after transforming to binary dataset cannot track.\n",
    "    \n",
    "### inputformat \n",
    "    : list w/ dictionary elements\n",
    "    \n",
    "### keys\n",
    "    'id': str : id of question for tracking\n",
    "    'question': str : query \n",
    "    'answers' : list  : answers   \n",
    "    'ctxs' : list w/ dictionary elements : top-100 ctx retrieved from retrieval : \n",
    "    'em_pattern': str : EM of each inference @k  \n",
    "    'inference' : list : inference of each inference @k \n",
    "    'conversion' : str : existence of 10 pattern 1 if exits\n",
    "    'cumulative_em' : str : existence of answer in incremental inferencing "
   ]
  },
  {
   "cell_type": "markdown",
   "id": "d09f2593",
   "metadata": {},
   "source": [
    "<!-- ## input \n",
    "### input file \n",
    "    : incremental inference result file\n",
    "    : for need to split dataset since after transforming to binary dataset cannot track.\n",
    "    \n",
    "### inputformat \n",
    "    : list w/ dictionary elements\n",
    "    \n",
    "### keys\n",
    "    'id': str : id of question for tracking\n",
    "    'question': str : query \n",
    "    'answers' : list  : answers   \n",
    "    'ctxs' : list w/ dictionary elements : top-100 ctx retrieved from retrieval : \n",
    "    'em_pattern': str : EM of each inference @k  \n",
    "    'inference' : list : inference of each inference @k \n",
    "    'conversion' : str : existence of 10 pattern 1 if exits\n",
    "    'cumulative_em' : str : existence of answer in incremental inferencing  -->"
   ]
  },
  {
   "cell_type": "markdown",
   "id": "369a39a3",
   "metadata": {},
   "source": [
    "## Output\n",
    "    - there should be option for undecisive 0s (initial consecutive zeros)\n",
    "    \n",
    "### output  file \n",
    "    : list w/ question and ctx pair as dictionary format \n",
    "    \n",
    "### output  format \n",
    "```python\n",
    "[  \n",
    "   {  \n",
    "       'id: str,\n",
    "       'question' : str,\n",
    "       'ctx' : {  \n",
    "           'id' : str,  \n",
    "           'text' : str,  \n",
    "           'title' : str  \n",
    "       }  \n",
    "       'em' : str,\n",
    "       'answers' : lst, # for checking the data after processing\n",
    "       'gold' : str, # this one for input\n",
    "       'inference : str, # for checking the data after processing\n",
    "   }  \n",
    "]  \n",
    "```"
   ]
  },
  {
   "cell_type": "code",
   "execution_count": null,
   "id": "32dc91fd",
   "metadata": {},
   "outputs": [],
   "source": [
    "import os\n",
    "import re"
   ]
  },
  {
   "cell_type": "code",
   "execution_count": null,
   "id": "2a6339f7",
   "metadata": {},
   "outputs": [],
   "source": [
    "def get_definite_pos_neg(test_em):\n",
    "    positive_pos = []\n",
    "    if test_em.startswith('1'):\n",
    "        positive_pos.append(0)\n",
    "    iter_ = re.finditer(r'01', test_em)\n",
    "    for m in iter_:\n",
    "        pos_ = m.start() + 1\n",
    "        positive_pos.append(pos_)\n",
    "\n",
    "    negative_pos = []\n",
    "    iter_ = re.finditer(r'10', test_em)\n",
    "    for m in iter_:\n",
    "        pos_ = m.start() + 1\n",
    "        negative_pos.append(pos_)\n",
    "    \n",
    "    return positive_pos, negative_pos"
   ]
  },
  {
   "cell_type": "code",
   "execution_count": null,
   "id": "5da7de3a",
   "metadata": {},
   "outputs": [],
   "source": [
    "def convert_incremental_to_decisive_binary_gold(data):\n",
    "    output = []\n",
    "    \n",
    "    for instance in data:\n",
    "        id_ = instance['id']\n",
    "        query = instance['question']\n",
    "        em_pattern = instance['em_pattern']\n",
    "        answers = instance['answers']\n",
    "        num_undecisive = len(em_pattern) - len(em_pattern.lstrip('0'))\n",
    "        cumulative_em = instance['cumulative_em']\n",
    "        ctxs = instance['ctxs']\n",
    "        inference = instance['inference']\n",
    "        \n",
    "        if num_undecisive == 100:\n",
    "            continue\n",
    "        else:\n",
    "            pos_indices, neg_indices = get_definite_pos_neg(em_pattern)\n",
    "\n",
    "            if pos_indices:\n",
    "                for pos_ in pos_indices:\n",
    "                    if em_pattern[pos_] == '1':\n",
    "                        ctx_ = ctxs[pos_]\n",
    "                        template = {\n",
    "                            'id' : id_,\n",
    "                            'question' : query,\n",
    "                            'ctx' : ctx_,\n",
    "                            'em' : em_pattern[pos_],\n",
    "                            'answers' : answers,\n",
    "                            'gold' : inference[pos_],\n",
    "                            'inference' : inference[pos_]\n",
    "                        }\n",
    "                        output.append(template)\n",
    "                    else:\n",
    "                        print('wrong')\n",
    "                        print(f'id_ : {id_}')\n",
    "                        break\n",
    "\n",
    "            if neg_indices:                \n",
    "                for neg_ in neg_indices:\n",
    "                    if em_pattern[neg_] == '0':\n",
    "                        ctx_ = ctxs[neg_]\n",
    "                        \n",
    "                        # neg_ -1 is pos_\n",
    "                        template = {\n",
    "                                'id' : id_,\n",
    "                                'question' : query,\n",
    "                                'ctx' : ctx_,\n",
    "                                'em' : em_pattern[neg_],\n",
    "                                'answers' : answers,\n",
    "                                'gold' : inference[neg_-1],\n",
    "                                'inference' : inference[neg_]\n",
    "                            }\n",
    "                        output.append(template)\n",
    "                    else:\n",
    "                        print('wrong')\n",
    "                        print(f'id_ : {id_}')\n",
    "                        break\n",
    "\n",
    "    return output\n"
   ]
  },
  {
   "cell_type": "code",
   "execution_count": null,
   "id": "cce246c6",
   "metadata": {},
   "outputs": [],
   "source": [
    "i = 1"
   ]
  },
  {
   "cell_type": "code",
   "execution_count": null,
   "id": "bce96358",
   "metadata": {},
   "outputs": [],
   "source": [
    "input_path = f'/data/philhoon-relevance/binary-classification/NQ-DEV-DPR/5-fold'"
   ]
  },
  {
   "cell_type": "code",
   "execution_count": null,
   "id": "6f26d5e2",
   "metadata": {},
   "outputs": [],
   "source": [
    "train_file = f'{i}/ctx100id_split_train_{i}.json'\n",
    "dev_file = f'{i}/ctx100id_split_dev_{i}.json'"
   ]
  },
  {
   "cell_type": "code",
   "execution_count": null,
   "id": "758523e6",
   "metadata": {},
   "outputs": [],
   "source": [
    "input_train_file = os.path.join(input_path, train_file)\n",
    "input_dev_file = os.path.join(input_path, dev_file)"
   ]
  },
  {
   "cell_type": "code",
   "execution_count": null,
   "id": "d667e66a",
   "metadata": {},
   "outputs": [],
   "source": [
    "input_train = utils.open_json(input_train_file)\n",
    "input_dev = utils.open_json(input_dev_file)"
   ]
  },
  {
   "cell_type": "code",
   "execution_count": null,
   "id": "ef0c6d3b",
   "metadata": {},
   "outputs": [],
   "source": [
    "print(len(input_train))\n",
    "print(len(input_dev))"
   ]
  },
  {
   "cell_type": "code",
   "execution_count": null,
   "id": "60860b90",
   "metadata": {},
   "outputs": [],
   "source": [
    "train_decisive_binary = convert_incremental_to_decisive_binary_gold(input_train)\n",
    "dev_decisive_binary = convert_incremental_to_decisive_binary_gold(input_dev)"
   ]
  },
  {
   "cell_type": "code",
   "execution_count": null,
   "id": "0c92187a",
   "metadata": {},
   "outputs": [],
   "source": [
    "print(len(train_decisive_binary))\n",
    "print(len(dev_decisive_binary))"
   ]
  },
  {
   "cell_type": "code",
   "execution_count": null,
   "id": "307ddc08",
   "metadata": {},
   "outputs": [],
   "source": [
    "def check_ratio(data):\n",
    "    cnt_0 = 0\n",
    "    cnt_1 = 0\n",
    "\n",
    "    for ins in data:\n",
    "        if ins['em'] == '0':\n",
    "            cnt_0 += 1\n",
    "        if ins['em'] == '1':\n",
    "            cnt_1 += 1 \n",
    "    \n",
    "    print(f'total number of instances : {len(data)}')\n",
    "    print(f'number of 1 : {cnt_1}')\n",
    "    print(f'number of 0 : {cnt_0}')\n",
    "    print(f'ratio of 1 : {cnt_1/len(data)}')\n",
    "    print(f'ratio of 0 : {cnt_0/len(data)}')"
   ]
  },
  {
   "cell_type": "code",
   "execution_count": null,
   "id": "914694d0",
   "metadata": {},
   "outputs": [],
   "source": [
    "check_ratio(train_decisive_binary)\n",
    "check_ratio(dev_decisive_binary)"
   ]
  },
  {
   "cell_type": "code",
   "execution_count": null,
   "id": "ebcfedf8",
   "metadata": {},
   "outputs": [],
   "source": [
    "from pprint import pprint"
   ]
  },
  {
   "cell_type": "code",
   "execution_count": null,
   "id": "ed3d727b",
   "metadata": {
    "scrolled": false
   },
   "outputs": [],
   "source": [
    "# for ins in dev_decisive_binary:\n",
    "#     if ins['em'] == '0':\n",
    "#         pprint(ins)"
   ]
  },
  {
   "cell_type": "code",
   "execution_count": null,
   "id": "801c0517",
   "metadata": {},
   "outputs": [],
   "source": [
    "train_decisive_binary[380]"
   ]
  },
  {
   "cell_type": "code",
   "execution_count": null,
   "id": "ac90174b",
   "metadata": {},
   "outputs": [],
   "source": [
    "k = 5\n",
    "in_path = f'/data/philhoon-relevance/binary-classification/NQ-DEV-DPR/5-fold'"
   ]
  },
  {
   "cell_type": "code",
   "execution_count": null,
   "id": "7a843208",
   "metadata": {},
   "outputs": [],
   "source": [
    "for i in range(1, k+1):\n",
    "    \n",
    "    # input_file\n",
    "    train_file = f'{i}/ctx100id_split_train_{i}.json'\n",
    "    dev_file = f'{i}/ctx100id_split_dev_{i}.json'\n",
    "    \n",
    "    train_path = os.path.join(in_path, train_file)\n",
    "    dev_path = os.path.join(in_path, dev_file)\n",
    "    \n",
    "    print(f'train_path : {train_path}')\n",
    "    print(f'dev_path : {dev_path}')\n",
    "    train_data = utils.open_json(train_path)\n",
    "    dev_data = utils.open_json(dev_path)\n",
    "    \n",
    "    \n",
    "    out_path = f'/data/philhoon-relevance/binary-classification/NQ-DEV-DPR/5-fold/{i}/decisive_binary_gold_data'\n",
    "    \n",
    "    os.makedirs(out_path, exist_ok = True)\n",
    "\n",
    "    train_out = convert_incremental_to_decisive_binary_gold(train_data)\n",
    "    dev_out = convert_incremental_to_decisive_binary_gold(dev_data)\n",
    "    \n",
    "    print(f'len(train_out) : {len(train_out)}')\n",
    "    print(f'len(dev_out) : {len(dev_out)}')\n",
    "    \n",
    "    train_out_file = f'binary_decisive_gold_ctx100id_split_train_{i}.json'\n",
    "    dev_out_file = f'binary_decisive_gold_ctx100id_split_dev_{i}.json'\n",
    "\n",
    "    train_output_path = os.path.join(out_path, train_out_file)\n",
    "    dev_output_path = os.path.join(out_path, dev_out_file)\n",
    "    \n",
    "    utils.save_json(train_out, train_output_path)\n",
    "    utils.save_json(dev_out, dev_output_path)\n",
    "    print(f'train_output_path : \\n{train_output_path}')\n",
    "    print(f'dev_output_path : \\n{dev_output_path}')\n",
    "    print('=====')\n",
    "        "
   ]
  },
  {
   "cell_type": "markdown",
   "id": "95882fe0",
   "metadata": {},
   "source": [
    "# decisive_binary_format_gold_data Test Set\n",
    "## binary_decisive_format_gold_ctx100id_test"
   ]
  },
  {
   "cell_type": "code",
   "execution_count": null,
   "id": "5d858867",
   "metadata": {},
   "outputs": [],
   "source": [
    "input_path = f'/data/philhoon-relevance/binary-classification/NQ-TEST-DPR'\n",
    "test_file = 'ctx100id.json'\n",
    "output_path = f'/data/philhoon-relevance/binary-classification/NQ-TEST-DPR'\n",
    "output_file = 'binary_decisive_format_gold_ctx100id_test.json'\n",
    "test_output_path = os.path.join(output_path, output_file)"
   ]
  },
  {
   "cell_type": "code",
   "execution_count": null,
   "id": "06f3c9ef",
   "metadata": {},
   "outputs": [],
   "source": [
    "print(test_output_path)"
   ]
  },
  {
   "cell_type": "code",
   "execution_count": null,
   "id": "3af73c4f",
   "metadata": {},
   "outputs": [],
   "source": [
    "test_file = os.path.join(input_path, test_file)"
   ]
  },
  {
   "cell_type": "code",
   "execution_count": null,
   "id": "7545e1ae",
   "metadata": {},
   "outputs": [],
   "source": [
    "input_test = utils.open_json(test_file)\n",
    "print(len(input_test))"
   ]
  },
  {
   "cell_type": "code",
   "execution_count": null,
   "id": "cdc3286d",
   "metadata": {},
   "outputs": [],
   "source": [
    "test_decisive_binary = convert_incremental_to_decisive_binary_gold(input_test)"
   ]
  },
  {
   "cell_type": "code",
   "execution_count": null,
   "id": "19b192d0",
   "metadata": {},
   "outputs": [],
   "source": [
    "print(len(test_decisive_binary))"
   ]
  },
  {
   "cell_type": "code",
   "execution_count": null,
   "id": "45e82acd",
   "metadata": {},
   "outputs": [],
   "source": [
    "check_ratio(test_decisive_binary)"
   ]
  },
  {
   "cell_type": "code",
   "execution_count": null,
   "id": "89d5c6e7",
   "metadata": {},
   "outputs": [],
   "source": [
    "from pprint import pprint"
   ]
  },
  {
   "cell_type": "code",
   "execution_count": null,
   "id": "a98c82e4",
   "metadata": {},
   "outputs": [],
   "source": [
    "test_decisive_binary[0]"
   ]
  },
  {
   "cell_type": "code",
   "execution_count": null,
   "id": "1de56f2d",
   "metadata": {},
   "outputs": [],
   "source": [
    "len(test_decisive_binary)"
   ]
  },
  {
   "cell_type": "code",
   "execution_count": null,
   "id": "00221e09",
   "metadata": {},
   "outputs": [],
   "source": [
    "type(test_decisive_binary)"
   ]
  },
  {
   "cell_type": "code",
   "execution_count": null,
   "id": "66157eb2",
   "metadata": {
    "scrolled": false
   },
   "outputs": [],
   "source": [
    "remove_nan_test_decisive_binary = []\n",
    "for ins in test_decisive_binary:\n",
    "    if str(ins['gold']) == 'nan':\n",
    "        continue\n",
    "    else:\n",
    "        remove_nan_test_decisive_binary.append(ins)"
   ]
  },
  {
   "cell_type": "code",
   "execution_count": null,
   "id": "1e1aa9ed",
   "metadata": {},
   "outputs": [],
   "source": [
    "len(remove_nan_test_decisive_binary)"
   ]
  },
  {
   "cell_type": "code",
   "execution_count": null,
   "id": "e73aa7cd",
   "metadata": {},
   "outputs": [],
   "source": [
    "test_output_path"
   ]
  },
  {
   "cell_type": "code",
   "execution_count": null,
   "id": "6b93c853",
   "metadata": {},
   "outputs": [],
   "source": [
    "utils.save_json(remove_nan_test_decisive_binary, test_output_path)"
   ]
  },
  {
   "cell_type": "code",
   "execution_count": null,
   "id": "d2f30b0a",
   "metadata": {},
   "outputs": [],
   "source": [
    "remove_nan_test_decisive_binary[2012]"
   ]
  },
  {
   "cell_type": "markdown",
   "id": "1ee59419",
   "metadata": {},
   "source": [
    "## input \n",
    "### input file \n",
    "    : incremental inference result file\n",
    "    : for need to split dataset since after transforming to binary dataset cannot track.\n",
    "    \n",
    "### inputformat \n",
    "    : list w/ dictionary elements\n",
    "    \n",
    "### keys\n",
    "    'id': str : id of question for tracking\n",
    "    'question': str : query \n",
    "    'answers' : list  : answers   \n",
    "    'ctxs' : list w/ dictionary elements : top-100 ctx retrieved from retrieval : \n",
    "    'em_pattern': str : EM of each inference @k  \n",
    "    'inference' : list : inference of each inference @k \n",
    "    'conversion' : str : existence of 10 pattern 1 if exits\n",
    "    'cumulative_em' : str : existence of answer in incremental inferencing "
   ]
  },
  {
   "cell_type": "code",
   "execution_count": null,
   "id": "23cb66c1",
   "metadata": {},
   "outputs": [],
   "source": [
    "for ins in input_test:\n",
    "    if any(['nan' == str(x) for x in ins['inference']]):\n",
    "        print(ins['id'])\n",
    "    "
   ]
  },
  {
   "cell_type": "code",
   "execution_count": null,
   "id": "c3ecda7c",
   "metadata": {},
   "outputs": [],
   "source": [
    "import math\n",
    "n1=float('nan')"
   ]
  },
  {
   "cell_type": "code",
   "execution_count": null,
   "id": "26d94833",
   "metadata": {},
   "outputs": [],
   "source": [
    "print(type(n1))"
   ]
  },
  {
   "cell_type": "code",
   "execution_count": null,
   "id": "0165cb2a",
   "metadata": {},
   "outputs": [],
   "source": [
    "n1"
   ]
  },
  {
   "cell_type": "code",
   "execution_count": null,
   "id": "78435d02",
   "metadata": {},
   "outputs": [],
   "source": [
    "input_test[1986]['inference']"
   ]
  },
  {
   "cell_type": "code",
   "execution_count": null,
   "id": "e968b14f",
   "metadata": {},
   "outputs": [],
   "source": []
  },
  {
   "cell_type": "code",
   "execution_count": null,
   "id": "4e0efd30",
   "metadata": {},
   "outputs": [],
   "source": [
    "n1 in input_test[1986]['inference']"
   ]
  },
  {
   "cell_type": "code",
   "execution_count": null,
   "id": "2bdb700d",
   "metadata": {},
   "outputs": [],
   "source": [
    "type(input_test[1986]['inference'][2])"
   ]
  },
  {
   "cell_type": "code",
   "execution_count": null,
   "id": "f4ef3871",
   "metadata": {},
   "outputs": [],
   "source": []
  },
  {
   "cell_type": "code",
   "execution_count": null,
   "id": "f15f9e37",
   "metadata": {},
   "outputs": [],
   "source": []
  },
  {
   "cell_type": "code",
   "execution_count": null,
   "id": "9f23d42e",
   "metadata": {},
   "outputs": [],
   "source": []
  },
  {
   "cell_type": "code",
   "execution_count": null,
   "id": "980bcd97",
   "metadata": {},
   "outputs": [],
   "source": []
  },
  {
   "cell_type": "code",
   "execution_count": null,
   "id": "cf8cf2bc",
   "metadata": {},
   "outputs": [],
   "source": []
  },
  {
   "cell_type": "code",
   "execution_count": null,
   "id": "af60c1ab",
   "metadata": {},
   "outputs": [],
   "source": [
    "# test_em = '0011101000100100011'\n",
    "# test_em = '0000000000000000001'\n",
    "# test_em = '0000111000011110001'\n",
    "# test_em = '1000111000011110000'\n",
    "test_em = '1111111111111111111'"
   ]
  },
  {
   "cell_type": "code",
   "execution_count": null,
   "id": "9a18d3a8",
   "metadata": {},
   "outputs": [],
   "source": [
    "test_em[0]"
   ]
  },
  {
   "cell_type": "code",
   "execution_count": null,
   "id": "806fcaa8",
   "metadata": {},
   "outputs": [],
   "source": [
    "pos_indices, neg_indices = get_definite_pos_neg(test_em)\n",
    "print(f'pos_indices : {pos_indices}')\n",
    "print(f'neg_indices : {neg_indices}')"
   ]
  },
  {
   "cell_type": "code",
   "execution_count": null,
   "id": "abcd6082",
   "metadata": {},
   "outputs": [],
   "source": [
    "for p in pos_indices:\n",
    "    print(test_em[p])"
   ]
  },
  {
   "cell_type": "code",
   "execution_count": null,
   "id": "51f24901",
   "metadata": {},
   "outputs": [],
   "source": [
    "for n in neg_indices:\n",
    "    print(test_em[n])"
   ]
  },
  {
   "cell_type": "code",
   "execution_count": null,
   "id": "89c5514a",
   "metadata": {},
   "outputs": [],
   "source": [
    "not pos_indices"
   ]
  },
  {
   "cell_type": "code",
   "execution_count": null,
   "id": "e2a5f37d",
   "metadata": {},
   "outputs": [],
   "source": [
    "not neg_indices"
   ]
  },
  {
   "cell_type": "code",
   "execution_count": null,
   "id": "e2fd7f39",
   "metadata": {},
   "outputs": [],
   "source": []
  },
  {
   "cell_type": "code",
   "execution_count": null,
   "id": "f2798c62",
   "metadata": {},
   "outputs": [],
   "source": []
  },
  {
   "cell_type": "code",
   "execution_count": null,
   "id": "d3cffd6e",
   "metadata": {},
   "outputs": [],
   "source": []
  },
  {
   "cell_type": "code",
   "execution_count": null,
   "id": "6f35360f",
   "metadata": {},
   "outputs": [],
   "source": []
  },
  {
   "cell_type": "code",
   "execution_count": null,
   "id": "e596c3c6",
   "metadata": {},
   "outputs": [],
   "source": []
  },
  {
   "cell_type": "code",
   "execution_count": null,
   "id": "c8a1025b",
   "metadata": {},
   "outputs": [],
   "source": []
  },
  {
   "cell_type": "code",
   "execution_count": null,
   "id": "41e0db4c",
   "metadata": {},
   "outputs": [],
   "source": []
  },
  {
   "cell_type": "code",
   "execution_count": null,
   "id": "ce909d3f",
   "metadata": {},
   "outputs": [],
   "source": []
  },
  {
   "cell_type": "code",
   "execution_count": null,
   "id": "1585af57",
   "metadata": {},
   "outputs": [],
   "source": []
  },
  {
   "cell_type": "code",
   "execution_count": null,
   "id": "88a081a7",
   "metadata": {},
   "outputs": [],
   "source": []
  },
  {
   "cell_type": "code",
   "execution_count": null,
   "id": "d70f9112",
   "metadata": {},
   "outputs": [],
   "source": []
  },
  {
   "cell_type": "code",
   "execution_count": null,
   "id": "b1fbb283",
   "metadata": {},
   "outputs": [],
   "source": []
  },
  {
   "cell_type": "code",
   "execution_count": null,
   "id": "759a8604",
   "metadata": {},
   "outputs": [],
   "source": []
  },
  {
   "cell_type": "code",
   "execution_count": null,
   "id": "87ea6090",
   "metadata": {},
   "outputs": [],
   "source": []
  },
  {
   "cell_type": "code",
   "execution_count": null,
   "id": "3c85b781",
   "metadata": {},
   "outputs": [],
   "source": []
  },
  {
   "cell_type": "markdown",
   "id": "37adec6a",
   "metadata": {},
   "source": [
    "#  Converting each data into binary dataset inference"
   ]
  },
  {
   "cell_type": "markdown",
   "id": "97987284",
   "metadata": {},
   "source": [
    "    e. Converting each data into binary dataset inference\n",
    "        - convert each split into binary dataset\n",
    "        - use only decisive parth (01 & 10)\n",
    "        - remove query with no correct answer (0000000000..000 pattern) \n",
    "        - add inference answer\n",
    "        /data/philhoon-relevance/binary-classification/NQ-DEV-DPR/5-fold/{i}/decisive_binary_inference_data\n",
    "            binary_decisive_inference_ctx100id_split_dev_{i}.json\n",
    "            binary_decisive_inference_ctx100id_split_train_{i}.json"
   ]
  },
  {
   "cell_type": "code",
   "execution_count": 2,
   "id": "71b1c485",
   "metadata": {},
   "outputs": [],
   "source": [
    "import os\n",
    "import re"
   ]
  },
  {
   "cell_type": "code",
   "execution_count": 3,
   "id": "9c28eb58",
   "metadata": {},
   "outputs": [],
   "source": [
    "def get_definite_pos_neg(test_em):\n",
    "    positive_pos = []\n",
    "    if test_em.startswith('1'):\n",
    "        positive_pos.append(0)\n",
    "    iter_ = re.finditer(r'01', test_em)\n",
    "    for m in iter_:\n",
    "        pos_ = m.start() + 1\n",
    "        positive_pos.append(pos_)\n",
    "\n",
    "    negative_pos = []\n",
    "    iter_ = re.finditer(r'10', test_em)\n",
    "    for m in iter_:\n",
    "        pos_ = m.start() + 1\n",
    "        negative_pos.append(pos_)\n",
    "    \n",
    "    return positive_pos, negative_pos"
   ]
  },
  {
   "cell_type": "code",
   "execution_count": 4,
   "id": "30ed6865",
   "metadata": {},
   "outputs": [],
   "source": [
    "def convert_incremental_to_decisive_binary_inference(data):\n",
    "    output = []\n",
    "    \n",
    "    for instance in data:\n",
    "        id_ = instance['id']\n",
    "        query = instance['question']\n",
    "        em_pattern = instance['em_pattern']\n",
    "        answers = instance['answers']\n",
    "        num_undecisive = len(em_pattern) - len(em_pattern.lstrip('0'))\n",
    "        cumulative_em = instance['cumulative_em']\n",
    "        ctxs = instance['ctxs']\n",
    "        inference = instance['inference']\n",
    "        \n",
    "        if num_undecisive == 100:\n",
    "            continue\n",
    "        else:\n",
    "            pos_indices, neg_indices = get_definite_pos_neg(em_pattern)\n",
    "\n",
    "            if pos_indices:\n",
    "                for pos_ in pos_indices:\n",
    "                    if em_pattern[pos_] == '1':\n",
    "                        ctx_ = ctxs[pos_]\n",
    "                        template = {\n",
    "                            'id' : id_,\n",
    "                            'question' : query,\n",
    "                            'ctx' : ctx_,\n",
    "                            'em' : em_pattern[pos_],\n",
    "                            'answers' : answers,\n",
    "                            'gold' : inference[pos_],\n",
    "                            'inference' : inference[pos_]\n",
    "                        }\n",
    "                        output.append(template)\n",
    "                    else:\n",
    "                        print('wrong')\n",
    "                        print(f'id_ : {id_}')\n",
    "                        break\n",
    "\n",
    "            if neg_indices:                \n",
    "                for neg_ in neg_indices:\n",
    "                    if em_pattern[neg_] == '0':\n",
    "                        ctx_ = ctxs[neg_]\n",
    "                        \n",
    "                        # neg_ -1 is pos_\n",
    "                        template = {\n",
    "                                'id' : id_,\n",
    "                                'question' : query,\n",
    "                                'ctx' : ctx_,\n",
    "                                'em' : em_pattern[neg_],\n",
    "                                'answers' : answers,\n",
    "                                'gold' : inference[neg_-1],\n",
    "                                'inference' : inference[neg_]\n",
    "                            }\n",
    "                        output.append(template)\n",
    "                    else:\n",
    "                        print('wrong')\n",
    "                        print(f'id_ : {id_}')\n",
    "                        break\n",
    "\n",
    "    return output\n"
   ]
  },
  {
   "cell_type": "code",
   "execution_count": 5,
   "id": "6fad9b0f",
   "metadata": {},
   "outputs": [],
   "source": [
    "i = 1"
   ]
  },
  {
   "cell_type": "code",
   "execution_count": 6,
   "id": "255e441c",
   "metadata": {},
   "outputs": [],
   "source": [
    "input_path = f'/data/philhoon-relevance/binary-classification/NQ-DEV-DPR/5-fold'"
   ]
  },
  {
   "cell_type": "code",
   "execution_count": 7,
   "id": "ec86c55b",
   "metadata": {},
   "outputs": [],
   "source": [
    "train_file = f'{i}/ctx100id_split_train_{i}.json'\n",
    "dev_file = f'{i}/ctx100id_split_dev_{i}.json'"
   ]
  },
  {
   "cell_type": "code",
   "execution_count": 8,
   "id": "84a8f8ce",
   "metadata": {},
   "outputs": [],
   "source": [
    "input_train_file = os.path.join(input_path, train_file)\n",
    "input_dev_file = os.path.join(input_path, dev_file)"
   ]
  },
  {
   "cell_type": "code",
   "execution_count": 9,
   "id": "d101ba42",
   "metadata": {},
   "outputs": [],
   "source": [
    "input_train = utils.open_json(input_train_file)\n",
    "input_dev = utils.open_json(input_dev_file)"
   ]
  },
  {
   "cell_type": "code",
   "execution_count": 10,
   "id": "4ad3a582",
   "metadata": {},
   "outputs": [
    {
     "name": "stdout",
     "output_type": "stream",
     "text": [
      "7005\n",
      "1752\n"
     ]
    }
   ],
   "source": [
    "print(len(input_train))\n",
    "print(len(input_dev))"
   ]
  },
  {
   "cell_type": "code",
   "execution_count": 11,
   "id": "3d75e2bc",
   "metadata": {},
   "outputs": [],
   "source": [
    "train_decisive_binary = convert_incremental_to_decisive_binary_inference(input_train)\n",
    "dev_decisive_binary = convert_incremental_to_decisive_binary_inference(input_dev)"
   ]
  },
  {
   "cell_type": "code",
   "execution_count": 12,
   "id": "082548fd",
   "metadata": {},
   "outputs": [
    {
     "name": "stdout",
     "output_type": "stream",
     "text": [
      "6721\n",
      "1704\n"
     ]
    }
   ],
   "source": [
    "print(len(train_decisive_binary))\n",
    "print(len(dev_decisive_binary))"
   ]
  },
  {
   "cell_type": "code",
   "execution_count": 13,
   "id": "e0f67e6e",
   "metadata": {},
   "outputs": [],
   "source": [
    "def check_ratio(data):\n",
    "    cnt_0 = 0\n",
    "    cnt_1 = 0\n",
    "\n",
    "    for ins in data:\n",
    "        if ins['em'] == '0':\n",
    "            cnt_0 += 1\n",
    "        if ins['em'] == '1':\n",
    "            cnt_1 += 1 \n",
    "    \n",
    "    print(f'total number of instances : {len(data)}')\n",
    "    print(f'number of 1 : {cnt_1}')\n",
    "    print(f'number of 0 : {cnt_0}')\n",
    "    print(f'ratio of 1 : {cnt_1/len(data)}')\n",
    "    print(f'ratio of 0 : {cnt_0/len(data)}')"
   ]
  },
  {
   "cell_type": "code",
   "execution_count": 14,
   "id": "186acc85",
   "metadata": {},
   "outputs": [
    {
     "name": "stdout",
     "output_type": "stream",
     "text": [
      "total number of instances : 6721\n",
      "number of 1 : 5205\n",
      "number of 0 : 1516\n",
      "ratio of 1 : 0.774438327629817\n",
      "ratio of 0 : 0.22556167237018301\n",
      "total number of instances : 1704\n",
      "number of 1 : 1308\n",
      "number of 0 : 396\n",
      "ratio of 1 : 0.7676056338028169\n",
      "ratio of 0 : 0.2323943661971831\n"
     ]
    }
   ],
   "source": [
    "check_ratio(train_decisive_binary)\n",
    "check_ratio(dev_decisive_binary)"
   ]
  },
  {
   "cell_type": "markdown",
   "id": "b28a4312",
   "metadata": {},
   "source": [
    "## checking nan"
   ]
  },
  {
   "cell_type": "code",
   "execution_count": 24,
   "id": "785fb602",
   "metadata": {},
   "outputs": [],
   "source": [
    "for idx_, instance in enumerate(train_decisive_binary):\n",
    "    if str(instance['inference']) == \"nan\":\n",
    "        print(f'idx_ : {idx_}')\n",
    "        pprint(instance)\n",
    "    "
   ]
  },
  {
   "cell_type": "markdown",
   "id": "b7f7b009",
   "metadata": {},
   "source": [
    "## Converting each 5-fold"
   ]
  },
  {
   "cell_type": "code",
   "execution_count": 18,
   "id": "467525c3",
   "metadata": {},
   "outputs": [],
   "source": [
    "k = 5\n",
    "in_path = f'/data/philhoon-relevance/binary-classification/NQ-DEV-DPR/5-fold'"
   ]
  },
  {
   "cell_type": "code",
   "execution_count": 21,
   "id": "9708bf24",
   "metadata": {},
   "outputs": [
    {
     "name": "stdout",
     "output_type": "stream",
     "text": [
      "train_path : /data/philhoon-relevance/binary-classification/NQ-DEV-DPR/5-fold/1/ctx100id_split_train_1.json\n",
      "dev_path : /data/philhoon-relevance/binary-classification/NQ-DEV-DPR/5-fold/1/ctx100id_split_dev_1.json\n",
      "len(train_out) : 6721\n",
      "len(dev_out) : 1704\n",
      "train_output_path : \n",
      "/data/philhoon-relevance/binary-classification/NQ-DEV-DPR/5-fold/1/decisive_binary_inference_data/binary_decisive_inference_ctx100id_split_train_1.json\n",
      "dev_output_path : \n",
      "/data/philhoon-relevance/binary-classification/NQ-DEV-DPR/5-fold/1/decisive_binary_inference_data/binary_decisive_inference_ctx100id_split_dev_1.json\n",
      "=====\n",
      "train_path : /data/philhoon-relevance/binary-classification/NQ-DEV-DPR/5-fold/2/ctx100id_split_train_2.json\n",
      "dev_path : /data/philhoon-relevance/binary-classification/NQ-DEV-DPR/5-fold/2/ctx100id_split_dev_2.json\n",
      "len(train_out) : 6736\n",
      "len(dev_out) : 1689\n",
      "train_output_path : \n",
      "/data/philhoon-relevance/binary-classification/NQ-DEV-DPR/5-fold/2/decisive_binary_inference_data/binary_decisive_inference_ctx100id_split_train_2.json\n",
      "dev_output_path : \n",
      "/data/philhoon-relevance/binary-classification/NQ-DEV-DPR/5-fold/2/decisive_binary_inference_data/binary_decisive_inference_ctx100id_split_dev_2.json\n",
      "=====\n",
      "train_path : /data/philhoon-relevance/binary-classification/NQ-DEV-DPR/5-fold/3/ctx100id_split_train_3.json\n",
      "dev_path : /data/philhoon-relevance/binary-classification/NQ-DEV-DPR/5-fold/3/ctx100id_split_dev_3.json\n",
      "len(train_out) : 6764\n",
      "len(dev_out) : 1661\n",
      "train_output_path : \n",
      "/data/philhoon-relevance/binary-classification/NQ-DEV-DPR/5-fold/3/decisive_binary_inference_data/binary_decisive_inference_ctx100id_split_train_3.json\n",
      "dev_output_path : \n",
      "/data/philhoon-relevance/binary-classification/NQ-DEV-DPR/5-fold/3/decisive_binary_inference_data/binary_decisive_inference_ctx100id_split_dev_3.json\n",
      "=====\n",
      "train_path : /data/philhoon-relevance/binary-classification/NQ-DEV-DPR/5-fold/4/ctx100id_split_train_4.json\n",
      "dev_path : /data/philhoon-relevance/binary-classification/NQ-DEV-DPR/5-fold/4/ctx100id_split_dev_4.json\n",
      "len(train_out) : 6667\n",
      "len(dev_out) : 1758\n",
      "train_output_path : \n",
      "/data/philhoon-relevance/binary-classification/NQ-DEV-DPR/5-fold/4/decisive_binary_inference_data/binary_decisive_inference_ctx100id_split_train_4.json\n",
      "dev_output_path : \n",
      "/data/philhoon-relevance/binary-classification/NQ-DEV-DPR/5-fold/4/decisive_binary_inference_data/binary_decisive_inference_ctx100id_split_dev_4.json\n",
      "=====\n",
      "train_path : /data/philhoon-relevance/binary-classification/NQ-DEV-DPR/5-fold/5/ctx100id_split_train_5.json\n",
      "dev_path : /data/philhoon-relevance/binary-classification/NQ-DEV-DPR/5-fold/5/ctx100id_split_dev_5.json\n",
      "len(train_out) : 6812\n",
      "len(dev_out) : 1613\n",
      "train_output_path : \n",
      "/data/philhoon-relevance/binary-classification/NQ-DEV-DPR/5-fold/5/decisive_binary_inference_data/binary_decisive_inference_ctx100id_split_train_5.json\n",
      "dev_output_path : \n",
      "/data/philhoon-relevance/binary-classification/NQ-DEV-DPR/5-fold/5/decisive_binary_inference_data/binary_decisive_inference_ctx100id_split_dev_5.json\n",
      "=====\n"
     ]
    }
   ],
   "source": [
    "for i in range(1, k+1):\n",
    "    \n",
    "    # input_file\n",
    "    train_file = f'{i}/ctx100id_split_train_{i}.json'\n",
    "    dev_file = f'{i}/ctx100id_split_dev_{i}.json'\n",
    "    \n",
    "    train_path = os.path.join(in_path, train_file)\n",
    "    dev_path = os.path.join(in_path, dev_file)\n",
    "    \n",
    "    print(f'train_path : {train_path}')\n",
    "    print(f'dev_path : {dev_path}')\n",
    "    train_data = utils.open_json(train_path)\n",
    "    dev_data = utils.open_json(dev_path)\n",
    "    \n",
    "    \n",
    "    out_path = f'/data/philhoon-relevance/binary-classification/NQ-DEV-DPR/5-fold/{i}/decisive_binary_inference_data'\n",
    "    os.makedirs(out_path, exist_ok = True)\n",
    "    \n",
    "    train_out = convert_incremental_to_decisive_binary_inference(train_data)\n",
    "    dev_out = convert_incremental_to_decisive_binary_inference(dev_data)\n",
    "    \n",
    "    print(f'len(train_out) : {len(train_out)}')\n",
    "    print(f'len(dev_out) : {len(dev_out)}')\n",
    "    \n",
    "    train_out_file = f'binary_decisive_inference_ctx100id_split_train_{i}.json'\n",
    "    dev_out_file = f'binary_decisive_inference_ctx100id_split_dev_{i}.json'\n",
    "\n",
    "    train_output_path = os.path.join(out_path, train_out_file)\n",
    "    dev_output_path = os.path.join(out_path, dev_out_file)\n",
    "    \n",
    "    utils.save_json(train_out, train_output_path)\n",
    "    utils.save_json(dev_out, dev_output_path)\n",
    "    print(f'train_output_path : \\n{train_output_path}')\n",
    "    print(f'dev_output_path : \\n{dev_output_path}')\n",
    "    print('=====')\n",
    "        "
   ]
  },
  {
   "cell_type": "markdown",
   "id": "aea9c9cf",
   "metadata": {},
   "source": [
    "## Checking NAN"
   ]
  },
  {
   "cell_type": "code",
   "execution_count": 59,
   "id": "4ee78da0",
   "metadata": {},
   "outputs": [],
   "source": [
    "def check_nan(data):\n",
    "    for idx_, instance in enumerate(data):\n",
    "        if str(instance['inference']) == \"nan\":\n",
    "            print(f'idx_ : {idx_}')\n",
    "            pprint(instance)"
   ]
  },
  {
   "cell_type": "code",
   "execution_count": 50,
   "id": "d542a149",
   "metadata": {},
   "outputs": [
    {
     "name": "stdout",
     "output_type": "stream",
     "text": [
      "/data/philhoon-relevance/binary-classification/NQ-DEV-DPR/5-fold/1/decisive_binary_inference_data\n",
      "total number of instances : 6721\n",
      "number of 1 : 5205\n",
      "number of 0 : 1516\n",
      "ratio of 1 : 0.774438327629817\n",
      "ratio of 0 : 0.22556167237018301\n",
      "total number of instances : 1704\n",
      "number of 1 : 1308\n",
      "number of 0 : 396\n",
      "ratio of 1 : 0.7676056338028169\n",
      "ratio of 0 : 0.2323943661971831\n",
      "-----\n",
      "/data/philhoon-relevance/binary-classification/NQ-DEV-DPR/5-fold/2/decisive_binary_inference_data\n",
      "total number of instances : 6736\n",
      "number of 1 : 5205\n",
      "number of 0 : 1531\n",
      "ratio of 1 : 0.7727137767220903\n",
      "ratio of 0 : 0.22728622327790973\n",
      "total number of instances : 1689\n",
      "number of 1 : 1308\n",
      "number of 0 : 381\n",
      "ratio of 1 : 0.7744227353463587\n",
      "ratio of 0 : 0.2255772646536412\n",
      "-----\n",
      "/data/philhoon-relevance/binary-classification/NQ-DEV-DPR/5-fold/3/decisive_binary_inference_data\n",
      "total number of instances : 6764\n",
      "number of 1 : 5218\n",
      "number of 0 : 1546\n",
      "ratio of 1 : 0.7714370195150798\n",
      "ratio of 0 : 0.22856298048492016\n",
      "total number of instances : 1661\n",
      "number of 1 : 1295\n",
      "number of 0 : 366\n",
      "ratio of 1 : 0.7796508127633955\n",
      "ratio of 0 : 0.22034918723660446\n",
      "-----\n",
      "/data/philhoon-relevance/binary-classification/NQ-DEV-DPR/5-fold/4/decisive_binary_inference_data\n",
      "total number of instances : 6667\n",
      "number of 1 : 5175\n",
      "number of 0 : 1492\n",
      "ratio of 1 : 0.776211189440528\n",
      "ratio of 0 : 0.22378881055947203\n",
      "total number of instances : 1758\n",
      "number of 1 : 1338\n",
      "number of 0 : 420\n",
      "ratio of 1 : 0.7610921501706485\n",
      "ratio of 0 : 0.23890784982935154\n",
      "-----\n",
      "/data/philhoon-relevance/binary-classification/NQ-DEV-DPR/5-fold/5/decisive_binary_inference_data\n",
      "total number of instances : 6812\n",
      "number of 1 : 5249\n",
      "number of 0 : 1563\n",
      "ratio of 1 : 0.7705519671168526\n",
      "ratio of 0 : 0.22944803288314738\n",
      "total number of instances : 1613\n",
      "number of 1 : 1264\n",
      "number of 0 : 349\n",
      "ratio of 1 : 0.7836329820210788\n",
      "ratio of 0 : 0.21636701797892127\n",
      "-----\n"
     ]
    }
   ],
   "source": [
    "k = 5\n",
    "for i in range(1, k+1):\n",
    "    \n",
    "    # input_file\n",
    "    in_path = f'/data/philhoon-relevance/binary-classification/NQ-DEV-DPR/5-fold/{i}/decisive_binary_inference_data'\n",
    "    print(in_path)\n",
    "    \n",
    "    train_file = f'binary_decisive_inference_ctx100id_split_train_{i}.json'\n",
    "    dev_file = f'binary_decisive_inference_ctx100id_split_dev_{i}.json'\n",
    "    \n",
    "    train_data = utils.open_json(os.path.join(in_path, train_file))\n",
    "    dev_data = utils.open_json(os.path.join(in_path, dev_file))\n",
    "    \n",
    "#     print(len(train_data))\n",
    "#     print(len(dev_data))\n",
    "    check_ratio(train_data)\n",
    "    check_ratio(dev_data)\n",
    "    \n",
    "    if check_nan(train_data):\n",
    "        print('nan exists in train split')\n",
    "    \n",
    "    if check_nan(dev_data):\n",
    "        print('nana exists in dev split')\n",
    "        \n",
    "    print('-----')    "
   ]
  },
  {
   "cell_type": "markdown",
   "id": "d0cd9a8c",
   "metadata": {},
   "source": [
    "# decisive_binary_format_inference_data Test Set\n",
    "## binary_decisive_format_inference_ctx100id_test"
   ]
  },
  {
   "cell_type": "code",
   "execution_count": 51,
   "id": "44861cca",
   "metadata": {},
   "outputs": [],
   "source": [
    "input_path = f'/data/philhoon-relevance/binary-classification/NQ-TEST-DPR'\n",
    "test_file = 'ctx100id.json'\n",
    "output_path = f'/data/philhoon-relevance/binary-classification/NQ-TEST-DPR'\n",
    "output_file = 'binary_decisive_format_inference_ctx100id_test.json'\n",
    "test_output_path = os.path.join(output_path, output_file)"
   ]
  },
  {
   "cell_type": "code",
   "execution_count": 52,
   "id": "e537285b",
   "metadata": {},
   "outputs": [],
   "source": [
    "test_file_path = os.path.join(input_path, test_file)"
   ]
  },
  {
   "cell_type": "code",
   "execution_count": 53,
   "id": "9bbc2f96",
   "metadata": {},
   "outputs": [],
   "source": [
    "test_data = utils.open_json(test_file_path)"
   ]
  },
  {
   "cell_type": "code",
   "execution_count": 54,
   "id": "a7e83239",
   "metadata": {},
   "outputs": [
    {
     "data": {
      "text/plain": [
       "3610"
      ]
     },
     "execution_count": 54,
     "metadata": {},
     "output_type": "execute_result"
    }
   ],
   "source": [
    "len(test_data)"
   ]
  },
  {
   "cell_type": "code",
   "execution_count": 55,
   "id": "9172dba4",
   "metadata": {},
   "outputs": [],
   "source": [
    "test_decisive_binary = convert_incremental_to_decisive_binary_inference(test_data)"
   ]
  },
  {
   "cell_type": "code",
   "execution_count": 56,
   "id": "7b05dd79",
   "metadata": {},
   "outputs": [
    {
     "data": {
      "text/plain": [
       "3658"
      ]
     },
     "execution_count": 56,
     "metadata": {},
     "output_type": "execute_result"
    }
   ],
   "source": [
    "len(test_decisive_binary)"
   ]
  },
  {
   "cell_type": "code",
   "execution_count": 57,
   "id": "0351a753",
   "metadata": {},
   "outputs": [
    {
     "name": "stdout",
     "output_type": "stream",
     "text": [
      "total number of instances : 3658\n",
      "number of 1 : 2812\n",
      "number of 0 : 846\n",
      "ratio of 1 : 0.768726079825041\n",
      "ratio of 0 : 0.23127392017495899\n"
     ]
    }
   ],
   "source": [
    "check_ratio(test_decisive_binary)"
   ]
  },
  {
   "cell_type": "code",
   "execution_count": 60,
   "id": "76f84786",
   "metadata": {},
   "outputs": [
    {
     "name": "stdout",
     "output_type": "stream",
     "text": [
      "idx_ : 2012\n",
      "{'answers': ['a rotationally symmetric saltire', 'the symbol ×', '*'],\n",
      " 'ctx': {'id': '1847735',\n",
      "         'text': 'is listed in the Latin-1 Supplement character set and is in '\n",
      "                 'Unicode. It can be invoked in various operating systems as '\n",
      "                 'per the table below. A monadic × symbol is used by the APL '\n",
      "                 'programming language to denote the sign function. There is a '\n",
      "                 'similar character ⨯ at U+2A2F, but this is not always '\n",
      "                 'considered identical to U+00D7, as U+2A2F is intended to '\n",
      "                 '\"explicitly\" denote the cross product of two vectors. Other '\n",
      "                 'variants are encoded: Multiplication sign The multiplication '\n",
      "                 'sign, also known as the times sign or the dimension sign, is '\n",
      "                 'the symbol ×. While similar to the lowercase letter',\n",
      "         'title': 'Multiplication sign'},\n",
      " 'em': '1',\n",
      " 'gold': nan,\n",
      " 'id': 1986,\n",
      " 'inference': nan,\n",
      " 'question': 'what is the multiplication sign on the computer'}\n"
     ]
    }
   ],
   "source": [
    "check_nan(test_decisive_binary)"
   ]
  },
  {
   "cell_type": "code",
   "execution_count": 61,
   "id": "a90b4cca",
   "metadata": {},
   "outputs": [],
   "source": [
    "remove_nan_test_decisive_binary = []\n",
    "for ins in test_decisive_binary:\n",
    "    if str(ins['gold']) == 'nan':\n",
    "        continue\n",
    "    else:\n",
    "        remove_nan_test_decisive_binary.append(ins)"
   ]
  },
  {
   "cell_type": "code",
   "execution_count": 62,
   "id": "4d1d963c",
   "metadata": {},
   "outputs": [
    {
     "data": {
      "text/plain": [
       "3657"
      ]
     },
     "execution_count": 62,
     "metadata": {},
     "output_type": "execute_result"
    }
   ],
   "source": [
    "len(remove_nan_test_decisive_binary)"
   ]
  },
  {
   "cell_type": "code",
   "execution_count": 63,
   "id": "ec16d9c6",
   "metadata": {},
   "outputs": [
    {
     "name": "stdout",
     "output_type": "stream",
     "text": [
      "/data/philhoon-relevance/binary-classification/NQ-TEST-DPR/binary_decisive_format_inference_ctx100id_test.json\n"
     ]
    }
   ],
   "source": [
    "print(test_output_path)"
   ]
  },
  {
   "cell_type": "code",
   "execution_count": 64,
   "id": "cdd8c275",
   "metadata": {},
   "outputs": [],
   "source": [
    "utils.save_json(remove_nan_test_decisive_binary, test_output_path)"
   ]
  },
  {
   "cell_type": "code",
   "execution_count": null,
   "id": "f170327f",
   "metadata": {},
   "outputs": [],
   "source": []
  },
  {
   "cell_type": "code",
   "execution_count": null,
   "id": "22d90a66",
   "metadata": {},
   "outputs": [],
   "source": []
  }
 ],
 "metadata": {
  "kernelspec": {
   "display_name": "relevance-kilt",
   "language": "python",
   "name": "relevance-kilt"
  },
  "language_info": {
   "codemirror_mode": {
    "name": "ipython",
    "version": 3
   },
   "file_extension": ".py",
   "mimetype": "text/x-python",
   "name": "python",
   "nbconvert_exporter": "python",
   "pygments_lexer": "ipython3",
   "version": "3.8.13"
  }
 },
 "nbformat": 4,
 "nbformat_minor": 5
}
