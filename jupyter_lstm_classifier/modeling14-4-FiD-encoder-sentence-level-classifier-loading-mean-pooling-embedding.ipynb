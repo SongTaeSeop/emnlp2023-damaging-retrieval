{
 "cells": [
  {
   "cell_type": "markdown",
   "id": "b9908fbb",
   "metadata": {},
   "source": [
    "# modeling14-4-FiD-encoder-sentence-level-classifier-loading-mean-pooling-embedding\n",
    "- modeling sentence-classifier\n",
    "- sentence-bert"
   ]
  },
  {
   "cell_type": "code",
   "execution_count": null,
   "id": "b29855b5",
   "metadata": {},
   "outputs": [],
   "source": [
    "import os\n",
    "os.environ['CUDA_VISIBLE_DEVICES']='1'"
   ]
  },
  {
   "cell_type": "code",
   "execution_count": null,
   "id": "6ac45451",
   "metadata": {},
   "outputs": [],
   "source": [
    "from pprint import pprint\n",
    "from util import utils"
   ]
  },
  {
   "cell_type": "code",
   "execution_count": null,
   "id": "ad256998",
   "metadata": {},
   "outputs": [],
   "source": [
    "from functools import partial\n",
    "import json\n",
    "import math\n",
    "import os\n",
    "import logging\n",
    "import sys\n",
    "import evaluate\n",
    "from util import utils\n",
    "from tqdm.auto import tqdm\n",
    "import pickle\n",
    "\n",
    "import transformers\n",
    "import torch\n",
    "import numpy as np\n",
    "import random\n",
    "from torch import nn\n",
    "from torch.utils.data import Dataset, DataLoader\n",
    "from transformers import (\n",
    "    AutoModelForSequenceClassification, \n",
    "    AutoModel, \n",
    "    AutoConfig, \n",
    "    AutoTokenizer,\n",
    "    DataCollatorWithPadding,\n",
    "    EvalPrediction,\n",
    "    HfArgumentParser,\n",
    "    Trainer,\n",
    "    TrainingArguments,\n",
    "    set_seed,\n",
    "    get_scheduler,\n",
    ")\n",
    "from util.arguments import ModelArguments, DataTrainingArguments \n",
    "from torch.nn import BCEWithLogitsLoss, CrossEntropyLoss, MSELoss\n",
    "from torch.nn.utils.rnn import pack_padded_sequence, pad_packed_sequence\n",
    "import torch.nn.functional as F\n",
    "from FiD.src.model import FiDT5\n",
    "os.environ[\"TOKENIZERS_PARALLELISM\"] = \"false\"\n",
    "\n",
    "from src.data import BinaryCustomDatasetShuffle"
   ]
  },
  {
   "cell_type": "code",
   "execution_count": null,
   "id": "73eb61ef",
   "metadata": {},
   "outputs": [],
   "source": [
    "device = torch.device(\"cuda\" if torch.cuda.is_available() else 'cpu')"
   ]
  },
  {
   "cell_type": "code",
   "execution_count": null,
   "id": "46390c1c",
   "metadata": {},
   "outputs": [],
   "source": [
    "print(device)"
   ]
  },
  {
   "cell_type": "markdown",
   "id": "1b71b094",
   "metadata": {},
   "source": [
    "## Get FiD Encoder Embedding from pickle file"
   ]
  },
  {
   "cell_type": "code",
   "execution_count": null,
   "id": "e801bc2e",
   "metadata": {},
   "outputs": [],
   "source": [
    "testing_file = '/data/philhoon-relevance/binary-classification/NQ-DEV-DPR/5-fold/1/sequence_exclude_no_answer_exclude_indecisve/testing-sequence_exclude_no_answer_exclude_indecisve_ctx100id_split_train_1.pickle'\n",
    "with open(testing_file, 'rb') as f:\n",
    "    test_input = pickle.load(f)\n"
   ]
  },
  {
   "cell_type": "code",
   "execution_count": null,
   "id": "b273792a",
   "metadata": {},
   "outputs": [],
   "source": [
    "type(test_input)"
   ]
  },
  {
   "cell_type": "code",
   "execution_count": null,
   "id": "2af4c792",
   "metadata": {},
   "outputs": [],
   "source": [
    "print(test_input[0]['input_embedding'].shape)\n",
    "print(test_input[0]['em_pattern'].shape)"
   ]
  },
  {
   "cell_type": "code",
   "execution_count": null,
   "id": "557f4148",
   "metadata": {},
   "outputs": [],
   "source": [
    "class EncoderSentenceClassificationDataset(torch.utils.data.Dataset):\n",
    "    def __init__(self, instances, shuffle=True):\n",
    "        if shuffle:\n",
    "            random.shuffle(instances)\n",
    "        self.instances = instances\n",
    "\n",
    "    def __len__(self):\n",
    "        return len(self.instances)\n",
    "\n",
    "    def __getitem__(self, idx):\n",
    "        input_embedding_ = self.instances[idx]['input_embedding']\n",
    "        em_pattern_ = self.instances[idx]['em_pattern']\n",
    "        \n",
    "        result = {\n",
    "            'input_embedding': input_embedding_,\n",
    "            'em_pattern': em_pattern_\n",
    "        }\n",
    "\n",
    "        return result"
   ]
  },
  {
   "cell_type": "code",
   "execution_count": null,
   "id": "7b16b6ec",
   "metadata": {},
   "outputs": [],
   "source": [
    "test_dataset = EncoderSentenceClassificationDataset(test_input)"
   ]
  },
  {
   "cell_type": "code",
   "execution_count": null,
   "id": "24584cbc",
   "metadata": {},
   "outputs": [],
   "source": [
    "test_dataset[0]"
   ]
  },
  {
   "cell_type": "code",
   "execution_count": null,
   "id": "f65a2fe0",
   "metadata": {},
   "outputs": [],
   "source": [
    "def custom_collate(batch, padding):\n",
    "    train_lst = [b['input_embedding'] for b in batch]\n",
    "    label_lst = [b['em_pattern'] for b in batch]\n",
    "    seq_len_lst = [b['em_pattern'].shape[0] for b in batch]\n",
    "    max_seq_len = max(seq_len_lst)\n",
    "\n",
    "    padding_train_lst = []\n",
    "    for embedding in train_lst:\n",
    "        if embedding.shape[0] < max_seq_len:\n",
    "            post_pad = torch.full(size=(max_seq_len - embedding.shape[0], embedding.shape[1]), fill_value=padding)\n",
    "            # post_pad = torch.full(size=(max_seq_len - embedding.shape[0], embedding.shape[1]), fill_value=-100)\n",
    "            padding_train_lst.append(torch.concat([embedding, post_pad]))\n",
    "        else:\n",
    "            padding_train_lst.append(embedding)\n",
    "\n",
    "    inputs = torch.stack(padding_train_lst)\n",
    "\n",
    "    padding_label_lst = []\n",
    "    for label in label_lst:\n",
    "        if label.shape[0] < max_seq_len:\n",
    "            post_pad = torch.full(size=(max_seq_len - label.shape[0],), fill_value=padding)\n",
    "            # post_pad = torch.full(size=(max_seq_len - label.shape[0],), fill_value=-100)\n",
    "            torch.concat([label, post_pad])\n",
    "            padding_label_lst.append(torch.concat([label, post_pad]))\n",
    "        else:\n",
    "            padding_label_lst.append(label)\n",
    "\n",
    "    labels = torch.stack(padding_label_lst)\n",
    "\n",
    "    return {\n",
    "        'inputs': inputs,\n",
    "        'labels': labels,\n",
    "        'sequence_len': torch.tensor(seq_len_lst)\n",
    "    }"
   ]
  },
  {
   "cell_type": "code",
   "execution_count": null,
   "id": "94889a3d",
   "metadata": {},
   "outputs": [],
   "source": [
    "test_dataloader = DataLoader(test_dataset,\n",
    "                                  shuffle=False,\n",
    "                                  collate_fn=partial(custom_collate, padding=-100),\n",
    "                                  batch_size=8,\n",
    "                                  )"
   ]
  },
  {
   "cell_type": "code",
   "execution_count": null,
   "id": "553a10a6",
   "metadata": {},
   "outputs": [],
   "source": [
    "test_iter = iter(test_dataloader)"
   ]
  },
  {
   "cell_type": "code",
   "execution_count": null,
   "id": "3d300a6b",
   "metadata": {},
   "outputs": [],
   "source": [
    "cur_batch = next(test_iter)"
   ]
  },
  {
   "cell_type": "code",
   "execution_count": null,
   "id": "d1911c1d",
   "metadata": {},
   "outputs": [],
   "source": [
    "cur_batch.keys()"
   ]
  },
  {
   "cell_type": "code",
   "execution_count": null,
   "id": "9bdfc62a",
   "metadata": {},
   "outputs": [],
   "source": [
    "cur_batch['sequence_len']"
   ]
  },
  {
   "cell_type": "code",
   "execution_count": null,
   "id": "302bc5c5",
   "metadata": {},
   "outputs": [],
   "source": [
    "cur_batch['inputs'].shape"
   ]
  },
  {
   "cell_type": "code",
   "execution_count": null,
   "id": "5d92b673",
   "metadata": {},
   "outputs": [],
   "source": [
    "cur_batch['labels'].shape"
   ]
  },
  {
   "cell_type": "code",
   "execution_count": null,
   "id": "63b4e377",
   "metadata": {},
   "outputs": [],
   "source": [
    "cur_batch['labels']"
   ]
  },
  {
   "cell_type": "code",
   "execution_count": null,
   "id": "26c6e349",
   "metadata": {},
   "outputs": [],
   "source": [
    "cur_batch['inputs'][0][-5]"
   ]
  },
  {
   "cell_type": "code",
   "execution_count": null,
   "id": "e888e662",
   "metadata": {},
   "outputs": [],
   "source": []
  }
 ],
 "metadata": {
  "kernelspec": {
   "display_name": "relevance-kilt",
   "language": "python",
   "name": "relevance-kilt"
  },
  "language_info": {
   "codemirror_mode": {
    "name": "ipython",
    "version": 3
   },
   "file_extension": ".py",
   "mimetype": "text/x-python",
   "name": "python",
   "nbconvert_exporter": "python",
   "pygments_lexer": "ipython3",
   "version": "3.8.13"
  }
 },
 "nbformat": 4,
 "nbformat_minor": 5
}
