{
 "cells": [
  {
   "cell_type": "markdown",
   "id": "71651598",
   "metadata": {},
   "source": [
    "# Analysis3 - Split Dataset(5-fold cv)\n",
    "- preparing k-fold classifcation dataset WITH incremental result\n",
    "- split first for tracking\n",
    "- convert to nli input"
   ]
  },
  {
   "cell_type": "markdown",
   "id": "e0238a2f",
   "metadata": {},
   "source": [
    "# Depreciated\n",
    "- checkout modeling6-nli-binaryclassifier-datapreprocessing-checkingoutput\n"
   ]
  },
  {
   "cell_type": "code",
   "execution_count": 1,
   "id": "73f2ece3",
   "metadata": {},
   "outputs": [],
   "source": [
    "import os\n",
    "from util import utils\n",
    "from pprint import pprint\n",
    "import random\n",
    "from sklearn.model_selection import train_test_split\n",
    "from sklearn.model_selection import KFold"
   ]
  },
  {
   "cell_type": "markdown",
   "id": "2494f707",
   "metadata": {},
   "source": [
    "## Adding ID to query for tracking"
   ]
  },
  {
   "cell_type": "markdown",
   "id": "fd3f3c4a",
   "metadata": {},
   "source": [
    "### Dev"
   ]
  },
  {
   "cell_type": "code",
   "execution_count": 4,
   "id": "eab75cfe",
   "metadata": {},
   "outputs": [],
   "source": [
    "# path = '/data/philhoon-relevance/FiD/results/NQ_DPR/DEV/incremental_result_100'\n",
    "path = '/scratch/philhoon-relevance/FiD/results/NQ_DPR/DEV/incremental_result_100'\n",
    "file_name = 'ctx100.json'\n",
    "file_path = os.path.join(path, file_name)"
   ]
  },
  {
   "cell_type": "code",
   "execution_count": 5,
   "id": "f24f929f",
   "metadata": {},
   "outputs": [],
   "source": [
    "data = utils.open_json(file_path)"
   ]
  },
  {
   "cell_type": "markdown",
   "id": "ca6344a8",
   "metadata": {},
   "source": [
    "### Test"
   ]
  },
  {
   "cell_type": "code",
   "execution_count": 8,
   "id": "389f61ae",
   "metadata": {},
   "outputs": [],
   "source": [
    "path = '/scratch/philhoon-relevance/FiD/results/NQ_DPR/TEST/incremental_result_100'\n",
    "file_name = 'ctx100.json'\n",
    "file_path = os.path.join(path, file_name)"
   ]
  },
  {
   "cell_type": "code",
   "execution_count": 9,
   "id": "dd42e478",
   "metadata": {},
   "outputs": [],
   "source": [
    "data = utils.open_json(file_path)"
   ]
  },
  {
   "cell_type": "markdown",
   "id": "a364185c",
   "metadata": {},
   "source": [
    "### checking the result\n",
    "- incremental EM is same with the previous result"
   ]
  },
  {
   "cell_type": "code",
   "execution_count": 10,
   "id": "80313c70",
   "metadata": {},
   "outputs": [],
   "source": [
    "cnt_incre = 0\n",
    "cnt_all_cor = 0\n",
    "cnt_all_wrong = 0\n",
    "initial_zeros = 0\n",
    "\n",
    "for instance in data:\n",
    "    em_pat = instance['em_pattern']\n",
    "    \n",
    "    if '1' in em_pat and em_pat.startswith('0'):\n",
    "        initial_zeros += 1\n",
    "    if '1' in em_pat:\n",
    "        cnt_incre += 1\n",
    "    if em_pat.endswith('1'):\n",
    "        cnt_all_cor += 1\n",
    "    if em_pat.endswith('0'):\n",
    "        cnt_all_wrong += 1"
   ]
  },
  {
   "cell_type": "code",
   "execution_count": 11,
   "id": "aea16714",
   "metadata": {},
   "outputs": [
    {
     "name": "stdout",
     "output_type": "stream",
     "text": [
      "incremental top 100 em : 0.6512465373961219\n",
      "top 100 em : 0.5445983379501385\n",
      "initial 0s : 1058\n"
     ]
    }
   ],
   "source": [
    "print(f'incremental top 100 em : {cnt_incre/len(data)}')\n",
    "print(f'top 100 em : {cnt_all_cor/len(data)}')\n",
    "print(f'initial 0s : {initial_zeros}')"
   ]
  },
  {
   "cell_type": "code",
   "execution_count": 12,
   "id": "62d003d1",
   "metadata": {},
   "outputs": [],
   "source": [
    "for id_, instance in enumerate(data):\n",
    "    instance['id'] = id_"
   ]
  },
  {
   "cell_type": "code",
   "execution_count": null,
   "id": "7938871b",
   "metadata": {},
   "outputs": [],
   "source": [
    "# len(data)"
   ]
  },
  {
   "cell_type": "markdown",
   "id": "bcf9ce8a",
   "metadata": {},
   "source": [
    "### Dev"
   ]
  },
  {
   "cell_type": "code",
   "execution_count": null,
   "id": "0f405c53",
   "metadata": {},
   "outputs": [],
   "source": [
    "out_path = '/data/philhoon-relevance/binary-classification/NQ-DEV-DPR'\n",
    "out_file_name = 'ctx100id.json'\n",
    "out_file_path = os.path.join(out_path, out_file_name)"
   ]
  },
  {
   "cell_type": "markdown",
   "id": "3ae54dc5",
   "metadata": {},
   "source": [
    "### Test"
   ]
  },
  {
   "cell_type": "code",
   "execution_count": null,
   "id": "5c27c4a1",
   "metadata": {},
   "outputs": [],
   "source": [
    "out_path = '/data/philhoon-relevance/binary-classification/NQ-TEST-DPR'\n",
    "out_file_name = 'ctx100id.json'\n",
    "out_file_path = os.path.join(out_path, out_file_name)"
   ]
  },
  {
   "cell_type": "code",
   "execution_count": null,
   "id": "d36b2d1c",
   "metadata": {},
   "outputs": [],
   "source": [
    "# utils.save_json(data, out_file_path)"
   ]
  },
  {
   "cell_type": "code",
   "execution_count": null,
   "id": "f7931428",
   "metadata": {},
   "outputs": [],
   "source": [
    "data_id = utils.open_json(out_file_path)"
   ]
  },
  {
   "cell_type": "code",
   "execution_count": null,
   "id": "ff9667f0",
   "metadata": {
    "scrolled": false
   },
   "outputs": [],
   "source": [
    "print(data_id[3]['id'])"
   ]
  },
  {
   "cell_type": "code",
   "execution_count": null,
   "id": "57793d0b",
   "metadata": {},
   "outputs": [],
   "source": [
    "len(data_id)"
   ]
  },
  {
   "cell_type": "markdown",
   "id": "ad73dc28",
   "metadata": {},
   "source": [
    "## Split by Train and Dev\n",
    "- not need for future using 1st set of K-fold"
   ]
  },
  {
   "cell_type": "code",
   "execution_count": null,
   "id": "c46758a7",
   "metadata": {},
   "outputs": [],
   "source": [
    "random.seed(42)"
   ]
  },
  {
   "cell_type": "code",
   "execution_count": null,
   "id": "814bcbd7",
   "metadata": {},
   "outputs": [],
   "source": [
    "train, dev = train_test_split(data_id, test_size=0.2, shuffle=True)"
   ]
  },
  {
   "cell_type": "code",
   "execution_count": null,
   "id": "a36f8b0c",
   "metadata": {},
   "outputs": [],
   "source": [
    "len(train)"
   ]
  },
  {
   "cell_type": "code",
   "execution_count": null,
   "id": "dcf26c0a",
   "metadata": {},
   "outputs": [],
   "source": [
    "len(dev)"
   ]
  },
  {
   "cell_type": "code",
   "execution_count": null,
   "id": "73ed8f34",
   "metadata": {},
   "outputs": [],
   "source": [
    "out_path = '/data/philhoon-relevance/binary-classification/NQ-DEV-DPR/train_dev'\n",
    "out_file_name = 'ctx100id_train.json'\n",
    "out_file_path = os.path.join(out_path, out_file_name)"
   ]
  },
  {
   "cell_type": "code",
   "execution_count": null,
   "id": "4df04662",
   "metadata": {},
   "outputs": [],
   "source": [
    "# utils.save_json(train, out_file_path)"
   ]
  },
  {
   "cell_type": "code",
   "execution_count": null,
   "id": "172f11f7",
   "metadata": {},
   "outputs": [],
   "source": [
    "check = utils.open_json(out_file_path)"
   ]
  },
  {
   "cell_type": "code",
   "execution_count": null,
   "id": "9891b737",
   "metadata": {},
   "outputs": [],
   "source": [
    "len(check)"
   ]
  },
  {
   "cell_type": "code",
   "execution_count": null,
   "id": "32c37bdd",
   "metadata": {},
   "outputs": [],
   "source": [
    "out_path = '/data/philhoon-relevance/binary-classification/NQ-DEV-DPR/train_dev'\n",
    "out_file_name = 'ctx100id_dev.json'\n",
    "out_file_path = os.path.join(out_path, out_file_name)"
   ]
  },
  {
   "cell_type": "code",
   "execution_count": null,
   "id": "5e47cb56",
   "metadata": {},
   "outputs": [],
   "source": [
    "# utils.save_json(dev, out_file_path)"
   ]
  },
  {
   "cell_type": "code",
   "execution_count": null,
   "id": "b5fd9e98",
   "metadata": {},
   "outputs": [],
   "source": [
    "check = utils.open_json(out_file_path)"
   ]
  },
  {
   "cell_type": "code",
   "execution_count": null,
   "id": "5ceef9e8",
   "metadata": {},
   "outputs": [],
   "source": [
    "len(check)"
   ]
  },
  {
   "cell_type": "markdown",
   "id": "50ca75fa",
   "metadata": {},
   "source": [
    "## Split by 5-fold"
   ]
  },
  {
   "cell_type": "code",
   "execution_count": null,
   "id": "e571a963",
   "metadata": {},
   "outputs": [],
   "source": [
    "in_path = '/data/philhoon-relevance/binary-classification/NQ-DEV-DPR'\n",
    "in_file_name = 'ctx100id.json'\n",
    "in_file_path = os.path.join(in_path, in_file_name)\n",
    "data_id = utils.open_json(in_file_path)\n",
    "print(len(data_id))"
   ]
  },
  {
   "cell_type": "code",
   "execution_count": null,
   "id": "0b0942cc",
   "metadata": {},
   "outputs": [],
   "source": [
    "kf = KFold(n_splits=5, random_state = 42, shuffle = True)"
   ]
  },
  {
   "cell_type": "code",
   "execution_count": null,
   "id": "891c0977",
   "metadata": {},
   "outputs": [],
   "source": [
    "kf.get_n_splits(data_id)"
   ]
  },
  {
   "cell_type": "code",
   "execution_count": null,
   "id": "36b481e4",
   "metadata": {},
   "outputs": [],
   "source": [
    "output_path = '/data/philhoon-relevance/binary-classification/NQ-DEV-DPR/5-fold'"
   ]
  },
  {
   "cell_type": "code",
   "execution_count": null,
   "id": "065f034f",
   "metadata": {},
   "outputs": [],
   "source": [
    "for i, (train_index, test_index) in enumerate(kf.split(data_id)):\n",
    "    output_path_i = output_path + f'/{i+1}'\n",
    "    train_file_name = f'ctx100id_split_train_{i+1}.json'\n",
    "    test_file_name = f'ctx100id_split_dev_{i+1}.json'\n",
    "    \n",
    "    train_path = os.path.join(output_path_i, train_file_name)\n",
    "    test_path = os.path.join(output_path_i, test_file_name)\n",
    "    print(f'train_path : {train_path}')\n",
    "    print(f'dev_path : {test_path}')\n",
    "    print(f\"Fold {i}:\")\n",
    "    print(f\"  Train: index={train_index[:10]}\")\n",
    "    print(f\"  Test:  index={test_index}\")\n",
    "    train_split = [data_id[j] for j in train_index]\n",
    "    test_split = [data_id[j] for j in test_index]\n",
    "    print(f'size of train : {len(train_split)}')\n",
    "    print(f'size of dev : {len(test_split)}')\n",
    "    \n",
    "#     utils.save_json(train_split, train_path)\n",
    "#     utils.save_json(test_split, test_path)"
   ]
  },
  {
   "cell_type": "markdown",
   "id": "55f5d64d",
   "metadata": {},
   "source": [
    "## Trivia QA"
   ]
  },
  {
   "cell_type": "markdown",
   "id": "069b162c",
   "metadata": {},
   "source": [
    "### Dev"
   ]
  },
  {
   "cell_type": "code",
   "execution_count": 18,
   "id": "dc16add8",
   "metadata": {},
   "outputs": [],
   "source": [
    "def check_statistic(data):\n",
    "    cnt_incre = 0\n",
    "    cnt_all_cor = 0\n",
    "    cnt_all_wrong = 0\n",
    "    initial_zeros = 0\n",
    "\n",
    "    for instance in data:\n",
    "        em_pat = instance['em_pattern']\n",
    "\n",
    "        if '1' in em_pat and em_pat.startswith('0'):\n",
    "            initial_zeros += 1\n",
    "        if '1' in em_pat:\n",
    "            cnt_incre += 1\n",
    "        if em_pat.endswith('1'):\n",
    "            cnt_all_cor += 1\n",
    "        if em_pat.endswith('0'):\n",
    "            cnt_all_wrong += 1\n",
    "    print(f'incremental top 100 em : {cnt_incre/len(data)}')\n",
    "    print(f'top 100 em : {cnt_all_cor/len(data)}')\n",
    "    print(f'initial 0s : {initial_zeros}')"
   ]
  },
  {
   "cell_type": "code",
   "execution_count": 19,
   "id": "31b0cfcb",
   "metadata": {},
   "outputs": [],
   "source": [
    "path = '/scratch/philhoon-relevance/FiD/results/TQA_DPR/DEV/incremental_result_100'\n",
    "file_name = 'ctx100.json'\n",
    "file_path = os.path.join(path, file_name)"
   ]
  },
  {
   "cell_type": "code",
   "execution_count": 20,
   "id": "b2f40d2b",
   "metadata": {},
   "outputs": [],
   "source": [
    "dev_data = utils.open_json(file_path)"
   ]
  },
  {
   "cell_type": "code",
   "execution_count": 21,
   "id": "b8488c43",
   "metadata": {},
   "outputs": [
    {
     "name": "stdout",
     "output_type": "stream",
     "text": [
      "incremental top 100 em : 0.7774131492587982\n",
      "top 100 em : 0.7234355550526197\n",
      "initial 0s : 2037\n"
     ]
    }
   ],
   "source": [
    "check_statistic(dev_data)"
   ]
  },
  {
   "cell_type": "code",
   "execution_count": 23,
   "id": "30e61fd3",
   "metadata": {},
   "outputs": [],
   "source": [
    "for id_, instance in enumerate(dev_data):\n",
    "    instance['id'] = id_"
   ]
  },
  {
   "cell_type": "code",
   "execution_count": 24,
   "id": "bef821ee",
   "metadata": {},
   "outputs": [
    {
     "name": "stdout",
     "output_type": "stream",
     "text": [
      "/scratch/philhoon-relevance/decoder-classification/TQA-DEV-DPR/ctx100id_dev.json\n"
     ]
    }
   ],
   "source": [
    "out_path = '/scratch/philhoon-relevance/decoder-classification/TQA-DEV-DPR'\n",
    "out_file_name = 'ctx100id_dev.json'\n",
    "out_file_path = os.path.join(out_path, out_file_name)\n",
    "print(out_file_path)\n",
    "utils.save_json(dev_data, out_file_path)"
   ]
  },
  {
   "cell_type": "code",
   "execution_count": 25,
   "id": "9cd0c760",
   "metadata": {},
   "outputs": [
    {
     "data": {
      "text/plain": [
       "8837"
      ]
     },
     "execution_count": 25,
     "metadata": {},
     "output_type": "execute_result"
    }
   ],
   "source": [
    "len(dev_data)"
   ]
  },
  {
   "cell_type": "code",
   "execution_count": 26,
   "id": "37b5bc1e",
   "metadata": {},
   "outputs": [],
   "source": [
    "data_ = utils.open_json(out_file_path)"
   ]
  },
  {
   "cell_type": "code",
   "execution_count": 27,
   "id": "83c8938b",
   "metadata": {},
   "outputs": [
    {
     "data": {
      "text/plain": [
       "dict_keys(['question', 'answers', 'target', 'ctxs', 'em_pattern', 'inference', 'conversion', 'cumulative_em', 'id'])"
      ]
     },
     "execution_count": 27,
     "metadata": {},
     "output_type": "execute_result"
    }
   ],
   "source": [
    "data_[0].keys()"
   ]
  },
  {
   "cell_type": "markdown",
   "id": "b8fb67ab",
   "metadata": {},
   "source": [
    "### Test"
   ]
  },
  {
   "cell_type": "code",
   "execution_count": 28,
   "id": "1521d449",
   "metadata": {},
   "outputs": [],
   "source": [
    "path = '/scratch/philhoon-relevance/FiD/results/TQA_DPR/TEST/incremental_result_100'\n",
    "file_name = 'ctx100.json'\n",
    "file_path = os.path.join(path, file_name)"
   ]
  },
  {
   "cell_type": "code",
   "execution_count": 29,
   "id": "6ef0c91e",
   "metadata": {},
   "outputs": [],
   "source": [
    "test_data = utils.open_json(file_path)"
   ]
  },
  {
   "cell_type": "code",
   "execution_count": 30,
   "id": "83a888ba",
   "metadata": {},
   "outputs": [
    {
     "data": {
      "text/plain": [
       "11313"
      ]
     },
     "execution_count": 30,
     "metadata": {},
     "output_type": "execute_result"
    }
   ],
   "source": [
    "len(test_data)"
   ]
  },
  {
   "cell_type": "code",
   "execution_count": 31,
   "id": "41ae3b25",
   "metadata": {},
   "outputs": [
    {
     "name": "stdout",
     "output_type": "stream",
     "text": [
      "incremental top 100 em : 0.774153628568903\n",
      "top 100 em : 0.725095023424379\n",
      "initial 0s : 2497\n"
     ]
    }
   ],
   "source": [
    "check_statistic(test_data)"
   ]
  },
  {
   "cell_type": "code",
   "execution_count": 32,
   "id": "fb37f97f",
   "metadata": {},
   "outputs": [],
   "source": [
    "for id_, instance in enumerate(test_data):\n",
    "    instance['id'] = id_"
   ]
  },
  {
   "cell_type": "code",
   "execution_count": 33,
   "id": "21f2006a",
   "metadata": {},
   "outputs": [
    {
     "name": "stdout",
     "output_type": "stream",
     "text": [
      "/scratch/philhoon-relevance/decoder-classification/TQA-TEST-DPR/ctx100id_test.json\n"
     ]
    }
   ],
   "source": [
    "out_path = '/scratch/philhoon-relevance/decoder-classification/TQA-TEST-DPR'\n",
    "out_file_name = 'ctx100id_test.json'\n",
    "out_file_path = os.path.join(out_path, out_file_name)\n",
    "print(out_file_path)\n",
    "utils.save_json(dev_data, out_file_path)"
   ]
  },
  {
   "cell_type": "code",
   "execution_count": 35,
   "id": "e3dab3f7",
   "metadata": {},
   "outputs": [
    {
     "name": "stdout",
     "output_type": "stream",
     "text": [
      "dict_keys(['question', 'answers', 'target', 'ctxs', 'em_pattern', 'inference', 'conversion', 'cumulative_em', 'id'])\n",
      "8837\n"
     ]
    }
   ],
   "source": [
    "# out_path = '/scratch/philhoon-relevance/decoder-classification/TQA-TEST-DPR'\n",
    "# out_file_name = 'ctx100id_test.json'\n",
    "# out_file_path = os.path.join(out_path, out_file_name)\n",
    "data_ = utils.open_json(out_file_path)\n",
    "print(data_[0].keys())\n",
    "print(len(data_))"
   ]
  },
  {
   "cell_type": "markdown",
   "id": "4b9802c1",
   "metadata": {},
   "source": [
    "## Split by 5-fold"
   ]
  },
  {
   "cell_type": "code",
   "execution_count": 36,
   "id": "9158a1cc",
   "metadata": {},
   "outputs": [],
   "source": [
    "random.seed(42)"
   ]
  },
  {
   "cell_type": "code",
   "execution_count": 37,
   "id": "7ba69c51",
   "metadata": {},
   "outputs": [
    {
     "name": "stdout",
     "output_type": "stream",
     "text": [
      "8837\n"
     ]
    }
   ],
   "source": [
    "in_path = '/scratch/philhoon-relevance/decoder-classification/TQA-DEV-DPR'\n",
    "in_file_name = 'ctx100id_dev.json'\n",
    "in_file_path = os.path.join(in_path, in_file_name)\n",
    "data_id = utils.open_json(in_file_path)\n",
    "print(len(data_id))"
   ]
  },
  {
   "cell_type": "code",
   "execution_count": 38,
   "id": "ef1d5b3c",
   "metadata": {},
   "outputs": [],
   "source": [
    "kf = KFold(n_splits=5, random_state = 42, shuffle = True)"
   ]
  },
  {
   "cell_type": "code",
   "execution_count": 39,
   "id": "3db41a76",
   "metadata": {},
   "outputs": [
    {
     "data": {
      "text/plain": [
       "5"
      ]
     },
     "execution_count": 39,
     "metadata": {},
     "output_type": "execute_result"
    }
   ],
   "source": [
    "kf.get_n_splits(data_id)"
   ]
  },
  {
   "cell_type": "code",
   "execution_count": 40,
   "id": "f616f44d",
   "metadata": {},
   "outputs": [],
   "source": [
    "output_path = '/scratch/philhoon-relevance/decoder-classification/TQA-DEV-DPR/5-fold'"
   ]
  },
  {
   "cell_type": "code",
   "execution_count": 41,
   "id": "237ccde8",
   "metadata": {},
   "outputs": [
    {
     "name": "stdout",
     "output_type": "stream",
     "text": [
      "train_path : /scratch/philhoon-relevance/decoder-classification/TQA-DEV-DPR/5-fold/1/ctx100id_split_train_1.json\n",
      "dev_path : /scratch/philhoon-relevance/decoder-classification/TQA-DEV-DPR/5-fold/1/ctx100id_split_dev_1.json\n",
      "Fold 0:\n",
      "  Train: index=[ 1  2  3  4  5  6  7  9 10 11]\n",
      "  Test:  index=[   0    8   14 ... 8830 8835 8836]\n",
      "size of train : 7069\n",
      "size of dev : 1768\n",
      "train_path : /scratch/philhoon-relevance/decoder-classification/TQA-DEV-DPR/5-fold/2/ctx100id_split_train_2.json\n",
      "dev_path : /scratch/philhoon-relevance/decoder-classification/TQA-DEV-DPR/5-fold/2/ctx100id_split_dev_2.json\n",
      "Fold 1:\n",
      "  Train: index=[0 1 2 3 4 5 6 7 8 9]\n",
      "  Test:  index=[  15   26   29 ... 8820 8828 8832]\n",
      "size of train : 7069\n",
      "size of dev : 1768\n",
      "train_path : /scratch/philhoon-relevance/decoder-classification/TQA-DEV-DPR/5-fold/3/ctx100id_split_train_3.json\n",
      "dev_path : /scratch/philhoon-relevance/decoder-classification/TQA-DEV-DPR/5-fold/3/ctx100id_split_dev_3.json\n",
      "Fold 2:\n",
      "  Train: index=[ 0  1  2  3  4  5  7  8  9 10]\n",
      "  Test:  index=[   6   12   24 ... 8829 8831 8833]\n",
      "size of train : 7070\n",
      "size of dev : 1767\n",
      "train_path : /scratch/philhoon-relevance/decoder-classification/TQA-DEV-DPR/5-fold/4/ctx100id_split_train_4.json\n",
      "dev_path : /scratch/philhoon-relevance/decoder-classification/TQA-DEV-DPR/5-fold/4/ctx100id_split_dev_4.json\n",
      "Fold 3:\n",
      "  Train: index=[ 0  2  3  4  5  6  8  9 10 12]\n",
      "  Test:  index=[   1    7   11 ... 8825 8827 8834]\n",
      "size of train : 7070\n",
      "size of dev : 1767\n",
      "train_path : /scratch/philhoon-relevance/decoder-classification/TQA-DEV-DPR/5-fold/5/ctx100id_split_train_5.json\n",
      "dev_path : /scratch/philhoon-relevance/decoder-classification/TQA-DEV-DPR/5-fold/5/ctx100id_split_dev_5.json\n",
      "Fold 4:\n",
      "  Train: index=[ 0  1  6  7  8 11 12 13 14 15]\n",
      "  Test:  index=[   2    3    4 ... 8819 8822 8824]\n",
      "size of train : 7070\n",
      "size of dev : 1767\n"
     ]
    }
   ],
   "source": [
    "for i, (train_index, test_index) in enumerate(kf.split(data_id)):\n",
    "    output_path_i = output_path + f'/{i+1}'\n",
    "    os.makedirs(output_path_i, exist_ok = True)\n",
    "    \n",
    "    train_file_name = f'ctx100id_split_train_{i+1}.json'\n",
    "    test_file_name = f'ctx100id_split_dev_{i+1}.json'\n",
    "    \n",
    "    train_path = os.path.join(output_path_i, train_file_name)\n",
    "    test_path = os.path.join(output_path_i, test_file_name)\n",
    "    \n",
    "\n",
    "\n",
    "    print(f'train_path : {train_path}')\n",
    "    print(f'dev_path : {test_path}')\n",
    "    print(f\"Fold {i}:\")\n",
    "    print(f\"  Train: index={train_index[:10]}\")\n",
    "    print(f\"  Test:  index={test_index}\")\n",
    "    train_split = [data_id[j] for j in train_index]\n",
    "    test_split = [data_id[j] for j in test_index]\n",
    "    print(f'size of train : {len(train_split)}')\n",
    "    print(f'size of dev : {len(test_split)}')\n",
    "    \n",
    "    utils.save_json(train_split, train_path)\n",
    "    utils.save_json(test_split, test_path)"
   ]
  },
  {
   "cell_type": "code",
   "execution_count": null,
   "id": "7545425e",
   "metadata": {},
   "outputs": [],
   "source": []
  },
  {
   "cell_type": "code",
   "execution_count": null,
   "id": "9b2b1fac",
   "metadata": {},
   "outputs": [],
   "source": []
  },
  {
   "cell_type": "code",
   "execution_count": null,
   "id": "24ed44cf",
   "metadata": {},
   "outputs": [],
   "source": []
  },
  {
   "cell_type": "code",
   "execution_count": null,
   "id": "29a977f4",
   "metadata": {},
   "outputs": [],
   "source": []
  },
  {
   "cell_type": "code",
   "execution_count": null,
   "id": "60d3fe40",
   "metadata": {},
   "outputs": [],
   "source": []
  },
  {
   "cell_type": "code",
   "execution_count": null,
   "id": "b58e619c",
   "metadata": {},
   "outputs": [],
   "source": []
  },
  {
   "cell_type": "code",
   "execution_count": null,
   "id": "374cfc36",
   "metadata": {},
   "outputs": [],
   "source": []
  },
  {
   "cell_type": "code",
   "execution_count": null,
   "id": "a1b5f2c5",
   "metadata": {},
   "outputs": [],
   "source": []
  },
  {
   "cell_type": "markdown",
   "id": "8440322b",
   "metadata": {},
   "source": [
    "# Converting each data into binary dataset\n",
    "- For each split -> binary"
   ]
  },
  {
   "cell_type": "markdown",
   "id": "ac25177f",
   "metadata": {},
   "source": [
    "## input \n",
    "### input file \n",
    "    : incremental inference result file\n",
    "    : for need to split dataset since after transforming to binary dataset cannot track.\n",
    "    \n",
    "### inputformat \n",
    "    : list w/ dictionary elements\n",
    "    \n",
    "### keys\n",
    "    'id': str : id of question for tracking\n",
    "    'question': str : query \n",
    "    'answers' : list  : answers   \n",
    "    'ctxs' : list w/ dictionary elements : top-100 ctx retrieved from retrieval : \n",
    "    'em_pattern': str : EM of each inference @k  \n",
    "    'inference' : list : inference of each inference @k \n",
    "    'conversion' : str : existence of 10 pattern 1 if exits\n",
    "    'cumulative_em' : str : existence of answer in incremental inferencing "
   ]
  },
  {
   "cell_type": "markdown",
   "id": "b09ea2f7",
   "metadata": {},
   "source": [
    "## Output\n",
    "    - there should be option for undecisive 0s (initial consecutive zeros)\n",
    "    \n",
    "### output  file \n",
    "    : list w/ question and ctx pair as dictionary format \n",
    "    \n",
    "### output  format \n",
    "```python\n",
    "[  \n",
    "   {  \n",
    "       'id: str,\n",
    "       'question' : str,\n",
    "       'ctx' : {  \n",
    "           'id' : str,  \n",
    "           'text' : str,  \n",
    "           'title' : str  \n",
    "       }  \n",
    "       'em' : str\n",
    "   }  \n",
    "]  \n",
    "```"
   ]
  },
  {
   "cell_type": "code",
   "execution_count": null,
   "id": "a1495c1d",
   "metadata": {
    "scrolled": false
   },
   "outputs": [],
   "source": [
    "def convert_incremental_to_binary(data, option_exclude_zeros):    \n",
    "    check = 0\n",
    "    output = []\n",
    "    for instance in data:\n",
    "        id_ = instance['id']\n",
    "        query = instance['question']\n",
    "        em_pattern = instance['em_pattern']\n",
    "        answers = instance['answers']\n",
    "        num_undecisive = len(em_pattern) - len(em_pattern.lstrip('0'))\n",
    "        cumulative_em = instance['cumulative_em']\n",
    "        ctxs = instance['ctxs']\n",
    "\n",
    "        if num_undecisive > 0 and cumulative_em == '1' and option_exclude_zeros:\n",
    "            check += 1\n",
    "            for ctx, em in zip(ctxs[num_undecisive:], em_pattern[num_undecisive:]):\n",
    "                template = {\n",
    "                    'id' : id_,\n",
    "                    'question' : query,\n",
    "                    'ctx' : ctx,\n",
    "                    'em' : em\n",
    "                }\n",
    "                output.append(template)\n",
    "        else:\n",
    "            for ctx, em in zip(ctxs, em_pattern):\n",
    "                template = {\n",
    "                    'id' : id_,\n",
    "                    'question' : query,\n",
    "                    'ctx' : ctx,\n",
    "                    'em' : em\n",
    "                }\n",
    "                output.append(template)\n",
    "    return output, check"
   ]
  },
  {
   "cell_type": "code",
   "execution_count": null,
   "id": "740e3815",
   "metadata": {},
   "outputs": [],
   "source": [
    "# output_wout, check_1 = convert_incremental_to_binary(test_data, option_exclude_zeros = True)"
   ]
  },
  {
   "cell_type": "code",
   "execution_count": null,
   "id": "82fe05a6",
   "metadata": {},
   "outputs": [],
   "source": [
    "# output_with, check_2 = convert_incremental_to_binary(test_data, option_exclude_zeros = False)"
   ]
  },
  {
   "cell_type": "code",
   "execution_count": null,
   "id": "1e835c50",
   "metadata": {},
   "outputs": [],
   "source": [
    "k = 5\n",
    "in_path = '/data/philhoon-relevance/binary-classification/NQ-DEV-DPR/5-fold'\n",
    "option_exclude_zeros = True"
   ]
  },
  {
   "cell_type": "code",
   "execution_count": null,
   "id": "8831aaca",
   "metadata": {},
   "outputs": [],
   "source": [
    "for i in range(1, k+1):\n",
    "    train_file = f'{i}/ctx100id_split_train_{i}.json'\n",
    "    dev_file = f'{i}/ctx100id_split_dev_{i}.json'\n",
    "    \n",
    "    train_path = os.path.join(in_path, train_file)\n",
    "    dev_path = os.path.join(in_path, dev_file)\n",
    "    \n",
    "    train_data = utils.open_json(train_path)\n",
    "    dev_data = utils.open_json(dev_path)\n",
    "    \n",
    "    if option_exclude_zeros:\n",
    "        out_path = f'/data/philhoon-relevance/binary-classification/NQ-DEV-DPR/5-fold/{i}/binary_data'\n",
    "        \n",
    "        train_wout, _ = convert_incremental_to_binary(train_data, option_exclude_zeros = True)\n",
    "        dev_wout, _ = convert_incremental_to_binary(dev_data, option_exclude_zeros = True)\n",
    "        \n",
    "        train_out_file = f'binary_ex_ctx100id_split_train_{i}.json'\n",
    "        dev_out_file = f'binary_ex_ctx100id_split_dev_{i}.json'\n",
    "        \n",
    "        train_output_path = os.path.join(out_path, train_out_file)\n",
    "        dev_output_path = os.path.join(out_path, dev_out_file)\n",
    "        \n",
    "        utils.save_json(train_wout, train_output_path)\n",
    "        utils.save_json(dev_wout, dev_output_path)\n",
    "        print(f'train_output_path : \\n{train_output_path}')\n",
    "        print(f'dev_output_path : \\n{dev_output_path}')\n",
    "    else:\n",
    "        out_path = f'/data/philhoon-relevance/binary-classification/NQ-DEV-DPR/5-fold/{i}/binary_data'\n",
    "        \n",
    "        train_wout, _ = convert_incremental_to_binary(train_data, option_exclude_zeros = False)\n",
    "        dev_wout, _ = convert_incremental_to_binary(dev_data, option_exclude_zeros = False)\n",
    "        \n",
    "        train_out_file = f'binary_in_ctx100id_split_train_{i}.json'\n",
    "        dev_out_file = f'binary_in_ctx100id_split_dev_{i}.json'\n",
    "        \n",
    "        train_output_path = os.path.join(out_path, train_out_file)\n",
    "        dev_output_path = os.path.join(out_path, dev_out_file)\n",
    "        \n",
    "        utils.save_json(train_wout, train_output_path)\n",
    "        utils.save_json(dev_wout, dev_output_path)\n",
    "        print(f'train_output_path : \\n{train_output_path}')\n",
    "        print(f'dev_output_path : \\n{dev_output_path}')\n",
    "        "
   ]
  },
  {
   "cell_type": "code",
   "execution_count": null,
   "id": "f1a3ffc9",
   "metadata": {},
   "outputs": [],
   "source": [
    "test_train = '/data/philhoon-relevance/binary-classification/NQ-DEV-DPR/5-fold/1/binary_data/binary_ex_ctx100id_split_train_1.json'"
   ]
  },
  {
   "cell_type": "code",
   "execution_count": null,
   "id": "bc0bc23a",
   "metadata": {},
   "outputs": [],
   "source": [
    "test_dev = '/data/philhoon-relevance/binary-classification/NQ-DEV-DPR/5-fold/1/binary_data/binary_ex_ctx100id_split_dev_1.json'"
   ]
  },
  {
   "cell_type": "code",
   "execution_count": null,
   "id": "8fc266da",
   "metadata": {},
   "outputs": [],
   "source": [
    "train_1 = utils.open_json(test_train)"
   ]
  },
  {
   "cell_type": "code",
   "execution_count": null,
   "id": "9c69d9bd",
   "metadata": {},
   "outputs": [],
   "source": [
    "dev_1 = utils.open_json(test_dev)"
   ]
  },
  {
   "cell_type": "code",
   "execution_count": null,
   "id": "0d577173",
   "metadata": {},
   "outputs": [],
   "source": [
    "print(len(train_1))\n",
    "pprint(train_1[0])"
   ]
  },
  {
   "cell_type": "code",
   "execution_count": null,
   "id": "4dbdca98",
   "metadata": {},
   "outputs": [],
   "source": [
    "print(len(dev_1))\n",
    "pprint(dev_1[0])"
   ]
  },
  {
   "cell_type": "code",
   "execution_count": null,
   "id": "2acd6d51",
   "metadata": {},
   "outputs": [],
   "source": [
    "test_id_lst = []\n",
    "for instance in train_1:\n",
    "    test_id_lst.append(instance['id'])\n",
    "print(len(list(set(test_id_lst))))"
   ]
  },
  {
   "cell_type": "code",
   "execution_count": null,
   "id": "aa0f8180",
   "metadata": {},
   "outputs": [],
   "source": [
    "dev_id_lst = []\n",
    "for instance in dev_1:\n",
    "    dev_id_lst.append(instance['id'])\n",
    "print(len(list(set(dev_id_lst))))"
   ]
  },
  {
   "cell_type": "code",
   "execution_count": null,
   "id": "bba37124",
   "metadata": {},
   "outputs": [],
   "source": [
    "cnt_dict = {\n",
    "    '0' : 0,\n",
    "    '1' : 0\n",
    "}\n",
    "for instance in train_1:\n",
    "    cnt_dict[instance['em']] += 1 "
   ]
  },
  {
   "cell_type": "code",
   "execution_count": null,
   "id": "e08e11e2",
   "metadata": {},
   "outputs": [],
   "source": [
    "cnt_dict"
   ]
  },
  {
   "cell_type": "code",
   "execution_count": null,
   "id": "288175e8",
   "metadata": {},
   "outputs": [],
   "source": [
    "dev_cnt_dict = {\n",
    "    '0' : 0,\n",
    "    '1' : 0\n",
    "}\n",
    "for instance in dev_1:\n",
    "    dev_cnt_dict[instance['em']] += 1 "
   ]
  },
  {
   "cell_type": "code",
   "execution_count": null,
   "id": "33ada454",
   "metadata": {},
   "outputs": [],
   "source": [
    "dev_cnt_dict"
   ]
  },
  {
   "cell_type": "code",
   "execution_count": null,
   "id": "a9e0a801",
   "metadata": {},
   "outputs": [],
   "source": [
    "total = cnt_dict['0'] + cnt_dict['1']\n",
    "ratio_0 = cnt_dict['0']/total\n",
    "ratio_1 = cnt_dict['1']/total"
   ]
  },
  {
   "cell_type": "code",
   "execution_count": null,
   "id": "55d57757",
   "metadata": {},
   "outputs": [],
   "source": [
    "print(f'total instance : {total}')\n",
    "print(f'0 ratio : {ratio_0}')\n",
    "print(f'1 ratio : {ratio_1}')"
   ]
  },
  {
   "cell_type": "code",
   "execution_count": null,
   "id": "68209689",
   "metadata": {},
   "outputs": [],
   "source": [
    "dev_total = dev_cnt_dict['0'] + dev_cnt_dict['1']\n",
    "dev_ratio_0 = dev_cnt_dict['0']/dev_total\n",
    "dev_ratio_1 = dev_cnt_dict['1']/dev_total"
   ]
  },
  {
   "cell_type": "code",
   "execution_count": null,
   "id": "5818ebb1",
   "metadata": {},
   "outputs": [],
   "source": [
    "print(f'total instance : {dev_total}')\n",
    "print(f'0 ratio : {dev_ratio_0}')\n",
    "print(f'1 ratio : {dev_ratio_1}')"
   ]
  },
  {
   "cell_type": "code",
   "execution_count": null,
   "id": "dc10afa3",
   "metadata": {},
   "outputs": [],
   "source": []
  },
  {
   "cell_type": "code",
   "execution_count": null,
   "id": "a0f18605",
   "metadata": {},
   "outputs": [],
   "source": []
  },
  {
   "cell_type": "markdown",
   "id": "8ffaecda",
   "metadata": {},
   "source": [
    "# Converting Test data into binary dataset\n",
    "- Here include zero"
   ]
  },
  {
   "cell_type": "code",
   "execution_count": null,
   "id": "dffec406",
   "metadata": {},
   "outputs": [],
   "source": [
    "input_path = '/data/philhoon-relevance/binary-classification/NQ-TEST-DPR'\n",
    "input_file = 'ctx100id.json'\n",
    "output_file = 'binary_in_ctx100id_test.json'"
   ]
  },
  {
   "cell_type": "code",
   "execution_count": null,
   "id": "dde465dc",
   "metadata": {},
   "outputs": [],
   "source": [
    "input_file_path = os.path.join(input_path, input_file)\n",
    "data_in = utils.open_json(input_file_path)"
   ]
  },
  {
   "cell_type": "code",
   "execution_count": null,
   "id": "eda0c911",
   "metadata": {},
   "outputs": [],
   "source": [
    "test_output_path = os.path.join(input_path, output_file)\n",
    "print(test_output_path)"
   ]
  },
  {
   "cell_type": "code",
   "execution_count": null,
   "id": "269d41a0",
   "metadata": {},
   "outputs": [],
   "source": [
    "test_with, _ = convert_incremental_to_binary(data_in, option_exclude_zeros = False)\n",
    "utils.save_json(test_with, test_output_path)"
   ]
  },
  {
   "cell_type": "code",
   "execution_count": null,
   "id": "0976b3f6",
   "metadata": {},
   "outputs": [],
   "source": [
    "check_test = utils.open_json(test_output_path)"
   ]
  },
  {
   "cell_type": "code",
   "execution_count": null,
   "id": "a03e6b61",
   "metadata": {},
   "outputs": [],
   "source": [
    "print(len(check_test))\n",
    "pprint(check_test[0])\n"
   ]
  },
  {
   "cell_type": "code",
   "execution_count": null,
   "id": "82f9db3d",
   "metadata": {},
   "outputs": [],
   "source": [
    "test_id_lst = []\n",
    "for instance in check_test:\n",
    "    test_id_lst.append(instance['id'])\n",
    "print(len(list(set(test_id_lst))))\n"
   ]
  },
  {
   "cell_type": "code",
   "execution_count": null,
   "id": "20fc9d91",
   "metadata": {},
   "outputs": [],
   "source": []
  }
 ],
 "metadata": {
  "kernelspec": {
   "display_name": "relevance-kilt",
   "language": "python",
   "name": "relevance-kilt"
  },
  "language_info": {
   "codemirror_mode": {
    "name": "ipython",
    "version": 3
   },
   "file_extension": ".py",
   "mimetype": "text/x-python",
   "name": "python",
   "nbconvert_exporter": "python",
   "pygments_lexer": "ipython3",
   "version": "3.8.13"
  }
 },
 "nbformat": 4,
 "nbformat_minor": 5
}
