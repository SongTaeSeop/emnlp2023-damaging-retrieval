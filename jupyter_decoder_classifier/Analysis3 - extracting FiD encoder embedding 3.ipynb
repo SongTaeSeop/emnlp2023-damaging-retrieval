{
 "cells": [
  {
   "cell_type": "markdown",
   "id": "b9908fbb",
   "metadata": {},
   "source": [
    "# Analysis3 - extracting FiD encoder embedding 3"
   ]
  },
  {
   "cell_type": "markdown",
   "id": "02dce998",
   "metadata": {},
   "source": [
    "## Checking Embedding instance preserved\n",
    "## Converting pickle -> pickle per instance\n",
    "## Converting files -> jsonl"
   ]
  },
  {
   "cell_type": "markdown",
   "id": "3c9e7c9d",
   "metadata": {},
   "source": [
    "### Checking Embedding instance preserved"
   ]
  },
  {
   "cell_type": "code",
   "execution_count": 1,
   "id": "9146a9e7",
   "metadata": {},
   "outputs": [],
   "source": [
    "from pathlib import Path\n",
    "from util import utils\n",
    "import pickle\n",
    "from tqdm import tqdm"
   ]
  },
  {
   "cell_type": "markdown",
   "id": "55010c92",
   "metadata": {},
   "source": [
    "#### TQA SPLIT1 train/dev + TQA test"
   ]
  },
  {
   "cell_type": "code",
   "execution_count": 2,
   "id": "9052fe21",
   "metadata": {},
   "outputs": [],
   "source": [
    "def checking_ins(embedding_path, json_path, data_type):\n",
    "    path = Path(embedding_path)\n",
    "    json_data = utils.open_json(json_path)\n",
    "    \n",
    "    print(f'json file : {json_path}')\n",
    "    print(f'total instances in json : {len(json_data)}')\n",
    "    \n",
    "    if not(data_type == 'train' or data_type == 'dev' or data_type == 'test'):\n",
    "        raise TypeError('data_type should be train or dev or test')\n",
    "    \n",
    "    files = list(path.glob(f'ctx100id_embedding_{data_type}*'))\n",
    "    \n",
    "    cnt = 0\n",
    "    for file in tqdm(files):\n",
    "        with open(file, 'rb') as f:\n",
    "            data = pickle.load(f)\n",
    "        cnt += len(data)\n",
    "    \n",
    "    print(f'embedding path : {embedding_path}')\n",
    "    print(f'total instances in embedding : {cnt}')\n",
    "    print(f'Checking train instances are matched : {cnt==len(json_data)}')"
   ]
  },
  {
   "cell_type": "code",
   "execution_count": 3,
   "id": "64902b40",
   "metadata": {},
   "outputs": [],
   "source": [
    "tqa_split1_embedding = '/scratch/philhoon-relevance/decoder-classification/TQA-DEV-DPR/5-fold/1/embedding'"
   ]
  },
  {
   "cell_type": "code",
   "execution_count": 4,
   "id": "f103d1ce",
   "metadata": {},
   "outputs": [],
   "source": [
    "tqa_split1_train_json = '/scratch/philhoon-relevance/decoder-classification/TQA-DEV-DPR/5-fold/1/ctx100id_split_train_1.json'\n",
    "tqa_split1_dev_json = '/scratch/philhoon-relevance/decoder-classification/TQA-DEV-DPR/5-fold/1/ctx100id_split_dev_1.json'"
   ]
  },
  {
   "cell_type": "code",
   "execution_count": 9,
   "id": "a17f1ee5",
   "metadata": {},
   "outputs": [
    {
     "name": "stdout",
     "output_type": "stream",
     "text": [
      "json file : /scratch/philhoon-relevance/decoder-classification/TQA-DEV-DPR/5-fold/1/ctx100id_split_dev_1.json\n",
      "total instances in json : 1768\n"
     ]
    },
    {
     "name": "stderr",
     "output_type": "stream",
     "text": [
      "100%|██████████| 18/18 [02:19<00:00,  7.74s/it]\n"
     ]
    },
    {
     "name": "stdout",
     "output_type": "stream",
     "text": [
      "embedding path : /scratch/philhoon-relevance/decoder-classification/TQA-DEV-DPR/5-fold/1/embedding\n",
      "total instances in embedding : 1768\n",
      "Checking train instances are matched : True\n"
     ]
    }
   ],
   "source": [
    "checking_ins(tqa_split1_embedding, tqa_split1_dev_json, 'dev')"
   ]
  },
  {
   "cell_type": "code",
   "execution_count": 5,
   "id": "b5918522",
   "metadata": {},
   "outputs": [
    {
     "name": "stdout",
     "output_type": "stream",
     "text": [
      "json file : /scratch/philhoon-relevance/decoder-classification/TQA-DEV-DPR/5-fold/1/ctx100id_split_train_1.json\n",
      "total instances in json : 7069\n"
     ]
    },
    {
     "name": "stderr",
     "output_type": "stream",
     "text": [
      "100%|██████████| 71/71 [08:34<00:00,  7.25s/it]\n"
     ]
    },
    {
     "name": "stdout",
     "output_type": "stream",
     "text": [
      "embedding path : /scratch/philhoon-relevance/decoder-classification/TQA-DEV-DPR/5-fold/1/embedding\n",
      "total instances in embedding : 7069\n",
      "Checking train instances are matched : True\n"
     ]
    }
   ],
   "source": [
    "checking_ins(tqa_split1_embedding, tqa_split1_train_json, 'train')"
   ]
  },
  {
   "cell_type": "code",
   "execution_count": 6,
   "id": "e1411fd2",
   "metadata": {},
   "outputs": [],
   "source": [
    "tqa_test_embedding = '/scratch/philhoon-relevance/decoder-classification/TQA-TEST-DPR/embedding/'\n",
    "tqa_test_json = '/scratch/philhoon-relevance/decoder-classification/TQA-TEST-DPR/ctx100id_test.json'"
   ]
  },
  {
   "cell_type": "code",
   "execution_count": 8,
   "id": "5eb78555",
   "metadata": {},
   "outputs": [
    {
     "name": "stdout",
     "output_type": "stream",
     "text": [
      "json file : /scratch/philhoon-relevance/decoder-classification/TQA-TEST-DPR/ctx100id_test.json\n",
      "total instances in json : 8837\n"
     ]
    },
    {
     "name": "stderr",
     "output_type": "stream",
     "text": [
      "100%|██████████| 89/89 [11:36<00:00,  7.82s/it]\n"
     ]
    },
    {
     "name": "stdout",
     "output_type": "stream",
     "text": [
      "embedding path : /scratch/philhoon-relevance/decoder-classification/TQA-TEST-DPR/embedding/\n",
      "total instances in embedding : 8837\n",
      "Checking train instances are matched : True\n"
     ]
    }
   ],
   "source": [
    "checking_ins(tqa_test_embedding, tqa_test_json, 'test')"
   ]
  },
  {
   "cell_type": "markdown",
   "id": "5ff75625",
   "metadata": {},
   "source": [
    "#### NQ SPLIT1 train/dev + NQ test"
   ]
  },
  {
   "cell_type": "code",
   "execution_count": 10,
   "id": "6e9969f2",
   "metadata": {},
   "outputs": [],
   "source": [
    "nq_split1_embedding = '/scratch/philhoon-relevance/decoder-classification/NQ-DEV-DPR/5-fold/1/embedding'"
   ]
  },
  {
   "cell_type": "code",
   "execution_count": 11,
   "id": "8b50ff9f",
   "metadata": {},
   "outputs": [],
   "source": [
    "nq_split1_train_json = '/scratch/philhoon-relevance/decoder-classification/NQ-DEV-DPR/5-fold/1/ctx100id_split_train_1.json'\n",
    "nq_split1_dev_json = '/scratch/philhoon-relevance/decoder-classification/NQ-DEV-DPR/5-fold/1/ctx100id_split_dev_1.json'"
   ]
  },
  {
   "cell_type": "code",
   "execution_count": 12,
   "id": "a2a41559",
   "metadata": {},
   "outputs": [
    {
     "name": "stdout",
     "output_type": "stream",
     "text": [
      "json file : /scratch/philhoon-relevance/decoder-classification/NQ-DEV-DPR/5-fold/1/ctx100id_split_dev_1.json\n",
      "total instances in json : 1752\n"
     ]
    },
    {
     "name": "stderr",
     "output_type": "stream",
     "text": [
      "100%|██████████| 18/18 [02:37<00:00,  8.75s/it]\n"
     ]
    },
    {
     "name": "stdout",
     "output_type": "stream",
     "text": [
      "embedding path : /scratch/philhoon-relevance/decoder-classification/NQ-DEV-DPR/5-fold/1/embedding\n",
      "total instances in embedding : 1752\n",
      "Checking train instances are matched : True\n"
     ]
    }
   ],
   "source": [
    "checking_ins(nq_split1_embedding, nq_split1_dev_json, 'dev')"
   ]
  },
  {
   "cell_type": "code",
   "execution_count": 13,
   "id": "3dcb05ed",
   "metadata": {},
   "outputs": [
    {
     "name": "stdout",
     "output_type": "stream",
     "text": [
      "json file : /scratch/philhoon-relevance/decoder-classification/NQ-DEV-DPR/5-fold/1/ctx100id_split_train_1.json\n",
      "total instances in json : 7005\n"
     ]
    },
    {
     "name": "stderr",
     "output_type": "stream",
     "text": [
      "100%|██████████| 71/71 [11:52<00:00, 10.04s/it]\n"
     ]
    },
    {
     "name": "stdout",
     "output_type": "stream",
     "text": [
      "embedding path : /scratch/philhoon-relevance/decoder-classification/NQ-DEV-DPR/5-fold/1/embedding\n",
      "total instances in embedding : 7005\n",
      "Checking train instances are matched : True\n"
     ]
    }
   ],
   "source": [
    "checking_ins(nq_split1_embedding, nq_split1_train_json, 'train')"
   ]
  },
  {
   "cell_type": "code",
   "execution_count": 14,
   "id": "caa51bd0",
   "metadata": {},
   "outputs": [],
   "source": [
    "nq_test_embedding = '/scratch/philhoon-relevance/decoder-classification/NQ-TEST-DPR/embedding'\n",
    "nq_test_json = '/scratch/philhoon-relevance/binary-classification/NQ-TEST-DPR/ctx100id.json'"
   ]
  },
  {
   "cell_type": "code",
   "execution_count": 15,
   "id": "92334bae",
   "metadata": {
    "scrolled": true
   },
   "outputs": [
    {
     "name": "stdout",
     "output_type": "stream",
     "text": [
      "json file : /scratch/philhoon-relevance/binary-classification/NQ-TEST-DPR/ctx100id.json\n",
      "total instances in json : 3610\n"
     ]
    },
    {
     "name": "stderr",
     "output_type": "stream",
     "text": [
      "100%|██████████| 37/37 [05:46<00:00,  9.38s/it]\n"
     ]
    },
    {
     "name": "stdout",
     "output_type": "stream",
     "text": [
      "embedding path : /scratch/philhoon-relevance/decoder-classification/NQ-TEST-DPR/embedding\n",
      "total instances in embedding : 3610\n",
      "Checking train instances are matched : True\n"
     ]
    }
   ],
   "source": [
    "checking_ins(nq_test_embedding, nq_test_json, 'test')"
   ]
  },
  {
   "cell_type": "code",
   "execution_count": null,
   "id": "d0fe08c0",
   "metadata": {},
   "outputs": [],
   "source": []
  },
  {
   "cell_type": "code",
   "execution_count": null,
   "id": "2bca0fae",
   "metadata": {},
   "outputs": [],
   "source": []
  },
  {
   "cell_type": "code",
   "execution_count": null,
   "id": "0b7c0107",
   "metadata": {},
   "outputs": [],
   "source": []
  },
  {
   "cell_type": "code",
   "execution_count": null,
   "id": "4789f68b",
   "metadata": {},
   "outputs": [],
   "source": []
  },
  {
   "cell_type": "code",
   "execution_count": null,
   "id": "5dbf2d13",
   "metadata": {},
   "outputs": [],
   "source": []
  },
  {
   "cell_type": "markdown",
   "id": "ce3a124f",
   "metadata": {},
   "source": [
    "### Converting pickle -> pickle per instance\n",
    "    - file checking"
   ]
  },
  {
   "cell_type": "code",
   "execution_count": null,
   "id": "0589e1db",
   "metadata": {},
   "outputs": [],
   "source": [
    "import pickle\n",
    "from pathlib import Path"
   ]
  },
  {
   "cell_type": "code",
   "execution_count": null,
   "id": "8a6b4ab5",
   "metadata": {},
   "outputs": [],
   "source": [
    "test_file = '/scratch/philhoon-relevance/decoder-classification/NQ-DEV-DPR/5-fold/1/ctx100id_embedding_train_1_1.pickle'"
   ]
  },
  {
   "cell_type": "code",
   "execution_count": null,
   "id": "37c89480",
   "metadata": {},
   "outputs": [],
   "source": [
    "output_path = '/scratch/philhoon-relevance/decoder-classification/NQ-DEV-DPR/5-fold/1/train'"
   ]
  },
  {
   "cell_type": "code",
   "execution_count": null,
   "id": "26403d94",
   "metadata": {},
   "outputs": [],
   "source": [
    "with open(test_file, 'rb') as f: \n",
    "    data = pickle.load(f)"
   ]
  },
  {
   "cell_type": "code",
   "execution_count": null,
   "id": "50cc9f0a",
   "metadata": {},
   "outputs": [],
   "source": [
    "print(data[0].keys())\n",
    "len(data)\n",
    "print(data[0]['id'])\n",
    "print(data[0]['embedding'].shape)"
   ]
  },
  {
   "cell_type": "markdown",
   "id": "b3549b66",
   "metadata": {},
   "source": [
    "### Converting pickle -> pickle per instance\n",
    "    - Converting Pickle by instance\n",
    "    - train_pickle -> train directory\n",
    "        '/scratch/philhoon-relevance/decoder-classification/NQ-DEV-DPR/5-fold/1/train'\n",
    "    - dev_pickle -> dev directory\n",
    "    - output_file_name : {id}.pickle\n",
    "        '/scratch/philhoon-relevance/decoder-classification/NQ-DEV-DPR/5-fold/1/dev"
   ]
  },
  {
   "cell_type": "code",
   "execution_count": null,
   "id": "abe51e48",
   "metadata": {},
   "outputs": [],
   "source": [
    "file_type = 'train'\n",
    "output_path = f'/scratch/philhoon-relevance/decoder-classification/NQ-DEV-DPR/5-fold/1/{file_type}'\n",
    "path_name = '/scratch/philhoon-relevance/decoder-classification/NQ-DEV-DPR/5-fold/1'\n",
    "file_filter = f'ctx100id_embedding_{file_type}_*.pickle'"
   ]
  },
  {
   "cell_type": "code",
   "execution_count": null,
   "id": "aded31e9",
   "metadata": {},
   "outputs": [],
   "source": [
    "print(output_path)\n",
    "print(path_name)\n",
    "print(file_filter)"
   ]
  },
  {
   "cell_type": "code",
   "execution_count": null,
   "id": "3dcba3dc",
   "metadata": {},
   "outputs": [],
   "source": [
    "def save_by_instance(data, output_path):\n",
    "    for instance in data:\n",
    "        temp_dict = {}\n",
    "        output_file_name = f\"{instance['id']}\"\n",
    "        output_file = output_path + '/' + output_file_name + '.pickle'\n",
    "\n",
    "        temp_dict['id'] = instance['id']\n",
    "        temp_dict['embedding'] = instance['embedding']\n",
    "\n",
    "        with open(output_file, 'wb') as f:\n",
    "            pickle.dump(temp_dict, f)\n",
    "    "
   ]
  },
  {
   "cell_type": "code",
   "execution_count": null,
   "id": "0ba35056",
   "metadata": {},
   "outputs": [],
   "source": [
    "path = Path(path_name)"
   ]
  },
  {
   "cell_type": "code",
   "execution_count": null,
   "id": "da800cd8",
   "metadata": {},
   "outputs": [],
   "source": [
    "file_lst = path.glob(file_filter)"
   ]
  },
  {
   "cell_type": "code",
   "execution_count": null,
   "id": "29ce3477",
   "metadata": {},
   "outputs": [],
   "source": [
    "cnt = 0\n",
    "for file in file_lst:\n",
    "    print(file)\n",
    "    with open(file, 'rb') as f:\n",
    "        data = pickle.load(f)\n",
    "        \n",
    "    save_by_instance(data, output_path)\n",
    "    cnt += 1\n",
    "\n",
    "print(cnt)"
   ]
  },
  {
   "cell_type": "code",
   "execution_count": null,
   "id": "e0590973",
   "metadata": {},
   "outputs": [],
   "source": []
  },
  {
   "cell_type": "code",
   "execution_count": null,
   "id": "f92e55a7",
   "metadata": {},
   "outputs": [],
   "source": []
  },
  {
   "cell_type": "code",
   "execution_count": null,
   "id": "8175900d",
   "metadata": {},
   "outputs": [],
   "source": []
  },
  {
   "cell_type": "code",
   "execution_count": null,
   "id": "2f2c33cf",
   "metadata": {},
   "outputs": [],
   "source": []
  },
  {
   "cell_type": "code",
   "execution_count": null,
   "id": "0aa41f29",
   "metadata": {},
   "outputs": [],
   "source": []
  },
  {
   "cell_type": "markdown",
   "id": "e0a2fd08",
   "metadata": {},
   "source": [
    "## File Check"
   ]
  },
  {
   "cell_type": "code",
   "execution_count": null,
   "id": "fe61fffa",
   "metadata": {},
   "outputs": [],
   "source": [
    "test_output_file = '/scratch/philhoon-relevance/decoder-classification/NQ-DEV-DPR/5-fold/1/train/98.pickle'"
   ]
  },
  {
   "cell_type": "code",
   "execution_count": null,
   "id": "4c8378f1",
   "metadata": {},
   "outputs": [],
   "source": [
    "with open(test_output_file, 'rb') as f: \n",
    "    file_check = pickle.load(f)"
   ]
  },
  {
   "cell_type": "code",
   "execution_count": null,
   "id": "d9108640",
   "metadata": {},
   "outputs": [],
   "source": [
    "test_output_path = '/scratch/philhoon-relevance/decoder-classification/NQ-DEV-DPR/5-fold/1/train'"
   ]
  },
  {
   "cell_type": "code",
   "execution_count": null,
   "id": "b5b23179",
   "metadata": {},
   "outputs": [],
   "source": [
    "path = Path(test_output_path)"
   ]
  },
  {
   "cell_type": "code",
   "execution_count": null,
   "id": "47d40984",
   "metadata": {},
   "outputs": [],
   "source": [
    "file_lst = path.glob('*')"
   ]
  },
  {
   "cell_type": "code",
   "execution_count": null,
   "id": "58bfdef2",
   "metadata": {},
   "outputs": [],
   "source": [
    "for file in file_lst:\n",
    "#     print(file)\n",
    "    with open(file, 'rb') as f: \n",
    "        file_check = pickle.load(f)\n",
    "    print(file_check)"
   ]
  },
  {
   "cell_type": "code",
   "execution_count": null,
   "id": "f7d7edcc",
   "metadata": {},
   "outputs": [],
   "source": []
  },
  {
   "cell_type": "code",
   "execution_count": null,
   "id": "04262143",
   "metadata": {},
   "outputs": [],
   "source": [
    "parser = argparse.ArgumentParser(description = 'Merging pickles to one jsonl file')\n",
    "\n",
    "parser.add_argument('--path', type = str, \n",
    "                    default = '/scratch/philhoon-relevance/decoder-classification/NQ-DEV-DPR/5-fold/1')\n",
    "parser.add_argument('--ft', type = str, \n",
    "                    default = 'train')\n",
    "parser.add_argument('--output', type = str, \n",
    "                    default = '/scratch/philhoon-relevance/decoder-classification/NQ-DEV-DPR/5-fold/1')\n",
    "\n",
    "args = parser.parse_args([])"
   ]
  },
  {
   "cell_type": "code",
   "execution_count": null,
   "id": "a6094e73",
   "metadata": {},
   "outputs": [],
   "source": []
  },
  {
   "cell_type": "code",
   "execution_count": null,
   "id": "c2173e87",
   "metadata": {},
   "outputs": [],
   "source": []
  },
  {
   "cell_type": "code",
   "execution_count": null,
   "id": "d68227db",
   "metadata": {},
   "outputs": [],
   "source": []
  },
  {
   "cell_type": "code",
   "execution_count": null,
   "id": "02f708f7",
   "metadata": {},
   "outputs": [],
   "source": []
  },
  {
   "cell_type": "markdown",
   "id": "b6a3262a",
   "metadata": {},
   "source": [
    "## Testing Files"
   ]
  },
  {
   "cell_type": "code",
   "execution_count": null,
   "id": "87b2ef9d",
   "metadata": {},
   "outputs": [],
   "source": [
    "from pprint import pprint\n",
    "import pickle\n",
    "from pathlib import Path\n",
    "import argparse\n",
    "import json\n",
    "import numpy as np\n",
    "import gc\n",
    "import torch\n",
    "\n",
    "from torch.utils.data import Dataset, ConcatDataset"
   ]
  },
  {
   "cell_type": "code",
   "execution_count": null,
   "id": "63408d0a",
   "metadata": {},
   "outputs": [],
   "source": [
    "parser = argparse.ArgumentParser(description = 'Merging pickles to one jsonl file')\n",
    "\n",
    "parser.add_argument('--path', type = str, \n",
    "                    default = '/scratch/philhoon-relevance/decoder-classification/NQ-DEV-DPR/5-fold/1')\n",
    "parser.add_argument('--ft', type = str, \n",
    "                    default = 'train')\n",
    "parser.add_argument('--output', type = str, \n",
    "                    default = '/scratch/philhoon-relevance/decoder-classification/NQ-DEV-DPR/5-fold/1')\n",
    "\n",
    "args = parser.parse_args([])"
   ]
  },
  {
   "cell_type": "code",
   "execution_count": null,
   "id": "f9bbb505",
   "metadata": {},
   "outputs": [],
   "source": [
    "pprint(vars(args))"
   ]
  },
  {
   "cell_type": "code",
   "execution_count": null,
   "id": "1432688e",
   "metadata": {},
   "outputs": [],
   "source": [
    "path = Path(args.path)"
   ]
  },
  {
   "cell_type": "code",
   "execution_count": null,
   "id": "a83e58ef",
   "metadata": {},
   "outputs": [],
   "source": [
    "file_type = f'*{args.ft}*'\n",
    "file_lst = path.glob(file_type)"
   ]
  },
  {
   "cell_type": "code",
   "execution_count": null,
   "id": "867d3e68",
   "metadata": {},
   "outputs": [],
   "source": [
    "target_files = [file for file in file_lst]"
   ]
  },
  {
   "cell_type": "code",
   "execution_count": null,
   "id": "28406fab",
   "metadata": {},
   "outputs": [],
   "source": []
  },
  {
   "cell_type": "code",
   "execution_count": null,
   "id": "6527cebf",
   "metadata": {},
   "outputs": [],
   "source": [
    "class CustomDataSet(Dataset):\n",
    "    def __init__(self, file_name):\n",
    "        self.file_name = file_name\n",
    "        with open(self.file_name, 'rb') as f: \n",
    "            self.data = pickle.load(f)\n",
    "        \n",
    "    def __len__(self):\n",
    "        return len(self.data)\n",
    "\n",
    "    def __getitem__(self, idx):\n",
    "        id_ = self.data[idx]['id']\n",
    "        embedding = self.data[idx]['embedding']\n",
    "\n",
    "        return id_, embedding"
   ]
  },
  {
   "cell_type": "code",
   "execution_count": null,
   "id": "0ba18158",
   "metadata": {},
   "outputs": [],
   "source": [
    "input_file = '/scratch/philhoon-relevance/decoder-classification/NQ-DEV-DPR/5-fold/1/ctx100id_embedding_train_1_1.pickle'\n",
    "dataset = CustomDataSet(input_file)"
   ]
  },
  {
   "cell_type": "code",
   "execution_count": null,
   "id": "22837601",
   "metadata": {},
   "outputs": [],
   "source": [
    "testing_file = torch.load(input_file)"
   ]
  },
  {
   "cell_type": "code",
   "execution_count": null,
   "id": "90cbdfde",
   "metadata": {},
   "outputs": [],
   "source": [
    "# output_file = f'ctx100id_embedding_{args.ft}.jsonl'"
   ]
  },
  {
   "cell_type": "code",
   "execution_count": null,
   "id": "270ab1c6",
   "metadata": {},
   "outputs": [],
   "source": [
    "# output_path = args.path + '/' +output_file\n",
    "# print(output_path)"
   ]
  },
  {
   "cell_type": "code",
   "execution_count": null,
   "id": "75b74d94",
   "metadata": {},
   "outputs": [],
   "source": [
    "# f = open(output_path, 'a', encoding=\"utf-8\")"
   ]
  },
  {
   "cell_type": "code",
   "execution_count": null,
   "id": "5ab61d06",
   "metadata": {},
   "outputs": [],
   "source": [
    "# input_path = '/scratch/philhoon-relevance/decoder-classification/NQ-DEV-DPR/5-fold/1/ctx100id_embedding_train_1_1.pickle'\n",
    "\n",
    "# with open(input_path, 'rb') as f:\n",
    "#     data = pickle.load(f)"
   ]
  },
  {
   "cell_type": "code",
   "execution_count": null,
   "id": "3b7a5476",
   "metadata": {},
   "outputs": [],
   "source": [
    "# print(type(data))"
   ]
  },
  {
   "cell_type": "code",
   "execution_count": null,
   "id": "ad988706",
   "metadata": {},
   "outputs": [],
   "source": [
    "# data[3]"
   ]
  },
  {
   "cell_type": "code",
   "execution_count": null,
   "id": "4c0755ef",
   "metadata": {},
   "outputs": [],
   "source": [
    "dev = 'dev'\n",
    "file_type = f'*{dev}*'\n",
    "file_lst = path.glob(file_type)"
   ]
  },
  {
   "cell_type": "code",
   "execution_count": null,
   "id": "2e2ef977",
   "metadata": {},
   "outputs": [],
   "source": [
    "dev_target_files = [file for file in file_lst]"
   ]
  },
  {
   "cell_type": "code",
   "execution_count": null,
   "id": "3cd1de50",
   "metadata": {},
   "outputs": [],
   "source": [
    "dev_data = []\n",
    "cnt = 0\n",
    "for file in dev_target_files:\n",
    "    cnt += 1\n",
    "    print(file)\n",
    "    with open(file, 'rb') as f:\n",
    "        data = pickle.load(f)\n",
    "    dev_data.extend(data)\n",
    "    del data\n",
    "    gc.collect()\n",
    "    print(cnt)\n",
    "#     if cnt == 10:\n",
    "#         break"
   ]
  },
  {
   "cell_type": "code",
   "execution_count": null,
   "id": "67f5fc72",
   "metadata": {
    "scrolled": false
   },
   "outputs": [],
   "source": [
    "total_data = []\n",
    "cnt = 0\n",
    "for file in target_files:\n",
    "    cnt += 1\n",
    "    print(file)\n",
    "    with open(file, 'rb') as f:\n",
    "        data = pickle.load(f)\n",
    "    total_data.extend(data)\n",
    "    del data\n",
    "    gc.collect()\n",
    "    print(cnt)\n",
    "#     if cnt == 10:\n",
    "#         break"
   ]
  },
  {
   "cell_type": "code",
   "execution_count": null,
   "id": "2d892ffa",
   "metadata": {},
   "outputs": [],
   "source": [
    "len(total_data)"
   ]
  },
  {
   "cell_type": "code",
   "execution_count": null,
   "id": "873e2b6b",
   "metadata": {},
   "outputs": [],
   "source": [
    "total_data[0]"
   ]
  },
  {
   "cell_type": "code",
   "execution_count": null,
   "id": "ffcaaf46",
   "metadata": {},
   "outputs": [],
   "source": [
    "d = []\n",
    "k = [1,2,3]\n",
    "d.extend(k)\n",
    "print(k)"
   ]
  },
  {
   "cell_type": "code",
   "execution_count": null,
   "id": "57657c52",
   "metadata": {},
   "outputs": [],
   "source": []
  },
  {
   "cell_type": "code",
   "execution_count": null,
   "id": "86486253",
   "metadata": {},
   "outputs": [],
   "source": []
  },
  {
   "cell_type": "code",
   "execution_count": null,
   "id": "6ed35ef9",
   "metadata": {
    "scrolled": false
   },
   "outputs": [],
   "source": [
    "for instance in data:\n",
    "    print(type(instance))\n",
    "    print(instance['embedding'])\n",
    "#     np_array = instance['embedding'].numpy()\n",
    "#     print('------')\n",
    "#     print(np_array)\n",
    "#     array_lst = np_array.tolist()\n",
    "#     print('------')\n",
    "#     print(array_lst)\n",
    "    print('------')\n",
    "    print('------')\n",
    "    py_array = instance['embedding'].tolist()\n",
    "    print(py_array)\n",
    "    break\n",
    "#     json.dump(instance, f, ensure_ascii=False)\n",
    "#     f.write(\"\\n\")"
   ]
  },
  {
   "cell_type": "code",
   "execution_count": null,
   "id": "9a263a34",
   "metadata": {},
   "outputs": [],
   "source": [
    "print(len(py_array))"
   ]
  },
  {
   "cell_type": "code",
   "execution_count": null,
   "id": "ad24bc64",
   "metadata": {},
   "outputs": [],
   "source": [
    "\n",
    "import json\n",
    "from collections import OrderedDict\n",
    "\n",
    "my_data = OrderedDict()\n",
    "my_data[\"id\"] = \"this is id\"\n",
    "my_data[\"title\"] = \"this is title\"\n",
    "with open(\"target_data.jsonl\", \"w\", encoding=\"utf-8\") as f:\n",
    "    json.dump(my_data, f, ensure_ascii=False) # ensure_ascii로 한글이 깨지지 않게 저장\n",
    "    f.write(\"\\n\") # json을 쓰는 것과 같지만, 여러 줄을 써주는 것이므로 \"\\n\"을 붙여준다.\n",
    "    "
   ]
  },
  {
   "cell_type": "code",
   "execution_count": null,
   "id": "312714ff",
   "metadata": {},
   "outputs": [],
   "source": []
  },
  {
   "cell_type": "code",
   "execution_count": null,
   "id": "b8efb274",
   "metadata": {},
   "outputs": [],
   "source": []
  },
  {
   "cell_type": "code",
   "execution_count": null,
   "id": "33f8683f",
   "metadata": {},
   "outputs": [],
   "source": [
    "f.close()"
   ]
  },
  {
   "cell_type": "code",
   "execution_count": null,
   "id": "b156934f",
   "metadata": {},
   "outputs": [],
   "source": [
    "for files in target_files:\n",
    "    print(files)"
   ]
  },
  {
   "cell_type": "code",
   "execution_count": null,
   "id": "8b828387",
   "metadata": {},
   "outputs": [],
   "source": [
    "print(output_file)"
   ]
  },
  {
   "cell_type": "code",
   "execution_count": null,
   "id": "d9bba52f",
   "metadata": {},
   "outputs": [],
   "source": []
  },
  {
   "cell_type": "code",
   "execution_count": null,
   "id": "3bb33f78",
   "metadata": {},
   "outputs": [],
   "source": [
    "\n",
    "with open(input_path, 'rb') as f:\n",
    "    data = pickle.load(f)"
   ]
  },
  {
   "cell_type": "code",
   "execution_count": null,
   "id": "c3b15b8c",
   "metadata": {},
   "outputs": [],
   "source": [
    "len(data)"
   ]
  },
  {
   "cell_type": "code",
   "execution_count": null,
   "id": "e2acb66a",
   "metadata": {},
   "outputs": [],
   "source": [
    "\n",
    "for i in data:\n",
    "    print(type(i))\n",
    "    "
   ]
  },
  {
   "cell_type": "code",
   "execution_count": null,
   "id": "b67b35d8",
   "metadata": {},
   "outputs": [],
   "source": [
    "data[7]['embedding'].shape"
   ]
  },
  {
   "cell_type": "code",
   "execution_count": null,
   "id": "1fe0b8e7",
   "metadata": {},
   "outputs": [],
   "source": [
    "\n",
    "import json\n",
    "from collections import OrderedDict\n",
    "\n",
    "my_data = OrderedDict()\n",
    "my_data[\"id\"] = \"this is id\"\n",
    "my_data[\"title\"] = \"this is title\"\n",
    "with open(\"target_data.jsonl\", \"w\", encoding=\"utf-8\") as f:\n",
    "    json.dump(my_data, f, ensure_ascii=False) # ensure_ascii로 한글이 깨지지 않게 저장\n",
    "    f.write(\"\\n\") # json을 쓰는 것과 같지만, 여러 줄을 써주는 것이므로 \"\\n\"을 붙여준다.\n",
    "    "
   ]
  },
  {
   "cell_type": "code",
   "execution_count": null,
   "id": "62e3f6c7",
   "metadata": {},
   "outputs": [],
   "source": []
  },
  {
   "cell_type": "code",
   "execution_count": null,
   "id": "aa2fc622",
   "metadata": {},
   "outputs": [],
   "source": []
  },
  {
   "cell_type": "code",
   "execution_count": null,
   "id": "2495870e",
   "metadata": {},
   "outputs": [],
   "source": []
  }
 ],
 "metadata": {
  "kernelspec": {
   "display_name": "relevance-kilt",
   "language": "python",
   "name": "relevance-kilt"
  },
  "language_info": {
   "codemirror_mode": {
    "name": "ipython",
    "version": 3
   },
   "file_extension": ".py",
   "mimetype": "text/x-python",
   "name": "python",
   "nbconvert_exporter": "python",
   "pygments_lexer": "ipython3",
   "version": "3.8.13"
  }
 },
 "nbformat": 4,
 "nbformat_minor": 5
}
