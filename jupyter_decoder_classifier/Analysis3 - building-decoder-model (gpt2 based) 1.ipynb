{
 "cells": [
  {
   "cell_type": "markdown",
   "id": "b9908fbb",
   "metadata": {},
   "source": [
    "# Analysis3 - building-decoder-model (gpt2 based) 1\n",
    "- GPT2 based model\n",
    "- embeddings are from FiD-encoder "
   ]
  },
  {
   "cell_type": "code",
   "execution_count": 1,
   "id": "938b3cca",
   "metadata": {},
   "outputs": [],
   "source": [
    "from pprint import pprint\n",
    "import os"
   ]
  },
  {
   "cell_type": "code",
   "execution_count": 2,
   "id": "97948bf6",
   "metadata": {},
   "outputs": [],
   "source": [
    "os.environ['CUDA_VISIBLE_DEVICES']='1'"
   ]
  },
  {
   "cell_type": "code",
   "execution_count": 35,
   "id": "ca7c74db",
   "metadata": {},
   "outputs": [],
   "source": [
    "from accelerate import Accelerator\n",
    "from accelerate.logging import get_logger\n",
    "from accelerate.utils import set_seed\n",
    "import heapq\n",
    "import pickle\n",
    "import pathlib\n",
    "import shutil\n",
    "from sklearn.utils.class_weight import compute_class_weight\n",
    "import pandas as pd\n",
    "from sklearn.metrics import accuracy_score\n",
    "from sklearn.metrics import precision_score\n",
    "from sklearn.metrics import recall_score\n",
    "from sklearn.metrics import f1_score\n",
    "\n",
    "from pprint import pprint\n",
    "from tqdm.auto import tqdm\n",
    "from src.data import (\n",
    "    BinaryCustomDatasetShuffle,\n",
    "    BinarySentenceDataset,\n",
    "    BinaryCustomDatasetDecisiveBinaryGold,\n",
    "    BinaryCustomDatasetPredictionShuffle,\n",
    "    SentenceClassificationDataset,\n",
    "    EncoderSentenceClassificationDataset\n",
    ")\n",
    "\n",
    "from functools import partial\n",
    "import json\n",
    "import math\n",
    "import os\n",
    "import logging\n",
    "import sys\n",
    "import evaluate\n",
    "from util import utils\n",
    "\n",
    "import transformers\n",
    "import torch\n",
    "import numpy as np\n",
    "import random\n",
    "from torch import nn\n",
    "from torch.utils.data import Dataset, DataLoader\n",
    "from transformers import (\n",
    "    AutoModelForSequenceClassification,\n",
    "    AutoModel,\n",
    "    AutoConfig,\n",
    "    AutoTokenizer,\n",
    "    DataCollatorWithPadding,\n",
    "    EvalPrediction,\n",
    "    HfArgumentParser,\n",
    "    set_seed,\n",
    "    get_scheduler,\n",
    ")\n",
    "import torch\n",
    "import torch.nn as nn\n",
    "from torch.nn import functional as F\n",
    "from dataclasses import dataclass, asdict\n",
    "from util.arguments import ModelArguments, DataTrainingArguments, CustomTrainingArguments\n",
    "from torch.nn import BCEWithLogitsLoss, CrossEntropyLoss, MSELoss\n",
    "from sentence_transformers import SentenceTransformer\n",
    "from FiD.src.model import FiDT5\n",
    "from src.model import SentenceLSTM\n",
    "\n",
    "NEW_LINE = \"\\n\"\n",
    "os.environ[\"TOKENIZERS_PARALLELISM\"] = \"false\"\n",
    "\n",
    "DATASET_MAPPING = {\n",
    "    \"BinaryCustomDatasetShuffle\" : BinaryCustomDatasetShuffle,\n",
    "    \"BinarySentenceDataset\" : BinarySentenceDataset,\n",
    "    'BinaryCustomDatasetDecisiveBinaryGold' : BinaryCustomDatasetDecisiveBinaryGold,\n",
    "    'BinaryCustomDatasetPredictionShuffle' : BinaryCustomDatasetPredictionShuffle,\n",
    "    'SentenceClassificationDataset' : SentenceClassificationDataset,\n",
    "    'EncoderSentenceClassificationDataset' : EncoderSentenceClassificationDataset\n",
    "}\n",
    "EMBEDDING_ARC_MAPPING = {\n",
    "    \"SentenceTransformer\" : SentenceTransformer,\n",
    "     \"FiDT5\" : FiDT5\n",
    "}"
   ]
  },
  {
   "cell_type": "code",
   "execution_count": 4,
   "id": "9d26d8c4",
   "metadata": {},
   "outputs": [],
   "source": [
    "def new_gelu(x):\n",
    "    \"\"\"\n",
    "    Implementation of the GELU activation function currently in Google BERT repo (identical to OpenAI GPT).\n",
    "    Reference: Gaussian Error Linear Units (GELU) paper: https://arxiv.org/abs/1606.08415\n",
    "    \"\"\"\n",
    "    return 0.5 * x * (1.0 + torch.tanh(math.sqrt(2.0 / math.pi) * (x + 0.044715 * torch.pow(x, 3.0))))"
   ]
  },
  {
   "cell_type": "code",
   "execution_count": 5,
   "id": "81c69523",
   "metadata": {},
   "outputs": [],
   "source": [
    "class LayerNorm(nn.Module):\n",
    "    \"\"\" LayerNorm but with an optional bias. PyTorch doesn't support simply bias=False \"\"\"\n",
    "\n",
    "    def __init__(self, ndim, bias):\n",
    "        super().__init__()\n",
    "        self.weight = nn.Parameter(torch.ones(ndim))\n",
    "        self.bias = nn.Parameter(torch.zeros(ndim)) if bias else None\n",
    "\n",
    "    def forward(self, input):\n",
    "        return F.layer_norm(input, self.weight.shape, self.weight, self.bias, 1e-5)"
   ]
  },
  {
   "cell_type": "code",
   "execution_count": 6,
   "id": "9f147a2a",
   "metadata": {},
   "outputs": [],
   "source": [
    "class CausalSelfAttention(nn.Module):\n",
    "\n",
    "    def __init__(self, config):\n",
    "        super().__init__()\n",
    "        assert config.n_embd % config.n_head == 0\n",
    "        # key, query, value projections for all heads, but in a batch\n",
    "        self.c_attn = nn.Linear(config.n_embd, 3 * config.n_embd, bias=config.bias)\n",
    "        # output projection\n",
    "        self.c_proj = nn.Linear(config.n_embd, config.n_embd, bias=config.bias)\n",
    "        # regularization\n",
    "        self.attn_dropout = nn.Dropout(config.dropout)\n",
    "        self.resid_dropout = nn.Dropout(config.dropout)\n",
    "        self.n_head = config.n_head\n",
    "        self.n_embd = config.n_embd\n",
    "        self.dropout = config.dropout\n",
    "        # flash attention make GPU go brrrrr but support is only in PyTorch nightly and still a bit scary\n",
    "        self.flash = hasattr(torch.nn.functional, 'scaled_dot_product_attention') and self.dropout == 0.0\n",
    "        if not self.flash:\n",
    "            print(\"WARNING: using slow attention. Flash Attention atm needs PyTorch nightly and dropout=0.0\")\n",
    "            # causal mask to ensure that attention is only applied to the left in the input sequence\n",
    "            self.register_buffer(\"bias\", torch.tril(torch.ones(config.block_size, config.block_size))\n",
    "                                        .view(1, 1, config.block_size, config.block_size))\n",
    "\n",
    "    def forward(self, x):\n",
    "        B, T, C = x.size() # batch size, sequence length, embedding dimensionality (n_embd)\n",
    "\n",
    "        # calculate query, key, values for all heads in batch and move head forward to be the batch dim\n",
    "        q, k ,v  = self.c_attn(x).split(self.n_embd, dim=2)\n",
    "        k = k.view(B, T, self.n_head, C // self.n_head).transpose(1, 2) # (B, nh, T, hs)\n",
    "        q = q.view(B, T, self.n_head, C // self.n_head).transpose(1, 2) # (B, nh, T, hs)\n",
    "        v = v.view(B, T, self.n_head, C // self.n_head).transpose(1, 2) # (B, nh, T, hs)\n",
    "\n",
    "        # causal self-attention; Self-attend: (B, nh, T, hs) x (B, nh, hs, T) -> (B, nh, T, T)\n",
    "        if self.flash:\n",
    "            # efficient attention using Flash Attention CUDA kernels\n",
    "            y = torch.nn.functional.scaled_dot_product_attention(q, k, v, attn_mask=None, dropout_p=self.dropout, is_causal=True)\n",
    "        else:\n",
    "            # manual implementation of attention\n",
    "            att = (q @ k.transpose(-2, -1)) * (1.0 / math.sqrt(k.size(-1)))\n",
    "            att = att.masked_fill(self.bias[:,:,:T,:T] == 0, float('-inf'))\n",
    "            att = F.softmax(att, dim=-1)\n",
    "            att = self.attn_dropout(att)\n",
    "            y = att @ v # (B, nh, T, T) x (B, nh, T, hs) -> (B, nh, T, hs)\n",
    "        y = y.transpose(1, 2).contiguous().view(B, T, C) # re-assemble all head outputs side by side\n",
    "\n",
    "        # output projection\n",
    "        y = self.resid_dropout(self.c_proj(y))\n",
    "        return y"
   ]
  },
  {
   "cell_type": "code",
   "execution_count": 7,
   "id": "aedb2e86",
   "metadata": {},
   "outputs": [],
   "source": [
    "class MLP(nn.Module):\n",
    "\n",
    "    def __init__(self, config):\n",
    "        super().__init__()\n",
    "        self.c_fc    = nn.Linear(config.n_embd, 4 * config.n_embd, bias=config.bias)\n",
    "        self.c_proj  = nn.Linear(4 * config.n_embd, config.n_embd, bias=config.bias)\n",
    "        self.dropout = nn.Dropout(config.dropout)\n",
    "\n",
    "    def forward(self, x):\n",
    "        x = self.c_fc(x)\n",
    "        x = new_gelu(x)\n",
    "        x = self.c_proj(x)\n",
    "        x = self.dropout(x)\n",
    "        return x"
   ]
  },
  {
   "cell_type": "code",
   "execution_count": 8,
   "id": "8d1a032b",
   "metadata": {},
   "outputs": [],
   "source": [
    "class Block(nn.Module):\n",
    "\n",
    "    def __init__(self, config):\n",
    "        super().__init__()\n",
    "        self.ln_1 = LayerNorm(config.n_embd, bias=config.bias)\n",
    "        self.attn = CausalSelfAttention(config)\n",
    "        self.ln_2 = LayerNorm(config.n_embd, bias=config.bias)\n",
    "        self.mlp = MLP(config)\n",
    "\n",
    "    def forward(self, x):\n",
    "        x = x + self.attn(self.ln_1(x))\n",
    "        x = x + self.mlp(self.ln_2(x))\n",
    "        return x"
   ]
  },
  {
   "cell_type": "code",
   "execution_count": 9,
   "id": "9681713f",
   "metadata": {},
   "outputs": [],
   "source": [
    "# @dataclass\n",
    "# class GPTConfig:\n",
    "#     block_size: int = 200 # block_size = max_token_length, switch to 100 (# of passages)\n",
    "#     num_labels: int = 2\n",
    "#     # vocab_size: int = 50304 GPT-2 vocab_size of 50257, padded up to nearest multiple of 64 for efficiency\n",
    "#     # won't be used in here\n",
    "#     n_layer: int = 12\n",
    "#     n_head: int = 12\n",
    "#     n_embd: int = 1024 # original is 768, switch to 1024\n",
    "#     dropout: float = 0.0\n",
    "#     bias: bool = True # True: bias in Linears and LayerNorms, like GPT-2. False: a bit better and faster"
   ]
  },
  {
   "cell_type": "markdown",
   "id": "040a20ed",
   "metadata": {},
   "source": [
    "# Damaging Passage Module - Decoder Based (GPT-2)"
   ]
  },
  {
   "cell_type": "code",
   "execution_count": 10,
   "id": "c03e0ce7",
   "metadata": {},
   "outputs": [],
   "source": [
    "### Size of models\n",
    "# config_args = {\n",
    "#             'gpt2':         dict(n_layer=12, n_head=12, n_embd=768),  # 124M params\n",
    "#             'gpt2-medium':  dict(n_layer=24, n_head=16, n_embd=1024), # 350M params\n",
    "#             'gpt2-large':   dict(n_layer=36, n_head=20, n_embd=1280), # 774M params\n",
    "#             'gpt2-xl':      dict(n_layer=48, n_head=25, n_embd=1600), # 1558M params\n",
    "#         }[model_type]"
   ]
  },
  {
   "cell_type": "code",
   "execution_count": 11,
   "id": "30dc5ec0",
   "metadata": {},
   "outputs": [],
   "source": [
    "@dataclass\n",
    "class SentenceGPTConfig:\n",
    "    block_size: int = 100 # block_size represents max_token_length, switch to 100 (max_number_passages)\n",
    "    token_length: int = 200 # represents the max_token_length\n",
    "    n_embd: int = 1024 # used to be 768, switch to 1024, switch to FiD encoder embedding \n",
    "    num_labels: int = 2 # labels will be either 0 or 1 (EM_pattern)\n",
    "    n_layer: int = 12\n",
    "    n_head: int = 16 # n_embd % n_head == 0\n",
    "    dropout: float = 0.0\n",
    "    bias: bool = True # True: bias in Linears and LayerNorms, like GPT-2. False: a bit better and faster"
   ]
  },
  {
   "cell_type": "code",
   "execution_count": 12,
   "id": "8f108fd4",
   "metadata": {},
   "outputs": [],
   "source": [
    "# Implemented\n",
    "class SentenceGPT(nn.Module):\n",
    "    \n",
    "    # Compatibility Checked\n",
    "    def __init__(self, config):\n",
    "        super().__init__()\n",
    "        # No need for vocab_size\n",
    "        # assert config.vocab_size is not None\n",
    "        assert config.block_size is not None\n",
    "        self.config = config\n",
    "        \n",
    "        # No NEED for token & positional encoding weights\n",
    "        # n_embd, block_size, n_embde\n",
    "        self.transformer = nn.ModuleDict(dict(\n",
    "            # wte = nn.Embedding(config.vocab_size, config.n_embd),\n",
    "            # wpe = nn.Embedding(config.block_size, config.n_embd),\n",
    "            embedding_layer = nn.Linear(config.token_length*config.n_embd, config.n_embd, bias = config.bias),\n",
    "            drop = nn.Dropout(config.dropout),\n",
    "            h = nn.ModuleList([Block(config) for _ in range(config.n_layer)]),\n",
    "            ln_f = LayerNorm(config.n_embd, bias=config.bias),\n",
    "        ))\n",
    "        \n",
    "        # Instead using vocab_size use self.num_labels\n",
    "        # self.lm_head = nn.Linear(config.n_embd, config.vocab_size, bias=False)\n",
    "        self.lm_head = nn.Linear(config.n_embd, config.num_labels, bias=False)\n",
    "\n",
    "        # with weight tying when using torch.compile() some warnings get generated:\n",
    "        # \"UserWarning: functional_call was passed multiple values for tied weights.\n",
    "        # This behavior is deprecated and will be an error in future versions\"\n",
    "        # not 100% sure what this is, so far seems to be harmless. TODO investigate\n",
    "        \n",
    "        # No need for token embedding weights\n",
    "        # self.transformer.wte.weight = self.lm_head.weight # https://paperswithcode.com/method/weight-tying\n",
    "\n",
    "        # init all weights\n",
    "        self.apply(self._init_weights)\n",
    "        # apply special scaled init to the residual projections, per GPT-2 paper\n",
    "        for pn, p in self.named_parameters():\n",
    "            if pn.endswith('c_proj.weight'):\n",
    "                torch.nn.init.normal_(p, mean=0.0, std=0.02/math.sqrt(2 * config.n_layer))\n",
    "\n",
    "        # report number of parameters\n",
    "        print(\"number of parameters: %.2fM\" % (self.get_num_params()/1e6,))\n",
    "    \n",
    "    # Compatibility Checked\n",
    "    def get_num_params(self, non_embedding=True):\n",
    "        \"\"\"\n",
    "        Return the number of parameters in the model.\n",
    "        For non-embedding count (default), the position embeddings get subtracted.\n",
    "        The token embeddings would too, except due to the parameter sharing these\n",
    "        params are actually used as weights in the final layer, so we include them.\n",
    "        \"\"\"\n",
    "        n_params = sum(p.numel() for p in self.parameters())\n",
    "        \n",
    "        # No need for positional embedding weights\n",
    "        # if non_embedding:\n",
    "        #    n_params -= self.transformer.wpe.weight.numel()\n",
    "        return n_params\n",
    "    \n",
    "    # Compatibility Checked\n",
    "    def _init_weights(self, module):\n",
    "        if isinstance(module, nn.Linear):\n",
    "            torch.nn.init.normal_(module.weight, mean=0.0, std=0.02)\n",
    "            if module.bias is not None:\n",
    "                torch.nn.init.zeros_(module.bias)\n",
    "        elif isinstance(module, nn.Embedding):\n",
    "            torch.nn.init.normal_(module.weight, mean=0.0, std=0.02)\n",
    "    \n",
    "    # Compatibility Checked\n",
    "    def forward(self, idx, targets=None):\n",
    "        # Here idx is embedding\n",
    "        # idx -> batch, block_size(num_passages), token_length, n_embd\n",
    "        # device = idx.device\n",
    "        # b, t = idx.size()\n",
    "        # device = idx.device # This is for creating positinal embedding\n",
    "        b, t, _, _ = idx.size() \n",
    "        \n",
    "        assert t <= self.config.block_size, f\"Cannot forward sequence of length {t}, block size is only {self.config.block_size}\"\n",
    "        # No need for tok_emb, pos_emb\n",
    "        # pos = torch.arange(0, t, dtype=torch.long, device=device).unsqueeze(0) # shape (1, t)\n",
    "        # forward the GPT model itself\n",
    "        # tok_emb = self.transformer.wte(idx) # token embeddings of shape (b, t, n_embd)\n",
    "        # pos_emb = self.transformer.wpe(pos) # position embeddings of shape (1, t, n_embd)\n",
    "        # x = self.transformer.drop(tok_emb + pos_emb)\n",
    "        \n",
    "        x = idx.view(b, t, -1)\n",
    "        x = self.transformer.embedding_layer(x)\n",
    "        x = self.transformer.drop(x)\n",
    "    \n",
    "        for block in self.transformer.h:\n",
    "            x = block(x)\n",
    "            \n",
    "        ## output (batch, num_passages, num_labels)\n",
    "        x = self.transformer.ln_f(x)\n",
    "\n",
    "        if targets is not None:\n",
    "            # if we are given some desired targets also calculate the loss\n",
    "            logits = self.lm_head(x)\n",
    "            loss = F.cross_entropy(logits.view(-1, logits.size(-1)), targets.view(-1), ignore_index=-1)\n",
    "        else:\n",
    "            # inference-time mini-optimization: only forward the lm_head on the very last position\n",
    "            # logits = self.lm_head(x[:, [-1], :]) # note: using list [-1] to preserve the time dim\n",
    "            # loss = None\n",
    "            \n",
    "            # inference time: going to foward on every position\n",
    "            logits = self.lm_head(x)\n",
    "            loss = None\n",
    "\n",
    "        return logits, loss\n",
    "    \n",
    "    # No need for Compatibility Check \n",
    "    def crop_block_size(self, block_size):\n",
    "        # model surgery to decrease the block size if necessary\n",
    "        # e.g. we may load the GPT2 pretrained model checkpoint (block size 1024)\n",
    "        # but want to use a smaller block size for some smaller, simpler model\n",
    "        assert block_size <= self.config.block_size\n",
    "        self.config.block_size = block_size\n",
    "        \n",
    "        # No need for position encoding weights\n",
    "        # self.transformer.wpe.weight = nn.Parameter(self.transformer.wpe.weight[:block_size])\n",
    "        for block in self.transformer.h:\n",
    "            block.attn.bias = block.attn.bias[:,:,:block_size,:block_size]\n",
    "    \n",
    "    # No need for Compatibility Check \n",
    "    @classmethod\n",
    "    def from_pretrained(cls, model_type, override_args=None):\n",
    "        assert model_type in {'gpt2', 'gpt2-medium', 'gpt2-large', 'gpt2-xl'}\n",
    "        override_args = override_args or {} # default to empty dict\n",
    "        # only dropout can be overridden see more notes below\n",
    "        assert all(k == 'dropout' for k in override_args)\n",
    "        from transformers import GPT2LMHeadModel\n",
    "        print(\"loading weights from pretrained gpt: %s\" % model_type)\n",
    "\n",
    "        # n_layer, n_head and n_embd are determined from model_type\n",
    "        config_args = {\n",
    "            'gpt2':         dict(n_layer=12, n_head=12, n_embd=768),  # 124M params\n",
    "            'gpt2-medium':  dict(n_layer=24, n_head=16, n_embd=1024), # 350M params\n",
    "            'gpt2-large':   dict(n_layer=36, n_head=20, n_embd=1280), # 774M params\n",
    "            'gpt2-xl':      dict(n_layer=48, n_head=25, n_embd=1600), # 1558M params\n",
    "        }[model_type]\n",
    "        print(\"forcing vocab_size=50257, block_size=1024, bias=True\")\n",
    "        config_args['vocab_size'] = 50257 # always 50257 for GPT model checkpoints\n",
    "        config_args['block_size'] = 1024 # always 1024 for GPT model checkpoints\n",
    "        config_args['bias'] = True # always True for GPT model checkpoints\n",
    "        # we can override the dropout rate, if desired\n",
    "        if 'dropout' in override_args:\n",
    "            print(f\"overriding dropout rate to {override_args['dropout']}\")\n",
    "            config_args['dropout'] = override_args['dropout']\n",
    "        # create a from-scratch initialized minGPT model\n",
    "        config = GPTConfig(**config_args)\n",
    "        model = GPT(config)\n",
    "        sd = model.state_dict()\n",
    "        sd_keys = sd.keys()\n",
    "        sd_keys = [k for k in sd_keys if not k.endswith('.attn.bias')] # discard this mask / buffer, not a param\n",
    "\n",
    "        # init a huggingface/transformers model\n",
    "        model_hf = GPT2LMHeadModel.from_pretrained(model_type)\n",
    "        sd_hf = model_hf.state_dict()\n",
    "\n",
    "        # copy while ensuring all of the parameters are aligned and match in names and shapes\n",
    "        sd_keys_hf = sd_hf.keys()\n",
    "        sd_keys_hf = [k for k in sd_keys_hf if not k.endswith('.attn.masked_bias')] # ignore these, just a buffer\n",
    "        sd_keys_hf = [k for k in sd_keys_hf if not k.endswith('.attn.bias')] # same, just the mask (buffer)\n",
    "        transposed = ['attn.c_attn.weight', 'attn.c_proj.weight', 'mlp.c_fc.weight', 'mlp.c_proj.weight']\n",
    "        # basically the openai checkpoints use a \"Conv1D\" module, but we only want to use a vanilla Linear\n",
    "        # this means that we have to transpose these weights when we import them\n",
    "        assert len(sd_keys_hf) == len(sd_keys), f\"mismatched keys: {len(sd_keys_hf)} != {len(sd_keys)}\"\n",
    "        for k in sd_keys_hf:\n",
    "            if any(k.endswith(w) for w in transposed):\n",
    "                # special treatment for the Conv1D weights we need to transpose\n",
    "                assert sd_hf[k].shape[::-1] == sd[k].shape\n",
    "                with torch.no_grad():\n",
    "                    sd[k].copy_(sd_hf[k].t())\n",
    "            else:\n",
    "                # vanilla copy over the other parameters\n",
    "                assert sd_hf[k].shape == sd[k].shape\n",
    "                with torch.no_grad():\n",
    "                    sd[k].copy_(sd_hf[k])\n",
    "\n",
    "        return model\n",
    "    \n",
    "    # Need for Compatibility Check \n",
    "    def configure_optimizers(self, weight_decay, learning_rate, betas, device_type):\n",
    "        \"\"\"\n",
    "        This long function is unfortunately doing something very simple and is being very defensive:\n",
    "        We are separating out all parameters of the model into two buckets: those that will experience\n",
    "        weight decay for regularization and those that won't (biases, and layernorm/embedding weights).\n",
    "        We are then returning the PyTorch optimizer object.\n",
    "        \"\"\"\n",
    "\n",
    "        # separate out all parameters to those that will and won't experience regularizing weight decay\n",
    "        decay = set()\n",
    "        no_decay = set()\n",
    "        whitelist_weight_modules = (torch.nn.Linear, )\n",
    "        blacklist_weight_modules = (torch.nn.LayerNorm, LayerNorm, torch.nn.Embedding)\n",
    "        for mn, m in self.named_modules():\n",
    "            for pn, p in m.named_parameters():\n",
    "                fpn = '%s.%s' % (mn, pn) if mn else pn # full param name\n",
    "                # random note: because named_modules and named_parameters are recursive\n",
    "                # we will see the same tensors p many many times. but doing it this way\n",
    "                # allows us to know which parent module any tensor p belongs to...\n",
    "                if pn.endswith('bias'):\n",
    "                    # all biases will not be decayed\n",
    "                    no_decay.add(fpn)\n",
    "                elif pn.endswith('weight') and isinstance(m, whitelist_weight_modules):\n",
    "                    # weights of whitelist modules will be weight decayed\n",
    "                    decay.add(fpn)\n",
    "                elif pn.endswith('weight') and isinstance(m, blacklist_weight_modules):\n",
    "                    # weights of blacklist modules will NOT be weight decayed\n",
    "                    no_decay.add(fpn)\n",
    "\n",
    "        # subtle: 'transformer.wte.weight' and 'lm_head.weight' are tied, so they\n",
    "        # will appear in the no_decay and decay sets respectively after the above.\n",
    "        # In addition, because named_parameters() doesn't return duplicates, it\n",
    "        # will only return the first occurence, key'd by 'transformer.wte.weight', below.\n",
    "        # so let's manually remove 'lm_head.weight' from decay set. This will include\n",
    "        # this tensor into optimization via transformer.wte.weight only, and not decayed.\n",
    "        # since we SentenceGPT does not use token embedding...\n",
    "        # decay.remove('lm_head.weight')\n",
    "\n",
    "        # validate that we considered every parameter\n",
    "        param_dict = {pn: p for pn, p in self.named_parameters()}\n",
    "        inter_params = decay & no_decay\n",
    "        union_params = decay | no_decay\n",
    "        assert len(inter_params) == 0, \"parameters %s made it into both decay/no_decay sets!\" % (str(inter_params), )\n",
    "        assert len(param_dict.keys() - union_params) == 0, \"parameters %s were not separated into either decay/no_decay set!\" \\\n",
    "                                                    % (str(param_dict.keys() - union_params), )\n",
    "\n",
    "        # create the pytorch optimizer object\n",
    "        optim_groups = [\n",
    "            {\"params\": [param_dict[pn] for pn in sorted(list(decay))], \"weight_decay\": weight_decay},\n",
    "            {\"params\": [param_dict[pn] for pn in sorted(list(no_decay))], \"weight_decay\": 0.0},\n",
    "        ]\n",
    "        # new PyTorch nightly has a new 'fused' option for AdamW that is much faster\n",
    "        use_fused = (device_type == 'cuda') and ('fused' in inspect.signature(torch.optim.AdamW).parameters)\n",
    "        print(f\"using fused AdamW: {use_fused}\")\n",
    "        extra_args = dict(fused=True) if use_fused else dict()\n",
    "        optimizer = torch.optim.AdamW(optim_groups, lr=learning_rate, betas=betas, **extra_args)\n",
    "\n",
    "        return optimizer\n",
    "\n",
    "    def estimate_mfu(self, fwdbwd_per_iter, dt):\n",
    "        \"\"\" estimate model flops utilization (MFU) in units of A100 bfloat16 peak FLOPS \"\"\"\n",
    "        # first estimate the number of flops we do per iteration.\n",
    "        # see PaLM paper Appendix B as ref: https://arxiv.org/abs/2204.02311\n",
    "        N = self.get_num_params()\n",
    "        cfg = self.config\n",
    "        L, H, Q, T = cfg.n_layer, cfg.n_head, cfg.n_embd//cfg.n_head, cfg.block_size\n",
    "        flops_per_token = 6*N + 12*L*H*Q*T\n",
    "        flops_per_fwdbwd = flops_per_token * T\n",
    "        flops_per_iter = flops_per_fwdbwd * fwdbwd_per_iter\n",
    "        # express our flops throughput as ratio of A100 bfloat16 peak flops\n",
    "        flops_achieved = flops_per_iter * (1.0/dt) # per second\n",
    "        flops_promised = 312e12 # A100 GPU bfloat16 peak flops is 312 TFLOPS\n",
    "        mfu = flops_achieved / flops_promised\n",
    "        return mfu\n",
    "    \n",
    "    # No need for Compatibility Check\n",
    "    # SenetenceGPT won't use generate function -> Ignore\n",
    "    @torch.no_grad()\n",
    "    def generate(self, idx, max_new_tokens, temperature=1.0, top_k=None):\n",
    "        \"\"\"\n",
    "        Take a conditioning sequence of indices idx (LongTensor of shape (b,t)) and complete\n",
    "        the sequence max_new_tokens times, feeding the predictions back into the model each time.\n",
    "        Most likely you'll want to make sure to be in model.eval() mode of operation for this.\n",
    "        \"\"\"\n",
    "        \n",
    "        \n",
    "        for _ in range(max_new_tokens):\n",
    "            # if the sequence context is growing too long we must crop it at block_size\n",
    "            idx_cond = idx if idx.size(1) <= self.config.block_size else idx[:, -self.config.block_size:]\n",
    "            # forward the model to get the logits for the index in the sequence\n",
    "            logits, _ = self(idx_cond)\n",
    "            # pluck the logits at the final step and scale by desired temperature\n",
    "            logits = logits[:, -1, :] / temperature\n",
    "            # optionally crop the logits to only the top k options\n",
    "            if top_k is not None:\n",
    "                v, _ = torch.topk(logits, min(top_k, logits.size(-1)))\n",
    "                logits[logits < v[:, [-1]]] = -float('Inf')\n",
    "            # apply softmax to convert logits to (normalized) probabilities\n",
    "            probs = F.softmax(logits, dim=-1)\n",
    "            # sample from the distribution\n",
    "            idx_next = torch.multinomial(probs, num_samples=1)\n",
    "            # append sampled index to the running sequence and continue\n",
    "            idx = torch.cat((idx, idx_next), dim=1)\n",
    "\n",
    "        return idx\n",
    "    \n",
    "    @torch.no_grad()\n",
    "    def inference(self, idx):\n",
    "        logits, _ = self(idx)\n",
    "        return logits"
   ]
  },
  {
   "cell_type": "markdown",
   "id": "2dd32b69",
   "metadata": {},
   "source": [
    "## Testing W/ parameters"
   ]
  },
  {
   "cell_type": "code",
   "execution_count": null,
   "id": "9f3aa86c",
   "metadata": {},
   "outputs": [],
   "source": [
    "# a = 1024/16\n",
    "# print(a)"
   ]
  },
  {
   "cell_type": "code",
   "execution_count": 22,
   "id": "b053f1d0",
   "metadata": {},
   "outputs": [],
   "source": [
    "n_embd = 1024\n",
    "bias = True\n",
    "# n_head = 16"
   ]
  },
  {
   "cell_type": "code",
   "execution_count": 23,
   "id": "124fa5bc",
   "metadata": {},
   "outputs": [],
   "source": [
    "### The input would be \n",
    "# batch_size, num_psgs, num_input_length, embedding\n",
    "x = torch.randn(3, 100, 200, 1024).float()\n",
    "B, P, LEN, EM = x.size()\n",
    "print(B, P, LEN, EM)\n",
    "x1 = x.view(B, P, -1)\n",
    "print(x1.shape)\n",
    "lin_embd = x1.size(-1)\n",
    "print(lin_embd)\n",
    "embedding_layer = nn.Linear(lin_embd, n_embd, bias = bias)\n",
    "x2 = embedding_layer(x1)\n",
    "# now it becomes : batch_size X num_psgs X embedding\n",
    "x2.shape"
   ]
  },
  {
   "cell_type": "markdown",
   "id": "c02bdbdf",
   "metadata": {},
   "source": [
    "## Testing SentenceGPT instance"
   ]
  },
  {
   "cell_type": "code",
   "execution_count": 160,
   "id": "8f1773e6",
   "metadata": {},
   "outputs": [],
   "source": [
    "# Testing\n",
    "class SentenceGPT_t(nn.Module):\n",
    "\n",
    "    def __init__(self, config):\n",
    "        super().__init__()\n",
    "        # No need for vocab_size\n",
    "        # assert config.vocab_size is not None\n",
    "#         assert config.block_size is not None\n",
    "        self.config = config\n",
    "        \n",
    "        # No NEED for token & positional encoding weights\n",
    "        # n_embd, block_size, n_embde\n",
    "        self.transformer = nn.ModuleDict(dict(\n",
    "            embedding_layer = nn.Linear(config.token_length*config.n_embd, config.n_embd, bias = config.bias),\n",
    "            drop = nn.Dropout(config.dropout),\n",
    "            h = nn.ModuleList([Block(config) for _ in range(config.n_layer)]),\n",
    "            ln_f = LayerNorm(config.n_embd, bias=config.bias),\n",
    "        ))\n",
    "            \n",
    "        \n",
    "        # Instead using vocab_size use self.num_labels\n",
    "        # self.lm_head = nn.Linear(config.n_embd, config.vocab_size, bias=False)\n",
    "        self.lm_head = nn.Linear(config.n_embd, config.num_labels, bias=False)\n",
    "\n",
    "        # with weight tying when using torch.compile() some warnings get generated:\n",
    "        # \"UserWarning: functional_call was passed multiple values for tied weights.\n",
    "        # This behavior is deprecated and will be an error in future versions\"\n",
    "        # not 100% sure what this is, so far seems to be harmless. TODO investigate\n",
    "        \n",
    "        # No need for token embedding weights\n",
    "        # self.transformer.wte.weight = self.lm_head.weight # https://paperswithcode.com/method/weight-tying\n",
    "\n",
    "        # init all weights\n",
    "        self.apply(self._init_weights)\n",
    "        # apply special scaled init to the residual projections, per GPT-2 paper\n",
    "        for pn, p in self.named_parameters():\n",
    "            if pn.endswith('c_proj.weight'):\n",
    "                torch.nn.init.normal_(p, mean=0.0, std=0.02/math.sqrt(2 * config.n_layer))\n",
    "\n",
    "        # report number of parameters\n",
    "        print(\"number of parameters: %.2fM\" % (self.get_num_params()/1e6,))\n",
    "\n",
    "    def _init_weights(self, module):\n",
    "        if isinstance(module, nn.Linear):\n",
    "            torch.nn.init.normal_(module.weight, mean=0.0, std=0.02)\n",
    "            if module.bias is not None:\n",
    "                torch.nn.init.zeros_(module.bias)\n",
    "        elif isinstance(module, nn.Embedding):\n",
    "            torch.nn.init.normal_(module.weight, mean=0.0, std=0.02)\n",
    "    \n",
    "    def get_num_params(self, non_embedding=True):\n",
    "        \"\"\"\n",
    "        Return the number of parameters in the model.\n",
    "        For non-embedding count (default), the position embeddings get subtracted.\n",
    "        The token embeddings would too, except due to the parameter sharing these\n",
    "        params are actually used as weights in the final layer, so we include them.\n",
    "        \"\"\"\n",
    "        n_params = sum(p.numel() for p in self.parameters())\n",
    "        \n",
    "        # No need for positional embedding weights\n",
    "        # if non_embedding:\n",
    "        #    n_params -= self.transformer.wpe.weight.numel()\n",
    "        return n_params\n",
    "    \n",
    "    def forward(self, idx, targets=None):\n",
    "        # Here idx is embedding\n",
    "        # idx -> batch, block_size(num_passages), token_length, n_embd\n",
    "        # device = idx.device\n",
    "        # b, t = idx.size()\n",
    "        # device = idx.device\n",
    "        b, t, _, _ = idx.size() \n",
    "        \n",
    "        assert t <= self.config.block_size, f\"Cannot forward sequence of length {t}, block size is only {self.config.block_size}\"\n",
    "        # No need for tok_emb, pos_emb\n",
    "        # pos = torch.arange(0, t, dtype=torch.long, device=device).unsqueeze(0) # shape (1, t)\n",
    "        # forward the GPT model itself\n",
    "        # tok_emb = self.transformer.wte(idx) # token embeddings of shape (b, t, n_embd)\n",
    "        # pos_emb = self.transformer.wpe(pos) # position embeddings of shape (1, t, n_embd)\n",
    "        # x = self.transformer.drop(tok_emb + pos_emb)\n",
    "        print(f'input shape : {idx.shape}')\n",
    "        x = idx.view(b, t, -1)\n",
    "        print(f'input shape : {x.shape}')\n",
    "        x = self.transformer.embedding_layer(x)\n",
    "        print(f'after embedding layer : {x.shape}')\n",
    "        \n",
    "        x = self.transformer.drop(x)\n",
    "    \n",
    "        for block in self.transformer.h:\n",
    "            x = block(x)\n",
    "        print(f'after decoder blocks : {x.shape}')    \n",
    "        ## output (batch, num_passages, num_labels)\n",
    "        x = self.transformer.ln_f(x)\n",
    "        print(f'after ln_f : {x.shape}')\n",
    "\n",
    "        if targets is not None:\n",
    "            # if we are given some desired targets also calculate the loss\n",
    "            logits = self.lm_head(x)\n",
    "            loss = F.cross_entropy(logits.view(-1, logits.size(-1)), targets.view(-1), ignore_index=-1)\n",
    "        else:\n",
    "            # inference-time mini-optimization: only forward the lm_head on the very last position\n",
    "            # logits = self.lm_head(x[:, [-1], :]) # note: using list [-1] to preserve the time dim\n",
    "            # loss = None\n",
    "            \n",
    "            # inference time: going to foward on every position\n",
    "            logits = self.lm_head(x)\n",
    "            loss = None\n",
    "        print(f'after lm_head : {logits.shape}')\n",
    "        return logits, loss\n",
    "    \n",
    "    @torch.no_grad()\n",
    "    def inference(self, idx):\n",
    "        logits, loss = self(idx)\n",
    "        return logits, loss"
   ]
  },
  {
   "cell_type": "code",
   "execution_count": 161,
   "id": "908b634b",
   "metadata": {},
   "outputs": [],
   "source": [
    "config_ = SentenceGPTConfig()"
   ]
  },
  {
   "cell_type": "markdown",
   "id": "cd2cb67c",
   "metadata": {},
   "source": [
    "### \\_\\_init\\_\\_ / _init_weights / get_num_params Compatibility Check"
   ]
  },
  {
   "cell_type": "code",
   "execution_count": 162,
   "id": "ec82274e",
   "metadata": {
    "scrolled": true
   },
   "outputs": [
    {
     "name": "stdout",
     "output_type": "stream",
     "text": [
      "WARNING: using slow attention. Flash Attention atm needs PyTorch nightly and dropout=0.0\n",
      "WARNING: using slow attention. Flash Attention atm needs PyTorch nightly and dropout=0.0\n",
      "WARNING: using slow attention. Flash Attention atm needs PyTorch nightly and dropout=0.0\n",
      "WARNING: using slow attention. Flash Attention atm needs PyTorch nightly and dropout=0.0\n",
      "WARNING: using slow attention. Flash Attention atm needs PyTorch nightly and dropout=0.0\n",
      "WARNING: using slow attention. Flash Attention atm needs PyTorch nightly and dropout=0.0\n",
      "WARNING: using slow attention. Flash Attention atm needs PyTorch nightly and dropout=0.0\n",
      "WARNING: using slow attention. Flash Attention atm needs PyTorch nightly and dropout=0.0\n",
      "WARNING: using slow attention. Flash Attention atm needs PyTorch nightly and dropout=0.0\n",
      "WARNING: using slow attention. Flash Attention atm needs PyTorch nightly and dropout=0.0\n",
      "WARNING: using slow attention. Flash Attention atm needs PyTorch nightly and dropout=0.0\n",
      "WARNING: using slow attention. Flash Attention atm needs PyTorch nightly and dropout=0.0\n",
      "number of parameters: 360.88M\n",
      "{'bias': True,\n",
      " 'block_size': 100,\n",
      " 'dropout': 0.0,\n",
      " 'n_embd': 1024,\n",
      " 'n_head': 16,\n",
      " 'n_layer': 12,\n",
      " 'num_labels': 2,\n",
      " 'token_length': 200}\n",
      "WARNING: using slow attention. Flash Attention atm needs PyTorch nightly and dropout=0.0\n",
      "WARNING: using slow attention. Flash Attention atm needs PyTorch nightly and dropout=0.0\n"
     ]
    }
   ],
   "source": [
    "test_ = SentenceGPT_t(config_)\n",
    "config_dict = asdict(config_)\n",
    "pprint(config_dict)\n",
    "attn = CausalSelfAttention(config_)\n",
    "mlp = MLP(config_)\n",
    "k = Block(config_)"
   ]
  },
  {
   "cell_type": "markdown",
   "id": "40958455",
   "metadata": {},
   "source": [
    "### Testing torch.nn.Functional.cross_entropy\n",
    "     - works for both indices & probabilities"
   ]
  },
  {
   "cell_type": "code",
   "execution_count": 163,
   "id": "8318c57f",
   "metadata": {},
   "outputs": [],
   "source": [
    "# # Example of target with class indices\n",
    "# input_ = torch.randn(3, 5, requires_grad=True)\n",
    "# target = torch.randint(5, (3,), dtype=torch.int64)\n",
    "# print(input_.shape)\n",
    "# print(input_)\n",
    "# print(target.size())\n",
    "# print(target)\n",
    "# loss = F.cross_entropy(input, target)\n",
    "# loss.backward()\n",
    "# print(loss)"
   ]
  },
  {
   "cell_type": "code",
   "execution_count": 164,
   "id": "2f60c05e",
   "metadata": {},
   "outputs": [],
   "source": [
    "# # Example of target with class probabilities\n",
    "# input_ = torch.randn(3, 5, requires_grad=True)\n",
    "# target = torch.randn(3, 5).softmax(dim=1)\n",
    "# print(input_.shape)\n",
    "# print(input_)\n",
    "# print(target.shape)\n",
    "# print(target)\n",
    "# loss = F.cross_entropy(input, target)\n",
    "# loss.backward()"
   ]
  },
  {
   "cell_type": "markdown",
   "id": "ed8d4b27",
   "metadata": {},
   "source": [
    "### forward function compatibility check"
   ]
  },
  {
   "cell_type": "markdown",
   "id": "30d6805d",
   "metadata": {},
   "source": [
    "#### Without Target"
   ]
  },
  {
   "cell_type": "code",
   "execution_count": 165,
   "id": "5c2974a1",
   "metadata": {},
   "outputs": [],
   "source": [
    "idx = torch.randn(3, 100, 200, 1024).float()"
   ]
  },
  {
   "cell_type": "code",
   "execution_count": 166,
   "id": "24f93950",
   "metadata": {},
   "outputs": [
    {
     "name": "stdout",
     "output_type": "stream",
     "text": [
      "WARNING: using slow attention. Flash Attention atm needs PyTorch nightly and dropout=0.0\n",
      "WARNING: using slow attention. Flash Attention atm needs PyTorch nightly and dropout=0.0\n",
      "WARNING: using slow attention. Flash Attention atm needs PyTorch nightly and dropout=0.0\n",
      "WARNING: using slow attention. Flash Attention atm needs PyTorch nightly and dropout=0.0\n",
      "WARNING: using slow attention. Flash Attention atm needs PyTorch nightly and dropout=0.0\n",
      "WARNING: using slow attention. Flash Attention atm needs PyTorch nightly and dropout=0.0\n",
      "WARNING: using slow attention. Flash Attention atm needs PyTorch nightly and dropout=0.0\n",
      "WARNING: using slow attention. Flash Attention atm needs PyTorch nightly and dropout=0.0\n",
      "WARNING: using slow attention. Flash Attention atm needs PyTorch nightly and dropout=0.0\n",
      "WARNING: using slow attention. Flash Attention atm needs PyTorch nightly and dropout=0.0\n",
      "WARNING: using slow attention. Flash Attention atm needs PyTorch nightly and dropout=0.0\n",
      "WARNING: using slow attention. Flash Attention atm needs PyTorch nightly and dropout=0.0\n",
      "number of parameters: 360.88M\n"
     ]
    }
   ],
   "source": [
    "model_test = SentenceGPT_t(config_)"
   ]
  },
  {
   "cell_type": "code",
   "execution_count": 167,
   "id": "c50906e1",
   "metadata": {},
   "outputs": [
    {
     "name": "stdout",
     "output_type": "stream",
     "text": [
      "input shape : torch.Size([3, 100, 200, 1024])\n",
      "input shape : torch.Size([3, 100, 204800])\n",
      "after embedding layer : torch.Size([3, 100, 1024])\n",
      "after decoder blocks : torch.Size([3, 100, 1024])\n",
      "after ln_f : torch.Size([3, 100, 1024])\n",
      "after lm_head : torch.Size([3, 100, 2])\n"
     ]
    }
   ],
   "source": [
    "logits, loss = model_test(idx)"
   ]
  },
  {
   "cell_type": "markdown",
   "id": "ca60931e",
   "metadata": {},
   "source": [
    "#### With Target"
   ]
  },
  {
   "cell_type": "code",
   "execution_count": 168,
   "id": "e3b3f6eb",
   "metadata": {},
   "outputs": [
    {
     "name": "stdout",
     "output_type": "stream",
     "text": [
      "torch.Size([3, 100, 1])\n"
     ]
    }
   ],
   "source": [
    "target = torch.rand(3, 100, 1)\n",
    "target = torch.bernoulli(target)\n",
    "target = target.type(torch.LongTensor)\n",
    "print(target.shape)"
   ]
  },
  {
   "cell_type": "code",
   "execution_count": 169,
   "id": "d307d16a",
   "metadata": {},
   "outputs": [
    {
     "name": "stdout",
     "output_type": "stream",
     "text": [
      "torch.Size([3, 100, 2])\n"
     ]
    }
   ],
   "source": [
    "mock_logits_ = torch.randn(3, 100, 2).float()\n",
    "print(mock_logits_.shape)"
   ]
  },
  {
   "cell_type": "markdown",
   "id": "0b4e6490",
   "metadata": {},
   "source": [
    "#### Converting for Cross entropy"
   ]
  },
  {
   "cell_type": "code",
   "execution_count": 170,
   "id": "090563f1",
   "metadata": {},
   "outputs": [
    {
     "name": "stdout",
     "output_type": "stream",
     "text": [
      "torch.Size([300, 2])\n"
     ]
    }
   ],
   "source": [
    "mock_l = mock_logits_.view(-1, mock_logits_.size(-1))\n",
    "print(mock_l.shape)"
   ]
  },
  {
   "cell_type": "code",
   "execution_count": 171,
   "id": "e17fd255",
   "metadata": {},
   "outputs": [
    {
     "name": "stdout",
     "output_type": "stream",
     "text": [
      "torch.Size([300])\n"
     ]
    }
   ],
   "source": [
    "tar_ = target.view(-1)\n",
    "print(tar_.shape)"
   ]
  },
  {
   "cell_type": "code",
   "execution_count": 172,
   "id": "143e0322",
   "metadata": {},
   "outputs": [],
   "source": [
    "loss = F.cross_entropy(mock_l, tar_, ignore_index=-1)"
   ]
  },
  {
   "cell_type": "code",
   "execution_count": 173,
   "id": "23d04be4",
   "metadata": {},
   "outputs": [
    {
     "data": {
      "text/plain": [
       "tensor(0.9294)"
      ]
     },
     "execution_count": 173,
     "metadata": {},
     "output_type": "execute_result"
    }
   ],
   "source": [
    "loss"
   ]
  },
  {
   "cell_type": "code",
   "execution_count": 174,
   "id": "57bf5509",
   "metadata": {},
   "outputs": [
    {
     "name": "stdout",
     "output_type": "stream",
     "text": [
      "input shape : torch.Size([3, 100, 200, 1024])\n",
      "input shape : torch.Size([3, 100, 204800])\n",
      "after embedding layer : torch.Size([3, 100, 1024])\n",
      "after decoder blocks : torch.Size([3, 100, 1024])\n",
      "after ln_f : torch.Size([3, 100, 1024])\n",
      "after lm_head : torch.Size([3, 100, 2])\n"
     ]
    }
   ],
   "source": [
    "logits, loss = model_test(idx, target)"
   ]
  },
  {
   "cell_type": "code",
   "execution_count": 175,
   "id": "8fe9d928",
   "metadata": {},
   "outputs": [
    {
     "name": "stdout",
     "output_type": "stream",
     "text": [
      "torch.Size([3, 100, 2]) tensor(0.8071, grad_fn=<NllLossBackward0>)\n"
     ]
    }
   ],
   "source": [
    "print(logits.shape, loss)"
   ]
  },
  {
   "cell_type": "markdown",
   "id": "f2254187",
   "metadata": {},
   "source": [
    "### inference function compatibility check"
   ]
  },
  {
   "cell_type": "code",
   "execution_count": 176,
   "id": "1e098d03",
   "metadata": {},
   "outputs": [
    {
     "name": "stdout",
     "output_type": "stream",
     "text": [
      "input shape : torch.Size([3, 100, 200, 1024])\n",
      "input shape : torch.Size([3, 100, 204800])\n",
      "after embedding layer : torch.Size([3, 100, 1024])\n",
      "after decoder blocks : torch.Size([3, 100, 1024])\n",
      "after ln_f : torch.Size([3, 100, 1024])\n",
      "after lm_head : torch.Size([3, 100, 2])\n"
     ]
    }
   ],
   "source": [
    "logits, loss = model_test.inference(idx)"
   ]
  },
  {
   "cell_type": "code",
   "execution_count": 178,
   "id": "760855fa",
   "metadata": {},
   "outputs": [
    {
     "data": {
      "text/plain": [
       "torch.Size([3, 100, 2])"
      ]
     },
     "execution_count": 178,
     "metadata": {},
     "output_type": "execute_result"
    }
   ],
   "source": [
    "logits.shape"
   ]
  },
  {
   "cell_type": "code",
   "execution_count": null,
   "id": "c27ad3df",
   "metadata": {},
   "outputs": [],
   "source": []
  },
  {
   "cell_type": "code",
   "execution_count": null,
   "id": "271940f6",
   "metadata": {},
   "outputs": [],
   "source": []
  },
  {
   "cell_type": "code",
   "execution_count": null,
   "id": "c2047549",
   "metadata": {},
   "outputs": [],
   "source": []
  },
  {
   "cell_type": "code",
   "execution_count": null,
   "id": "e406177a",
   "metadata": {},
   "outputs": [],
   "source": []
  },
  {
   "cell_type": "code",
   "execution_count": null,
   "id": "8f574c47",
   "metadata": {},
   "outputs": [],
   "source": []
  },
  {
   "cell_type": "code",
   "execution_count": null,
   "id": "d80be15c",
   "metadata": {},
   "outputs": [],
   "source": []
  },
  {
   "cell_type": "code",
   "execution_count": null,
   "id": "6e2dcb21",
   "metadata": {},
   "outputs": [],
   "source": []
  },
  {
   "cell_type": "code",
   "execution_count": null,
   "id": "4f2da444",
   "metadata": {},
   "outputs": [],
   "source": []
  },
  {
   "cell_type": "code",
   "execution_count": null,
   "id": "da68c22d",
   "metadata": {},
   "outputs": [],
   "source": []
  },
  {
   "cell_type": "code",
   "execution_count": null,
   "id": "94a35d59",
   "metadata": {},
   "outputs": [],
   "source": []
  },
  {
   "cell_type": "code",
   "execution_count": null,
   "id": "54f9f5ea",
   "metadata": {},
   "outputs": [],
   "source": []
  },
  {
   "cell_type": "code",
   "execution_count": 52,
   "id": "5eb9914c",
   "metadata": {},
   "outputs": [
    {
     "name": "stdout",
     "output_type": "stream",
     "text": [
      "3 100\n"
     ]
    }
   ],
   "source": [
    "b, t, _, _ = idx.size() \n",
    "print(b,t)\n",
    "assert t <= config_.block_size, f\"Cannot forward sequence of length {t}, block size is only {self.config.block_size}\"\n"
   ]
  },
  {
   "cell_type": "code",
   "execution_count": null,
   "id": "4f9b53c7",
   "metadata": {},
   "outputs": [],
   "source": [
    "        \n",
    "        \n",
    "        # No need for tok_emb, pos_emb\n",
    "        # pos = torch.arange(0, t, dtype=torch.long, device=device).unsqueeze(0) # shape (1, t)\n",
    "        # forward the GPT model itself\n",
    "        # tok_emb = self.transformer.wte(idx) # token embeddings of shape (b, t, n_embd)\n",
    "        # pos_emb = self.transformer.wpe(pos) # position embeddings of shape (1, t, n_embd)\n",
    "        # x = self.transformer.drop(tok_emb + pos_emb)\n",
    "        \n",
    "        x = self.transformer.drop(idx)\n",
    "    \n",
    "        for block in self.transformer.h:\n",
    "            x = block(x)\n",
    "            \n",
    "        ## output (batch, num_passages, num_labels)\n",
    "        x = self.transformer.ln_f(x)\n",
    "\n",
    "        if targets is not None:\n",
    "            # if we are given some desired targets also calculate the loss\n",
    "            logits = self.lm_head(x)\n",
    "            loss = F.cross_entropy(logits.view(-1, logits.size(-1)), targets.view(-1), ignore_index=-1)\n",
    "        else:\n",
    "            # inference-time mini-optimization: only forward the lm_head on the very last position\n",
    "            # logits = self.lm_head(x[:, [-1], :]) # note: using list [-1] to preserve the time dim\n",
    "            # loss = None\n",
    "            \n",
    "            # inference time: going to foward on every position\n",
    "            logits = self.lm_head(x)\n",
    "            loss = None\n",
    "\n",
    "        return logits, loss"
   ]
  },
  {
   "cell_type": "code",
   "execution_count": null,
   "id": "a384b187",
   "metadata": {},
   "outputs": [],
   "source": [
    "model_test(x)"
   ]
  },
  {
   "cell_type": "code",
   "execution_count": null,
   "id": "7da01f71",
   "metadata": {},
   "outputs": [],
   "source": [
    "# Here idx is embedding\n",
    "        # idx -> batch, block_size(num_passages), token_length, n_embd\n",
    "        # device = idx.device\n",
    "        # b, t = idx.size()\n",
    "        device = idx.device\n",
    "        b, t, _, _ = idx.size() \n",
    "        \n",
    "        assert t <= self.config.block_size, f\"Cannot forward sequence of length {t}, block size is only {self.config.block_size}\"\n",
    "        # No need for tok_emb, pos_emb\n",
    "        # pos = torch.arange(0, t, dtype=torch.long, device=device).unsqueeze(0) # shape (1, t)\n",
    "        # forward the GPT model itself\n",
    "        # tok_emb = self.transformer.wte(idx) # token embeddings of shape (b, t, n_embd)\n",
    "        # pos_emb = self.transformer.wpe(pos) # position embeddings of shape (1, t, n_embd)\n",
    "        # x = self.transformer.drop(tok_emb + pos_emb)\n",
    "        \n",
    "        x = self.transformer.drop(idx)\n",
    "    \n",
    "        for block in self.transformer.h:\n",
    "            x = block(x)\n",
    "            \n",
    "        ## output (batch, num_passages, num_labels)\n",
    "        x = self.transformer.ln_f(x)\n",
    "\n",
    "        if targets is not None:\n",
    "            # if we are given some desired targets also calculate the loss\n",
    "            logits = self.lm_head(x)\n",
    "            loss = F.cross_entropy(logits.view(-1, logits.size(-1)), targets.view(-1), ignore_index=-1)\n",
    "        else:\n",
    "            # inference-time mini-optimization: only forward the lm_head on the very last position\n",
    "            # logits = self.lm_head(x[:, [-1], :]) # note: using list [-1] to preserve the time dim\n",
    "            # loss = None\n",
    "            \n",
    "            # inference time: going to foward on every position\n",
    "            logits = self.lm_head(x)\n",
    "            loss = None\n",
    "\n",
    "        return logits, loss"
   ]
  },
  {
   "cell_type": "code",
   "execution_count": null,
   "id": "031a695c",
   "metadata": {},
   "outputs": [],
   "source": []
  },
  {
   "cell_type": "code",
   "execution_count": null,
   "id": "f2731f8f",
   "metadata": {},
   "outputs": [],
   "source": []
  },
  {
   "cell_type": "code",
   "execution_count": null,
   "id": "67de57f5",
   "metadata": {},
   "outputs": [],
   "source": []
  },
  {
   "cell_type": "code",
   "execution_count": null,
   "id": "d4904a8a",
   "metadata": {},
   "outputs": [],
   "source": []
  },
  {
   "cell_type": "code",
   "execution_count": null,
   "id": "8d789dd8",
   "metadata": {},
   "outputs": [],
   "source": []
  },
  {
   "cell_type": "code",
   "execution_count": null,
   "id": "d2011a8c",
   "metadata": {},
   "outputs": [],
   "source": []
  },
  {
   "cell_type": "code",
   "execution_count": null,
   "id": "b8bde42e",
   "metadata": {},
   "outputs": [],
   "source": []
  },
  {
   "cell_type": "code",
   "execution_count": null,
   "id": "73fef7ca",
   "metadata": {},
   "outputs": [],
   "source": []
  },
  {
   "cell_type": "code",
   "execution_count": null,
   "id": "672e1f97",
   "metadata": {},
   "outputs": [],
   "source": []
  },
  {
   "cell_type": "code",
   "execution_count": null,
   "id": "9358e573",
   "metadata": {},
   "outputs": [],
   "source": []
  },
  {
   "cell_type": "code",
   "execution_count": null,
   "id": "b9f470d9",
   "metadata": {},
   "outputs": [],
   "source": []
  },
  {
   "cell_type": "markdown",
   "id": "51d17b89",
   "metadata": {},
   "source": [
    "#### it now becomes\n",
    "    - batch_size, num_psgs, passage-level-embedding"
   ]
  },
  {
   "cell_type": "code",
   "execution_count": null,
   "id": "d0a23a06",
   "metadata": {},
   "outputs": [],
   "source": [
    "q, k, v = c_attn(x).split(n_embd, dim=2)"
   ]
  },
  {
   "cell_type": "code",
   "execution_count": null,
   "id": "23583999",
   "metadata": {},
   "outputs": [],
   "source": [
    "print(q.shape, k.shape, v.shape)\n",
    "print('batch size, squence_length, embedding')"
   ]
  },
  {
   "cell_type": "code",
   "execution_count": null,
   "id": "c8e6de06",
   "metadata": {},
   "outputs": [],
   "source": [
    "k = k.view(B, T, n_head, C // n_head).transpose(1, 2) # (B, nh, T, hs)\n",
    "q = q.view(B, T, n_head, C // n_head).transpose(1, 2) # (B, nh, T, hs)\n",
    "v = v.view(B, T, n_head, C // n_head).transpose(1, 2) # (B, nh, T, hs)\n",
    "print(f'k shape : {k.shape}')"
   ]
  },
  {
   "cell_type": "code",
   "execution_count": null,
   "id": "63699c2f",
   "metadata": {},
   "outputs": [],
   "source": [
    "@dataclass\n",
    "class GPTConfig:\n",
    "    input_token_length = 200 # FiD input token length\n",
    "    block_size: int = 1024 # original token length\n",
    "    vocab_size: int = 50304 # GPT-2 vocab_size of 50257, padded up to nearest multiple of 64 for efficiency\n",
    "    n_layer: int = 12\n",
    "    n_head: int = 12\n",
    "    n_embd: int = 768\n",
    "    dropout: float = 0.0\n",
    "    bias: bool = True # True: bias in Linears and LayerNorms, like GPT-2. False: a bit better and faster"
   ]
  },
  {
   "cell_type": "code",
   "execution_count": null,
   "id": "b2614901",
   "metadata": {},
   "outputs": [],
   "source": [
    "config = GPTConfig"
   ]
  },
  {
   "cell_type": "code",
   "execution_count": null,
   "id": "f7d4e476",
   "metadata": {},
   "outputs": [],
   "source": [
    "# input_token_length = 200\n",
    "config.block_size = 200\n",
    "# config.vocab_size = 2 # no need for vocab size - inputs are embedding vectors from FiD\n",
    "config.n_layer = 24\n",
    "config.n_head = 16\n",
    "config.n_embed = 1024\n",
    "config.dropout = 0.0\n",
    "config.bias = True # True: bias in Linears and LayerNorms, like GPT-2. False: a bit better and faster\n",
    "config.num_labels = 2"
   ]
  },
  {
   "cell_type": "code",
   "execution_count": null,
   "id": "b3cb940c",
   "metadata": {},
   "outputs": [],
   "source": [
    "from pprint import pprint"
   ]
  },
  {
   "cell_type": "code",
   "execution_count": null,
   "id": "7fcfe7e3",
   "metadata": {},
   "outputs": [],
   "source": [
    "# pprint(vars(config))"
   ]
  },
  {
   "cell_type": "code",
   "execution_count": null,
   "id": "c934408d",
   "metadata": {},
   "outputs": [],
   "source": [
    "# # Original\n",
    "# class GPT(nn.Module):\n",
    "\n",
    "#     def __init__(self, config):\n",
    "#         super().__init__()\n",
    "#         assert config.vocab_size is not None\n",
    "#         assert config.block_size is not None\n",
    "#         self.config = config\n",
    "\n",
    "#         self.transformer = nn.ModuleDict(dict(\n",
    "#             wte = nn.Embedding(config.vocab_size, config.n_embd),\n",
    "#             wpe = nn.Embedding(config.block_size, config.n_embd),\n",
    "#             drop = nn.Dropout(config.dropout),\n",
    "#             h = nn.ModuleList([Block(config) for _ in range(config.n_layer)]),\n",
    "#             ln_f = LayerNorm(config.n_embd, bias=config.bias),\n",
    "#         ))\n",
    "#         self.lm_head = nn.Linear(config.n_embd, config.vocab_size, bias=False)\n",
    "#         # with weight tying when using torch.compile() some warnings get generated:\n",
    "#         # \"UserWarning: functional_call was passed multiple values for tied weights.\n",
    "#         # This behavior is deprecated and will be an error in future versions\"\n",
    "#         # not 100% sure what this is, so far seems to be harmless. TODO investigate\n",
    "#         self.transformer.wte.weight = self.lm_head.weight # https://paperswithcode.com/method/weight-tying\n",
    "\n",
    "#         # init all weights\n",
    "#         self.apply(self._init_weights)\n",
    "#         # apply special scaled init to the residual projections, per GPT-2 paper\n",
    "#         for pn, p in self.named_parameters():\n",
    "#             if pn.endswith('c_proj.weight'):\n",
    "#                 torch.nn.init.normal_(p, mean=0.0, std=0.02/math.sqrt(2 * config.n_layer))\n",
    "\n",
    "#         # report number of parameters\n",
    "#         print(\"number of parameters: %.2fM\" % (self.get_num_params()/1e6,))\n",
    "\n",
    "#     def get_num_params(self, non_embedding=True):\n",
    "#         \"\"\"\n",
    "#         Return the number of parameters in the model.\n",
    "#         For non-embedding count (default), the position embeddings get subtracted.\n",
    "#         The token embeddings would too, except due to the parameter sharing these\n",
    "#         params are actually used as weights in the final layer, so we include them.\n",
    "#         \"\"\"\n",
    "#         n_params = sum(p.numel() for p in self.parameters())\n",
    "#         if non_embedding:\n",
    "#             n_params -= self.transformer.wpe.weight.numel()\n",
    "#         return n_params\n",
    "\n",
    "#     def _init_weights(self, module):\n",
    "#         if isinstance(module, nn.Linear):\n",
    "#             torch.nn.init.normal_(module.weight, mean=0.0, std=0.02)\n",
    "#             if module.bias is not None:\n",
    "#                 torch.nn.init.zeros_(module.bias)\n",
    "#         elif isinstance(module, nn.Embedding):\n",
    "#             torch.nn.init.normal_(module.weight, mean=0.0, std=0.02)\n",
    "\n",
    "#     def forward(self, idx, targets=None):\n",
    "#         device = idx.device\n",
    "#         b, t = idx.size()\n",
    "#         assert t <= self.config.block_size, f\"Cannot forward sequence of length {t}, block size is only {self.config.block_size}\"\n",
    "#         pos = torch.arange(0, t, dtype=torch.long, device=device).unsqueeze(0) # shape (1, t)\n",
    "\n",
    "#         # forward the GPT model itself\n",
    "#         tok_emb = self.transformer.wte(idx) # token embeddings of shape (b, t, n_embd)\n",
    "#         pos_emb = self.transformer.wpe(pos) # position embeddings of shape (1, t, n_embd)\n",
    "#         x = self.transformer.drop(tok_emb + pos_emb)\n",
    "#         for block in self.transformer.h:\n",
    "#             x = block(x)\n",
    "#         x = self.transformer.ln_f(x)\n",
    "\n",
    "#         if targets is not None:\n",
    "#             # if we are given some desired targets also calculate the loss\n",
    "#             logits = self.lm_head(x)\n",
    "#             loss = F.cross_entropy(logits.view(-1, logits.size(-1)), targets.view(-1), ignore_index=-1)\n",
    "#         else:\n",
    "#             # inference-time mini-optimization: only forward the lm_head on the very last position\n",
    "#             logits = self.lm_head(x[:, [-1], :]) # note: using list [-1] to preserve the time dim\n",
    "#             loss = None\n",
    "\n",
    "#         return logits, loss\n",
    "\n",
    "#     def crop_block_size(self, block_size):\n",
    "#         # model surgery to decrease the block size if necessary\n",
    "#         # e.g. we may load the GPT2 pretrained model checkpoint (block size 1024)\n",
    "#         # but want to use a smaller block size for some smaller, simpler model\n",
    "#         assert block_size <= self.config.block_size\n",
    "#         self.config.block_size = block_size\n",
    "#         self.transformer.wpe.weight = nn.Parameter(self.transformer.wpe.weight[:block_size])\n",
    "#         for block in self.transformer.h:\n",
    "#             block.attn.bias = block.attn.bias[:,:,:block_size,:block_size]\n",
    "\n",
    "#     @classmethod\n",
    "#     def from_pretrained(cls, model_type, override_args=None):\n",
    "#         assert model_type in {'gpt2', 'gpt2-medium', 'gpt2-large', 'gpt2-xl'}\n",
    "#         override_args = override_args or {} # default to empty dict\n",
    "#         # only dropout can be overridden see more notes below\n",
    "#         assert all(k == 'dropout' for k in override_args)\n",
    "#         from transformers import GPT2LMHeadModel\n",
    "#         print(\"loading weights from pretrained gpt: %s\" % model_type)\n",
    "\n",
    "#         # n_layer, n_head and n_embd are determined from model_type\n",
    "#         config_args = {\n",
    "#             'gpt2':         dict(n_layer=12, n_head=12, n_embd=768),  # 124M params\n",
    "#             'gpt2-medium':  dict(n_layer=24, n_head=16, n_embd=1024), # 350M params\n",
    "#             'gpt2-large':   dict(n_layer=36, n_head=20, n_embd=1280), # 774M params\n",
    "#             'gpt2-xl':      dict(n_layer=48, n_head=25, n_embd=1600), # 1558M params\n",
    "#         }[model_type]\n",
    "#         print(\"forcing vocab_size=50257, block_size=1024, bias=True\")\n",
    "#         config_args['vocab_size'] = 50257 # always 50257 for GPT model checkpoints\n",
    "#         config_args['block_size'] = 1024 # always 1024 for GPT model checkpoints\n",
    "#         config_args['bias'] = True # always True for GPT model checkpoints\n",
    "#         # we can override the dropout rate, if desired\n",
    "#         if 'dropout' in override_args:\n",
    "#             print(f\"overriding dropout rate to {override_args['dropout']}\")\n",
    "#             config_args['dropout'] = override_args['dropout']\n",
    "#         # create a from-scratch initialized minGPT model\n",
    "#         config = GPTConfig(**config_args)\n",
    "#         model = GPT(config)\n",
    "#         sd = model.state_dict()\n",
    "#         sd_keys = sd.keys()\n",
    "#         sd_keys = [k for k in sd_keys if not k.endswith('.attn.bias')] # discard this mask / buffer, not a param\n",
    "\n",
    "#         # init a huggingface/transformers model\n",
    "#         model_hf = GPT2LMHeadModel.from_pretrained(model_type)\n",
    "#         sd_hf = model_hf.state_dict()\n",
    "\n",
    "#         # copy while ensuring all of the parameters are aligned and match in names and shapes\n",
    "#         sd_keys_hf = sd_hf.keys()\n",
    "#         sd_keys_hf = [k for k in sd_keys_hf if not k.endswith('.attn.masked_bias')] # ignore these, just a buffer\n",
    "#         sd_keys_hf = [k for k in sd_keys_hf if not k.endswith('.attn.bias')] # same, just the mask (buffer)\n",
    "#         transposed = ['attn.c_attn.weight', 'attn.c_proj.weight', 'mlp.c_fc.weight', 'mlp.c_proj.weight']\n",
    "#         # basically the openai checkpoints use a \"Conv1D\" module, but we only want to use a vanilla Linear\n",
    "#         # this means that we have to transpose these weights when we import them\n",
    "#         assert len(sd_keys_hf) == len(sd_keys), f\"mismatched keys: {len(sd_keys_hf)} != {len(sd_keys)}\"\n",
    "#         for k in sd_keys_hf:\n",
    "#             if any(k.endswith(w) for w in transposed):\n",
    "#                 # special treatment for the Conv1D weights we need to transpose\n",
    "#                 assert sd_hf[k].shape[::-1] == sd[k].shape\n",
    "#                 with torch.no_grad():\n",
    "#                     sd[k].copy_(sd_hf[k].t())\n",
    "#             else:\n",
    "#                 # vanilla copy over the other parameters\n",
    "#                 assert sd_hf[k].shape == sd[k].shape\n",
    "#                 with torch.no_grad():\n",
    "#                     sd[k].copy_(sd_hf[k])\n",
    "\n",
    "#         return model\n",
    "\n",
    "#     def configure_optimizers(self, weight_decay, learning_rate, betas, device_type):\n",
    "#         \"\"\"\n",
    "#         This long function is unfortunately doing something very simple and is being very defensive:\n",
    "#         We are separating out all parameters of the model into two buckets: those that will experience\n",
    "#         weight decay for regularization and those that won't (biases, and layernorm/embedding weights).\n",
    "#         We are then returning the PyTorch optimizer object.\n",
    "#         \"\"\"\n",
    "\n",
    "#         # separate out all parameters to those that will and won't experience regularizing weight decay\n",
    "#         decay = set()\n",
    "#         no_decay = set()\n",
    "#         whitelist_weight_modules = (torch.nn.Linear, )\n",
    "#         blacklist_weight_modules = (torch.nn.LayerNorm, LayerNorm, torch.nn.Embedding)\n",
    "#         for mn, m in self.named_modules():\n",
    "#             for pn, p in m.named_parameters():\n",
    "#                 fpn = '%s.%s' % (mn, pn) if mn else pn # full param name\n",
    "#                 # random note: because named_modules and named_parameters are recursive\n",
    "#                 # we will see the same tensors p many many times. but doing it this way\n",
    "#                 # allows us to know which parent module any tensor p belongs to...\n",
    "#                 if pn.endswith('bias'):\n",
    "#                     # all biases will not be decayed\n",
    "#                     no_decay.add(fpn)\n",
    "#                 elif pn.endswith('weight') and isinstance(m, whitelist_weight_modules):\n",
    "#                     # weights of whitelist modules will be weight decayed\n",
    "#                     decay.add(fpn)\n",
    "#                 elif pn.endswith('weight') and isinstance(m, blacklist_weight_modules):\n",
    "#                     # weights of blacklist modules will NOT be weight decayed\n",
    "#                     no_decay.add(fpn)\n",
    "\n",
    "#         # subtle: 'transformer.wte.weight' and 'lm_head.weight' are tied, so they\n",
    "#         # will appear in the no_decay and decay sets respectively after the above.\n",
    "#         # In addition, because named_parameters() doesn't return duplicates, it\n",
    "#         # will only return the first occurence, key'd by 'transformer.wte.weight', below.\n",
    "#         # so let's manually remove 'lm_head.weight' from decay set. This will include\n",
    "#         # this tensor into optimization via transformer.wte.weight only, and not decayed.\n",
    "#         decay.remove('lm_head.weight')\n",
    "\n",
    "#         # validate that we considered every parameter\n",
    "#         param_dict = {pn: p for pn, p in self.named_parameters()}\n",
    "#         inter_params = decay & no_decay\n",
    "#         union_params = decay | no_decay\n",
    "#         assert len(inter_params) == 0, \"parameters %s made it into both decay/no_decay sets!\" % (str(inter_params), )\n",
    "#         assert len(param_dict.keys() - union_params) == 0, \"parameters %s were not separated into either decay/no_decay set!\" \\\n",
    "#                                                     % (str(param_dict.keys() - union_params), )\n",
    "\n",
    "#         # create the pytorch optimizer object\n",
    "#         optim_groups = [\n",
    "#             {\"params\": [param_dict[pn] for pn in sorted(list(decay))], \"weight_decay\": weight_decay},\n",
    "#             {\"params\": [param_dict[pn] for pn in sorted(list(no_decay))], \"weight_decay\": 0.0},\n",
    "#         ]\n",
    "#         # new PyTorch nightly has a new 'fused' option for AdamW that is much faster\n",
    "#         use_fused = (device_type == 'cuda') and ('fused' in inspect.signature(torch.optim.AdamW).parameters)\n",
    "#         print(f\"using fused AdamW: {use_fused}\")\n",
    "#         extra_args = dict(fused=True) if use_fused else dict()\n",
    "#         optimizer = torch.optim.AdamW(optim_groups, lr=learning_rate, betas=betas, **extra_args)\n",
    "\n",
    "#         return optimizer\n",
    "\n",
    "#     def estimate_mfu(self, fwdbwd_per_iter, dt):\n",
    "#         \"\"\" estimate model flops utilization (MFU) in units of A100 bfloat16 peak FLOPS \"\"\"\n",
    "#         # first estimate the number of flops we do per iteration.\n",
    "#         # see PaLM paper Appendix B as ref: https://arxiv.org/abs/2204.02311\n",
    "#         N = self.get_num_params()\n",
    "#         cfg = self.config\n",
    "#         L, H, Q, T = cfg.n_layer, cfg.n_head, cfg.n_embd//cfg.n_head, cfg.block_size\n",
    "#         flops_per_token = 6*N + 12*L*H*Q*T\n",
    "#         flops_per_fwdbwd = flops_per_token * T\n",
    "#         flops_per_iter = flops_per_fwdbwd * fwdbwd_per_iter\n",
    "#         # express our flops throughput as ratio of A100 bfloat16 peak flops\n",
    "#         flops_achieved = flops_per_iter * (1.0/dt) # per second\n",
    "#         flops_promised = 312e12 # A100 GPU bfloat16 peak flops is 312 TFLOPS\n",
    "#         mfu = flops_achieved / flops_promised\n",
    "#         return mfu\n",
    "\n",
    "#     @torch.no_grad()\n",
    "#     def generate(self, idx, max_new_tokens, temperature=1.0, top_k=None):\n",
    "#         \"\"\"\n",
    "#         Take a conditioning sequence of indices idx (LongTensor of shape (b,t)) and complete\n",
    "#         the sequence max_new_tokens times, feeding the predictions back into the model each time.\n",
    "#         Most likely you'll want to make sure to be in model.eval() mode of operation for this.\n",
    "#         \"\"\"\n",
    "#         for _ in range(max_new_tokens):\n",
    "#             # if the sequence context is growing too long we must crop it at block_size\n",
    "#             idx_cond = idx if idx.size(1) <= self.config.block_size else idx[:, -self.config.block_size:]\n",
    "#             # forward the model to get the logits for the index in the sequence\n",
    "#             logits, _ = self(idx_cond)\n",
    "#             # pluck the logits at the final step and scale by desired temperature\n",
    "#             logits = logits[:, -1, :] / temperature\n",
    "#             # optionally crop the logits to only the top k options\n",
    "#             if top_k is not None:\n",
    "#                 v, _ = torch.topk(logits, min(top_k, logits.size(-1)))\n",
    "#                 logits[logits < v[:, [-1]]] = -float('Inf')\n",
    "#             # apply softmax to convert logits to (normalized) probabilities\n",
    "#             probs = F.softmax(logits, dim=-1)\n",
    "#             # sample from the distribution\n",
    "#             idx_next = torch.multinomial(probs, num_samples=1)\n",
    "#             # append sampled index to the running sequence and continue\n",
    "#             idx = torch.cat((idx, idx_next), dim=1)\n",
    "\n",
    "#         return idx"
   ]
  },
  {
   "cell_type": "code",
   "execution_count": null,
   "id": "163d10fa",
   "metadata": {},
   "outputs": [],
   "source": []
  },
  {
   "cell_type": "code",
   "execution_count": null,
   "id": "1578e0ee",
   "metadata": {},
   "outputs": [],
   "source": []
  },
  {
   "cell_type": "code",
   "execution_count": null,
   "id": "48964f51",
   "metadata": {},
   "outputs": [],
   "source": []
  },
  {
   "cell_type": "code",
   "execution_count": null,
   "id": "0a3f94e6",
   "metadata": {},
   "outputs": [],
   "source": [
    "parser = HfArgumentParser(\n",
    "    (ModelArguments, DataTrainingArguments, CustomTrainingArguments)\n",
    ")"
   ]
  },
  {
   "cell_type": "code",
   "execution_count": null,
   "id": "2ac14362",
   "metadata": {},
   "outputs": [],
   "source": [
    "model_args, data_args, train_args = parser.parse_args_into_dataclasses([])"
   ]
  },
  {
   "cell_type": "code",
   "execution_count": null,
   "id": "b05087b4",
   "metadata": {},
   "outputs": [],
   "source": [
    "train_args.with_tracking = True\n",
    "train_args.report_to = 'wandb'\n",
    "train_args.wandb_project = 'sequence_classifier'\n",
    "train_args.run_name = 'TESTING-FiD-Encoder-lstm-sequence_exclude_no_answer_exclude_indecisve-test'\n",
    "train_args.output_dir = '/data/philhoon-relevance/binary-classification/results/NQ-DEV-DPR/5-fold/1/TESTING-FiD-Encoder-lstm-sequence_exclude_no_answer_exclude_indecisve-test'\n",
    "train_args.seed = 42\n",
    "train_args.num_layers = 2\n",
    "train_args.drop_out_rate = 0.2\n",
    "train_args.padding = -100\n",
    "train_args.per_device_train_batch_size = 2\n",
    "train_args.checkpointing_steps = '10'\n",
    "train_args.num_train_epochs = 100\n",
    "train_args.best_metric = 'f1'\n"
   ]
  },
  {
   "cell_type": "code",
   "execution_count": null,
   "id": "3d730f93",
   "metadata": {},
   "outputs": [],
   "source": [
    "print(train_args.learning_rate)\n",
    "print(train_args.adam_beta1)\n",
    "print(train_args.adam_beta2)\n",
    "print(train_args.adam_epsilon)\n",
    "print(train_args.gradient_accumulation_steps)\n",
    "print(train_args.lr_scheduler_type)\n",
    "print(train_args.num_warmup_steps)\n",
    "# print(train_args.max_train_steps)\n",
    "print(train_args.class_weights)\n",
    "print(train_args.train_loss_steps)"
   ]
  },
  {
   "cell_type": "code",
   "execution_count": null,
   "id": "1b095ce5",
   "metadata": {},
   "outputs": [],
   "source": [
    "model_args.embedding = 1024\n",
    "model_args.max_seq_length = 200"
   ]
  },
  {
   "cell_type": "code",
   "execution_count": null,
   "id": "047cf07a",
   "metadata": {},
   "outputs": [],
   "source": [
    "# model_args.model_architecture = \"SentenceTransformer\"\n",
    "# model_args.model_name_or_path = 'all-MiniLM-L6-v2'"
   ]
  },
  {
   "cell_type": "code",
   "execution_count": null,
   "id": "cc829f71",
   "metadata": {},
   "outputs": [],
   "source": [
    "data_args.train_file = '/data/philhoon-relevance/binary-classification/NQ-DEV-DPR/5-fold/1/sequence_exclude_no_answer_exclude_indecisve/testing-sequence_exclude_no_answer_exclude_indecisve_ctx100id_split_train_1.pickle'\n",
    "data_args.eval_file = '/data/philhoon-relevance/binary-classification/NQ-DEV-DPR/5-fold/1/sequence_exclude_no_answer_exclude_indecisve/testing-sequence_exclude_no_answer_exclude_indecisve_ctx100id_split_train_1.pickle'\n",
    "data_args.dataset_class = 'EncoderSentenceClassificationDataset'\n"
   ]
  },
  {
   "cell_type": "code",
   "execution_count": null,
   "id": "eb50f9bb",
   "metadata": {},
   "outputs": [],
   "source": [
    "logger = get_logger(__name__)\n",
    "\n",
    "accelerator = (\n",
    "    Accelerator(log_with=train_args.report_to, logging_dir=train_args.output_dir) if train_args.with_tracking else Accelerator()\n",
    ")"
   ]
  },
  {
   "cell_type": "code",
   "execution_count": null,
   "id": "8f468628",
   "metadata": {},
   "outputs": [],
   "source": [
    "logging.basicConfig(\n",
    "    format=\"%(asctime)s - %(levelname)s - %(name)s - %(message)s\",\n",
    "    datefmt=\"%m/%d/%Y %H:%M:%S\",\n",
    "    level=logging.INFO,\n",
    ")"
   ]
  },
  {
   "cell_type": "code",
   "execution_count": null,
   "id": "d9d037f1",
   "metadata": {},
   "outputs": [],
   "source": [
    "logger.info(accelerator.state, main_process_only=False)\n",
    "if accelerator.is_local_main_process:\n",
    "    transformers.utils.logging.set_verbosity_info()\n",
    "else:\n",
    "    transformers.utils.logging.set_verbosity_error()\n",
    "\n",
    "if train_args.seed is not None:\n",
    "    set_seed(train_args.seed)"
   ]
  },
  {
   "cell_type": "code",
   "execution_count": null,
   "id": "90ccff19",
   "metadata": {},
   "outputs": [],
   "source": [
    "if accelerator.is_main_process and train_args.output_dir is not None:\n",
    "    os.makedirs(train_args.output_dir, exist_ok=True)\n",
    "accelerator.wait_for_everyone()"
   ]
  },
  {
   "cell_type": "code",
   "execution_count": null,
   "id": "99a089b5",
   "metadata": {},
   "outputs": [],
   "source": [
    "train_args.output_dir"
   ]
  },
  {
   "cell_type": "code",
   "execution_count": null,
   "id": "a7bd411f",
   "metadata": {},
   "outputs": [],
   "source": [
    "# if model_args.model_architecture in EMBEDDING_ARC_MAPPING:\n",
    "#     embedding_model = EMBEDDING_ARC_MAPPING[model_args.model_architecture](model_args.model_name_or_path)\n",
    "#     model_args.embedding = 384\n",
    "#     model_args.max_seq_length = 256"
   ]
  },
  {
   "cell_type": "code",
   "execution_count": null,
   "id": "a4e68bdf",
   "metadata": {},
   "outputs": [],
   "source": []
  },
  {
   "cell_type": "code",
   "execution_count": null,
   "id": "be936112",
   "metadata": {},
   "outputs": [],
   "source": [
    "model = SentenceLSTM(num_layers = train_args.num_layers, \n",
    "                     embedding_size = model_args.embedding, \n",
    "                     num_labels = data_args.num_labels,\n",
    "                     drop_out_rate = train_args.drop_out_rate\n",
    "                    )"
   ]
  },
  {
   "cell_type": "code",
   "execution_count": null,
   "id": "3a1cf0cf",
   "metadata": {},
   "outputs": [],
   "source": [
    "train_file = data_args.train_file\n",
    "eval_file = data_args.eval_file"
   ]
  },
  {
   "cell_type": "code",
   "execution_count": null,
   "id": "bd646d5e",
   "metadata": {},
   "outputs": [],
   "source": [
    "with open(train_file, 'rb') as f:\n",
    "    train_data = pickle.load(f)\n",
    "    \n",
    "with open(eval_file, 'rb') as f:\n",
    "    eval_data = pickle.load(f)"
   ]
  },
  {
   "cell_type": "code",
   "execution_count": null,
   "id": "9bda4d11",
   "metadata": {},
   "outputs": [],
   "source": [
    "# train_data = utils.open_json(train_file)\n",
    "# eval_data = utils.open_json(eval_file)"
   ]
  },
  {
   "cell_type": "code",
   "execution_count": null,
   "id": "aacd8bfa",
   "metadata": {},
   "outputs": [],
   "source": [
    "# seq_train_data = utils.prepare_sequential_data(train_data)\n",
    "# seq_eval_data = utils.prepare_sequential_data(eval_data)"
   ]
  },
  {
   "cell_type": "code",
   "execution_count": null,
   "id": "81d2b8a2",
   "metadata": {},
   "outputs": [],
   "source": [
    "# DataSetClass = DATASET_MAPPING[data_args.dataset_class]"
   ]
  },
  {
   "cell_type": "code",
   "execution_count": null,
   "id": "1a158e54",
   "metadata": {},
   "outputs": [],
   "source": [
    "# Shuffled Here\n",
    "train_dataset = EncoderSentenceClassificationDataset(train_data)\n",
    "eval_dataset = EncoderSentenceClassificationDataset(eval_data)"
   ]
  },
  {
   "cell_type": "code",
   "execution_count": null,
   "id": "d690b277",
   "metadata": {},
   "outputs": [],
   "source": [
    "# for index in random.sample(range(len(train_dataset)), 5):\n",
    "#     logger.info(f\"Sample {index} of the training set: {train_dataset[index]}.\")"
   ]
  },
  {
   "cell_type": "code",
   "execution_count": null,
   "id": "4a16135f",
   "metadata": {},
   "outputs": [],
   "source": [
    "def custom_collate(batch, padding):\n",
    "    train_lst = [b['input_embedding'] for b in batch]\n",
    "    label_lst = [b['em_pattern'] for b in batch]\n",
    "    seq_len_lst = [b['em_pattern'].shape[0] for b in batch]\n",
    "    max_seq_len = max(seq_len_lst)\n",
    "    \n",
    "    padding_train_lst = []\n",
    "    for embedding in train_lst:\n",
    "        if embedding.shape[0] < max_seq_len:\n",
    "            post_pad = torch.full(size=(max_seq_len-embedding.shape[0], embedding.shape[1]), fill_value = padding)\n",
    "            post_pad = torch.full(size=(max_seq_len-embedding.shape[0], embedding.shape[1]), fill_value = -100)\n",
    "            padding_train_lst.append(torch.concat([embedding, post_pad]))\n",
    "        else:\n",
    "            padding_train_lst.append(embedding)\n",
    "            \n",
    "    inputs = torch.stack(padding_train_lst)\n",
    "    \n",
    "    padding_label_lst = []\n",
    "    for label in label_lst:\n",
    "        if label.shape[0] < max_seq_len:\n",
    "            post_pad = torch.full(size=(max_seq_len-label.shape[0], ), fill_value = padding)\n",
    "            post_pad = torch.full(size=(max_seq_len-label.shape[0], ), fill_value = -100)\n",
    "            torch.concat([label, post_pad])\n",
    "            padding_label_lst.append(torch.concat([label, post_pad]))\n",
    "        else:\n",
    "            padding_label_lst.append(label)\n",
    "            \n",
    "    labels = torch.stack(padding_label_lst)\n",
    "    \n",
    "    return {\n",
    "        'inputs' : inputs,\n",
    "        'labels' : labels,\n",
    "        'sequence_len' : torch.tensor(seq_len_lst)\n",
    "    }"
   ]
  },
  {
   "cell_type": "code",
   "execution_count": null,
   "id": "7a3acfff",
   "metadata": {},
   "outputs": [],
   "source": [
    "train_dataloader = DataLoader(train_dataset,\n",
    "                          shuffle=False,\n",
    "                              collate_fn= partial(custom_collate, padding = train_args.padding),\n",
    "                              batch_size=train_args.per_device_train_batch_size,\n",
    "                              )"
   ]
  },
  {
   "cell_type": "code",
   "execution_count": null,
   "id": "0daf6276",
   "metadata": {},
   "outputs": [],
   "source": [
    "eval_dataloader = DataLoader(eval_dataset,\n",
    "                              shuffle = False,\n",
    "                              collate_fn= partial(custom_collate, padding = train_args.padding),\n",
    "                              batch_size=train_args.per_device_eval_batch_size,\n",
    "                            )"
   ]
  },
  {
   "cell_type": "code",
   "execution_count": null,
   "id": "752c0dc2",
   "metadata": {},
   "outputs": [],
   "source": [
    "no_decay = [\"bias\", \"LayerNorm.weight\"]\n",
    "optimizer_grouped_parameters = [\n",
    "    {\n",
    "        \"params\": [p for n, p in model.named_parameters() if not any(nd in n for nd in no_decay)],\n",
    "        \"weight_decay\": train_args.weight_decay,\n",
    "    },\n",
    "    {\n",
    "        \"params\": [p for n, p in model.named_parameters() if any(nd in n for nd in no_decay)],\n",
    "        \"weight_decay\": 0.0,\n",
    "    },\n",
    "]"
   ]
  },
  {
   "cell_type": "code",
   "execution_count": null,
   "id": "59d84c62",
   "metadata": {},
   "outputs": [],
   "source": [
    "optimizer = torch.optim.AdamW(optimizer_grouped_parameters,\n",
    "                              lr=train_args.learning_rate,\n",
    "                              betas=(train_args.adam_beta1, train_args.adam_beta2),\n",
    "                              eps=train_args.adam_epsilon,\n",
    "                              )"
   ]
  },
  {
   "cell_type": "code",
   "execution_count": null,
   "id": "bc6611e1",
   "metadata": {},
   "outputs": [],
   "source": [
    "len(train_dataloader)"
   ]
  },
  {
   "cell_type": "code",
   "execution_count": null,
   "id": "c1a77691",
   "metadata": {},
   "outputs": [],
   "source": [
    "# Scheduler and math around the number of training steps.\n",
    "overrode_max_train_steps = False\n",
    "num_update_steps_per_epoch = math.ceil(len(train_dataloader) / train_args.gradient_accumulation_steps)\n",
    "if train_args.max_train_steps is None:\n",
    "    train_args.max_train_steps = train_args.num_train_epochs * num_update_steps_per_epoch\n",
    "    overrode_max_train_steps = True"
   ]
  },
  {
   "cell_type": "code",
   "execution_count": null,
   "id": "9b81ef3a",
   "metadata": {},
   "outputs": [],
   "source": [
    "lr_scheduler = get_scheduler(\n",
    "    name=train_args.lr_scheduler_type,\n",
    "    optimizer=optimizer,\n",
    "    num_warmup_steps=train_args.num_warmup_steps,\n",
    "    num_training_steps=train_args.max_train_steps,\n",
    ")"
   ]
  },
  {
   "cell_type": "code",
   "execution_count": null,
   "id": "00e46e67",
   "metadata": {},
   "outputs": [],
   "source": [
    "model, optimizer, train_dataloader, eval_dataloader, lr_scheduler = accelerator.prepare(\n",
    "    model, optimizer, train_dataloader, eval_dataloader, lr_scheduler\n",
    ")"
   ]
  },
  {
   "cell_type": "code",
   "execution_count": null,
   "id": "fb0df694",
   "metadata": {},
   "outputs": [],
   "source": [
    "# We need to recalculate our total training steps as the size of the training dataloader may have changed\n",
    "num_update_steps_per_epoch = math.ceil(len(train_dataloader) / train_args.gradient_accumulation_steps)\n",
    "if overrode_max_train_steps:\n",
    "    train_args.max_train_steps = train_args.num_train_epochs * num_update_steps_per_epoch\n",
    "# Afterwards we recalculate our number of training epochs\n",
    "train_args.num_train_epochs = math.ceil(train_args.max_train_steps / num_update_steps_per_epoch)"
   ]
  },
  {
   "cell_type": "code",
   "execution_count": null,
   "id": "eaba4534",
   "metadata": {},
   "outputs": [],
   "source": [
    "checkpointing_steps = train_args.checkpointing_steps\n",
    "if checkpointing_steps is not None and checkpointing_steps.isdigit():\n",
    "    checkpointing_steps = int(checkpointing_steps)"
   ]
  },
  {
   "cell_type": "code",
   "execution_count": null,
   "id": "cbe35d4a",
   "metadata": {},
   "outputs": [],
   "source": [
    "if train_args.with_tracking:\n",
    "    experiment_config = vars(train_args)\n",
    "\n",
    "    accelerator.init_trackers(train_args.wandb_project, config=experiment_config,\n",
    "                              init_kwargs={\"wandb\": {\"name\": train_args.run_name}})"
   ]
  },
  {
   "cell_type": "code",
   "execution_count": null,
   "id": "2384c475",
   "metadata": {},
   "outputs": [],
   "source": [
    "metric_acc = evaluate.load(\"accuracy\")\n",
    "metric_pre = evaluate.load('precision')\n",
    "metric_re = evaluate.load('recall')\n",
    "metric_f1 = evaluate.load('f1')"
   ]
  },
  {
   "cell_type": "code",
   "execution_count": null,
   "id": "47b71c2e",
   "metadata": {},
   "outputs": [],
   "source": [
    "# Train!\n",
    "total_batch_size = train_args.per_device_train_batch_size * accelerator.num_processes * train_args.gradient_accumulation_steps\n",
    "\n",
    "logger.info(\"***** Running training *****\")\n",
    "logger.info(f\"  Num examples = {len(train_dataset)}\")\n",
    "logger.info(f\"  Num Epochs = {train_args.num_train_epochs}\")\n",
    "logger.info(f\"  Instantaneous batch size per device = {train_args.per_device_train_batch_size}\")\n",
    "logger.info(f\"  Total train batch size (w. parallel, distributed & accumulation) = {total_batch_size}\")\n",
    "logger.info(f\"  Gradient Accumulation steps = {train_args.gradient_accumulation_steps}\")\n",
    "logger.info(f\"  Total optimization steps = {train_args.max_train_steps}\")"
   ]
  },
  {
   "cell_type": "code",
   "execution_count": null,
   "id": "c96b1ffb",
   "metadata": {},
   "outputs": [],
   "source": [
    "# Saving model_args, data_args, train_args\n",
    "train_dict = vars(train_args)\n",
    "logger.info(f\"  Saving training_args = {train_dict}\")\n",
    "with open(os.path.join(train_args.output_dir, f\"train_args.json\"), \"w\") as f:\n",
    "    json.dump(train_dict, f)\n",
    "\n",
    "model_dict = vars(model_args)\n",
    "logger.info(f\"  Saving model_args = {model_dict}\")\n",
    "with open(os.path.join(train_args.output_dir, f\"model_args.json\"), \"w\") as f:\n",
    "    json.dump(model_dict, f)\n",
    "\n",
    "data_dict = vars(data_args)\n",
    "logger.info(f\"  Saving data_args = {data_dict}\")\n",
    "with open(os.path.join(train_args.output_dir, f\"data_args.json\"), \"w\") as f:\n",
    "    json.dump(data_dict, f)"
   ]
  },
  {
   "cell_type": "code",
   "execution_count": null,
   "id": "e2b9e09d",
   "metadata": {},
   "outputs": [],
   "source": [
    "# Only show the progress bar once on each machine.\n",
    "progress_bar = tqdm(range(train_args.max_train_steps), disable=not accelerator.is_local_main_process)\n",
    "completed_steps = 0\n",
    "starting_epoch = 0\n",
    "\n",
    "# Using heap for limiting number of saved models\n",
    "model_heap = []\n",
    "heapq.heapify(model_heap)"
   ]
  },
  {
   "cell_type": "code",
   "execution_count": null,
   "id": "d25e2a65",
   "metadata": {},
   "outputs": [],
   "source": [
    "def eval(model, eval_dataloader, accelerator, metric_acc, metric_pre, metric_re, metric_f1, \n",
    "         train_args, epoch, steps, output_dir, logger):\n",
    "\n",
    "    eval_progress_bar = tqdm(range(len(eval_dataloader)), disable=not accelerator.is_local_main_process)\n",
    "\n",
    "    eval_loss = 0\n",
    "    model.eval()\n",
    "    samples_seen = 0\n",
    "    prediction_lst = []\n",
    "    reference_lst = []\n",
    "\n",
    "    for step, batch in enumerate(eval_dataloader):\n",
    "        with torch.no_grad():\n",
    "            logits = model(batch['inputs'], batch['sequence_len'])\n",
    "            if train_args.class_weights:\n",
    "                criterion = torch.nn.CrossEntropyLoss(weight=class_weights, reduction='mean', ignore_index=-100).cuda()\n",
    "            else:\n",
    "                criterion = torch.nn.CrossEntropyLoss(ignore_index=-100).cuda() \n",
    "            loss = criterion(logits.view(-1, logits.shape[-1]), batch['labels'].view(-1))\n",
    "        \n",
    "        if train_args.with_tracking:\n",
    "            eval_loss += loss.detach().float()\n",
    "\n",
    "        predictions = logits.argmax(dim=-1)\n",
    "        references = batch['labels']\n",
    "        \n",
    "        # Get mask for target values != padding index\n",
    "        nonpad_mask = references != train_args.padding\n",
    "        \n",
    "        # Slice out non-pad values\n",
    "        references = references[nonpad_mask]\n",
    "        predictions = predictions[nonpad_mask]\n",
    "        \n",
    "        predictions, references = accelerator.gather((predictions, references))\n",
    "        # If we are in a multiprocess environment, the last batch has duplicates\n",
    "        if accelerator.num_processes > 1:\n",
    "            if step == len(eval_dataloader) - 1:\n",
    "                predictions = predictions[: len(eval_dataloader.dataset) - samples_seen]\n",
    "                references = references[: len(eval_dataloader.dataset) - samples_seen]\n",
    "            else:\n",
    "                samples_seen += references.shape[0]\n",
    "\n",
    "        metric_acc.add_batch(\n",
    "            predictions=predictions,\n",
    "            references=references,\n",
    "        )\n",
    "        metric_pre.add_batch(\n",
    "            predictions=predictions,\n",
    "            references=references,\n",
    "        )\n",
    "        metric_re.add_batch(\n",
    "            predictions=predictions,\n",
    "            references=references,\n",
    "        )\n",
    "        metric_f1.add_batch(\n",
    "            predictions=predictions,\n",
    "            references=references,\n",
    "        )\n",
    "        eval_progress_bar.update(1)\n",
    "        prediction_lst.extend(predictions.detach().cpu().tolist())\n",
    "        reference_lst.extend(references.detach().cpu().tolist())\n",
    "\n",
    "    eval_metric = metric_acc.compute()\n",
    "    eval_metric_pre = metric_pre.compute()\n",
    "    eval_metric_re = metric_re.compute()\n",
    "    eval_metric_f1 = metric_f1.compute()\n",
    "\n",
    "    logger.info(f\"Evaluation at Epoch : {epoch} Total Step : {steps}\")\n",
    "    logger.info(f\"Accuracy : {eval_metric['accuracy']} Precision : {eval_metric_pre['precision']}\")\n",
    "    logger.info(f\"Recall : {eval_metric_re['recall']} F1 : {eval_metric_f1['f1']}\")\n",
    "    logger.info(f\"Epoch : {epoch} Step : {steps}\")\n",
    "    logger.info(f\"Eval_loss : {eval_loss.item() / len(eval_dataloader)}\")\n",
    "\n",
    "    result_log = {\n",
    "        \"eval_accuracy\": eval_metric['accuracy'],\n",
    "        \"eval_precision\": eval_metric_pre['precision'],\n",
    "        \"eval_recall\": eval_metric_re['recall'],\n",
    "        \"eval_f1\": eval_metric_f1['f1'],\n",
    "        \"eval_loss\": eval_loss.item() / len(eval_dataloader),\n",
    "        \"epoch\": epoch,\n",
    "        \"step\": steps,\n",
    "    }\n",
    "\n",
    "    output_result_path = os.path.join(output_dir, f\"epoch{epoch}_steps{steps}_results.json\")\n",
    "    with open(output_result_path, \"w\") as f:\n",
    "        json.dump(result_log, f)\n",
    "\n",
    "    if train_args.with_tracking:\n",
    "        accelerator.log(\n",
    "            result_log,\n",
    "            step=steps,\n",
    "        )\n",
    "\n",
    "    ## Extra\n",
    "    prediction_np = np.array(prediction_lst)\n",
    "    reference_np = np.array(reference_lst)\n",
    "    y_actu = pd.Series(reference_np, name='Actual')\n",
    "    y_pred = pd.Series(prediction_np, name='Predicted')\n",
    "\n",
    "    reversey_pred = y_pred.map(lambda x: 0 if x == 1 else 1)\n",
    "    reversey_actu = y_actu.map(lambda x: 0 if x == 1 else 1)\n",
    "    rev_accuracy = accuracy_score(reversey_actu, reversey_pred)\n",
    "    rev_precision = precision_score(reversey_actu, reversey_pred)\n",
    "    rev_recall = recall_score(reversey_actu, reversey_pred)\n",
    "    rev_f1 = f1_score(reversey_actu, reversey_pred)\n",
    "\n",
    "    logger.info(f\"rev Evaluation at Epoch : {epoch} Total Step : {steps}\")\n",
    "    logger.info(f\"rev_Accuracy : {rev_accuracy} rev_Precision : {rev_precision}\")\n",
    "    logger.info(f\"rev_Recall : {rev_recall} rev_F1 : {rev_f1}\")\n",
    "    logger.info(f\"Epoch : {epoch} Step : {steps}\")\n",
    "    logger.info(f\"Eval_loss : {eval_loss.item() / len(eval_dataloader)}\")\n",
    "\n",
    "    result_rev_log = {\n",
    "        \"eval_rev_accuracy\": rev_accuracy,\n",
    "        \"eval_rev_precision\": rev_precision,\n",
    "        \"eval_rev_recall\": rev_recall,\n",
    "        \"eval_rev_f1\": rev_f1,\n",
    "        \"eval_loss\": eval_loss.item() / len(eval_dataloader),\n",
    "        \"epoch\": epoch,\n",
    "        \"step\": steps,\n",
    "    }\n",
    "\n",
    "    output_result_path = os.path.join(output_dir, f\"epoch{epoch}_steps{steps}_rev_results.json\")\n",
    "    with open(output_result_path, \"w\") as f:\n",
    "        json.dump(result_rev_log, f)\n",
    "\n",
    "    if train_args.with_tracking:\n",
    "        accelerator.log(\n",
    "            result_rev_log,\n",
    "            step=steps,\n",
    "        )\n",
    "\n",
    "    return result_log, output_dir\n"
   ]
  },
  {
   "cell_type": "code",
   "execution_count": null,
   "id": "30c0c0e3",
   "metadata": {
    "scrolled": false
   },
   "outputs": [],
   "source": [
    "for epoch in range(starting_epoch, train_args.num_train_epochs):\n",
    "    model.train()\n",
    "    if train_args.with_tracking:\n",
    "        total_loss = 0\n",
    "    for step, batch in enumerate(train_dataloader):\n",
    "        logits = model(batch['inputs'], batch['sequence_len'])\n",
    "        \n",
    "        criterion = torch.nn.CrossEntropyLoss(ignore_index=-100).cuda() \n",
    "            \n",
    "        loss = criterion(logits.view(-1, logits.shape[-1]), batch['labels'].view(-1))\n",
    "\n",
    "        # We keep track of the loss at each epoch\n",
    "        if train_args.with_tracking:\n",
    "            cur_loss = loss.detach().float()\n",
    "            total_loss += cur_loss\n",
    "\n",
    "        loss = loss / train_args.gradient_accumulation_steps\n",
    "        accelerator.backward(loss)\n",
    "\n",
    "        if step % train_args.gradient_accumulation_steps == 0 or step == len(train_dataloader) - 1:\n",
    "            optimizer.step()\n",
    "            lr_scheduler.step()\n",
    "            optimizer.zero_grad()\n",
    "            progress_bar.update(1)\n",
    "            completed_steps += 1\n",
    "\n",
    "        if completed_steps % train_args.train_loss_steps == 0 and step % train_args.gradient_accumulation_steps == 0:\n",
    "            logger.info(f\"Train loss {cur_loss} at current step  {completed_steps}\")\n",
    "            train_loss_log = {\n",
    "                \"train_loss\": cur_loss,\n",
    "                \"step\": completed_steps,\n",
    "            }\n",
    "            if train_args.with_tracking:\n",
    "                accelerator.log(\n",
    "                    train_loss_log,\n",
    "                    step=completed_steps,\n",
    "                )\n",
    "\n",
    "        if isinstance(checkpointing_steps, int):\n",
    "            if completed_steps % checkpointing_steps == 0 and step % train_args.gradient_accumulation_steps == 0:\n",
    "                output_dir = f\"step_{completed_steps}\"\n",
    "                if train_args.output_dir is not None:\n",
    "                    output_dir = os.path.join(train_args.output_dir, output_dir)\n",
    "                    os.makedirs(output_dir, exist_ok=True)\n",
    "                result_log, model_output_path = eval(model, eval_dataloader, accelerator, \n",
    "                                                     metric_acc, metric_pre, metric_re, metric_f1, \n",
    "                                                     train_args, epoch, completed_steps, output_dir, \n",
    "                                                     logger)\n",
    "                accelerator.save_state(output_dir)\n",
    "\n",
    "                key_best_metric = f'eval_{train_args.best_metric}'\n",
    "                best_metric = result_log[key_best_metric]\n",
    "                logger.info(f\"best_metric : {best_metric}\")\n",
    "                heapq.heappush(model_heap, (best_metric, completed_steps, result_log, model_output_path))\n",
    "\n",
    "                if len(model_heap) > train_args.save_max_limit:\n",
    "                    _, _, _ ,delete_path = heapq.heappop(model_heap)\n",
    "                    logger.info(f\"Deleting file for path : {delete_path}\")\n",
    "                    mydir = pathlib.Path(delete_path)\n",
    "                    shutil.rmtree(mydir)\n",
    "                model.train()\n",
    "\n",
    "        if completed_steps >= train_args.max_train_steps:\n",
    "            break\n",
    "    \n",
    "    output_dir = f\"epoch_{epoch}_step_{completed_steps}\"\n",
    "    if train_args.output_dir is not None:\n",
    "        output_dir = os.path.join(train_args.output_dir, output_dir)\n",
    "        os.makedirs(output_dir, exist_ok=True)\n",
    "    \n",
    "    result_log, model_output_path = eval(model, eval_dataloader, accelerator, \n",
    "                                         metric_acc, metric_pre, metric_re, metric_f1, \n",
    "                                         train_args, epoch, completed_steps, output_dir, \n",
    "                                         logger)\n",
    "    accelerator.save_state(output_dir)\n",
    "\n",
    "    key_best_metric = f'eval_{train_args.best_metric}'\n",
    "    best_metric = result_log[key_best_metric]\n",
    "    logger.info(f\"best_metric : {best_metric}\")\n",
    "    heapq.heappush(model_heap, (best_metric, completed_steps, result_log, model_output_path))\n",
    "\n",
    "    if len(model_heap) > train_args.save_max_limit:\n",
    "        _, _, _ ,delete_path = heapq.heappop(model_heap)\n",
    "        logger.info(f\"Deleting file for path : {delete_path}\")\n",
    "        mydir = pathlib.Path(delete_path)\n",
    "        shutil.rmtree(mydir)\n",
    "            \n",
    "if train_args.with_tracking:\n",
    "    accelerator.end_training()\n"
   ]
  },
  {
   "cell_type": "code",
   "execution_count": null,
   "id": "dd3c1132",
   "metadata": {},
   "outputs": [],
   "source": []
  },
  {
   "cell_type": "code",
   "execution_count": null,
   "id": "0428f7ad",
   "metadata": {},
   "outputs": [],
   "source": []
  },
  {
   "cell_type": "code",
   "execution_count": null,
   "id": "9ddf81b7",
   "metadata": {},
   "outputs": [],
   "source": []
  },
  {
   "cell_type": "code",
   "execution_count": null,
   "id": "bad0f2d6",
   "metadata": {},
   "outputs": [],
   "source": []
  },
  {
   "cell_type": "code",
   "execution_count": null,
   "id": "079b2659",
   "metadata": {},
   "outputs": [],
   "source": []
  },
  {
   "cell_type": "code",
   "execution_count": null,
   "id": "b8ab9afc",
   "metadata": {},
   "outputs": [],
   "source": []
  },
  {
   "cell_type": "code",
   "execution_count": null,
   "id": "a0927e89",
   "metadata": {},
   "outputs": [],
   "source": []
  },
  {
   "cell_type": "code",
   "execution_count": null,
   "id": "471ed39d",
   "metadata": {},
   "outputs": [],
   "source": []
  },
  {
   "cell_type": "code",
   "execution_count": null,
   "id": "50f2b2db",
   "metadata": {},
   "outputs": [],
   "source": []
  },
  {
   "cell_type": "code",
   "execution_count": null,
   "id": "557e125e",
   "metadata": {},
   "outputs": [],
   "source": []
  },
  {
   "cell_type": "code",
   "execution_count": null,
   "id": "2c11528f",
   "metadata": {},
   "outputs": [],
   "source": []
  },
  {
   "cell_type": "code",
   "execution_count": null,
   "id": "782523b2",
   "metadata": {},
   "outputs": [],
   "source": []
  },
  {
   "cell_type": "code",
   "execution_count": null,
   "id": "cd4c77ff",
   "metadata": {},
   "outputs": [],
   "source": [
    "pprint(vars(train_args))"
   ]
  },
  {
   "cell_type": "code",
   "execution_count": null,
   "id": "42199a04",
   "metadata": {},
   "outputs": [],
   "source": []
  },
  {
   "cell_type": "code",
   "execution_count": null,
   "id": "41903e39",
   "metadata": {},
   "outputs": [],
   "source": []
  },
  {
   "cell_type": "code",
   "execution_count": null,
   "id": "50f85ff6",
   "metadata": {},
   "outputs": [],
   "source": []
  },
  {
   "cell_type": "code",
   "execution_count": null,
   "id": "5d5e14c3",
   "metadata": {},
   "outputs": [],
   "source": []
  },
  {
   "cell_type": "code",
   "execution_count": null,
   "id": "d39e8162",
   "metadata": {},
   "outputs": [],
   "source": []
  },
  {
   "cell_type": "code",
   "execution_count": null,
   "id": "06eb4027",
   "metadata": {},
   "outputs": [],
   "source": []
  },
  {
   "cell_type": "code",
   "execution_count": null,
   "id": "53bc3f1a",
   "metadata": {},
   "outputs": [],
   "source": []
  },
  {
   "cell_type": "code",
   "execution_count": null,
   "id": "07fdf488",
   "metadata": {},
   "outputs": [],
   "source": []
  },
  {
   "cell_type": "code",
   "execution_count": null,
   "id": "5f412c78",
   "metadata": {},
   "outputs": [],
   "source": []
  },
  {
   "cell_type": "code",
   "execution_count": null,
   "id": "776df27d",
   "metadata": {},
   "outputs": [],
   "source": [
    "train_data = utils.open_json(train_file)\n",
    "eval_data = utils.open_json(eval_file)"
   ]
  },
  {
   "cell_type": "code",
   "execution_count": null,
   "id": "73fde6aa",
   "metadata": {},
   "outputs": [],
   "source": [
    "max_length = 200\n",
    "shuffle = False"
   ]
  },
  {
   "cell_type": "code",
   "execution_count": null,
   "id": "ec963609",
   "metadata": {},
   "outputs": [],
   "source": [
    "train_dataset = BinaryCustomDatasetShuffle(train_data, tokenizer = tokenizer, \\\n",
    "                                           max_length = max_length, shuffle = shuffle)"
   ]
  },
  {
   "cell_type": "code",
   "execution_count": null,
   "id": "5520a5ee",
   "metadata": {},
   "outputs": [],
   "source": [
    "eval_dataset = BinaryCustomDatasetShuffle(eval_data, tokenizer = tokenizer, \\\n",
    "                                           max_length = max_length, shuffle = shuffle)"
   ]
  },
  {
   "cell_type": "code",
   "execution_count": null,
   "id": "3ab0575f",
   "metadata": {},
   "outputs": [],
   "source": [
    "data_collator = DataCollatorWithPadding(tokenizer, pad_to_multiple_of=8)"
   ]
  },
  {
   "cell_type": "code",
   "execution_count": null,
   "id": "b47026d0",
   "metadata": {},
   "outputs": [],
   "source": [
    "batch_size = 8"
   ]
  },
  {
   "cell_type": "code",
   "execution_count": null,
   "id": "c5e92816",
   "metadata": {},
   "outputs": [],
   "source": [
    "train_dataloader = DataLoader(train_dataset,\n",
    "                              shuffle = True,\n",
    "                              collate_fn=data_collator,\n",
    "                              batch_size=batch_size,\n",
    ")"
   ]
  },
  {
   "cell_type": "code",
   "execution_count": null,
   "id": "5ebf4417",
   "metadata": {},
   "outputs": [],
   "source": [
    "eval_dataloader = DataLoader(eval_dataset,\n",
    "                              shuffle = True,\n",
    "                              collate_fn=data_collator,\n",
    "                              batch_size=batch_size,\n",
    ")"
   ]
  },
  {
   "cell_type": "code",
   "execution_count": null,
   "id": "1c34cff3",
   "metadata": {},
   "outputs": [],
   "source": [
    "no_decay = [\"bias\", \"LayerNorm.weight\"]"
   ]
  },
  {
   "cell_type": "code",
   "execution_count": null,
   "id": "fbdd98be",
   "metadata": {},
   "outputs": [],
   "source": [
    "weight_decay = 0.0"
   ]
  },
  {
   "cell_type": "code",
   "execution_count": null,
   "id": "62a77035",
   "metadata": {},
   "outputs": [],
   "source": [
    "optimizer_grouped_parameters = [\n",
    "        {\n",
    "            \"params\": [p for n, p in model.named_parameters() if not any(nd in n for nd in no_decay)],\n",
    "            \"weight_decay\": weight_decay,\n",
    "        },\n",
    "        {\n",
    "            \"params\": [p for n, p in model.named_parameters() if any(nd in n for nd in no_decay)],\n",
    "            \"weight_decay\": 0.0,\n",
    "        },\n",
    "    ]"
   ]
  },
  {
   "cell_type": "code",
   "execution_count": null,
   "id": "c3d2a0d4",
   "metadata": {
    "scrolled": false
   },
   "outputs": [],
   "source": [
    "optimizer_grouped_parameters[0][\"weight_decay\"]"
   ]
  },
  {
   "cell_type": "code",
   "execution_count": null,
   "id": "3e5c1f1b",
   "metadata": {},
   "outputs": [],
   "source": [
    "learning_rate=5e-5"
   ]
  },
  {
   "cell_type": "code",
   "execution_count": null,
   "id": "47d5fb11",
   "metadata": {},
   "outputs": [],
   "source": [
    "optimizer = torch.optim.AdamW(optimizer_grouped_parameters, lr=learning_rate)"
   ]
  },
  {
   "cell_type": "code",
   "execution_count": null,
   "id": "ba674bb5",
   "metadata": {},
   "outputs": [],
   "source": [
    "lr_scheduler_type='linear'\n",
    "num_warmup_steps = 0\n",
    "# max_train_steps = \n",
    "num_train_epochs = 5\n",
    "gradient_accumulation_steps = 1"
   ]
  },
  {
   "cell_type": "code",
   "execution_count": null,
   "id": "d6b1c44a",
   "metadata": {},
   "outputs": [],
   "source": [
    "num_update_steps_per_epoch = math.ceil(len(train_dataloader) / gradient_accumulation_steps)"
   ]
  },
  {
   "cell_type": "code",
   "execution_count": null,
   "id": "8a6f8b90",
   "metadata": {},
   "outputs": [],
   "source": [
    "max_train_steps = num_train_epochs * num_update_steps_per_epoch"
   ]
  },
  {
   "cell_type": "code",
   "execution_count": null,
   "id": "81266a35",
   "metadata": {},
   "outputs": [],
   "source": [
    "max_train_steps"
   ]
  },
  {
   "cell_type": "code",
   "execution_count": null,
   "id": "cf8961a8",
   "metadata": {},
   "outputs": [],
   "source": [
    "lr_scheduler = get_scheduler(\n",
    "        name=lr_scheduler_type,\n",
    "        optimizer=optimizer,\n",
    "        num_warmup_steps=num_warmup_steps,\n",
    "        num_training_steps=max_train_steps,\n",
    ")"
   ]
  },
  {
   "cell_type": "code",
   "execution_count": null,
   "id": "03d33b38",
   "metadata": {
    "scrolled": false
   },
   "outputs": [],
   "source": [
    "accelerator.prepare(\n",
    "        model, optimizer, train_dataloader, eval_dataloader, lr_scheduler\n",
    "    )"
   ]
  },
  {
   "cell_type": "code",
   "execution_count": null,
   "id": "3dbf3477",
   "metadata": {},
   "outputs": [],
   "source": [
    "metric = evaluate.load(\"accuracy\")"
   ]
  },
  {
   "cell_type": "code",
   "execution_count": null,
   "id": "5ccc85ef",
   "metadata": {},
   "outputs": [],
   "source": [
    "per_device_train_batch_size = 8"
   ]
  },
  {
   "cell_type": "code",
   "execution_count": null,
   "id": "4ecc082f",
   "metadata": {},
   "outputs": [],
   "source": [
    "total_batch_size = per_device_train_batch_size * accelerator.num_processes * gradient_accumulation_steps"
   ]
  },
  {
   "cell_type": "code",
   "execution_count": null,
   "id": "24c96172",
   "metadata": {},
   "outputs": [],
   "source": [
    "total_batch_size"
   ]
  },
  {
   "cell_type": "code",
   "execution_count": null,
   "id": "81d7d2dd",
   "metadata": {},
   "outputs": [],
   "source": [
    "progress_bar = tqdm(range(max_train_steps), disable=not accelerator.is_local_main_process)"
   ]
  },
  {
   "cell_type": "code",
   "execution_count": null,
   "id": "5b459680",
   "metadata": {},
   "outputs": [],
   "source": [
    "num_train_epochs"
   ]
  },
  {
   "cell_type": "code",
   "execution_count": null,
   "id": "224d1b55",
   "metadata": {},
   "outputs": [],
   "source": [
    "starting_epoch = 0\n",
    "with_tracking = True"
   ]
  },
  {
   "cell_type": "code",
   "execution_count": null,
   "id": "25897061",
   "metadata": {},
   "outputs": [],
   "source": [
    "checkpointing_steps = 50"
   ]
  },
  {
   "cell_type": "code",
   "execution_count": null,
   "id": "20c5778d",
   "metadata": {},
   "outputs": [],
   "source": [
    "for epoch in range(starting_epoch, num_train_epochs):\n",
    "    model.train()\n",
    "    if with_tracking:\n",
    "        total_loss = 0\n",
    "    for step, batch in enumerate(train_dataloader):\n",
    "        outputs = model(**batch)\n",
    "        loss = outputs.loss\n",
    "        \n",
    "        if with_tracking:\n",
    "            total_loss += loss.detach().float()\n",
    "            \n",
    "        loss = loss / gradient_accumulation_steps\n",
    "        accelerator.backward(loss)\n",
    "        \n",
    "        if step % args.gradient_accumulation_steps == 0 or step == len(train_dataloader) - 1:\n",
    "            optimizer.step()\n",
    "            lr_scheduler.step()\n",
    "            optimizer.zero_grad()\n",
    "            progress_bar.update(1)\n",
    "            completed_steps += 1\n",
    "            \n",
    "        if isinstance(checkpointing_steps, int):\n",
    "            if completed_steps % checkpointing_steps == 0:\n",
    "                output_dir = f\"step_{completed_steps }\"\n",
    "                if output_dir is not None:\n",
    "                    output_dir = os.path.join(args.output_dir, output_dir)\n",
    "                accelerator.save_state(output_dir)\n",
    "        if completed_steps >= args.max_train_steps:\n",
    "                break\n",
    "                \n",
    "                \n",
    "    model.eval()\n",
    "    samples_seen = 0\n",
    "    for step, batch in enumerate(eval_dataloader):\n",
    "         with torch.no_grad():\n",
    "            outputs = model(**batch)\n",
    "        predictions = outputs.logits.argmax(dim=-1) \n",
    "        predictions, references = accelerator.gather((predictions, batch[\"labels\"]))\n",
    "        \n",
    "        if accelerator.num_processes > 1:\n",
    "            if step == len(eval_dataloader) - 1:\n",
    "                predictions = predictions[: len(eval_dataloader.dataset) - samples_seen]\n",
    "                references = references[: len(eval_dataloader.dataset) - samples_seen]\n",
    "            else:\n",
    "                samples_seen += references.shape[0]\n",
    "        \n",
    "        metric.add_batch(\n",
    "                predictions=predictions,\n",
    "                references=references,\n",
    "            )\n",
    "        \n",
    "        eval_metric = metric.compute()\n",
    "        logger.info(f\"epoch {epoch}: {eval_metric}\")\n",
    "        \n",
    "        if args.with_tracking:\n",
    "            accelerator.log(\n",
    "                {\n",
    "                    \"accuracy\" : eval_metric,\n",
    "                    \"train_loss\": total_loss.item() / len(train_dataloader),\n",
    "                    \"epoch\": epoch,\n",
    "                    \"step\": completed_steps,\n",
    "                },\n",
    "                step=completed_steps,\n",
    "            )\n"
   ]
  },
  {
   "cell_type": "code",
   "execution_count": null,
   "id": "34f588f8",
   "metadata": {},
   "outputs": [],
   "source": [
    "metric_acc = evaluate.load(\"accuracy\")\n",
    "metric_pre = evaluate.load('precision')\n",
    "metric_re = evaluate.load('recall')\n",
    "metric_f1 = evaluate.load('f1')"
   ]
  },
  {
   "cell_type": "code",
   "execution_count": null,
   "id": "448447fe",
   "metadata": {},
   "outputs": [],
   "source": [
    "metric_acc"
   ]
  },
  {
   "cell_type": "code",
   "execution_count": null,
   "id": "557cbe32",
   "metadata": {},
   "outputs": [],
   "source": [
    "accelerator.num_processes"
   ]
  },
  {
   "cell_type": "code",
   "execution_count": null,
   "id": "18636963",
   "metadata": {},
   "outputs": [],
   "source": []
  },
  {
   "cell_type": "code",
   "execution_count": null,
   "id": "bd7522dc",
   "metadata": {},
   "outputs": [],
   "source": []
  },
  {
   "cell_type": "code",
   "execution_count": null,
   "id": "69b3d08d",
   "metadata": {},
   "outputs": [],
   "source": [
    "parser = HfArgumentParser(\n",
    "    (ModelArguments, DataTrainingArguments, TrainingArguments)\n",
    ")\n",
    "args = [\"--model_name_or_path\", 'allenai/longformer-large-4096', '--output_dir', './']\n",
    "model_args, data_args, training_args = parser.parse_args_into_dataclasses(args)\n"
   ]
  },
  {
   "cell_type": "code",
   "execution_count": null,
   "id": "241e4cec",
   "metadata": {},
   "outputs": [],
   "source": [
    "type(model_args)"
   ]
  },
  {
   "cell_type": "code",
   "execution_count": null,
   "id": "7cccdf86",
   "metadata": {},
   "outputs": [],
   "source": [
    "vars(training_args)"
   ]
  },
  {
   "cell_type": "code",
   "execution_count": null,
   "id": "99b309f9",
   "metadata": {},
   "outputs": [],
   "source": []
  },
  {
   "cell_type": "code",
   "execution_count": null,
   "id": "275f31db",
   "metadata": {},
   "outputs": [],
   "source": []
  },
  {
   "cell_type": "code",
   "execution_count": null,
   "id": "09cab07f",
   "metadata": {},
   "outputs": [],
   "source": [
    "logger = logging.getLogger(__name__)\n",
    "\n",
    "logging.basicConfig(\n",
    "    format=\"%(asctime)s - %(levelname)s - %(name)s - %(message)s\",\n",
    "    datefmt=\"%m/%d/%Y %H:%M:%S\",\n",
    "    handlers=[logging.StreamHandler(sys.stdout)],\n",
    ")\n",
    "\n",
    "log_level = training_args.get_process_log_level()\n",
    "logger.setLevel(log_level)\n",
    "transformers.utils.logging.set_verbosity(log_level)\n",
    "transformers.utils.logging.enable_default_handler()\n",
    "transformers.utils.logging.enable_explicit_format()\n",
    "\n",
    "# Log on each process the small summary:\n",
    "logger.warning(\n",
    "    f\"Process rank: {training_args.local_rank}, device: {training_args.device}, n_gpu: {training_args.n_gpu}\"\n",
    "    + f\"distributed training: {bool(training_args.local_rank != -1)}, 16-bits training: {training_args.fp16}\"\n",
    ")\n",
    "logger.info(f\"Training/evaluation parameters {training_args}\")"
   ]
  },
  {
   "cell_type": "code",
   "execution_count": null,
   "id": "f50a5465",
   "metadata": {},
   "outputs": [],
   "source": [
    "# Detecting last checkpoint.\n",
    "last_checkpoint = None\n",
    "if os.path.isdir(training_args.output_dir) and training_args.do_train and not training_args.overwrite_output_dir:\n",
    "    last_checkpoint = get_last_checkpoint(training_args.output_dir)\n",
    "    if last_checkpoint is None and len(os.listdir(training_args.output_dir)) > 0:\n",
    "        raise ValueError(\n",
    "            f\"Output directory ({training_args.output_dir}) already exists and is not empty. \"\n",
    "            \"Use --overwrite_output_dir to overcome.\"\n",
    "        )\n",
    "    elif last_checkpoint is not None:\n",
    "        logger.info(\n",
    "            f\"Checkpoint detected, resuming training at {last_checkpoint}. To avoid this behavior, change \"\n",
    "            \"the `--output_dir` or add `--overwrite_output_dir` to train from scratch.\"\n",
    "        )\n"
   ]
  },
  {
   "cell_type": "code",
   "execution_count": null,
   "id": "2e57646f",
   "metadata": {},
   "outputs": [],
   "source": [
    "# Set seed before initializing model.\n",
    "set_seed(training_args.seed)"
   ]
  },
  {
   "cell_type": "code",
   "execution_count": null,
   "id": "4f2ebdca",
   "metadata": {},
   "outputs": [],
   "source": [
    "config = AutoConfig.from_pretrained(\n",
    "        model_args.config_name if model_args.config_name else model_args.model_name_or_path,\n",
    "        num_labels=model_args.num_labels,\n",
    "    )\n",
    "tokenizer = AutoTokenizer.from_pretrained(\n",
    "        model_args.tokenizer_name if model_args.tokenizer_name else model_args.model_name_or_path,\n",
    "    )\n",
    "model = AutoModelForSequenceClassification.from_pretrained(\n",
    "    model_args.model_name_or_path,\n",
    "    config=config,\n",
    ")"
   ]
  },
  {
   "cell_type": "code",
   "execution_count": null,
   "id": "df813504",
   "metadata": {},
   "outputs": [],
   "source": [
    "if training_args.do_train:\n",
    "    instances, cut_off, total_questions = preprocessing_data(\n",
    "        data_args.train_file, \n",
    "        data_args.sample_size, \n",
    "        data_args.position)\n",
    "    \n",
    "    train_instance = instances[data_args.dev_size:]\n",
    "    dev_instance = instances[:data_args.dev_size]\n",
    "    \n",
    "    train_dataset = CustomDataset(train_instance, \n",
    "                               tokenizer, \n",
    "                               model_args.max_seq_length)\n",
    "    dev_dataset = CustomDataset(train_instance, \n",
    "                               tokenizer, \n",
    "                               model_args.max_seq_length)\n",
    "    \n",
    "    # Log a few random samples from the training set:\n",
    "    for index in random.sample(range(len(train_dataset)), 3):\n",
    "        logger.info(f\"Sample {index} of the training set: {train_dataset[index]}.\")\n",
    "\n",
    "if training_args.do_eval:\n",
    "    instances, cut_off, total_questions = preprocessing_data(\n",
    "        data_args.test_file, \n",
    "        data_args.sample_size, \n",
    "        data_args.position)\n",
    "    \n",
    "    test_dataset = CustomDataset(instances, \n",
    "                               tokenizer, \n",
    "                               model_args.max_seq_length)\n",
    "    \n",
    "    \n"
   ]
  },
  {
   "cell_type": "code",
   "execution_count": null,
   "id": "7794c379",
   "metadata": {},
   "outputs": [],
   "source": [
    "# Get the metric function\n",
    "metric = evaluate.load(\"xnli\")\n",
    "\n",
    "def compute_metrics(p: EvalPrediction):\n",
    "    preds = p.predictions[0] if isinstance(p.predictions, tuple) else p.predictions\n",
    "    preds = np.argmax(preds, axis=1)\n",
    "    return metric.compute(predictions=preds, references=p.label_ids)\n"
   ]
  },
  {
   "cell_type": "code",
   "execution_count": null,
   "id": "e11c2f58",
   "metadata": {},
   "outputs": [],
   "source": [
    " # Initialize Trainer\n",
    "data_collator = DataCollatorWithPadding(\n",
    "    tokenizer, \n",
    "    pad_to_multiple_of=8,\n",
    ")\n",
    "\n",
    "trainer = Trainer(\n",
    "    model=model,\n",
    "    args=training_args,\n",
    "    train_dataset=train_dataset if training_args.do_train else None,\n",
    "    eval_dataset=eval_dataset if training_args.do_train else None,\n",
    "    compute_metrics=compute_metrics,\n",
    "    tokenizer=tokenizer,\n",
    "    data_collator=data_collator,\n",
    "    callbacks=[EarlyStoppingCallback(early_stopping_patience=30)]\n",
    ")\n",
    "\n",
    "# Training\n",
    "if training_args.do_train:\n",
    "    checkpoint = None\n",
    "    if training_args.resume_from_checkpoint is not None:\n",
    "        checkpoint = training_args.resume_from_checkpoint\n",
    "    elif last_checkpoint is not None:\n",
    "        checkpoint = last_checkpoint\n",
    "    train_result = trainer.train(resume_from_checkpoint=checkpoint)\n",
    "    metrics = train_result.metrics\n",
    "    max_train_samples = (\n",
    "        data_args.max_train_samples if data_args.max_train_samples is not None else len(train_dataset)\n",
    "    )\n",
    "    metrics[\"train_samples\"] = min(max_train_samples, len(train_dataset))\n",
    "\n",
    "    trainer.save_model()  # Saves the tokenizer too for easy upload\n",
    "\n",
    "    trainer.log_metrics(\"train\", metrics)\n",
    "    trainer.save_metrics(\"train\", metrics)\n",
    "    trainer.save_state()\n",
    "    \n",
    "# Evaluation\n",
    "if training_args.do_eval:\n",
    "    logger.info(\"*** Evaluate ***\")\n",
    "    metrics = trainer.evaluate(eval_dataset=eval_dataset)\n",
    "\n",
    "    max_eval_samples = data_args.max_eval_samples if data_args.max_eval_samples is not None else len(eval_dataset)\n",
    "    metrics[\"eval_samples\"] = min(max_eval_samples, len(eval_dataset))\n",
    "\n",
    "    trainer.log_metrics(\"eval\", metrics)\n",
    "    trainer.save_metrics(\"eval\", metrics)"
   ]
  },
  {
   "cell_type": "code",
   "execution_count": null,
   "id": "dfe7e951",
   "metadata": {},
   "outputs": [],
   "source": []
  },
  {
   "cell_type": "code",
   "execution_count": null,
   "id": "7930ab04",
   "metadata": {},
   "outputs": [],
   "source": []
  },
  {
   "cell_type": "code",
   "execution_count": null,
   "id": "8d0fc78d",
   "metadata": {},
   "outputs": [],
   "source": []
  },
  {
   "cell_type": "code",
   "execution_count": null,
   "id": "a0b9adaf",
   "metadata": {},
   "outputs": [],
   "source": [
    "metric"
   ]
  },
  {
   "cell_type": "code",
   "execution_count": null,
   "id": "8df12bd3",
   "metadata": {},
   "outputs": [],
   "source": [
    "data_args.dataset_name = a\n",
    "    "
   ]
  },
  {
   "cell_type": "code",
   "execution_count": null,
   "id": "633d9b84",
   "metadata": {},
   "outputs": [],
   "source": [
    "data.max_seq_length"
   ]
  },
  {
   "cell_type": "code",
   "execution_count": null,
   "id": "ed523bb2",
   "metadata": {},
   "outputs": [],
   "source": [
    "training_args.fp16"
   ]
  },
  {
   "cell_type": "code",
   "execution_count": null,
   "id": "737a498d",
   "metadata": {},
   "outputs": [],
   "source": []
  },
  {
   "cell_type": "code",
   "execution_count": null,
   "id": "0e978cf6",
   "metadata": {},
   "outputs": [],
   "source": [
    "bb"
   ]
  },
  {
   "cell_type": "code",
   "execution_count": null,
   "id": "922d1e9b",
   "metadata": {},
   "outputs": [],
   "source": [
    "def main():\n",
    "    parser = HfArgumentParser(\n",
    "        (ModelArguments, DataTrainingArguments, TrainingArguments)\n",
    "    )\n",
    "    \n",
    "    model_args, data_args, training_args = parser.parse_args_into_dataclasses()\n",
    "    \n",
    "    "
   ]
  }
 ],
 "metadata": {
  "kernelspec": {
   "display_name": "relevance-kilt",
   "language": "python",
   "name": "relevance-kilt"
  },
  "language_info": {
   "codemirror_mode": {
    "name": "ipython",
    "version": 3
   },
   "file_extension": ".py",
   "mimetype": "text/x-python",
   "name": "python",
   "nbconvert_exporter": "python",
   "pygments_lexer": "ipython3",
   "version": "3.8.13"
  }
 },
 "nbformat": 4,
 "nbformat_minor": 5
}
