{
 "cells": [
  {
   "cell_type": "markdown",
   "id": "b9908fbb",
   "metadata": {},
   "source": [
    "# Analysis3 - extracting FiD encoder embedding"
   ]
  },
  {
   "cell_type": "markdown",
   "id": "02dce998",
   "metadata": {},
   "source": [
    "## CHECKING PARSER"
   ]
  },
  {
   "cell_type": "code",
   "execution_count": null,
   "id": "88dfdd51",
   "metadata": {},
   "outputs": [],
   "source": [
    "from accelerate import Accelerator\n",
    "from accelerate.logging import get_logger\n",
    "from accelerate.utils import set_seed\n",
    "import heapq\n",
    "import pathlib\n",
    "import shutil\n",
    "from FiD.src.model import FiDT5\n",
    "from src.model import FiDEncoderForSequenceClassification\n",
    "\n",
    "from pprint import pprint\n",
    "from tqdm.auto import tqdm\n",
    "from src.data import BinaryCustomDatasetShuffle\n",
    "\n",
    "import json\n",
    "import math\n",
    "import os\n",
    "import logging\n",
    "import sys\n",
    "import evaluate\n",
    "from util import utils\n",
    "\n",
    "import transformers\n",
    "import torch\n",
    "import numpy as np\n",
    "import random\n",
    "from torch import nn\n",
    "from torch.utils.data import Dataset, DataLoader\n",
    "from torch.utils.data import DataLoader, SequentialSampler\n",
    "from transformers import (\n",
    "    AutoModelForSequenceClassification,\n",
    "    AutoModel,\n",
    "    AutoConfig,\n",
    "    AutoTokenizer,\n",
    "    DataCollatorWithPadding,\n",
    "    EvalPrediction,\n",
    "    HfArgumentParser,\n",
    "    set_seed,\n",
    "    get_scheduler,\n",
    ")\n",
    "from util.arguments import ModelArguments, DataTrainingArguments, CustomTrainingArguments"
   ]
  },
  {
   "cell_type": "code",
   "execution_count": null,
   "id": "03c75899",
   "metadata": {},
   "outputs": [],
   "source": [
    "os.environ['CUDA_VISIBLE_DEVICES']='1'\n",
    "# os.environ['CUDA_VISIBLE_DEVICES']='1'"
   ]
  },
  {
   "cell_type": "code",
   "execution_count": null,
   "id": "1f7a415b",
   "metadata": {},
   "outputs": [],
   "source": [
    "parser = HfArgumentParser((ModelArguments, DataTrainingArguments, CustomTrainingArguments))\n",
    "\n",
    "model_args, data_args, train_args = parser.parse_args_into_dataclasses([])"
   ]
  },
  {
   "cell_type": "code",
   "execution_count": null,
   "id": "b17e3b2d",
   "metadata": {},
   "outputs": [],
   "source": [
    "vars(model_args)"
   ]
  },
  {
   "cell_type": "code",
   "execution_count": null,
   "id": "c2085b1f",
   "metadata": {},
   "outputs": [],
   "source": [
    "vars(data_args)"
   ]
  },
  {
   "cell_type": "code",
   "execution_count": null,
   "id": "e4c23199",
   "metadata": {},
   "outputs": [],
   "source": [
    "train_dict = vars(train_args)"
   ]
  },
  {
   "cell_type": "code",
   "execution_count": null,
   "id": "a6d3d762",
   "metadata": {},
   "outputs": [],
   "source": [
    "train_dict"
   ]
  },
  {
   "cell_type": "markdown",
   "id": "f9f6ed75",
   "metadata": {},
   "source": [
    "## modeling"
   ]
  },
  {
   "cell_type": "code",
   "execution_count": null,
   "id": "87912412",
   "metadata": {},
   "outputs": [],
   "source": [
    "from pprint import pprint\n",
    "import numpy as np\n",
    "import torch\n",
    "from torch import nn\n",
    "import transformers\n",
    "from transformers import AutoConfig, AutoTokenizer\n",
    "from transformers import T5PreTrainedModel\n",
    "import copy\n",
    "from transformers.modeling_outputs import SequenceClassifierOutput\n",
    "from torch.nn import BCEWithLogitsLoss, CrossEntropyLoss, MSELoss"
   ]
  },
  {
   "cell_type": "code",
   "execution_count": null,
   "id": "292a9618",
   "metadata": {},
   "outputs": [],
   "source": [
    "from FiD.src.model import FiDT5"
   ]
  },
  {
   "cell_type": "code",
   "execution_count": null,
   "id": "eb71ac41",
   "metadata": {},
   "outputs": [],
   "source": [
    "model_path = '/data/philhoon-relevance/FiD/pretrained_models/nq_reader_large'\n",
    "num_labels = 2"
   ]
  },
  {
   "cell_type": "code",
   "execution_count": null,
   "id": "d53d484f",
   "metadata": {},
   "outputs": [],
   "source": [
    "model_class = FiDT5"
   ]
  },
  {
   "cell_type": "code",
   "execution_count": null,
   "id": "e6128151",
   "metadata": {},
   "outputs": [],
   "source": [
    "config = AutoConfig.from_pretrained(model_path, num_labels=num_labels)"
   ]
  },
  {
   "cell_type": "code",
   "execution_count": null,
   "id": "ca7ee51b",
   "metadata": {},
   "outputs": [],
   "source": [
    "pprint(config)"
   ]
  },
  {
   "cell_type": "code",
   "execution_count": null,
   "id": "d576a482",
   "metadata": {},
   "outputs": [],
   "source": [
    "model = model_class.from_pretrained(model_path)"
   ]
  },
  {
   "cell_type": "code",
   "execution_count": null,
   "id": "68b6b5b1",
   "metadata": {
    "scrolled": false
   },
   "outputs": [],
   "source": [
    "# model.encoder => FiDT5.EncoderWrapper\n",
    "# model.encoder.encoder => FiDT5.EncoderWrapper.encoder = T5 encoder Architecture w FiDT5 parameters\n",
    "model_encoder = model.encoder.encoder"
   ]
  },
  {
   "cell_type": "code",
   "execution_count": null,
   "id": "e76d09a2",
   "metadata": {},
   "outputs": [],
   "source": [
    "type(model_encoder)"
   ]
  },
  {
   "cell_type": "code",
   "execution_count": null,
   "id": "d5200122",
   "metadata": {},
   "outputs": [],
   "source": [
    "tokenizer = AutoTokenizer.from_pretrained('t5-base', return_dict=False)"
   ]
  },
  {
   "cell_type": "code",
   "execution_count": null,
   "id": "862f68b5",
   "metadata": {},
   "outputs": [],
   "source": [
    "# tokenizer = transformers.T5Tokenizer.from_pretrained('t5-base', return_dict=False)"
   ]
  },
  {
   "cell_type": "code",
   "execution_count": null,
   "id": "f3620652",
   "metadata": {},
   "outputs": [],
   "source": [
    "example = {'id': 12, \n",
    "           'question': \"when was the public service commission original version of the upsc set up\", \n",
    "           'ctx': {\"id\": \"17105334\", \n",
    "                   \"title\": \"Bihar Public Service Commission\", \n",
    "                   \"text\": \"3 of the Regulations, 1960 the Commission was constituted with a Chairman and 10 (ten) other members. The strength of members was reduced to 6 (six) after bifurcation of the State of Bihar and the State of Jharkhand vide notification no. 7/PSC-1013/95 (Part-3) Per 8262 dated 9 October 2002 of the Personnel & Administrative Reforms Department, Bihar. Article 320 and 321 of the Constitution of India prescribes the mandate of the State Public Service Commissions, which are: a)Recruitment by conduct of Competitive Examinations/ through interviews to the services of the State Government. b)Advising the State Government on the suitability of\"}\n",
    "          }\n"
   ]
  },
  {
   "cell_type": "code",
   "execution_count": null,
   "id": "af8b3f43",
   "metadata": {},
   "outputs": [],
   "source": [
    "padded_output = tokenizer(example['question'], padding=True)"
   ]
  },
  {
   "cell_type": "code",
   "execution_count": null,
   "id": "f4a7be34",
   "metadata": {},
   "outputs": [],
   "source": [
    "padded_output"
   ]
  },
  {
   "cell_type": "code",
   "execution_count": null,
   "id": "d0e958b2",
   "metadata": {},
   "outputs": [],
   "source": [
    "tokenizer.convert_ids_to_tokens(padded_output['input_ids'])"
   ]
  },
  {
   "cell_type": "code",
   "execution_count": null,
   "id": "2c62a582",
   "metadata": {},
   "outputs": [],
   "source": [
    "test_ids = np.expand_dims(np.array(padded_output['input_ids']), 0)"
   ]
  },
  {
   "cell_type": "code",
   "execution_count": null,
   "id": "2957fce2",
   "metadata": {
    "scrolled": true
   },
   "outputs": [],
   "source": [
    "test_ids = torch.from_numpy(test_ids)\n",
    "print(test_ids)"
   ]
  },
  {
   "cell_type": "code",
   "execution_count": null,
   "id": "0a93a279",
   "metadata": {},
   "outputs": [],
   "source": [
    "test_attention = np.expand_dims(np.array(padded_output['attention_mask']), 0)"
   ]
  },
  {
   "cell_type": "code",
   "execution_count": null,
   "id": "9a316a1b",
   "metadata": {},
   "outputs": [],
   "source": [
    "test_attention = torch.from_numpy(test_attention)\n",
    "print(test_attention)"
   ]
  },
  {
   "cell_type": "code",
   "execution_count": null,
   "id": "96cfd3ac",
   "metadata": {},
   "outputs": [],
   "source": [
    "result = model_encoder.forward(input_ids = test_ids, attention_mask = test_attention)"
   ]
  },
  {
   "cell_type": "code",
   "execution_count": null,
   "id": "dc662c37",
   "metadata": {},
   "outputs": [],
   "source": [
    "vars(result)"
   ]
  },
  {
   "cell_type": "code",
   "execution_count": null,
   "id": "bb4d7161",
   "metadata": {},
   "outputs": [],
   "source": [
    "result['last_hidden_state'].shape"
   ]
  },
  {
   "cell_type": "markdown",
   "id": "ee0fe48b",
   "metadata": {},
   "source": [
    "## Get Input "
   ]
  },
  {
   "cell_type": "code",
   "execution_count": null,
   "id": "5f37bc11",
   "metadata": {},
   "outputs": [],
   "source": [
    "import FiD.src.data"
   ]
  },
  {
   "cell_type": "code",
   "execution_count": null,
   "id": "943150a7",
   "metadata": {},
   "outputs": [],
   "source": [
    "eval_data = '/data/philhoon-relevance/FiD/open_domain_data/NQ/dev.json'"
   ]
  },
  {
   "cell_type": "code",
   "execution_count": null,
   "id": "6b670216",
   "metadata": {},
   "outputs": [],
   "source": [
    "eval_examples = FiD.src.data.load_data(\n",
    "        eval_data,\n",
    "    )"
   ]
  },
  {
   "cell_type": "code",
   "execution_count": null,
   "id": "83ada771",
   "metadata": {},
   "outputs": [],
   "source": [
    "len(eval_examples)"
   ]
  },
  {
   "cell_type": "code",
   "execution_count": null,
   "id": "d8afb8d0",
   "metadata": {},
   "outputs": [],
   "source": [
    "eval_examples[0].keys()"
   ]
  },
  {
   "cell_type": "code",
   "execution_count": null,
   "id": "4b27db9f",
   "metadata": {},
   "outputs": [],
   "source": [
    "eval_examples[0]['question']"
   ]
  },
  {
   "cell_type": "code",
   "execution_count": null,
   "id": "03b41c11",
   "metadata": {},
   "outputs": [],
   "source": [
    "eval_examples[0]['answers']"
   ]
  },
  {
   "cell_type": "code",
   "execution_count": null,
   "id": "19d92a5b",
   "metadata": {},
   "outputs": [],
   "source": [
    "# eval_examples[0]['id']"
   ]
  },
  {
   "cell_type": "code",
   "execution_count": null,
   "id": "bb67162b",
   "metadata": {},
   "outputs": [],
   "source": [
    "import FiD.src.data"
   ]
  },
  {
   "cell_type": "code",
   "execution_count": null,
   "id": "215dfb7a",
   "metadata": {},
   "outputs": [],
   "source": [
    "n_context = 10"
   ]
  },
  {
   "cell_type": "code",
   "execution_count": null,
   "id": "90960a97",
   "metadata": {},
   "outputs": [],
   "source": [
    "eval_dataset = FiD.src.data.Dataset(\n",
    "    eval_examples,  \n",
    "    n_context = n_context\n",
    ")"
   ]
  },
  {
   "cell_type": "code",
   "execution_count": null,
   "id": "5c0a4aad",
   "metadata": {},
   "outputs": [],
   "source": [
    "len(eval_dataset[0]['passages'])"
   ]
  },
  {
   "cell_type": "code",
   "execution_count": null,
   "id": "f19c6f38",
   "metadata": {},
   "outputs": [],
   "source": [
    "eval_dataset[0].keys()"
   ]
  },
  {
   "cell_type": "code",
   "execution_count": null,
   "id": "a156abdb",
   "metadata": {},
   "outputs": [],
   "source": [
    "# eval_dataset[0]"
   ]
  },
  {
   "cell_type": "code",
   "execution_count": null,
   "id": "16a1816b",
   "metadata": {},
   "outputs": [],
   "source": [
    "text_maxlength = 200"
   ]
  },
  {
   "cell_type": "code",
   "execution_count": null,
   "id": "e9e3b41b",
   "metadata": {},
   "outputs": [],
   "source": [
    "collator_function = FiD.src.data.Collator(text_maxlength, tokenizer, n_context)"
   ]
  },
  {
   "cell_type": "code",
   "execution_count": null,
   "id": "d9d4b4a9",
   "metadata": {},
   "outputs": [],
   "source": [
    "eval_sampler = SequentialSampler(eval_dataset) "
   ]
  },
  {
   "cell_type": "code",
   "execution_count": null,
   "id": "14c7bf27",
   "metadata": {},
   "outputs": [],
   "source": [
    "per_gpu_batch_size = 2"
   ]
  },
  {
   "cell_type": "code",
   "execution_count": null,
   "id": "c8c187d0",
   "metadata": {},
   "outputs": [],
   "source": [
    "eval_dataloader = DataLoader(\n",
    "    eval_dataset, \n",
    "    sampler=eval_sampler, \n",
    "    batch_size=per_gpu_batch_size,\n",
    "    num_workers=8,\n",
    "    collate_fn=collator_function\n",
    ")\n"
   ]
  },
  {
   "cell_type": "code",
   "execution_count": null,
   "id": "66c78595",
   "metadata": {},
   "outputs": [],
   "source": [
    "iter_ = iter(eval_dataloader)"
   ]
  },
  {
   "cell_type": "code",
   "execution_count": null,
   "id": "e702d65a",
   "metadata": {},
   "outputs": [],
   "source": [
    "ins = next(iter_)"
   ]
  },
  {
   "cell_type": "code",
   "execution_count": null,
   "id": "0138ec33",
   "metadata": {},
   "outputs": [],
   "source": [
    "# (index, target_ids, target_mask, passage_ids, passage_masks)"
   ]
  },
  {
   "cell_type": "code",
   "execution_count": null,
   "id": "74d0cd62",
   "metadata": {},
   "outputs": [],
   "source": [
    "## Index\n",
    "ins[0]"
   ]
  },
  {
   "cell_type": "code",
   "execution_count": null,
   "id": "94adff93",
   "metadata": {},
   "outputs": [],
   "source": [
    "# target_ids\n",
    "ins[1].shape"
   ]
  },
  {
   "cell_type": "code",
   "execution_count": null,
   "id": "cf26abb9",
   "metadata": {},
   "outputs": [],
   "source": [
    "# target_mask\n",
    "ins[2].shape"
   ]
  },
  {
   "cell_type": "code",
   "execution_count": null,
   "id": "7821c469",
   "metadata": {},
   "outputs": [],
   "source": [
    "# passage_ids = context_ids = input_ids\n",
    "ins[3].shape"
   ]
  },
  {
   "cell_type": "code",
   "execution_count": null,
   "id": "2c857d57",
   "metadata": {},
   "outputs": [],
   "source": [
    "# passage_masks  = context_masks = attention_masks\n",
    "ins[4].shape"
   ]
  },
  {
   "cell_type": "code",
   "execution_count": null,
   "id": "1cff0946",
   "metadata": {},
   "outputs": [],
   "source": [
    "# result = model_encoder.forward(input_ids = ins[3], attention_mask = ins[4])"
   ]
  },
  {
   "cell_type": "code",
   "execution_count": null,
   "id": "b5d4b053",
   "metadata": {},
   "outputs": [],
   "source": [
    "# ins.keys()"
   ]
  },
  {
   "cell_type": "code",
   "execution_count": null,
   "id": "54e7f0ec",
   "metadata": {},
   "outputs": [],
   "source": [
    "# ins[2].size(0)"
   ]
  },
  {
   "cell_type": "code",
   "execution_count": null,
   "id": "2538c1bb",
   "metadata": {},
   "outputs": [],
   "source": [
    "input_ids, attention_mask = ins[3], ins[4]"
   ]
  },
  {
   "cell_type": "code",
   "execution_count": null,
   "id": "cd4b778c",
   "metadata": {},
   "outputs": [],
   "source": [
    "input_ids = input_ids.view(input_ids.size(0), -1)\n",
    "attention_mask = attention_mask.view(attention_mask.size(0), -1)"
   ]
  },
  {
   "cell_type": "code",
   "execution_count": null,
   "id": "ae8eab4b",
   "metadata": {},
   "outputs": [],
   "source": [
    "print(input_ids.shape, attention_mask.shape)"
   ]
  },
  {
   "cell_type": "code",
   "execution_count": null,
   "id": "85a7e532",
   "metadata": {},
   "outputs": [],
   "source": [
    "bsz, total_length = input_ids.shape"
   ]
  },
  {
   "cell_type": "code",
   "execution_count": null,
   "id": "b389876d",
   "metadata": {},
   "outputs": [],
   "source": [
    "print(bsz, total_length)"
   ]
  },
  {
   "cell_type": "code",
   "execution_count": null,
   "id": "9cb87e3a",
   "metadata": {},
   "outputs": [],
   "source": [
    "n_context"
   ]
  },
  {
   "cell_type": "code",
   "execution_count": null,
   "id": "e168a1a4",
   "metadata": {},
   "outputs": [],
   "source": [
    "n_passages = n_context\n",
    "print(n_passages)\n",
    "print(total_length)"
   ]
  },
  {
   "cell_type": "code",
   "execution_count": null,
   "id": "86881ded",
   "metadata": {},
   "outputs": [],
   "source": [
    "# n_passages = 100\n",
    "passage_length = total_length // n_passages\n",
    "print(passage_length)"
   ]
  },
  {
   "cell_type": "code",
   "execution_count": null,
   "id": "8d30083d",
   "metadata": {},
   "outputs": [],
   "source": [
    "input_ids = input_ids.view(bsz*n_passages, passage_length)\n",
    "print(input_ids.shape)"
   ]
  },
  {
   "cell_type": "code",
   "execution_count": null,
   "id": "4226f3e4",
   "metadata": {},
   "outputs": [],
   "source": [
    "attention_mask = attention_mask.view(bsz*n_passages, passage_length)\n",
    "print(attention_mask.shape)"
   ]
  },
  {
   "cell_type": "code",
   "execution_count": null,
   "id": "9fb44505",
   "metadata": {},
   "outputs": [],
   "source": [
    "device = torch.device(\"cuda\" if torch.cuda.is_available() else 'cpu')"
   ]
  },
  {
   "cell_type": "code",
   "execution_count": null,
   "id": "b3d9cd30",
   "metadata": {},
   "outputs": [],
   "source": [
    "model_encoder.to(device = device)"
   ]
  },
  {
   "cell_type": "code",
   "execution_count": null,
   "id": "0b1209fe",
   "metadata": {},
   "outputs": [],
   "source": [
    "# t = torch.randn(2,2).cuda()\n",
    "print(input_ids.is_cuda)  # returns True\n",
    "# t = t.cpu()\n",
    "# t.is_cuda  # returns False"
   ]
  },
  {
   "cell_type": "code",
   "execution_count": null,
   "id": "ccd145ef",
   "metadata": {},
   "outputs": [],
   "source": [
    "device"
   ]
  },
  {
   "cell_type": "code",
   "execution_count": null,
   "id": "9e7def24",
   "metadata": {},
   "outputs": [],
   "source": [
    "input_ids = input_ids.to(device)\n",
    "print(input_ids.is_cuda)\n",
    "attention_mask = attention_mask.to(device)\n",
    "print(input_ids.is_cuda)"
   ]
  },
  {
   "cell_type": "code",
   "execution_count": null,
   "id": "d882b4e8",
   "metadata": {},
   "outputs": [],
   "source": [
    "# bsz * # psgs X \n",
    "print(input_ids.shape)\n",
    "print(attention_mask.shape)"
   ]
  },
  {
   "cell_type": "markdown",
   "id": "70e2ba87",
   "metadata": {},
   "source": [
    "## Chekcing inputs are 500 * 200 shape and in a right order"
   ]
  },
  {
   "cell_type": "code",
   "execution_count": null,
   "id": "ba8b0d7f",
   "metadata": {},
   "outputs": [],
   "source": [
    "# eval_dataset[0]"
   ]
  },
  {
   "cell_type": "code",
   "execution_count": null,
   "id": "9f2fdba2",
   "metadata": {},
   "outputs": [],
   "source": [
    "# tokenizer.convert_ids_to_tokens(input_ids[0][:])"
   ]
  },
  {
   "cell_type": "code",
   "execution_count": null,
   "id": "4f757b6a",
   "metadata": {},
   "outputs": [],
   "source": [
    "# tokenizer.convert_ids_to_tokens(input_ids[1][:])"
   ]
  },
  {
   "cell_type": "code",
   "execution_count": null,
   "id": "342f6288",
   "metadata": {},
   "outputs": [],
   "source": [
    "outputs = model_encoder(input_ids, attention_mask)"
   ]
  },
  {
   "cell_type": "code",
   "execution_count": null,
   "id": "68347a6f",
   "metadata": {},
   "outputs": [],
   "source": [
    "vars(outputs)"
   ]
  },
  {
   "cell_type": "code",
   "execution_count": null,
   "id": "186eb51b",
   "metadata": {},
   "outputs": [],
   "source": [
    "print(outputs[0].shape)\n",
    "print(bsz, n_passages, passage_length)"
   ]
  },
  {
   "cell_type": "code",
   "execution_count": null,
   "id": "803079c8",
   "metadata": {},
   "outputs": [],
   "source": [
    "output_by_batch = outputs[0]"
   ]
  },
  {
   "cell_type": "code",
   "execution_count": null,
   "id": "6d9370d1",
   "metadata": {},
   "outputs": [],
   "source": [
    "# outputs = self.encoder(input_ids, attention_mask, **kwargs)\n",
    "# outputs = (outputs[0].view(bsz, n_passages*passage_length, -1), ) + outputs[1:]"
   ]
  },
  {
   "cell_type": "code",
   "execution_count": null,
   "id": "4e41408b",
   "metadata": {},
   "outputs": [],
   "source": [
    "# outputs[0].shape"
   ]
  },
  {
   "cell_type": "code",
   "execution_count": null,
   "id": "61988169",
   "metadata": {},
   "outputs": [],
   "source": [
    "bsz"
   ]
  },
  {
   "cell_type": "code",
   "execution_count": null,
   "id": "eca914d7",
   "metadata": {},
   "outputs": [],
   "source": [
    "output_by_batch.shape"
   ]
  },
  {
   "cell_type": "code",
   "execution_count": null,
   "id": "000d6e57",
   "metadata": {},
   "outputs": [],
   "source": [
    "output_by_batch = output_by_batch.view(bsz, n_passages, passage_length, -1)"
   ]
  },
  {
   "cell_type": "code",
   "execution_count": null,
   "id": "f5935add",
   "metadata": {},
   "outputs": [],
   "source": [
    "output_by_batch.shape"
   ]
  },
  {
   "cell_type": "code",
   "execution_count": null,
   "id": "d5b63158",
   "metadata": {},
   "outputs": [],
   "source": [
    "output_by = output_by_batch.detach().cpu()"
   ]
  },
  {
   "cell_type": "code",
   "execution_count": null,
   "id": "64b859bb",
   "metadata": {},
   "outputs": [],
   "source": [
    "print(output_by_batch.is_cuda)\n",
    "print(output_by.is_cuda)"
   ]
  },
  {
   "cell_type": "code",
   "execution_count": null,
   "id": "6b8a61f9",
   "metadata": {},
   "outputs": [],
   "source": [
    "for i in range(2):\n",
    "    print(output_by[i,].shape)"
   ]
  },
  {
   "cell_type": "code",
   "execution_count": null,
   "id": "34fff521",
   "metadata": {},
   "outputs": [],
   "source": [
    "print(output_by.shape)"
   ]
  },
  {
   "cell_type": "code",
   "execution_count": null,
   "id": "0817aadd",
   "metadata": {},
   "outputs": [],
   "source": []
  },
  {
   "cell_type": "code",
   "execution_count": null,
   "id": "c448a061",
   "metadata": {},
   "outputs": [],
   "source": []
  }
 ],
 "metadata": {
  "kernelspec": {
   "display_name": "relevance-kilt",
   "language": "python",
   "name": "relevance-kilt"
  },
  "language_info": {
   "codemirror_mode": {
    "name": "ipython",
    "version": 3
   },
   "file_extension": ".py",
   "mimetype": "text/x-python",
   "name": "python",
   "nbconvert_exporter": "python",
   "pygments_lexer": "ipython3",
   "version": "3.8.13"
  }
 },
 "nbformat": 4,
 "nbformat_minor": 5
}
