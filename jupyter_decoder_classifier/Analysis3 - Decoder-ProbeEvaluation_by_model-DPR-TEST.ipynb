{
 "cells": [
  {
   "cell_type": "markdown",
   "id": "e86601ea",
   "metadata": {},
   "source": [
    "# Analysis3 - Decoder-ProbeEvaluation_DPR-TEST"
   ]
  },
  {
   "cell_type": "markdown",
   "id": "f22e3864",
   "metadata": {},
   "source": [
    "    - Probe evalutaion at blocksize\n",
    "    - /scratch/philhoon-relevance/decoder-classification/results/NQ-DEV-DPR/5-fold/1/decoder-seq-classifier-layer12-batch128-lr6e-4-combdata-blocksize20"
   ]
  },
  {
   "cell_type": "code",
   "execution_count": 41,
   "id": "fd2d16de",
   "metadata": {},
   "outputs": [],
   "source": [
    "from cycler import cycler\n",
    "import numpy as np\n",
    "import seaborn as sns\n",
    "import matplotlib as mpl\n",
    "import pathlib\n",
    "from pprint import pprint\n",
    "import pandas as pd\n",
    "import matplotlib.pyplot as plt\n",
    "import os\n",
    "from rich.console import Console\n",
    "from rich.table import Table\n",
    "from util import utils\n",
    "import re\n",
    "from pathlib import Path"
   ]
  },
  {
   "cell_type": "code",
   "execution_count": 42,
   "id": "5d5ed060",
   "metadata": {},
   "outputs": [],
   "source": [
    "raw_light_palette = [\n",
    "    (0, 122, 255), # Blue\n",
    "    (255, 149, 0), # Orange\n",
    "    (52, 199, 89), # Green\n",
    "    (255, 59, 48), # Red\n",
    "    (175, 82, 222),# Purple\n",
    "    (255, 45, 85), # Pink\n",
    "    (88, 86, 214), # Indigo\n",
    "    (90, 200, 250),# Teal\n",
    "    (255, 204, 0)  # Yellow\n",
    "]\n",
    "\n",
    "raw_gray_light_palette = [\n",
    "    (142, 142, 147),# Gray\n",
    "    (174, 174, 178),# Gray (2)\n",
    "    (199, 199, 204),# Gray (3)\n",
    "    (209, 209, 214),# Gray (4)\n",
    "    (229, 229, 234),# Gray (5)\n",
    "    (242, 242, 247),# Gray (6)\n",
    "]\n",
    "\n",
    "\n",
    "light_palette = np.array(raw_light_palette)/255\n",
    "gray_light_palette = np.array(raw_gray_light_palette)/255"
   ]
  },
  {
   "cell_type": "code",
   "execution_count": 43,
   "id": "6535c681",
   "metadata": {},
   "outputs": [
    {
     "name": "stdout",
     "output_type": "stream",
     "text": [
      "Light mode palette\n"
     ]
    },
    {
     "data": {
      "image/png": "[encoded data removed]",
      "text/plain": [
       "<Figure size 1800x200 with 1 Axes>"
      ]
     },
     "metadata": {
      "needs_background": "light"
     },
     "output_type": "display_data"
    },
    {
     "data": {
      "image/png": "[encoded data removed]",
      "text/plain": [
       "<Figure size 1200x200 with 1 Axes>"
      ]
     },
     "metadata": {
      "needs_background": "light"
     },
     "output_type": "display_data"
    }
   ],
   "source": [
    "print('Light mode palette')\n",
    "sns.palplot(light_palette)\n",
    "sns.palplot(gray_light_palette)"
   ]
  },
  {
   "cell_type": "code",
   "execution_count": 44,
   "id": "a6739be8",
   "metadata": {},
   "outputs": [],
   "source": [
    "# cmap 수정\n",
    "mpl.rcParams['axes.prop_cycle'] = cycler('color',light_palette)\n",
    "# 해상도 조정\n",
    "mpl.rcParams['figure.dpi'] = 200\n",
    "# ax의 우측과 상단 지우기\n",
    "mpl.rcParams['axes.spines.top'] = False\n",
    "mpl.rcParams['axes.spines.right'] = False"
   ]
  },
  {
   "cell_type": "code",
   "execution_count": 45,
   "id": "065c4417",
   "metadata": {},
   "outputs": [],
   "source": [
    "model_path = '/scratch/philhoon-relevance/decoder-classification/results/NQ-DEV-DPR/5-fold/1/decoder-seq-classifier-layer24-batch32Xgr4-lr6e-5-combdata-blocksize60'"
   ]
  },
  {
   "cell_type": "code",
   "execution_count": 46,
   "id": "841552dd",
   "metadata": {},
   "outputs": [],
   "source": [
    "model_args_path=os.path.join(model_path, 'model_args.json')\n",
    "model_args = utils.open_json(model_args_path)"
   ]
  },
  {
   "cell_type": "code",
   "execution_count": 47,
   "id": "bdf6276a",
   "metadata": {},
   "outputs": [],
   "source": [
    "block_size = model_args['block_size']"
   ]
  },
  {
   "cell_type": "code",
   "execution_count": 48,
   "id": "932ca61d",
   "metadata": {},
   "outputs": [
    {
     "data": {
      "text/plain": [
       "60"
      ]
     },
     "execution_count": 48,
     "metadata": {},
     "output_type": "execute_result"
    }
   ],
   "source": [
    "block_size"
   ]
  },
  {
   "cell_type": "markdown",
   "id": "afbef3dd",
   "metadata": {},
   "source": [
    "## Find all the probes given model path "
   ]
  },
  {
   "cell_type": "code",
   "execution_count": 49,
   "id": "ec7d301e",
   "metadata": {},
   "outputs": [],
   "source": [
    "path_m = Path(model_path)"
   ]
  },
  {
   "cell_type": "code",
   "execution_count": 50,
   "id": "32ce268f",
   "metadata": {},
   "outputs": [],
   "source": [
    "prob_path_lst = path_m.rglob('*Probes')"
   ]
  },
  {
   "cell_type": "code",
   "execution_count": 51,
   "id": "c9954c43",
   "metadata": {
    "scrolled": false
   },
   "outputs": [],
   "source": [
    "cnt = 0\n",
    "comp_lst = []\n",
    "for probe_path in prob_path_lst:\n",
    "    comp_prob = probe_path.rglob('*inferencefinished.txt*')\n",
    "    for comp in comp_prob:\n",
    "        cnt += 1\n",
    "        file_path = comp.parent / 'run.log'\n",
    "        comp_lst.append(file_path)"
   ]
  },
  {
   "cell_type": "code",
   "execution_count": 52,
   "id": "90e900fd",
   "metadata": {},
   "outputs": [
    {
     "name": "stdout",
     "output_type": "stream",
     "text": [
      "10\n"
     ]
    }
   ],
   "source": [
    "print(cnt)"
   ]
  },
  {
   "cell_type": "code",
   "execution_count": 53,
   "id": "d9992bc0",
   "metadata": {},
   "outputs": [],
   "source": [
    "layer_pattern = r\"layer(\\d+)\"\n",
    "batch_pattern = r\"batch(\\d+)\"\n",
    "lr_pattern = r\"lr([\\d.e-]+)\"\n",
    "blocksize_pattern = r\"blocksize(\\d+)\"\n",
    "step_pattern = r\"step_(\\d+)\"\n",
    "probe_pattern = r\"probe(\\d+)\""
   ]
  },
  {
   "cell_type": "code",
   "execution_count": 54,
   "id": "b72f2282",
   "metadata": {
    "scrolled": false
   },
   "outputs": [],
   "source": [
    "result = []\n",
    "for run_log in comp_lst:\n",
    "    temp = {}\n",
    "    run_logs_str = str(run_log)\n",
    "#     print(run_logs_str)\n",
    "    \n",
    "    layer_match = re.search(layer_pattern, run_logs_str)\n",
    "    batch_match = re.search(batch_pattern, run_logs_str)\n",
    "    lr_match = re.search(lr_pattern, run_logs_str)\n",
    "    blocksize_match = re.search(blocksize_pattern, run_logs_str)\n",
    "    step_match = re.search(step_pattern, run_logs_str)\n",
    "    probe_match = re.search(probe_pattern, run_logs_str)\n",
    "    \n",
    "    layer_num = int(layer_match.group(1)) if layer_match else None\n",
    "    batch_num = int(batch_match.group(1)) if batch_match else None\n",
    "    lr_num = lr_match.group(1) if lr_match else None\n",
    "    blocksize_num = int(blocksize_match.group(1)) if blocksize_match else None\n",
    "    step_num = int(step_match.group(1)) if step_match else None\n",
    "    probe_num = int(probe_match.group(1)) if probe_match else None\n",
    "    \n",
    "    if lr_num and lr_num.endswith('-'):\n",
    "        lr_num = lr_num[:-1]\n",
    "\n",
    "\n",
    "#     print(\"layer:\", layer_num)\n",
    "    temp['layer'] = layer_num\n",
    "#     print(\"batch:\", batch_num)\n",
    "    temp['batch'] = batch_num\n",
    "#     print(\"lr:\", lr_num)\n",
    "    temp['lr'] = lr_num\n",
    "#     print(\"blocksize:\", blocksize_num)\n",
    "    temp['blocksize'] = blocksize_num\n",
    "#     print(\"step:\", step_num)\n",
    "    temp['step'] = step_num\n",
    "#     print(\"probe:\", probe_num)\n",
    "    temp['probe'] = probe_num\n",
    "\n",
    "    with open(run_log, \"r\") as f:\n",
    "        lines = f.readlines()\n",
    "\n",
    "        last_line = lines[-1]\n",
    "\n",
    "        em_number_match = re.search(r\"EM\\s+(\\d+\\.\\d+)\", last_line)\n",
    "        em_number = float(em_number_match.group(1)) if em_number_match else None\n",
    "        temp['em_number'] = em_number\n",
    "        # Print the extracted number\n",
    "#         if em_number:\n",
    "#             print(\"EM number:\", em_number.group(1))\n",
    "#         else:\n",
    "#             print(\"No EM number found in the last line.\")\n",
    "#     pprint(temp)\n",
    "    result.append(temp)"
   ]
  },
  {
   "cell_type": "code",
   "execution_count": 55,
   "id": "6e0da072",
   "metadata": {},
   "outputs": [],
   "source": [
    "result_df = pd.DataFrame(result)"
   ]
  },
  {
   "cell_type": "code",
   "execution_count": 56,
   "id": "a1186aa1",
   "metadata": {},
   "outputs": [
    {
     "data": {
      "text/html": [
       "<div>\n",
       "<style scoped>\n",
       "    .dataframe tbody tr th:only-of-type {\n",
       "        vertical-align: middle;\n",
       "    }\n",
       "\n",
       "    .dataframe tbody tr th {\n",
       "        vertical-align: top;\n",
       "    }\n",
       "\n",
       "    .dataframe thead th {\n",
       "        text-align: right;\n",
       "    }\n",
       "</style>\n",
       "<table border=\"1\" class=\"dataframe\">\n",
       "  <thead>\n",
       "    <tr style=\"text-align: right;\">\n",
       "      <th></th>\n",
       "      <th>layer</th>\n",
       "      <th>batch</th>\n",
       "      <th>lr</th>\n",
       "      <th>blocksize</th>\n",
       "      <th>step</th>\n",
       "      <th>probe</th>\n",
       "      <th>em_number</th>\n",
       "    </tr>\n",
       "  </thead>\n",
       "  <tbody>\n",
       "    <tr>\n",
       "      <th>0</th>\n",
       "      <td>24</td>\n",
       "      <td>32</td>\n",
       "      <td>6e-5</td>\n",
       "      <td>60</td>\n",
       "      <td>450</td>\n",
       "      <td>3</td>\n",
       "      <td>53.88</td>\n",
       "    </tr>\n",
       "    <tr>\n",
       "      <th>1</th>\n",
       "      <td>24</td>\n",
       "      <td>32</td>\n",
       "      <td>6e-5</td>\n",
       "      <td>60</td>\n",
       "      <td>400</td>\n",
       "      <td>3</td>\n",
       "      <td>53.93</td>\n",
       "    </tr>\n",
       "    <tr>\n",
       "      <th>2</th>\n",
       "      <td>24</td>\n",
       "      <td>32</td>\n",
       "      <td>6e-5</td>\n",
       "      <td>60</td>\n",
       "      <td>50</td>\n",
       "      <td>3</td>\n",
       "      <td>51.27</td>\n",
       "    </tr>\n",
       "    <tr>\n",
       "      <th>3</th>\n",
       "      <td>24</td>\n",
       "      <td>32</td>\n",
       "      <td>6e-5</td>\n",
       "      <td>60</td>\n",
       "      <td>350</td>\n",
       "      <td>3</td>\n",
       "      <td>53.93</td>\n",
       "    </tr>\n",
       "    <tr>\n",
       "      <th>4</th>\n",
       "      <td>24</td>\n",
       "      <td>32</td>\n",
       "      <td>6e-5</td>\n",
       "      <td>60</td>\n",
       "      <td>500</td>\n",
       "      <td>3</td>\n",
       "      <td>54.04</td>\n",
       "    </tr>\n",
       "    <tr>\n",
       "      <th>5</th>\n",
       "      <td>24</td>\n",
       "      <td>32</td>\n",
       "      <td>6e-5</td>\n",
       "      <td>60</td>\n",
       "      <td>250</td>\n",
       "      <td>3</td>\n",
       "      <td>53.66</td>\n",
       "    </tr>\n",
       "    <tr>\n",
       "      <th>6</th>\n",
       "      <td>24</td>\n",
       "      <td>32</td>\n",
       "      <td>6e-5</td>\n",
       "      <td>60</td>\n",
       "      <td>200</td>\n",
       "      <td>3</td>\n",
       "      <td>53.88</td>\n",
       "    </tr>\n",
       "    <tr>\n",
       "      <th>7</th>\n",
       "      <td>24</td>\n",
       "      <td>32</td>\n",
       "      <td>6e-5</td>\n",
       "      <td>60</td>\n",
       "      <td>300</td>\n",
       "      <td>3</td>\n",
       "      <td>53.74</td>\n",
       "    </tr>\n",
       "    <tr>\n",
       "      <th>8</th>\n",
       "      <td>24</td>\n",
       "      <td>32</td>\n",
       "      <td>6e-5</td>\n",
       "      <td>60</td>\n",
       "      <td>150</td>\n",
       "      <td>3</td>\n",
       "      <td>53.49</td>\n",
       "    </tr>\n",
       "    <tr>\n",
       "      <th>9</th>\n",
       "      <td>24</td>\n",
       "      <td>32</td>\n",
       "      <td>6e-5</td>\n",
       "      <td>60</td>\n",
       "      <td>550</td>\n",
       "      <td>3</td>\n",
       "      <td>53.96</td>\n",
       "    </tr>\n",
       "  </tbody>\n",
       "</table>\n",
       "</div>"
      ],
      "text/plain": [
       "   layer  batch    lr  blocksize  step  probe  em_number\n",
       "0     24     32  6e-5         60   450      3      53.88\n",
       "1     24     32  6e-5         60   400      3      53.93\n",
       "2     24     32  6e-5         60    50      3      51.27\n",
       "3     24     32  6e-5         60   350      3      53.93\n",
       "4     24     32  6e-5         60   500      3      54.04\n",
       "5     24     32  6e-5         60   250      3      53.66\n",
       "6     24     32  6e-5         60   200      3      53.88\n",
       "7     24     32  6e-5         60   300      3      53.74\n",
       "8     24     32  6e-5         60   150      3      53.49\n",
       "9     24     32  6e-5         60   550      3      53.96"
      ]
     },
     "execution_count": 56,
     "metadata": {},
     "output_type": "execute_result"
    }
   ],
   "source": [
    "result_df"
   ]
  },
  {
   "cell_type": "code",
   "execution_count": 57,
   "id": "4ce10e81",
   "metadata": {},
   "outputs": [],
   "source": [
    "# print(result_df)"
   ]
  },
  {
   "cell_type": "code",
   "execution_count": 58,
   "id": "0a773b9f",
   "metadata": {},
   "outputs": [
    {
     "data": {
      "text/plain": [
       "<AxesSubplot:xlabel='step', ylabel='em_number'>"
      ]
     },
     "execution_count": 58,
     "metadata": {},
     "output_type": "execute_result"
    },
    {
     "data": {
      "image/png": "[encoded data removed]",
      "text/plain": [
       "<Figure size 1200x800 with 1 Axes>"
      ]
     },
     "metadata": {
      "needs_background": "light"
     },
     "output_type": "display_data"
    }
   ],
   "source": [
    "sns.lineplot(x='step', y='em_number', hue='probe', data=result_df, palette = 'pastel')\n",
    "# graph.axhline(1.25)"
   ]
  },
  {
   "cell_type": "code",
   "execution_count": 59,
   "id": "3e607d29",
   "metadata": {},
   "outputs": [],
   "source": [
    "# def get_plt_by_step_probe(result_df)\n",
    "#     result_df_by_probe = result_df.groupby('probe')\n",
    "#     fig, ax = plt.subplots(1, 1, figsize=(4, 4))\n",
    "#     ax.plot(result_df_by_probe['step'],result_df_by_probe['em_number'], label='probe eval', alpha = 0.3, linewidth=5, color = 'blue', marker = \"o\")    \n",
    "# ax.plot(df_incre['ctx'],df_incre['em'], label='dpr acc eval', alpha = 0.3, linewidth=5, color = 'red', marker = \"*\")\n",
    "# # ax.set_title('FiD result on BM25 hard negative nq dev subsets')\n",
    "# ax.set_title(title)\n",
    "# ax.legend(title='Normal vs Accumulated', fontsize = 'x-small')\n",
    "# plt.ylabel('EM')\n",
    "# plt.xlabel('Number of Context')\n",
    "# # plt.savefig(plot_path, dpi=300)\n",
    "# plt.show()"
   ]
  },
  {
   "cell_type": "code",
   "execution_count": 60,
   "id": "7f834eb2",
   "metadata": {},
   "outputs": [],
   "source": [
    "sample_size = 100\n",
    "output_file_path = f'/scratch/philhoon-relevance/FiD/results/NQ_DPR/TEST/incremental_result_100/ctx{sample_size}.json'"
   ]
  },
  {
   "cell_type": "code",
   "execution_count": 61,
   "id": "a6f1e832",
   "metadata": {},
   "outputs": [],
   "source": [
    "final_output = utils.open_json(output_file_path)"
   ]
  },
  {
   "cell_type": "code",
   "execution_count": 62,
   "id": "6fc699ee",
   "metadata": {},
   "outputs": [],
   "source": [
    "def extract_em_pattern(final_output, sample_size):\n",
    "    em_pattern_lst = []\n",
    "    for instance in final_output:\n",
    "        em_pattern_lst.append(instance['em_pattern'][:sample_size])\n",
    "    return em_pattern_lst"
   ]
  },
  {
   "cell_type": "code",
   "execution_count": 63,
   "id": "26017211",
   "metadata": {},
   "outputs": [],
   "source": [
    "sample_size = 60\n",
    "em_pattern_lst = extract_em_pattern(final_output, sample_size)"
   ]
  },
  {
   "cell_type": "code",
   "execution_count": 64,
   "id": "dacf75c1",
   "metadata": {},
   "outputs": [
    {
     "data": {
      "text/plain": [
       "3610"
      ]
     },
     "execution_count": 64,
     "metadata": {},
     "output_type": "execute_result"
    }
   ],
   "source": [
    "len(em_pattern_lst)"
   ]
  },
  {
   "cell_type": "code",
   "execution_count": 65,
   "id": "719915c3",
   "metadata": {},
   "outputs": [],
   "source": [
    "def get_normal_em(em_pattern_lst, sample_size):\n",
    "    cnt = 0\n",
    "    for em in em_pattern_lst:\n",
    "        if em[sample_size-1] == '1':\n",
    "            cnt += 1\n",
    "    print(cnt/len(em_pattern_lst))\n",
    "    return cnt/len(em_pattern_lst)"
   ]
  },
  {
   "cell_type": "code",
   "execution_count": 66,
   "id": "f134709f",
   "metadata": {},
   "outputs": [
    {
     "name": "stdout",
     "output_type": "stream",
     "text": [
      "0.5421052631578948\n"
     ]
    }
   ],
   "source": [
    "normal_em = get_normal_em(em_pattern_lst, sample_size) * 100"
   ]
  },
  {
   "cell_type": "code",
   "execution_count": 67,
   "id": "42b76091",
   "metadata": {},
   "outputs": [
    {
     "data": {
      "text/plain": [
       "<matplotlib.lines.Line2D at 0x7fbf57febb20>"
      ]
     },
     "execution_count": 67,
     "metadata": {},
     "output_type": "execute_result"
    },
    {
     "data": {
      "image/png": "[encoded data removed]",
      "text/plain": [
       "<Figure size 1200x800 with 1 Axes>"
      ]
     },
     "metadata": {
      "needs_background": "light"
     },
     "output_type": "display_data"
    }
   ],
   "source": [
    "graph = sns.lineplot(x='step', y='em_number', hue='probe', data=result_df, palette = 'pastel')\n",
    "graph.axhline(normal_em)"
   ]
  },
  {
   "cell_type": "code",
   "execution_count": 38,
   "id": "6e04f0cf",
   "metadata": {},
   "outputs": [],
   "source": [
    "# em_pattnern_lst"
   ]
  },
  {
   "cell_type": "code",
   "execution_count": 42,
   "id": "618667d4",
   "metadata": {},
   "outputs": [],
   "source": [
    "def get_accumulated_em(em_pattnern_lst, sample_size):\n",
    "    incre_em = {\n",
    "        'ctx' : [],\n",
    "        'em' : [],   \n",
    "    }\n",
    "    for ctx in range(1, sample_size+1):\n",
    "        incre_em['ctx'].append(ctx)\n",
    "        cnt = 0\n",
    "        for pattern in em_pattnern_lst:\n",
    "            if '1' in pattern[:ctx]:\n",
    "                cnt += 1\n",
    "        incre_em['em'].append(cnt/len(em_pattnern_lst))\n",
    "    return incre_em"
   ]
  },
  {
   "cell_type": "code",
   "execution_count": 43,
   "id": "253a2d9c",
   "metadata": {},
   "outputs": [],
   "source": [
    "incre_em = get_accumulated_em(em_pattern_lst, sample_size)"
   ]
  },
  {
   "cell_type": "code",
   "execution_count": 49,
   "id": "cc38ef5d",
   "metadata": {},
   "outputs": [
    {
     "data": {
      "text/plain": [
       "0.6141274238227147"
      ]
     },
     "execution_count": 49,
     "metadata": {},
     "output_type": "execute_result"
    }
   ],
   "source": [
    "incre_em['em'][sample_size-1]"
   ]
  },
  {
   "cell_type": "code",
   "execution_count": null,
   "id": "db6ea543",
   "metadata": {},
   "outputs": [],
   "source": []
  }
 ],
 "metadata": {
  "kernelspec": {
   "display_name": "relevance-kilt",
   "language": "python",
   "name": "relevance-kilt"
  },
  "language_info": {
   "codemirror_mode": {
    "name": "ipython",
    "version": 3
   },
   "file_extension": ".py",
   "mimetype": "text/x-python",
   "name": "python",
   "nbconvert_exporter": "python",
   "pygments_lexer": "ipython3",
   "version": "3.8.13"
  }
 },
 "nbformat": 4,
 "nbformat_minor": 5
}
