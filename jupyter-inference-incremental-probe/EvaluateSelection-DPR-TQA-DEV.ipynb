{
 "cells": [
  {
   "cell_type": "markdown",
   "id": "e86601ea",
   "metadata": {},
   "source": [
    "# EvaluateSelection-DPR-TQA-DEV"
   ]
  },
  {
   "cell_type": "markdown",
   "id": "c49f712c",
   "metadata": {},
   "source": [
    "- Analysis on NQ-2-get-data-for-incremental-data results\n",
    "- sample size 20 or 100"
   ]
  },
  {
   "cell_type": "code",
   "execution_count": 1,
   "id": "434f76e1",
   "metadata": {},
   "outputs": [],
   "source": [
    "from cycler import cycler\n",
    "import numpy as np\n",
    "import seaborn as sns\n",
    "import matplotlib as mpl\n",
    "import pathlib\n",
    "from pprint import pprint\n",
    "import pandas as pd\n",
    "import matplotlib.pyplot as plt\n",
    "import os\n",
    "from rich.console import Console\n",
    "from rich.table import Table\n",
    "from util import utils\n",
    "import re"
   ]
  },
  {
   "cell_type": "code",
   "execution_count": 2,
   "id": "4bd7e04f",
   "metadata": {},
   "outputs": [],
   "source": [
    "def get_table(title, columns, rows):\n",
    "\n",
    "    table = Table(title=title)\n",
    "    \n",
    "    table.add_column(\"\", justify=\"center\")\n",
    "    for column in columns:\n",
    "        table.add_column(column, justify=\"center\")\n",
    "    \n",
    "    for row in rows:\n",
    "        table.add_row(*row)\n",
    "        \n",
    "\n",
    "    console = Console(record=True)\n",
    "    console.print(table, justify=\"center\")\n",
    "#     console.save_text(f\"./images/{title}\")"
   ]
  },
  {
   "cell_type": "code",
   "execution_count": 3,
   "id": "171f41f3",
   "metadata": {},
   "outputs": [],
   "source": [
    "raw_light_palette = [\n",
    "    (0, 122, 255), # Blue\n",
    "    (255, 149, 0), # Orange\n",
    "    (52, 199, 89), # Green\n",
    "    (255, 59, 48), # Red\n",
    "    (175, 82, 222),# Purple\n",
    "    (255, 45, 85), # Pink\n",
    "    (88, 86, 214), # Indigo\n",
    "    (90, 200, 250),# Teal\n",
    "    (255, 204, 0)  # Yellow\n",
    "]\n",
    "\n",
    "raw_gray_light_palette = [\n",
    "    (142, 142, 147),# Gray\n",
    "    (174, 174, 178),# Gray (2)\n",
    "    (199, 199, 204),# Gray (3)\n",
    "    (209, 209, 214),# Gray (4)\n",
    "    (229, 229, 234),# Gray (5)\n",
    "    (242, 242, 247),# Gray (6)\n",
    "]\n",
    "\n",
    "\n",
    "light_palette = np.array(raw_light_palette)/255\n",
    "gray_light_palette = np.array(raw_gray_light_palette)/255"
   ]
  },
  {
   "cell_type": "code",
   "execution_count": 4,
   "id": "fa90290f",
   "metadata": {},
   "outputs": [
    {
     "name": "stdout",
     "output_type": "stream",
     "text": [
      "Light mode palette\n"
     ]
    },
    {
     "data": {
      "image/png": "[encoded data removed]",
      "text/plain": [
       "<Figure size 900x100 with 1 Axes>"
      ]
     },
     "metadata": {},
     "output_type": "display_data"
    },
    {
     "data": {
      "image/png": "[encoded data removed]",
      "text/plain": [
       "<Figure size 600x100 with 1 Axes>"
      ]
     },
     "metadata": {},
     "output_type": "display_data"
    }
   ],
   "source": [
    "print('Light mode palette')\n",
    "sns.palplot(light_palette)\n",
    "sns.palplot(gray_light_palette)"
   ]
  },
  {
   "cell_type": "code",
   "execution_count": 5,
   "id": "add1657d",
   "metadata": {},
   "outputs": [],
   "source": [
    "# cmap 수정\n",
    "mpl.rcParams['axes.prop_cycle'] = cycler('color',light_palette)\n",
    "# 해상도 조정\n",
    "mpl.rcParams['figure.dpi'] = 200\n",
    "# ax의 우측과 상단 지우기\n",
    "mpl.rcParams['axes.spines.top'] = False\n",
    "mpl.rcParams['axes.spines.right'] = False"
   ]
  },
  {
   "cell_type": "markdown",
   "id": "d4c7c0a3",
   "metadata": {},
   "source": [
    "## KILT BM25 NQ negative (from DPR) depreciated"
   ]
  },
  {
   "cell_type": "code",
   "execution_count": 6,
   "id": "4e9ae4ae",
   "metadata": {},
   "outputs": [],
   "source": [
    "# option = 'bm25'\n",
    "# path = '/data/philhoon-relevance/FiD/results/KILT_DPR_NQ'\n",
    "# # path = '/data/philhoon-relevance/FiD/results/KILT_DPR_NQ_depreciated'\n",
    "# plot_path = './img/FiDResultOnBM25HardnegativeNQdevSubsets.png'\n",
    "# title = 'FiD result on BM25 negative nq dev subsets'"
   ]
  },
  {
   "cell_type": "markdown",
   "id": "b69b594e",
   "metadata": {},
   "source": [
    "## KILT Random Sampling NQ negative  depreciated"
   ]
  },
  {
   "cell_type": "code",
   "execution_count": 7,
   "id": "db0ca387",
   "metadata": {},
   "outputs": [],
   "source": [
    "# option = 'random'\n",
    "# path = '/data/philhoon-relevance/FiD/results/KILT_RANDOM_NQ'\n",
    "# plot_path = './img/FiDResultOnRandomSamplingnegativeNQdevSubsets.png'\n",
    "# title = 'FiD result on random sampling negative nq dev subsets'"
   ]
  },
  {
   "cell_type": "markdown",
   "id": "4d94b03f",
   "metadata": {},
   "source": [
    "## KILT BM25 NQ negative (from DPR)"
   ]
  },
  {
   "cell_type": "code",
   "execution_count": 8,
   "id": "779c7a4d",
   "metadata": {},
   "outputs": [],
   "source": [
    "# option = 'bm25'\n",
    "# path = '/data/philhoon-relevance/FiD/results/KILT_BM25_NQ'"
   ]
  },
  {
   "cell_type": "markdown",
   "id": "ce828108",
   "metadata": {},
   "source": [
    "## KILT Random Sampling NQ negative "
   ]
  },
  {
   "cell_type": "code",
   "execution_count": 9,
   "id": "580e7bce",
   "metadata": {},
   "outputs": [],
   "source": [
    "# option = 'random'\n",
    "# path = '/data/philhoon-relevance/FiD/results/KILT_RANDOM_NQ'\n",
    "# plot_path = './img/New_FiDResultOnRandomSamplingnegativeNQdev2539.png'\n",
    "# title = 'New FiD result on random sampling negative nq dev subsets'"
   ]
  },
  {
   "cell_type": "code",
   "execution_count": 10,
   "id": "94004efd",
   "metadata": {},
   "outputs": [],
   "source": [
    "# path = pathlib.Path(path)"
   ]
  },
  {
   "cell_type": "code",
   "execution_count": 11,
   "id": "681b78f3",
   "metadata": {},
   "outputs": [],
   "source": [
    "# files = path.glob('**/*.txt')\n",
    "# pprint(list(files))"
   ]
  },
  {
   "cell_type": "code",
   "execution_count": 12,
   "id": "7fc8fc4d",
   "metadata": {},
   "outputs": [],
   "source": [
    "# dict_eval = {\n",
    "#     'pos' : [],\n",
    "#     'ctx' : [],\n",
    "#     'em' : []\n",
    "# }\n",
    "\n",
    "# sample_size = 5\n",
    "# for pos in range(1, sample_size+1):\n",
    "#     for ctx in range(pos, sample_size+1):\n",
    "    \n",
    "# #         # bm25 negative filenames\n",
    "# #         file_name_ = f'kilt_dpr_nq_dev_pos{pos}_context{ctx}'\n",
    "\n",
    "#         # random sampling negative filenames\n",
    "#         if option == 'random':\n",
    "#             file_name_ = f'kilt_rand_nq_dev_pos{pos}_context{ctx}'\n",
    "#             file = list(path.glob(f'*{file_name_}*/*.txt'))\n",
    "#             test = file[0] \n",
    "#         # DPR should be changed to bm25\n",
    "#         if option == 'bm25':\n",
    "#             file_name_ = f'kilt_bm25_nq_dev_pos{pos}_context{ctx}'\n",
    "#             file = list(path.glob(f'*{file_name_}*/*.txt'))\n",
    "#             test = file[0] \n",
    "        \n",
    "#         print(test)\n",
    "        \n",
    "#         df = pd.read_csv(test, sep = '\\t', header=None)\n",
    "#         df.columns = ['id','inference','em']\n",
    "#         print(len(df))\n",
    "#         em = float(sum(df['em'])/len(df))\n",
    "        \n",
    "#         dict_eval['pos'].append(pos)\n",
    "#         dict_eval['ctx'].append(ctx)\n",
    "#         dict_eval['em'].append(em)\n",
    "        \n",
    "        "
   ]
  },
  {
   "cell_type": "markdown",
   "id": "22eba964",
   "metadata": {},
   "source": [
    "## KILT BM25 NQ incremetal result (from DPR)\n",
    "    -  Get upperbound & lowerBound"
   ]
  },
  {
   "cell_type": "code",
   "execution_count": 13,
   "id": "605136ee",
   "metadata": {},
   "outputs": [],
   "source": [
    "# # '/data/philhoon-relevance/FiD/results/KILT_BM25_NQ/incremental_result/pos1_ctx1.json'\n",
    "# pos = 1\n",
    "# sample_size = 5\n",
    "# path2 = '/data/philhoon-relevance/FiD/results/KILT_BM25_NQ/incremental_result/'"
   ]
  },
  {
   "cell_type": "code",
   "execution_count": 14,
   "id": "8e22e003",
   "metadata": {},
   "outputs": [],
   "source": [
    "# path2 = pathlib.Path(path2)\n",
    "# files = path2.glob(f'pos{pos}*.txt')\n",
    "# pprint(list(files))"
   ]
  },
  {
   "cell_type": "markdown",
   "id": "5d711581",
   "metadata": {},
   "source": [
    "## NQ DPR NQ incremetal result \n",
    "    - Realistic Scenario\n",
    "    - Get upperbound & lowerBound\n",
    "    - Unlike preivous one\n",
    "    - Upperbound : Accumulated EM of FiD from from top_20\n",
    "    - Lowerbound : EM of FiD from DPR retrived from top_20\n",
    "    - Values : 16 Selection Strategies"
   ]
  },
  {
   "cell_type": "markdown",
   "id": "36cc6458",
   "metadata": {},
   "source": [
    "### Lowerbound : EM of FiD from DPR retrived from sample_size(20,100)"
   ]
  },
  {
   "cell_type": "code",
   "execution_count": 15,
   "id": "938e0a78",
   "metadata": {},
   "outputs": [],
   "source": [
    "# path = '/data/philhoon-relevance/FiD/results/NQ_DPR/DEV'\n",
    "# title = 'FiD result by number of passage on DPR retrieved dataset'\n",
    "# path = pathlib.Path(path)"
   ]
  },
  {
   "cell_type": "markdown",
   "id": "e1c94993",
   "metadata": {},
   "source": [
    "# TQA DEV NQ incremetal result "
   ]
  },
  {
   "cell_type": "code",
   "execution_count": 16,
   "id": "595ea00f",
   "metadata": {},
   "outputs": [],
   "source": [
    "dataset = 'TQA'\n",
    "retriever = 'DPR'\n",
    "data_type = 'dev'"
   ]
  },
  {
   "cell_type": "code",
   "execution_count": 17,
   "id": "b5dd050c",
   "metadata": {},
   "outputs": [],
   "source": [
    "sample_size = 100\n",
    "path = f'/data/philhoon-relevance/FiD/results/{dataset}_{retriever}/{data_type.upper()}'"
   ]
  },
  {
   "cell_type": "code",
   "execution_count": 18,
   "id": "a5ca8429",
   "metadata": {},
   "outputs": [
    {
     "name": "stdout",
     "output_type": "stream",
     "text": [
      "/data/philhoon-relevance/FiD/results/TQA_DPR/DEV\n"
     ]
    }
   ],
   "source": [
    "print(path)"
   ]
  },
  {
   "cell_type": "code",
   "execution_count": 19,
   "id": "f9766cf7",
   "metadata": {},
   "outputs": [],
   "source": [
    "path = pathlib.Path(path)\n",
    "# title = 'FiD result by number of passage on DPR retrieved dataset'"
   ]
  },
  {
   "cell_type": "code",
   "execution_count": 20,
   "id": "3a284a03",
   "metadata": {
    "scrolled": false
   },
   "outputs": [],
   "source": [
    "files = path.glob('**/final_output.txt')\n",
    "# print(len(list(files)))\n",
    "# pprint(sorted(list(files)))"
   ]
  },
  {
   "cell_type": "code",
   "execution_count": 21,
   "id": "1a2acb28",
   "metadata": {},
   "outputs": [],
   "source": [
    "def get_incremental_eval(dataset, data_type, sample_size, path):\n",
    "    dict_eval = {\n",
    "        'ctx' : [],\n",
    "        'em' : []\n",
    "    }\n",
    "\n",
    "    for ctx in range(1, sample_size+1):\n",
    "        file_name_ = f'{dataset}_{data_type}_{ctx}_context'\n",
    "        file_path = list(path.glob(f'**/{file_name_}*/*.txt'))\n",
    "\n",
    "        try:\n",
    "            print(file_name_)\n",
    "            test = file_path[0]\n",
    "        except:\n",
    "            print(f'wrong {file_name_}')\n",
    "\n",
    "        df = pd.read_csv(test, sep = '\\t', header=None, quoting=3)\n",
    "        print(len(df))\n",
    "        df.columns = ['id','inference','em']\n",
    "    #     print(len(df))\n",
    "        em = float(sum(df['em'])/len(df))\n",
    "\n",
    "        dict_eval['ctx'].append(ctx)\n",
    "        dict_eval['em'].append(em)\n",
    "        \n",
    "    return dict_eval"
   ]
  },
  {
   "cell_type": "code",
   "execution_count": 22,
   "id": "83feb469",
   "metadata": {
    "scrolled": false
   },
   "outputs": [
    {
     "name": "stdout",
     "output_type": "stream",
     "text": [
      "TQA_dev_1_context\n",
      "8837\n",
      "TQA_dev_2_context\n",
      "8837\n",
      "TQA_dev_3_context\n",
      "8837\n",
      "TQA_dev_4_context\n",
      "8837\n",
      "TQA_dev_5_context\n",
      "8837\n",
      "TQA_dev_6_context\n",
      "8837\n",
      "TQA_dev_7_context\n",
      "8837\n",
      "TQA_dev_8_context\n",
      "8837\n",
      "TQA_dev_9_context\n",
      "8837\n",
      "TQA_dev_10_context\n",
      "8837\n",
      "TQA_dev_11_context\n",
      "8837\n",
      "TQA_dev_12_context\n",
      "8837\n",
      "TQA_dev_13_context\n",
      "8837\n",
      "TQA_dev_14_context\n",
      "8837\n",
      "TQA_dev_15_context\n",
      "8837\n",
      "TQA_dev_16_context\n",
      "8837\n",
      "TQA_dev_17_context\n",
      "8837\n",
      "TQA_dev_18_context\n",
      "8837\n",
      "TQA_dev_19_context\n",
      "8837\n",
      "TQA_dev_20_context\n",
      "8837\n",
      "TQA_dev_21_context\n",
      "8837\n",
      "TQA_dev_22_context\n",
      "8837\n",
      "TQA_dev_23_context\n",
      "8837\n",
      "TQA_dev_24_context\n",
      "8837\n",
      "TQA_dev_25_context\n",
      "8837\n",
      "TQA_dev_26_context\n",
      "8837\n",
      "TQA_dev_27_context\n",
      "8837\n",
      "TQA_dev_28_context\n",
      "8837\n",
      "TQA_dev_29_context\n",
      "8837\n",
      "TQA_dev_30_context\n",
      "8837\n",
      "TQA_dev_31_context\n",
      "8837\n",
      "TQA_dev_32_context\n",
      "8837\n",
      "TQA_dev_33_context\n",
      "8837\n",
      "TQA_dev_34_context\n",
      "8837\n",
      "TQA_dev_35_context\n",
      "8837\n",
      "TQA_dev_36_context\n",
      "8837\n",
      "TQA_dev_37_context\n",
      "8837\n",
      "TQA_dev_38_context\n",
      "8837\n",
      "TQA_dev_39_context\n",
      "8837\n",
      "TQA_dev_40_context\n",
      "8837\n",
      "TQA_dev_41_context\n",
      "8837\n",
      "TQA_dev_42_context\n",
      "8837\n",
      "TQA_dev_43_context\n",
      "8837\n",
      "TQA_dev_44_context\n",
      "8837\n",
      "TQA_dev_45_context\n",
      "8837\n",
      "TQA_dev_46_context\n",
      "8837\n",
      "TQA_dev_47_context\n",
      "8837\n",
      "TQA_dev_48_context\n",
      "8837\n",
      "TQA_dev_49_context\n",
      "8837\n",
      "TQA_dev_50_context\n",
      "8837\n",
      "TQA_dev_51_context\n",
      "8837\n",
      "TQA_dev_52_context\n",
      "8837\n",
      "TQA_dev_53_context\n",
      "8837\n",
      "TQA_dev_54_context\n",
      "8837\n",
      "TQA_dev_55_context\n",
      "8837\n",
      "TQA_dev_56_context\n",
      "8837\n",
      "TQA_dev_57_context\n",
      "8837\n",
      "TQA_dev_58_context\n",
      "8837\n",
      "TQA_dev_59_context\n",
      "8837\n",
      "TQA_dev_60_context\n",
      "8837\n",
      "TQA_dev_61_context\n",
      "8837\n",
      "TQA_dev_62_context\n",
      "8837\n",
      "TQA_dev_63_context\n",
      "8837\n",
      "TQA_dev_64_context\n",
      "8837\n",
      "TQA_dev_65_context\n",
      "8837\n",
      "TQA_dev_66_context\n",
      "8837\n",
      "TQA_dev_67_context\n",
      "8837\n",
      "TQA_dev_68_context\n",
      "8837\n",
      "TQA_dev_69_context\n",
      "8837\n",
      "TQA_dev_70_context\n",
      "8837\n",
      "TQA_dev_71_context\n",
      "8837\n",
      "TQA_dev_72_context\n",
      "8837\n",
      "TQA_dev_73_context\n",
      "8837\n",
      "TQA_dev_74_context\n",
      "8837\n",
      "TQA_dev_75_context\n",
      "8837\n",
      "TQA_dev_76_context\n",
      "8837\n",
      "TQA_dev_77_context\n",
      "8837\n",
      "TQA_dev_78_context\n",
      "8837\n",
      "TQA_dev_79_context\n",
      "8837\n",
      "TQA_dev_80_context\n",
      "8837\n",
      "TQA_dev_81_context\n",
      "8837\n",
      "TQA_dev_82_context\n",
      "8837\n",
      "TQA_dev_83_context\n",
      "8837\n",
      "TQA_dev_84_context\n",
      "8837\n",
      "TQA_dev_85_context\n",
      "8837\n",
      "TQA_dev_86_context\n",
      "8837\n",
      "TQA_dev_87_context\n",
      "8837\n",
      "TQA_dev_88_context\n",
      "8837\n",
      "TQA_dev_89_context\n",
      "8837\n",
      "TQA_dev_90_context\n",
      "8837\n",
      "TQA_dev_91_context\n",
      "8837\n",
      "TQA_dev_92_context\n",
      "8837\n",
      "TQA_dev_93_context\n",
      "8837\n",
      "TQA_dev_94_context\n",
      "8837\n",
      "TQA_dev_95_context\n",
      "8837\n",
      "TQA_dev_96_context\n",
      "8837\n",
      "TQA_dev_97_context\n",
      "8837\n",
      "TQA_dev_98_context\n",
      "8837\n",
      "TQA_dev_99_context\n",
      "8837\n",
      "TQA_dev_100_context\n",
      "8837\n"
     ]
    }
   ],
   "source": [
    "normal_eval = get_incremental_eval(dataset, data_type, sample_size, path)"
   ]
  },
  {
   "cell_type": "code",
   "execution_count": 23,
   "id": "090ff42e",
   "metadata": {
    "scrolled": false
   },
   "outputs": [],
   "source": [
    "# def get_incremental_data():\n",
    "#     normal_eval = {\n",
    "#         'ctx' : [],\n",
    "#         'em' : []\n",
    "#     }\n",
    "\n",
    "#     for ctx in range(1, sample_size+1):\n",
    "#         file_name_ = f'NQ_dev_{ctx}_context'\n",
    "#         file_path = list(path.glob(f'**/{file_name_}*/*.txt'))\n",
    "\n",
    "#         test = file_path[0]\n",
    "#         print(file_name_)\n",
    "#         df = pd.read_csv(test, sep = '\\t', header=None)\n",
    "#         df.columns = ['id','inference','em']\n",
    "#     #     print(len(df))\n",
    "#         em = float(sum(df['em'])/len(df))\n",
    "\n",
    "#         normal_eval['ctx'].append(ctx)\n",
    "#         normal_eval['em'].append(em)\n",
    "#     return \n",
    "        \n",
    "        "
   ]
  },
  {
   "cell_type": "code",
   "execution_count": 24,
   "id": "71376924",
   "metadata": {
    "scrolled": false
   },
   "outputs": [],
   "source": [
    "# pprint(normal_eval)"
   ]
  },
  {
   "cell_type": "code",
   "execution_count": 25,
   "id": "b7225a7f",
   "metadata": {},
   "outputs": [],
   "source": [
    "def get_lowerbound(incre_em):\n",
    "    index_min = np.argmin(incre_em['em'])\n",
    "    return incre_em['ctx'][index_min], incre_em['em'][index_min]"
   ]
  },
  {
   "cell_type": "code",
   "execution_count": 26,
   "id": "bb54ac6d",
   "metadata": {},
   "outputs": [],
   "source": [
    "def get_upperbound(incre_em):\n",
    "    index_max = np.argmax(incre_em['em'])\n",
    "    return incre_em['ctx'][index_max], incre_em['em'][index_max]"
   ]
  },
  {
   "cell_type": "markdown",
   "id": "994a22c3",
   "metadata": {},
   "source": [
    "##### Maximum of EM of FiD from DPR retrived from top_20\n",
    "    - Used as lower bound\n",
    "    \n",
    "##### Minimum of EM of FiD from DPR retrived from top_20\n",
    "    - Won't be used"
   ]
  },
  {
   "cell_type": "code",
   "execution_count": 27,
   "id": "a750eb48",
   "metadata": {},
   "outputs": [
    {
     "name": "stdout",
     "output_type": "stream",
     "text": [
      "100 0.7234355550526197\n"
     ]
    }
   ],
   "source": [
    "upper_ctx, upper_em = get_upperbound(normal_eval)\n",
    "print(upper_ctx, upper_em)\n",
    "flower_ctx, flower_em = upper_ctx, upper_em"
   ]
  },
  {
   "cell_type": "code",
   "execution_count": 28,
   "id": "a101fd12",
   "metadata": {},
   "outputs": [
    {
     "name": "stdout",
     "output_type": "stream",
     "text": [
      "1 0.5469050582776961\n"
     ]
    }
   ],
   "source": [
    "lower_ctx, lower_em = get_lowerbound(normal_eval)\n",
    "print(lower_ctx, lower_em)"
   ]
  },
  {
   "cell_type": "markdown",
   "id": "9c5f534e",
   "metadata": {},
   "source": [
    "### Upperbound : Accumulated EM of FiD"
   ]
  },
  {
   "cell_type": "code",
   "execution_count": 29,
   "id": "1ed21160",
   "metadata": {},
   "outputs": [],
   "source": [
    "input_file = f'/data/philhoon-relevance/FiD/results/{dataset}_{retriever}/{data_type.upper()}/incremental_result_{sample_size}/ctx{sample_size}.json'"
   ]
  },
  {
   "cell_type": "code",
   "execution_count": 30,
   "id": "f35bf57e",
   "metadata": {},
   "outputs": [
    {
     "name": "stdout",
     "output_type": "stream",
     "text": [
      "/data/philhoon-relevance/FiD/results/TQA_DPR/DEV/incremental_result_100/ctx100.json\n"
     ]
    }
   ],
   "source": [
    "print(input_file)"
   ]
  },
  {
   "cell_type": "code",
   "execution_count": 31,
   "id": "167b67d7",
   "metadata": {},
   "outputs": [],
   "source": [
    "final_output = utils.open_json(input_file)"
   ]
  },
  {
   "cell_type": "code",
   "execution_count": 32,
   "id": "aaf03016",
   "metadata": {},
   "outputs": [
    {
     "name": "stdout",
     "output_type": "stream",
     "text": [
      "8837\n"
     ]
    }
   ],
   "source": [
    "print(len(final_output))"
   ]
  },
  {
   "cell_type": "code",
   "execution_count": 33,
   "id": "3f4747c4",
   "metadata": {},
   "outputs": [],
   "source": [
    "def extract_em_pattern(final_output):\n",
    "    em_pattern_lst = []\n",
    "    for instance in final_output:\n",
    "        em_pattern_lst.append(instance['em_pattern'])\n",
    "    return em_pattern_lst"
   ]
  },
  {
   "cell_type": "code",
   "execution_count": 34,
   "id": "1c125358",
   "metadata": {},
   "outputs": [],
   "source": [
    "em_pattnern_lst = extract_em_pattern(final_output)"
   ]
  },
  {
   "cell_type": "code",
   "execution_count": 35,
   "id": "2736149a",
   "metadata": {},
   "outputs": [],
   "source": [
    "def get_accumulated_em(em_pattnern_lst, sample_size):\n",
    "    incre_em = {\n",
    "        'ctx' : [],\n",
    "        'em' : [],   \n",
    "    }\n",
    "    for ctx in range(1, sample_size+1):\n",
    "        incre_em['ctx'].append(ctx)\n",
    "        cnt = 0\n",
    "        for pattern in em_pattnern_lst:\n",
    "            if '1' in pattern[:ctx]:\n",
    "                cnt += 1\n",
    "        incre_em['em'].append(cnt/len(em_pattnern_lst))\n",
    "    return incre_em"
   ]
  },
  {
   "cell_type": "code",
   "execution_count": 36,
   "id": "9c5529cb",
   "metadata": {},
   "outputs": [],
   "source": [
    "incre_em = get_accumulated_em(em_pattnern_lst, sample_size)"
   ]
  },
  {
   "cell_type": "code",
   "execution_count": 37,
   "id": "3cb73bb1",
   "metadata": {
    "scrolled": false
   },
   "outputs": [],
   "source": [
    "# incre_em"
   ]
  },
  {
   "cell_type": "code",
   "execution_count": 38,
   "id": "c4fe22ba",
   "metadata": {},
   "outputs": [
    {
     "name": "stdout",
     "output_type": "stream",
     "text": [
      "100 0.7774131492587982\n"
     ]
    }
   ],
   "source": [
    "upper_ctx, upper_em = get_upperbound(incre_em)\n",
    "print(upper_ctx, upper_em)"
   ]
  },
  {
   "cell_type": "markdown",
   "id": "39f1af50",
   "metadata": {},
   "source": [
    "##### Maximum of Accumulated EM of FiD from DPR retrived from top_20\n",
    "    - Used as upper bound\n",
    "    \n",
    "##### Minimum of Accumulated EM of FiD from DPR retrived from top_20\n",
    "    - Won't be used"
   ]
  },
  {
   "cell_type": "code",
   "execution_count": 39,
   "id": "dd55d20e",
   "metadata": {},
   "outputs": [
    {
     "name": "stdout",
     "output_type": "stream",
     "text": [
      "100 0.7774131492587982\n"
     ]
    }
   ],
   "source": [
    "upper_ctx, upper_em = get_upperbound(incre_em)\n",
    "print(upper_ctx, upper_em)\n",
    "fupper_ctx, fupper_em = upper_ctx, upper_em"
   ]
  },
  {
   "cell_type": "code",
   "execution_count": 40,
   "id": "6773c420",
   "metadata": {},
   "outputs": [
    {
     "name": "stdout",
     "output_type": "stream",
     "text": [
      "1 0.5469050582776961\n"
     ]
    }
   ],
   "source": [
    "lower_ctx, lower_em = get_lowerbound(incre_em)\n",
    "print(lower_ctx, lower_em)"
   ]
  },
  {
   "cell_type": "markdown",
   "id": "0e1f17f7",
   "metadata": {},
   "source": [
    "## NQ DPR NQ selection strategy result"
   ]
  },
  {
   "cell_type": "code",
   "execution_count": 41,
   "id": "5cc838b6",
   "metadata": {},
   "outputs": [],
   "source": [
    "option_dict = {\n",
    "    'op1' : 'remove_damage',\n",
    "    'op2' : 'remove_damage_irrelevant',\n",
    "    'op3' : 'remove_damage_relevant',\n",
    "    'op4' : 'remove_damage_irrelevant_relevant',\n",
    "}\n",
    "# option = 'op4'"
   ]
  },
  {
   "cell_type": "code",
   "execution_count": 42,
   "id": "24b5ee80",
   "metadata": {},
   "outputs": [],
   "source": [
    "option_p_dict = {\n",
    "    'strict' : 'strict_positive',\n",
    "    'naive' : 'naive_positive',\n",
    "}\n",
    "# option_p = 'strict'"
   ]
  },
  {
   "cell_type": "code",
   "execution_count": 43,
   "id": "ec5c0fc4",
   "metadata": {},
   "outputs": [],
   "source": [
    "option_d_dict = {\n",
    "    'strict' : 'strict_damaging',\n",
    "    'naive' : 'naive_damaging',\n",
    "}\n",
    "# option_d = 'strict'"
   ]
  },
  {
   "cell_type": "code",
   "execution_count": 44,
   "id": "6b048039",
   "metadata": {},
   "outputs": [],
   "source": [
    "# input_path = f'/data/philhoon-relevance/FiD/results/NQ_DPR_DEV_SELECTION/ctx_{sample_size}'"
   ]
  },
  {
   "cell_type": "code",
   "execution_count": 45,
   "id": "d727398f",
   "metadata": {},
   "outputs": [],
   "source": [
    "# /data/philhoon-relevance/FiD/results/NQ_TEST_DPR_SELECTION/"
   ]
  },
  {
   "cell_type": "code",
   "execution_count": 46,
   "id": "7d1e3542",
   "metadata": {},
   "outputs": [],
   "source": [
    "# input_file = f'/data/philhoon-relevance/FiD/results/{dataset}_{retriever}/{data_type.upper()}/incremental_result_{sample_size}/ctx{sample_size}.json'"
   ]
  },
  {
   "cell_type": "code",
   "execution_count": 47,
   "id": "188e3fdf",
   "metadata": {},
   "outputs": [],
   "source": [
    "input_path = f'/data/philhoon-relevance/FiD/results/{dataset}_{data_type.upper()}_{retriever}_SELECTION/'"
   ]
  },
  {
   "cell_type": "code",
   "execution_count": 48,
   "id": "6021006b",
   "metadata": {},
   "outputs": [
    {
     "name": "stdout",
     "output_type": "stream",
     "text": [
      "/data/philhoon-relevance/FiD/results/TQA_DEV_DPR_SELECTION/\n"
     ]
    }
   ],
   "source": [
    "print(input_path)"
   ]
  },
  {
   "cell_type": "code",
   "execution_count": 49,
   "id": "ae4b1451",
   "metadata": {},
   "outputs": [],
   "source": [
    "in_path = pathlib.Path(input_path)\n",
    "files = in_path.glob(f'**/*.txt')\n",
    "# pprint(list(files))\n",
    "# for i in files:\n",
    "# #     print(len(i))\n",
    "#     print(i)\n",
    "#     print('----')"
   ]
  },
  {
   "cell_type": "markdown",
   "id": "6967db45",
   "metadata": {},
   "source": [
    "## Conclusion\n",
    "- option1, option2 are not needed\n",
    "- Method1 : option4_naive_naive\n",
    "- Method2 : option4_strict_naive \n",
    "- Method3 : option3_naive_naive\n",
    "- Method4 : option3_strict_naive\n",
    "- Method5 : option3_naive_strict\n",
    "- Method6 : option3_strict_strict"
   ]
  },
  {
   "cell_type": "code",
   "execution_count": 50,
   "id": "8292ded2",
   "metadata": {},
   "outputs": [
    {
     "name": "stdout",
     "output_type": "stream",
     "text": [
      "strict_positive_strict_damaging_remove_damage_relevant\n",
      "8837\n",
      "strict_positive_naive_damaging_remove_damage_relevant\n",
      "8837\n",
      "naive_positive_strict_damaging_remove_damage_relevant\n",
      "8837\n",
      "naive_positive_naive_damaging_remove_damage_relevant\n",
      "8837\n",
      "strict_positive_naive_damaging_remove_damage_irrelevant_relevant\n",
      "8837\n",
      "naive_positive_naive_damaging_remove_damage_irrelevant_relevant\n",
      "8837\n"
     ]
    }
   ],
   "source": [
    "dict_eval = {\n",
    "    'strategy' : [],\n",
    "    'em' : []\n",
    "}\n",
    "\n",
    "for op in option_dict.keys():\n",
    "    for op_p in option_p_dict.keys():\n",
    "        for op_d in option_d_dict.keys():\n",
    "            \n",
    "            if op == 'op1' or op == 'op2':\n",
    "                continue\n",
    "            if op == 'op4' and op_p == 'strict' and op_d == 'strict':\n",
    "                continue\n",
    "            if op == 'op4' and op_p == 'naive' and op_d == 'strict':\n",
    "                continue \n",
    "                \n",
    "                \n",
    "            strategy_ = f'{option_p_dict[op_p]}_{option_d_dict[op_d]}_{option_dict[op]}'\n",
    "            strategy_name = f'{op}_{op_p}_{op_d}'\n",
    "            print(strategy_)\n",
    "            strategy_path = pathlib.Path(input_path, strategy_)\n",
    "            file = list(strategy_path.glob(f'*.txt'))\n",
    "            if len(file) != 1:\n",
    "                print('----')\n",
    "                print(f'strategy_name : {strategy_name}')\n",
    "                print('Errror - no file')\n",
    "                print('There should be 1 file per each path')\n",
    "                print(file)\n",
    "                print('----')\n",
    "            else:\n",
    "                test = file[0] \n",
    "            \n",
    "    #             print(test)\n",
    "                df = pd.read_csv(test, sep = '\\t', header=None, quoting=3)\n",
    "                df.columns = ['id','inference','em']\n",
    "                print(len(df))\n",
    "                em = float(sum(df['em'])/len(df))\n",
    "\n",
    "                dict_eval['strategy'].append(strategy_name)\n",
    "                dict_eval['em'].append(em)\n",
    "            "
   ]
  },
  {
   "cell_type": "code",
   "execution_count": 51,
   "id": "d9d97236",
   "metadata": {},
   "outputs": [
    {
     "data": {
      "text/plain": [
       "{'strategy': ['op3_strict_strict',\n",
       "  'op3_strict_naive',\n",
       "  'op3_naive_strict',\n",
       "  'op3_naive_naive',\n",
       "  'op4_strict_naive',\n",
       "  'op4_naive_naive'],\n",
       " 'em': [0.7408622835804006,\n",
       "  0.7742446531628381,\n",
       "  0.7389385538078533,\n",
       "  0.7763947040850967,\n",
       "  0.7511598958922712,\n",
       "  0.7628154351024103]}"
      ]
     },
     "execution_count": 51,
     "metadata": {},
     "output_type": "execute_result"
    }
   ],
   "source": [
    "dict_eval"
   ]
  },
  {
   "cell_type": "code",
   "execution_count": 52,
   "id": "b80a52a6",
   "metadata": {},
   "outputs": [],
   "source": [
    "method_dict = {\n",
    "    'op3_strict_strict' : 'method6',\n",
    "    'op3_strict_naive' : 'method4',\n",
    "    'op3_naive_strict' : 'method5',\n",
    "    'op3_naive_naive' : 'method3',\n",
    "    'op4_strict_naive' : 'method2',\n",
    "    'op4_naive_naive' : 'method1',\n",
    "}"
   ]
  },
  {
   "cell_type": "code",
   "execution_count": 53,
   "id": "14332bb4",
   "metadata": {},
   "outputs": [],
   "source": [
    "get_new_s = []\n",
    "for s_ in dict_eval['strategy']:\n",
    "    get_new_s.append(method_dict[s_])\n",
    "dict_eval['strategy'] = get_new_s"
   ]
  },
  {
   "cell_type": "code",
   "execution_count": 54,
   "id": "429bd9f5",
   "metadata": {},
   "outputs": [],
   "source": [
    "def merge_normal_incre(incre_em, normal_eval, dict_eval):\n",
    "    column_names = []\n",
    "    row_values = []\n",
    "    upper_ctx, upper_em = get_upperbound(incre_em)\n",
    "    lower_ctx, lower_em = get_upperbound(normal_eval)\n",
    "    column_names.append('UpperBound-AccumulatedEm')\n",
    "    column_names.append('LowerBound-PositiveOneEm')\n",
    "    row_values.append(str(upper_em))\n",
    "    row_values.append(str(lower_em))\n",
    "    \n",
    "    for strat_, em_ in zip(dict_eval['strategy'], dict_eval['em']):\n",
    "        column_names.append(strat_)\n",
    "        row_values.append(str(em_))\n",
    "        \n",
    "    return column_names, row_values\n",
    "    "
   ]
  },
  {
   "cell_type": "code",
   "execution_count": 55,
   "id": "f56076bf",
   "metadata": {},
   "outputs": [],
   "source": [
    "# incre_em"
   ]
  },
  {
   "cell_type": "code",
   "execution_count": 56,
   "id": "a75b8278",
   "metadata": {},
   "outputs": [],
   "source": [
    "col_lst, value_lst = merge_normal_incre(incre_em, normal_eval, dict_eval)"
   ]
  },
  {
   "cell_type": "code",
   "execution_count": 57,
   "id": "6f455d53",
   "metadata": {},
   "outputs": [
    {
     "name": "stdout",
     "output_type": "stream",
     "text": [
      "['UpperBound-AccumulatedEm', 'LowerBound-PositiveOneEm', 'method6', 'method4', 'method5', 'method3', 'method2', 'method1']\n",
      "['0.7774131492587982', '0.7234355550526197', '0.7408622835804006', '0.7742446531628381', '0.7389385538078533', '0.7763947040850967', '0.7511598958922712', '0.7628154351024103']\n"
     ]
    }
   ],
   "source": [
    "print(col_lst)\n",
    "print(value_lst)"
   ]
  },
  {
   "cell_type": "code",
   "execution_count": 58,
   "id": "adcb0c26",
   "metadata": {},
   "outputs": [],
   "source": [
    "def get_table(title, columns, rows, save_path):\n",
    "\n",
    "    table = Table(title=title)\n",
    "    \n",
    "    table.add_column(\"\", justify=\"center\")\n",
    "    for column in columns:\n",
    "        table.add_column(column, justify=\"center\")\n",
    "    \n",
    "    if any(isinstance(i, list) for i in rows):\n",
    "        for row in rows:\n",
    "            table.add_row(*row)\n",
    "    else:\n",
    "#         print(rows)\n",
    "        name = 'result'\n",
    "        single_row = [name] + rows\n",
    "        table.add_row(*single_row)\n",
    "        \n",
    "\n",
    "    console = Console(record=True)\n",
    "    console.print(table, justify=\"center\")\n",
    "    console.save_svg(save_path, title=title)\n",
    "#     console.save_text(f\"./images/{title}\")"
   ]
  },
  {
   "cell_type": "code",
   "execution_count": 59,
   "id": "4dcc4a0f",
   "metadata": {},
   "outputs": [],
   "source": [
    "# dataset = 'NQ'\n",
    "# retriever = 'CONTRIEVER'\n",
    "# data_type = 'dev'"
   ]
  },
  {
   "cell_type": "code",
   "execution_count": 60,
   "id": "f1263b6b",
   "metadata": {},
   "outputs": [],
   "source": [
    "unit = 2\n",
    "s_ind = 0\n",
    "e_ind = s_ind + unit\n",
    "title = f'{retriever}-{dataset}-{data_type.upper()}'\n",
    "save_path = f'./img/{retriever}-{dataset}-{data_type.upper()}-TABLE-bounds.svg'"
   ]
  },
  {
   "cell_type": "code",
   "execution_count": 61,
   "id": "4d08cba6",
   "metadata": {},
   "outputs": [
    {
     "name": "stdout",
     "output_type": "stream",
     "text": [
      "DPR-TQA-DEV\n",
      "./img/DPR-TQA-DEV-TABLE-bounds.svg\n"
     ]
    }
   ],
   "source": [
    "print(title)\n",
    "print(save_path)"
   ]
  },
  {
   "cell_type": "code",
   "execution_count": 62,
   "id": "9032b0c7",
   "metadata": {},
   "outputs": [
    {
     "data": {
      "text/html": [
       "<pre style=\"white-space:pre;overflow-x:auto;line-height:normal;font-family:Menlo,'DejaVu Sans Mono',consolas,'Courier New',monospace\">                         <span style=\"font-style: italic\">                          DPR-TQA-DEV                           </span>                          \n",
       "                         ┏━━━━━━━━┳━━━━━━━━━━━━━━━━━━━━━━━━━━┳━━━━━━━━━━━━━━━━━━━━━━━━━━┓                          \n",
       "                         ┃<span style=\"font-weight: bold\">        </span>┃<span style=\"font-weight: bold\"> UpperBound-AccumulatedEm </span>┃<span style=\"font-weight: bold\"> LowerBound-PositiveOneEm </span>┃                          \n",
       "                         ┡━━━━━━━━╇━━━━━━━━━━━━━━━━━━━━━━━━━━╇━━━━━━━━━━━━━━━━━━━━━━━━━━┩                          \n",
       "                         │ result │    0.7774131492587982    │    0.7234355550526197    │                          \n",
       "                         └────────┴──────────────────────────┴──────────────────────────┘                          \n",
       "</pre>\n"
      ],
      "text/plain": [
       "                         \u001b[3m                          DPR-TQA-DEV                           \u001b[0m                          \n",
       "                         ┏━━━━━━━━┳━━━━━━━━━━━━━━━━━━━━━━━━━━┳━━━━━━━━━━━━━━━━━━━━━━━━━━┓                          \n",
       "                         ┃\u001b[1m \u001b[0m\u001b[1m      \u001b[0m\u001b[1m \u001b[0m┃\u001b[1m \u001b[0m\u001b[1mUpperBound-AccumulatedEm\u001b[0m\u001b[1m \u001b[0m┃\u001b[1m \u001b[0m\u001b[1mLowerBound-PositiveOneEm\u001b[0m\u001b[1m \u001b[0m┃                          \n",
       "                         ┡━━━━━━━━╇━━━━━━━━━━━━━━━━━━━━━━━━━━╇━━━━━━━━━━━━━━━━━━━━━━━━━━┩                          \n",
       "                         │ result │    0.7774131492587982    │    0.7234355550526197    │                          \n",
       "                         └────────┴──────────────────────────┴──────────────────────────┘                          \n"
      ]
     },
     "metadata": {},
     "output_type": "display_data"
    }
   ],
   "source": [
    "get_table(title, col_lst[s_ind:e_ind], value_lst[s_ind:e_ind], save_path)"
   ]
  },
  {
   "cell_type": "code",
   "execution_count": 63,
   "id": "8578f398",
   "metadata": {},
   "outputs": [],
   "source": [
    "unit = 6\n",
    "s_ind = e_ind\n",
    "e_ind = s_ind + unit\n",
    "title = f'{retriever}-{dataset}-{data_type.upper()}'\n",
    "save_path = f'./img/{retriever}-{dataset}-{data_type.upper()}-TABLE-SELECTION.svg'\n"
   ]
  },
  {
   "cell_type": "code",
   "execution_count": 64,
   "id": "8de0c763",
   "metadata": {
    "scrolled": true
   },
   "outputs": [
    {
     "data": {
      "text/html": [
       "<pre style=\"white-space:pre;overflow-x:auto;line-height:normal;font-family:Menlo,'DejaVu Sans Mono',consolas,'Courier New',monospace\"><span style=\"font-style: italic\">                                                    DPR-TQA-DEV                                                    </span>\n",
       "┏━━━━━━━━┳━━━━━━━━━━━━━━━━┳━━━━━━━━━━━━━━━━━┳━━━━━━━━━━━━━━━━┳━━━━━━━━━━━━━━━━━┳━━━━━━━━━━━━━━━━┳━━━━━━━━━━━━━━━━━┓\n",
       "┃<span style=\"font-weight: bold\">        </span>┃<span style=\"font-weight: bold\">    method6     </span>┃<span style=\"font-weight: bold\">     method4     </span>┃<span style=\"font-weight: bold\">    method5     </span>┃<span style=\"font-weight: bold\">     method3     </span>┃<span style=\"font-weight: bold\">    method2     </span>┃<span style=\"font-weight: bold\">     method1     </span>┃\n",
       "┡━━━━━━━━╇━━━━━━━━━━━━━━━━╇━━━━━━━━━━━━━━━━━╇━━━━━━━━━━━━━━━━╇━━━━━━━━━━━━━━━━━╇━━━━━━━━━━━━━━━━╇━━━━━━━━━━━━━━━━━┩\n",
       "│ result │ 0.74086228358… │ 0.774244653162… │ 0.73893855380… │ 0.776394704085… │ 0.75115989589… │ 0.762815435102… │\n",
       "└────────┴────────────────┴─────────────────┴────────────────┴─────────────────┴────────────────┴─────────────────┘\n",
       "</pre>\n"
      ],
      "text/plain": [
       "\u001b[3m                                                    DPR-TQA-DEV                                                    \u001b[0m\n",
       "┏━━━━━━━━┳━━━━━━━━━━━━━━━━┳━━━━━━━━━━━━━━━━━┳━━━━━━━━━━━━━━━━┳━━━━━━━━━━━━━━━━━┳━━━━━━━━━━━━━━━━┳━━━━━━━━━━━━━━━━━┓\n",
       "┃\u001b[1m \u001b[0m\u001b[1m      \u001b[0m\u001b[1m \u001b[0m┃\u001b[1m \u001b[0m\u001b[1m   method6    \u001b[0m\u001b[1m \u001b[0m┃\u001b[1m \u001b[0m\u001b[1m    method4    \u001b[0m\u001b[1m \u001b[0m┃\u001b[1m \u001b[0m\u001b[1m   method5    \u001b[0m\u001b[1m \u001b[0m┃\u001b[1m \u001b[0m\u001b[1m    method3    \u001b[0m\u001b[1m \u001b[0m┃\u001b[1m \u001b[0m\u001b[1m   method2    \u001b[0m\u001b[1m \u001b[0m┃\u001b[1m \u001b[0m\u001b[1m    method1    \u001b[0m\u001b[1m \u001b[0m┃\n",
       "┡━━━━━━━━╇━━━━━━━━━━━━━━━━╇━━━━━━━━━━━━━━━━━╇━━━━━━━━━━━━━━━━╇━━━━━━━━━━━━━━━━━╇━━━━━━━━━━━━━━━━╇━━━━━━━━━━━━━━━━━┩\n",
       "│ result │ 0.74086228358… │ 0.774244653162… │ 0.73893855380… │ 0.776394704085… │ 0.75115989589… │ 0.762815435102… │\n",
       "└────────┴────────────────┴─────────────────┴────────────────┴─────────────────┴────────────────┴─────────────────┘\n"
      ]
     },
     "metadata": {},
     "output_type": "display_data"
    }
   ],
   "source": [
    "get_table(title, col_lst[s_ind:e_ind], value_lst[s_ind:e_ind], save_path)"
   ]
  },
  {
   "cell_type": "markdown",
   "id": "c69ce938",
   "metadata": {},
   "source": [
    "#### Sample_size 20 Results\n",
    "##### Summary\n",
    ": Keeping first consecutive 0's + adding all 1 context close to Upperbound; however, only keep first 1s shows  comparable result  \n",
    ": __Keeping first consecutive 0's__ was natural since we included and positioned the positive context at top-1 \n",
    "\n",
    "\n",
    "- Upperbound 0.5811350\n",
    "- Method3. '00011011000'  -> \n",
    "<span style=\"color:blue\">0</span><span style=\"color:blue\">0</span><span style=\"color:blue\">0</span><span style=\"color:red\">1</span></span><span style=\"color:red\">1</span>0<span style=\"color:red\">1</span></span><span style=\"color:red\">1</span>000  (__0.578394__)     \n",
    "\n",
    "- Method4. '00011011000'  -> \n",
    "<span style=\"color:blue\">0</span><span style=\"color:blue\">0</span><span style=\"color:blue\">0</span><span style=\"color:red\">1</span>10<span style=\"color:red\">1</span>1000 (_0.576909_)    \n",
    "\n",
    "- Method1. '00011011000'  -> 000<span style=\"color:red\">1</span><span style=\"color:red\">1</span>0<span style=\"color:red\">1</span><span style=\"color:red\">1</span>000 (0.551444)    \n",
    "\n",
    "- Method2. '00011011000'  -> 000<span style=\"color:red\">1</span>10<span style=\"color:red\">1</span>1000  (0.53796)        \n",
    "- Method6. '00011011000'  -> <span style=\"color:blue\">0</span><span style=\"color:blue\">0</span><span style=\"color:blue\">0</span><span style=\"color:red\">1</span>10<span style=\"color:red\">1</span>10<span style=\"color:blue\">0</span><span style=\"color:blue\">0</span> (0.53796)    \n",
    "\n",
    "- Method5. '00011011000'  -> <span style=\"color:blue\">0</span><span style=\"color:blue\">0</span><span style=\"color:blue\">0</span><span style=\"color:red\">1</span><span style=\"color:red\">1</span>0<span style=\"color:red\">1</span></span><span style=\"color:red\">1</span>0<span style=\"color:blue\">0</span><span style=\"color:blue\">0</span>    (0.536599) \n",
    "\n",
    "- Lowerbound 0.502112"
   ]
  },
  {
   "cell_type": "markdown",
   "id": "3d93aa34",
   "metadata": {},
   "source": [
    "## DPR-3-NQ-TEST"
   ]
  },
  {
   "cell_type": "markdown",
   "id": "10dac7d6",
   "metadata": {},
   "source": [
    "#### Sample_size 100 Results\n",
    "##### Summary\n",
    ": Keeping first consecutive 0's + adding all 1 context close to Upperbound; however, only keep first 1s shows  comparable result  \n",
    ": __Keeping first consecutive 0's__ was natural since we included and positioned the positive context at top-1 \n",
    "\n",
    "\n",
    "- Upperbound 0.65124653\n",
    "- Method3. '00011011000'  -> \n",
    "<span style=\"color:blue\">0</span><span style=\"color:blue\">0</span><span style=\"color:blue\">0</span><span style=\"color:red\">1</span></span><span style=\"color:red\">1</span>0<span style=\"color:red\">1</span></span><span style=\"color:red\">1</span>000  (__0.64653__)     \n",
    "\n",
    "- Method4. '00011011000'  -> \n",
    "<span style=\"color:blue\">0</span><span style=\"color:blue\">0</span><span style=\"color:blue\">0</span><span style=\"color:red\">1</span>10<span style=\"color:red\">1</span>1000 (_0.64459_)    \n",
    "\n",
    "- Method1. '00011011000'  -> 000<span style=\"color:red\">1</span><span style=\"color:red\">1</span>0<span style=\"color:red\">1</span><span style=\"color:red\">1</span>000 (0.611634)    \n",
    "\n",
    "- Method2. '00011011000'  -> 000<span style=\"color:red\">1</span>10<span style=\"color:red\">1</span>1000  (0.593351)        \n",
    "- Method6. '00011011000'  -> <span style=\"color:blue\">0</span><span style=\"color:blue\">0</span><span style=\"color:blue\">0</span><span style=\"color:red\">1</span>10<span style=\"color:red\">1</span>10<span style=\"color:blue\">0</span><span style=\"color:blue\">0</span> (0.584487)    \n",
    "\n",
    "- Method5. '00011011000'  -> <span style=\"color:blue\">0</span><span style=\"color:blue\">0</span><span style=\"color:blue\">0</span><span style=\"color:red\">1</span><span style=\"color:red\">1</span>0<span style=\"color:red\">1</span></span><span style=\"color:red\">1</span>0<span style=\"color:blue\">0</span><span style=\"color:blue\">0</span>    (0.580332) \n",
    "\n",
    "- Lowerbound 0.546260"
   ]
  },
  {
   "cell_type": "code",
   "execution_count": null,
   "id": "2141c016",
   "metadata": {},
   "outputs": [],
   "source": []
  },
  {
   "cell_type": "code",
   "execution_count": null,
   "id": "b6259489",
   "metadata": {},
   "outputs": [],
   "source": []
  },
  {
   "cell_type": "code",
   "execution_count": null,
   "id": "e2110909",
   "metadata": {},
   "outputs": [],
   "source": []
  },
  {
   "cell_type": "code",
   "execution_count": null,
   "id": "34a110b6",
   "metadata": {},
   "outputs": [],
   "source": []
  },
  {
   "cell_type": "code",
   "execution_count": null,
   "id": "909d95be",
   "metadata": {},
   "outputs": [],
   "source": []
  },
  {
   "cell_type": "code",
   "execution_count": null,
   "id": "63807bed",
   "metadata": {},
   "outputs": [],
   "source": []
  }
 ],
 "metadata": {
  "kernelspec": {
   "display_name": "relevance-kilt",
   "language": "python",
   "name": "relevance-kilt"
  },
  "language_info": {
   "codemirror_mode": {
    "name": "ipython",
    "version": 3
   },
   "file_extension": ".py",
   "mimetype": "text/x-python",
   "name": "python",
   "nbconvert_exporter": "python",
   "pygments_lexer": "ipython3",
   "version": "3.8.13"
  }
 },
 "nbformat": 4,
 "nbformat_minor": 5
}
