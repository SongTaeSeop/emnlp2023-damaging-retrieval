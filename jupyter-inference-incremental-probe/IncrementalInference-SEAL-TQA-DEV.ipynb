{
 "cells": [
  {
   "cell_type": "markdown",
   "id": "e86601ea",
   "metadata": {},
   "source": [
    "# IncrementalInference-SEAL-TQA-DEV"
   ]
  },
  {
   "cell_type": "markdown",
   "id": "c49f712c",
   "metadata": {},
   "source": [
    "- Plot incremental_inference\n",
    "- NQ Dev set\n",
    "- k from 1 to 100"
   ]
  },
  {
   "cell_type": "code",
   "execution_count": 1,
   "id": "434f76e1",
   "metadata": {},
   "outputs": [],
   "source": [
    "from cycler import cycler\n",
    "import numpy as np\n",
    "import seaborn as sns\n",
    "import matplotlib as mpl\n",
    "import pathlib\n",
    "from pprint import pprint\n",
    "import pandas as pd\n",
    "import matplotlib.pyplot as plt\n",
    "import re\n",
    "from util import utils\n",
    "import os"
   ]
  },
  {
   "cell_type": "code",
   "execution_count": 2,
   "id": "171f41f3",
   "metadata": {},
   "outputs": [],
   "source": [
    "raw_light_palette = [\n",
    "    (0, 122, 255), # Blue\n",
    "    (255, 149, 0), # Orange\n",
    "    (52, 199, 89), # Green\n",
    "    (255, 59, 48), # Red\n",
    "    (175, 82, 222),# Purple\n",
    "    (255, 45, 85), # Pink\n",
    "    (88, 86, 214), # Indigo\n",
    "    (90, 200, 250),# Teal\n",
    "    (255, 204, 0)  # Yellow\n",
    "]\n",
    "\n",
    "raw_gray_light_palette = [\n",
    "    (142, 142, 147),# Gray\n",
    "    (174, 174, 178),# Gray (2)\n",
    "    (199, 199, 204),# Gray (3)\n",
    "    (209, 209, 214),# Gray (4)\n",
    "    (229, 229, 234),# Gray (5)\n",
    "    (242, 242, 247),# Gray (6)\n",
    "]\n",
    "\n",
    "\n",
    "light_palette = np.array(raw_light_palette)/255\n",
    "gray_light_palette = np.array(raw_gray_light_palette)/255"
   ]
  },
  {
   "cell_type": "code",
   "execution_count": 3,
   "id": "fa90290f",
   "metadata": {},
   "outputs": [
    {
     "name": "stdout",
     "output_type": "stream",
     "text": [
      "Light mode palette\n"
     ]
    },
    {
     "data": {
      "image/png": "[encoded data removed]",
      "text/plain": [
       "<Figure size 900x100 with 1 Axes>"
      ]
     },
     "metadata": {},
     "output_type": "display_data"
    },
    {
     "data": {
      "image/png": "[encoded data removed]",
      "text/plain": [
       "<Figure size 600x100 with 1 Axes>"
      ]
     },
     "metadata": {},
     "output_type": "display_data"
    }
   ],
   "source": [
    "print('Light mode palette')\n",
    "sns.palplot(light_palette)\n",
    "sns.palplot(gray_light_palette)"
   ]
  },
  {
   "cell_type": "code",
   "execution_count": 4,
   "id": "add1657d",
   "metadata": {},
   "outputs": [],
   "source": [
    "# cmap 수정\n",
    "mpl.rcParams['axes.prop_cycle'] = cycler('color',light_palette)\n",
    "# 해상도 조정\n",
    "mpl.rcParams['figure.dpi'] = 200\n",
    "# ax의 우측과 상단 지우기\n",
    "mpl.rcParams['axes.spines.top'] = False\n",
    "mpl.rcParams['axes.spines.right'] = False"
   ]
  },
  {
   "cell_type": "markdown",
   "id": "d4c7c0a3",
   "metadata": {},
   "source": [
    "## KILT BM25 NQ negative (from DPR) depreciated"
   ]
  },
  {
   "cell_type": "code",
   "execution_count": 5,
   "id": "4e9ae4ae",
   "metadata": {},
   "outputs": [],
   "source": [
    "# option = 'bm25'\n",
    "# path = '/data/philhoon-relevance/FiD/results/KILT_DPR_NQ'\n",
    "# # path = '/data/philhoon-relevance/FiD/results/KILT_DPR_NQ_depreciated'\n",
    "# plot_path = './img/FiDResultOnBM25HardnegativeNQdevSubsets.png'\n",
    "# title = 'FiD result on BM25 negative nq dev subsets'"
   ]
  },
  {
   "cell_type": "markdown",
   "id": "b69b594e",
   "metadata": {},
   "source": [
    "## KILT Random Sampling NQ negative  depreciated"
   ]
  },
  {
   "cell_type": "code",
   "execution_count": 6,
   "id": "db0ca387",
   "metadata": {},
   "outputs": [],
   "source": [
    "# option = 'random'\n",
    "# path = '/data/philhoon-relevance/FiD/results/KILT_RANDOM_NQ'\n",
    "# plot_path = './img/FiDResultOnRandomSamplingnegativeNQdevSubsets.png'\n",
    "# title = 'FiD result on random sampling negative nq dev subsets'"
   ]
  },
  {
   "cell_type": "markdown",
   "id": "4d94b03f",
   "metadata": {},
   "source": [
    "## KILT BM25 NQ negative (from DPR)"
   ]
  },
  {
   "cell_type": "code",
   "execution_count": 7,
   "id": "779c7a4d",
   "metadata": {},
   "outputs": [],
   "source": [
    "# option = 'bm25'\n",
    "# path = '/data/philhoon-relevance/FiD/results/KILT_BM25_NQ'"
   ]
  },
  {
   "cell_type": "markdown",
   "id": "ce828108",
   "metadata": {},
   "source": [
    "## KILT Random Sampling NQ negative "
   ]
  },
  {
   "cell_type": "code",
   "execution_count": 8,
   "id": "580e7bce",
   "metadata": {},
   "outputs": [],
   "source": [
    "# option = 'random'\n",
    "# path = '/data/philhoon-relevance/FiD/results/KILT_RANDOM_NQ'\n",
    "# plot_path = './img/New_FiDResultOnRandomSamplingnegativeNQdev2539.png'\n",
    "# title = 'New FiD result on random sampling negative nq dev subsets'"
   ]
  },
  {
   "cell_type": "markdown",
   "id": "f29bd1fc",
   "metadata": {},
   "source": [
    "## NQ dev DPR retrieved Data"
   ]
  },
  {
   "cell_type": "code",
   "execution_count": 9,
   "id": "62d80342",
   "metadata": {},
   "outputs": [],
   "source": [
    "# path = '/data/philhoon-relevance/FiD/results/NQ_DPR/DEV'\n",
    "# title = 'FiD result by number of passage on DPR retrieved dataset'\n",
    "# path = pathlib.Path(path)"
   ]
  },
  {
   "cell_type": "markdown",
   "id": "96d60f15",
   "metadata": {},
   "source": [
    "## TQA dev DPR retrieved Data"
   ]
  },
  {
   "cell_type": "code",
   "execution_count": 10,
   "id": "8187f892",
   "metadata": {},
   "outputs": [],
   "source": [
    "# path = '/data/philhoon-relevance/FiD/results/TQA_DPR/DEV'\n",
    "# path = pathlib.Path(path)\n",
    "# dataset = 'TQA'\n",
    "# data_type = 'dev'"
   ]
  },
  {
   "cell_type": "markdown",
   "id": "70d7132b",
   "metadata": {},
   "source": [
    "## NQ dev SEAL retrieved Data"
   ]
  },
  {
   "cell_type": "code",
   "execution_count": 11,
   "id": "51bb40eb",
   "metadata": {},
   "outputs": [],
   "source": [
    "# path = '/data/philhoon-relevance/FiD/results/NQ_SEAL/DEV'\n",
    "# path = pathlib.Path(path)\n",
    "# dataset = 'NQ'\n",
    "# data_type = 'dev'\n",
    "# sample_size = 100"
   ]
  },
  {
   "cell_type": "markdown",
   "id": "c8e86fe4",
   "metadata": {},
   "source": [
    "## TQA dev SEAL retrieved Data"
   ]
  },
  {
   "cell_type": "code",
   "execution_count": 12,
   "id": "c4afaef3",
   "metadata": {},
   "outputs": [],
   "source": [
    "path = '/data/philhoon-relevance/FiD/results/TQA_SEAL/DEV'\n",
    "path = pathlib.Path(path)\n",
    "dataset = 'TQA'\n",
    "data_type = 'dev'\n",
    "sample_size = 100"
   ]
  },
  {
   "cell_type": "code",
   "execution_count": 13,
   "id": "681b78f3",
   "metadata": {},
   "outputs": [
    {
     "name": "stdout",
     "output_type": "stream",
     "text": [
      "100\n"
     ]
    }
   ],
   "source": [
    "path = pathlib.Path(path)\n",
    "files = path.glob('**/final_output.txt')\n",
    "check_lst = list(files)\n",
    "print(len(check_lst))\n",
    "# pprint(check_lst)"
   ]
  },
  {
   "cell_type": "code",
   "execution_count": 14,
   "id": "f40b06a6",
   "metadata": {},
   "outputs": [
    {
     "data": {
      "text/plain": [
       "100"
      ]
     },
     "execution_count": 14,
     "metadata": {},
     "output_type": "execute_result"
    }
   ],
   "source": [
    "len(check_lst)"
   ]
  },
  {
   "cell_type": "code",
   "execution_count": 15,
   "id": "1b3c6ce8",
   "metadata": {},
   "outputs": [],
   "source": [
    "def get_incremental_eval(dataset, data_type, sample_size, path):\n",
    "    dict_eval = {\n",
    "        'ctx' : [],\n",
    "        'em' : []\n",
    "    }\n",
    "\n",
    "    for ctx in range(1, sample_size+1):\n",
    "        file_name_ = f'{dataset}_{data_type}_{ctx}_context'\n",
    "        file_path = list(path.glob(f'**/{file_name_}*/*.txt'))\n",
    "\n",
    "        try:\n",
    "            print(file_name_)\n",
    "            test = file_path[0]\n",
    "        except:\n",
    "            print(f'wrong {file_name_}')\n",
    "\n",
    "        df = pd.read_csv(test, sep = '\\t', header=None)\n",
    "        print(len(df))\n",
    "        df.columns = ['id','inference','em']\n",
    "    #     print(len(df))\n",
    "        em = float(sum(df['em'])/len(df))\n",
    "\n",
    "        dict_eval['ctx'].append(ctx)\n",
    "        dict_eval['em'].append(em)\n",
    "        \n",
    "    return dict_eval"
   ]
  },
  {
   "cell_type": "code",
   "execution_count": 16,
   "id": "c0483e68",
   "metadata": {
    "scrolled": false
   },
   "outputs": [
    {
     "name": "stdout",
     "output_type": "stream",
     "text": [
      "TQA_dev_1_context\n",
      "8837\n",
      "TQA_dev_2_context\n",
      "8837\n",
      "TQA_dev_3_context\n",
      "8837\n",
      "TQA_dev_4_context\n",
      "8837\n",
      "TQA_dev_5_context\n",
      "8837\n",
      "TQA_dev_6_context\n",
      "8837\n",
      "TQA_dev_7_context\n",
      "8837\n",
      "TQA_dev_8_context\n",
      "8837\n",
      "TQA_dev_9_context\n",
      "8837\n",
      "TQA_dev_10_context\n",
      "8837\n",
      "TQA_dev_11_context\n",
      "8837\n",
      "TQA_dev_12_context\n",
      "8837\n",
      "TQA_dev_13_context\n",
      "8837\n",
      "TQA_dev_14_context\n",
      "8837\n",
      "TQA_dev_15_context\n",
      "8837\n",
      "TQA_dev_16_context\n",
      "8837\n",
      "TQA_dev_17_context\n",
      "8837\n",
      "TQA_dev_18_context\n",
      "8837\n",
      "TQA_dev_19_context\n",
      "8837\n",
      "TQA_dev_20_context\n",
      "8837\n",
      "TQA_dev_21_context\n",
      "8837\n",
      "TQA_dev_22_context\n",
      "8837\n",
      "TQA_dev_23_context\n",
      "8837\n",
      "TQA_dev_24_context\n",
      "8837\n",
      "TQA_dev_25_context\n",
      "8837\n",
      "TQA_dev_26_context\n",
      "8837\n",
      "TQA_dev_27_context\n",
      "8837\n",
      "TQA_dev_28_context\n",
      "8837\n",
      "TQA_dev_29_context\n",
      "8837\n",
      "TQA_dev_30_context\n",
      "8837\n",
      "TQA_dev_31_context\n",
      "8837\n",
      "TQA_dev_32_context\n",
      "8837\n",
      "TQA_dev_33_context\n",
      "8837\n",
      "TQA_dev_34_context\n",
      "8837\n",
      "TQA_dev_35_context\n",
      "8837\n",
      "TQA_dev_36_context\n",
      "8837\n",
      "TQA_dev_37_context\n",
      "8837\n",
      "TQA_dev_38_context\n",
      "8837\n",
      "TQA_dev_39_context\n",
      "8837\n",
      "TQA_dev_40_context\n",
      "8837\n",
      "TQA_dev_41_context\n",
      "8837\n",
      "TQA_dev_42_context\n",
      "8837\n",
      "TQA_dev_43_context\n",
      "8837\n",
      "TQA_dev_44_context\n",
      "8837\n",
      "TQA_dev_45_context\n",
      "8837\n",
      "TQA_dev_46_context\n",
      "8837\n",
      "TQA_dev_47_context\n",
      "8837\n",
      "TQA_dev_48_context\n",
      "8837\n",
      "TQA_dev_49_context\n",
      "8837\n",
      "TQA_dev_50_context\n",
      "8837\n",
      "TQA_dev_51_context\n",
      "8837\n",
      "TQA_dev_52_context\n",
      "8837\n",
      "TQA_dev_53_context\n",
      "8837\n",
      "TQA_dev_54_context\n",
      "8837\n",
      "TQA_dev_55_context\n",
      "8837\n",
      "TQA_dev_56_context\n",
      "8837\n",
      "TQA_dev_57_context\n",
      "8837\n",
      "TQA_dev_58_context\n",
      "8837\n",
      "TQA_dev_59_context\n",
      "8837\n",
      "TQA_dev_60_context\n",
      "8837\n",
      "TQA_dev_61_context\n",
      "8837\n",
      "TQA_dev_62_context\n",
      "8837\n",
      "TQA_dev_63_context\n",
      "8837\n",
      "TQA_dev_64_context\n",
      "8837\n",
      "TQA_dev_65_context\n",
      "8837\n",
      "TQA_dev_66_context\n",
      "8837\n",
      "TQA_dev_67_context\n",
      "8837\n",
      "TQA_dev_68_context\n",
      "8837\n",
      "TQA_dev_69_context\n",
      "8837\n",
      "TQA_dev_70_context\n",
      "8837\n",
      "TQA_dev_71_context\n",
      "8837\n",
      "TQA_dev_72_context\n",
      "8837\n",
      "TQA_dev_73_context\n",
      "8837\n",
      "TQA_dev_74_context\n",
      "8837\n",
      "TQA_dev_75_context\n",
      "8837\n",
      "TQA_dev_76_context\n",
      "8837\n",
      "TQA_dev_77_context\n",
      "8837\n",
      "TQA_dev_78_context\n",
      "8837\n",
      "TQA_dev_79_context\n",
      "8837\n",
      "TQA_dev_80_context\n",
      "8837\n",
      "TQA_dev_81_context\n",
      "8837\n",
      "TQA_dev_82_context\n",
      "8837\n",
      "TQA_dev_83_context\n",
      "8837\n",
      "TQA_dev_84_context\n",
      "8837\n",
      "TQA_dev_85_context\n",
      "8837\n",
      "TQA_dev_86_context\n",
      "8837\n",
      "TQA_dev_87_context\n",
      "8837\n",
      "TQA_dev_88_context\n",
      "8837\n",
      "TQA_dev_89_context\n",
      "8837\n",
      "TQA_dev_90_context\n",
      "8837\n",
      "TQA_dev_91_context\n",
      "8837\n",
      "TQA_dev_92_context\n",
      "8837\n",
      "TQA_dev_93_context\n",
      "8837\n",
      "TQA_dev_94_context\n",
      "8837\n",
      "TQA_dev_95_context\n",
      "8837\n",
      "TQA_dev_96_context\n",
      "8837\n",
      "TQA_dev_97_context\n",
      "8837\n",
      "TQA_dev_98_context\n",
      "8837\n",
      "TQA_dev_99_context\n",
      "8837\n",
      "TQA_dev_100_context\n",
      "8837\n"
     ]
    }
   ],
   "source": [
    "dict_eval = get_incremental_eval(dataset, data_type, sample_size, path)"
   ]
  },
  {
   "cell_type": "code",
   "execution_count": null,
   "id": "7fc8fc4d",
   "metadata": {
    "scrolled": false
   },
   "outputs": [],
   "source": [
    "# dict_eval = {\n",
    "#     'ctx' : [],\n",
    "#     'em' : []\n",
    "# }\n",
    "\n",
    "# sample_size = 100\n",
    "\n",
    "# for ctx in range(1, sample_size+1):\n",
    "#     file_name_ = f'{dataset}_{data_type}_{ctx}_context'\n",
    "#     file_path = list(path.glob(f'**/{file_name_}*/*.txt'))\n",
    "    \n",
    "#     try:\n",
    "#         print(file_name_)\n",
    "#         test = file_path[0]\n",
    "#     except:\n",
    "#         print(f'wrong {file_name_}')\n",
    "        \n",
    "#     df = pd.read_csv(test, sep = '\\t', header=None)\n",
    "#     df.columns = ['id','inference','em']\n",
    "# #     print(len(df))\n",
    "#     em = float(sum(df['em'])/len(df))\n",
    "        \n",
    "#     dict_eval['ctx'].append(ctx)\n",
    "#     dict_eval['em'].append(em)\n",
    "        \n",
    "        "
   ]
  },
  {
   "cell_type": "code",
   "execution_count": null,
   "id": "d08c3fab",
   "metadata": {},
   "outputs": [],
   "source": [
    "len(dict_eval['em'])"
   ]
  },
  {
   "cell_type": "markdown",
   "id": "09acd4d7",
   "metadata": {},
   "source": [
    "# merge final_output.txt files to get accumulated EM"
   ]
  },
  {
   "cell_type": "code",
   "execution_count": null,
   "id": "90badd3d",
   "metadata": {},
   "outputs": [],
   "source": [
    "print(path)\n",
    "path = pathlib.Path(path)\n",
    "# sample_size = 100"
   ]
  },
  {
   "cell_type": "code",
   "execution_count": null,
   "id": "731a2e2a",
   "metadata": {},
   "outputs": [],
   "source": [
    "# def merge_output(path, sample_size):\n",
    "#     id_lst = []\n",
    "#     inference_lst = []\n",
    "#     em_lst = []\n",
    "    \n",
    "#     for ctx in range(pos, sample_size+1):\n",
    "#         file_pattern = f'./kilt_bm25_nq_dev_pos{pos}_context{ctx}/final_output.txt'\n",
    "#         print(file_pattern)\n",
    "#         output_file = list(path.glob(file_pattern))\n",
    "#         test = output_file[0]\n",
    "#         df = pd.read_csv(test, sep = '\\t', header=None)\n",
    "#         df.columns = ['id','inference','em']\n",
    "\n",
    "#         if not id_lst:\n",
    "#             id_lst = df.id.to_list()\n",
    "#         inference_lst.append(df.inference.to_list())\n",
    "#         em_lst.append(df.em.to_list())\n",
    "    \n",
    "#     return id_lst, inference_lst, em_lst\n",
    "    "
   ]
  },
  {
   "cell_type": "code",
   "execution_count": null,
   "id": "8697d89e",
   "metadata": {},
   "outputs": [],
   "source": [
    "# id_lst = []\n",
    "# inference_lst = []\n",
    "# em_lst = []"
   ]
  },
  {
   "cell_type": "code",
   "execution_count": null,
   "id": "09e08f9a",
   "metadata": {},
   "outputs": [],
   "source": [
    "# for ctx in range(1, sample_size+1):\n",
    "#     file_name_ = f'NQ_dev_{ctx}_context'\n",
    "#     file_path = list(path.glob(f'**/{file_name_}*/*.txt'))\n",
    "#     test = file_path[0]\n",
    "    \n",
    "#     df = pd.read_csv(test, sep = '\\t', header=None)\n",
    "#     df.columns = ['id','inference','em']\n",
    "\n",
    "#     if not id_lst:\n",
    "#         id_lst = df.id.to_list()\n",
    "#     inference_lst.append(df.inference.to_list())\n",
    "#     em_lst.append(df.em.to_list())\n",
    "#     return id_lst, inference_lst, em_lst"
   ]
  },
  {
   "cell_type": "code",
   "execution_count": null,
   "id": "8fd4eaf0",
   "metadata": {},
   "outputs": [],
   "source": [
    "def merge_output(path, sample_size, dataset, data_type):\n",
    "    id_lst = []\n",
    "    inference_lst = []\n",
    "    em_lst = []\n",
    "    \n",
    "    for ctx in range(1, sample_size+1):\n",
    "        file_name_ = f'{dataset}_{data_type}_{ctx}_context'\n",
    "        file_path = list(path.glob(f'**/{file_name_}*/*.txt'))\n",
    "        test = file_path[0]\n",
    "\n",
    "        df = pd.read_csv(test, sep = '\\t', header=None)\n",
    "        df.columns = ['id','inference','em']\n",
    "\n",
    "        if not id_lst:\n",
    "            id_lst = df.id.to_list()\n",
    "        inference_lst.append(df.inference.to_list())\n",
    "        em_lst.append(df.em.to_list())\n",
    "    return id_lst, inference_lst, em_lst\n",
    "    "
   ]
  },
  {
   "cell_type": "code",
   "execution_count": null,
   "id": "d7f0a903",
   "metadata": {},
   "outputs": [],
   "source": [
    "id_, infer_, em_ = merge_output(path, sample_size, dataset, data_type)"
   ]
  },
  {
   "cell_type": "code",
   "execution_count": null,
   "id": "3bb0fae1",
   "metadata": {},
   "outputs": [],
   "source": [
    "def get_em_result(em_zip):\n",
    "    cul_cnt = 0\n",
    "    cul_em = []\n",
    "    conversion = []\n",
    "    for em in em_zip:\n",
    "        if '1' in em:\n",
    "            cul_em.append('1')\n",
    "            cul_cnt += 1\n",
    "        else:\n",
    "            cul_em.append('0')\n",
    "\n",
    "        conversion.append(len(re.findall(r'10', em)))\n",
    "    \n",
    "    return cul_em, conversion, cul_cnt"
   ]
  },
  {
   "cell_type": "code",
   "execution_count": null,
   "id": "89c76248",
   "metadata": {},
   "outputs": [],
   "source": [
    "# em_pattern\n",
    "em_zip = list(map(lambda line: ''.join(map(lambda s: str(1) if s else str(0), line)), zip(*em_)))\n",
    "\n",
    "# inference\n",
    "infer_zip = list(map(list, zip(*infer_)))\n",
    "\n",
    "# cumulative_em, conversion\n",
    "cul_em_lst, conversion_lst, cul_cnt = get_em_result(em_zip)"
   ]
  },
  {
   "cell_type": "code",
   "execution_count": null,
   "id": "b7d98bb2",
   "metadata": {},
   "outputs": [],
   "source": [
    "def get_merged_result(id_, em_zip, infer_zip, conversion_lst, cul_em_lst):\n",
    "    result = {}\n",
    "    for query_id, em_pattern, inference, conversion, cumulative_em in zip(id_, em_zip, infer_zip, conversion_lst, cul_em_lst):\n",
    "        template = {\n",
    "            'em_pattern' : em_pattern,\n",
    "            'inference' : inference,\n",
    "            'conversion' : conversion,\n",
    "            'cumulative_em' : cumulative_em\n",
    "        }\n",
    "        result[str(query_id)] = template\n",
    "    return result"
   ]
  },
  {
   "cell_type": "code",
   "execution_count": null,
   "id": "86747593",
   "metadata": {},
   "outputs": [],
   "source": [
    "result = get_merged_result(id_, em_zip, infer_zip, conversion_lst, cul_em_lst)"
   ]
  },
  {
   "cell_type": "code",
   "execution_count": null,
   "id": "2e732021",
   "metadata": {},
   "outputs": [],
   "source": [
    "len(id_)"
   ]
  },
  {
   "cell_type": "markdown",
   "id": "22d9d67b",
   "metadata": {},
   "source": [
    "### merge above outputs to orignal file for matching instances with resuls"
   ]
  },
  {
   "cell_type": "code",
   "execution_count": null,
   "id": "aa0991a1",
   "metadata": {},
   "outputs": [],
   "source": [
    "print(dataset)\n",
    "print(data_type)"
   ]
  },
  {
   "cell_type": "code",
   "execution_count": null,
   "id": "438aa4d1",
   "metadata": {},
   "outputs": [],
   "source": [
    "dev_file = f'/data/philhoon-relevance/FiD/open_domain_data/{dataset}/{data_type}.json'\n",
    "print(dev_file)\n",
    "sample_size = 100"
   ]
  },
  {
   "cell_type": "code",
   "execution_count": null,
   "id": "637745b2",
   "metadata": {},
   "outputs": [],
   "source": [
    "nq_dev_format = utils.open_json(dev_file)"
   ]
  },
  {
   "cell_type": "code",
   "execution_count": null,
   "id": "d26edfc5",
   "metadata": {},
   "outputs": [],
   "source": [
    "# pprint(len(result))"
   ]
  },
  {
   "cell_type": "code",
   "execution_count": null,
   "id": "6cae71f4",
   "metadata": {},
   "outputs": [],
   "source": [
    "# result['0']"
   ]
  },
  {
   "cell_type": "code",
   "execution_count": null,
   "id": "8777e4c9",
   "metadata": {
    "scrolled": false
   },
   "outputs": [],
   "source": [
    "pprint(len(nq_dev_format))"
   ]
  },
  {
   "cell_type": "code",
   "execution_count": null,
   "id": "a54f4c3b",
   "metadata": {
    "scrolled": false
   },
   "outputs": [],
   "source": [
    "# pprint(nq_dev_format[0].keys())"
   ]
  },
  {
   "cell_type": "code",
   "execution_count": null,
   "id": "033bc909",
   "metadata": {},
   "outputs": [],
   "source": [
    "def merge_with_input(nq_dev_format, result, sample_size):\n",
    "    for idx, dev_example in enumerate(nq_dev_format):\n",
    "        id_ = str(idx)\n",
    "        if id_ in result.keys():\n",
    "            dev_example['ctxs'] = dev_example['ctxs'][:sample_size]\n",
    "            dev_example['em_pattern'] = result[id_]['em_pattern']\n",
    "            dev_example['inference'] = result[id_]['inference']\n",
    "            dev_example['conversion'] = result[id_]['conversion']\n",
    "            dev_example['cumulative_em'] = result[id_]['cumulative_em']\n",
    "        else:\n",
    "            print('ID not exist. Mathcing ID required')\n",
    "    return nq_dev_format"
   ]
  },
  {
   "cell_type": "code",
   "execution_count": null,
   "id": "07e35abe",
   "metadata": {
    "scrolled": false
   },
   "outputs": [],
   "source": [
    "final_output = merge_with_input(nq_dev_format, result, sample_size)"
   ]
  },
  {
   "cell_type": "code",
   "execution_count": null,
   "id": "cad993a9",
   "metadata": {},
   "outputs": [],
   "source": [
    "# len(final_output)"
   ]
  },
  {
   "cell_type": "code",
   "execution_count": null,
   "id": "ead2d661",
   "metadata": {
    "scrolled": false
   },
   "outputs": [],
   "source": [
    "# pprint(final_output[0])"
   ]
  },
  {
   "cell_type": "code",
   "execution_count": null,
   "id": "342c33bb",
   "metadata": {},
   "outputs": [],
   "source": [
    "print(path)"
   ]
  },
  {
   "cell_type": "code",
   "execution_count": null,
   "id": "7c286130",
   "metadata": {},
   "outputs": [],
   "source": [
    "output_file_path = os.path.join(path, f'incremental_result_100/ctx{sample_size}.json')\n",
    "output_txt_path = os.path.join(path, f'incremental_result_100/ctx{sample_size}.txt')\n",
    "print(output_file_path)\n",
    "print(output_txt_path)"
   ]
  },
  {
   "cell_type": "code",
   "execution_count": null,
   "id": "ed4b7552",
   "metadata": {},
   "outputs": [],
   "source": [
    "# utils.save_json(final_output, output_file_path)"
   ]
  },
  {
   "cell_type": "code",
   "execution_count": null,
   "id": "18428728",
   "metadata": {},
   "outputs": [],
   "source": [
    "cul_cnt = 0\n",
    "for ins in final_output:\n",
    "    cul_cnt += int(ins['cumulative_em'])\n",
    "cul_score = cul_cnt/len(final_output)\n",
    "output_string = f'Out of {len(final_output)} instances; {cul_cnt} are incrementally correct : {cul_score} in EM'"
   ]
  },
  {
   "cell_type": "code",
   "execution_count": null,
   "id": "17f2df30",
   "metadata": {},
   "outputs": [],
   "source": [
    "output_string"
   ]
  },
  {
   "cell_type": "code",
   "execution_count": null,
   "id": "0f0b8d49",
   "metadata": {},
   "outputs": [],
   "source": [
    "# with open(output_txt_path, \"w\") as file:\n",
    "#     file.write(output_string)"
   ]
  },
  {
   "cell_type": "markdown",
   "id": "22eba964",
   "metadata": {},
   "source": [
    "## Incremetal result "
   ]
  },
  {
   "cell_type": "code",
   "execution_count": null,
   "id": "6fc699ee",
   "metadata": {},
   "outputs": [],
   "source": [
    "def extract_em_pattern(final_output):\n",
    "    em_pattern_lst = []\n",
    "    for instance in final_output:\n",
    "        em_pattern_lst.append(instance['em_pattern'])\n",
    "    return em_pattern_lst"
   ]
  },
  {
   "cell_type": "code",
   "execution_count": null,
   "id": "26017211",
   "metadata": {},
   "outputs": [],
   "source": [
    "em_pattnern_lst = extract_em_pattern(final_output)"
   ]
  },
  {
   "cell_type": "code",
   "execution_count": null,
   "id": "dacf75c1",
   "metadata": {},
   "outputs": [],
   "source": [
    "len(em_pattnern_lst)"
   ]
  },
  {
   "cell_type": "code",
   "execution_count": null,
   "id": "618667d4",
   "metadata": {},
   "outputs": [],
   "source": [
    "def get_accumulated_em(em_pattnern_lst, sample_size):\n",
    "    incre_em = {\n",
    "        'ctx' : [],\n",
    "        'em' : [],   \n",
    "    }\n",
    "    for ctx in range(1, sample_size+1):\n",
    "        incre_em['ctx'].append(ctx)\n",
    "        cnt = 0\n",
    "        for pattern in em_pattnern_lst:\n",
    "            if '1' in pattern[:ctx]:\n",
    "                cnt += 1\n",
    "        incre_em['em'].append(cnt/len(em_pattnern_lst))\n",
    "    return incre_em"
   ]
  },
  {
   "cell_type": "code",
   "execution_count": null,
   "id": "253a2d9c",
   "metadata": {},
   "outputs": [],
   "source": [
    "incre_em = get_accumulated_em(em_pattnern_lst, sample_size)"
   ]
  },
  {
   "cell_type": "markdown",
   "id": "37d46feb",
   "metadata": {},
   "source": [
    "## Plot"
   ]
  },
  {
   "cell_type": "code",
   "execution_count": null,
   "id": "d8da9f1f",
   "metadata": {},
   "outputs": [],
   "source": [
    "plot_path = './img/TQA_DEV_SEAL_AcEM_EM_100.png'\n",
    "title = 'FiD result on TQA DEV SEAL'"
   ]
  },
  {
   "cell_type": "code",
   "execution_count": null,
   "id": "a059f886",
   "metadata": {},
   "outputs": [],
   "source": [
    "df_normal = pd.DataFrame(data=dict_eval)\n",
    "# print(dict_eval)"
   ]
  },
  {
   "cell_type": "code",
   "execution_count": null,
   "id": "253a62f3",
   "metadata": {},
   "outputs": [],
   "source": [
    "df_incre = pd.DataFrame(data=incre_em)\n",
    "# print(dict_eval)"
   ]
  },
  {
   "cell_type": "code",
   "execution_count": null,
   "id": "1e9aa1c0",
   "metadata": {},
   "outputs": [],
   "source": [
    "# df_incre"
   ]
  },
  {
   "cell_type": "code",
   "execution_count": null,
   "id": "f6cbb8ad",
   "metadata": {},
   "outputs": [],
   "source": [
    "# pos_set = set(df['pos'])"
   ]
  },
  {
   "cell_type": "code",
   "execution_count": null,
   "id": "befb60c1",
   "metadata": {},
   "outputs": [],
   "source": [
    "# from cycler import cycler\n",
    "# # marker='*',\n",
    "# # default_cycler = (cycler(markers=['1', '2', '3' ,'4','8']))\n",
    "# # c = plt.cycler(color=[\"Blue\", \"Orange\", \"Green\",'Red','Purple'],\n",
    "# #                markersize=[10, 10, 10, 10, 10],\n",
    "# #                marker=[\"o\", \"s\", \"^\", '1', '3'])\n",
    "# # plt.rcParams[\"axes.prop_cycle\"] = c\n",
    "\n",
    "# # plt.rc('axes', prop_cycle=default_cycler)"
   ]
  },
  {
   "cell_type": "code",
   "execution_count": null,
   "id": "042c42c1",
   "metadata": {
    "scrolled": false
   },
   "outputs": [],
   "source": [
    "# df"
   ]
  },
  {
   "cell_type": "code",
   "execution_count": null,
   "id": "0e028ce3",
   "metadata": {},
   "outputs": [],
   "source": [
    "# selected_data = df.loc[df['pos'] == pos]"
   ]
  },
  {
   "cell_type": "code",
   "execution_count": null,
   "id": "38b317c4",
   "metadata": {},
   "outputs": [],
   "source": [
    "# selected_data"
   ]
  },
  {
   "cell_type": "code",
   "execution_count": null,
   "id": "aeb0b2b0",
   "metadata": {
    "scrolled": false
   },
   "outputs": [],
   "source": [
    "fig, ax = plt.subplots(1, 1, figsize=(4, 4))\n",
    "# ax.plot(df['ctx'], selected_data['em'], label=pos, alpha = 0.5, linewidth=5)\n",
    "ax.plot(df_normal['ctx'],df_normal['em'], label='dpr eval', alpha = 0.3, linewidth=5, color = 'blue', marker = \"o\")    \n",
    "ax.plot(df_incre['ctx'],df_incre['em'], label='dpr acc eval', alpha = 0.3, linewidth=5, color = 'red', marker = \"*\")\n",
    "# ax.set_title('FiD result on BM25 hard negative nq dev subsets')\n",
    "ax.set_title(title)\n",
    "ax.legend(title='Normal vs Accumulated', fontsize = 'x-small')\n",
    "plt.ylabel('EM')\n",
    "plt.xlabel('Number of Context')\n",
    "plt.savefig(plot_path, dpi=300)\n",
    "plt.show()"
   ]
  },
  {
   "cell_type": "code",
   "execution_count": null,
   "id": "6b048039",
   "metadata": {},
   "outputs": [],
   "source": []
  },
  {
   "cell_type": "code",
   "execution_count": null,
   "id": "184070ba",
   "metadata": {},
   "outputs": [],
   "source": []
  }
 ],
 "metadata": {
  "kernelspec": {
   "display_name": "relevance-kilt",
   "language": "python",
   "name": "relevance-kilt"
  },
  "language_info": {
   "codemirror_mode": {
    "name": "ipython",
    "version": 3
   },
   "file_extension": ".py",
   "mimetype": "text/x-python",
   "name": "python",
   "nbconvert_exporter": "python",
   "pygments_lexer": "ipython3",
   "version": "3.8.13"
  }
 },
 "nbformat": 4,
 "nbformat_minor": 5
}
