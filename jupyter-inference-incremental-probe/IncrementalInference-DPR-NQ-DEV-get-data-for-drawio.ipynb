{
 "cells": [
  {
   "cell_type": "markdown",
   "id": "e86601ea",
   "metadata": {},
   "source": [
    "# IncrementalInference-DPR-NQ-DEV-get-data-for-drawio"
   ]
  },
  {
   "cell_type": "markdown",
   "id": "c49f712c",
   "metadata": {},
   "source": [
    "- Plot incremental_inference\n",
    "- NQ dev set\n",
    "- k from 1 to 100"
   ]
  },
  {
   "cell_type": "code",
   "execution_count": 1,
   "id": "434f76e1",
   "metadata": {},
   "outputs": [],
   "source": [
    "from cycler import cycler\n",
    "import numpy as np\n",
    "import seaborn as sns\n",
    "import matplotlib as mpl\n",
    "import pathlib\n",
    "from pprint import pprint\n",
    "import pandas as pd\n",
    "import matplotlib.pyplot as plt\n",
    "import re\n",
    "from util import utils"
   ]
  },
  {
   "cell_type": "code",
   "execution_count": 2,
   "id": "171f41f3",
   "metadata": {},
   "outputs": [],
   "source": [
    "raw_light_palette = [\n",
    "    (0, 122, 255), # Blue\n",
    "    (255, 149, 0), # Orange\n",
    "    (52, 199, 89), # Green\n",
    "    (255, 59, 48), # Red\n",
    "    (175, 82, 222),# Purple\n",
    "    (255, 45, 85), # Pink\n",
    "    (88, 86, 214), # Indigo\n",
    "    (90, 200, 250),# Teal\n",
    "    (255, 204, 0)  # Yellow\n",
    "]\n",
    "\n",
    "raw_gray_light_palette = [\n",
    "    (142, 142, 147),# Gray\n",
    "    (174, 174, 178),# Gray (2)\n",
    "    (199, 199, 204),# Gray (3)\n",
    "    (209, 209, 214),# Gray (4)\n",
    "    (229, 229, 234),# Gray (5)\n",
    "    (242, 242, 247),# Gray (6)\n",
    "]\n",
    "\n",
    "\n",
    "light_palette = np.array(raw_light_palette)/255\n",
    "gray_light_palette = np.array(raw_gray_light_palette)/255"
   ]
  },
  {
   "cell_type": "code",
   "execution_count": 3,
   "id": "fa90290f",
   "metadata": {},
   "outputs": [
    {
     "name": "stdout",
     "output_type": "stream",
     "text": [
      "Light mode palette\n"
     ]
    },
    {
     "data": {
      "image/png": "[encoded data removed]",
      "text/plain": [
       "<Figure size 900x100 with 1 Axes>"
      ]
     },
     "metadata": {},
     "output_type": "display_data"
    },
    {
     "data": {
      "image/png": "[encoded data removed]",
      "text/plain": [
       "<Figure size 600x100 with 1 Axes>"
      ]
     },
     "metadata": {},
     "output_type": "display_data"
    }
   ],
   "source": [
    "print('Light mode palette')\n",
    "sns.palplot(light_palette)\n",
    "sns.palplot(gray_light_palette)"
   ]
  },
  {
   "cell_type": "code",
   "execution_count": 4,
   "id": "add1657d",
   "metadata": {},
   "outputs": [],
   "source": [
    "# cmap 수정\n",
    "mpl.rcParams['axes.prop_cycle'] = cycler('color',light_palette)\n",
    "# 해상도 조정\n",
    "mpl.rcParams['figure.dpi'] = 200\n",
    "# ax의 우측과 상단 지우기\n",
    "mpl.rcParams['axes.spines.top'] = False\n",
    "mpl.rcParams['axes.spines.right'] = False"
   ]
  },
  {
   "cell_type": "markdown",
   "id": "d4c7c0a3",
   "metadata": {},
   "source": [
    "## KILT BM25 NQ negative (from DPR) depreciated"
   ]
  },
  {
   "cell_type": "code",
   "execution_count": null,
   "id": "4e9ae4ae",
   "metadata": {},
   "outputs": [],
   "source": [
    "# option = 'bm25'\n",
    "# path = '/data/philhoon-relevance/FiD/results/KILT_DPR_NQ'\n",
    "# # path = '/data/philhoon-relevance/FiD/results/KILT_DPR_NQ_depreciated'\n",
    "# plot_path = './img/FiDResultOnBM25HardnegativeNQdevSubsets.png'\n",
    "# title = 'FiD result on BM25 negative nq dev subsets'"
   ]
  },
  {
   "cell_type": "markdown",
   "id": "b69b594e",
   "metadata": {},
   "source": [
    "## KILT Random Sampling NQ negative  depreciated"
   ]
  },
  {
   "cell_type": "code",
   "execution_count": null,
   "id": "db0ca387",
   "metadata": {},
   "outputs": [],
   "source": [
    "# option = 'random'\n",
    "# path = '/data/philhoon-relevance/FiD/results/KILT_RANDOM_NQ'\n",
    "# plot_path = './img/FiDResultOnRandomSamplingnegativeNQdevSubsets.png'\n",
    "# title = 'FiD result on random sampling negative nq dev subsets'"
   ]
  },
  {
   "cell_type": "markdown",
   "id": "4d94b03f",
   "metadata": {},
   "source": [
    "## KILT BM25 NQ negative (from DPR)"
   ]
  },
  {
   "cell_type": "code",
   "execution_count": null,
   "id": "779c7a4d",
   "metadata": {},
   "outputs": [],
   "source": [
    "# option = 'bm25'\n",
    "# path = '/data/philhoon-relevance/FiD/results/KILT_BM25_NQ'"
   ]
  },
  {
   "cell_type": "markdown",
   "id": "ce828108",
   "metadata": {},
   "source": [
    "## KILT Random Sampling NQ negative "
   ]
  },
  {
   "cell_type": "code",
   "execution_count": null,
   "id": "580e7bce",
   "metadata": {},
   "outputs": [],
   "source": [
    "# option = 'random'\n",
    "# path = '/data/philhoon-relevance/FiD/results/KILT_RANDOM_NQ'\n",
    "# plot_path = './img/New_FiDResultOnRandomSamplingnegativeNQdev2539.png'\n",
    "# title = 'New FiD result on random sampling negative nq dev subsets'"
   ]
  },
  {
   "cell_type": "markdown",
   "id": "f29bd1fc",
   "metadata": {},
   "source": [
    "## NQ dev DPR retrieved Data"
   ]
  },
  {
   "cell_type": "code",
   "execution_count": 5,
   "id": "62d80342",
   "metadata": {},
   "outputs": [],
   "source": [
    "path = '/data/philhoon-relevance/FiD/results/NQ_DPR/DEV'\n",
    "title = 'FiD result by number of passage on DPR retrieved dataset'\n",
    "path = pathlib.Path(path)"
   ]
  },
  {
   "cell_type": "code",
   "execution_count": 6,
   "id": "94004efd",
   "metadata": {},
   "outputs": [],
   "source": [
    "path = pathlib.Path(path)"
   ]
  },
  {
   "cell_type": "code",
   "execution_count": 7,
   "id": "681b78f3",
   "metadata": {},
   "outputs": [
    {
     "name": "stdout",
     "output_type": "stream",
     "text": [
      "100\n"
     ]
    }
   ],
   "source": [
    "files = path.glob('**/final_output.txt')\n",
    "check_lst = list(files)\n",
    "print(len(check_lst))\n",
    "# pprint(check_lst)"
   ]
  },
  {
   "cell_type": "code",
   "execution_count": 8,
   "id": "f40b06a6",
   "metadata": {},
   "outputs": [
    {
     "data": {
      "text/plain": [
       "100"
      ]
     },
     "execution_count": 8,
     "metadata": {},
     "output_type": "execute_result"
    }
   ],
   "source": [
    "len(check_lst)"
   ]
  },
  {
   "cell_type": "code",
   "execution_count": 9,
   "id": "7fc8fc4d",
   "metadata": {},
   "outputs": [],
   "source": [
    "dict_eval = {\n",
    "    'ctx' : [],\n",
    "    'em' : []\n",
    "}\n",
    "\n",
    "sample_size = 100\n",
    "\n",
    "for ctx in range(1, sample_size+1):\n",
    "    file_name_ = f'NQ_dev_{ctx}_context'\n",
    "    file_path = list(path.glob(f'**/{file_name_}*/*.txt'))\n",
    "    \n",
    "    test = file_path[0]\n",
    "        \n",
    "    df = pd.read_csv(test, sep = '\\t', header=None)\n",
    "    df.columns = ['id','inference','em']\n",
    "#     print(len(df))\n",
    "    em = float(sum(df['em'])/len(df))\n",
    "        \n",
    "    dict_eval['ctx'].append(ctx)\n",
    "    dict_eval['em'].append(em)\n",
    "        \n",
    "        "
   ]
  },
  {
   "cell_type": "code",
   "execution_count": 10,
   "id": "d08c3fab",
   "metadata": {},
   "outputs": [
    {
     "data": {
      "text/plain": [
       "100"
      ]
     },
     "execution_count": 10,
     "metadata": {},
     "output_type": "execute_result"
    }
   ],
   "source": [
    "len(dict_eval['em'])"
   ]
  },
  {
   "cell_type": "markdown",
   "id": "09acd4d7",
   "metadata": {},
   "source": [
    "# merge final_output.txt files"
   ]
  },
  {
   "cell_type": "code",
   "execution_count": 11,
   "id": "90badd3d",
   "metadata": {},
   "outputs": [],
   "source": [
    "path = '/data/philhoon-relevance/FiD/results/NQ_DPR/DEV'\n",
    "title = 'FiD result by number of passage on DPR retrieved dataset'\n",
    "path = pathlib.Path(path)\n",
    "sample_size = 100"
   ]
  },
  {
   "cell_type": "code",
   "execution_count": 12,
   "id": "731a2e2a",
   "metadata": {},
   "outputs": [],
   "source": [
    "# def merge_output(path, sample_size):\n",
    "#     id_lst = []\n",
    "#     inference_lst = []\n",
    "#     em_lst = []\n",
    "    \n",
    "#     for ctx in range(pos, sample_size+1):\n",
    "#         file_pattern = f'./kilt_bm25_nq_dev_pos{pos}_context{ctx}/final_output.txt'\n",
    "#         print(file_pattern)\n",
    "#         output_file = list(path.glob(file_pattern))\n",
    "#         test = output_file[0]\n",
    "#         df = pd.read_csv(test, sep = '\\t', header=None)\n",
    "#         df.columns = ['id','inference','em']\n",
    "\n",
    "#         if not id_lst:\n",
    "#             id_lst = df.id.to_list()\n",
    "#         inference_lst.append(df.inference.to_list())\n",
    "#         em_lst.append(df.em.to_list())\n",
    "    \n",
    "#     return id_lst, inference_lst, em_lst\n",
    "    "
   ]
  },
  {
   "cell_type": "code",
   "execution_count": 13,
   "id": "8697d89e",
   "metadata": {},
   "outputs": [],
   "source": [
    "# id_lst = []\n",
    "# inference_lst = []\n",
    "# em_lst = []"
   ]
  },
  {
   "cell_type": "code",
   "execution_count": 14,
   "id": "09e08f9a",
   "metadata": {},
   "outputs": [],
   "source": [
    "# for ctx in range(1, sample_size+1):\n",
    "#     file_name_ = f'NQ_dev_{ctx}_context'\n",
    "#     file_path = list(path.glob(f'**/{file_name_}*/*.txt'))\n",
    "#     test = file_path[0]\n",
    "    \n",
    "#     df = pd.read_csv(test, sep = '\\t', header=None)\n",
    "#     df.columns = ['id','inference','em']\n",
    "\n",
    "#     if not id_lst:\n",
    "#         id_lst = df.id.to_list()\n",
    "#     inference_lst.append(df.inference.to_list())\n",
    "#     em_lst.append(df.em.to_list())\n",
    "#     return id_lst, inference_lst, em_lst"
   ]
  },
  {
   "cell_type": "code",
   "execution_count": 15,
   "id": "8fd4eaf0",
   "metadata": {},
   "outputs": [],
   "source": [
    "def merge_output(path, sample_size):\n",
    "    id_lst = []\n",
    "    inference_lst = []\n",
    "    em_lst = []\n",
    "    \n",
    "    for ctx in range(1, sample_size+1):\n",
    "        file_name_ = f'NQ_dev_{ctx}_context'\n",
    "        file_path = list(path.glob(f'**/{file_name_}*/*.txt'))\n",
    "        test = file_path[0]\n",
    "\n",
    "        df = pd.read_csv(test, sep = '\\t', header=None)\n",
    "        df.columns = ['id','inference','em']\n",
    "\n",
    "        if not id_lst:\n",
    "            id_lst = df.id.to_list()\n",
    "        inference_lst.append(df.inference.to_list())\n",
    "        em_lst.append(df.em.to_list())\n",
    "    return id_lst, inference_lst, em_lst\n",
    "    "
   ]
  },
  {
   "cell_type": "code",
   "execution_count": 16,
   "id": "d7f0a903",
   "metadata": {},
   "outputs": [],
   "source": [
    "id_, infer_, em_ = merge_output(path, sample_size)"
   ]
  },
  {
   "cell_type": "code",
   "execution_count": 17,
   "id": "3bb0fae1",
   "metadata": {},
   "outputs": [],
   "source": [
    "def get_em_result(em_zip):\n",
    "    cul_cnt = 0\n",
    "    cul_em = []\n",
    "    conversion = []\n",
    "    for em in em_zip:\n",
    "        if '1' in em:\n",
    "            cul_em.append('1')\n",
    "            cul_cnt += 1\n",
    "        else:\n",
    "            cul_em.append('0')\n",
    "\n",
    "        conversion.append(len(re.findall(r'10', em)))\n",
    "    \n",
    "    return cul_em, conversion, cul_cnt"
   ]
  },
  {
   "cell_type": "code",
   "execution_count": 18,
   "id": "89c76248",
   "metadata": {},
   "outputs": [],
   "source": [
    "# em_pattern\n",
    "em_zip = list(map(lambda line: ''.join(map(lambda s: str(1) if s else str(0), line)), zip(*em_)))\n",
    "\n",
    "# inference\n",
    "infer_zip = list(map(list, zip(*infer_)))\n",
    "\n",
    "# cumulative_em, conversion\n",
    "cul_em_lst, conversion_lst, cul_cnt = get_em_result(em_zip)"
   ]
  },
  {
   "cell_type": "code",
   "execution_count": 19,
   "id": "b7d98bb2",
   "metadata": {},
   "outputs": [],
   "source": [
    "def get_merged_result(id_, em_zip, infer_zip, conversion_lst, cul_em_lst):\n",
    "    result = {}\n",
    "    for query_id, em_pattern, inference, conversion, cumulative_em in zip(id_, em_zip, infer_zip, conversion_lst, cul_em_lst):\n",
    "        template = {\n",
    "            'em_pattern' : em_pattern,\n",
    "            'inference' : inference,\n",
    "            'conversion' : conversion,\n",
    "            'cumulative_em' : cumulative_em\n",
    "        }\n",
    "        result[str(query_id)] = template\n",
    "    return result"
   ]
  },
  {
   "cell_type": "code",
   "execution_count": 20,
   "id": "86747593",
   "metadata": {},
   "outputs": [],
   "source": [
    "result = get_merged_result(id_, em_zip, infer_zip, conversion_lst, cul_em_lst)"
   ]
  },
  {
   "cell_type": "markdown",
   "id": "22d9d67b",
   "metadata": {},
   "source": [
    "### merge above outputs to orignal file"
   ]
  },
  {
   "cell_type": "code",
   "execution_count": 21,
   "id": "438aa4d1",
   "metadata": {},
   "outputs": [],
   "source": [
    "nq_dev_file = '/data/philhoon-relevance/FiD/open_domain_data/NQ/dev.json'\n",
    "sample_size = 100"
   ]
  },
  {
   "cell_type": "code",
   "execution_count": 22,
   "id": "637745b2",
   "metadata": {},
   "outputs": [],
   "source": [
    "nq_dev_format = utils.open_json(nq_dev_file)"
   ]
  },
  {
   "cell_type": "code",
   "execution_count": 23,
   "id": "d26edfc5",
   "metadata": {},
   "outputs": [],
   "source": [
    "# pprint(len(result))"
   ]
  },
  {
   "cell_type": "code",
   "execution_count": 24,
   "id": "6cae71f4",
   "metadata": {},
   "outputs": [],
   "source": [
    "# result['0']"
   ]
  },
  {
   "cell_type": "code",
   "execution_count": 25,
   "id": "8777e4c9",
   "metadata": {
    "scrolled": false
   },
   "outputs": [
    {
     "name": "stdout",
     "output_type": "stream",
     "text": [
      "8757\n"
     ]
    }
   ],
   "source": [
    "pprint(len(nq_dev_format))"
   ]
  },
  {
   "cell_type": "code",
   "execution_count": 26,
   "id": "a54f4c3b",
   "metadata": {
    "scrolled": false
   },
   "outputs": [],
   "source": [
    "# pprint(nq_dev_format[0].keys())"
   ]
  },
  {
   "cell_type": "code",
   "execution_count": 27,
   "id": "033bc909",
   "metadata": {},
   "outputs": [],
   "source": [
    "def merge_with_input(nq_dev_format, result, sample_size):\n",
    "    for idx, dev_example in enumerate(nq_dev_format):\n",
    "        id_ = str(idx)\n",
    "        if id_ in result.keys():\n",
    "            dev_example['ctxs'] = dev_example['ctxs'][:sample_size]\n",
    "            dev_example['em_pattern'] = result[id_]['em_pattern']\n",
    "            dev_example['inference'] = result[id_]['inference']\n",
    "            dev_example['conversion'] = result[id_]['conversion']\n",
    "            dev_example['cumulative_em'] = result[id_]['cumulative_em']\n",
    "        else:\n",
    "            print('ID not exist. Mathcing ID required')\n",
    "    return nq_dev_format"
   ]
  },
  {
   "cell_type": "code",
   "execution_count": 28,
   "id": "07e35abe",
   "metadata": {},
   "outputs": [],
   "source": [
    "final_output = merge_with_input(nq_dev_format, result, sample_size)"
   ]
  },
  {
   "cell_type": "code",
   "execution_count": 29,
   "id": "cad993a9",
   "metadata": {},
   "outputs": [],
   "source": [
    "# len(final_output)"
   ]
  },
  {
   "cell_type": "code",
   "execution_count": 30,
   "id": "ead2d661",
   "metadata": {
    "scrolled": false
   },
   "outputs": [],
   "source": [
    "# pprint(final_output[0])"
   ]
  },
  {
   "cell_type": "code",
   "execution_count": 31,
   "id": "342c33bb",
   "metadata": {},
   "outputs": [],
   "source": [
    "# path = '/data/philhoon-relevance/FiD/results/NQ_DPR/DEV'"
   ]
  },
  {
   "cell_type": "code",
   "execution_count": 32,
   "id": "46526bae",
   "metadata": {},
   "outputs": [],
   "source": [
    "output_file_path = f'/data/philhoon-relevance/FiD/results/NQ_DPR/DEV/incremental_result_100/ctx{sample_size}.json'\n",
    "output_txt_path = f'/data/philhoon-relevance/FiD/results/NQ_DPR/DEV/incremental_result_100/ctx{sample_size}.txt'"
   ]
  },
  {
   "cell_type": "code",
   "execution_count": 33,
   "id": "ed4b7552",
   "metadata": {},
   "outputs": [],
   "source": [
    "# utils.save_json(final_output, output_file_path)"
   ]
  },
  {
   "cell_type": "code",
   "execution_count": 34,
   "id": "18428728",
   "metadata": {},
   "outputs": [],
   "source": [
    "cul_cnt = 0\n",
    "for ins in final_output:\n",
    "    cul_cnt += int(ins['cumulative_em'])\n",
    "cul_score = cul_cnt/len(final_output)\n",
    "output_string = f'Out of {len(final_output)} instances; {cul_cnt} are incrementally correct : {cul_score} in EM'"
   ]
  },
  {
   "cell_type": "code",
   "execution_count": 35,
   "id": "17f2df30",
   "metadata": {},
   "outputs": [
    {
     "data": {
      "text/plain": [
       "'Out of 8757 instances; 5456 are incrementally correct : 0.6230444216055727 in EM'"
      ]
     },
     "execution_count": 35,
     "metadata": {},
     "output_type": "execute_result"
    }
   ],
   "source": [
    "output_string"
   ]
  },
  {
   "cell_type": "code",
   "execution_count": null,
   "id": "0f0b8d49",
   "metadata": {},
   "outputs": [],
   "source": [
    "# with open(output_txt_path, \"w\") as file:\n",
    "#     file.write(output_string)"
   ]
  },
  {
   "cell_type": "code",
   "execution_count": 47,
   "id": "4686fc27",
   "metadata": {},
   "outputs": [
    {
     "name": "stdout",
     "output_type": "stream",
     "text": [
      "dict_keys(['question', 'answers', 'ctxs', 'em_pattern', 'inference', 'conversion', 'cumulative_em'])\n",
      "True\n"
     ]
    }
   ],
   "source": [
    "print(final_output[0].keys())\n",
    "print(final_output[0]['cumulative_em'] == '1')"
   ]
  },
  {
   "cell_type": "code",
   "execution_count": 60,
   "id": "247b1c46",
   "metadata": {
    "scrolled": false
   },
   "outputs": [
    {
     "name": "stdout",
     "output_type": "stream",
     "text": [
      "em_pattern : 0110000000000000000000000000000000000000000000000000000000000000000000000000000000000000000000000000\n",
      "question : where are the fruits of the spirit found in the bible\n",
      "answers : ['Epistle to the Galatians']\n",
      "inference : ['chapter 5', 'Epistle to the Galatians', 'Epistle to the Galatians', 'Galatians']\n",
      "[{'id': '5651520',\n",
      "  'text': 'Fruit of the Holy Spirit The Fruit of the Holy Spirit is a biblical '\n",
      "          'term that sums up nine attributes of a person or community living '\n",
      "          'in accord with the Holy Spirit, according to chapter 5 of the '\n",
      "          'Epistle to the Galatians: \"But the fruit of the Spirit is love, '\n",
      "          'joy, peace, patience, kindness, goodness, faithfulness, gentleness, '\n",
      "          'and self-control.\" The fruit is contrasted with the which '\n",
      "          'immediately precede it in this chapter. Catholic tradition follows '\n",
      "          'the Vulgate version of Galatians in listing 12 fruits: charity, '\n",
      "          'joy, peace, patience, benignity (kindness), goodness, longanimity '\n",
      "          '(generosity), mildness (gentleness), faith, modesty, continency '\n",
      "          '(self-control), and',\n",
      "  'title': 'Fruit of the Holy Spirit'},\n",
      " {'id': '5651524',\n",
      "  'text': \"and lasts only for a time. According to Strong's Greek Lexicon, the \"\n",
      "          \"Greek word listed in the verse is χαρά (G5479), meaning 'joy', \"\n",
      "          \"'gladness', or 'a source of joy'. The Greek χαρά (chara) occurs 59 \"\n",
      "          'times in 57 verses in the Greek concordance of the NASB. Joy (Noun '\n",
      "          'and Verb), Joyfulness, Joyfully, Joyous: \"joy, delight\" (akin to '\n",
      "          'chairo, \"to rejoice\"), is found frequently in Matthew and Luke, and '\n",
      "          'especially in John, once in Mark (Mar 4:16, RV, \"joy,\" AV, '\n",
      "          '\"gladness\"); it is absent from 1 Cor. (though the verb is used '\n",
      "          'three times), but is frequent in 2 Cor., where',\n",
      "  'title': 'Fruit of the Holy Spirit'},\n",
      " {'id': '5651534',\n",
      "  'text': 'the left\". Popular English Bibles (e.g. NIV, NASB, NLT) translate '\n",
      "          'the single Greek word \"chrestotes\" into two English words: kindness '\n",
      "          'and goodness. \"Wherefore also we pray always for you, that our God '\n",
      "          'would count you worthy of this calling, and fulfill all the good '\n",
      "          'pleasure of his goodness, and the work of faith with power\". \"For '\n",
      "          'the fruit of the Spirit is in all goodness and righteousness and '\n",
      "          'truth\", with agathosune being \"found only in Biblical and '\n",
      "          'ecclesiastical writings, uprightness of heart and life\" The root of '\n",
      "          'pistis (\"faith\") is peithô that is to persuade or be persuaded '\n",
      "          'which supplies',\n",
      "  'title': 'Fruit of the Holy Spirit'},\n",
      " {'id': '5651521',\n",
      "  'text': 'chastity. This tradition was defended by Thomas Aquinas in his work '\n",
      "          '\"Summa Theologica\". Aquinas pointed that numbered among the fruits '\n",
      "          'of the Holy Spirit are certain virtues, such as charity, meekness, '\n",
      "          'faith, and chastity. Augustine defined virtue as \"a good habit '\n",
      "          'consonant with our nature.\" Though traditionally discussed as nine '\n",
      "          'attributes of the Fruit of the Spirit, the original Greek term '\n",
      "          'translated as \"fruit\" is singular. Aquinas explained, \"Consequently '\n",
      "          'fruit is mentioned there in the singular, on account of its being '\n",
      "          'generically one, though divided into many species which are spoken '\n",
      "          'of as so many fruits.\" Augustine\\'s commentary on Galatians',\n",
      "  'title': 'Fruit of the Holy Spirit'}]\n",
      "em_pattern : 0110000000000000000000000000000000000000000000000000000000000000000000000000000000000000000000000000\n",
      "question : what is the newest generation of the ipad\n",
      "answers : ['sixth-generation']\n",
      "inference : ['officially sixth-generation iPad', 'sixth-generation', 'sixth-generation', 'iPad (2018)']\n",
      "[{'id': '20642966',\n",
      "  'text': 'IPad (2018) The iPad (officially sixth-generation iPad) is a '\n",
      "          '9.7-inch (25cm) tablet computer designed, developed, and marketed '\n",
      "          'by Apple Inc. It was announced on March 27, 2018, during an '\n",
      "          'education-focused event at Lane Tech High School in Chicago and is '\n",
      "          'a revision of the 2017 model, upgraded with the Apple A10 Fusion '\n",
      "          'SoC and support for styluses such as Apple Pencil. The iPad is '\n",
      "          'marketed towards educators and schools. The iPad is priced starting '\n",
      "          'at US$329 for consumers, $309 for educators/students and $299 for '\n",
      "          'schools. The iPad shipped with the latest release of iOS 11, with '\n",
      "          'the iWork suite of',\n",
      "  'title': 'IPad (2018)'},\n",
      " {'id': '20068143',\n",
      "  'text': 'IPad (2017) The iPad (officially fifth-generation iPad) is a '\n",
      "          '9.7-inch tablet computer designed, developed, and marketed by Apple '\n",
      "          'Inc. After its announcement on March 21, 2017, conflicting naming '\n",
      "          'conventions spawned a number of different names, including '\n",
      "          'seventh-generation iPad or iPad 2017. It retains the screen size of '\n",
      "          'the iPad Air line of tablets, and is more powerful than iPad Air 2, '\n",
      "          'even as its overall dimensions and weight are more similar to the '\n",
      "          'original iPad Air. Unlike the iPad Air 2, this generation of iPad '\n",
      "          'does not have a fully laminated display and lacks an '\n",
      "          'anti-reflective coating. Unlike the iPad',\n",
      "  'title': 'IPad (2017)'},\n",
      " {'id': '14238943',\n",
      "  'text': 'and hardware, but also includes Touch ID and available in gold '\n",
      "          'color. In September, 2015, the iPad Pro was announced, which '\n",
      "          'included a 12.9-inch screen, and a 9.7-inch version was announced '\n",
      "          'in March 2016, with the addition of 256 GB option for both iPad Pro '\n",
      "          'models. On March 21, 2017, a new iPad was announced. The hardware '\n",
      "          'includes an A9 processor and is designed to be a budget version of '\n",
      "          \"the iPad. In June 2017, the iPad Pro's second generation hardware \"\n",
      "          'was announced to have 12.9 and 10.5-inch screens. On March 28, '\n",
      "          '2018, the new iPad 9.7-inch 2018 model (6th',\n",
      "  'title': 'IPad'},\n",
      " {'id': '14238927',\n",
      "  'text': 'IPad iPad ( ) is a line of tablet computers designed, developed and '\n",
      "          'marketed by Apple Inc., which run the iOS mobile operating system. '\n",
      "          'The first iPad was released on April 3, 2010; the most recent iPad '\n",
      "          'models are the iPad (2018), released on March 27, 2018 and the and '\n",
      "          '3rd generation iPad Pro released on November 7, 2018. The user '\n",
      "          \"interface is built around the device's multi-touch screen, \"\n",
      "          'including a virtual keyboard. All iPads can connect via Wi-Fi; some '\n",
      "          'models also have cellular connectivity. , Apple has sold more than '\n",
      "          '360 million iPads, though sales peaked in 2013. It',\n",
      "  'title': 'IPad'}]\n",
      "em_pattern : 0110000000000000000000000000000000000000000000000000000000000000000000000000000000000000000000000000\n",
      "question : who wrote the song live and let die\n",
      "answers : ['Paul and Linda McCartney']\n",
      "inference : ['Linda McCartney', 'Paul and Linda McCartney', 'Paul and Linda McCartney', 'Linda McCartney']\n",
      "[{'id': '8149638',\n",
      "  'text': 'Live and Let Die (song) \"Live and Let Die\" is the main theme song '\n",
      "          'of the 1973 James Bond film \"Live and Let Die\", written by Paul and '\n",
      "          'Linda McCartney and performed by Wings. It was the most successful '\n",
      "          'Bond theme to that point, charting at No. 2 on the US \"Billboard\" '\n",
      "          'Hot 100 and No. 9 on the UK Singles Chart. Commissioned '\n",
      "          'specifically for the movie, it reunited the former Beatle with the '\n",
      "          \"band's producer, George Martin, who produced the song and arranged \"\n",
      "          'the orchestra. It has been covered by several bands, with the Guns '\n",
      "          \"N' Roses version being\",\n",
      "  'title': 'Live and Let Die (song)'},\n",
      " {'id': '8149639',\n",
      "  'text': \"the most popular cover. Both the McCartney and the Guns N' Roses \"\n",
      "          'versions were nominated for Grammy Awards. In 2012, McCartney was '\n",
      "          'awarded the Million-Air Award from Broadcast Music, Inc. (BMI), for '\n",
      "          'more than 4 million performances of the song in the US. Even before '\n",
      "          'Tom Mankiewicz had finished writing the screenplay to \"Live and Let '\n",
      "          'Die,\" producers Harry Saltzman and Albert R. Broccoli invited Paul '\n",
      "          'McCartney to write the theme song. McCartney asked to be sent a '\n",
      "          'copy of Ian Fleming\\'s novel. \"I read it and thought it was pretty '\n",
      "          'good. That afternoon I wrote the song and went',\n",
      "  'title': 'Live and Let Die (song)'},\n",
      " {'id': '8516578',\n",
      "  'text': 'and orchestrated the \"James Bond Theme\", was unavailable during '\n",
      "          'production. Broccoli and Saltzman instead asked Paul McCartney to '\n",
      "          \"write the theme song. Since McCartney's salary was high and another \"\n",
      "          'composer could not be hired with the remainder of the music budget, '\n",
      "          \"George Martin, who had been McCartney's producer while with The \"\n",
      "          'Beatles, was chosen to write the score for the film. \"Live and Let '\n",
      "          'Die\", written by McCartney along with his wife Linda and performed '\n",
      "          'by their group Wings, was the first true rock and roll song used to '\n",
      "          'open a Bond film, and became a major success in the',\n",
      "  'title': 'Live and Let Die (film)'},\n",
      " {'id': '8149648',\n",
      "  'text': 'stage and showing old pictures. The video also was made shortly '\n",
      "          \"before Izzy Stradlin's departure, and it is the last video where he \"\n",
      "          'appears. It charted at No. 20 on the Mainstream Rock chart. The '\n",
      "          'song was nominated for \"Best Hard Rock Performance\" during the 1993 '\n",
      "          \"Grammy Awards. Guns N' Roses Additional musicians General Live and \"\n",
      "          'Let Die (song) \"Live and Let Die\" is the main theme song of the '\n",
      "          '1973 James Bond film \"Live and Let Die\", written by Paul and Linda '\n",
      "          'McCartney and performed by Wings. It was the most successful Bond '\n",
      "          'theme to that point, charting at',\n",
      "  'title': 'Live and Let Die (song)'}]\n",
      "em_pattern : 0110000000000000000000000000000000000000000000000000000000000000000000000000000000000000000000000000\n",
      "question : what is the typical term for a mortgage loan\n",
      "answers : ['mortgage']\n",
      "inference : ['simply mortgage', 'mortgage', 'mortgage', 'typically 30 years']\n",
      "[{'id': '9330812',\n",
      "  'text': 'Mortgage loan A mortgage loan, or simply mortgage (), is used '\n",
      "          'either by purchasers of real property to raise funds to buy real '\n",
      "          'estate, or alternatively by existing property owners to raise funds '\n",
      "          'for any purpose, while putting a lien on the property being '\n",
      "          'mortgaged. The loan is \"secured\" on the borrower\\'s property '\n",
      "          'through a process known as mortgage origination. This means that a '\n",
      "          'legal mechanism is put into place which allows the lender to take '\n",
      "          'possession and sell the secured property (\"foreclosure\" or '\n",
      "          '\"repossession\") to pay off the loan in the event the borrower '\n",
      "          'defaults on the loan or',\n",
      "  'title': 'Mortgage loan'},\n",
      " {'id': '5039196',\n",
      "  'text': 'VA loan A VA loan is a mortgage loan in the United States '\n",
      "          'guaranteed by the United States Department of Veterans Affairs '\n",
      "          '(VA). The program is for American veterans, military members '\n",
      "          'currently serving in the U.S. military, reservists and select '\n",
      "          'surviving spouses (provided they do not remarry) and can be used to '\n",
      "          'purchase single-family homes, condominiums, multi-unit properties, '\n",
      "          'manufactured homes and new construction. The VA does not originate '\n",
      "          'loans, but sets the rules for who may qualify, issues minimum '\n",
      "          'guidelines and requirements under which mortgages may be offered '\n",
      "          'and financially guarantees loans that qualify under the program. '\n",
      "          'The basic intention',\n",
      "  'title': 'VA loan'},\n",
      " {'id': '20213719',\n",
      "  'text': 'Mortgage origination Mortgage origination, a specialized subset of '\n",
      "          'loan origination, in consumer lending is the process by which a '\n",
      "          'lender works with a borrower to complete a mortgage transaction, '\n",
      "          'resulting in a mortgage loan. A mortgage is a loan in which '\n",
      "          'property or real estate is used as collateral. During this process, '\n",
      "          'borrowers must submit various types of financial information and '\n",
      "          'documentation to a mortgage lender, including tax returns, payment '\n",
      "          'history, credit card information and bank balances. Mortgage '\n",
      "          'lenders use this information to determine the type of loan and the '\n",
      "          'interest rate for which the borrower is eligible. The process',\n",
      "  'title': 'Mortgage origination'},\n",
      " {'id': '9330817',\n",
      "  'text': 'to amortize over a set period of time, typically 30 years. All '\n",
      "          'types of real property can be, and usually are, secured with a '\n",
      "          'mortgage and bear an interest rate that is supposed to reflect the '\n",
      "          \"lender's risk. Mortgage lending is the primary mechanism used in \"\n",
      "          'many countries to finance private ownership of residential and '\n",
      "          'commercial property (see commercial mortgages). Although the '\n",
      "          'terminology and precise forms will differ from country to country, '\n",
      "          'the basic components tend to be similar: Many other specific '\n",
      "          'characteristics are common to many markets, but the above are the '\n",
      "          'essential features. Governments usually regulate many aspects',\n",
      "  'title': 'Mortgage loan'}]\n",
      "em_pattern : 0110000000000000000000000000000000000000000000000000000000000000000000000000000000000000000000000000\n",
      "question : where was the statue of zeus at olympia located\n",
      "answers : ['in the Temple of Zeus']\n",
      "inference : ['the Temple of Zeus there', 'in the Temple of Zeus', 'in the Temple of Zeus', 'the Temple of Zeus']\n",
      "[{'id': '784335',\n",
      "  'text': 'Statue of Zeus at Olympia The Statue of Zeus at Olympia was a giant '\n",
      "          'seated figure, about tall, made by the Greek sculptor Phidias '\n",
      "          'around 435 BC at the sanctuary of Olympia, Greece, and erected in '\n",
      "          'the Temple of Zeus there. A sculpture of ivory plates and gold '\n",
      "          'panels over a wooden framework, it represented the god Zeus sitting '\n",
      "          'on an elaborate cedar wood throne ornamented with ebony, ivory, '\n",
      "          'gold and precious stones. One of the Seven Wonders of the Ancient '\n",
      "          'World, it was lost and destroyed during the 5th century AD with no '\n",
      "          'copy ever being found, and details',\n",
      "  'title': 'Statue of Zeus at Olympia'},\n",
      " {'id': '784336',\n",
      "  'text': 'of its form are known only from ancient Greek descriptions and '\n",
      "          'representations on coins. The statue of Zeus was commissioned by '\n",
      "          'the Eleans, custodians of the Olympic Games, in the latter half of '\n",
      "          'the fifth century BC for their recently constructed Temple of Zeus. '\n",
      "          'Seeking to outdo their Athenian rivals, the Eleans employed the '\n",
      "          'renowned sculptor Phidias, who had previously made the massive '\n",
      "          'statue of Athena Parthenos in the Parthenon. The great seated '\n",
      "          'statue as fashioned by Phidias occupied half the width of the aisle '\n",
      "          'of the temple built to house it. \"It seems that if Zeus were to '\n",
      "          'stand',\n",
      "  'title': 'Statue of Zeus at Olympia'},\n",
      " {'id': '6582924',\n",
      "  'text': 'was carved by Alcamenes. The metopes from the temple depict the '\n",
      "          'twelve labours of Heracles. The temple housed the renowned statue '\n",
      "          'of Zeus, which was one of the Seven Wonders of the Ancient World. '\n",
      "          'The Chryselephantine (gold and ivory) statue was approximately '\n",
      "          'high, and was made by the sculptor Phidias in his workshop on the '\n",
      "          \"site at Olympia. The statue's completion took approximately 12 \"\n",
      "          \"years and was one of Classical Greece's most revered artistic \"\n",
      "          'works. The installation of the colossal statue coincided with '\n",
      "          'substantial modification of the cella. The internal columns and '\n",
      "          'their stylobates were dismantled and repositioned, which likely',\n",
      "  'title': 'Temple of Zeus, Olympia'},\n",
      " {'id': '784337',\n",
      "  'text': 'up,\" the geographer Strabo noted early in the 1st century BC, \"he '\n",
      "          'would unroof the temple.\" The \"Zeus\" was a chryselephantine '\n",
      "          'sculpture, made with ivory and gold panels on a wooden '\n",
      "          'substructure. No copy in marble or bronze has survived, though '\n",
      "          'there are recognizable but only approximate versions on coins of '\n",
      "          'nearby Elis and on Roman coins and engraved gems. In the 2nd '\n",
      "          'century AD, the geographer and traveler Pausanias gave a detailed '\n",
      "          'description. The statue was crowned with a sculpted wreath of olive '\n",
      "          'sprays, and wore a gilded robe made from glass and carved with '\n",
      "          'animals and lilies. In',\n",
      "  'title': 'Statue of Zeus at Olympia'}]\n",
      "em_pattern : 0110000000000000000000000000000000000000000000000000000000000000000000000000000000000000000000000000\n",
      "question : who is the actor that plays anakin skywalker\n",
      "answers : ['Hayden Christensen']\n",
      "inference : ['Jake Matthew Lloyd', 'Hayden Christensen', 'Hayden Christensen', 'Matthew MacKendree Lanter']\n",
      "[{'id': '2867917',\n",
      "  'text': 'Jake Lloyd Jake Matthew Lloyd (born March 5, 1989) is an American '\n",
      "          'former actor who played young Anakin Skywalker in the 1999 film \"\", '\n",
      "          'the first in the \"Star Wars\" prequel trilogy. He reprised this role '\n",
      "          'in five subsequent \"Star Wars\" video games. Jake Matthew Lloyd was '\n",
      "          'born in Fort Collins, Colorado, the son of EMT William \"Bill\" Lloyd '\n",
      "          'and entertainment agent Lisa Riley. He attended Carmel High School '\n",
      "          'in Carmel, Indiana and graduated from there in 2007. Lloyd began '\n",
      "          'his acting career in 1996, playing Jimmy Sweet in 4 episodes of '\n",
      "          '\"ER\". He was then cast as Jake Warren',\n",
      "  'title': 'Jake Lloyd'},\n",
      " {'id': '645835',\n",
      "  'text': 'Hayden Christensen Hayden Christensen (born April 19, 1981) is a '\n",
      "          'Canadian actor and producer. He began his career on Canadian '\n",
      "          'television at the age of 13, then diversified into American '\n",
      "          'television in the late 1990s. He was praised for his acting as Sam '\n",
      "          'in \"Life as a House\" (2001), earning Golden Globe Award and Screen '\n",
      "          'Actors Guild Award nominations. Christensen gained international '\n",
      "          'fame for his portrayal of Anakin Skywalker in \"\" (2002) and \"\" '\n",
      "          '(2005). His honors for these films include a nomination for the '\n",
      "          'Saturn Award for Best Actor and the Cannes Film Festival Revelation '\n",
      "          'Award. Christensen was born',\n",
      "  'title': 'Hayden Christensen'},\n",
      " {'id': '2402522',\n",
      "  'text': 'some of his most acclaimed performances. He also wrote several '\n",
      "          'poems and a novel, \"The Christening\", in 1975. He is also known for '\n",
      "          'his brief but important performance in \"Return of the Jedi\", the '\n",
      "          'original third installment in the \"Star Wars\" franchise, in which '\n",
      "          'he portrayed an unmasked and redeemed Anakin Skywalker (formerly '\n",
      "          'Darth Vader), and his ghost in the original version of the film. '\n",
      "          'Shaw was one of three children born to Dr. Geoffrey Shaw, the music '\n",
      "          \"master at Gresham's School, a Norfolk independent boarding school, \"\n",
      "          'where Shaw began his education. His uncle, Martin Shaw, was a '\n",
      "          'composer of',\n",
      "  'title': 'Sebastian Shaw (actor)'},\n",
      " {'id': '6996541',\n",
      "  'text': 'Matt Lanter Matthew MacKendree Lanter (born April 1, 1983) is an '\n",
      "          'American actor and model. He gained fame by playing Liam Court in '\n",
      "          'The CW\\'s teen drama series \"90210\", a spin-off of the 1990s Fox '\n",
      "          'series \"Beverly Hills, 90210\". He also appeared in some major '\n",
      "          'released films, such as \"\", \"Disaster Movie\", \"\", \"Sorority Row\", '\n",
      "          '\"Vampires Suck\" and \"The Roommate\". He is the voice of Anakin '\n",
      "          'Skywalker in \"\" and \"Star Wars Rebels\". He currently stars as '\n",
      "          'soldier Wyatt Logan, a time traveler, in the NBC series \"Timeless\". '\n",
      "          'In 2004, Lanter was a contestant on Bravo\\'s reality show \"Manhunt: '\n",
      "          'The',\n",
      "  'title': 'Matt Lanter'}]\n",
      "em_pattern : 0110000000000011000000011111111111111111111111111111111111111111111111110000000000000000000000000000\n",
      "question : where does the show the flash take place\n",
      "answers : ['Central City']\n",
      "inference : ['New York City', 'Central City', 'Central City', 'Vancouver, British Columbia, Canada']\n",
      "[{'id': '19745608',\n",
      "  'text': 'The Flash (season 1) The first season of the American television '\n",
      "          'series \"The Flash\" premiered on The CW on October 7, 2014 and '\n",
      "          'concluded on May 19, 2015 after airing 23 episodes. The series is '\n",
      "          'based on the DC Comics character Barry Allen / Flash, a costumed '\n",
      "          'superhero crime-fighter with the power to move at superhuman '\n",
      "          'speeds. It is a spin-off from \"Arrow\", existing in the same '\n",
      "          'fictional universe, and was produced by Berlanti Productions, '\n",
      "          'Warner Bros. Television, and DC Entertainment, with Andrew '\n",
      "          'Kreisberg serving as showrunner. The series follows Allen, '\n",
      "          'portrayed by Grant Gustin, a crime scene investigator who',\n",
      "  'title': 'The Flash (season 1)'},\n",
      " {'id': '18957722',\n",
      "  'text': 'The Flash (1990 TV series) The Flash is a 1990 American television '\n",
      "          'series developed by the writing team of Danny Bilson and Paul De '\n",
      "          'Meo that aired on CBS. It is based on the DC Comics character Barry '\n",
      "          'Allen / Flash, a costumed superhero crime-fighter with the power to '\n",
      "          'move at superhuman speeds. \"The Flash\" starred John Wesley Shipp as '\n",
      "          'Allen, along with Amanda Pays, and Alex Désert. Barry Allen, a '\n",
      "          'forensic scientist working for the Central City police, is struck '\n",
      "          'by lightning and doused in chemicals in his lab. He develops '\n",
      "          'superspeed and creates a superhero identity for himself',\n",
      "  'title': 'The Flash (1990 TV series)'},\n",
      " {'id': '17843391',\n",
      "  'text': 'in the history of The CW, after \"The Vampire Diaries\" in 2009. It '\n",
      "          'has been well received by critics and audiences, and won the '\n",
      "          'People\\'s Choice Award for \"Favorite New TV Drama\" in 2014. The '\n",
      "          'series, together with \"Arrow\", has spun characters out to their own '\n",
      "          'show, \"Legends of Tomorrow\", which premiered on January 21, 2016. '\n",
      "          'On April 2, 2018, The CW renewed the series for a fifth season, '\n",
      "          'which premiered on October 9, 2018. In season one, after witnessing '\n",
      "          \"his mother's supernatural murder, Barry Allen is taken in by \"\n",
      "          'Detective Joe West and his family. Barry becomes a brilliant',\n",
      "  'title': 'The Flash (2014 TV series)'},\n",
      " {'id': '19745609',\n",
      "  'text': 'gains super-human speed, which he uses to fight criminals, '\n",
      "          'including others who have also gained superhuman abilities. Gustin '\n",
      "          'is joined by main cast members Candice Patton, Danielle Panabaker, '\n",
      "          'Rick Cosnett, Carlos Valdes, Tom Cavanagh, and Jesse L. Martin. '\n",
      "          '\"The Flash\" was picked up for a full season by The CW in October '\n",
      "          '2014, and filming took place primarily in Vancouver, British '\n",
      "          'Columbia, Canada. The series premiere was watched by 4.8 million '\n",
      "          \"viewers and had a 1.9 18–49 demographic rating, making it The CW's \"\n",
      "          'most watched and highest rated series premiere since \"The Vampire '\n",
      "          'Diaries\" in 2009. It also became The',\n",
      "  'title': 'The Flash (season 1)'}]\n",
      "em_pattern : 0110000000000111100000000000000000000000000000000000000000000000000000000000000000000000000000000000\n",
      "question : who was the actor that played oliver twist\n",
      "answers : ['Mark Lester']\n",
      "inference : ['Jack Wild', 'Mark Lester', 'Mark Lester', 'Barney Ivan S. Clark']\n",
      "[{'id': '1443546',\n",
      "  'text': 'director and author of \"L\\'Chaim\"), and later by Tony Robinson, '\n",
      "          'Davy Jones, Leonard Whiting, Steve Marriott, and Phil Collins, '\n",
      "          'among others. Elijah Wood also portrayed the character in the 1997 '\n",
      "          'television film that aired as part of The Wonderful World of Disney '\n",
      "          \"on ABC. He was played by Harry Eden in Roman Polanski's big-budget \"\n",
      "          '2005 film version. In the 1968 film \"Oliver!\", Jack Wild played the '\n",
      "          'role and was nominated for an Academy Award for Best Supporting '\n",
      "          'Actor. In the BBC adaptation of \"Oliver Twist\" in 2007, he is '\n",
      "          'played by Adam Arnold. Others to have played the role in',\n",
      "  'title': 'Artful Dodger'},\n",
      " {'id': '4987261',\n",
      "  'text': 'Mark Lester Mark Lester (born Mark A. Letzer; 11 July 1958) is an '\n",
      "          'English former child actor who starred in a number of British and '\n",
      "          'European films in the 1960s and 1970s. In 1968 he played a starring '\n",
      "          'role in the film \"Oliver!\", a musical version of the Charles '\n",
      "          'Dickens\\' novel \"Oliver Twist\". Lester also made several '\n",
      "          'appearances in a number of British television series. In 1977, '\n",
      "          'after appearing in the all-star international action adventure film '\n",
      "          '\"The Prince and the Pauper\", he retired from acting. In the 1980s, '\n",
      "          'he trained as an osteopath specialising in sport injuries. Mark '\n",
      "          'Letzer was',\n",
      "  'title': 'Mark Lester'},\n",
      " {'id': '6796679',\n",
      "  'text': 'by composer and arranger Nick Ingman. In 2004, McManners starred as '\n",
      "          \"Oliver Twist in a local production of the play at Canterbury's \"\n",
      "          'Marlowe Theatre opposite Ron Moody who played Fagin in the 1968 '\n",
      "          'film adaptation of the famous novel. He reprised his role as Oliver '\n",
      "          'Twist two years later in the BBC\\'s \"Celebrate \\'Oliver!\\'\" '\n",
      "          'presented by Shane Ritchie on 26 December 2005, and he appeared in '\n",
      "          'an episode of BBC\\'s \"The Sound of Musicals\" on 4 February 2006 '\n",
      "          '(filmed in 2005). McManners made his feature film acting debut in '\n",
      "          '\"Hot Fuzz\". He played the part of Gabriel who is described',\n",
      "  'title': 'Joseph McManners'},\n",
      " {'id': '6131391',\n",
      "  'text': 'Barney Clark (actor) Barney Ivan S. Clark (born 25 June 1993 in '\n",
      "          'Hackney, London) is an English former actor, best known for his '\n",
      "          'role in the 2005 film, \"Oliver Twist.\" Clark began acting in school '\n",
      "          'plays and appeared in the 2001 film \"Lawless Heart\" when he was '\n",
      "          \"eight. He attended Central Foundation Boys' School in Islington, \"\n",
      "          'London, and was in the yellow form of Year 11. In December 2011, '\n",
      "          'Clark was sentenced to 14 months in prison for violent disorder '\n",
      "          'after a rave he was attending was busted by the police. Later, '\n",
      "          \"Clark's family announced that he will never take\",\n",
      "  'title': 'Barney Clark (actor)'}]\n",
      "em_pattern : 0110000000000000000000000000000000000000000000000000000000000000000000000000000000000000000000000000\n",
      "question : who loads the program from disc to the memory\n",
      "answers : ['loader']\n",
      "inference : ['boot loader', 'loader', 'loader', 'the OS']\n",
      "[{'id': '517279',\n",
      "  'text': 'first executes a relatively small program stored in read-only '\n",
      "          'memory (ROM) along with a small amount of needed data, to access '\n",
      "          'the nonvolatile device or devices from which the operating system '\n",
      "          'programs and data can be loaded into RAM. The small program that '\n",
      "          'starts this sequence is known as a \"bootstrap loader\", \"bootstrap\" '\n",
      "          'or \"boot loader\". This small program\\'s only job is to load other '\n",
      "          'data and programs which are then executed from RAM. Often, '\n",
      "          'multiple-stage boot loaders are used, during which several programs '\n",
      "          'of increasing complexity load one after the other in a process of '\n",
      "          'chain loading. Some computer',\n",
      "  'title': 'Booting'},\n",
      " {'id': '2685278',\n",
      "  'text': 'Loader (computing) In computer systems a loader is the part of an '\n",
      "          'operating system that is responsible for loading programs and '\n",
      "          'libraries. It is one of the essential stages in the process of '\n",
      "          'starting a program, as it places programs into memory and prepares '\n",
      "          'them for execution. Loading a program involves reading the contents '\n",
      "          'of the executable file containing the program instructions into '\n",
      "          'memory, and then carrying out other required preparatory tasks to '\n",
      "          'prepare the executable for running. Once loading is complete, the '\n",
      "          'operating system starts the program by passing control to the '\n",
      "          'loaded program code. All operating systems that',\n",
      "  'title': 'Loader (computing)'},\n",
      " {'id': '8006418',\n",
      "  'text': 'Dumper (computer program) In computer programming, a dumper is a '\n",
      "          'program which copies data from one source (usually a proprietary '\n",
      "          'format) to another (usually in a more easily accessible format). A '\n",
      "          \"dumper is a program that saves data from the computer's memory, \"\n",
      "          'usually from a foreign process (program) to a (*.dmp) file. Often '\n",
      "          \"the process's memory is dumped automatically to disk if the program \"\n",
      "          'crashes. So you may recover any unsaved data from this file or send '\n",
      "          'it to the developer so he can investigate what caused the crash. '\n",
      "          \"Another use of 'dumpers' can be dumping Windows Exe-files from \"\n",
      "          'memory',\n",
      "  'title': 'Dumper (computer program)'},\n",
      " {'id': '16956774',\n",
      "  'text': 'means of distribution can be physical media such as a USB flash '\n",
      "          'drive or a remote download via the Internet. Installation time gets '\n",
      "          \"the distributed program ready for execution on the user's computer, \"\n",
      "          'which often includes storing the executable for future loading by '\n",
      "          \"the OS. Load time is the when the OS takes the program's executable \"\n",
      "          'from storage, such as a hard drive, and places it into active '\n",
      "          'memory, in order to begin execution. Run time is the execution '\n",
      "          \"phase, when the central processing unit executes the program's \"\n",
      "          'machine code instructions. Programs may run indefinitely. If '\n",
      "          'execution terminates it will',\n",
      "  'title': 'Program lifecycle phase'}]\n",
      "em_pattern : 0110000000000000000000000010000000000000000000000000000000000000000000000000000000000000000000000000\n",
      "question : where is uranium found in the united states\n",
      "answers : ['Wyoming', 'Utah', 'Texas', 'Nebraska']\n",
      "inference : ['Kern County', 'Wyoming', 'Wyoming', 'Canada']\n",
      "[{'id': '10323676',\n",
      "  'text': '1954 in the Sierra Nevada of Kern County, along the Kern River '\n",
      "          'about northeast of Bakersfield. Two mines, the Kergon mine and the '\n",
      "          'Miracle mine, made small shipments in 1954 and 1955. Uranium occurs '\n",
      "          'as uraninite and autunite in shear zones in granodiorite. Accessory '\n",
      "          'minerals include fluorite and the molybdenum minerals ilsemanite '\n",
      "          'and jordisite. The first uranium identified in the US was '\n",
      "          'pitchblende from the Wood gold mine at Central City, Colorado in '\n",
      "          '1871. Uranium mining in southwest Colorado goes back to 1898. The '\n",
      "          'Uravan district of Colorado and Utah supplied about half the '\n",
      "          \"world's radium from 1910 to 1922,\",\n",
      "  'title': 'Uranium mining in the United States'},\n",
      " {'id': '10323668',\n",
      "  'text': 'Uranium mining in the United States Uranium mining in the United '\n",
      "          'States produced of UO (1271 tonnes of uranium) in 2015, 32% lower '\n",
      "          \"than 2014's production of of UO (1881 tonnes of uranium) and the \"\n",
      "          'lowest US annual production since 2005. The 2015 production '\n",
      "          'represents 7% of the anticipated uranium market requirements of the '\n",
      "          \"US's nuclear power reactors for the year. Production came from one \"\n",
      "          'conventional uranium mill in Utah, and six in-situ leach '\n",
      "          'operations: four in Wyoming, one in Texas and one in Nebraska. '\n",
      "          'While uranium is used primarily for nuclear power, uranium mining '\n",
      "          'had its roots in the',\n",
      "  'title': 'Uranium mining in the United States'},\n",
      " {'id': '10323703',\n",
      "  'text': 'mining to be pursued. It also was not asked to compare the relative '\n",
      "          'risks of uranium mining to the mining of other fuels such as coal. '\n",
      "          'In October 2015, it went before a federal judge whether the '\n",
      "          '33-year-old ban on large-scale uranium mining in Virginia would be '\n",
      "          'lifted. Uranium was discovered at the Midnite Mine deposit on the '\n",
      "          'Spokane Indian Reservation, Stevens County, north-east Washington '\n",
      "          'in 1954. The deposit was mined from an open pit 1956–1962 and '\n",
      "          '1969–1982. Production through 1975 was 8 million pounds (3,600 '\n",
      "          'metric tons) of UO. The uranium is contained in autunite, '\n",
      "          'uraninite, and coffinite, with',\n",
      "  'title': 'Uranium mining in the United States'},\n",
      " {'id': '10323671',\n",
      "  'text': \"U.S. DOE's Energy Information Administration reported that 90% of \"\n",
      "          'U.S. uranium production in 2006 came from in-situ leaching. The '\n",
      "          'average spot price of uranium oxide (UO) increased from $7.92 per '\n",
      "          'pound in 2001 to $39.48 per pound ($/kg) in 2006. In 2011 the '\n",
      "          'United States mined 9% of the uranium consumed by its nuclear power '\n",
      "          'plants. The remainder was imported, principally from Russia and '\n",
      "          'Kazakhstan (38%), Canada, and Australia. Although uranium '\n",
      "          'production has declined to low levels, the United States has the '\n",
      "          'fourth-largest uranium resource in the world, behind Australia, '\n",
      "          'Canada, and Kazakhstan. United States uranium reserves are strongly '\n",
      "          'dependent',\n",
      "  'title': 'Uranium mining in the United States'}]\n",
      "em_pattern : 0110000000000000000000000000000000000000000000000000000000000000000000000000000000000000000000000000\n",
      "question : who wrote the original you are my sunshine\n",
      "answers : ['Paul Rice', 'Mitchell']\n",
      "inference : ['Davis', 'Paul Rice', 'Paul Rice', 'Charles Mitchell']\n",
      "[{'id': '4753206',\n",
      "  'text': \"prior to Jimmie Davis' version. The first was recorded for Bluebird \"\n",
      "          \"Records (RCA-Victor's budget label) on August 22, 1939, by The Pine \"\n",
      "          'Ridge Boys (Marvin Taylor and Doug Spivey), who were from Atlanta. '\n",
      "          'The second was recorded for Decca Records on September 13, 1939, by '\n",
      "          'The Rice Brothers Gang. This group was originally from north '\n",
      "          'Georgia but relocated to Shreveport, where they were performing on '\n",
      "          'the radio station KWKH. The version by Jimmie Davis was recorded '\n",
      "          'for Decca Records on February 5, 1940. While Davis and Mitchell are '\n",
      "          'the credited songwriters of \"You Are My Sunshine\", Davis was never '\n",
      "          'known',\n",
      "  'title': 'You Are My Sunshine'},\n",
      " {'id': '4753207',\n",
      "  'text': 'to actually claim authorship, as he bought the song and rights from '\n",
      "          'Paul Rice and put his own name on it, a practice not uncommon in '\n",
      "          'the pre-World War II music business. Some early versions of the '\n",
      "          'song credit the Rice Brothers. Descendants and associates of Oliver '\n",
      "          'Hood, a LaGrange, Georgia musician who collaborated with Rice, '\n",
      "          'claim Hood wrote the song in the early 1930s and first performed it '\n",
      "          'in 1933 at a Veterans of Foreign Wars convention at LaGrange, '\n",
      "          'Georgia in 1933. According to some accounts, clarinetist Pud Brown '\n",
      "          \"was also involved with the Rice Brothers for the song's\",\n",
      "  'title': 'You Are My Sunshine'},\n",
      " {'id': '4753205',\n",
      "  'text': 'Wilson, Mouse and the Traps, Gene Vincent, Jamey Johnson, Low, Mose '\n",
      "          'Allison, Bryan Ferry, Carly Simon, Yusuf Islam, Andy Williams, '\n",
      "          'Copeland, Johnny and the Hurricanes, and Barbra Lica (2012), '\n",
      "          'amongst many others. The 1940 version by Davis has been added to '\n",
      "          'the National Recording Registry in the Library of Congress on March '\n",
      "          '21, 2013, for long-term preservation. Virginia Shehee, a long-time '\n",
      "          'Davis family friend and member of the Louisiana State Senate from '\n",
      "          '1976 to 1980, introduced legislation to make \"You Are My Sunshine\" '\n",
      "          'the official state song. Two versions of \"You Are My Sunshine\" were '\n",
      "          'recorded and released in 1939',\n",
      "  'title': 'You Are My Sunshine'},\n",
      " {'id': '4753203',\n",
      "  'text': 'You Are My Sunshine \"You Are My Sunshine\" is a popular song written '\n",
      "          'by Jimmie Davis and Charles Mitchell and first recorded in 1939. It '\n",
      "          'has been declared one of the state songs of Louisiana because of '\n",
      "          'its association with Davis, a country music singer and governor of '\n",
      "          'the state in the years 1944–1948 and 1960–1964. The song has been '\n",
      "          'covered numerous times — so often, in fact, that it is \"one of the '\n",
      "          'most commercially programmed numbers in American popular music.\" '\n",
      "          'The song, originally country music, has \"virtually lost\" its '\n",
      "          'original country music identity, and \"represent[s] both the '\n",
      "          'national',\n",
      "  'title': 'You Are My Sunshine'}]\n"
     ]
    }
   ],
   "source": [
    "cnt_100 = 0\n",
    "cnt = 0\n",
    "for instance in final_output:\n",
    "    if instance['cumulative_em'] == '1' and instance['em_pattern'].endswith('0') and instance['em_pattern'].startswith('0110'):\n",
    "        print(f\"em_pattern : {instance['em_pattern']}\")\n",
    "        print(f\"question : {instance['question']}\")\n",
    "        print(f\"answers : {instance['answers']}\")\n",
    "        print(f\"inference : {instance['inference'][0:4]}\")\n",
    "        pprint(instance['ctxs'][0:4])\n",
    "        cnt += 1\n",
    "    if instance['em_pattern'].endswith('1'):\n",
    "        cnt_100 += 1\n"
   ]
  },
  {
   "cell_type": "code",
   "execution_count": null,
   "id": "94f51449",
   "metadata": {},
   "outputs": [],
   "source": []
  },
  {
   "cell_type": "code",
   "execution_count": null,
   "id": "3f165824",
   "metadata": {},
   "outputs": [],
   "source": []
  },
  {
   "cell_type": "markdown",
   "id": "22eba964",
   "metadata": {},
   "source": [
    "## NQ dev DPR incremetal result "
   ]
  },
  {
   "cell_type": "code",
   "execution_count": null,
   "id": "6fc699ee",
   "metadata": {},
   "outputs": [],
   "source": [
    "def extract_em_pattern(final_output):\n",
    "    em_pattern_lst = []\n",
    "    for instance in final_output:\n",
    "        em_pattern_lst.append(instance['em_pattern'])\n",
    "    return em_pattern_lst"
   ]
  },
  {
   "cell_type": "code",
   "execution_count": null,
   "id": "26017211",
   "metadata": {},
   "outputs": [],
   "source": [
    "em_pattnern_lst = extract_em_pattern(final_output)"
   ]
  },
  {
   "cell_type": "code",
   "execution_count": null,
   "id": "dacf75c1",
   "metadata": {},
   "outputs": [],
   "source": [
    "len(em_pattnern_lst)"
   ]
  },
  {
   "cell_type": "code",
   "execution_count": null,
   "id": "618667d4",
   "metadata": {},
   "outputs": [],
   "source": [
    "def get_accumulated_em(em_pattnern_lst, sample_size):\n",
    "    incre_em = {\n",
    "        'ctx' : [],\n",
    "        'em' : [],   \n",
    "    }\n",
    "    for ctx in range(1, sample_size+1):\n",
    "        incre_em['ctx'].append(ctx)\n",
    "        cnt = 0\n",
    "        for pattern in em_pattnern_lst:\n",
    "            if '1' in pattern[:ctx]:\n",
    "                cnt += 1\n",
    "        incre_em['em'].append(cnt/len(em_pattnern_lst))\n",
    "    return incre_em"
   ]
  },
  {
   "cell_type": "code",
   "execution_count": null,
   "id": "253a2d9c",
   "metadata": {},
   "outputs": [],
   "source": [
    "incre_em = get_accumulated_em(em_pattnern_lst, sample_size)"
   ]
  },
  {
   "cell_type": "markdown",
   "id": "37d46feb",
   "metadata": {},
   "source": [
    "## Plot"
   ]
  },
  {
   "cell_type": "code",
   "execution_count": null,
   "id": "71a05e69",
   "metadata": {},
   "outputs": [],
   "source": [
    "plot_path = './img/NQ_DEV_DPR_AcEM_EM_100.png'\n",
    "title = 'FiD result on NQ DEV DPR'"
   ]
  },
  {
   "cell_type": "code",
   "execution_count": null,
   "id": "a059f886",
   "metadata": {},
   "outputs": [],
   "source": [
    "df_normal = pd.DataFrame(data=dict_eval)\n",
    "# print(dict_eval)"
   ]
  },
  {
   "cell_type": "code",
   "execution_count": null,
   "id": "253a62f3",
   "metadata": {},
   "outputs": [],
   "source": [
    "df_incre = pd.DataFrame(data=incre_em)\n",
    "# print(dict_eval)"
   ]
  },
  {
   "cell_type": "code",
   "execution_count": null,
   "id": "1e9aa1c0",
   "metadata": {},
   "outputs": [],
   "source": [
    "# df_incre"
   ]
  },
  {
   "cell_type": "code",
   "execution_count": null,
   "id": "f6cbb8ad",
   "metadata": {},
   "outputs": [],
   "source": [
    "# pos_set = set(df['pos'])"
   ]
  },
  {
   "cell_type": "code",
   "execution_count": null,
   "id": "befb60c1",
   "metadata": {},
   "outputs": [],
   "source": [
    "# from cycler import cycler\n",
    "# # marker='*',\n",
    "# # default_cycler = (cycler(markers=['1', '2', '3' ,'4','8']))\n",
    "# # c = plt.cycler(color=[\"Blue\", \"Orange\", \"Green\",'Red','Purple'],\n",
    "# #                markersize=[10, 10, 10, 10, 10],\n",
    "# #                marker=[\"o\", \"s\", \"^\", '1', '3'])\n",
    "# # plt.rcParams[\"axes.prop_cycle\"] = c\n",
    "\n",
    "# # plt.rc('axes', prop_cycle=default_cycler)"
   ]
  },
  {
   "cell_type": "code",
   "execution_count": null,
   "id": "042c42c1",
   "metadata": {
    "scrolled": false
   },
   "outputs": [],
   "source": [
    "# df"
   ]
  },
  {
   "cell_type": "code",
   "execution_count": null,
   "id": "0e028ce3",
   "metadata": {},
   "outputs": [],
   "source": [
    "# selected_data = df.loc[df['pos'] == pos]"
   ]
  },
  {
   "cell_type": "code",
   "execution_count": null,
   "id": "38b317c4",
   "metadata": {},
   "outputs": [],
   "source": [
    "# selected_data"
   ]
  },
  {
   "cell_type": "code",
   "execution_count": null,
   "id": "aeb0b2b0",
   "metadata": {
    "scrolled": false
   },
   "outputs": [],
   "source": [
    "fig, ax = plt.subplots(1, 1, figsize=(4, 4))\n",
    "# ax.plot(df['ctx'], selected_data['em'], label=pos, alpha = 0.5, linewidth=5)\n",
    "ax.plot(df_normal['ctx'],df_normal['em'], label='dpr eval', alpha = 0.3, linewidth=5, color = 'blue', marker = \"o\")    \n",
    "ax.plot(df_incre['ctx'],df_incre['em'], label='dpr acc eval', alpha = 0.3, linewidth=5, color = 'red', marker = \"*\")\n",
    "# ax.set_title('FiD result on BM25 hard negative nq dev subsets')\n",
    "ax.set_title(title)\n",
    "ax.legend(title='Normal vs Accumulated', fontsize = 'x-small')\n",
    "plt.ylabel('EM')\n",
    "plt.xlabel('Number of Context')\n",
    "# plt.savefig(plot_path, dpi=300)\n",
    "plt.show()"
   ]
  },
  {
   "cell_type": "code",
   "execution_count": null,
   "id": "6b048039",
   "metadata": {},
   "outputs": [],
   "source": []
  }
 ],
 "metadata": {
  "kernelspec": {
   "display_name": "relevance-kilt",
   "language": "python",
   "name": "relevance-kilt"
  },
  "language_info": {
   "codemirror_mode": {
    "name": "ipython",
    "version": 3
   },
   "file_extension": ".py",
   "mimetype": "text/x-python",
   "name": "python",
   "nbconvert_exporter": "python",
   "pygments_lexer": "ipython3",
   "version": "3.8.13"
  }
 },
 "nbformat": 4,
 "nbformat_minor": 5
}
