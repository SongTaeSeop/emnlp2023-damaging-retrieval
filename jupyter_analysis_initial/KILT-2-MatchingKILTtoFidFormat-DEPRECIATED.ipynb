{
 "cells": [
  {
   "cell_type": "markdown",
   "id": "e86601ea",
   "metadata": {},
   "source": [
    "# Matching KILT to Fid Format - DEPRECIATED"
   ]
  },
  {
   "cell_type": "markdown",
   "id": "c49f712c",
   "metadata": {},
   "source": [
    "- Converting KILT nq dpr to FiD Data format"
   ]
  },
  {
   "cell_type": "code",
   "execution_count": 1,
   "id": "e716e448",
   "metadata": {},
   "outputs": [],
   "source": [
    "# FiD_nq_dpr \n",
    "# /data/philhoon-relevance/FiD/open_domain_data/NQ\n",
    "# /data/philhoon-relevance/FiD/open_domain_data/NQ/train.json\n",
    "# /data/philhoon-relevance/FiD/open_domain_data/NQ/dev.json\n",
    "# /data/philhoon-relevance/FiD/open_domain_data/NQ/test.json\n",
    "\n",
    "# kilt_nq_dpr\n",
    "# /data/philhoon-relevance/KILT/kilt-dpr-retrieval/nq-train-multikilt.json\n",
    "# /data/philhoon-relevance/KILT/kilt-dpr-retrieval/nq-dev-multikilt.json"
   ]
  },
  {
   "cell_type": "code",
   "execution_count": 3,
   "id": "45799c7c",
   "metadata": {},
   "outputs": [],
   "source": [
    "import json\n",
    "from pprint import pprint\n",
    "import torch\n",
    "import numpy as np\n",
    "import random\n",
    "from copy import deepcopy"
   ]
  },
  {
   "cell_type": "code",
   "execution_count": 4,
   "id": "4f6ecb4a",
   "metadata": {},
   "outputs": [],
   "source": [
    "def open_json(file):\n",
    "    with open(file , 'r') as f: \n",
    "        data = json.load(f)\n",
    "    return data"
   ]
  },
  {
   "cell_type": "markdown",
   "id": "eddb0771",
   "metadata": {},
   "source": [
    "## FiD NQ dpr"
   ]
  },
  {
   "cell_type": "code",
   "execution_count": 3,
   "id": "016f8147",
   "metadata": {},
   "outputs": [],
   "source": [
    "fid_nq_train_file = '/data/philhoon-relevance/FiD/open_domain_data/NQ/train.json'\n",
    "fid_nq_dev_file = '/data/philhoon-relevance/FiD/open_domain_data/NQ/dev.json'"
   ]
  },
  {
   "cell_type": "code",
   "execution_count": 4,
   "id": "91856559",
   "metadata": {},
   "outputs": [],
   "source": [
    "fid_nq_dpr_dev = open_json(fid_nq_dev_file)\n",
    "# fid_nq_dpr_train = open_json(fid_nq_train_file)"
   ]
  },
  {
   "cell_type": "code",
   "execution_count": 5,
   "id": "d98b5e68",
   "metadata": {},
   "outputs": [
    {
     "data": {
      "text/plain": [
       "8757"
      ]
     },
     "execution_count": 5,
     "metadata": {},
     "output_type": "execute_result"
    }
   ],
   "source": [
    "len(fid_nq_dpr_dev)"
   ]
  },
  {
   "cell_type": "code",
   "execution_count": 6,
   "id": "6e859eda",
   "metadata": {},
   "outputs": [
    {
     "data": {
      "text/plain": [
       "dict_keys(['question', 'answers', 'ctxs'])"
      ]
     },
     "execution_count": 6,
     "metadata": {},
     "output_type": "execute_result"
    }
   ],
   "source": [
    "fid_nq_dpr_dev[-1].keys()"
   ]
  },
  {
   "cell_type": "code",
   "execution_count": 7,
   "id": "0070c441",
   "metadata": {},
   "outputs": [],
   "source": [
    "# fid_nq_train_file[0].keys()"
   ]
  },
  {
   "cell_type": "code",
   "execution_count": 8,
   "id": "85f0c8ba",
   "metadata": {
    "scrolled": false
   },
   "outputs": [],
   "source": [
    "# pprint(fid_nq_train_file[0])"
   ]
  },
  {
   "cell_type": "markdown",
   "id": "9fbfd992",
   "metadata": {},
   "source": [
    "### Optional keys\n",
    "- id : optional\n",
    "- target : optional \n",
    "- answer used for model training, \n",
    "- if not given, the target is randomly sampled from the 'answers' list\n",
    "\n",
    "### Required keys\n",
    "- question - question text\n",
    "- ansswers - list of answers for evalutaion\n",
    "- ctx - a list of passages where each item is a dictionary contraining \n",
    "     - title : article title \n",
    "     - text : text"
   ]
  },
  {
   "cell_type": "markdown",
   "id": "be61d8fc",
   "metadata": {},
   "source": [
    "# FiD format setting "
   ]
  },
  {
   "cell_type": "markdown",
   "id": "88c47621",
   "metadata": {},
   "source": [
    "```\n",
    "{\n",
    "  'question': 'What element did Marie Curie name after her native land?',\n",
    "  'answers': ['Polonium', 'Po (chemical element)', 'Po'],\n",
    "  'ctxs': [\n",
    "            {\n",
    "                \"title\": \"Marie Curie\",\n",
    "                \"text\": \"them on visits to Poland. She named the first chemical element that she discovered in 1898 \\\"polonium\\\", after her native country. Marie Curie died in 1934, aged 66, at a sanatorium in Sancellemoz (Haute-Savoie), France, of aplastic anemia from exposure to radiation in the course of her scientific research and in the course of her radiological work at field hospitals during World War I. Maria Sk\\u0142odowska was born in Warsaw, in Congress Poland in the Russian Empire, on 7 November 1867, the fifth and youngest child of well-known teachers Bronis\\u0142awa, \\\"n\\u00e9e\\\" Boguska, and W\\u0142adys\\u0142aw Sk\\u0142odowski. The elder siblings of Maria\"\n",
    "            },\n",
    "            {\n",
    "                \"title\": \"Marie Curie\",\n",
    "                \"text\": \"was present in such minute quantities that they would eventually have to process tons of the ore. In July 1898, Curie and her husband published a joint paper announcing the existence of an element which they named \\\"polonium\\\", in honour of her native Poland, which would for another twenty years remain partitioned among three empires (Russian, Austrian, and Prussian). On 26 December 1898, the Curies announced the existence of a second element, which they named \\\"radium\\\", from the Latin word for \\\"ray\\\". In the course of their research, they also coined the word \\\"radioactivity\\\". To prove their discoveries beyond any\"\n",
    "            }\n",
    "    ]\n",
    "}\n",
    "\n",
    "```"
   ]
  },
  {
   "cell_type": "markdown",
   "id": "9ebc60aa",
   "metadata": {},
   "source": [
    "## KILT NQ dpr"
   ]
  },
  {
   "cell_type": "code",
   "execution_count": 8,
   "id": "e5effa30",
   "metadata": {},
   "outputs": [],
   "source": [
    "# kilt_nq_dev_file = '/data/philhoon-relevance/KILT/kilt-dpr-retrieval/nq-dev-multikilt.json'\n",
    "kilt_nq_train_file = '/data/philhoon-relevance/KILT/kilt-dpr-retrieval/nq-train-multikilt.json'\n",
    "# kilt_nq_dpr_dev = open_json(kilt_nq_dev_file)\n",
    "kilt_nq_train = open_json(kilt_nq_train_file)"
   ]
  },
  {
   "cell_type": "markdown",
   "id": "638e4662",
   "metadata": {},
   "source": [
    "#### KILT NQ Adversarial Negative"
   ]
  },
  {
   "cell_type": "code",
   "execution_count": 9,
   "id": "4a465a9a",
   "metadata": {},
   "outputs": [],
   "source": [
    "kilt_nq_train_ad_file = '/data/philhoon-relevance/KILT/kilt-dpr-ad-retrieval/nq-train-adv.json'"
   ]
  },
  {
   "cell_type": "code",
   "execution_count": 10,
   "id": "c88070bd",
   "metadata": {},
   "outputs": [],
   "source": [
    "kilt_nq_train_ad = open_json(kilt_nq_train_ad_file)"
   ]
  },
  {
   "cell_type": "code",
   "execution_count": 14,
   "id": "89866688",
   "metadata": {
    "scrolled": false
   },
   "outputs": [
    {
     "name": "stdout",
     "output_type": "stream",
     "text": [
      "{'answers': ['Tracy McConnell'],\n",
      " 'hard_negative_ctxs': [{'psg_id': 2849184,\n",
      "                         'text': 'Pilot (How I Met Your Mother)\\n'\n",
      "                                 '\"Pilot\" is the pilot episode of American '\n",
      "                                 'television sitcom \"How I Met Your Mother\", '\n",
      "                                 'which premiered on CBS on September 19, '\n",
      "                                 '2005. It was written by series creators '\n",
      "                                 'Carter Bays and Craig Thomas, and directed '\n",
      "                                 'by Pamela Fryman The pilot takes place in '\n",
      "                                 '2030, as a future Ted Mosby (Voiced by Bob '\n",
      "                                 'Saget) is telling his kids the story of how '\n",
      "                                 'he met their mother. It flashes back to 2005 '\n",
      "                                 'to a younger Ted (Josh Radnor) who',\n",
      "                         'title': 'Pilot (How I Met Your Mother)'},\n",
      "                        {'psg_id': 23926370,\n",
      "                         'text': 'Rally (How I Met Your Mother)\\n'\n",
      "                                 '\"Rally\" is the eighteenth episode of the '\n",
      "                                 'ninth season of the CBS sitcom \"How I Met '\n",
      "                                 'Your Mother\", and the 202nd episode '\n",
      "                                 'overall.\\n'\n",
      "                                 'Plot.\\n'\n",
      "                                 'In the future, Ted and The Mother are in the '\n",
      "                                 \"back of a limo on their way to a New Year's \"\n",
      "                                 'Eve party. Ted pops open some champagne to '\n",
      "                                 'toast to a great year with his wife, who has '\n",
      "                                 'just released a new book. The Mother warns '\n",
      "                                 'Ted to go easy on the',\n",
      "                         'title': 'Rally (How I Met Your Mother)'},\n",
      "                        {'psg_id': 7838492,\n",
      "                         'text': 'Craig Thomas (screenwriter)\\n'\n",
      "                                 'Craig David Thomas is an American television '\n",
      "                                 'writer who, along with writing partner '\n",
      "                                 'Carter Bays, has written episodes of '\n",
      "                                 '\"American Dad!\", \"Oliver Beene\", '\n",
      "                                 '\"Quintuplets\" and the hit CBS sitcom \"How I '\n",
      "                                 'Met Your Mother\", which they created in '\n",
      "                                 '2005. In 2012 \"How I Met Your Mother\" won '\n",
      "                                 \"Best Comedy at the People's Choice Awards.\\n\"\n",
      "                                 'Along with Carter Bays he is a member of The '\n",
      "                                 'Solids, who perform the theme song to \"How',\n",
      "                         'title': 'Craig Thomas (screenwriter)'},\n",
      "                        {'psg_id': 7039424,\n",
      "                         'text': 'Happily Ever After (How I Met Your Mother)\\n'\n",
      "                                 '\"Happily Ever After\" is the sixth episode in '\n",
      "                                 'the fourth season of the television series '\n",
      "                                 '\"How I Met Your Mother\" and 70th overall. It '\n",
      "                                 'originally aired on November 3, 2008.\\n'\n",
      "                                 'Plot.\\n'\n",
      "                                 'The day after Stella ran out on their '\n",
      "                                 'wedding, Ted is unusually happy. His friends '\n",
      "                                 '(other than Barney, who is just happy Ted '\n",
      "                                 \"isn't married) are worried about him, \"\n",
      "                                 'thinking that he is repressing his emotions. '\n",
      "                                 'Over the course of',\n",
      "                         'title': 'Happily Ever After (How I Met Your Mother)'},\n",
      "                        {'psg_id': 7728326,\n",
      "                         'text': 'Hopeless (How I Met Your Mother)\\n'\n",
      "                                 '\"Hopeless\" is the 21st episode of the sixth '\n",
      "                                 'season of the CBS sitcom \"How I Met Your '\n",
      "                                 'Mother\" and the 133rd episode overall. It '\n",
      "                                 'aired on April 18, 2011.\\n'\n",
      "                                 'Plot.\\n'\n",
      "                                 'The episode starts with Barney and his '\n",
      "                                 'father, Jerry, parting in 1983. Back in the '\n",
      "                                 \"present, Barney is disappointed in Jerry's \"\n",
      "                                 'normal suburban lifestyle, and decides not '\n",
      "                                 'to pursue any further contact. However, '\n",
      "                                 'Barney is surprised by a call from Jerry, '\n",
      "                                 'who',\n",
      "                         'title': 'Hopeless (How I Met Your Mother)'}],\n",
      " 'positive_ctxs': [{'psg_id': 31511862,\n",
      "                    'text': 'The Mother (How I Met Your Mother)\\n'\n",
      "                            'Tracy McConnell (1984-2024) (colloquial: \"The '\n",
      "                            'Mother\") is the title character from the CBS '\n",
      "                            'television sitcom \"How I Met Your Mother\". The '\n",
      "                            'show, narrated by Future Ted (Bob Saget), tells '\n",
      "                            'the story of how Ted Mosby (Josh Radnor) met The '\n",
      "                            'Mother. Tracy McConnell appears in eight '\n",
      "                            'episodes, from \"Lucky Penny\" to \"The Time '\n",
      "                            'Travelers\", as an unseen character; she was first '\n",
      "                            'seen fully in \"',\n",
      "                    'title': 'The Mother (How I Met Your Mother)'},\n",
      "                   {'psg_id': 31511863,\n",
      "                    'text': 'Something New\" and was promoted to a main '\n",
      "                            'character in season 9. The Mother is played by '\n",
      "                            'Cristin Milioti.\\n'\n",
      "                            'The story of how Ted met The Mother is the '\n",
      "                            'framing device behind the series; many facts '\n",
      "                            'about her are revealed throughout the series, '\n",
      "                            'including the fact that Ted once unwittingly '\n",
      "                            'owned her umbrella before accidentally leaving it '\n",
      "                            'behind in her apartment. Ted and The Mother meet '\n",
      "                            'at the Farhampton train station following Barney '\n",
      "                            'Stinson (Neil Patrick Harris) and Robin '\n",
      "                            \"Scherbatsky's (Cobie Smulders) wedding; this \"\n",
      "                            'scene is shown',\n",
      "                    'title': 'The Mother (How I Met Your Mother)'}],\n",
      " 'question': 'how i.met your mother who is the mother'}\n"
     ]
    }
   ],
   "source": [
    "pprint(kilt_nq_train[0])"
   ]
  },
  {
   "cell_type": "code",
   "execution_count": 15,
   "id": "3fa3b10a",
   "metadata": {
    "scrolled": false
   },
   "outputs": [
    {
     "name": "stdout",
     "output_type": "stream",
     "text": [
      "{'answers': ['Tracy McConnell'],\n",
      " 'hard_negative_ctxs': [{'has_answer': False,\n",
      "                         'id': '31511865',\n",
      "                         'score': '88.21359',\n",
      "                         'text': 'show. Many fans expected that another would '\n",
      "                                 'play one of the most-wanted roles in '\n",
      "                                 'Hollywood, but creators Carter Bays and '\n",
      "                                 'Craig Thomas wanted an unknown. Using Anne '\n",
      "                                 'Hathaway and Amy Adams as examples, Thomas '\n",
      "                                 'said that \"We didn\\'t want it to be a big '\n",
      "                                 \"famous star because we didn't want the wider \"\n",
      "                                 'audience to have associations with whatever '\n",
      "                                 'actress this would be ... The whole idea is '\n",
      "                                 \"that Ted's never seen this woman before, so \"\n",
      "                                 'it better feel that way to the audience\", '\n",
      "                                 'similar to how Cobie',\n",
      "                         'title': 'The Mother (How I Met Your Mother)'},\n",
      "                        {'has_answer': False,\n",
      "                         'id': '31511863',\n",
      "                         'score': '86.58719',\n",
      "                         'text': 'Something New\" and was promoted to a main '\n",
      "                                 'character in season 9. The Mother is played '\n",
      "                                 'by Cristin Milioti. The story of how Ted met '\n",
      "                                 'The Mother is the framing device behind the '\n",
      "                                 'series; many facts about her are revealed '\n",
      "                                 'throughout the series, including the fact '\n",
      "                                 'that Ted once unwittingly owned her umbrella '\n",
      "                                 'before accidentally leaving it behind in her '\n",
      "                                 'apartment. Ted and The Mother meet at the '\n",
      "                                 'Farhampton train station following Barney '\n",
      "                                 'Stinson (Neil Patrick Harris) and Robin '\n",
      "                                 \"Scherbatsky's (Cobie Smulders) wedding; this \"\n",
      "                                 'scene is shown',\n",
      "                         'title': 'The Mother (How I Met Your Mother)'},\n",
      "                        {'has_answer': False,\n",
      "                         'id': '31511886',\n",
      "                         'score': '86.217476',\n",
      "                         'text': '\"\"HIMYM\" was a victim of its own success on '\n",
      "                                 'this issue\". A petition was started, aiming '\n",
      "                                 'to rewrite and reshoot the finale. The '\n",
      "                                 'petition has over 20,000 signatures and '\n",
      "                                 'considerable online news coverage. On April '\n",
      "                                 '5, 2014, Carter Bays announced on Twitter '\n",
      "                                 'that an alternate ending would be included '\n",
      "                                 'on the Season 9 DVD. No new material was '\n",
      "                                 'shot for this scene. In the alternate '\n",
      "                                 'ending, The Mother is still living when Ted '\n",
      "                                 'is telling the story in 2030. Future Ted is '\n",
      "                                 'heard saying,',\n",
      "                         'title': 'The Mother (How I Met Your Mother)'},\n",
      "                        {'has_answer': False,\n",
      "                         'id': '31511867',\n",
      "                         'score': '86.18026',\n",
      "                         'text': 'the show during the summer. Character '\n",
      "                                 'history. The Mother was born on September '\n",
      "                                 '19, 1984. The Mother, joined by her roommate '\n",
      "                                 \"Kelly (Ahna O'Reilly), awaits the arrival of \"\n",
      "                                 'her boyfriend Max, only to receive a call '\n",
      "                                 'informing her of his death. After the '\n",
      "                                 'funeral service, she returns to the '\n",
      "                                 \"apartment to open Max's last gift to her — a \"\n",
      "                                 'ukulele. The Mother spends the next few '\n",
      "                                 'years grieving the passing of the man she '\n",
      "                                 'believes was her one true love. In \"',\n",
      "                         'title': 'The Mother (How I Met Your Mother)'},\n",
      "                        {'has_answer': False,\n",
      "                         'id': '31511881',\n",
      "                         'score': '85.925995',\n",
      "                         'text': 'at her New York City apartment and they '\n",
      "                                 'proceed to walk to a Scottish-Mexican fusion '\n",
      "                                 'restaurant for dinner. On the way there, Ted '\n",
      "                                 'is telling her a story when they nearly have '\n",
      "                                 'a run-in with Louis. She says that she is in '\n",
      "                                 'the \"weirdest place on earth\" right now and '\n",
      "                                 'that it is too soon for her to be dating. '\n",
      "                                 'Ted walks her back to her apartment. They '\n",
      "                                 'say goodnight and Ted begins to walk away. '\n",
      "                                 'The Mother then stops him and asks him to '\n",
      "                                 'finish the story',\n",
      "                         'title': 'The Mother (How I Met Your Mother)'}],\n",
      " 'negative_ctxs': [],\n",
      " 'positive_ctxs': [{'psg_id': 31511862,\n",
      "                    'text': 'The Mother (How I Met Your Mother)\\n'\n",
      "                            'Tracy McConnell (1984-2024) (colloquial: \"The '\n",
      "                            'Mother\") is the title character from the CBS '\n",
      "                            'television sitcom \"How I Met Your Mother\". The '\n",
      "                            'show, narrated by Future Ted (Bob Saget), tells '\n",
      "                            'the story of how Ted Mosby (Josh Radnor) met The '\n",
      "                            'Mother. Tracy McConnell appears in eight '\n",
      "                            'episodes, from \"Lucky Penny\" to \"The Time '\n",
      "                            'Travelers\", as an unseen character; she was first '\n",
      "                            'seen fully in \"',\n",
      "                    'title': 'The Mother (How I Met Your Mother)'},\n",
      "                   {'has_answer': True,\n",
      "                    'id': '31511862',\n",
      "                    'score': '84.7319',\n",
      "                    'text': 'The Mother (How I Met Your Mother) Tracy '\n",
      "                            'McConnell (1984-2024) (colloquial: \"The Mother\") '\n",
      "                            'is the title character from the CBS television '\n",
      "                            'sitcom \"How I Met Your Mother\". The show, '\n",
      "                            'narrated by Future Ted (Bob Saget), tells the '\n",
      "                            'story of how Ted Mosby (Josh Radnor) met The '\n",
      "                            'Mother. Tracy McConnell appears in eight '\n",
      "                            'episodes, from \"Lucky Penny\" to \"The Time '\n",
      "                            'Travelers\", as an unseen character; she was first '\n",
      "                            'seen fully in \"',\n",
      "                    'title': 'The Mother (How I Met Your Mother)'},\n",
      "                   {'has_answer': True,\n",
      "                    'id': '25401098',\n",
      "                    'score': '83.63254',\n",
      "                    'text': 'and can be manipulative at times. She marries '\n",
      "                            'Marshall in season 2 and gives birth to Marvin in '\n",
      "                            'season 7. Though appearing sweet and cute, Lily '\n",
      "                            \"can be quite unexpectedly fierce. Lily Aldrin's \"\n",
      "                            'best girl friend is Robin Scherbatsky, who she '\n",
      "                            \"met through Ted as he dated Robin. Hannigan's \"\n",
      "                            'husband Alexis Denisof appeared in ten episodes '\n",
      "                            'as Sandy Rivers. - Cristin Milioti as Tracy '\n",
      "                            'McConnell (), (although only appearing '\n",
      "                            'occasionally, 28 episodes out of 208, she plays '\n",
      "                            'an integral part in the show in the',\n",
      "                    'title': 'How I Met Your Mother'}],\n",
      " 'question': 'how i.met your mother who is the mother?'}\n"
     ]
    }
   ],
   "source": [
    "pprint(kilt_nq_train_ad[0])"
   ]
  },
  {
   "cell_type": "code",
   "execution_count": null,
   "id": "f14ae877",
   "metadata": {},
   "outputs": [],
   "source": []
  },
  {
   "cell_type": "code",
   "execution_count": null,
   "id": "e28f438e",
   "metadata": {},
   "outputs": [],
   "source": []
  },
  {
   "cell_type": "code",
   "execution_count": 10,
   "id": "48f4abdd",
   "metadata": {},
   "outputs": [
    {
     "data": {
      "text/plain": [
       "2837"
      ]
     },
     "execution_count": 10,
     "metadata": {},
     "output_type": "execute_result"
    }
   ],
   "source": [
    "len(kilt_nq_dpr_dev)"
   ]
  },
  {
   "cell_type": "code",
   "execution_count": 11,
   "id": "2e14d70f",
   "metadata": {},
   "outputs": [
    {
     "name": "stdout",
     "output_type": "stream",
     "text": [
      "dict_keys(['question', 'answers', 'positive_ctxs', 'hard_negative_ctxs'])\n"
     ]
    }
   ],
   "source": [
    "pprint(kilt_nq_dpr_dev[0].keys())"
   ]
  },
  {
   "cell_type": "code",
   "execution_count": 13,
   "id": "c09d4484",
   "metadata": {
    "scrolled": false
   },
   "outputs": [
    {
     "name": "stdout",
     "output_type": "stream",
     "text": [
      "{'answers': ['the therefore sign',\n",
      "             'therefore sign',\n",
      "             'the therefore sign ( ∴ ) is generally used before a logical '\n",
      "             'consequence , such as the conclusion of a syllogism',\n",
      "             'a logical consequence , such as the conclusion of a syllogism'],\n",
      " 'hard_negative_ctxs': [{'psg_id': 8725785,\n",
      "                         'text': 'difficult, having these pre-assessments done '\n",
      "                                 'will help you spend more time teaching '\n",
      "                                 \"students what they don't know and just \"\n",
      "                                 'refreshing them on what they do already do '\n",
      "                                 'know. For example, if you are going to be '\n",
      "                                 'starting a new unit in math, how to add and '\n",
      "                                 'subtract. Just by asking the students \"What '\n",
      "                                 'does addition mean?\", \"What does subtraction '\n",
      "                                 'mean\" and, \"Do they relate to each other?\", '\n",
      "                                 'the teacher would be able to know that the '\n",
      "                                 'students had a good basic',\n",
      "                         'title': 'Pre-assessment'},\n",
      "                        {'psg_id': 31333436,\n",
      "                         'text': ', 3(2):2200, 2008.\\n'\n",
      "                                 '- Misha Gromov. \"Topological invariants of '\n",
      "                                 'dynamical systems and spaces of holomorphic '\n",
      "                                 'maps\". I. Math. Phys. Anal. Geom., '\n",
      "                                 '2(4):323–415, 1999.\\n'\n",
      "                                 '- Elon Lindenstrauss and Benjamin Weiss. '\n",
      "                                 '\"Mean topological dimension\". Israel J. '\n",
      "                                 'Math., 115:1–24, 2000.\\n'\n",
      "                                 'External links.\\n'\n",
      "                                 'What is Mean Dimension?',\n",
      "                         'title': 'Mean dimension'},\n",
      "                        {'psg_id': 8165202,\n",
      "                         'text': '1. \"Introduction (Mel Lewis & Alan Grant)\" – '\n",
      "                                 '1:50\\n'\n",
      "                                 '2. \"Big Dipper\" – 5:10\\n'\n",
      "                                 '3. \"Polka Dots and Moonbeams\" (Van Heusen, '\n",
      "                                 'Burke) – 3:47\\n'\n",
      "                                 '4. \"Once Around\" – 12:37\\n'\n",
      "                                 '5. \"All My Yesterdays\" – 4:08\\n'\n",
      "                                 '6. \"Morning Reverend\" – 4:50\\n'\n",
      "                                 '7. \"Low Down\" – 4:25\\n'\n",
      "                                 '8. \"Lover Man\" (Davis, Ramirez, Sherman) – '\n",
      "                                 '5:08\\n'\n",
      "                                 '9. \"Mean What',\n",
      "                         'title': 'Opening Night (album)'},\n",
      "                        {'psg_id': 17277589,\n",
      "                         'text': '4:38\\n'\n",
      "                                 '2. \"Lover Man (Oh Where Can You Be?)\" '\n",
      "                                 '(Davis, Ramirez, Sherman) – 5:25\\n'\n",
      "                                 '3. \"Ah, That\\'s Freedom\" – 10:08\\n'\n",
      "                                 '4. \"Don\\'t Ever Leave Me\" – 4:28\\n'\n",
      "                                 '5. \"Willow Weep for Me\" (Ronell) – 6:15\\n'\n",
      "                                 '6. \"Mean What You Say\" – 5:51\\n'\n",
      "                                 '7. \"Once Around\" – 12:45\\n'\n",
      "                                 '8. \"Polka Dots and Moonbeams\" (Van Heusen, '\n",
      "                                 'Burke) – 4:02',\n",
      "                         'title': 'All My Yesterdays'},\n",
      "                        {'psg_id': 27859313,\n",
      "                         'text': 'Track listings appear in a slightly '\n",
      "                                 'different order on the reissued version as '\n",
      "                                 'well.\\n'\n",
      "                                 'Singles from this album include \"My Girl\", '\n",
      "                                 'and \"Do You Know What I Mean\" (with '\n",
      "                                 'background vocals provided by Lee Aaron).\\n'\n",
      "                                 'Track listing.\\n'\n",
      "                                 'Track listing Original release.\\n'\n",
      "                                 '1. \"Veil of Tears\" – 4:23\\n'\n",
      "                                 '2. \"Do You Know What I Mean\" – 3:45\\n'\n",
      "                                 '3. \"Caviar\" – 4:34\\n'\n",
      "                                 '4. \"Sonya\" – 5:10\\n'\n",
      "                                 '5. \"Head On\"',\n",
      "                         'title': 'Myles Goodwyn (album)'}],\n",
      " 'positive_ctxs': [{'psg_id': 3894652,\n",
      "                    'text': 'Therefore sign\\n'\n",
      "                            'In logical argument and mathematical proof, the '\n",
      "                            'therefore sign (∴) is generally used before a '\n",
      "                            'logical consequence, such as the conclusion of a '\n",
      "                            'syllogism. The symbol consists of three dots '\n",
      "                            'placed in an upright triangle and is read '\n",
      "                            '\"therefore\". It is encoded at . While it is not '\n",
      "                            'generally used in formal writing, it is used in '\n",
      "                            'mathematics and shorthand. It is complementary to '\n",
      "                            '.\\n'\n",
      "                            'History.\\n'\n",
      "                            'According to Cajori, \"A History of Mathematical '\n",
      "                            'Notations,\" Johann Rahn used both the \"',\n",
      "                    'title': 'Therefore sign'}],\n",
      " 'question': 'what do the 3 dots mean in math'}\n"
     ]
    }
   ],
   "source": [
    "pprint(kilt_nq_dpr_dev[0])"
   ]
  },
  {
   "cell_type": "code",
   "execution_count": 14,
   "id": "744da031",
   "metadata": {},
   "outputs": [],
   "source": [
    "def seed_everything(seed):\n",
    "    torch.manual_seed(seed)\n",
    "    torch.cuda.manual_seed(seed)\n",
    "    torch.cuda.manual_seed_all(seed)  # if use multi-GPU\n",
    "    torch.backends.cudnn.deterministic = True\n",
    "    torch.backends.cudnn.benchmark = False\n",
    "    np.random.seed(seed)\n",
    "    random.seed(seed)"
   ]
  },
  {
   "cell_type": "code",
   "execution_count": 15,
   "id": "62fd9565",
   "metadata": {},
   "outputs": [],
   "source": [
    "seed = 42"
   ]
  },
  {
   "cell_type": "code",
   "execution_count": 16,
   "id": "54fe1bda",
   "metadata": {},
   "outputs": [],
   "source": [
    "seed_everything(seed)"
   ]
  },
  {
   "cell_type": "code",
   "execution_count": 17,
   "id": "b6b0ba23",
   "metadata": {},
   "outputs": [],
   "source": [
    "# json_file = kilt_nq_dpr_dev\n",
    "\n",
    "# cut_off = 0\n",
    "# cut_off_pos = 0\n",
    "# instances = []\n",
    "# sample_size = 5\n",
    "# position = 1\n",
    "# total_questions = len(json_file) \n",
    "# ids = 1"
   ]
  },
  {
   "cell_type": "code",
   "execution_count": 18,
   "id": "c53d7412",
   "metadata": {
    "scrolled": false
   },
   "outputs": [],
   "source": [
    "def convert_foramt(json_file, sample_size:int, position:int):\n",
    "    \"\"\"\n",
    "    Convert KILT retrieval foramt to FiD retrieval format\n",
    "    Output format\n",
    "    {\n",
    "      'question': text,\n",
    "      'answers': answer_lst,\n",
    "      'ctxs': [\n",
    "                {\n",
    "                    \"title\": \"Marie Curie\",\n",
    "                    \"text\": \"them on visits to Poland. She named the first chemical element that she discovered in 1898 \\\"polonium\\\", after her native country. Marie Curie died in 1934, aged 66, at a sanatorium in Sancellemoz (Haute-Savoie), France, of aplastic anemia from exposure to radiation in the course of her scientific research and in the course of her radiological work at field hospitals during World War I. Maria Sk\\u0142odowska was born in Warsaw, in Congress Poland in the Russian Empire, on 7 November 1867, the fifth and youngest child of well-known teachers Bronis\\u0142awa, \\\"n\\u00e9e\\\" Boguska, and W\\u0142adys\\u0142aw Sk\\u0142odowski. The elder siblings of Maria\"\n",
    "                },\n",
    "                ...\n",
    "                {\n",
    "                    \"title\": \"Marie Curie\",\n",
    "                    \"text\": \"was present in such minute quantities that they would eventually have to process tons of the ore. In July 1898, Curie and her husband published a joint paper announcing the existence of an element which they named \\\"polonium\\\", in honour of her native Poland, which would for another twenty years remain partitioned among three empires (Russian, Austrian, and Prussian). On 26 December 1898, the Curies announced the existence of a second element, which they named \\\"radium\\\", from the Latin word for \\\"ray\\\". In the course of their research, they also coined the word \\\"radioactivity\\\". To prove their discoveries beyond any\"\n",
    "                }\n",
    "        ]\n",
    "    }\n",
    "    \n",
    "    Position means location on positive context on ctxs list\n",
    "    \"\"\"\n",
    "    cut_off = 0\n",
    "    cut_off_pos = 0\n",
    "    instances = []\n",
    "    sample_size = sample_size\n",
    "    position = position\n",
    "    total_questions = len(json_file) \n",
    "    ids = 1\n",
    "    \n",
    "    for idx, samples in enumerate(json_file):\n",
    "        answers = samples['answers']\n",
    "        question = samples['question']\n",
    "        negative_samples = []\n",
    "\n",
    "        if len(samples['hard_negative_ctxs']) < sample_size or len(samples['positive_ctxs']) < 1:\n",
    "            cut_off += 1\n",
    "        else:\n",
    "            cnt_negative_sample = 0\n",
    "            for neg_sample in samples['hard_negative_ctxs']:\n",
    "                if cnt_negative_sample > sample_size - 1:\n",
    "                    break\n",
    "                ng_temp = {\n",
    "                    \"title\" : neg_sample['title'].replace('\\n', ' '),\n",
    "                    \"text\" : neg_sample['text'].replace('\\n', ' ')\n",
    "                }\n",
    "                negative_samples.append(ng_temp)\n",
    "                cnt_negative_sample += 1\n",
    "\n",
    "            # 'hard_negative_ctxs' might be sorted by its score, so shuffle them\n",
    "            random.shuffle(negative_samples)\n",
    "\n",
    "            # replace 1 negative_sample with one positive_sample in designated position\n",
    "            flag = 0\n",
    "            for answer in answers:\n",
    "                for pos_sample in samples['positive_ctxs']:\n",
    "                    if answer in pos_sample['text'] or answer in pos_sample['title']:\n",
    "                        positive_temp = {\n",
    "                            \"psg_id\" : pos_sample['psg_id'],\n",
    "                            \"title\" : pos_sample['title'].replace('\\n', ' '),\n",
    "                            \"text\" : pos_sample['text'].replace('\\n', ' ')\n",
    "                        } \n",
    "                        flag = 1\n",
    "                        break\n",
    "                else:\n",
    "                    continue\n",
    "                break\n",
    "\n",
    "            if flag:\n",
    "                ctx_samples = deepcopy(negative_samples)\n",
    "                ctx_samples[position-1] = positive_temp\n",
    "                ctxs_template={\n",
    "                    'id' : str(ids),\n",
    "                    'question' : question,\n",
    "                    'answers' : answers,\n",
    "                    'ctxs' : ctx_samples\n",
    "                }\n",
    "                ids += 1\n",
    "                instances.append(ctxs_template)\n",
    "            else:\n",
    "                cut_off_pos += 1   \n",
    "    \n",
    "    return instances, cut_off + cut_off_pos, total_questions"
   ]
  },
  {
   "cell_type": "code",
   "execution_count": 19,
   "id": "1c98251d",
   "metadata": {},
   "outputs": [],
   "source": [
    "instances, loss, total = convert_foramt(kilt_nq_dpr_dev, 5, 1)"
   ]
  },
  {
   "cell_type": "code",
   "execution_count": 20,
   "id": "a01a2ab5",
   "metadata": {},
   "outputs": [
    {
     "name": "stdout",
     "output_type": "stream",
     "text": [
      "2539\n",
      "298\n",
      "2837\n",
      "2539\n"
     ]
    }
   ],
   "source": [
    "print(len(instances))\n",
    "print(loss)\n",
    "print(total)\n",
    "print(total-loss)"
   ]
  },
  {
   "cell_type": "code",
   "execution_count": 21,
   "id": "f0ce39d8",
   "metadata": {
    "scrolled": false
   },
   "outputs": [],
   "source": [
    "# position = 1\n",
    "# check_ids = 1\n",
    "# position = 1\n",
    "# for i in instances:\n",
    "#     id_ = i['id']\n",
    "#     # check consecutive id\n",
    "#     if i['id'] != str(check_ids):\n",
    "#         print(f'id not matching : should be {check_ids} instead of {id_}')\n",
    "    \n",
    "#     check_ids += 1\n",
    "#     question = i['question']\n",
    "#     answer_ = i['answers']\n",
    "#     pos = i['ctx'][position-1]['text']\n",
    "#     # check whether negative ctx has answers\n",
    "#     for answer in i['answers']:\n",
    "#         for neg in i['ctx'][:position-1] + i['ctx'][position:]:\n",
    "#             neg_context = neg['title'] + ' : ' + neg['text']\n",
    "#             if answer in neg_context:\n",
    "#                 print('answer in neg_context')\n",
    "#                 print(f'Question : {question}')\n",
    "#                 print(f'Answer : {answer_}')\n",
    "#                 print(f'neg_passage : {neg_context}')\n",
    "#                 print(f'pos_passage : {pos}')\n",
    "        \n",
    "#                 break"
   ]
  },
  {
   "cell_type": "code",
   "execution_count": 23,
   "id": "6fa5f0bb",
   "metadata": {},
   "outputs": [
    {
     "name": "stdout",
     "output_type": "stream",
     "text": [
      "{'answers': ['Betty',\n",
      "             'neither issue made it clear whether Archie was married to Betty '\n",
      "             'or Veronica'],\n",
      " 'ctxs': [{'psg_id': 7077760,\n",
      "           'text': 'Archie Marries Veronica/Archie Marries Betty \"Archie '\n",
      "                   'Marries Veronica/Archie Marries Betty\" is an American '\n",
      "                   'comic book story by writer Michael Uslan and artists Stan '\n",
      "                   'Goldberg and Bob Smith that was originally presented in '\n",
      "                   '\"Archie\" # 600–606. In issues # 600–602, the story '\n",
      "                   'features a futuristic look into the life of Riverdale teen '\n",
      "                   'Archie Andrews in the years that follow his college '\n",
      "                   'graduation when Archie makes his ultimate decision to '\n",
      "                   'marry Veronica Lodge instead of Betty Cooper. In Issues # '\n",
      "                   '603–605, the story switches and Archie proposes marriage '\n",
      "                   'to',\n",
      "           'title': 'Archie Marries Veronica/Archie Marries Betty'},\n",
      "          {'text': '\" Betty. Relationships. Relationships Love life. Archie '\n",
      "                   'and Betty have been best friends and love interests all '\n",
      "                   'their lives. When Veronica Lodge moves to Riverdale, '\n",
      "                   'however, he switched his attention to her, making Betty '\n",
      "                   'both angry and jealous. She began competing with Veronica '\n",
      "                   'for his affection. In the comics, he sometimes thinks of '\n",
      "                   'Betty more as a close friend and confidant; he likes it '\n",
      "                   'that he can use her as a back-up when he does not have a '\n",
      "                   'date with Veronica. He',\n",
      "           'title': 'Archie Andrews'},\n",
      "          {'text': 'where Archie gets a love letter in the mail and Betty and '\n",
      "                   \"Veronica both swear it wasn't from them. The story was \"\n",
      "                   'continued in Betty #19, Betty and Veronica #82, and '\n",
      "                   'concluded with Veronica #39. - #600–606 (Archie Marries '\n",
      "                   'Veronica/Archie Marries Betty) In issues # 600–602, the '\n",
      "                   'story features a futuristic look into the life of '\n",
      "                   'Riverdale teen Archie Andrews in the years that follow his '\n",
      "                   'college graduation when Archie makes his ultimate decision '\n",
      "                   'to marry spoiled rich girl Veronica Lodge instead of sweet',\n",
      "           'title': 'Archie (comic book)'},\n",
      "          {'text': 'secret from Betty Cooper and Veronica Lodge. He merely '\n",
      "                   'acts in a typical Archie girl crush maneuver (looking '\n",
      "                   'dreamy, uttering nonsense). Unknown to Archie is that '\n",
      "                   'Betty and Veronica both think the other person did this to '\n",
      "                   'Archie, and they declare war on each other to win back '\n",
      "                   'Archie once and for all. Super Soakers, dirty dancing, and '\n",
      "                   'fraud are just some of the tactics that the girls use on '\n",
      "                   'each other. Cheryl returns to Riverdale, leaving readers '\n",
      "                   'wondering whom Archie will choose in the end. Cheryl',\n",
      "           'title': 'Cheryl Blossom'},\n",
      "          {'text': 'of an affinity with his music. Archie has been best '\n",
      "                   'friends with Jughead Jones and Betty Cooper since '\n",
      "                   'childhood. Betty develops feelings for Archie, in she ends '\n",
      "                   'up revealing to him. However, he does not reciprocate her '\n",
      "                   'feelings and decides to stay just friends with Betty, '\n",
      "                   'which causes minor temporary strain in their relationship. '\n",
      "                   'He instead is drawn to the new rich girl named Veronica, '\n",
      "                   'who had just moved to Riverdale from New York following '\n",
      "                   'the arrest of her wealthy billionaire father Hiram Lodge '\n",
      "                   'after he committed fraud and embezzlement.',\n",
      "           'title': 'List of Riverdale characters'}],\n",
      " 'id': '51',\n",
      " 'question': 'does archie end up with betty or veronica in riverdale'}\n"
     ]
    }
   ],
   "source": [
    "pprint(instances[50])"
   ]
  },
  {
   "cell_type": "code",
   "execution_count": 24,
   "id": "415525e7",
   "metadata": {},
   "outputs": [],
   "source": [
    "def save_json(data, filename):\n",
    "    with open(filename, 'w') as fp:\n",
    "        json.dump(data, fp, ensure_ascii=True)"
   ]
  },
  {
   "cell_type": "code",
   "execution_count": 25,
   "id": "8d398ee7",
   "metadata": {},
   "outputs": [],
   "source": [
    "filename = '/data/philhoon-relevance/FiD/open_domain_data/NQ_KILT_DPR/kilt_dpr_nq_dev_pos1.json'"
   ]
  },
  {
   "cell_type": "code",
   "execution_count": 26,
   "id": "4be17ac1",
   "metadata": {},
   "outputs": [],
   "source": [
    "save_json(instances, filename)"
   ]
  },
  {
   "cell_type": "code",
   "execution_count": null,
   "id": "ca4ed66a",
   "metadata": {},
   "outputs": [],
   "source": []
  },
  {
   "cell_type": "markdown",
   "id": "97962d31",
   "metadata": {},
   "source": [
    "# different position files"
   ]
  },
  {
   "cell_type": "code",
   "execution_count": 27,
   "id": "400d302e",
   "metadata": {},
   "outputs": [],
   "source": [
    "instance2 = deepcopy(instances)"
   ]
  },
  {
   "cell_type": "code",
   "execution_count": 28,
   "id": "3dde1500",
   "metadata": {},
   "outputs": [],
   "source": [
    "previous_pos = 1\n",
    "new_position = 2"
   ]
  },
  {
   "cell_type": "code",
   "execution_count": 29,
   "id": "f04d709a",
   "metadata": {},
   "outputs": [],
   "source": [
    "for ins in instance2:\n",
    "    ins['ctxs'][previous_pos-1], ins['ctxs'][new_position-1] = ins['ctxs'][new_position-1], ins['ctxs'][previous_pos-1]"
   ]
  },
  {
   "cell_type": "code",
   "execution_count": 30,
   "id": "7792a570",
   "metadata": {
    "scrolled": false
   },
   "outputs": [],
   "source": [
    "# checking\n",
    "for in1, in2 in zip(instances, instance2):\n",
    "    if in1['id'] != in2['id']:\n",
    "        print('not matching id')\n",
    "        break\n",
    "    if in1['question'] != in2['question']:\n",
    "        print('not mathcing question')\n",
    "        break\n",
    "    if in1['answers'] != in2['answers']:\n",
    "        print('not mathcing question')\n",
    "        break\n",
    "    if in1['ctxs'][:previous_pos-1] + in1['ctxs'][previous_pos:] != in2['ctxs'][:new_position-1] + in2['ctxs'][new_position:]:\n",
    "        print('negative not mathcing')\n",
    "        pprint(in1['ctxs'][:previous_pos-1] + in1['ctxs'][previous_pos:])\n",
    "        pprint(in2['ctxs'][:new_position-1] + in2['ctxs'][new_position:])\n",
    "        break\n",
    "    if in1['ctxs'][previous_pos-1] != in2['ctxs'][new_position-1]:\n",
    "        print('positive not mathcing')\n",
    "        print(in1['ctxs'][previous_pos-1])\n",
    "        print(in2['ctxs'][new_position-1])\n",
    "        break\n",
    "    "
   ]
  },
  {
   "cell_type": "code",
   "execution_count": 31,
   "id": "d2709eff",
   "metadata": {},
   "outputs": [],
   "source": [
    "filename = '/data/philhoon-relevance/FiD/open_domain_data/NQ_KILT_DPR/kilt_dpr_nq_dev_pos2.json'"
   ]
  },
  {
   "cell_type": "code",
   "execution_count": 32,
   "id": "79811f4e",
   "metadata": {},
   "outputs": [],
   "source": [
    "save_json(instance2, filename)"
   ]
  },
  {
   "cell_type": "code",
   "execution_count": 33,
   "id": "642f7171",
   "metadata": {},
   "outputs": [],
   "source": [
    "instance3 = deepcopy(instance2)"
   ]
  },
  {
   "cell_type": "code",
   "execution_count": 34,
   "id": "227a326a",
   "metadata": {},
   "outputs": [],
   "source": [
    "previous_pos = 2\n",
    "new_position = 3"
   ]
  },
  {
   "cell_type": "code",
   "execution_count": 35,
   "id": "9ee69e90",
   "metadata": {},
   "outputs": [],
   "source": [
    "for ins in instance3:\n",
    "    ins['ctxs'][previous_pos-1], ins['ctxs'][new_position-1] = ins['ctxs'][new_position-1], ins['ctxs'][previous_pos-1]"
   ]
  },
  {
   "cell_type": "code",
   "execution_count": 36,
   "id": "7f195efd",
   "metadata": {},
   "outputs": [],
   "source": [
    "# checking\n",
    "for in1, in2 in zip(instance2, instance3):\n",
    "    if in1['id'] != in2['id']:\n",
    "        print('not matching id')\n",
    "        break\n",
    "    if in1['question'] != in2['question']:\n",
    "        print('not mathcing question')\n",
    "        break\n",
    "    if in1['answers'] != in2['answers']:\n",
    "        print('not mathcing question')\n",
    "        break\n",
    "    if in1['ctxs'][:previous_pos-1] + in1['ctxs'][previous_pos:] != in2['ctxs'][:new_position-1] + in2['ctxs'][new_position:]:\n",
    "        print('negative not mathcing')\n",
    "        pprint(in1['ctxs'][:previous_pos-1] + in1['ctxs'][previous_pos:])\n",
    "        pprint(in2['ctxs'][:new_position-1] + in2['ctxs'][new_position:])\n",
    "        break\n",
    "    if in1['ctxs'][previous_pos-1] != in2['ctxs'][new_position-1]:\n",
    "        print('positive not mathcing')\n",
    "        print(in1['ctxs'][previous_pos-1])\n",
    "        print(in2['ctxs'][new_position-1])\n",
    "        break\n",
    "    "
   ]
  },
  {
   "cell_type": "code",
   "execution_count": 37,
   "id": "2613441d",
   "metadata": {},
   "outputs": [],
   "source": [
    "filename = '/data/philhoon-relevance/FiD/open_domain_data/NQ_KILT_DPR/kilt_dpr_nq_dev_pos3.json'"
   ]
  },
  {
   "cell_type": "code",
   "execution_count": 38,
   "id": "56823e47",
   "metadata": {},
   "outputs": [],
   "source": [
    "save_json(instance3, filename)"
   ]
  },
  {
   "cell_type": "code",
   "execution_count": 39,
   "id": "7397a5a3",
   "metadata": {},
   "outputs": [],
   "source": [
    "instance4 = deepcopy(instance3)"
   ]
  },
  {
   "cell_type": "code",
   "execution_count": 40,
   "id": "d5fbcc2a",
   "metadata": {},
   "outputs": [],
   "source": [
    "previous_pos = 3\n",
    "new_position = 4"
   ]
  },
  {
   "cell_type": "code",
   "execution_count": 41,
   "id": "91f74561",
   "metadata": {},
   "outputs": [],
   "source": [
    "for ins in instance4:\n",
    "    ins['ctxs'][previous_pos-1], ins['ctxs'][new_position-1] = ins['ctxs'][new_position-1], ins['ctxs'][previous_pos-1]"
   ]
  },
  {
   "cell_type": "code",
   "execution_count": 42,
   "id": "659d4f77",
   "metadata": {},
   "outputs": [],
   "source": [
    "# checking\n",
    "for in1, in2 in zip(instance3, instance4):\n",
    "    if in1['id'] != in2['id']:\n",
    "        print('not matching id')\n",
    "        break\n",
    "    if in1['question'] != in2['question']:\n",
    "        print('not mathcing question')\n",
    "        break\n",
    "    if in1['answers'] != in2['answers']:\n",
    "        print('not mathcing question')\n",
    "        break\n",
    "    if in1['ctxs'][:previous_pos-1] + in1['ctxs'][previous_pos:] != in2['ctxs'][:new_position-1] + in2['ctxs'][new_position:]:\n",
    "        print('negative not mathcing')\n",
    "        pprint(in1['ctxs'][:previous_pos-1] + in1['ctxs'][previous_pos:])\n",
    "        pprint(in2['ctxs'][:new_position-1] + in2['ctxs'][new_position:])\n",
    "        break\n",
    "    if in1['ctxs'][previous_pos-1] != in2['ctxs'][new_position-1]:\n",
    "        print('positive not mathcing')\n",
    "        print(in1['ctxs'][previous_pos-1])\n",
    "        print(in2['ctxs'][new_position-1])\n",
    "        break\n",
    "    "
   ]
  },
  {
   "cell_type": "code",
   "execution_count": 43,
   "id": "d87a4090",
   "metadata": {},
   "outputs": [],
   "source": [
    "filename = '/data/philhoon-relevance/FiD/open_domain_data/NQ_KILT_DPR/kilt_dpr_nq_dev_pos4.json'"
   ]
  },
  {
   "cell_type": "code",
   "execution_count": 44,
   "id": "2fb74f7b",
   "metadata": {},
   "outputs": [],
   "source": [
    "save_json(instance4, filename)"
   ]
  },
  {
   "cell_type": "code",
   "execution_count": 45,
   "id": "2b95df6d",
   "metadata": {},
   "outputs": [],
   "source": [
    "instance5 = deepcopy(instance4)"
   ]
  },
  {
   "cell_type": "code",
   "execution_count": 46,
   "id": "3807aa3d",
   "metadata": {},
   "outputs": [],
   "source": [
    "previous_pos = 4\n",
    "new_position = 5"
   ]
  },
  {
   "cell_type": "code",
   "execution_count": 47,
   "id": "8e3b8484",
   "metadata": {},
   "outputs": [],
   "source": [
    "for ins in instance5:\n",
    "    ins['ctxs'][previous_pos-1], ins['ctxs'][new_position-1] = ins['ctxs'][new_position-1], ins['ctxs'][previous_pos-1]"
   ]
  },
  {
   "cell_type": "code",
   "execution_count": 48,
   "id": "7eaad4e2",
   "metadata": {},
   "outputs": [],
   "source": [
    "# checking\n",
    "for in1, in2 in zip(instance4, instance5):\n",
    "    if in1['id'] != in2['id']:\n",
    "        print('not matching id')\n",
    "        break\n",
    "    if in1['question'] != in2['question']:\n",
    "        print('not mathcing question')\n",
    "        break\n",
    "    if in1['answers'] != in2['answers']:\n",
    "        print('not mathcing question')\n",
    "        break\n",
    "    if in1['ctxs'][:previous_pos-1] + in1['ctxs'][previous_pos:] != in2['ctxs'][:new_position-1] + in2['ctxs'][new_position:]:\n",
    "        print('negative not mathcing')\n",
    "        pprint(in1['ctxs'][:previous_pos-1] + in1['ctxs'][previous_pos:])\n",
    "        pprint(in2['ctxs'][:new_position-1] + in2['ctxs'][new_position:])\n",
    "        break\n",
    "    if in1['ctxs'][previous_pos-1] != in2['ctxs'][new_position-1]:\n",
    "        print('positive not mathcing')\n",
    "        print(in1['ctxs'][previous_pos-1])\n",
    "        print(in2['ctxs'][new_position-1])\n",
    "        break\n",
    "    "
   ]
  },
  {
   "cell_type": "code",
   "execution_count": 49,
   "id": "a42b1fe9",
   "metadata": {},
   "outputs": [],
   "source": [
    "filename = '/data/philhoon-relevance/FiD/open_domain_data/NQ_KILT_DPR/kilt_dpr_nq_dev_pos5.json'"
   ]
  },
  {
   "cell_type": "code",
   "execution_count": 50,
   "id": "cd8cc518",
   "metadata": {},
   "outputs": [],
   "source": [
    "save_json(instance5, filename)"
   ]
  },
  {
   "cell_type": "code",
   "execution_count": 51,
   "id": "fb180d99",
   "metadata": {},
   "outputs": [
    {
     "data": {
      "text/plain": [
       "[{'title': 'Mean dimension',\n",
       "  'text': ', 3(2):2200, 2008. - Misha Gromov. \"Topological invariants of dynamical systems and spaces of holomorphic maps\". I. Math. Phys. Anal. Geom., 2(4):323–415, 1999. - Elon Lindenstrauss and Benjamin Weiss. \"Mean topological dimension\". Israel J. Math., 115:1–24, 2000. External links. What is Mean Dimension?'},\n",
       " {'title': 'Opening Night (album)',\n",
       "  'text': '1. \"Introduction (Mel Lewis & Alan Grant)\" – 1:50 2. \"Big Dipper\" – 5:10 3. \"Polka Dots and Moonbeams\" (Van Heusen, Burke) – 3:47 4. \"Once Around\" – 12:37 5. \"All My Yesterdays\" – 4:08 6. \"Morning Reverend\" – 4:50 7. \"Low Down\" – 4:25 8. \"Lover Man\" (Davis, Ramirez, Sherman) – 5:08 9. \"Mean What'},\n",
       " {'title': 'Myles Goodwyn (album)',\n",
       "  'text': 'Track listings appear in a slightly different order on the reissued version as well. Singles from this album include \"My Girl\", and \"Do You Know What I Mean\" (with background vocals provided by Lee Aaron). Track listing. Track listing Original release. 1. \"Veil of Tears\" – 4:23 2. \"Do You Know What I Mean\" – 3:45 3. \"Caviar\" – 4:34 4. \"Sonya\" – 5:10 5. \"Head On\"'},\n",
       " {'title': 'Pre-assessment',\n",
       "  'text': 'difficult, having these pre-assessments done will help you spend more time teaching students what they don\\'t know and just refreshing them on what they do already do know. For example, if you are going to be starting a new unit in math, how to add and subtract. Just by asking the students \"What does addition mean?\", \"What does subtraction mean\" and, \"Do they relate to each other?\", the teacher would be able to know that the students had a good basic'},\n",
       " {'psg_id': 3894652,\n",
       "  'title': 'Therefore sign',\n",
       "  'text': 'Therefore sign In logical argument and mathematical proof, the therefore sign (∴) is generally used before a logical consequence, such as the conclusion of a syllogism. The symbol consists of three dots placed in an upright triangle and is read \"therefore\". It is encoded at . While it is not generally used in formal writing, it is used in mathematics and shorthand. It is complementary to . History. According to Cajori, \"A History of Mathematical Notations,\" Johann Rahn used both the \"'}]"
      ]
     },
     "execution_count": 51,
     "metadata": {},
     "output_type": "execute_result"
    }
   ],
   "source": [
    "instance5[0]['ctxs']"
   ]
  },
  {
   "cell_type": "code",
   "execution_count": 52,
   "id": "87dd2f54",
   "metadata": {},
   "outputs": [
    {
     "data": {
      "text/plain": [
       "4"
      ]
     },
     "execution_count": 52,
     "metadata": {},
     "output_type": "execute_result"
    }
   ],
   "source": [
    "previous_pos"
   ]
  },
  {
   "cell_type": "code",
   "execution_count": 53,
   "id": "a3fc6018",
   "metadata": {},
   "outputs": [],
   "source": [
    "# checking instance5 and instances\n",
    "previous_pos = 5\n",
    "new_position = 1"
   ]
  },
  {
   "cell_type": "code",
   "execution_count": 54,
   "id": "79a98a0c",
   "metadata": {},
   "outputs": [
    {
     "data": {
      "text/plain": [
       "[{'title': 'Mean dimension',\n",
       "  'text': ', 3(2):2200, 2008. - Misha Gromov. \"Topological invariants of dynamical systems and spaces of holomorphic maps\". I. Math. Phys. Anal. Geom., 2(4):323–415, 1999. - Elon Lindenstrauss and Benjamin Weiss. \"Mean topological dimension\". Israel J. Math., 115:1–24, 2000. External links. What is Mean Dimension?'},\n",
       " {'title': 'Opening Night (album)',\n",
       "  'text': '1. \"Introduction (Mel Lewis & Alan Grant)\" – 1:50 2. \"Big Dipper\" – 5:10 3. \"Polka Dots and Moonbeams\" (Van Heusen, Burke) – 3:47 4. \"Once Around\" – 12:37 5. \"All My Yesterdays\" – 4:08 6. \"Morning Reverend\" – 4:50 7. \"Low Down\" – 4:25 8. \"Lover Man\" (Davis, Ramirez, Sherman) – 5:08 9. \"Mean What'},\n",
       " {'title': 'Myles Goodwyn (album)',\n",
       "  'text': 'Track listings appear in a slightly different order on the reissued version as well. Singles from this album include \"My Girl\", and \"Do You Know What I Mean\" (with background vocals provided by Lee Aaron). Track listing. Track listing Original release. 1. \"Veil of Tears\" – 4:23 2. \"Do You Know What I Mean\" – 3:45 3. \"Caviar\" – 4:34 4. \"Sonya\" – 5:10 5. \"Head On\"'},\n",
       " {'title': 'Pre-assessment',\n",
       "  'text': 'difficult, having these pre-assessments done will help you spend more time teaching students what they don\\'t know and just refreshing them on what they do already do know. For example, if you are going to be starting a new unit in math, how to add and subtract. Just by asking the students \"What does addition mean?\", \"What does subtraction mean\" and, \"Do they relate to each other?\", the teacher would be able to know that the students had a good basic'},\n",
       " {'psg_id': 3894652,\n",
       "  'title': 'Therefore sign',\n",
       "  'text': 'Therefore sign In logical argument and mathematical proof, the therefore sign (∴) is generally used before a logical consequence, such as the conclusion of a syllogism. The symbol consists of three dots placed in an upright triangle and is read \"therefore\". It is encoded at . While it is not generally used in formal writing, it is used in mathematics and shorthand. It is complementary to . History. According to Cajori, \"A History of Mathematical Notations,\" Johann Rahn used both the \"'}]"
      ]
     },
     "execution_count": 54,
     "metadata": {},
     "output_type": "execute_result"
    }
   ],
   "source": [
    "instance5[0]['ctxs']"
   ]
  },
  {
   "cell_type": "code",
   "execution_count": 55,
   "id": "1da26611",
   "metadata": {},
   "outputs": [],
   "source": [
    "# checking\n",
    "for in1, in2 in zip(instance5, instances):\n",
    "    if in1['id'] != in2['id']:\n",
    "        print('not matching id')\n",
    "        break\n",
    "    if in1['question'] != in2['question']:\n",
    "        print('not mathcing question')\n",
    "        break\n",
    "    if in1['answers'] != in2['answers']:\n",
    "        print('not mathcing question')\n",
    "        break\n",
    "    if in1['ctxs'][:previous_pos-1] + in1['ctxs'][previous_pos:] != in2['ctxs'][:new_position-1] + in2['ctxs'][new_position:]:\n",
    "        print('negative not mathcing')\n",
    "        pprint(in1['ctxs'][:previous_pos-1] + in1['ctxs'][previous_pos:])\n",
    "        print('=====')\n",
    "        pprint(in2['ctxs'][:new_position-1] + in2['ctxs'][new_position:])\n",
    "        break\n",
    "    if in1['ctxs'][previous_pos-1] != in2['ctxs'][new_position-1]:\n",
    "        print('positive not mathcing')\n",
    "        print(in1['ctxs'][previous_pos-1])\n",
    "        print(in2['ctxs'][new_position-1])\n",
    "        break\n",
    "    "
   ]
  },
  {
   "cell_type": "code",
   "execution_count": null,
   "id": "df565c97",
   "metadata": {},
   "outputs": [],
   "source": []
  },
  {
   "cell_type": "code",
   "execution_count": null,
   "id": "10e898b1",
   "metadata": {},
   "outputs": [],
   "source": []
  },
  {
   "cell_type": "code",
   "execution_count": null,
   "id": "e75a6a0c",
   "metadata": {},
   "outputs": [],
   "source": []
  },
  {
   "cell_type": "code",
   "execution_count": null,
   "id": "21473392",
   "metadata": {},
   "outputs": [],
   "source": [
    "k = [1,2,3]\n",
    "q = [1,2,3]"
   ]
  },
  {
   "cell_type": "code",
   "execution_count": null,
   "id": "7e1e6c54",
   "metadata": {},
   "outputs": [],
   "source": [
    "k == q"
   ]
  },
  {
   "cell_type": "code",
   "execution_count": null,
   "id": "746298db",
   "metadata": {},
   "outputs": [],
   "source": [
    "previous_pos = 1\n",
    "new_position = 2"
   ]
  },
  {
   "cell_type": "code",
   "execution_count": null,
   "id": "7da1a1b3",
   "metadata": {},
   "outputs": [],
   "source": [
    "k[:previous_pos-1] + k[previous_pos:] == q[:new_position-1] + q[new_position:]"
   ]
  },
  {
   "cell_type": "code",
   "execution_count": null,
   "id": "df9e9783",
   "metadata": {},
   "outputs": [],
   "source": [
    "q[:new_position-1] + q[new_position:]"
   ]
  },
  {
   "cell_type": "code",
   "execution_count": null,
   "id": "88adbf34",
   "metadata": {},
   "outputs": [],
   "source": []
  },
  {
   "cell_type": "code",
   "execution_count": null,
   "id": "fe03f811",
   "metadata": {},
   "outputs": [],
   "source": []
  },
  {
   "cell_type": "code",
   "execution_count": null,
   "id": "6f9c14ff",
   "metadata": {},
   "outputs": [],
   "source": []
  }
 ],
 "metadata": {
  "kernelspec": {
   "display_name": "relevance",
   "language": "python",
   "name": "relevance"
  },
  "language_info": {
   "codemirror_mode": {
    "name": "ipython",
    "version": 3
   },
   "file_extension": ".py",
   "mimetype": "text/x-python",
   "name": "python",
   "nbconvert_exporter": "python",
   "pygments_lexer": "ipython3",
   "version": "3.8.13"
  }
 },
 "nbformat": 4,
 "nbformat_minor": 5
}
