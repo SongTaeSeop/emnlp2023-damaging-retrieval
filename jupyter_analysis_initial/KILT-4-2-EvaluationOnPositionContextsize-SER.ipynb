{
 "cells": [
  {
   "cell_type": "markdown",
   "id": "e86601ea",
   "metadata": {},
   "source": [
    "# KILT-4-2-EvaluationOnPositionContextsize"
   ]
  },
  {
   "cell_type": "markdown",
   "id": "c49f712c",
   "metadata": {},
   "source": [
    "- Evalutaion on FiD results on KILT NQ using (BM25/Random) Samples\n",
    "    - By Position\n",
    "    - By Number of Context"
   ]
  },
  {
   "cell_type": "code",
   "execution_count": 27,
   "id": "434f76e1",
   "metadata": {},
   "outputs": [],
   "source": [
    "from cycler import cycler\n",
    "import numpy as np\n",
    "import seaborn as sns\n",
    "import matplotlib as mpl\n",
    "import pathlib\n",
    "from pprint import pprint\n",
    "import pandas as pd\n",
    "import matplotlib.pyplot as plt"
   ]
  },
  {
   "cell_type": "code",
   "execution_count": 28,
   "id": "171f41f3",
   "metadata": {},
   "outputs": [],
   "source": [
    "raw_light_palette = [\n",
    "    (0, 122, 255), # Blue\n",
    "    (255, 149, 0), # Orange\n",
    "    (52, 199, 89), # Green\n",
    "    (255, 59, 48), # Red\n",
    "    (175, 82, 222),# Purple\n",
    "    (255, 45, 85), # Pink\n",
    "    (88, 86, 214), # Indigo\n",
    "    (90, 200, 250),# Teal\n",
    "    (255, 204, 0)  # Yellow\n",
    "]\n",
    "\n",
    "raw_gray_light_palette = [\n",
    "    (142, 142, 147),# Gray\n",
    "    (174, 174, 178),# Gray (2)\n",
    "    (199, 199, 204),# Gray (3)\n",
    "    (209, 209, 214),# Gray (4)\n",
    "    (229, 229, 234),# Gray (5)\n",
    "    (242, 242, 247),# Gray (6)\n",
    "]\n",
    "\n",
    "\n",
    "light_palette = np.array(raw_light_palette)/255\n",
    "gray_light_palette = np.array(raw_gray_light_palette)/255"
   ]
  },
  {
   "cell_type": "code",
   "execution_count": 29,
   "id": "fa90290f",
   "metadata": {},
   "outputs": [
    {
     "name": "stdout",
     "output_type": "stream",
     "text": [
      "Light mode palette\n"
     ]
    },
    {
     "data": {
      "image/png": "[encoded data removed]",
      "text/plain": [
       "<Figure size 1800x200 with 1 Axes>"
      ]
     },
     "metadata": {},
     "output_type": "display_data"
    },
    {
     "data": {
      "image/png": "[encoded data removed]",
      "text/plain": [
       "<Figure size 1200x200 with 1 Axes>"
      ]
     },
     "metadata": {},
     "output_type": "display_data"
    }
   ],
   "source": [
    "print('Light mode palette')\n",
    "sns.palplot(light_palette)\n",
    "sns.palplot(gray_light_palette)"
   ]
  },
  {
   "cell_type": "code",
   "execution_count": 30,
   "id": "add1657d",
   "metadata": {},
   "outputs": [],
   "source": [
    "# cmap 수정\n",
    "mpl.rcParams['axes.prop_cycle'] = cycler('color',light_palette)\n",
    "# 해상도 조정\n",
    "mpl.rcParams['figure.dpi'] = 200\n",
    "# ax의 우측과 상단 지우기\n",
    "mpl.rcParams['axes.spines.top'] = False\n",
    "mpl.rcParams['axes.spines.right'] = False"
   ]
  },
  {
   "cell_type": "markdown",
   "id": "d4c7c0a3",
   "metadata": {},
   "source": [
    "## KILT BM25 NQ negative (from DPR) depreciated"
   ]
  },
  {
   "cell_type": "code",
   "execution_count": 31,
   "id": "4e9ae4ae",
   "metadata": {},
   "outputs": [],
   "source": [
    "# option = 'bm25'\n",
    "# path = '/data/philhoon-relevance/FiD/results/KILT_DPR_NQ'\n",
    "# # path = '/data/philhoon-relevance/FiD/results/KILT_DPR_NQ_depreciated'\n",
    "# plot_path = './img/FiDResultOnBM25HardnegativeNQdevSubsets.png'\n",
    "# title = 'FiD result on BM25 negative nq dev subsets'"
   ]
  },
  {
   "cell_type": "markdown",
   "id": "b69b594e",
   "metadata": {},
   "source": [
    "## KILT Random Sampling NQ negative  depreciated"
   ]
  },
  {
   "cell_type": "code",
   "execution_count": 32,
   "id": "db0ca387",
   "metadata": {},
   "outputs": [],
   "source": [
    "# option = 'random'\n",
    "# path = '/data/philhoon-relevance/FiD/results/KILT_RANDOM_NQ'\n",
    "# plot_path = './img/FiDResultOnRandomSamplingnegativeNQdevSubsets.png'\n",
    "# title = 'FiD result on random sampling negative nq dev subsets'"
   ]
  },
  {
   "cell_type": "markdown",
   "id": "4d94b03f",
   "metadata": {},
   "source": [
    "## KILT BM25 NQ negative (from DPR)"
   ]
  },
  {
   "cell_type": "code",
   "execution_count": 33,
   "id": "779c7a4d",
   "metadata": {},
   "outputs": [],
   "source": [
    "# option = 'random'\n",
    "# path = '/data/philhoon-relevance/FiD/results/KILT_RANDOM_NQ'\n",
    "# plot_path = './img/KILTNQ_fid_randomnegatives.pdf'\n",
    "# title = 'EM score on ramdom damaging passages'\n",
    "\n",
    "# # 'EM & AcEM score on ramdom damaging passages'\n",
    "\n",
    "# # ./img/KILTNQ_fid_bm25negatives_upperbound.pdf\n",
    "\n",
    "# # plot_path = './img/New_FiDResultOnRandomSamplingnegativeNQdev2539.png'\n",
    "# # title = 'New FiD result on random sampling negative nq dev subsets'"
   ]
  },
  {
   "cell_type": "markdown",
   "id": "ce828108",
   "metadata": {},
   "source": [
    "## KILT Random Sampling NQ negative "
   ]
  },
  {
   "cell_type": "code",
   "execution_count": 34,
   "id": "580e7bce",
   "metadata": {},
   "outputs": [],
   "source": [
    "option = 'random'\n",
    "path = '/data/philhoon-relevance/FiD/results/KILT_RANDOM_NQ'\n",
    "# plot_path = './img/New_FiDResultOnRandomSamplingnegativeNQdev2539.png'\n",
    "# title = 'New FiD result on random sampling negative nq dev subsets'"
   ]
  },
  {
   "cell_type": "code",
   "execution_count": 35,
   "id": "94004efd",
   "metadata": {},
   "outputs": [],
   "source": [
    "path = pathlib.Path(path)"
   ]
  },
  {
   "cell_type": "code",
   "execution_count": 36,
   "id": "af5c6cab",
   "metadata": {},
   "outputs": [],
   "source": [
    "# '/data/philhoon-relevance/FiD/results/KILT_RANDOM_NQ/kilt_rand_nq_dev_pos3_context5/final_output.txt'"
   ]
  },
  {
   "cell_type": "code",
   "execution_count": null,
   "id": "16434c24",
   "metadata": {},
   "outputs": [],
   "source": []
  },
  {
   "cell_type": "code",
   "execution_count": null,
   "id": "3c8045da",
   "metadata": {},
   "outputs": [],
   "source": []
  },
  {
   "cell_type": "code",
   "execution_count": 37,
   "id": "681b78f3",
   "metadata": {},
   "outputs": [
    {
     "name": "stdout",
     "output_type": "stream",
     "text": [
      "[PosixPath('/data/philhoon-relevance/FiD/results/KILT_RANDOM_NQ/kilt_rand_nq_dev_pos3_context3/final_output.txt'),\n",
      " PosixPath('/data/philhoon-relevance/FiD/results/KILT_RANDOM_NQ/kilt_rand_nq_dev_pos4_context4/final_output.txt'),\n",
      " PosixPath('/data/philhoon-relevance/FiD/results/KILT_RANDOM_NQ/kilt_rand_nq_dev_pos1_context2/final_output.txt'),\n",
      " PosixPath('/data/philhoon-relevance/FiD/results/KILT_RANDOM_NQ/kilt_rand_nq_dev_pos1_context5/final_output.txt'),\n",
      " PosixPath('/data/philhoon-relevance/FiD/results/KILT_RANDOM_NQ/kilt_rand_nq_dev_pos3_context4/final_output.txt'),\n",
      " PosixPath('/data/philhoon-relevance/FiD/results/KILT_RANDOM_NQ/kilt_rand_nq_dev_pos2_context3/final_output.txt'),\n",
      " PosixPath('/data/philhoon-relevance/FiD/results/KILT_RANDOM_NQ/kilt_rand_nq_dev_pos1_context1/final_output.txt'),\n",
      " PosixPath('/data/philhoon-relevance/FiD/results/KILT_RANDOM_NQ/kilt_rand_nq_dev_pos2_context4/final_output.txt'),\n",
      " PosixPath('/data/philhoon-relevance/FiD/results/KILT_RANDOM_NQ/kilt_rand_nq_dev_pos3_context5/final_output.txt'),\n",
      " PosixPath('/data/philhoon-relevance/FiD/results/KILT_RANDOM_NQ/kilt_rand_nq_dev_pos1_context4/final_output.txt'),\n",
      " PosixPath('/data/philhoon-relevance/FiD/results/KILT_RANDOM_NQ/kilt_rand_nq_dev_pos1_context3/final_output.txt'),\n",
      " PosixPath('/data/philhoon-relevance/FiD/results/KILT_RANDOM_NQ/kilt_rand_nq_dev_pos4_context5/final_output.txt'),\n",
      " PosixPath('/data/philhoon-relevance/FiD/results/KILT_RANDOM_NQ/kilt_rand_nq_dev_pos2_context5/final_output.txt'),\n",
      " PosixPath('/data/philhoon-relevance/FiD/results/KILT_RANDOM_NQ/kilt_rand_nq_dev_pos2_context2/final_output.txt'),\n",
      " PosixPath('/data/philhoon-relevance/FiD/results/KILT_RANDOM_NQ/kilt_rand_nq_dev_pos5_context5/final_output.txt')]\n"
     ]
    }
   ],
   "source": [
    "files = path.glob('**/*.txt')\n",
    "pprint(list(files))"
   ]
  },
  {
   "cell_type": "code",
   "execution_count": 38,
   "id": "7fc8fc4d",
   "metadata": {
    "scrolled": false
   },
   "outputs": [
    {
     "name": "stdout",
     "output_type": "stream",
     "text": [
      "/data/philhoon-relevance/FiD/results/KILT_RANDOM_NQ/kilt_rand_nq_dev_pos1_context1/final_output.txt\n",
      "/data/philhoon-relevance/FiD/results/KILT_RANDOM_NQ/kilt_rand_nq_dev_pos1_context2/final_output.txt\n",
      "/data/philhoon-relevance/FiD/results/KILT_RANDOM_NQ/kilt_rand_nq_dev_pos1_context3/final_output.txt\n",
      "/data/philhoon-relevance/FiD/results/KILT_RANDOM_NQ/kilt_rand_nq_dev_pos1_context4/final_output.txt\n",
      "/data/philhoon-relevance/FiD/results/KILT_RANDOM_NQ/kilt_rand_nq_dev_pos1_context5/final_output.txt\n",
      "/data/philhoon-relevance/FiD/results/KILT_RANDOM_NQ/kilt_rand_nq_dev_pos2_context2/final_output.txt\n",
      "/data/philhoon-relevance/FiD/results/KILT_RANDOM_NQ/kilt_rand_nq_dev_pos2_context3/final_output.txt\n",
      "/data/philhoon-relevance/FiD/results/KILT_RANDOM_NQ/kilt_rand_nq_dev_pos2_context4/final_output.txt\n",
      "/data/philhoon-relevance/FiD/results/KILT_RANDOM_NQ/kilt_rand_nq_dev_pos2_context5/final_output.txt\n",
      "/data/philhoon-relevance/FiD/results/KILT_RANDOM_NQ/kilt_rand_nq_dev_pos3_context3/final_output.txt\n",
      "/data/philhoon-relevance/FiD/results/KILT_RANDOM_NQ/kilt_rand_nq_dev_pos3_context4/final_output.txt\n",
      "/data/philhoon-relevance/FiD/results/KILT_RANDOM_NQ/kilt_rand_nq_dev_pos3_context5/final_output.txt\n",
      "/data/philhoon-relevance/FiD/results/KILT_RANDOM_NQ/kilt_rand_nq_dev_pos4_context4/final_output.txt\n",
      "/data/philhoon-relevance/FiD/results/KILT_RANDOM_NQ/kilt_rand_nq_dev_pos4_context5/final_output.txt\n",
      "/data/philhoon-relevance/FiD/results/KILT_RANDOM_NQ/kilt_rand_nq_dev_pos5_context5/final_output.txt\n"
     ]
    }
   ],
   "source": [
    "dict_eval = {\n",
    "    'pos' : [],\n",
    "    'ctx' : [],\n",
    "    'em' : []\n",
    "}\n",
    "\n",
    "sample_size = 5\n",
    "for pos in range(1, sample_size+1):\n",
    "    for ctx in range(pos, sample_size+1):\n",
    "    \n",
    "#         # bm25 negative filenames\n",
    "#         file_name_ = f'kilt_dpr_nq_dev_pos{pos}_context{ctx}'\n",
    "\n",
    "        # random sampling negative filenames\n",
    "        if option == 'random':\n",
    "            file_name_ = f'kilt_rand_nq_dev_pos{pos}_context{ctx}'\n",
    "            file = list(path.glob(f'*{file_name_}*/*.txt'))\n",
    "            test = file[0] \n",
    "        # DPR should be changed to bm25\n",
    "        if option == 'bm25':\n",
    "            file_name_ = f'kilt_bm25_nq_dev_pos{pos}_context{ctx}'\n",
    "            file = list(path.glob(f'*{file_name_}*/*.txt'))\n",
    "            test = file[0] \n",
    "        \n",
    "        print(test)\n",
    "        \n",
    "        df = pd.read_csv(test, sep = '\\t', header=None)\n",
    "        df.columns = ['id','inference','em']\n",
    "#         print(len(df))\n",
    "        em = float(sum(df['em'])/len(df))\n",
    "        \n",
    "        dict_eval['pos'].append(pos)\n",
    "        dict_eval['ctx'].append(ctx)\n",
    "        dict_eval['em'].append(em)\n",
    "        \n",
    "        "
   ]
  },
  {
   "cell_type": "code",
   "execution_count": null,
   "id": "20a3cf01",
   "metadata": {},
   "outputs": [],
   "source": [
    "file_lst = [\n",
    "    '/data/philhoon-relevance/FiD/results/KILT_RANDOM_NQ/kilt_rand_nq_dev_pos1_context1/final_output.txt',\n",
    "'/data/philhoon-relevance/FiD/results/KILT_RANDOM_NQ/kilt_rand_nq_dev_pos1_context2/final_output.txt',\n",
    "'/data/philhoon-relevance/FiD/results/KILT_RANDOM_NQ/kilt_rand_nq_dev_pos1_context3/final_output.txt',\n",
    "'/data/philhoon-relevance/FiD/results/KILT_RANDOM_NQ/kilt_rand_nq_dev_pos1_context4/final_output.txt',\n",
    "'/data/philhoon-relevance/FiD/results/KILT_RANDOM_NQ/kilt_rand_nq_dev_pos1_context5/final_output.txt',\n",
    "'/data/philhoon-relevance/FiD/results/KILT_RANDOM_NQ/kilt_rand_nq_dev_pos2_context2/final_output.txt']"
   ]
  },
  {
   "cell_type": "code",
   "execution_count": null,
   "id": "ff2ddbd0",
   "metadata": {
    "scrolled": true
   },
   "outputs": [],
   "source": [
    "# for index, file_ in enumerate(file_lst,1):\n",
    "#     em_index = f'em_{index}'\n",
    "#     columns = ['id','inference',em_index]\n",
    "    \n",
    "#     if index == 1:\n",
    "#         df = pd.read_csv(file_, sep = '\\t', header=None)\n",
    "#         df.columns = columns\n",
    "#     else:\n",
    "#         df_ad = pd.read_csv(file_, sep = '\\t', header=None)\n",
    "#         df_ad.columns = columns\n",
    "#         df[em_index] = df_ad[em_index].values\n",
    "        \n",
    "# print(df)\n",
    "# #        \n",
    "    \n",
    "    "
   ]
  },
  {
   "cell_type": "code",
   "execution_count": null,
   "id": "776ae895",
   "metadata": {},
   "outputs": [],
   "source": [
    "# base_pd = df[df.em_1==True]"
   ]
  },
  {
   "cell_type": "code",
   "execution_count": null,
   "id": "786b6a18",
   "metadata": {},
   "outputs": [],
   "source": [
    "# sum(base_pd.em_1 == False)/len(base_pd)"
   ]
  },
  {
   "cell_type": "code",
   "execution_count": null,
   "id": "f746a866",
   "metadata": {},
   "outputs": [],
   "source": [
    "# sum(base_pd.em_2 == False)/len(base_pd)"
   ]
  },
  {
   "cell_type": "code",
   "execution_count": null,
   "id": "c6386b26",
   "metadata": {},
   "outputs": [],
   "source": [
    "# sum(base_pd.em_3 == False)/len(base_pd)"
   ]
  },
  {
   "cell_type": "code",
   "execution_count": null,
   "id": "51ec0736",
   "metadata": {},
   "outputs": [],
   "source": [
    "# sum(base_pd.em_4 == False)/len(base_pd)"
   ]
  },
  {
   "cell_type": "code",
   "execution_count": null,
   "id": "e2aee599",
   "metadata": {},
   "outputs": [],
   "source": [
    "# sum(base_pd.em_5 == False)/len(base_pd)"
   ]
  },
  {
   "cell_type": "code",
   "execution_count": null,
   "id": "6977caa9",
   "metadata": {},
   "outputs": [],
   "source": [
    "# /data/philhoon-relevance/FiD/results/KILT_RANDOM_NQ/kilt_rand_nq_dev_pos1_context1/final_output.txt\n",
    "list_1 = ['/data/philhoon-relevance/FiD/results/KILT_RANDOM_NQ/kilt_rand_nq_dev_pos1_context2/final_output.txt',\n",
    "'/data/philhoon-relevance/FiD/results/KILT_RANDOM_NQ/kilt_rand_nq_dev_pos2_context2/final_output.txt']\n",
    "\n",
    "list_2 = ['/data/philhoon-relevance/FiD/results/KILT_RANDOM_NQ/kilt_rand_nq_dev_pos1_context3/final_output.txt',\n",
    "'/data/philhoon-relevance/FiD/results/KILT_RANDOM_NQ/kilt_rand_nq_dev_pos2_context3/final_output.txt',\n",
    "'/data/philhoon-relevance/FiD/results/KILT_RANDOM_NQ/kilt_rand_nq_dev_pos3_context3/final_output.txt']\n",
    "\n",
    "list_3 = ['/data/philhoon-relevance/FiD/results/KILT_RANDOM_NQ/kilt_rand_nq_dev_pos1_context4/final_output.txt',\n",
    "'/data/philhoon-relevance/FiD/results/KILT_RANDOM_NQ/kilt_rand_nq_dev_pos2_context4/final_output.txt',\n",
    "'/data/philhoon-relevance/FiD/results/KILT_RANDOM_NQ/kilt_rand_nq_dev_pos3_context4/final_output.txt',\n",
    "'/data/philhoon-relevance/FiD/results/KILT_RANDOM_NQ/kilt_rand_nq_dev_pos4_context4/final_output.txt']\n",
    "\n",
    "list_4 = ['/data/philhoon-relevance/FiD/results/KILT_RANDOM_NQ/kilt_rand_nq_dev_pos1_context5/final_output.txt',\n",
    "'/data/philhoon-relevance/FiD/results/KILT_RANDOM_NQ/kilt_rand_nq_dev_pos2_context5/final_output.txt',\n",
    "'/data/philhoon-relevance/FiD/results/KILT_RANDOM_NQ/kilt_rand_nq_dev_pos3_context5/final_output.txt',\n",
    "'/data/philhoon-relevance/FiD/results/KILT_RANDOM_NQ/kilt_rand_nq_dev_pos4_context5/final_output.txt',\n",
    "'/data/philhoon-relevance/FiD/results/KILT_RANDOM_NQ/kilt_rand_nq_dev_pos5_context5/final_output.txt']"
   ]
  },
  {
   "cell_type": "code",
   "execution_count": null,
   "id": "5f380799",
   "metadata": {},
   "outputs": [],
   "source": [
    "# def matching(file_lst):\n",
    "#     for index, file_ in enumerate(file_lst,1):\n",
    "#         em_index = f'em_{index}'\n",
    "#         columns = ['id','inference',em_index]\n",
    "\n",
    "#         if index == 1:\n",
    "#             df = pd.read_csv(file_, sep = '\\t', header=None)\n",
    "#             df.columns = columns\n",
    "#         else:\n",
    "#             df_ad = pd.read_csv(file_, sep = '\\t', header=None)\n",
    "#             df_ad.columns = columns\n",
    "#             df[em_index] = df_ad[em_index].values\n",
    "            \n",
    "#     base_pd = df[df.em_1==True]\n",
    "    \n",
    "#     return base_pd\n",
    "    \n",
    "    "
   ]
  },
  {
   "cell_type": "code",
   "execution_count": null,
   "id": "ad2a6e28",
   "metadata": {},
   "outputs": [],
   "source": [
    "# base_pd = matching(list_1)"
   ]
  },
  {
   "cell_type": "code",
   "execution_count": null,
   "id": "4e45e5a1",
   "metadata": {},
   "outputs": [],
   "source": [
    "# def compare(base_pd):\n",
    "#     columns = base_pd.columns\n",
    "#     for col_name in columns:\n",
    "#         if col_name == 'em_1':\n",
    "#             print(col_name)\n",
    "#         elif 'em' in col_name:\n",
    "#             print(col_name)\n",
    "#             print(sum(base_pd[col_name] == True))\n",
    "#             print(len(base_pd))"
   ]
  },
  {
   "cell_type": "code",
   "execution_count": null,
   "id": "9e23fa00",
   "metadata": {},
   "outputs": [],
   "source": [
    "# for test_lst in [list_1, list_2, list_3, list_4]:\n",
    "#     base_pd = matching(test_lst)\n",
    "#     compare(base_pd)\n",
    "#     print('---')"
   ]
  },
  {
   "cell_type": "code",
   "execution_count": null,
   "id": "0931bae1",
   "metadata": {},
   "outputs": [],
   "source": [
    "# compare(base_pd)"
   ]
  },
  {
   "cell_type": "code",
   "execution_count": null,
   "id": "774c7947",
   "metadata": {},
   "outputs": [],
   "source": []
  },
  {
   "cell_type": "code",
   "execution_count": null,
   "id": "38875c13",
   "metadata": {},
   "outputs": [],
   "source": []
  },
  {
   "cell_type": "code",
   "execution_count": null,
   "id": "fbea6801",
   "metadata": {},
   "outputs": [],
   "source": []
  },
  {
   "cell_type": "code",
   "execution_count": null,
   "id": "452ffb8e",
   "metadata": {},
   "outputs": [],
   "source": [
    "# sum(base_pd.em_6 == False)"
   ]
  },
  {
   "cell_type": "code",
   "execution_count": null,
   "id": "e34fd1a0",
   "metadata": {},
   "outputs": [],
   "source": []
  },
  {
   "cell_type": "code",
   "execution_count": null,
   "id": "9f772756",
   "metadata": {},
   "outputs": [],
   "source": []
  },
  {
   "cell_type": "code",
   "execution_count": null,
   "id": "96560fcb",
   "metadata": {},
   "outputs": [],
   "source": []
  },
  {
   "cell_type": "code",
   "execution_count": null,
   "id": "5822d6b5",
   "metadata": {},
   "outputs": [],
   "source": []
  },
  {
   "cell_type": "code",
   "execution_count": null,
   "id": "8254728a",
   "metadata": {},
   "outputs": [],
   "source": [
    "# sum(df.em_2 == df.em_6)"
   ]
  },
  {
   "cell_type": "code",
   "execution_count": null,
   "id": "0adc2ef5",
   "metadata": {},
   "outputs": [],
   "source": []
  },
  {
   "cell_type": "code",
   "execution_count": 12,
   "id": "ed46127c",
   "metadata": {},
   "outputs": [
    {
     "name": "stdout",
     "output_type": "stream",
     "text": [
      "/data/philhoon-relevance/FiD/results/KILT_RANDOM_NQ/kilt_rand_nq_dev_pos1_context1/final_output.txt\n",
      "2539\n",
      "/data/philhoon-relevance/FiD/results/KILT_RANDOM_NQ/kilt_rand_nq_dev_pos1_context2/final_output.txt\n",
      "2539\n",
      "/data/philhoon-relevance/FiD/results/KILT_RANDOM_NQ/kilt_rand_nq_dev_pos1_context3/final_output.txt\n",
      "2539\n",
      "/data/philhoon-relevance/FiD/results/KILT_RANDOM_NQ/kilt_rand_nq_dev_pos1_context4/final_output.txt\n",
      "2539\n",
      "/data/philhoon-relevance/FiD/results/KILT_RANDOM_NQ/kilt_rand_nq_dev_pos1_context5/final_output.txt\n",
      "2539\n",
      "/data/philhoon-relevance/FiD/results/KILT_RANDOM_NQ/kilt_rand_nq_dev_pos2_context2/final_output.txt\n",
      "2539\n",
      "/data/philhoon-relevance/FiD/results/KILT_RANDOM_NQ/kilt_rand_nq_dev_pos2_context3/final_output.txt\n",
      "2539\n",
      "/data/philhoon-relevance/FiD/results/KILT_RANDOM_NQ/kilt_rand_nq_dev_pos2_context4/final_output.txt\n",
      "2539\n",
      "/data/philhoon-relevance/FiD/results/KILT_RANDOM_NQ/kilt_rand_nq_dev_pos2_context5/final_output.txt\n",
      "2539\n",
      "/data/philhoon-relevance/FiD/results/KILT_RANDOM_NQ/kilt_rand_nq_dev_pos3_context3/final_output.txt\n",
      "2539\n",
      "/data/philhoon-relevance/FiD/results/KILT_RANDOM_NQ/kilt_rand_nq_dev_pos3_context4/final_output.txt\n",
      "2539\n",
      "/data/philhoon-relevance/FiD/results/KILT_RANDOM_NQ/kilt_rand_nq_dev_pos3_context5/final_output.txt\n",
      "2539\n",
      "/data/philhoon-relevance/FiD/results/KILT_RANDOM_NQ/kilt_rand_nq_dev_pos4_context4/final_output.txt\n",
      "2539\n",
      "/data/philhoon-relevance/FiD/results/KILT_RANDOM_NQ/kilt_rand_nq_dev_pos4_context5/final_output.txt\n",
      "2539\n",
      "/data/philhoon-relevance/FiD/results/KILT_RANDOM_NQ/kilt_rand_nq_dev_pos5_context5/final_output.txt\n",
      "2539\n"
     ]
    }
   ],
   "source": [
    "for pos in range(1, sample_size+1):\n",
    "    for ctx in range(pos, sample_size+1):\n",
    "    \n",
    "#         # bm25 negative filenames\n",
    "#         file_name_ = f'kilt_dpr_nq_dev_pos{pos}_context{ctx}'\n",
    "\n",
    "        # random sampling negative filenames\n",
    "        if option == 'random':\n",
    "            file_name_ = f'kilt_rand_nq_dev_pos{pos}_context{ctx}'\n",
    "            file = list(path.glob(f'*{file_name_}*/*.txt'))\n",
    "            test = file[0] \n",
    "        # DPR should be changed to bm25\n",
    "        if option == 'bm25':\n",
    "            file_name_ = f'kilt_bm25_nq_dev_pos{pos}_context{ctx}'\n",
    "            file = list(path.glob(f'*{file_name_}*/*.txt'))\n",
    "            test = file[0] \n",
    "        \n",
    "        print(test)\n",
    "        \n",
    "        df = pd.read_csv(test, sep = '\\t', header=None)\n",
    "        df.columns = ['id','inference','em']\n",
    "        print(len(df))\n",
    "        em = float(sum(df['em'])/len(df))\n",
    "        \n",
    "        dict_eval['pos'].append(pos)\n",
    "        dict_eval['ctx'].append(ctx)\n",
    "        dict_eval['em'].append(em)"
   ]
  },
  {
   "cell_type": "code",
   "execution_count": null,
   "id": "661fd0a6",
   "metadata": {},
   "outputs": [],
   "source": []
  },
  {
   "cell_type": "code",
   "execution_count": null,
   "id": "42894177",
   "metadata": {},
   "outputs": [],
   "source": []
  },
  {
   "cell_type": "code",
   "execution_count": null,
   "id": "62d32995",
   "metadata": {},
   "outputs": [],
   "source": []
  },
  {
   "cell_type": "code",
   "execution_count": null,
   "id": "785e69bf",
   "metadata": {},
   "outputs": [],
   "source": [
    "# test"
   ]
  },
  {
   "cell_type": "code",
   "execution_count": 39,
   "id": "f6cbb8ad",
   "metadata": {},
   "outputs": [],
   "source": [
    "df = pd.DataFrame(data=dict_eval)\n",
    "# print(dict_eval)\n",
    "\n",
    "pos_set = set(df['pos'])"
   ]
  },
  {
   "cell_type": "code",
   "execution_count": 40,
   "id": "befb60c1",
   "metadata": {},
   "outputs": [],
   "source": [
    "from cycler import cycler\n",
    "# marker='*',\n",
    "# default_cycler = (cycler(markers=['1', '2', '3' ,'4','8']))\n",
    "c = plt.cycler(color=[\"Blue\", \"Orange\", \"Green\",'Red','Purple'],\n",
    "               markersize=[10, 10, 10, 10, 10],\n",
    "               marker=[\"o\", \"s\", \"^\", '1', '3'])\n",
    "plt.rcParams[\"axes.prop_cycle\"] = c\n",
    "\n",
    "# plt.rc('axes', prop_cycle=default_cycler)"
   ]
  },
  {
   "cell_type": "code",
   "execution_count": 41,
   "id": "042c42c1",
   "metadata": {},
   "outputs": [
    {
     "data": {
      "text/html": [
       "<div>\n",
       "<style scoped>\n",
       "    .dataframe tbody tr th:only-of-type {\n",
       "        vertical-align: middle;\n",
       "    }\n",
       "\n",
       "    .dataframe tbody tr th {\n",
       "        vertical-align: top;\n",
       "    }\n",
       "\n",
       "    .dataframe thead th {\n",
       "        text-align: right;\n",
       "    }\n",
       "</style>\n",
       "<table border=\"1\" class=\"dataframe\">\n",
       "  <thead>\n",
       "    <tr style=\"text-align: right;\">\n",
       "      <th></th>\n",
       "      <th>pos</th>\n",
       "      <th>ctx</th>\n",
       "      <th>em</th>\n",
       "    </tr>\n",
       "  </thead>\n",
       "  <tbody>\n",
       "    <tr>\n",
       "      <th>0</th>\n",
       "      <td>1</td>\n",
       "      <td>1</td>\n",
       "      <td>0.678614</td>\n",
       "    </tr>\n",
       "    <tr>\n",
       "      <th>1</th>\n",
       "      <td>1</td>\n",
       "      <td>2</td>\n",
       "      <td>0.681371</td>\n",
       "    </tr>\n",
       "    <tr>\n",
       "      <th>2</th>\n",
       "      <td>1</td>\n",
       "      <td>3</td>\n",
       "      <td>0.682158</td>\n",
       "    </tr>\n",
       "    <tr>\n",
       "      <th>3</th>\n",
       "      <td>1</td>\n",
       "      <td>4</td>\n",
       "      <td>0.683734</td>\n",
       "    </tr>\n",
       "    <tr>\n",
       "      <th>4</th>\n",
       "      <td>1</td>\n",
       "      <td>5</td>\n",
       "      <td>0.682946</td>\n",
       "    </tr>\n",
       "    <tr>\n",
       "      <th>5</th>\n",
       "      <td>2</td>\n",
       "      <td>2</td>\n",
       "      <td>0.681371</td>\n",
       "    </tr>\n",
       "    <tr>\n",
       "      <th>6</th>\n",
       "      <td>2</td>\n",
       "      <td>3</td>\n",
       "      <td>0.682158</td>\n",
       "    </tr>\n",
       "    <tr>\n",
       "      <th>7</th>\n",
       "      <td>2</td>\n",
       "      <td>4</td>\n",
       "      <td>0.683734</td>\n",
       "    </tr>\n",
       "    <tr>\n",
       "      <th>8</th>\n",
       "      <td>2</td>\n",
       "      <td>5</td>\n",
       "      <td>0.682946</td>\n",
       "    </tr>\n",
       "    <tr>\n",
       "      <th>9</th>\n",
       "      <td>3</td>\n",
       "      <td>3</td>\n",
       "      <td>0.682158</td>\n",
       "    </tr>\n",
       "    <tr>\n",
       "      <th>10</th>\n",
       "      <td>3</td>\n",
       "      <td>4</td>\n",
       "      <td>0.683734</td>\n",
       "    </tr>\n",
       "    <tr>\n",
       "      <th>11</th>\n",
       "      <td>3</td>\n",
       "      <td>5</td>\n",
       "      <td>0.682946</td>\n",
       "    </tr>\n",
       "    <tr>\n",
       "      <th>12</th>\n",
       "      <td>4</td>\n",
       "      <td>4</td>\n",
       "      <td>0.683734</td>\n",
       "    </tr>\n",
       "    <tr>\n",
       "      <th>13</th>\n",
       "      <td>4</td>\n",
       "      <td>5</td>\n",
       "      <td>0.682946</td>\n",
       "    </tr>\n",
       "    <tr>\n",
       "      <th>14</th>\n",
       "      <td>5</td>\n",
       "      <td>5</td>\n",
       "      <td>0.682946</td>\n",
       "    </tr>\n",
       "  </tbody>\n",
       "</table>\n",
       "</div>"
      ],
      "text/plain": [
       "    pos  ctx        em\n",
       "0     1    1  0.678614\n",
       "1     1    2  0.681371\n",
       "2     1    3  0.682158\n",
       "3     1    4  0.683734\n",
       "4     1    5  0.682946\n",
       "5     2    2  0.681371\n",
       "6     2    3  0.682158\n",
       "7     2    4  0.683734\n",
       "8     2    5  0.682946\n",
       "9     3    3  0.682158\n",
       "10    3    4  0.683734\n",
       "11    3    5  0.682946\n",
       "12    4    4  0.683734\n",
       "13    4    5  0.682946\n",
       "14    5    5  0.682946"
      ]
     },
     "execution_count": 41,
     "metadata": {},
     "output_type": "execute_result"
    }
   ],
   "source": [
    "df"
   ]
  },
  {
   "cell_type": "code",
   "execution_count": 42,
   "id": "5e474c6e",
   "metadata": {},
   "outputs": [],
   "source": [
    "# plot_path = './img/KILTNQ_fid_randomnegatives.pdf'"
   ]
  },
  {
   "cell_type": "code",
   "execution_count": 43,
   "id": "aeb0b2b0",
   "metadata": {
    "scrolled": false
   },
   "outputs": [
    {
     "data": {
      "image/png": "[encoded data removed]",
      "text/plain": [
       "<Figure size 800x800 with 1 Axes>"
      ]
     },
     "metadata": {},
     "output_type": "display_data"
    }
   ],
   "source": [
    "fig, ax = plt.subplots(1, 1, figsize=(4, 4))\n",
    "ax.set_xticks(sorted(list(pos_set)))\n",
    "for pos in pos_set:\n",
    "    selected_data = df.loc[df['pos'] == pos]\n",
    "#     print(selected_data)\n",
    "    ax.plot(selected_data['ctx'], selected_data['em'], label=pos, alpha = 0.5, linewidth=5)\n",
    "    \n",
    "# ax.set_title('FiD result on BM25 hard negative nq dev subsets')\n",
    "# ax.set_title(title)\n",
    "ax.legend(title='Gold passage position', fontsize = 'medium', loc='lower right')\n",
    "plt.xlabel('Number of Context')\n",
    "# plt.savefig(plot_path, format=\"pdf\", bbox_inches=\"tight\")\n",
    "plt.show()"
   ]
  },
  {
   "cell_type": "code",
   "execution_count": null,
   "id": "6b048039",
   "metadata": {},
   "outputs": [],
   "source": []
  }
 ],
 "metadata": {
  "kernelspec": {
   "display_name": "relevance-kilt",
   "language": "python",
   "name": "relevance-kilt"
  },
  "language_info": {
   "codemirror_mode": {
    "name": "ipython",
    "version": 3
   },
   "file_extension": ".py",
   "mimetype": "text/x-python",
   "name": "python",
   "nbconvert_exporter": "python",
   "pygments_lexer": "ipython3",
   "version": "3.8.13"
  }
 },
 "nbformat": 4,
 "nbformat_minor": 5
}
