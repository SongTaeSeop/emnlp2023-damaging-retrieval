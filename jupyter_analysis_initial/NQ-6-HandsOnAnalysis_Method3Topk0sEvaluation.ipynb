{
 "cells": [
  {
   "cell_type": "markdown",
   "id": "e86601ea",
   "metadata": {},
   "source": [
    "# NQ-6-HandsOnAnalysis_Method3Topk0sEvaluation"
   ]
  },
  {
   "cell_type": "markdown",
   "id": "c49f712c",
   "metadata": {},
   "source": [
    "- NQ dev with FiD retrieved passages\n",
    "    - Method3. '00011011000'  -> \n",
    "<span style=\"color:blue\">0</span><span style=\"color:blue\">0</span><span style=\"color:blue\">0</span><span style=\"color:red\">1</span></span><span style=\"color:red\">1</span>0<span style=\"color:red\">1</span></span><span style=\"color:red\">1</span>000  (__0.57839__)     \n",
    "\n",
    "- Both cases show that including consecutive 0s improved the overall output\n",
    "- So Questions : How many consecutive 0s are needed?\n",
    "    - Creating DATASET with Method3 with Top0s from 1 ~ 5\n",
    "    \n",
    "- __Evaluating DATASET from NQ-5-HandsOnAnalysisMethod3Topk0sDataset__\n",
    "    - here sample_size = 20 or 100"
   ]
  },
  {
   "cell_type": "code",
   "execution_count": 1,
   "id": "434f76e1",
   "metadata": {},
   "outputs": [],
   "source": [
    "from cycler import cycler\n",
    "import numpy as np\n",
    "import seaborn as sns\n",
    "import matplotlib as mpl\n",
    "import pathlib\n",
    "from pprint import pprint\n",
    "import pandas as pd\n",
    "import matplotlib.pyplot as plt\n",
    "import os\n",
    "from rich.console import Console\n",
    "from rich.table import Table\n",
    "from util import utils\n",
    "import re"
   ]
  },
  {
   "cell_type": "code",
   "execution_count": 2,
   "id": "4bd7e04f",
   "metadata": {},
   "outputs": [],
   "source": [
    "def get_table(title, columns, rows):\n",
    "\n",
    "    table = Table(title=title)\n",
    "    \n",
    "    table.add_column(\"\", justify=\"center\")\n",
    "    for column in columns:\n",
    "        table.add_column(column, justify=\"center\")\n",
    "    \n",
    "    for row in rows:\n",
    "        table.add_row(*row)\n",
    "        \n",
    "\n",
    "    console = Console(record=True)\n",
    "    console.print(table, justify=\"center\")\n",
    "#     console.save_text(f\"./images/{title}\")"
   ]
  },
  {
   "cell_type": "code",
   "execution_count": 3,
   "id": "171f41f3",
   "metadata": {},
   "outputs": [],
   "source": [
    "raw_light_palette = [\n",
    "    (0, 122, 255), # Blue\n",
    "    (255, 149, 0), # Orange\n",
    "    (52, 199, 89), # Green\n",
    "    (255, 59, 48), # Red\n",
    "    (175, 82, 222),# Purple\n",
    "    (255, 45, 85), # Pink\n",
    "    (88, 86, 214), # Indigo\n",
    "    (90, 200, 250),# Teal\n",
    "    (255, 204, 0)  # Yellow\n",
    "]\n",
    "\n",
    "raw_gray_light_palette = [\n",
    "    (142, 142, 147),# Gray\n",
    "    (174, 174, 178),# Gray (2)\n",
    "    (199, 199, 204),# Gray (3)\n",
    "    (209, 209, 214),# Gray (4)\n",
    "    (229, 229, 234),# Gray (5)\n",
    "    (242, 242, 247),# Gray (6)\n",
    "]\n",
    "\n",
    "\n",
    "light_palette = np.array(raw_light_palette)/255\n",
    "gray_light_palette = np.array(raw_gray_light_palette)/255"
   ]
  },
  {
   "cell_type": "code",
   "execution_count": 4,
   "id": "fa90290f",
   "metadata": {},
   "outputs": [
    {
     "name": "stdout",
     "output_type": "stream",
     "text": [
      "Light mode palette\n"
     ]
    },
    {
     "data": {
      "image/png": "[encoded data removed]",
      "text/plain": [
       "<Figure size 900x100 with 1 Axes>"
      ]
     },
     "metadata": {},
     "output_type": "display_data"
    },
    {
     "data": {
      "image/png": "[encoded data removed]",
      "text/plain": [
       "<Figure size 600x100 with 1 Axes>"
      ]
     },
     "metadata": {},
     "output_type": "display_data"
    }
   ],
   "source": [
    "print('Light mode palette')\n",
    "sns.palplot(light_palette)\n",
    "sns.palplot(gray_light_palette)"
   ]
  },
  {
   "cell_type": "code",
   "execution_count": 5,
   "id": "add1657d",
   "metadata": {},
   "outputs": [],
   "source": [
    "# cmap 수정\n",
    "mpl.rcParams['axes.prop_cycle'] = cycler('color',light_palette)\n",
    "# 해상도 조정\n",
    "mpl.rcParams['figure.dpi'] = 200\n",
    "# ax의 우측과 상단 지우기\n",
    "mpl.rcParams['axes.spines.top'] = False\n",
    "mpl.rcParams['axes.spines.right'] = False"
   ]
  },
  {
   "cell_type": "markdown",
   "id": "d4c7c0a3",
   "metadata": {},
   "source": [
    "## KILT BM25 NQ negative (from DPR) depreciated"
   ]
  },
  {
   "cell_type": "code",
   "execution_count": 6,
   "id": "4e9ae4ae",
   "metadata": {},
   "outputs": [],
   "source": [
    "# option = 'bm25'\n",
    "# path = '/data/philhoon-relevance/FiD/results/KILT_DPR_NQ'\n",
    "# # path = '/data/philhoon-relevance/FiD/results/KILT_DPR_NQ_depreciated'\n",
    "# plot_path = './img/FiDResultOnBM25HardnegativeNQdevSubsets.png'\n",
    "# title = 'FiD result on BM25 negative nq dev subsets'"
   ]
  },
  {
   "cell_type": "markdown",
   "id": "b69b594e",
   "metadata": {},
   "source": [
    "## KILT Random Sampling NQ negative  depreciated"
   ]
  },
  {
   "cell_type": "code",
   "execution_count": 7,
   "id": "db0ca387",
   "metadata": {},
   "outputs": [],
   "source": [
    "# option = 'random'\n",
    "# path = '/data/philhoon-relevance/FiD/results/KILT_RANDOM_NQ'\n",
    "# plot_path = './img/FiDResultOnRandomSamplingnegativeNQdevSubsets.png'\n",
    "# title = 'FiD result on random sampling negative nq dev subsets'"
   ]
  },
  {
   "cell_type": "markdown",
   "id": "4d94b03f",
   "metadata": {},
   "source": [
    "## KILT BM25 NQ negative (from DPR)"
   ]
  },
  {
   "cell_type": "code",
   "execution_count": 8,
   "id": "779c7a4d",
   "metadata": {},
   "outputs": [],
   "source": [
    "# option = 'bm25'\n",
    "# path = '/data/philhoon-relevance/FiD/results/KILT_BM25_NQ'"
   ]
  },
  {
   "cell_type": "markdown",
   "id": "ce828108",
   "metadata": {},
   "source": [
    "## KILT Random Sampling NQ negative "
   ]
  },
  {
   "cell_type": "code",
   "execution_count": 9,
   "id": "580e7bce",
   "metadata": {},
   "outputs": [],
   "source": [
    "# option = 'random'\n",
    "# path = '/data/philhoon-relevance/FiD/results/KILT_RANDOM_NQ'\n",
    "# plot_path = './img/New_FiDResultOnRandomSamplingnegativeNQdev2539.png'\n",
    "# title = 'New FiD result on random sampling negative nq dev subsets'"
   ]
  },
  {
   "cell_type": "code",
   "execution_count": 10,
   "id": "94004efd",
   "metadata": {},
   "outputs": [],
   "source": [
    "# path = pathlib.Path(path)"
   ]
  },
  {
   "cell_type": "code",
   "execution_count": 11,
   "id": "681b78f3",
   "metadata": {},
   "outputs": [],
   "source": [
    "# files = path.glob('**/*.txt')\n",
    "# pprint(list(files))"
   ]
  },
  {
   "cell_type": "code",
   "execution_count": 12,
   "id": "7fc8fc4d",
   "metadata": {},
   "outputs": [],
   "source": [
    "# dict_eval = {\n",
    "#     'pos' : [],\n",
    "#     'ctx' : [],\n",
    "#     'em' : []\n",
    "# }\n",
    "\n",
    "# sample_size = 5\n",
    "# for pos in range(1, sample_size+1):\n",
    "#     for ctx in range(pos, sample_size+1):\n",
    "    \n",
    "# #         # bm25 negative filenames\n",
    "# #         file_name_ = f'kilt_dpr_nq_dev_pos{pos}_context{ctx}'\n",
    "\n",
    "#         # random sampling negative filenames\n",
    "#         if option == 'random':\n",
    "#             file_name_ = f'kilt_rand_nq_dev_pos{pos}_context{ctx}'\n",
    "#             file = list(path.glob(f'*{file_name_}*/*.txt'))\n",
    "#             test = file[0] \n",
    "#         # DPR should be changed to bm25\n",
    "#         if option == 'bm25':\n",
    "#             file_name_ = f'kilt_bm25_nq_dev_pos{pos}_context{ctx}'\n",
    "#             file = list(path.glob(f'*{file_name_}*/*.txt'))\n",
    "#             test = file[0] \n",
    "        \n",
    "#         print(test)\n",
    "        \n",
    "#         df = pd.read_csv(test, sep = '\\t', header=None)\n",
    "#         df.columns = ['id','inference','em']\n",
    "#         print(len(df))\n",
    "#         em = float(sum(df['em'])/len(df))\n",
    "        \n",
    "#         dict_eval['pos'].append(pos)\n",
    "#         dict_eval['ctx'].append(ctx)\n",
    "#         dict_eval['em'].append(em)\n",
    "        \n",
    "        "
   ]
  },
  {
   "cell_type": "markdown",
   "id": "22eba964",
   "metadata": {},
   "source": [
    "## KILT BM25 NQ incremetal result (from DPR)\n",
    "    -  Get upperbound & lowerBound"
   ]
  },
  {
   "cell_type": "code",
   "execution_count": 13,
   "id": "605136ee",
   "metadata": {},
   "outputs": [],
   "source": [
    "# # '/data/philhoon-relevance/FiD/results/KILT_BM25_NQ/incremental_result/pos1_ctx1.json'\n",
    "# pos = 1\n",
    "# sample_size = 5\n",
    "# path2 = '/data/philhoon-relevance/FiD/results/KILT_BM25_NQ/incremental_result/'"
   ]
  },
  {
   "cell_type": "code",
   "execution_count": 14,
   "id": "8e22e003",
   "metadata": {},
   "outputs": [],
   "source": [
    "# path2 = pathlib.Path(path2)\n",
    "# files = path2.glob(f'pos{pos}*.txt')\n",
    "# pprint(list(files))"
   ]
  },
  {
   "cell_type": "markdown",
   "id": "5d711581",
   "metadata": {},
   "source": [
    "## NQ DPR NQ incremetal result \n",
    "    - Realistic Scenario\n",
    "    - Get upperbound & lowerBound\n",
    "    - Unlike preivous one\n",
    "    - Upperbound : Accumulated EM of FiD from from top_20\n",
    "    - Lowerbound : EM of FiD from DPR retrived from top_20\n",
    "    - Values : 16 Selection Strategies"
   ]
  },
  {
   "cell_type": "markdown",
   "id": "36cc6458",
   "metadata": {},
   "source": [
    "### Lowerbound : EM of FiD from DPR retrived from top_{sample_size}\n",
    "- sample_size = 20 or 100"
   ]
  },
  {
   "cell_type": "code",
   "execution_count": 15,
   "id": "e5ae38cb",
   "metadata": {},
   "outputs": [],
   "source": [
    "sample_size = 100"
   ]
  },
  {
   "cell_type": "code",
   "execution_count": 16,
   "id": "e0e36b23",
   "metadata": {},
   "outputs": [],
   "source": [
    "path = '/data/philhoon-relevance/FiD/results/NQ_DPR/DEV'\n",
    "title = 'FiD result by number of passage on DPR retrieved dataset'\n",
    "path = pathlib.Path(path)"
   ]
  },
  {
   "cell_type": "code",
   "execution_count": 17,
   "id": "1578acd2",
   "metadata": {},
   "outputs": [],
   "source": [
    "path = pathlib.Path(path)"
   ]
  },
  {
   "cell_type": "code",
   "execution_count": 18,
   "id": "3a284a03",
   "metadata": {
    "scrolled": true
   },
   "outputs": [],
   "source": [
    "# files = path.glob('**/final_output.txt')\n",
    "# pprint(sorted(list(files)))"
   ]
  },
  {
   "cell_type": "code",
   "execution_count": 19,
   "id": "090ff42e",
   "metadata": {
    "scrolled": false
   },
   "outputs": [
    {
     "name": "stdout",
     "output_type": "stream",
     "text": [
      "NQ_dev_1_context\n",
      "NQ_dev_2_context\n",
      "NQ_dev_3_context\n",
      "NQ_dev_4_context\n",
      "NQ_dev_5_context\n",
      "NQ_dev_6_context\n",
      "NQ_dev_7_context\n",
      "NQ_dev_8_context\n",
      "NQ_dev_9_context\n",
      "NQ_dev_10_context\n",
      "NQ_dev_11_context\n",
      "NQ_dev_12_context\n",
      "NQ_dev_13_context\n",
      "NQ_dev_14_context\n",
      "NQ_dev_15_context\n",
      "NQ_dev_16_context\n",
      "NQ_dev_17_context\n",
      "NQ_dev_18_context\n",
      "NQ_dev_19_context\n",
      "NQ_dev_20_context\n",
      "NQ_dev_21_context\n",
      "NQ_dev_22_context\n",
      "NQ_dev_23_context\n",
      "NQ_dev_24_context\n",
      "NQ_dev_25_context\n",
      "NQ_dev_26_context\n",
      "NQ_dev_27_context\n",
      "NQ_dev_28_context\n",
      "NQ_dev_29_context\n",
      "NQ_dev_30_context\n",
      "NQ_dev_31_context\n",
      "NQ_dev_32_context\n",
      "NQ_dev_33_context\n",
      "NQ_dev_34_context\n",
      "NQ_dev_35_context\n",
      "NQ_dev_36_context\n",
      "NQ_dev_37_context\n",
      "NQ_dev_38_context\n",
      "NQ_dev_39_context\n",
      "NQ_dev_40_context\n",
      "NQ_dev_41_context\n",
      "NQ_dev_42_context\n",
      "NQ_dev_43_context\n",
      "NQ_dev_44_context\n",
      "NQ_dev_45_context\n",
      "NQ_dev_46_context\n",
      "NQ_dev_47_context\n",
      "NQ_dev_48_context\n",
      "NQ_dev_49_context\n",
      "NQ_dev_50_context\n",
      "NQ_dev_51_context\n",
      "NQ_dev_52_context\n",
      "NQ_dev_53_context\n",
      "NQ_dev_54_context\n",
      "NQ_dev_55_context\n",
      "NQ_dev_56_context\n",
      "NQ_dev_57_context\n",
      "NQ_dev_58_context\n",
      "NQ_dev_59_context\n",
      "NQ_dev_60_context\n",
      "NQ_dev_61_context\n",
      "NQ_dev_62_context\n",
      "NQ_dev_63_context\n",
      "NQ_dev_64_context\n",
      "NQ_dev_65_context\n",
      "NQ_dev_66_context\n",
      "NQ_dev_67_context\n",
      "NQ_dev_68_context\n",
      "NQ_dev_69_context\n",
      "NQ_dev_70_context\n",
      "NQ_dev_71_context\n",
      "NQ_dev_72_context\n",
      "NQ_dev_73_context\n",
      "NQ_dev_74_context\n",
      "NQ_dev_75_context\n",
      "NQ_dev_76_context\n",
      "NQ_dev_77_context\n",
      "NQ_dev_78_context\n",
      "NQ_dev_79_context\n",
      "NQ_dev_80_context\n",
      "NQ_dev_81_context\n",
      "NQ_dev_82_context\n",
      "NQ_dev_83_context\n",
      "NQ_dev_84_context\n",
      "NQ_dev_85_context\n",
      "NQ_dev_86_context\n",
      "NQ_dev_87_context\n",
      "NQ_dev_88_context\n",
      "NQ_dev_89_context\n",
      "NQ_dev_90_context\n",
      "NQ_dev_91_context\n",
      "NQ_dev_92_context\n",
      "NQ_dev_93_context\n",
      "NQ_dev_94_context\n",
      "NQ_dev_95_context\n",
      "NQ_dev_96_context\n",
      "NQ_dev_97_context\n",
      "NQ_dev_98_context\n",
      "NQ_dev_99_context\n",
      "NQ_dev_100_context\n"
     ]
    }
   ],
   "source": [
    "normal_eval = {\n",
    "    'ctx' : [],\n",
    "    'em' : []\n",
    "}\n",
    "\n",
    "\n",
    "\n",
    "for ctx in range(1, sample_size+1):\n",
    "    file_name_ = f'NQ_dev_{ctx}_context'\n",
    "    file_path = list(path.glob(f'**/{file_name_}*/*.txt'))\n",
    "    \n",
    "    test = file_path[0]\n",
    "    print(file_name_)\n",
    "    df = pd.read_csv(test, sep = '\\t', header=None)\n",
    "    df.columns = ['id','inference','em']\n",
    "#     print(len(df))\n",
    "    em = float(sum(df['em'])/len(df))\n",
    "        \n",
    "    normal_eval['ctx'].append(ctx)\n",
    "    normal_eval['em'].append(em)\n",
    "        \n",
    "        "
   ]
  },
  {
   "cell_type": "code",
   "execution_count": 20,
   "id": "71376924",
   "metadata": {
    "scrolled": false
   },
   "outputs": [
    {
     "name": "stdout",
     "output_type": "stream",
     "text": [
      "{'ctx': [1,\n",
      "         2,\n",
      "         3,\n",
      "         4,\n",
      "         5,\n",
      "         6,\n",
      "         7,\n",
      "         8,\n",
      "         9,\n",
      "         10,\n",
      "         11,\n",
      "         12,\n",
      "         13,\n",
      "         14,\n",
      "         15,\n",
      "         16,\n",
      "         17,\n",
      "         18,\n",
      "         19,\n",
      "         20,\n",
      "         21,\n",
      "         22,\n",
      "         23,\n",
      "         24,\n",
      "         25,\n",
      "         26,\n",
      "         27,\n",
      "         28,\n",
      "         29,\n",
      "         30,\n",
      "         31,\n",
      "         32,\n",
      "         33,\n",
      "         34,\n",
      "         35,\n",
      "         36,\n",
      "         37,\n",
      "         38,\n",
      "         39,\n",
      "         40,\n",
      "         41,\n",
      "         42,\n",
      "         43,\n",
      "         44,\n",
      "         45,\n",
      "         46,\n",
      "         47,\n",
      "         48,\n",
      "         49,\n",
      "         50,\n",
      "         51,\n",
      "         52,\n",
      "         53,\n",
      "         54,\n",
      "         55,\n",
      "         56,\n",
      "         57,\n",
      "         58,\n",
      "         59,\n",
      "         60,\n",
      "         61,\n",
      "         62,\n",
      "         63,\n",
      "         64,\n",
      "         65,\n",
      "         66,\n",
      "         67,\n",
      "         68,\n",
      "         69,\n",
      "         70,\n",
      "         71,\n",
      "         72,\n",
      "         73,\n",
      "         74,\n",
      "         75,\n",
      "         76,\n",
      "         77,\n",
      "         78,\n",
      "         79,\n",
      "         80,\n",
      "         81,\n",
      "         82,\n",
      "         83,\n",
      "         84,\n",
      "         85,\n",
      "         86,\n",
      "         87,\n",
      "         88,\n",
      "         89,\n",
      "         90,\n",
      "         91,\n",
      "         92,\n",
      "         93,\n",
      "         94,\n",
      "         95,\n",
      "         96,\n",
      "         97,\n",
      "         98,\n",
      "         99,\n",
      "         100],\n",
      " 'em': [0.34246888203722736,\n",
      "        0.4015073655361425,\n",
      "        0.42948498344181796,\n",
      "        0.44661413726161925,\n",
      "        0.4580335731414868,\n",
      "        0.46488523466940734,\n",
      "        0.47173689619732784,\n",
      "        0.4765330592668722,\n",
      "        0.4779033915724563,\n",
      "        0.4821285828480073,\n",
      "        0.48452666438277947,\n",
      "        0.4877241064291424,\n",
      "        0.4904647710403106,\n",
      "        0.49446157359826426,\n",
      "        0.495946100262647,\n",
      "        0.49548932282745234,\n",
      "        0.49720223820943243,\n",
      "        0.49960031974420466,\n",
      "        0.5006280689733927,\n",
      "        0.5021125956377754,\n",
      "        0.5046248715313464,\n",
      "        0.5050816489665411,\n",
      "        0.5054242320429371,\n",
      "        0.5074797305013132,\n",
      "        0.5081648966541052,\n",
      "        0.5073655361425146,\n",
      "        0.5098778120360854,\n",
      "        0.5113623387004682,\n",
      "        0.5114765330592669,\n",
      "        0.5122758935708576,\n",
      "        0.5129610597236497,\n",
      "        0.5147881694644284,\n",
      "        0.5152449468996232,\n",
      "        0.5158159186936165,\n",
      "        0.5159301130524152,\n",
      "        0.5169578622816033,\n",
      "        0.517414639716798,\n",
      "        0.51809980586959,\n",
      "        0.517757222793194,\n",
      "        0.5183281945871874,\n",
      "        0.518442388945986,\n",
      "        0.51809980586959,\n",
      "        0.5185565833047847,\n",
      "        0.5183281945871874,\n",
      "        0.5185565833047847,\n",
      "        0.5192417494575768,\n",
      "        0.5204978874043622,\n",
      "        0.5207262761219595,\n",
      "        0.5211830535571543,\n",
      "        0.5208404704807582,\n",
      "        0.5214114422747517,\n",
      "        0.5215256366335503,\n",
      "        0.5220966084275437,\n",
      "        0.5215256366335503,\n",
      "        0.521982414068745,\n",
      "        0.5220966084275437,\n",
      "        0.5220966084275437,\n",
      "        0.5214114422747517,\n",
      "        0.521639830992349,\n",
      "        0.521982414068745,\n",
      "        0.522667580221537,\n",
      "        0.522667580221537,\n",
      "        0.5233527463743292,\n",
      "        0.5236953294507252,\n",
      "        0.5236953294507252,\n",
      "        0.5234669407331278,\n",
      "        0.5234669407331278,\n",
      "        0.5232385520155304,\n",
      "        0.5239237181683225,\n",
      "        0.5241521068859198,\n",
      "        0.5242663012447185,\n",
      "        0.5244946899623159,\n",
      "        0.5243804956035172,\n",
      "        0.5247230786799132,\n",
      "        0.5242663012447185,\n",
      "        0.5244946899623159,\n",
      "        0.5243804956035172,\n",
      "        0.5247230786799132,\n",
      "        0.5250656617563092,\n",
      "        0.5251798561151079,\n",
      "        0.5256366335503027,\n",
      "        0.5250656617563092,\n",
      "        0.5251798561151079,\n",
      "        0.5254082448327053,\n",
      "        0.525522439191504,\n",
      "        0.5252940504739065,\n",
      "        0.5257508279091013,\n",
      "        0.5252940504739065,\n",
      "        0.5254082448327053,\n",
      "        0.5254082448327053,\n",
      "        0.5251798561151079,\n",
      "        0.5249514673975105,\n",
      "        0.5247230786799132,\n",
      "        0.5249514673975105,\n",
      "        0.5254082448327053,\n",
      "        0.5258650222679,\n",
      "        0.5250656617563092,\n",
      "        0.5252940504739065,\n",
      "        0.5246088843211145,\n",
      "        0.5254082448327053]}\n"
     ]
    }
   ],
   "source": [
    "pprint(normal_eval)"
   ]
  },
  {
   "cell_type": "code",
   "execution_count": 21,
   "id": "b7225a7f",
   "metadata": {},
   "outputs": [],
   "source": [
    "def get_lowerbound(incre_em):\n",
    "    index_min = np.argmin(incre_em['em'])\n",
    "    return incre_em['ctx'][index_min], incre_em['em'][index_min]"
   ]
  },
  {
   "cell_type": "code",
   "execution_count": 22,
   "id": "bb54ac6d",
   "metadata": {},
   "outputs": [],
   "source": [
    "def get_upperbound(incre_em):\n",
    "    index_max = np.argmax(incre_em['em'])\n",
    "    return incre_em['ctx'][index_max], incre_em['em'][index_max]"
   ]
  },
  {
   "cell_type": "markdown",
   "id": "994a22c3",
   "metadata": {},
   "source": [
    "##### Maximum of EM of FiD from DPR retrived from top_20\n",
    "    - Used as lower bound\n",
    "    \n",
    "##### Minimum of EM of FiD from DPR retrived from top_20\n",
    "    - Won't be used"
   ]
  },
  {
   "cell_type": "code",
   "execution_count": 23,
   "id": "a750eb48",
   "metadata": {},
   "outputs": [
    {
     "name": "stdout",
     "output_type": "stream",
     "text": [
      "96 0.5258650222679\n"
     ]
    }
   ],
   "source": [
    "upper_ctx, upper_em = get_upperbound(normal_eval)\n",
    "print(upper_ctx, upper_em)\n",
    "flower_ctx, flower_em = upper_ctx, upper_em"
   ]
  },
  {
   "cell_type": "code",
   "execution_count": 24,
   "id": "a101fd12",
   "metadata": {},
   "outputs": [
    {
     "name": "stdout",
     "output_type": "stream",
     "text": [
      "1 0.34246888203722736\n"
     ]
    }
   ],
   "source": [
    "lower_ctx, lower_em = get_lowerbound(normal_eval)\n",
    "print(lower_ctx, lower_em)"
   ]
  },
  {
   "cell_type": "markdown",
   "id": "9c5f534e",
   "metadata": {},
   "source": [
    "### Upperbound : Accumulated EM of FiD from DPR retrived from top_20"
   ]
  },
  {
   "cell_type": "code",
   "execution_count": 25,
   "id": "8a9bd424",
   "metadata": {},
   "outputs": [],
   "source": [
    "# sample_size = 100\n",
    "input_file = f'/data/philhoon-relevance/FiD/results/NQ_DPR/DEV/incremental_result_{sample_size}/ctx{sample_size}.json'"
   ]
  },
  {
   "cell_type": "code",
   "execution_count": 26,
   "id": "167b67d7",
   "metadata": {},
   "outputs": [],
   "source": [
    "final_output = utils.open_json(input_file)"
   ]
  },
  {
   "cell_type": "code",
   "execution_count": 27,
   "id": "3f4747c4",
   "metadata": {},
   "outputs": [],
   "source": [
    "def extract_em_pattern(final_output):\n",
    "    em_pattern_lst = []\n",
    "    for instance in final_output:\n",
    "        em_pattern_lst.append(instance['em_pattern'])\n",
    "    return em_pattern_lst"
   ]
  },
  {
   "cell_type": "code",
   "execution_count": 28,
   "id": "1c125358",
   "metadata": {},
   "outputs": [],
   "source": [
    "em_pattnern_lst = extract_em_pattern(final_output)"
   ]
  },
  {
   "cell_type": "code",
   "execution_count": 29,
   "id": "2736149a",
   "metadata": {},
   "outputs": [],
   "source": [
    "def get_accumulated_em(em_pattnern_lst, sample_size):\n",
    "    incre_em = {\n",
    "        'ctx' : [],\n",
    "        'em' : [],   \n",
    "    }\n",
    "    for ctx in range(1, sample_size+1):\n",
    "        incre_em['ctx'].append(ctx)\n",
    "        cnt = 0\n",
    "        for pattern in em_pattnern_lst:\n",
    "            if '1' in pattern[:ctx]:\n",
    "                cnt += 1\n",
    "        incre_em['em'].append(cnt/len(em_pattnern_lst))\n",
    "    return incre_em"
   ]
  },
  {
   "cell_type": "code",
   "execution_count": 30,
   "id": "9c5529cb",
   "metadata": {},
   "outputs": [],
   "source": [
    "incre_em = get_accumulated_em(em_pattnern_lst, sample_size)"
   ]
  },
  {
   "cell_type": "code",
   "execution_count": 31,
   "id": "3cb73bb1",
   "metadata": {},
   "outputs": [],
   "source": [
    "# incre_em"
   ]
  },
  {
   "cell_type": "code",
   "execution_count": 32,
   "id": "c4fe22ba",
   "metadata": {},
   "outputs": [
    {
     "name": "stdout",
     "output_type": "stream",
     "text": [
      "100 0.6230444216055727\n"
     ]
    }
   ],
   "source": [
    "upper_ctx, upper_em = get_upperbound(incre_em)\n",
    "print(upper_ctx, upper_em)"
   ]
  },
  {
   "cell_type": "markdown",
   "id": "39f1af50",
   "metadata": {},
   "source": [
    "##### Maximum of Accumulated EM of FiD from DPR retrived from top_20\n",
    "    - Used as upper bound\n",
    "    \n",
    "##### Minimum of Accumulated EM of FiD from DPR retrived from top_20\n",
    "    - Won't be used"
   ]
  },
  {
   "cell_type": "code",
   "execution_count": 33,
   "id": "dd55d20e",
   "metadata": {},
   "outputs": [
    {
     "name": "stdout",
     "output_type": "stream",
     "text": [
      "100 0.6230444216055727\n"
     ]
    }
   ],
   "source": [
    "upper_ctx, upper_em = get_upperbound(incre_em)\n",
    "print(upper_ctx, upper_em)\n",
    "fupper_ctx, fupper_em = upper_ctx, upper_em"
   ]
  },
  {
   "cell_type": "code",
   "execution_count": 34,
   "id": "6773c420",
   "metadata": {},
   "outputs": [
    {
     "name": "stdout",
     "output_type": "stream",
     "text": [
      "1 0.34246888203722736\n"
     ]
    }
   ],
   "source": [
    "lower_ctx, lower_em = get_lowerbound(incre_em)\n",
    "print(lower_ctx, lower_em)"
   ]
  },
  {
   "cell_type": "markdown",
   "id": "0e1f17f7",
   "metadata": {},
   "source": [
    "## NQ DPR NQ selection strategy result"
   ]
  },
  {
   "cell_type": "code",
   "execution_count": 35,
   "id": "5cc838b6",
   "metadata": {},
   "outputs": [],
   "source": [
    "option_dict = {\n",
    "    'op1' : 'remove_damage',\n",
    "    'op2' : 'remove_damage_irrelevant',\n",
    "    'op3' : 'remove_damage_relevant',\n",
    "    'op4' : 'remove_damage_irrelevant_relevant',\n",
    "}\n",
    "# option = 'op4'"
   ]
  },
  {
   "cell_type": "code",
   "execution_count": 36,
   "id": "24b5ee80",
   "metadata": {},
   "outputs": [],
   "source": [
    "option_p_dict = {\n",
    "    'strict' : 'strict_positive',\n",
    "    'naive' : 'naive_positive',\n",
    "}\n",
    "# option_p = 'strict'"
   ]
  },
  {
   "cell_type": "code",
   "execution_count": 37,
   "id": "ec5c0fc4",
   "metadata": {},
   "outputs": [],
   "source": [
    "option_d_dict = {\n",
    "    'strict' : 'strict_damaging',\n",
    "    'naive' : 'naive_damaging',\n",
    "}\n",
    "# option_d = 'strict'"
   ]
  },
  {
   "cell_type": "code",
   "execution_count": 38,
   "id": "6b048039",
   "metadata": {},
   "outputs": [],
   "source": [
    "input_path = f'/data/philhoon-relevance/FiD/results/NQ_DPR_DEV_SELECTION/ctx_{sample_size}'"
   ]
  },
  {
   "cell_type": "code",
   "execution_count": 39,
   "id": "ae4b1451",
   "metadata": {},
   "outputs": [],
   "source": [
    "in_path = pathlib.Path(input_path)\n",
    "files = in_path.glob(f'**/*.txt')\n",
    "# # pprint(list(files))\n",
    "# for i in files:\n",
    "# #     print(len(i))\n",
    "#     print(i)\n",
    "#     print('----')"
   ]
  },
  {
   "cell_type": "code",
   "execution_count": 40,
   "id": "5b3c173a",
   "metadata": {},
   "outputs": [],
   "source": [
    "method_dict = {\n",
    "    'op3_strict_strict' : 'method6',\n",
    "    'op3_strict_naive' : 'method4',\n",
    "    'op3_naive_strict' : 'method5',\n",
    "    'op3_naive_naive' : 'method3',\n",
    "    'op4_strict_naive' : 'method2',\n",
    "    'op4_naive_naive' : 'method1',\n",
    "}"
   ]
  },
  {
   "cell_type": "markdown",
   "id": "036426ad",
   "metadata": {},
   "source": [
    "- option1, option2 are not needed\n",
    "- Method1 : option4_naive_naive\n",
    "- Method2 : option4_strict_naive \n",
    "- Method3 : option3_naive_naive\n",
    "- Method4 : option3_strict_naive\n",
    "- Method5 : option3_naive_strict\n",
    "- Method6 : option3_strict_strict"
   ]
  },
  {
   "cell_type": "code",
   "execution_count": 41,
   "id": "8292ded2",
   "metadata": {},
   "outputs": [
    {
     "name": "stdout",
     "output_type": "stream",
     "text": [
      "op3_strict_strict\n",
      "op3_strict_naive\n",
      "op3_naive_strict\n",
      "op3_naive_naive\n",
      "op4_strict_naive\n",
      "op4_naive_naive\n"
     ]
    }
   ],
   "source": [
    "selection_eval = {\n",
    "    'strategy' : [],\n",
    "    'em' : []\n",
    "}\n",
    "\n",
    "for op in option_dict.keys():\n",
    "    for op_p in option_p_dict.keys():\n",
    "        for op_d in option_d_dict.keys():\n",
    "            strategy_ = f'{option_p_dict[op_p]}_{option_d_dict[op_d]}_{option_dict[op]}'\n",
    "            strategy_name = f'{op}_{op_p}_{op_d}'\n",
    "            if op == 'op1' or op == 'op2':\n",
    "                continue\n",
    "            if op == 'op4':\n",
    "                if op_p == 'strict' and op_d == 'strict':\n",
    "                    continue\n",
    "                if op_p == 'naive' and op_d == 'strict': \n",
    "                    continue\n",
    "            print(strategy_name)\n",
    "            strategy_path = pathlib.Path(input_path, strategy_)\n",
    "            file = list(strategy_path.glob(f'*.txt'))\n",
    "            if len(file) != 1:\n",
    "                print('----')\n",
    "                print(f'strategy_name : {strategy_name}')\n",
    "                print('Errror - no file')\n",
    "                print('There should be 1 file per each path')\n",
    "                print(file)\n",
    "                print('----')\n",
    "            else:\n",
    "                test = file[0] \n",
    "            \n",
    "#             print(test)\n",
    "            df = pd.read_csv(test, sep = '\\t', header=None)\n",
    "            df.columns = ['id','inference','em']\n",
    "#             print(len(df))\n",
    "            em = float(sum(df['em'])/len(df))\n",
    "        \n",
    "            selection_eval['strategy'].append(method_dict[strategy_name])\n",
    "            selection_eval['em'].append(em)\n",
    "            "
   ]
  },
  {
   "cell_type": "code",
   "execution_count": 42,
   "id": "d9d97236",
   "metadata": {},
   "outputs": [
    {
     "data": {
      "text/plain": [
       "{'strategy': ['method6',\n",
       "  'method4',\n",
       "  'method5',\n",
       "  'method3',\n",
       "  'method2',\n",
       "  'method1'],\n",
       " 'em': [0.5601233299075026,\n",
       "  0.6174488980244376,\n",
       "  0.552243919150394,\n",
       "  0.6183624528948269,\n",
       "  0.5636633550302615,\n",
       "  0.5810208975676602]}"
      ]
     },
     "execution_count": 42,
     "metadata": {},
     "output_type": "execute_result"
    }
   ],
   "source": [
    "selection_eval"
   ]
  },
  {
   "cell_type": "code",
   "execution_count": 43,
   "id": "429bd9f5",
   "metadata": {},
   "outputs": [],
   "source": [
    "def merge_normal_incre(incre_em, normal_eval, dict_eval):\n",
    "    column_names = []\n",
    "    row_values = []\n",
    "    upper_ctx, upper_em = get_upperbound(incre_em)\n",
    "    lower_ctx, lower_em = get_upperbound(normal_eval)\n",
    "    column_names.append('UpperBound-AccumulatedEm')\n",
    "    column_names.append('LowerBound-PositiveOneEm')\n",
    "    row_values.append(str(upper_em))\n",
    "    row_values.append(str(lower_em))\n",
    "    \n",
    "    for strat_, em_ in zip(dict_eval['strategy'], dict_eval['em']):\n",
    "        column_names.append(strat_)\n",
    "        row_values.append(str(em_))\n",
    "        \n",
    "    return column_names, row_values\n",
    "    "
   ]
  },
  {
   "cell_type": "code",
   "execution_count": 44,
   "id": "f56076bf",
   "metadata": {},
   "outputs": [],
   "source": [
    "# incre_em"
   ]
  },
  {
   "cell_type": "code",
   "execution_count": 45,
   "id": "a75b8278",
   "metadata": {},
   "outputs": [],
   "source": [
    "col_lst, value_lst = merge_normal_incre(incre_em, normal_eval, selection_eval)"
   ]
  },
  {
   "cell_type": "code",
   "execution_count": 46,
   "id": "6f455d53",
   "metadata": {},
   "outputs": [
    {
     "name": "stdout",
     "output_type": "stream",
     "text": [
      "['UpperBound-AccumulatedEm', 'LowerBound-PositiveOneEm', 'method6', 'method4', 'method5', 'method3', 'method2', 'method1']\n",
      "['0.6230444216055727', '0.5258650222679', '0.5601233299075026', '0.6174488980244376', '0.552243919150394', '0.6183624528948269', '0.5636633550302615', '0.5810208975676602']\n"
     ]
    }
   ],
   "source": [
    "print(col_lst)\n",
    "print(value_lst)"
   ]
  },
  {
   "cell_type": "markdown",
   "id": "9cc25f73",
   "metadata": {},
   "source": [
    "### get top_zeros_result"
   ]
  },
  {
   "cell_type": "code",
   "execution_count": 47,
   "id": "0dc335da",
   "metadata": {},
   "outputs": [],
   "source": [
    "input_path = f'/data/philhoon-relevance/FiD/results/NQ_DPR_DEV_SELECTION_METHOD3/ctx_{sample_size}'"
   ]
  },
  {
   "cell_type": "code",
   "execution_count": 48,
   "id": "6252b03f",
   "metadata": {},
   "outputs": [],
   "source": [
    "path = pathlib.Path(input_path)"
   ]
  },
  {
   "cell_type": "code",
   "execution_count": 49,
   "id": "4a335927",
   "metadata": {},
   "outputs": [],
   "source": [
    "# in_path = pathlib.Path(input_path)\n",
    "# files = in_path.glob(f'**/*.txt')\n",
    "# # pprint(list(files))\n",
    "# for i in files:\n",
    "# #     print(len(i))\n",
    "#     print(i)\n",
    "#     print('----')"
   ]
  },
  {
   "cell_type": "code",
   "execution_count": 50,
   "id": "96657e7c",
   "metadata": {},
   "outputs": [],
   "source": [
    "top_zeros = 10"
   ]
  },
  {
   "cell_type": "code",
   "execution_count": 53,
   "id": "4ec6ed31",
   "metadata": {},
   "outputs": [],
   "source": [
    "top_zero_eval = {\n",
    "    'ctx' : [],\n",
    "    'em' : []\n",
    "}\n",
    "\n",
    "\n",
    "\n",
    "for top_zero in range(1, top_zeros+1):\n",
    "    file_name_ = f'method3_topzeros{top_zero}'\n",
    "    file_path = list(path.glob(f'**/{file_name_}/*.txt'))\n",
    "    test = file_path[0]\n",
    "#     print(file_name_)\n",
    "    df = pd.read_csv(test, sep = '\\t', header=None)\n",
    "    df.columns = ['id','inference','em']\n",
    "#     print(len(df))\n",
    "    em = float(sum(df['em'])/len(df))\n",
    "        \n",
    "    top_zero_eval['ctx'].append(file_name_)\n",
    "    top_zero_eval['em'].append(em)\n",
    "        \n",
    "        "
   ]
  },
  {
   "cell_type": "code",
   "execution_count": 54,
   "id": "5ff59d99",
   "metadata": {},
   "outputs": [
    {
     "data": {
      "text/plain": [
       "{'ctx': ['method3_topzeros1',\n",
       "  'method3_topzeros2',\n",
       "  'method3_topzeros3',\n",
       "  'method3_topzeros4',\n",
       "  'method3_topzeros5',\n",
       "  'method3_topzeros6',\n",
       "  'method3_topzeros7',\n",
       "  'method3_topzeros8',\n",
       "  'method3_topzeros9',\n",
       "  'method3_topzeros10'],\n",
       " 'em': [0.5862738380723992,\n",
       "  0.5892428914011648,\n",
       "  0.5938106657531118,\n",
       "  0.596208747287884,\n",
       "  0.5976932739522668,\n",
       "  0.5987210231814548,\n",
       "  0.600433938563435,\n",
       "  0.6013474934338243,\n",
       "  0.6023752426630125,\n",
       "  0.6034029918922005]}"
      ]
     },
     "execution_count": 54,
     "metadata": {},
     "output_type": "execute_result"
    }
   ],
   "source": [
    "top_zero_eval"
   ]
  },
  {
   "cell_type": "code",
   "execution_count": 55,
   "id": "42d7ffd8",
   "metadata": {},
   "outputs": [],
   "source": [
    "for ctx, em in zip(top_zero_eval['ctx'], top_zero_eval['em']):\n",
    "    col_lst.append(ctx)\n",
    "    value_lst.append(str(em))\n",
    "# col_lst, value_lst = merge_normal_incre(incre_em, normal_eval, selection_eval)"
   ]
  },
  {
   "cell_type": "code",
   "execution_count": 56,
   "id": "3189b7ba",
   "metadata": {},
   "outputs": [
    {
     "name": "stdout",
     "output_type": "stream",
     "text": [
      "['UpperBound-AccumulatedEm', 'LowerBound-PositiveOneEm', 'method6', 'method4', 'method5', 'method3', 'method2', 'method1', 'method3_topzeros1', 'method3_topzeros2', 'method3_topzeros3', 'method3_topzeros4', 'method3_topzeros5', 'method3_topzeros6', 'method3_topzeros7', 'method3_topzeros8', 'method3_topzeros9', 'method3_topzeros10']\n",
      "['0.6230444216055727', '0.5258650222679', '0.5601233299075026', '0.6174488980244376', '0.552243919150394', '0.6183624528948269', '0.5636633550302615', '0.5810208975676602', '0.5862738380723992', '0.5892428914011648', '0.5938106657531118', '0.596208747287884', '0.5976932739522668', '0.5987210231814548', '0.600433938563435', '0.6013474934338243', '0.6023752426630125', '0.6034029918922005']\n"
     ]
    }
   ],
   "source": [
    "print(col_lst)\n",
    "print(value_lst)"
   ]
  },
  {
   "cell_type": "code",
   "execution_count": 57,
   "id": "adcb0c26",
   "metadata": {},
   "outputs": [],
   "source": [
    "def get_table(title, columns, rows):\n",
    "\n",
    "    table = Table(title=title)\n",
    "    \n",
    "    table.add_column(\"\", justify=\"center\")\n",
    "    for column in columns:\n",
    "        table.add_column(column, justify=\"center\")\n",
    "    \n",
    "    if any(isinstance(i, list) for i in rows):\n",
    "        for row in rows:\n",
    "            table.add_row(*row)\n",
    "    else:\n",
    "#         print(rows)\n",
    "        name = 'result'\n",
    "        single_row = [name] + rows\n",
    "        table.add_row(*single_row)\n",
    "        \n",
    "\n",
    "    console = Console(record=True)\n",
    "    console.print(table, justify=\"center\")\n",
    "#     console.save_text(f\"./images/{title}\")"
   ]
  },
  {
   "cell_type": "code",
   "execution_count": 58,
   "id": "47a5d443",
   "metadata": {},
   "outputs": [],
   "source": [
    "# option_dict = {\n",
    "#     'op1' : 'remove_damage',\n",
    "#     'op2' : 'remove_damage_irrelevant',\n",
    "#     'op3' : 'remove_damage_relevant',\n",
    "#     'op4' : 'remove_damage_irrelevant_relevant',\n",
    "# }\n",
    "# option_p_dict = {\n",
    "#     'strict' : 'strict_positive', # - decreasing # of positive passages\n",
    "#     'naive' : 'naive_positive', # - increasing # of positive passage\n",
    "# }\n",
    "# option_d_dict = {\n",
    "#     'strict' : 'strict_damaging', # - decreasing # of damaging passages\n",
    "#     'naive' : 'naive_damaging', # - increasing # of damaging passages\n",
    "# }"
   ]
  },
  {
   "cell_type": "code",
   "execution_count": 59,
   "id": "9032b0c7",
   "metadata": {},
   "outputs": [
    {
     "data": {
      "text/html": [
       "<pre style=\"white-space:pre;overflow-x:auto;line-height:normal;font-family:Menlo,'DejaVu Sans Mono',consolas,'Courier New',monospace\">                         <span style=\"font-style: italic\">                    Strategy Selection Table                    </span>                          \n",
       "                         ┏━━━━━━━━┳━━━━━━━━━━━━━━━━━━━━━━━━━━┳━━━━━━━━━━━━━━━━━━━━━━━━━━┓                          \n",
       "                         ┃<span style=\"font-weight: bold\">        </span>┃<span style=\"font-weight: bold\"> UpperBound-AccumulatedEm </span>┃<span style=\"font-weight: bold\"> LowerBound-PositiveOneEm </span>┃                          \n",
       "                         ┡━━━━━━━━╇━━━━━━━━━━━━━━━━━━━━━━━━━━╇━━━━━━━━━━━━━━━━━━━━━━━━━━┩                          \n",
       "                         │ result │    0.6230444216055727    │     0.5258650222679      │                          \n",
       "                         └────────┴──────────────────────────┴──────────────────────────┘                          \n",
       "</pre>\n"
      ],
      "text/plain": [
       "                         \u001b[3m                    Strategy Selection Table                    \u001b[0m                          \n",
       "                         ┏━━━━━━━━┳━━━━━━━━━━━━━━━━━━━━━━━━━━┳━━━━━━━━━━━━━━━━━━━━━━━━━━┓                          \n",
       "                         ┃\u001b[1m \u001b[0m\u001b[1m      \u001b[0m\u001b[1m \u001b[0m┃\u001b[1m \u001b[0m\u001b[1mUpperBound-AccumulatedEm\u001b[0m\u001b[1m \u001b[0m┃\u001b[1m \u001b[0m\u001b[1mLowerBound-PositiveOneEm\u001b[0m\u001b[1m \u001b[0m┃                          \n",
       "                         ┡━━━━━━━━╇━━━━━━━━━━━━━━━━━━━━━━━━━━╇━━━━━━━━━━━━━━━━━━━━━━━━━━┩                          \n",
       "                         │ result │    0.6230444216055727    │     0.5258650222679      │                          \n",
       "                         └────────┴──────────────────────────┴──────────────────────────┘                          \n"
      ]
     },
     "metadata": {},
     "output_type": "display_data"
    }
   ],
   "source": [
    "unit = 2\n",
    "s_ind = 0\n",
    "e_ind = s_ind + unit\n",
    "title = 'Strategy Selection Table'\n",
    "get_table(title, col_lst[s_ind:e_ind], value_lst[s_ind:e_ind])"
   ]
  },
  {
   "cell_type": "code",
   "execution_count": 60,
   "id": "8de0c763",
   "metadata": {},
   "outputs": [
    {
     "data": {
      "text/html": [
       "<pre style=\"white-space:pre;overflow-x:auto;line-height:normal;font-family:Menlo,'DejaVu Sans Mono',consolas,'Courier New',monospace\"><span style=\"font-style: italic\">                                           Strategy Selection Table op1                                            </span>\n",
       "┏━━━━━━━━┳━━━━━━━━━━━━━━━━━┳━━━━━━━━━━━━━━━━┳━━━━━━━━━━━━━━━━━┳━━━━━━━━━━━━━━━━┳━━━━━━━━━━━━━━━━━┳━━━━━━━━━━━━━━━━┓\n",
       "┃<span style=\"font-weight: bold\">        </span>┃<span style=\"font-weight: bold\">     method6     </span>┃<span style=\"font-weight: bold\">    method4     </span>┃<span style=\"font-weight: bold\">     method5     </span>┃<span style=\"font-weight: bold\">    method3     </span>┃<span style=\"font-weight: bold\">     method2     </span>┃<span style=\"font-weight: bold\">    method1     </span>┃\n",
       "┡━━━━━━━━╇━━━━━━━━━━━━━━━━━╇━━━━━━━━━━━━━━━━╇━━━━━━━━━━━━━━━━━╇━━━━━━━━━━━━━━━━╇━━━━━━━━━━━━━━━━━╇━━━━━━━━━━━━━━━━┩\n",
       "│ result │ 0.560123329907… │ 0.61744889802… │ 0.552243919150… │ 0.61836245289… │ 0.563663355030… │ 0.58102089756… │\n",
       "└────────┴─────────────────┴────────────────┴─────────────────┴────────────────┴─────────────────┴────────────────┘\n",
       "</pre>\n"
      ],
      "text/plain": [
       "\u001b[3m                                           Strategy Selection Table op1                                            \u001b[0m\n",
       "┏━━━━━━━━┳━━━━━━━━━━━━━━━━━┳━━━━━━━━━━━━━━━━┳━━━━━━━━━━━━━━━━━┳━━━━━━━━━━━━━━━━┳━━━━━━━━━━━━━━━━━┳━━━━━━━━━━━━━━━━┓\n",
       "┃\u001b[1m \u001b[0m\u001b[1m      \u001b[0m\u001b[1m \u001b[0m┃\u001b[1m \u001b[0m\u001b[1m    method6    \u001b[0m\u001b[1m \u001b[0m┃\u001b[1m \u001b[0m\u001b[1m   method4    \u001b[0m\u001b[1m \u001b[0m┃\u001b[1m \u001b[0m\u001b[1m    method5    \u001b[0m\u001b[1m \u001b[0m┃\u001b[1m \u001b[0m\u001b[1m   method3    \u001b[0m\u001b[1m \u001b[0m┃\u001b[1m \u001b[0m\u001b[1m    method2    \u001b[0m\u001b[1m \u001b[0m┃\u001b[1m \u001b[0m\u001b[1m   method1    \u001b[0m\u001b[1m \u001b[0m┃\n",
       "┡━━━━━━━━╇━━━━━━━━━━━━━━━━━╇━━━━━━━━━━━━━━━━╇━━━━━━━━━━━━━━━━━╇━━━━━━━━━━━━━━━━╇━━━━━━━━━━━━━━━━━╇━━━━━━━━━━━━━━━━┩\n",
       "│ result │ 0.560123329907… │ 0.61744889802… │ 0.552243919150… │ 0.61836245289… │ 0.563663355030… │ 0.58102089756… │\n",
       "└────────┴─────────────────┴────────────────┴─────────────────┴────────────────┴─────────────────┴────────────────┘\n"
      ]
     },
     "metadata": {},
     "output_type": "display_data"
    }
   ],
   "source": [
    "unit = 6\n",
    "title = 'Strategy Selection Table op1'\n",
    "s_ind = e_ind\n",
    "e_ind = s_ind + unit\n",
    "get_table(title, col_lst[s_ind:e_ind], value_lst[s_ind:e_ind])"
   ]
  },
  {
   "cell_type": "code",
   "execution_count": 61,
   "id": "d8d19847",
   "metadata": {},
   "outputs": [
    {
     "data": {
      "text/html": [
       "<pre style=\"white-space:pre;overflow-x:auto;line-height:normal;font-family:Menlo,'DejaVu Sans Mono',consolas,'Courier New',monospace\"><span style=\"font-style: italic\">                                           Strategy Selection Table op1                                           </span> \n",
       "┏━━━━━━━━┳━━━━━━━━━━━━━━━━━━━━┳━━━━━━━━━━━━━━━━━━━━┳━━━━━━━━━━━━━━━━━━━━┳━━━━━━━━━━━━━━━━━━━┳━━━━━━━━━━━━━━━━━━━━┓ \n",
       "┃<span style=\"font-weight: bold\">        </span>┃<span style=\"font-weight: bold\"> method3_topzeros1  </span>┃<span style=\"font-weight: bold\"> method3_topzeros2  </span>┃<span style=\"font-weight: bold\"> method3_topzeros3  </span>┃<span style=\"font-weight: bold\"> method3_topzeros4 </span>┃<span style=\"font-weight: bold\"> method3_topzeros5  </span>┃ \n",
       "┡━━━━━━━━╇━━━━━━━━━━━━━━━━━━━━╇━━━━━━━━━━━━━━━━━━━━╇━━━━━━━━━━━━━━━━━━━━╇━━━━━━━━━━━━━━━━━━━╇━━━━━━━━━━━━━━━━━━━━┩ \n",
       "│ result │ 0.5862738380723992 │ 0.5892428914011648 │ 0.5938106657531118 │ 0.596208747287884 │ 0.5976932739522668 │ \n",
       "└────────┴────────────────────┴────────────────────┴────────────────────┴───────────────────┴────────────────────┘ \n",
       "</pre>\n"
      ],
      "text/plain": [
       "\u001b[3m                                           Strategy Selection Table op1                                           \u001b[0m \n",
       "┏━━━━━━━━┳━━━━━━━━━━━━━━━━━━━━┳━━━━━━━━━━━━━━━━━━━━┳━━━━━━━━━━━━━━━━━━━━┳━━━━━━━━━━━━━━━━━━━┳━━━━━━━━━━━━━━━━━━━━┓ \n",
       "┃\u001b[1m \u001b[0m\u001b[1m      \u001b[0m\u001b[1m \u001b[0m┃\u001b[1m \u001b[0m\u001b[1mmethod3_topzeros1 \u001b[0m\u001b[1m \u001b[0m┃\u001b[1m \u001b[0m\u001b[1mmethod3_topzeros2 \u001b[0m\u001b[1m \u001b[0m┃\u001b[1m \u001b[0m\u001b[1mmethod3_topzeros3 \u001b[0m\u001b[1m \u001b[0m┃\u001b[1m \u001b[0m\u001b[1mmethod3_topzeros4\u001b[0m\u001b[1m \u001b[0m┃\u001b[1m \u001b[0m\u001b[1mmethod3_topzeros5 \u001b[0m\u001b[1m \u001b[0m┃ \n",
       "┡━━━━━━━━╇━━━━━━━━━━━━━━━━━━━━╇━━━━━━━━━━━━━━━━━━━━╇━━━━━━━━━━━━━━━━━━━━╇━━━━━━━━━━━━━━━━━━━╇━━━━━━━━━━━━━━━━━━━━┩ \n",
       "│ result │ 0.5862738380723992 │ 0.5892428914011648 │ 0.5938106657531118 │ 0.596208747287884 │ 0.5976932739522668 │ \n",
       "└────────┴────────────────────┴────────────────────┴────────────────────┴───────────────────┴────────────────────┘ \n"
      ]
     },
     "metadata": {},
     "output_type": "display_data"
    }
   ],
   "source": [
    "unit = 5\n",
    "title = 'Strategy Selection Table op1'\n",
    "s_ind = e_ind\n",
    "e_ind = s_ind + unit\n",
    "get_table(title, col_lst[s_ind:e_ind], value_lst[s_ind:e_ind])"
   ]
  },
  {
   "cell_type": "code",
   "execution_count": 62,
   "id": "53e6b80f",
   "metadata": {},
   "outputs": [
    {
     "data": {
      "text/html": [
       "<pre style=\"white-space:pre;overflow-x:auto;line-height:normal;font-family:Menlo,'DejaVu Sans Mono',consolas,'Courier New',monospace\"><span style=\"font-style: italic\">                                           Strategy Selection Table op1                                           </span> \n",
       "┏━━━━━━━━┳━━━━━━━━━━━━━━━━━━━━┳━━━━━━━━━━━━━━━━━━━┳━━━━━━━━━━━━━━━━━━━━┳━━━━━━━━━━━━━━━━━━━━┳━━━━━━━━━━━━━━━━━━━━┓ \n",
       "┃<span style=\"font-weight: bold\">        </span>┃<span style=\"font-weight: bold\"> method3_topzeros6  </span>┃<span style=\"font-weight: bold\"> method3_topzeros7 </span>┃<span style=\"font-weight: bold\"> method3_topzeros8  </span>┃<span style=\"font-weight: bold\"> method3_topzeros9  </span>┃<span style=\"font-weight: bold\"> method3_topzeros10 </span>┃ \n",
       "┡━━━━━━━━╇━━━━━━━━━━━━━━━━━━━━╇━━━━━━━━━━━━━━━━━━━╇━━━━━━━━━━━━━━━━━━━━╇━━━━━━━━━━━━━━━━━━━━╇━━━━━━━━━━━━━━━━━━━━┩ \n",
       "│ result │ 0.5987210231814548 │ 0.600433938563435 │ 0.6013474934338243 │ 0.6023752426630125 │ 0.6034029918922005 │ \n",
       "└────────┴────────────────────┴───────────────────┴────────────────────┴────────────────────┴────────────────────┘ \n",
       "</pre>\n"
      ],
      "text/plain": [
       "\u001b[3m                                           Strategy Selection Table op1                                           \u001b[0m \n",
       "┏━━━━━━━━┳━━━━━━━━━━━━━━━━━━━━┳━━━━━━━━━━━━━━━━━━━┳━━━━━━━━━━━━━━━━━━━━┳━━━━━━━━━━━━━━━━━━━━┳━━━━━━━━━━━━━━━━━━━━┓ \n",
       "┃\u001b[1m \u001b[0m\u001b[1m      \u001b[0m\u001b[1m \u001b[0m┃\u001b[1m \u001b[0m\u001b[1mmethod3_topzeros6 \u001b[0m\u001b[1m \u001b[0m┃\u001b[1m \u001b[0m\u001b[1mmethod3_topzeros7\u001b[0m\u001b[1m \u001b[0m┃\u001b[1m \u001b[0m\u001b[1mmethod3_topzeros8 \u001b[0m\u001b[1m \u001b[0m┃\u001b[1m \u001b[0m\u001b[1mmethod3_topzeros9 \u001b[0m\u001b[1m \u001b[0m┃\u001b[1m \u001b[0m\u001b[1mmethod3_topzeros10\u001b[0m\u001b[1m \u001b[0m┃ \n",
       "┡━━━━━━━━╇━━━━━━━━━━━━━━━━━━━━╇━━━━━━━━━━━━━━━━━━━╇━━━━━━━━━━━━━━━━━━━━╇━━━━━━━━━━━━━━━━━━━━╇━━━━━━━━━━━━━━━━━━━━┩ \n",
       "│ result │ 0.5987210231814548 │ 0.600433938563435 │ 0.6013474934338243 │ 0.6023752426630125 │ 0.6034029918922005 │ \n",
       "└────────┴────────────────────┴───────────────────┴────────────────────┴────────────────────┴────────────────────┘ \n"
      ]
     },
     "metadata": {},
     "output_type": "display_data"
    }
   ],
   "source": [
    "unit = 5\n",
    "title = 'Strategy Selection Table op1'\n",
    "s_ind = e_ind\n",
    "e_ind = s_ind + unit\n",
    "get_table(title, col_lst[s_ind:e_ind], value_lst[s_ind:e_ind])"
   ]
  },
  {
   "cell_type": "markdown",
   "id": "10f778aa",
   "metadata": {},
   "source": [
    "## Result with top-20"
   ]
  },
  {
   "cell_type": "markdown",
   "id": "ac9f9590",
   "metadata": {},
   "source": [
    "- Upperbound 0.58113      \n",
    "- Method3. '00011011000'  -> \n",
    "<span style=\"color:blue\">0</span><span style=\"color:blue\">0</span><span style=\"color:blue\">0</span><span style=\"color:red\">1</span></span><span style=\"color:red\">1</span>0<span style=\"color:red\">1</span></span><span style=\"color:red\">1</span>000  (__0.57839__)     \n",
    "\n",
    "- Method4. '00011011000'  -> \n",
    "<span style=\"color:blue\">0</span><span style=\"color:blue\">0</span><span style=\"color:blue\">0</span><span style=\"color:red\">1</span>10<span style=\"color:red\">1</span>1000 (_0.57690_) \n",
    "\n",
    "- Method3-top5zero. '00000011011000'  -> \n",
    "<span style=\"color:blue\">0</span><span style=\"color:blue\">0</span><span style=\"color:blue\">0</span><span style=\"color:blue\">0</span><span style=\"color:blue\">0</span>0<span style=\"color:red\">1</span></span><span style=\"color:red\">1</span>0<span style=\"color:red\">1</span></span><span style=\"color:red\">1</span>000  (0.56800) \n",
    "\n",
    "- Method3-top4zero. '00000011011000'  -> \n",
    "<span style=\"color:blue\">0</span><span style=\"color:blue\">0</span><span style=\"color:blue\">0</span><span style=\"color:blue\">0</span>00<span style=\"color:red\">1</span></span><span style=\"color:red\">1</span>0<span style=\"color:red\">1</span></span><span style=\"color:red\">1</span>000  (0.56583) \n",
    "\n",
    "- Method3-top3zero. '00000011011000'  -> \n",
    "<span style=\"color:blue\">0</span><span style=\"color:blue\">0</span><span style=\"color:blue\">0</span>000<span style=\"color:red\">1</span></span><span style=\"color:red\">1</span>0<span style=\"color:red\">1</span></span><span style=\"color:red\">1</span>000  (0.56354) \n",
    "\n",
    "- Method3-top2zero. '00000011011000'  -> \n",
    "<span style=\"color:blue\">0</span><span style=\"color:blue\">0</span>0000<span style=\"color:red\">1</span></span><span style=\"color:red\">1</span>0<span style=\"color:red\">1</span></span><span style=\"color:red\">1</span>000  (0.56046) \n",
    "\n",
    "- Method3-top1zero. '00000011011000'  -> \n",
    "<span style=\"color:blue\">0</span>00000<span style=\"color:red\">1</span></span><span style=\"color:red\">1</span>0<span style=\"color:red\">1</span></span><span style=\"color:red\">1</span>000  (0.55646) \n",
    "\n",
    "\n",
    "- Method1. '00011011000'  -> 000<span style=\"color:red\">1</span><span style=\"color:red\">1</span>0<span style=\"color:red\">1</span><span style=\"color:red\">1</span>000 (0.55144)    \n",
    "\n",
    "- Method2. '00011011000'  -> 000<span style=\"color:red\">1</span>10<span style=\"color:red\">1</span>1000  (0.53796)        \n",
    "- Method6. '00011011000'  -> <span style=\"color:blue\">0</span><span style=\"color:blue\">0</span><span style=\"color:blue\">0</span><span style=\"color:red\">1</span>10<span style=\"color:red\">1</span>10<span style=\"color:blue\">0</span><span style=\"color:blue\">0</span> (0.53796)    \n",
    "\n",
    "- Method5. '00011011000'  -> <span style=\"color:blue\">0</span><span style=\"color:blue\">0</span><span style=\"color:blue\">0</span><span style=\"color:red\">1</span><span style=\"color:red\">1</span>0<span style=\"color:red\">1</span></span><span style=\"color:red\">1</span>0<span style=\"color:blue\">0</span><span style=\"color:blue\">0</span>    (0.53659) \n",
    "\n",
    "- Lowerbound 0.50211   "
   ]
  },
  {
   "cell_type": "markdown",
   "id": "11950065",
   "metadata": {},
   "source": [
    "## Result with top-100"
   ]
  },
  {
   "cell_type": "markdown",
   "id": "5f365b54",
   "metadata": {},
   "source": [
    "- Upperbound 0.623044  \n",
    "- Method3. '00011011000'  -> \n",
    "<span style=\"color:blue\">0</span><span style=\"color:blue\">0</span><span style=\"color:blue\">0</span><span style=\"color:red\">1</span></span><span style=\"color:red\">1</span>0<span style=\"color:red\">1</span></span><span style=\"color:red\">1</span>000  (__0.6183624__)     \n",
    "\n",
    "- Method4. '00011011000'  -> \n",
    "<span style=\"color:blue\">0</span><span style=\"color:blue\">0</span><span style=\"color:blue\">0</span><span style=\"color:red\">1</span>10<span style=\"color:red\">1</span>1000 (_0.61744_) \n",
    "\n",
    "- Method3-top5zero. '00000011011000'  -> \n",
    "<span style=\"color:blue\">0</span><span style=\"color:blue\">0</span><span style=\"color:blue\">0</span><span style=\"color:blue\">0</span><span style=\"color:blue\">0</span>0<span style=\"color:red\">1</span></span><span style=\"color:red\">1</span>0<span style=\"color:red\">1</span></span><span style=\"color:red\">1</span>000  (0.597693) \n",
    "\n",
    "- Method3-top4zero. '00000011011000'  -> \n",
    "<span style=\"color:blue\">0</span><span style=\"color:blue\">0</span><span style=\"color:blue\">0</span><span style=\"color:blue\">0</span>00<span style=\"color:red\">1</span></span><span style=\"color:red\">1</span>0<span style=\"color:red\">1</span></span><span style=\"color:red\">1</span>000  (0.596208) \n",
    "\n",
    "- Method3-top3zero. '00000011011000'  -> \n",
    "<span style=\"color:blue\">0</span><span style=\"color:blue\">0</span><span style=\"color:blue\">0</span>000<span style=\"color:red\">1</span></span><span style=\"color:red\">1</span>0<span style=\"color:red\">1</span></span><span style=\"color:red\">1</span>000  (0.593810) \n",
    "\n",
    "- Method3-top2zero. '00000011011000'  -> \n",
    "<span style=\"color:blue\">0</span><span style=\"color:blue\">0</span>0000<span style=\"color:red\">1</span></span><span style=\"color:red\">1</span>0<span style=\"color:red\">1</span></span><span style=\"color:red\">1</span>000  (0.589242) \n",
    "\n",
    "- Method3-top1zero. '00000011011000'  -> \n",
    "<span style=\"color:blue\">0</span>00000<span style=\"color:red\">1</span></span><span style=\"color:red\">1</span>0<span style=\"color:red\">1</span></span><span style=\"color:red\">1</span>000  (0.5862738) \n",
    "\n",
    "\n",
    "- Method1. '00011011000'  -> 000<span style=\"color:red\">1</span><span style=\"color:red\">1</span>0<span style=\"color:red\">1</span><span style=\"color:red\">1</span>000 (0.581020)    \n",
    "\n",
    "- Method2. '00011011000'  -> 000<span style=\"color:red\">1</span>10<span style=\"color:red\">1</span>1000  (0.563663)        \n",
    "- Method6. '00011011000'  -> <span style=\"color:blue\">0</span><span style=\"color:blue\">0</span><span style=\"color:blue\">0</span><span style=\"color:red\">1</span>10<span style=\"color:red\">1</span>10<span style=\"color:blue\">0</span><span style=\"color:blue\">0</span> (0.560123)    \n",
    "\n",
    "- Method5. '00011011000'  -> <span style=\"color:blue\">0</span><span style=\"color:blue\">0</span><span style=\"color:blue\">0</span><span style=\"color:red\">1</span><span style=\"color:red\">1</span>0<span style=\"color:red\">1</span></span><span style=\"color:red\">1</span>0<span style=\"color:blue\">0</span><span style=\"color:blue\">0</span>    (0.552243) \n",
    "\n",
    "- Lowerbound 0.52586  "
   ]
  },
  {
   "cell_type": "code",
   "execution_count": null,
   "id": "34a110b6",
   "metadata": {},
   "outputs": [],
   "source": []
  },
  {
   "cell_type": "code",
   "execution_count": null,
   "id": "909d95be",
   "metadata": {},
   "outputs": [],
   "source": []
  },
  {
   "cell_type": "code",
   "execution_count": null,
   "id": "63807bed",
   "metadata": {},
   "outputs": [],
   "source": []
  }
 ],
 "metadata": {
  "kernelspec": {
   "display_name": "relevance-kilt",
   "language": "python",
   "name": "relevance-kilt"
  },
  "language_info": {
   "codemirror_mode": {
    "name": "ipython",
    "version": 3
   },
   "file_extension": ".py",
   "mimetype": "text/x-python",
   "name": "python",
   "nbconvert_exporter": "python",
   "pygments_lexer": "ipython3",
   "version": "3.8.13"
  }
 },
 "nbformat": 4,
 "nbformat_minor": 5
}
