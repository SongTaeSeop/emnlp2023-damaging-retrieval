{
 "cells": [
  {
   "cell_type": "markdown",
   "id": "e86601ea",
   "metadata": {},
   "source": [
    "# KILT-5-1-HandsOnAnalysis_evaluationOnPositionContextsize"
   ]
  },
  {
   "cell_type": "markdown",
   "id": "c49f712c",
   "metadata": {},
   "source": [
    "- Evalutaion on FiD with Random Sampling shows higher EM with extra random-passages\n",
    "    - Need to check random-sampling reveals stronger token unit boundary in the passages\n",
    "    - Check out query and passages "
   ]
  },
  {
   "cell_type": "code",
   "execution_count": 1,
   "id": "434f76e1",
   "metadata": {},
   "outputs": [],
   "source": [
    "from cycler import cycler\n",
    "import numpy as np\n",
    "import seaborn as sns\n",
    "import matplotlib as mpl\n",
    "import pathlib\n",
    "from pprint import pprint\n",
    "import pandas as pd\n",
    "import matplotlib.pyplot as plt\n",
    "from util import utils\n",
    "import re"
   ]
  },
  {
   "cell_type": "code",
   "execution_count": 2,
   "id": "171f41f3",
   "metadata": {},
   "outputs": [],
   "source": [
    "raw_light_palette = [\n",
    "    (0, 122, 255), # Blue\n",
    "    (255, 149, 0), # Orange\n",
    "    (52, 199, 89), # Green\n",
    "    (255, 59, 48), # Red\n",
    "    (175, 82, 222),# Purple\n",
    "    (255, 45, 85), # Pink\n",
    "    (88, 86, 214), # Indigo\n",
    "    (90, 200, 250),# Teal\n",
    "    (255, 204, 0)  # Yellow\n",
    "]\n",
    "\n",
    "raw_gray_light_palette = [\n",
    "    (142, 142, 147),# Gray\n",
    "    (174, 174, 178),# Gray (2)\n",
    "    (199, 199, 204),# Gray (3)\n",
    "    (209, 209, 214),# Gray (4)\n",
    "    (229, 229, 234),# Gray (5)\n",
    "    (242, 242, 247),# Gray (6)\n",
    "]\n",
    "\n",
    "\n",
    "light_palette = np.array(raw_light_palette)/255\n",
    "gray_light_palette = np.array(raw_gray_light_palette)/255"
   ]
  },
  {
   "cell_type": "code",
   "execution_count": 3,
   "id": "fa90290f",
   "metadata": {},
   "outputs": [
    {
     "name": "stdout",
     "output_type": "stream",
     "text": [
      "Light mode palette\n"
     ]
    },
    {
     "data": {
      "image/png": "[encoded data removed]",
      "text/plain": [
       "<Figure size 900x100 with 1 Axes>"
      ]
     },
     "metadata": {},
     "output_type": "display_data"
    },
    {
     "data": {
      "image/png": "[encoded data removed]",
      "text/plain": [
       "<Figure size 600x100 with 1 Axes>"
      ]
     },
     "metadata": {},
     "output_type": "display_data"
    }
   ],
   "source": [
    "print('Light mode palette')\n",
    "sns.palplot(light_palette)\n",
    "sns.palplot(gray_light_palette)"
   ]
  },
  {
   "cell_type": "code",
   "execution_count": 4,
   "id": "add1657d",
   "metadata": {},
   "outputs": [],
   "source": [
    "# cmap 수정\n",
    "mpl.rcParams['axes.prop_cycle'] = cycler('color',light_palette)\n",
    "# 해상도 조정\n",
    "mpl.rcParams['figure.dpi'] = 200\n",
    "# ax의 우측과 상단 지우기\n",
    "mpl.rcParams['axes.spines.top'] = False\n",
    "mpl.rcParams['axes.spines.right'] = False"
   ]
  },
  {
   "cell_type": "markdown",
   "id": "b8072596",
   "metadata": {},
   "source": [
    "### FiD turned out to be invariant of position (in both BM25, Random Sample negatives)\n",
    "- Select all the result files with __pos1__ (fixed)\n",
    "    - Only need pos1 files\n",
    "- Select corresponding input files\n",
    "- Matching them \n",
    "    \n",
    "```format\n",
    "\n",
    "columns\n",
    "    'id' : id from kilt_bm25_nq_dev_pos1.json\n",
    "        - kilt_bm25_nq_dev_pos1.json\n",
    "            - post-processed from nq-dev-multikilt.json\n",
    "            - Path : /data/philhoon-relevance/FiD/open_domain_data/NQ_KILT_BM25/kilt_bm25_nq_dev_pos1.json\n",
    "            - 2539 instances\n",
    "            - ids (generated)\n",
    "        - nq-dev-multikilt.json\n",
    "            - original KILT-nq-dev\n",
    "            - Path : /data/philhoon-relevance/KILT/kilt-dpr-retrieval/nq-dev-multikilt.json\n",
    "            - 2837 instances \n",
    "            - no ids\n",
    "    'question' : query text from kilt_bm25_nq_dev_pos1.json\n",
    "    'answers' : lst of answers from kilt_bm25_nq_dev_pos1.json\n",
    "    'ctxs' : 'ctxs' from kilt_bm25_nq_dev_pos1.json\n",
    "        - ctxs[0] : gold context (answer)\n",
    "        - ctxs[1 ~5] : negative context\n",
    "    \n",
    "    'em_pattern' : numbers 1 if answer matches the answer text in answer_lst, 0 otherwise\n",
    "        - Using final_outputs.txt\n",
    "        - Path : /data/philhoon-relevance/FiD/results/KILT_BM25_NQ/kilt_bm25_nq_dev_pos1_context{pos} (pos 1~5)\n",
    "    'inference' : incremental inference result from final_outputs.txt \n",
    "        - Using final_outputs.txt\n",
    "        - Path : /data/philhoon-relevance/FiD/results/KILT_BM25_NQ/kilt_bm25_nq_dev_pos1_context{pos} (pos 1~5)\n",
    "    'cumulative_em' : cumulative_em based on em_pattern\n",
    "    'conversion' : number of conversion due to negative context\n",
    "    \n",
    "````\n",
    "    - input file path : path = '/data/philhoon-relevance/FiD/open_domain_data/NQ_KILT_RANDOM/'\n",
    "    - result file path : path = '/data/philhoon-relevance/FiD/results/KILT_RANDOM_NQ'\n",
    "    \n",
    "    - Testing with positive context on 1st \n",
    "        '/data/philhoon-relevance/FiD/open_domain_data/NQ_KILT_RANDOM/kilt_rand_nq_dev_pos1.json'"
   ]
  },
  {
   "cell_type": "markdown",
   "id": "d4c7c0a3",
   "metadata": {},
   "source": [
    "## KILT BM25 NQ negative (from DPR)"
   ]
  },
  {
   "cell_type": "code",
   "execution_count": 5,
   "id": "4e9ae4ae",
   "metadata": {},
   "outputs": [],
   "source": [
    "pos = 1\n",
    "sample_size = 5\n",
    "# kilt_nq_dev_file = '/data/philhoon-relevance/KILT/kilt-dpr-retrieval/nq-dev-multikilt.json'\n",
    "kilt_nq_dev_file = f'/data/philhoon-relevance/FiD/open_domain_data/NQ_KILT_BM25/kilt_bm25_nq_dev_pos{pos}.json'\n",
    "fid_result_path = f'/data/philhoon-relevance/FiD/results/KILT_BM25_NQ/'\n",
    "output_file_path = f'/data/philhoon-relevance/FiD/results/KILT_BM25_NQ/incremental_result/pos{pos}_ctx{sample_size}.json'\n",
    "output_txt_path = f'/data/philhoon-relevance/FiD/results/KILT_BM25_NQ/incremental_result/pos{pos}_ctx{sample_size}.txt'\n",
    "path = pathlib.Path(fid_result_path)"
   ]
  },
  {
   "cell_type": "markdown",
   "id": "b69b594e",
   "metadata": {},
   "source": [
    "## KILT Random Sampling NQ negative "
   ]
  },
  {
   "cell_type": "code",
   "execution_count": 6,
   "id": "db0ca387",
   "metadata": {},
   "outputs": [],
   "source": [
    "# path = '/data/philhoon-relevance/FiD/results/KILT_RANDOM_NQ'"
   ]
  },
  {
   "cell_type": "code",
   "execution_count": 7,
   "id": "681b78f3",
   "metadata": {},
   "outputs": [],
   "source": [
    "# files = path.glob(pattern)\n",
    "# pprint(list(files))\n",
    "# test = '/data/philhoon-relevance/FiD/results/KILT_BM25_NQ/kilt_bm25_nq_dev_pos1_context2/final_output.txt'"
   ]
  },
  {
   "cell_type": "code",
   "execution_count": 8,
   "id": "901053f4",
   "metadata": {},
   "outputs": [],
   "source": [
    "# sample_size = 5\n",
    "# for ctx in range(pos, sample_size+1):\n",
    "#     file_pattern = f'./kilt_bm25_nq_dev_pos{pos}_context{ctx}/final_output.txt'\n",
    "#     file = list(path.glob(file_pattern))\n",
    "#     test = file[0] \n",
    "#     print(test)"
   ]
  },
  {
   "cell_type": "markdown",
   "id": "4a27093d",
   "metadata": {},
   "source": [
    "### merge final_output.txt files"
   ]
  },
  {
   "cell_type": "code",
   "execution_count": 9,
   "id": "6d5fddd0",
   "metadata": {},
   "outputs": [],
   "source": [
    "def merge_output(path, sample_size):\n",
    "    id_lst = []\n",
    "    inference_lst = []\n",
    "    em_lst = []\n",
    "    \n",
    "    for ctx in range(pos, sample_size+1):\n",
    "        file_pattern = f'./kilt_bm25_nq_dev_pos{pos}_context{ctx}/final_output.txt'\n",
    "        print(file_pattern)\n",
    "        output_file = list(path.glob(file_pattern))\n",
    "        test = output_file[0]\n",
    "        df = pd.read_csv(test, sep = '\\t', header=None)\n",
    "        df.columns = ['id','inference','em']\n",
    "\n",
    "        if not id_lst:\n",
    "            id_lst = df.id.to_list()\n",
    "        inference_lst.append(df.inference.to_list())\n",
    "        em_lst.append(df.em.to_list())\n",
    "    \n",
    "    return id_lst, inference_lst, em_lst\n",
    "    "
   ]
  },
  {
   "cell_type": "code",
   "execution_count": 10,
   "id": "e41b2f85",
   "metadata": {},
   "outputs": [
    {
     "name": "stdout",
     "output_type": "stream",
     "text": [
      "./kilt_bm25_nq_dev_pos1_context1/final_output.txt\n",
      "./kilt_bm25_nq_dev_pos1_context2/final_output.txt\n",
      "./kilt_bm25_nq_dev_pos1_context3/final_output.txt\n",
      "./kilt_bm25_nq_dev_pos1_context4/final_output.txt\n",
      "./kilt_bm25_nq_dev_pos1_context5/final_output.txt\n"
     ]
    }
   ],
   "source": [
    "id_, infer_, em_ = merge_output(path, sample_size)"
   ]
  },
  {
   "cell_type": "code",
   "execution_count": 18,
   "id": "d7465f54",
   "metadata": {},
   "outputs": [],
   "source": [
    "# print(infer_)"
   ]
  },
  {
   "cell_type": "code",
   "execution_count": null,
   "id": "17355a56",
   "metadata": {},
   "outputs": [],
   "source": [
    "def get_em_result(em_zip):\n",
    "    cul_cnt = 0\n",
    "    cul_em = []\n",
    "    conversion = []\n",
    "    for em in em_zip:\n",
    "        if '1' in em:\n",
    "            cul_em.append('1')\n",
    "            cul_cnt += 1\n",
    "        else:\n",
    "            cul_em.append('0')\n",
    "\n",
    "        conversion.append(len(re.findall(r'10', em)))\n",
    "    \n",
    "    return cul_em, conversion, cul_cnt"
   ]
  },
  {
   "cell_type": "code",
   "execution_count": 19,
   "id": "f63b53bd",
   "metadata": {},
   "outputs": [],
   "source": [
    "# em_pattern\n",
    "em_zip = list(map(lambda line: ''.join(map(lambda s: str(1) if s else str(0), line)), zip(*em_)))\n",
    "\n",
    "# inference\n",
    "infer_zip = list(map(list, zip(*infer_)))\n",
    "\n",
    "# cumulative_em, conversion\n",
    "cul_em_lst, conversion_lst, cul_cnt = get_em_result(em_zip)"
   ]
  },
  {
   "cell_type": "code",
   "execution_count": null,
   "id": "5dbf9b6d",
   "metadata": {},
   "outputs": [],
   "source": []
  },
  {
   "cell_type": "code",
   "execution_count": null,
   "id": "bab444cd",
   "metadata": {},
   "outputs": [],
   "source": []
  },
  {
   "cell_type": "code",
   "execution_count": null,
   "id": "cd7f2874",
   "metadata": {
    "scrolled": false
   },
   "outputs": [],
   "source": [
    "# result = {}\n",
    "# for query_id, em_pattern, inference, conversion, cumulative_em in zip(id_, em_zip, infer_zip, conversion_lst, cul_em_lst):\n",
    "#     template = {\n",
    "#         'em_pattern' : em_pattern,\n",
    "#         'inference' : inference,\n",
    "#         'conversion' : conversion,\n",
    "#         'cumulative_em' : cumulative_em\n",
    "#     }\n",
    "#     result[query_id] = template"
   ]
  },
  {
   "cell_type": "code",
   "execution_count": null,
   "id": "57d000a0",
   "metadata": {},
   "outputs": [],
   "source": [
    "def get_merged_result(id_, em_zip, infer_zip, conversion_lst, cul_em_lst):\n",
    "    result = {}\n",
    "    for query_id, em_pattern, inference, conversion, cumulative_em in zip(id_, em_zip, infer_zip, conversion_lst, cul_em_lst):\n",
    "        template = {\n",
    "            'em_pattern' : em_pattern,\n",
    "            'inference' : inference,\n",
    "            'conversion' : conversion,\n",
    "            'cumulative_em' : cumulative_em\n",
    "        }\n",
    "        result[str(query_id)] = template\n",
    "    return result"
   ]
  },
  {
   "cell_type": "code",
   "execution_count": null,
   "id": "40e79bbb",
   "metadata": {},
   "outputs": [],
   "source": [
    "result = get_merged_result(id_, em_zip, infer_zip, conversion_lst, cul_em_lst)"
   ]
  },
  {
   "cell_type": "code",
   "execution_count": null,
   "id": "479ed2d9",
   "metadata": {
    "scrolled": false
   },
   "outputs": [],
   "source": [
    "# result"
   ]
  },
  {
   "cell_type": "markdown",
   "id": "22e99894",
   "metadata": {},
   "source": [
    "### merge above outputs to orignal file"
   ]
  },
  {
   "cell_type": "code",
   "execution_count": null,
   "id": "86660a04",
   "metadata": {},
   "outputs": [],
   "source": [
    "nq_dev_format = utils.open_json(kilt_nq_dev_file)"
   ]
  },
  {
   "cell_type": "code",
   "execution_count": null,
   "id": "1203f06b",
   "metadata": {},
   "outputs": [],
   "source": [
    "def merge_with_input(nq_dev_format, result):\n",
    "    for dev_example in nq_dev_format:\n",
    "        if dev_example['id'] in result.keys():\n",
    "            dev_example['em_pattern'] = result[dev_example['id']]['em_pattern']\n",
    "\n",
    "            dev_example['inference'] = result[dev_example['id']]['inference']\n",
    "            dev_example['conversion'] = result[dev_example['id']]['conversion']\n",
    "            dev_example['cumulative_em'] = result[dev_example['id']]['cumulative_em']\n",
    "        else:\n",
    "            print('ID not exist. Mathcing ID required')\n",
    "    return nq_dev_format"
   ]
  },
  {
   "cell_type": "code",
   "execution_count": null,
   "id": "37c2e902",
   "metadata": {},
   "outputs": [],
   "source": [
    "final_output = merge_with_input(nq_dev_format, result)"
   ]
  },
  {
   "cell_type": "code",
   "execution_count": null,
   "id": "23977d6c",
   "metadata": {},
   "outputs": [],
   "source": [
    "utils.save_json(final_output, output_file_path)"
   ]
  },
  {
   "cell_type": "code",
   "execution_count": null,
   "id": "23f7792d",
   "metadata": {},
   "outputs": [],
   "source": [
    "cul_cnt = 0\n",
    "for ins in final_output:\n",
    "    cul_cnt += int(ins['cumulative_em'])\n",
    "cul_score = cul_cnt/len(final_output)\n",
    "output_string = f'Out of {len(final_output)} instances; {cul_cnt} are incrementally correct : {cul_score} in EM'"
   ]
  },
  {
   "cell_type": "code",
   "execution_count": null,
   "id": "4d1dc3db",
   "metadata": {},
   "outputs": [],
   "source": [
    "output_string"
   ]
  },
  {
   "cell_type": "code",
   "execution_count": null,
   "id": "b90bd923",
   "metadata": {},
   "outputs": [],
   "source": [
    "with open(output_txt_path, \"w\") as file:\n",
    "    file.write(output_string)"
   ]
  },
  {
   "cell_type": "code",
   "execution_count": null,
   "id": "16b91908",
   "metadata": {},
   "outputs": [],
   "source": []
  },
  {
   "cell_type": "code",
   "execution_count": null,
   "id": "cc916c9c",
   "metadata": {},
   "outputs": [],
   "source": []
  }
 ],
 "metadata": {
  "kernelspec": {
   "display_name": "relevance-kilt",
   "language": "python",
   "name": "relevance-kilt"
  },
  "language_info": {
   "codemirror_mode": {
    "name": "ipython",
    "version": 3
   },
   "file_extension": ".py",
   "mimetype": "text/x-python",
   "name": "python",
   "nbconvert_exporter": "python",
   "pygments_lexer": "ipython3",
   "version": "3.8.13"
  }
 },
 "nbformat": 4,
 "nbformat_minor": 5
}
