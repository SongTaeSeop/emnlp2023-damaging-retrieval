{
 "cells": [
  {
   "cell_type": "markdown",
   "id": "e86601ea",
   "metadata": {},
   "source": [
    "# KILT-5-3-HandsOnAnalysis_plotting with 4-1,5-2,5-3"
   ]
  },
  {
   "cell_type": "markdown",
   "id": "c49f712c",
   "metadata": {},
   "source": [
    "- Plot 5-2, 5-3 with 4-1\n",
    "- incremental upperbound\n",
    "- Meaning with the Sample Size of N, Fid should have preditcted answer"
   ]
  },
  {
   "cell_type": "code",
   "execution_count": 1,
   "id": "434f76e1",
   "metadata": {},
   "outputs": [],
   "source": [
    "from cycler import cycler\n",
    "import numpy as np\n",
    "import seaborn as sns\n",
    "import matplotlib as mpl\n",
    "import pathlib\n",
    "from pprint import pprint\n",
    "import pandas as pd\n",
    "import matplotlib.pyplot as plt"
   ]
  },
  {
   "cell_type": "code",
   "execution_count": 2,
   "id": "171f41f3",
   "metadata": {},
   "outputs": [],
   "source": [
    "raw_light_palette = [\n",
    "    (0, 122, 255), # Blue\n",
    "    (255, 149, 0), # Orange\n",
    "    (52, 199, 89), # Green\n",
    "    (255, 59, 48), # Red\n",
    "    (175, 82, 222),# Purple\n",
    "    (255, 45, 85), # Pink\n",
    "    (88, 86, 214), # Indigo\n",
    "    (90, 200, 250),# Teal\n",
    "    (255, 204, 0)  # Yellow\n",
    "]\n",
    "\n",
    "raw_gray_light_palette = [\n",
    "    (142, 142, 147),# Gray\n",
    "    (174, 174, 178),# Gray (2)\n",
    "    (199, 199, 204),# Gray (3)\n",
    "    (209, 209, 214),# Gray (4)\n",
    "    (229, 229, 234),# Gray (5)\n",
    "    (242, 242, 247),# Gray (6)\n",
    "]\n",
    "\n",
    "\n",
    "light_palette = np.array(raw_light_palette)/255\n",
    "gray_light_palette = np.array(raw_gray_light_palette)/255"
   ]
  },
  {
   "cell_type": "code",
   "execution_count": 3,
   "id": "fa90290f",
   "metadata": {},
   "outputs": [
    {
     "name": "stdout",
     "output_type": "stream",
     "text": [
      "Light mode palette\n"
     ]
    },
    {
     "data": {
      "image/png": "[encoded data removed]",
      "text/plain": [
       "<Figure size 900x100 with 1 Axes>"
      ]
     },
     "metadata": {},
     "output_type": "display_data"
    },
    {
     "data": {
      "image/png": "[encoded data removed]",
      "text/plain": [
       "<Figure size 600x100 with 1 Axes>"
      ]
     },
     "metadata": {},
     "output_type": "display_data"
    }
   ],
   "source": [
    "print('Light mode palette')\n",
    "sns.palplot(light_palette)\n",
    "sns.palplot(gray_light_palette)"
   ]
  },
  {
   "cell_type": "code",
   "execution_count": 4,
   "id": "add1657d",
   "metadata": {},
   "outputs": [],
   "source": [
    "# cmap 수정\n",
    "mpl.rcParams['axes.prop_cycle'] = cycler('color',light_palette)\n",
    "# 해상도 조정\n",
    "mpl.rcParams['figure.dpi'] = 200\n",
    "# ax의 우측과 상단 지우기\n",
    "mpl.rcParams['axes.spines.top'] = False\n",
    "mpl.rcParams['axes.spines.right'] = False"
   ]
  },
  {
   "cell_type": "markdown",
   "id": "d4c7c0a3",
   "metadata": {},
   "source": [
    "## KILT BM25 NQ negative (from DPR) depreciated"
   ]
  },
  {
   "cell_type": "code",
   "execution_count": null,
   "id": "4e9ae4ae",
   "metadata": {},
   "outputs": [],
   "source": [
    "# option = 'bm25'\n",
    "# path = '/data/philhoon-relevance/FiD/results/KILT_DPR_NQ'\n",
    "# # path = '/data/philhoon-relevance/FiD/results/KILT_DPR_NQ_depreciated'\n",
    "# plot_path = './img/FiDResultOnBM25HardnegativeNQdevSubsets.png'\n",
    "# title = 'FiD result on BM25 negative nq dev subsets'"
   ]
  },
  {
   "cell_type": "markdown",
   "id": "b69b594e",
   "metadata": {},
   "source": [
    "## KILT Random Sampling NQ negative  depreciated"
   ]
  },
  {
   "cell_type": "code",
   "execution_count": null,
   "id": "db0ca387",
   "metadata": {},
   "outputs": [],
   "source": [
    "# option = 'random'\n",
    "# path = '/data/philhoon-relevance/FiD/results/KILT_RANDOM_NQ'\n",
    "# plot_path = './img/FiDResultOnRandomSamplingnegativeNQdevSubsets.png'\n",
    "# title = 'FiD result on random sampling negative nq dev subsets'"
   ]
  },
  {
   "cell_type": "code",
   "execution_count": null,
   "id": "7825f7bc",
   "metadata": {},
   "outputs": [],
   "source": [
    "# option = 'random'\n",
    "# path = '/data/philhoon-relevance/FiD/results/KILT_BM25_NQ'"
   ]
  },
  {
   "cell_type": "markdown",
   "id": "4d94b03f",
   "metadata": {},
   "source": [
    "## KILT BM25 NQ negative (from DPR)"
   ]
  },
  {
   "cell_type": "code",
   "execution_count": null,
   "id": "779c7a4d",
   "metadata": {},
   "outputs": [],
   "source": [
    "# option = 'bm25'\n",
    "# path = '/data/philhoon-relevance/FiD/results/KILT_BM25_NQ'"
   ]
  },
  {
   "cell_type": "markdown",
   "id": "ce828108",
   "metadata": {},
   "source": [
    "## KILT Random Sampling NQ negative "
   ]
  },
  {
   "cell_type": "code",
   "execution_count": null,
   "id": "580e7bce",
   "metadata": {},
   "outputs": [],
   "source": [
    "option = 'random'\n",
    "path = '/data/philhoon-relevance/FiD/results/KILT_RANDOM_NQ'\n",
    "# plot_path = './img/New_FiDResultOnRandomSamplingnegativeNQdev2539.png'\n",
    "# title = 'New FiD result on random sampling negative nq dev subsets'"
   ]
  },
  {
   "cell_type": "code",
   "execution_count": null,
   "id": "94004efd",
   "metadata": {},
   "outputs": [],
   "source": [
    "path = pathlib.Path(path)"
   ]
  },
  {
   "cell_type": "code",
   "execution_count": null,
   "id": "681b78f3",
   "metadata": {},
   "outputs": [],
   "source": [
    "files = path.glob('**/*.txt')\n",
    "pprint(list(files))"
   ]
  },
  {
   "cell_type": "code",
   "execution_count": null,
   "id": "7fc8fc4d",
   "metadata": {},
   "outputs": [],
   "source": [
    "dict_eval = {\n",
    "    'pos' : [],\n",
    "    'ctx' : [],\n",
    "    'em' : []\n",
    "}\n",
    "\n",
    "sample_size = 5\n",
    "for pos in range(1, sample_size+1):\n",
    "    for ctx in range(pos, sample_size+1):\n",
    "    \n",
    "#         # bm25 negative filenames\n",
    "#         file_name_ = f'kilt_dpr_nq_dev_pos{pos}_context{ctx}'\n",
    "\n",
    "        # random sampling negative filenames\n",
    "        if option == 'random':\n",
    "            file_name_ = f'kilt_rand_nq_dev_pos{pos}_context{ctx}'\n",
    "            file = list(path.glob(f'*{file_name_}*/*.txt'))\n",
    "            test = file[0] \n",
    "        # DPR should be changed to bm25\n",
    "        if option == 'bm25':\n",
    "            file_name_ = f'kilt_bm25_nq_dev_pos{pos}_context{ctx}'\n",
    "            file = list(path.glob(f'*{file_name_}*/*.txt'))\n",
    "            test = file[0] \n",
    "        \n",
    "        print(test)\n",
    "        \n",
    "        df = pd.read_csv(test, sep = '\\t', header=None)\n",
    "        df.columns = ['id','inference','em']\n",
    "#         print(len(df))\n",
    "        em = float(sum(df['em'])/len(df))\n",
    "        \n",
    "        dict_eval['pos'].append(pos)\n",
    "        dict_eval['ctx'].append(ctx)\n",
    "        dict_eval['em'].append(em)\n",
    "        \n",
    "        "
   ]
  },
  {
   "cell_type": "markdown",
   "id": "05661cc5",
   "metadata": {},
   "source": [
    "# SER"
   ]
  },
  {
   "cell_type": "code",
   "execution_count": null,
   "id": "b5f3e8cb",
   "metadata": {},
   "outputs": [],
   "source": [
    "file_lst = [\n",
    "    '/data/philhoon-relevance/FiD/results/KILT_BM25_NQ/kilt_bm25_nq_dev_pos1_context1/final_output.txt',\n",
    "'/data/philhoon-relevance/FiD/results/KILT_BM25_NQ/kilt_bm25_nq_dev_pos1_context2/final_output.txt',\n",
    "'/data/philhoon-relevance/FiD/results/KILT_BM25_NQ/kilt_bm25_nq_dev_pos1_context3/final_output.txt',\n",
    "'/data/philhoon-relevance/FiD/results/KILT_BM25_NQ/kilt_bm25_nq_dev_pos1_context4/final_output.txt',\n",
    "'/data/philhoon-relevance/FiD/results/KILT_BM25_NQ/kilt_bm25_nq_dev_pos1_context5/final_output.txt']"
   ]
  },
  {
   "cell_type": "code",
   "execution_count": null,
   "id": "d873f13d",
   "metadata": {},
   "outputs": [],
   "source": [
    "# for index, file_ in enumerate(file_lst,1):\n",
    "#     em_index = f'em_{index}'\n",
    "#     columns = ['id','inference',em_index]\n",
    "    \n",
    "#     if index == 1:\n",
    "#         df = pd.read_csv(file_, sep = '\\t', header=None)\n",
    "#         df.columns = columns\n",
    "#     else:\n",
    "#         df_ad = pd.read_csv(file_, sep = '\\t', header=None)\n",
    "#         df_ad.columns = columns\n",
    "#         df[em_index] = df_ad[em_index].values\n",
    "        \n",
    "# print(df)\n",
    "# #        \n",
    "    \n",
    "    "
   ]
  },
  {
   "cell_type": "code",
   "execution_count": null,
   "id": "c2d2dc23",
   "metadata": {},
   "outputs": [],
   "source": [
    "base_pd = df[df.em_1==True]"
   ]
  },
  {
   "cell_type": "code",
   "execution_count": null,
   "id": "9bcb4324",
   "metadata": {},
   "outputs": [],
   "source": [
    "sum(base_pd.em_2 == False)/len(base_pd)"
   ]
  },
  {
   "cell_type": "code",
   "execution_count": null,
   "id": "08b417b0",
   "metadata": {},
   "outputs": [],
   "source": [
    "sum(base_pd.em_3 == False)/len(base_pd)"
   ]
  },
  {
   "cell_type": "code",
   "execution_count": null,
   "id": "c33377ca",
   "metadata": {},
   "outputs": [],
   "source": [
    "sum(base_pd.em_4 == False)/len(base_pd)"
   ]
  },
  {
   "cell_type": "code",
   "execution_count": null,
   "id": "90da9bfc",
   "metadata": {},
   "outputs": [],
   "source": [
    "sum(base_pd.em_5 == False)/len(base_pd)"
   ]
  },
  {
   "cell_type": "code",
   "execution_count": null,
   "id": "d5c5b1fd",
   "metadata": {},
   "outputs": [],
   "source": [
    "# /data/philhoon-relevance/FiD/results/KILT_RANDOM_NQ/kilt_rand_nq_dev_pos1_context1/final_output.txt\n",
    "list_1 = [\n",
    "'/data/philhoon-relevance/FiD/results/KILT_BM25_NQ/kilt_bm25_nq_dev_pos1_context2/final_output.txt',\n",
    "'/data/philhoon-relevance/FiD/results/KILT_BM25_NQ/kilt_bm25_nq_dev_pos2_context2/final_output.txt']\n",
    "\n",
    "list_2 = [\n",
    "'/data/philhoon-relevance/FiD/results/KILT_BM25_NQ/kilt_bm25_nq_dev_pos1_context3/final_output.txt',\n",
    "'/data/philhoon-relevance/FiD/results/KILT_BM25_NQ/kilt_bm25_nq_dev_pos2_context3/final_output.txt',\n",
    "'/data/philhoon-relevance/FiD/results/KILT_BM25_NQ/kilt_bm25_nq_dev_pos3_context3/final_output.txt']\n",
    "\n",
    "list_3 = [\n",
    "'/data/philhoon-relevance/FiD/results/KILT_BM25_NQ/kilt_bm25_nq_dev_pos1_context4/final_output.txt',\n",
    "'/data/philhoon-relevance/FiD/results/KILT_BM25_NQ/kilt_bm25_nq_dev_pos2_context4/final_output.txt',\n",
    "'/data/philhoon-relevance/FiD/results/KILT_BM25_NQ/kilt_bm25_nq_dev_pos3_context4/final_output.txt',\n",
    "'/data/philhoon-relevance/FiD/results/KILT_BM25_NQ/kilt_bm25_nq_dev_pos4_context4/final_output.txt',]\n",
    "\n",
    "list_4 = [\n",
    "'/data/philhoon-relevance/FiD/results/KILT_BM25_NQ/kilt_bm25_nq_dev_pos1_context5/final_output.txt',\n",
    "'/data/philhoon-relevance/FiD/results/KILT_BM25_NQ/kilt_bm25_nq_dev_pos2_context5/final_output.txt',\n",
    "'/data/philhoon-relevance/FiD/results/KILT_BM25_NQ/kilt_bm25_nq_dev_pos3_context5/final_output.txt',\n",
    "'/data/philhoon-relevance/FiD/results/KILT_BM25_NQ/kilt_bm25_nq_dev_pos4_context5/final_output.txt',\n",
    "'/data/philhoon-relevance/FiD/results/KILT_BM25_NQ/kilt_bm25_nq_dev_pos5_context5/final_output.txt',]"
   ]
  },
  {
   "cell_type": "code",
   "execution_count": null,
   "id": "55c64f46",
   "metadata": {},
   "outputs": [],
   "source": [
    "def matching(file_lst):\n",
    "    for index, file_ in enumerate(file_lst,1):\n",
    "        em_index = f'em_{index}'\n",
    "        columns = ['id','inference',em_index]\n",
    "\n",
    "        if index == 1:\n",
    "            df = pd.read_csv(file_, sep = '\\t', header=None)\n",
    "            df.columns = columns\n",
    "        else:\n",
    "            df_ad = pd.read_csv(file_, sep = '\\t', header=None)\n",
    "            df_ad.columns = columns\n",
    "            df[em_index] = df_ad[em_index].values\n",
    "            \n",
    "    base_pd = df[df.em_1==True]\n",
    "    \n",
    "    return base_pd\n",
    "    \n",
    "    "
   ]
  },
  {
   "cell_type": "code",
   "execution_count": null,
   "id": "d76aca28",
   "metadata": {},
   "outputs": [],
   "source": [
    "def compare(base_pd):\n",
    "    columns = base_pd.columns\n",
    "    for col_name in columns:\n",
    "        if col_name == 'em_1':\n",
    "            print(col_name)\n",
    "        elif 'em' in col_name:\n",
    "            print(col_name)\n",
    "            print(sum(base_pd[col_name] == True))\n",
    "            print(len(base_pd))"
   ]
  },
  {
   "cell_type": "code",
   "execution_count": null,
   "id": "fc1263d1",
   "metadata": {},
   "outputs": [],
   "source": [
    "for test_lst in [list_1, list_2, list_3, list_4]:\n",
    "    base_pd = matching(test_lst)\n",
    "    compare(base_pd)\n",
    "    print('---')"
   ]
  },
  {
   "cell_type": "code",
   "execution_count": null,
   "id": "7f9b1f74",
   "metadata": {},
   "outputs": [],
   "source": []
  },
  {
   "cell_type": "code",
   "execution_count": null,
   "id": "d776fb13",
   "metadata": {},
   "outputs": [],
   "source": []
  },
  {
   "cell_type": "code",
   "execution_count": null,
   "id": "9b9cbdf2",
   "metadata": {},
   "outputs": [],
   "source": []
  },
  {
   "cell_type": "markdown",
   "id": "22eba964",
   "metadata": {},
   "source": [
    "## KILT BM25 NQ incremetal result (from DPR)"
   ]
  },
  {
   "cell_type": "code",
   "execution_count": null,
   "id": "605136ee",
   "metadata": {},
   "outputs": [],
   "source": [
    "# '/data/philhoon-relevance/FiD/results/KILT_BM25_NQ/incremental_result/pos1_ctx1.json'\n",
    "pos = 1\n",
    "sample_size = 5\n",
    "path2 = '/data/philhoon-relevance/FiD/results/KILT_BM25_NQ/incremental_result/'\n",
    "# path2 = ''"
   ]
  },
  {
   "cell_type": "code",
   "execution_count": null,
   "id": "8e22e003",
   "metadata": {},
   "outputs": [],
   "source": [
    "path2 = pathlib.Path(path2)\n",
    "files = path2.glob(f'pos{pos}*.txt')\n",
    "pprint(list(files))"
   ]
  },
  {
   "cell_type": "code",
   "execution_count": null,
   "id": "1250d400",
   "metadata": {},
   "outputs": [],
   "source": [
    "incre_em = {\n",
    "    'ctx' : [],\n",
    "    'em' : [],   \n",
    "}\n",
    "for i in range(pos, sample_size+1):\n",
    "    file_name_ = f'pos{pos}_ctx{i}.txt'\n",
    "    file = list(path2.glob(file_name_))\n",
    "    test = file[0] \n",
    "    incre_em['ctx'].append(i)\n",
    "    with open(test, 'r') as f:\n",
    "        em_ = float(f.readline().split()[-3])\n",
    "        incre_em['em'].append(em_)"
   ]
  },
  {
   "cell_type": "markdown",
   "id": "37d46feb",
   "metadata": {},
   "source": [
    "## Plot"
   ]
  },
  {
   "cell_type": "code",
   "execution_count": null,
   "id": "785e69bf",
   "metadata": {},
   "outputs": [],
   "source": [
    "plot_path = './img/KILTNQ_fid_bm25negatives_upperbound.pdf'\n",
    "title = 'EM & AcEM score on ramdom damaging passages '"
   ]
  },
  {
   "cell_type": "code",
   "execution_count": null,
   "id": "f6cbb8ad",
   "metadata": {},
   "outputs": [],
   "source": [
    "df = pd.DataFrame(data=dict_eval)\n",
    "# print(dict_eval)\n",
    "\n",
    "pos_set = set(df['pos'])"
   ]
  },
  {
   "cell_type": "code",
   "execution_count": null,
   "id": "befb60c1",
   "metadata": {},
   "outputs": [],
   "source": [
    "from cycler import cycler\n",
    "# marker='*',\n",
    "# default_cycler = (cycler(markers=['1', '2', '3' ,'4','8']))\n",
    "c = plt.cycler(color=[\"Blue\", \"Orange\", \"Green\",'Red','Purple'],\n",
    "               markersize=[10, 10, 10, 10, 10],\n",
    "               marker=[\"o\", \"s\", \"^\", '1', '3'])\n",
    "plt.rcParams[\"axes.prop_cycle\"] = c\n",
    "\n",
    "# plt.rc('axes', prop_cycle=default_cycler)"
   ]
  },
  {
   "cell_type": "code",
   "execution_count": null,
   "id": "042c42c1",
   "metadata": {
    "scrolled": false
   },
   "outputs": [],
   "source": [
    "# df"
   ]
  },
  {
   "cell_type": "code",
   "execution_count": null,
   "id": "0e028ce3",
   "metadata": {},
   "outputs": [],
   "source": [
    "# selected_data = df.loc[df['pos'] == pos]"
   ]
  },
  {
   "cell_type": "code",
   "execution_count": null,
   "id": "38b317c4",
   "metadata": {},
   "outputs": [],
   "source": [
    "# selected_data"
   ]
  },
  {
   "cell_type": "code",
   "execution_count": null,
   "id": "aeb0b2b0",
   "metadata": {
    "scrolled": false
   },
   "outputs": [],
   "source": [
    "fig, ax = plt.subplots(1, 1, figsize=(4, 4))\n",
    "ax.set_xticks(sorted(list(pos_set)))\n",
    "for pos in pos_set:\n",
    "    selected_data = df.loc[df['pos'] == pos]\n",
    "    ax.plot(selected_data['ctx'], selected_data['em'], label=pos, alpha = 0.5, linewidth=5)\n",
    "    \n",
    "ax.plot(incre_em['ctx'],incre_em['em'], label='AcEm', alpha = 0.3, linewidth=5, color = 'black', marker = \"*\")\n",
    "# ax.set_title('FiD result on BM25 hard negative nq dev subsets')\n",
    "# ax.set_title(title)\n",
    "ax.legend(title='Gold passage position', fontsize = 'medium', loc='center right')\n",
    "plt.xlabel('Number of Contexts')\n",
    "# plt.savefig(plot_path, format=\"pdf\", bbox_inches=\"tight\")\n",
    "plt.show()"
   ]
  },
  {
   "cell_type": "code",
   "execution_count": null,
   "id": "6b048039",
   "metadata": {},
   "outputs": [],
   "source": []
  }
 ],
 "metadata": {
  "kernelspec": {
   "display_name": "relevance-kilt",
   "language": "python",
   "name": "relevance-kilt"
  },
  "language_info": {
   "codemirror_mode": {
    "name": "ipython",
    "version": 3
   },
   "file_extension": ".py",
   "mimetype": "text/x-python",
   "name": "python",
   "nbconvert_exporter": "python",
   "pygments_lexer": "ipython3",
   "version": "3.8.13"
  }
 },
 "nbformat": 4,
 "nbformat_minor": 5
}
