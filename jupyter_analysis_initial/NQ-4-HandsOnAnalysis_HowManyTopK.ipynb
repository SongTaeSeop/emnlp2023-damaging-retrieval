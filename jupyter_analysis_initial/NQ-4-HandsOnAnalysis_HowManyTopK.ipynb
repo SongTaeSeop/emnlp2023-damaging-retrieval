{
 "cells": [
  {
   "cell_type": "markdown",
   "id": "e86601ea",
   "metadata": {},
   "source": [
    "# NQ-4-HandsOnAnalysis_HowManyTopK"
   ]
  },
  {
   "cell_type": "markdown",
   "id": "27a74a5c",
   "metadata": {},
   "source": [
    "- NQ(KILT) dev FiD with BM25 negative passages\n",
    "    - Method3. '00011011000'  -> \n",
    "    <span style=\"color:blue\">0</span><span style=\"color:blue\">0</span><span style=\"color:blue\">0</span><span style=\"color:red\">1</span></span><span style=\"color:red\">1</span>0<span style=\"color:red\">1</span></span><span style=\"color:red\">1</span>000  (__0.73651__)  \n",
    "\n",
    "- NQ dev with FiD retrieved passages\n",
    "    - Method3. '00011011000'  -> \n",
    "<span style=\"color:blue\">0</span><span style=\"color:blue\">0</span><span style=\"color:blue\">0</span><span style=\"color:red\">1</span></span><span style=\"color:red\">1</span>0<span style=\"color:red\">1</span></span><span style=\"color:red\">1</span>000  (__0.57839__)     \n",
    "\n",
    "- Both cases show that including consecutive 0s improved the overall output\n",
    "- So Questions : How many consecutive 0s are needed?\n",
    "\n",
    "    - NQ dev with FiD retrieved passages\n",
    "    - 20 passages\n",
    "    - 100 passages"
   ]
  },
  {
   "cell_type": "code",
   "execution_count": 1,
   "id": "05b5b23e",
   "metadata": {},
   "outputs": [],
   "source": [
    "from collections import Counter\n",
    "import numpy as np\n",
    "import pathlib\n",
    "from pprint import pprint\n",
    "import pandas as pd\n",
    "from util import utils\n",
    "import re\n",
    "import os\n",
    "import matplotlib.pyplot as plt\n",
    "from copy import deepcopy"
   ]
  },
  {
   "cell_type": "code",
   "execution_count": 2,
   "id": "4c756692",
   "metadata": {},
   "outputs": [],
   "source": [
    "sample_size = 100\n",
    "input_file = f'/data/philhoon-relevance/FiD/results/NQ_DPR/DEV/incremental_result_{sample_size}/ctx{sample_size}.json'"
   ]
  },
  {
   "cell_type": "code",
   "execution_count": 3,
   "id": "d6f28541",
   "metadata": {},
   "outputs": [],
   "source": [
    "input_ = utils.open_json(input_file)"
   ]
  },
  {
   "cell_type": "code",
   "execution_count": 4,
   "id": "d2926bb1",
   "metadata": {
    "scrolled": false
   },
   "outputs": [],
   "source": [
    "total_instance = len(input_)"
   ]
  },
  {
   "cell_type": "code",
   "execution_count": 5,
   "id": "00cdb110",
   "metadata": {},
   "outputs": [],
   "source": [
    "total = 0\n",
    "num_zero_lst = []"
   ]
  },
  {
   "cell_type": "code",
   "execution_count": 6,
   "id": "1d05ec2f",
   "metadata": {},
   "outputs": [],
   "source": [
    "for inst_ in input_:\n",
    "    pattern = inst_['em_pattern']\n",
    "    if pattern.startswith('0') and pattern != '0' * sample_size:\n",
    "#         print(pattern)\n",
    "        result = re.search(\"^0+\", pattern)\n",
    "        total += 1\n",
    "        num_zero_lst.append(result.span()[-1])\n",
    "#     print(pattern)\n",
    "# print(total)"
   ]
  },
  {
   "cell_type": "code",
   "execution_count": 7,
   "id": "99fecefb",
   "metadata": {},
   "outputs": [
    {
     "name": "stdout",
     "output_type": "stream",
     "text": [
      "2457\n"
     ]
    }
   ],
   "source": [
    "print(total)"
   ]
  },
  {
   "cell_type": "code",
   "execution_count": 8,
   "id": "95d02bc1",
   "metadata": {},
   "outputs": [],
   "source": [
    "zero_array = np.array(num_zero_lst)"
   ]
  },
  {
   "cell_type": "code",
   "execution_count": 9,
   "id": "09700a4a",
   "metadata": {},
   "outputs": [],
   "source": [
    "counts = Counter(num_zero_lst)"
   ]
  },
  {
   "cell_type": "code",
   "execution_count": 10,
   "id": "89ba5451",
   "metadata": {},
   "outputs": [],
   "source": [
    "sorted_counts = {k: v for k, v in sorted(counts.items(), key=lambda item: item[0])}"
   ]
  },
  {
   "cell_type": "code",
   "execution_count": 11,
   "id": "bbb5ac57",
   "metadata": {},
   "outputs": [],
   "source": [
    "# bin_size\n",
    "bin_ = 10"
   ]
  },
  {
   "cell_type": "code",
   "execution_count": 12,
   "id": "211c7378",
   "metadata": {},
   "outputs": [
    {
     "name": "stdout",
     "output_type": "stream",
     "text": [
      "100\n"
     ]
    }
   ],
   "source": [
    "bin_counts = {}\n",
    "cur = 0\n",
    "size = deepcopy(bin_)\n",
    "for key, value in sorted_counts.items():\n",
    "    if key < bin_:\n",
    "        cur += value\n",
    "    if key == bin_:\n",
    "        cur += value\n",
    "        bin_counts[bin_] = cur/total\n",
    "        cur = 0 \n",
    "        bin_ += size\n",
    "    if key > bin_:\n",
    "        bin_counts[bin_] = cur/total\n",
    "        cur = value\n",
    "        bin_ += size\n",
    "        \n",
    "        \n",
    "print(bin_)"
   ]
  },
  {
   "cell_type": "code",
   "execution_count": 13,
   "id": "9725939b",
   "metadata": {},
   "outputs": [],
   "source": [
    "# sum(bin_counts.values())"
   ]
  },
  {
   "cell_type": "code",
   "execution_count": 14,
   "id": "3765845f",
   "metadata": {},
   "outputs": [
    {
     "data": {
      "text/plain": [
       "{10: 0.7680097680097681,\n",
       " 20: 0.09157509157509157,\n",
       " 30: 0.052096052096052094,\n",
       " 40: 0.02726902726902727,\n",
       " 50: 0.016687016687016686,\n",
       " 60: 0.01098901098901099,\n",
       " 70: 0.010582010582010581,\n",
       " 80: 0.010582010582010581,\n",
       " 90: 0.004477004477004477}"
      ]
     },
     "execution_count": 14,
     "metadata": {},
     "output_type": "execute_result"
    }
   ],
   "source": [
    "bin_counts"
   ]
  },
  {
   "cell_type": "code",
   "execution_count": 15,
   "id": "f8cbc01e",
   "metadata": {},
   "outputs": [],
   "source": [
    "# fig, ax = plt.subplots(1, 1, figsize=(4, 4))\n",
    "# # ax.plot(df['ctx'], selected_data['em'], label=pos, alpha = 0.5, linewidth=5)\n",
    "# ax.plot(df_normal['ctx'],df_normal['em'], label='dpr eval', alpha = 0.3, linewidth=5, color = 'blue', marker = \"o\")    \n",
    "# ax.plot(df_incre['ctx'],df_incre['em'], label='dpr acc eval', alpha = 0.3, linewidth=5, color = 'red', marker = \"*\")\n",
    "# # ax.set_title('FiD result on BM25 hard negative nq dev subsets')\n",
    "# ax.set_title(title)\n",
    "# ax.legend(title='Normal vs Accumulated', fontsize = 'x-small')\n",
    "# plt.ylabel('EM')\n",
    "# plt.xlabel('Number of Context')\n",
    "# plt.savefig(plot_path, dpi=300)\n",
    "# plt.show()"
   ]
  },
  {
   "cell_type": "code",
   "execution_count": 16,
   "id": "e1d522a0",
   "metadata": {},
   "outputs": [],
   "source": [
    "def plot_counts(count_dict):\n",
    "    fig, ax = plt.subplots(1, 1, figsize=(4, 4))\n",
    "#     bars = ax.barh(count_dict.keys(), count_dict.values())\n",
    "    ax.bar(count_dict.keys(), count_dict.values())\n",
    "#     ax.bar_label(bars)\n",
    "    fig.show()\n",
    "#     ax.bar_label(bars)\n",
    "\n",
    "#     plt.bar(count_dict.keys(), count_dict.values())"
   ]
  },
  {
   "cell_type": "code",
   "execution_count": 17,
   "id": "fe44e34c",
   "metadata": {},
   "outputs": [
    {
     "data": {
      "image/png": "[encoded data removed]",
      "text/plain": [
       "<Figure size 400x400 with 1 Axes>"
      ]
     },
     "metadata": {},
     "output_type": "display_data"
    }
   ],
   "source": [
    "plot_counts(bin_counts)"
   ]
  },
  {
   "cell_type": "code",
   "execution_count": null,
   "id": "0e35959e",
   "metadata": {},
   "outputs": [],
   "source": []
  },
  {
   "cell_type": "code",
   "execution_count": null,
   "id": "179f2678",
   "metadata": {},
   "outputs": [],
   "source": []
  },
  {
   "cell_type": "code",
   "execution_count": null,
   "id": "d250d643",
   "metadata": {},
   "outputs": [],
   "source": []
  }
 ],
 "metadata": {
  "kernelspec": {
   "display_name": "relevance-kilt",
   "language": "python",
   "name": "relevance-kilt"
  },
  "language_info": {
   "codemirror_mode": {
    "name": "ipython",
    "version": 3
   },
   "file_extension": ".py",
   "mimetype": "text/x-python",
   "name": "python",
   "nbconvert_exporter": "python",
   "pygments_lexer": "ipython3",
   "version": "3.8.13"
  }
 },
 "nbformat": 4,
 "nbformat_minor": 5
}
