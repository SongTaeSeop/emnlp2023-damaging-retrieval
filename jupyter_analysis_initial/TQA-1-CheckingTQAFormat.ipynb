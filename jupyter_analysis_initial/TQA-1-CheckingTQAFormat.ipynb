{
 "cells": [
  {
   "cell_type": "markdown",
   "id": "e86601ea",
   "metadata": {},
   "source": [
    "# CheckingTQAFormat"
   ]
  },
  {
   "cell_type": "markdown",
   "id": "c49f712c",
   "metadata": {},
   "source": [
    "- checking Triva Question Answering Format"
   ]
  },
  {
   "cell_type": "code",
   "execution_count": 15,
   "id": "e716e448",
   "metadata": {},
   "outputs": [],
   "source": [
    "# FiD_nq_dpr \n",
    "# /data/philhoon-relevance/FiD/open_domain_data/NQ\n",
    "# /data/philhoon-relevance/FiD/open_domain_data/NQ/train.json\n",
    "# /data/philhoon-relevance/FiD/open_domain_data/NQ/dev.json\n",
    "# /data/philhoon-relevance/FiD/open_domain_data/NQ/test.json\n",
    "\n",
    "# kilt_nq_dpr\n",
    "# /data/philhoon-relevance/KILT/kilt-dpr-retrieval/nq-train-multikilt.json\n",
    "# /data/philhoon-relevance/KILT/kilt-dpr-retrieval/nq-dev-multikilt.json"
   ]
  },
  {
   "cell_type": "code",
   "execution_count": 16,
   "id": "45799c7c",
   "metadata": {},
   "outputs": [],
   "source": [
    "import json\n",
    "from pprint import pprint\n",
    "import torch\n",
    "import numpy as np\n",
    "import random\n",
    "from copy import deepcopy\n",
    "from util import utils"
   ]
  },
  {
   "cell_type": "markdown",
   "id": "eddb0771",
   "metadata": {},
   "source": [
    "## FiD NQ input format \n",
    "    - DPR retrieved data"
   ]
  },
  {
   "cell_type": "code",
   "execution_count": 17,
   "id": "016f8147",
   "metadata": {},
   "outputs": [],
   "source": [
    "# fid_nq_train_file = '/data/philhoon-relevance/FiD/open_domain_data/NQ/train.json'\n",
    "fid_nq_dev_file = '/data/philhoon-relevance/FiD/open_domain_data/NQ/dev.json'"
   ]
  },
  {
   "cell_type": "code",
   "execution_count": null,
   "id": "91856559",
   "metadata": {},
   "outputs": [],
   "source": [
    "fid_nq_dpr_dev = utils.open_json(fid_nq_dev_file)\n",
    "# fid_nq_dpr_train = open_json(fid_nq_train_file)"
   ]
  },
  {
   "cell_type": "code",
   "execution_count": null,
   "id": "d98b5e68",
   "metadata": {},
   "outputs": [],
   "source": [
    "len(fid_nq_dpr_dev)"
   ]
  },
  {
   "cell_type": "code",
   "execution_count": null,
   "id": "6e859eda",
   "metadata": {},
   "outputs": [],
   "source": [
    "fid_nq_dpr_dev[-1].keys()"
   ]
  },
  {
   "cell_type": "code",
   "execution_count": null,
   "id": "9d841ba7",
   "metadata": {
    "scrolled": false
   },
   "outputs": [],
   "source": [
    "# pprint(fid_nq_dpr_dev[-1])"
   ]
  },
  {
   "cell_type": "code",
   "execution_count": null,
   "id": "0070c441",
   "metadata": {},
   "outputs": [],
   "source": [
    "# fid_nq_train_file[0].keys()"
   ]
  },
  {
   "cell_type": "code",
   "execution_count": null,
   "id": "85f0c8ba",
   "metadata": {
    "scrolled": false
   },
   "outputs": [],
   "source": [
    "# pprint(fid_nq_train_file[0])"
   ]
  },
  {
   "cell_type": "code",
   "execution_count": null,
   "id": "134e1518",
   "metadata": {},
   "outputs": [],
   "source": [
    "fid_tqa_dev_file = '/data/philhoon-relevance/FiD/open_domain_data/TQA/dev.json'\n",
    "fid_tqa_dpr_dev = utils.open_json(fid_tqa_dev_file)"
   ]
  },
  {
   "cell_type": "code",
   "execution_count": null,
   "id": "e165845e",
   "metadata": {},
   "outputs": [],
   "source": [
    "print(len(fid_tqa_dpr_dev))\n",
    "fid_tqa_dpr_dev[-1].keys()"
   ]
  },
  {
   "cell_type": "code",
   "execution_count": null,
   "id": "624f6610",
   "metadata": {
    "scrolled": false
   },
   "outputs": [],
   "source": [
    "# pprint(fid_tqa_dpr_dev[-1])"
   ]
  },
  {
   "cell_type": "code",
   "execution_count": null,
   "id": "110faaad",
   "metadata": {},
   "outputs": [],
   "source": []
  },
  {
   "cell_type": "code",
   "execution_count": null,
   "id": "d2848e8a",
   "metadata": {},
   "outputs": [],
   "source": []
  },
  {
   "cell_type": "code",
   "execution_count": null,
   "id": "39fd2cd2",
   "metadata": {},
   "outputs": [],
   "source": []
  },
  {
   "cell_type": "code",
   "execution_count": null,
   "id": "f140314a",
   "metadata": {},
   "outputs": [],
   "source": []
  },
  {
   "cell_type": "code",
   "execution_count": null,
   "id": "1740306c",
   "metadata": {},
   "outputs": [],
   "source": []
  },
  {
   "cell_type": "code",
   "execution_count": null,
   "id": "031ae330",
   "metadata": {},
   "outputs": [],
   "source": []
  },
  {
   "cell_type": "code",
   "execution_count": null,
   "id": "86afa139",
   "metadata": {},
   "outputs": [],
   "source": []
  },
  {
   "cell_type": "code",
   "execution_count": null,
   "id": "ff3ff2a8",
   "metadata": {},
   "outputs": [],
   "source": []
  },
  {
   "cell_type": "code",
   "execution_count": null,
   "id": "7583645c",
   "metadata": {},
   "outputs": [],
   "source": []
  },
  {
   "cell_type": "markdown",
   "id": "9fbfd992",
   "metadata": {},
   "source": [
    "### Optional keys\n",
    "- id : optional\n",
    "- target : optional \n",
    "- answer used for model training, \n",
    "- if not given, the target is randomly sampled from the 'answers' list\n",
    "\n",
    "### Required keys\n",
    "- question - question text\n",
    "- ansswers - list of answers for evalutaion\n",
    "- ctx - a list of passages where each item is a dictionary contraining \n",
    "     - title : article title \n",
    "     - text : text"
   ]
  },
  {
   "cell_type": "markdown",
   "id": "be61d8fc",
   "metadata": {},
   "source": [
    "# FiD input format"
   ]
  },
  {
   "cell_type": "markdown",
   "id": "88c47621",
   "metadata": {},
   "source": [
    "```\n",
    "{\n",
    "  'question': 'What element did Marie Curie name after her native land?',\n",
    "  'answers': ['Polonium', 'Po (chemical element)', 'Po'],\n",
    "  'ctxs': [\n",
    "            {\n",
    "                \"title\": \"Marie Curie\",\n",
    "                \"text\": \"them on visits to Poland. She named the first chemical element that she discovered in 1898 \\\"polonium\\\", after her native country. Marie Curie died in 1934, aged 66, at a sanatorium in Sancellemoz (Haute-Savoie), France, of aplastic anemia from exposure to radiation in the course of her scientific research and in the course of her radiological work at field hospitals during World War I. Maria Sk\\u0142odowska was born in Warsaw, in Congress Poland in the Russian Empire, on 7 November 1867, the fifth and youngest child of well-known teachers Bronis\\u0142awa, \\\"n\\u00e9e\\\" Boguska, and W\\u0142adys\\u0142aw Sk\\u0142odowski. The elder siblings of Maria\"\n",
    "            },\n",
    "            {\n",
    "                \"title\": \"Marie Curie\",\n",
    "                \"text\": \"was present in such minute quantities that they would eventually have to process tons of the ore. In July 1898, Curie and her husband published a joint paper announcing the existence of an element which they named \\\"polonium\\\", in honour of her native Poland, which would for another twenty years remain partitioned among three empires (Russian, Austrian, and Prussian). On 26 December 1898, the Curies announced the existence of a second element, which they named \\\"radium\\\", from the Latin word for \\\"ray\\\". In the course of their research, they also coined the word \\\"radioactivity\\\". To prove their discoveries beyond any\"\n",
    "            }\n",
    "    ]\n",
    "}\n",
    "\n",
    "```"
   ]
  },
  {
   "cell_type": "markdown",
   "id": "9ebc60aa",
   "metadata": {},
   "source": [
    "## KILT NQ bm25\n",
    "- KILT NQ BM25 retrieved data (for DPR training with KILT wikipedia data)\n",
    "- https://github.com/facebookresearch/DPR/issues/186"
   ]
  },
  {
   "cell_type": "code",
   "execution_count": 9,
   "id": "e5effa30",
   "metadata": {},
   "outputs": [],
   "source": [
    "kilt_nq_dev_file = '/data/philhoon-relevance/KILT/kilt-dpr-retrieval/nq-dev-multikilt.json'\n",
    "# kilt_nq_train_file = '/data/philhoon-relevance/KILT/kilt-dpr-retrieval/nq-train-multikilt.json'\n",
    "kilt_nq_bm25_dev = utils.open_json(kilt_nq_dev_file)\n",
    "# kilt_nq_train = utils.open_json(kilt_nq_train_file)"
   ]
  },
  {
   "cell_type": "markdown",
   "id": "638e4662",
   "metadata": {},
   "source": [
    "#### KILT NQ Adversarial Negative (dpr)\n",
    "    - only provide adversarial negatives in train"
   ]
  },
  {
   "cell_type": "code",
   "execution_count": 10,
   "id": "4a465a9a",
   "metadata": {},
   "outputs": [],
   "source": [
    "# kilt_nq_train_ad_file = '/data/philhoon-relevance/KILT/kilt-dpr-ad-retrieval/nq-train-adv.json'\n",
    "# kilt_nq_train_ad = utils.open_json(kilt_nq_train_ad_file)\n",
    "# pprint(kilt_nq_train[0])\n",
    "# pprint(kilt_nq_train_ad[0])"
   ]
  },
  {
   "cell_type": "code",
   "execution_count": 11,
   "id": "c88070bd",
   "metadata": {},
   "outputs": [
    {
     "data": {
      "text/plain": [
       "2837"
      ]
     },
     "execution_count": 11,
     "metadata": {},
     "output_type": "execute_result"
    }
   ],
   "source": [
    "len(kilt_nq_bm25_dev)"
   ]
  },
  {
   "cell_type": "code",
   "execution_count": 12,
   "id": "89866688",
   "metadata": {
    "scrolled": false
   },
   "outputs": [
    {
     "name": "stdout",
     "output_type": "stream",
     "text": [
      "dict_keys(['question', 'answers', 'positive_ctxs', 'hard_negative_ctxs'])\n"
     ]
    }
   ],
   "source": [
    "pprint(kilt_nq_bm25_dev[0].keys())"
   ]
  },
  {
   "cell_type": "code",
   "execution_count": 13,
   "id": "c09d4484",
   "metadata": {
    "scrolled": false
   },
   "outputs": [
    {
     "name": "stdout",
     "output_type": "stream",
     "text": [
      "{'answers': ['the therefore sign',\n",
      "             'therefore sign',\n",
      "             'the therefore sign ( ∴ ) is generally used before a logical '\n",
      "             'consequence , such as the conclusion of a syllogism',\n",
      "             'a logical consequence , such as the conclusion of a syllogism'],\n",
      " 'hard_negative_ctxs': [{'psg_id': 8725785,\n",
      "                         'text': 'difficult, having these pre-assessments done '\n",
      "                                 'will help you spend more time teaching '\n",
      "                                 \"students what they don't know and just \"\n",
      "                                 'refreshing them on what they do already do '\n",
      "                                 'know. For example, if you are going to be '\n",
      "                                 'starting a new unit in math, how to add and '\n",
      "                                 'subtract. Just by asking the students \"What '\n",
      "                                 'does addition mean?\", \"What does subtraction '\n",
      "                                 'mean\" and, \"Do they relate to each other?\", '\n",
      "                                 'the teacher would be able to know that the '\n",
      "                                 'students had a good basic',\n",
      "                         'title': 'Pre-assessment'},\n",
      "                        {'psg_id': 31333436,\n",
      "                         'text': ', 3(2):2200, 2008.\\n'\n",
      "                                 '- Misha Gromov. \"Topological invariants of '\n",
      "                                 'dynamical systems and spaces of holomorphic '\n",
      "                                 'maps\". I. Math. Phys. Anal. Geom., '\n",
      "                                 '2(4):323–415, 1999.\\n'\n",
      "                                 '- Elon Lindenstrauss and Benjamin Weiss. '\n",
      "                                 '\"Mean topological dimension\". Israel J. '\n",
      "                                 'Math., 115:1–24, 2000.\\n'\n",
      "                                 'External links.\\n'\n",
      "                                 'What is Mean Dimension?',\n",
      "                         'title': 'Mean dimension'},\n",
      "                        {'psg_id': 8165202,\n",
      "                         'text': '1. \"Introduction (Mel Lewis & Alan Grant)\" – '\n",
      "                                 '1:50\\n'\n",
      "                                 '2. \"Big Dipper\" – 5:10\\n'\n",
      "                                 '3. \"Polka Dots and Moonbeams\" (Van Heusen, '\n",
      "                                 'Burke) – 3:47\\n'\n",
      "                                 '4. \"Once Around\" – 12:37\\n'\n",
      "                                 '5. \"All My Yesterdays\" – 4:08\\n'\n",
      "                                 '6. \"Morning Reverend\" – 4:50\\n'\n",
      "                                 '7. \"Low Down\" – 4:25\\n'\n",
      "                                 '8. \"Lover Man\" (Davis, Ramirez, Sherman) – '\n",
      "                                 '5:08\\n'\n",
      "                                 '9. \"Mean What',\n",
      "                         'title': 'Opening Night (album)'},\n",
      "                        {'psg_id': 17277589,\n",
      "                         'text': '4:38\\n'\n",
      "                                 '2. \"Lover Man (Oh Where Can You Be?)\" '\n",
      "                                 '(Davis, Ramirez, Sherman) – 5:25\\n'\n",
      "                                 '3. \"Ah, That\\'s Freedom\" – 10:08\\n'\n",
      "                                 '4. \"Don\\'t Ever Leave Me\" – 4:28\\n'\n",
      "                                 '5. \"Willow Weep for Me\" (Ronell) – 6:15\\n'\n",
      "                                 '6. \"Mean What You Say\" – 5:51\\n'\n",
      "                                 '7. \"Once Around\" – 12:45\\n'\n",
      "                                 '8. \"Polka Dots and Moonbeams\" (Van Heusen, '\n",
      "                                 'Burke) – 4:02',\n",
      "                         'title': 'All My Yesterdays'},\n",
      "                        {'psg_id': 27859313,\n",
      "                         'text': 'Track listings appear in a slightly '\n",
      "                                 'different order on the reissued version as '\n",
      "                                 'well.\\n'\n",
      "                                 'Singles from this album include \"My Girl\", '\n",
      "                                 'and \"Do You Know What I Mean\" (with '\n",
      "                                 'background vocals provided by Lee Aaron).\\n'\n",
      "                                 'Track listing.\\n'\n",
      "                                 'Track listing Original release.\\n'\n",
      "                                 '1. \"Veil of Tears\" – 4:23\\n'\n",
      "                                 '2. \"Do You Know What I Mean\" – 3:45\\n'\n",
      "                                 '3. \"Caviar\" – 4:34\\n'\n",
      "                                 '4. \"Sonya\" – 5:10\\n'\n",
      "                                 '5. \"Head On\"',\n",
      "                         'title': 'Myles Goodwyn (album)'}],\n",
      " 'positive_ctxs': [{'psg_id': 3894652,\n",
      "                    'text': 'Therefore sign\\n'\n",
      "                            'In logical argument and mathematical proof, the '\n",
      "                            'therefore sign (∴) is generally used before a '\n",
      "                            'logical consequence, such as the conclusion of a '\n",
      "                            'syllogism. The symbol consists of three dots '\n",
      "                            'placed in an upright triangle and is read '\n",
      "                            '\"therefore\". It is encoded at . While it is not '\n",
      "                            'generally used in formal writing, it is used in '\n",
      "                            'mathematics and shorthand. It is complementary to '\n",
      "                            '.\\n'\n",
      "                            'History.\\n'\n",
      "                            'According to Cajori, \"A History of Mathematical '\n",
      "                            'Notations,\" Johann Rahn used both the \"',\n",
      "                    'title': 'Therefore sign'}],\n",
      " 'question': 'what do the 3 dots mean in math'}\n"
     ]
    }
   ],
   "source": [
    "pprint(kilt_nq_bm25_dev[0])"
   ]
  },
  {
   "cell_type": "code",
   "execution_count": 14,
   "id": "744da031",
   "metadata": {},
   "outputs": [],
   "source": [
    "# def seed_everything(seed):\n",
    "#     torch.manual_seed(seed)\n",
    "#     torch.cuda.manual_seed(seed)\n",
    "#     torch.cuda.manual_seed_all(seed)  # if use multi-GPU\n",
    "#     torch.backends.cudnn.deterministic = True\n",
    "#     torch.backends.cudnn.benchmark = False\n",
    "#     np.random.seed(seed)\n",
    "#     random.seed(seed)"
   ]
  },
  {
   "cell_type": "code",
   "execution_count": 15,
   "id": "62fd9565",
   "metadata": {},
   "outputs": [],
   "source": [
    "seed = 42"
   ]
  },
  {
   "cell_type": "code",
   "execution_count": 16,
   "id": "54fe1bda",
   "metadata": {},
   "outputs": [],
   "source": []
  },
  {
   "cell_type": "code",
   "execution_count": null,
   "id": "b6b0ba23",
   "metadata": {},
   "outputs": [],
   "source": [
    "# json_file = kilt_nq_dpr_dev\n",
    "\n",
    "# cut_off = 0\n",
    "# cut_off_pos = 0\n",
    "# instances = []\n",
    "# sample_size = 5\n",
    "# position = 1\n",
    "# total_questions = len(json_file) \n",
    "# ids = 1"
   ]
  },
  {
   "cell_type": "code",
   "execution_count": null,
   "id": "c53d7412",
   "metadata": {
    "scrolled": false
   },
   "outputs": [],
   "source": [
    "def convert_foramt(json_file, sample_size:int, position:int):\n",
    "    \"\"\"\n",
    "    Convert KILT retrieval foramt to FiD input format\n",
    "    Output format\n",
    "    {\n",
    "      'question': text,\n",
    "      'answers': answer_lst,\n",
    "      'ctxs': [\n",
    "                {\n",
    "                    \"title\": \"Marie Curie\",\n",
    "                    \"text\": \"them on visits to Poland. She named the first chemical element that she discovered in 1898 \\\"polonium\\\", after her native country. Marie Curie died in 1934, aged 66, at a sanatorium in Sancellemoz (Haute-Savoie), France, of aplastic anemia from exposure to radiation in the course of her scientific research and in the course of her radiological work at field hospitals during World War I. Maria Sk\\u0142odowska was born in Warsaw, in Congress Poland in the Russian Empire, on 7 November 1867, the fifth and youngest child of well-known teachers Bronis\\u0142awa, \\\"n\\u00e9e\\\" Boguska, and W\\u0142adys\\u0142aw Sk\\u0142odowski. The elder siblings of Maria\"\n",
    "                },\n",
    "                ...\n",
    "                {\n",
    "                    \"title\": \"Marie Curie\",\n",
    "                    \"text\": \"was present in such minute quantities that they would eventually have to process tons of the ore. In July 1898, Curie and her husband published a joint paper announcing the existence of an element which they named \\\"polonium\\\", in honour of her native Poland, which would for another twenty years remain partitioned among three empires (Russian, Austrian, and Prussian). On 26 December 1898, the Curies announced the existence of a second element, which they named \\\"radium\\\", from the Latin word for \\\"ray\\\". In the course of their research, they also coined the word \\\"radioactivity\\\". To prove their discoveries beyond any\"\n",
    "                }\n",
    "        ]\n",
    "    }\n",
    "    \n",
    "    Position means location on positive context on ctxs list\n",
    "    \"\"\"\n",
    "    cut_off = 0\n",
    "    cut_off_pos = 0\n",
    "    instances = []\n",
    "    sample_size = sample_size\n",
    "    position = position\n",
    "    total_questions = len(json_file) \n",
    "    ids = 1\n",
    "    \n",
    "    for idx, samples in enumerate(json_file):\n",
    "        answers = samples['answers']\n",
    "        question = samples['question']\n",
    "        negative_samples = []\n",
    "\n",
    "        if len(samples['hard_negative_ctxs']) < sample_size or len(samples['positive_ctxs']) < 1:\n",
    "            cut_off += 1\n",
    "        else:\n",
    "            cnt_negative_sample = 0\n",
    "            for neg_sample in samples['hard_negative_ctxs']:\n",
    "                if cnt_negative_sample > sample_size - 1:\n",
    "                    break\n",
    "                ng_temp = {\n",
    "                    \"title\" : neg_sample['title'].replace('\\n', ' '),\n",
    "                    \"text\" : neg_sample['text'].replace('\\n', ' ')\n",
    "                }\n",
    "                negative_samples.append(ng_temp)\n",
    "                cnt_negative_sample += 1\n",
    "\n",
    "            # 'hard_negative_ctxs' might be sorted by its score, so shuffle them\n",
    "            random.shuffle(negative_samples)\n",
    "\n",
    "            # replace 1 negative_sample with one positive_sample in designated position\n",
    "            flag = 0\n",
    "            for answer in answers:\n",
    "                for pos_sample in samples['positive_ctxs']:\n",
    "                    if answer in pos_sample['text'] or answer in pos_sample['title']:\n",
    "                        positive_temp = {\n",
    "                            \"psg_id\" : pos_sample['psg_id'],\n",
    "                            \"title\" : pos_sample['title'].replace('\\n', ' '),\n",
    "                            \"text\" : pos_sample['text'].replace('\\n', ' ')\n",
    "                        } \n",
    "                        flag = 1\n",
    "                        break\n",
    "                else:\n",
    "                    continue\n",
    "                break\n",
    "\n",
    "            if flag:\n",
    "                ctx_samples = deepcopy(negative_samples)\n",
    "                ctx_samples[position-1] = positive_temp\n",
    "                ctxs_template={\n",
    "                    'id' : str(ids),\n",
    "                    'question' : question,\n",
    "                    'answers' : answers,\n",
    "                    'ctxs' : ctx_samples\n",
    "                }\n",
    "                ids += 1\n",
    "                instances.append(ctxs_template)\n",
    "            else:\n",
    "                cut_off_pos += 1   \n",
    "    \n",
    "    return instances, cut_off + cut_off_pos, total_questions"
   ]
  },
  {
   "cell_type": "code",
   "execution_count": null,
   "id": "1c98251d",
   "metadata": {},
   "outputs": [],
   "source": [
    "pos = 1\n",
    "sample_size = 5\n",
    "instances, loss, total = convert_foramt(kilt_nq_bm25_dev, sample_size, pos)"
   ]
  },
  {
   "cell_type": "code",
   "execution_count": null,
   "id": "a01a2ab5",
   "metadata": {},
   "outputs": [],
   "source": [
    "print(len(instances))\n",
    "print(loss)\n",
    "print(total)\n",
    "print(total-loss)"
   ]
  },
  {
   "cell_type": "code",
   "execution_count": null,
   "id": "f0ce39d8",
   "metadata": {
    "scrolled": false
   },
   "outputs": [],
   "source": [
    "# position = 1\n",
    "# check_ids = 1\n",
    "# position = 1\n",
    "# for i in instances:\n",
    "#     id_ = i['id']\n",
    "#     # check consecutive id\n",
    "#     if i['id'] != str(check_ids):\n",
    "#         print(f'id not matching : should be {check_ids} instead of {id_}')\n",
    "    \n",
    "#     check_ids += 1\n",
    "#     question = i['question']\n",
    "#     answer_ = i['answers']\n",
    "#     pos = i['ctx'][position-1]['text']\n",
    "#     # check whether negative ctx has answers\n",
    "#     for answer in i['answers']:\n",
    "#         for neg in i['ctx'][:position-1] + i['ctx'][position:]:\n",
    "#             neg_context = neg['title'] + ' : ' + neg['text']\n",
    "#             if answer in neg_context:\n",
    "#                 print('answer in neg_context')\n",
    "#                 print(f'Question : {question}')\n",
    "#                 print(f'Answer : {answer_}')\n",
    "#                 print(f'neg_passage : {neg_context}')\n",
    "#                 print(f'pos_passage : {pos}')\n",
    "        \n",
    "#                 break"
   ]
  },
  {
   "cell_type": "code",
   "execution_count": null,
   "id": "6fa5f0bb",
   "metadata": {},
   "outputs": [],
   "source": [
    "pprint(instances[50])"
   ]
  },
  {
   "cell_type": "code",
   "execution_count": null,
   "id": "8d398ee7",
   "metadata": {},
   "outputs": [],
   "source": [
    "filename = f'/data/philhoon-relevance/FiD/open_domain_data/NQ_KILT_BM25/kilt_bm25_nq_dev_pos{pos}.json'"
   ]
  },
  {
   "cell_type": "code",
   "execution_count": null,
   "id": "3f7127ba",
   "metadata": {},
   "outputs": [],
   "source": [
    "filename"
   ]
  },
  {
   "cell_type": "code",
   "execution_count": null,
   "id": "4be17ac1",
   "metadata": {},
   "outputs": [],
   "source": [
    "# utils.save_json(instances, filename)"
   ]
  },
  {
   "cell_type": "code",
   "execution_count": null,
   "id": "ca4ed66a",
   "metadata": {},
   "outputs": [],
   "source": []
  },
  {
   "cell_type": "markdown",
   "id": "97962d31",
   "metadata": {},
   "source": [
    "# Swappings up to position 5\n",
    "- Based on previous result, incrementally create new files with different position of positive ctx"
   ]
  },
  {
   "cell_type": "code",
   "execution_count": null,
   "id": "b7d6791a",
   "metadata": {},
   "outputs": [],
   "source": [
    "def create_new_instance(instances, previous_pos, new_position):\n",
    "    new_instance = deepcopy(instances)\n",
    "    for ins in new_instance:\n",
    "        ins['ctxs'][previous_pos-1], ins['ctxs'][new_position-1] = ins['ctxs'][new_position-1], ins['ctxs'][previous_pos-1]\n",
    "    return new_instance"
   ]
  },
  {
   "cell_type": "code",
   "execution_count": null,
   "id": "9dffd5da",
   "metadata": {},
   "outputs": [],
   "source": [
    "def checking_with_previous(instances, instances2, previous_pos, new_position):\n",
    "    # checking\n",
    "    for in1, in2 in zip(instances, instances2):\n",
    "        if in1['id'] != in2['id']:\n",
    "            print('not matching id')\n",
    "            return False\n",
    "        if in1['question'] != in2['question']:\n",
    "            print('not mathcing question')\n",
    "            return False\n",
    "        if in1['answers'] != in2['answers']:\n",
    "            print('not mathcing question')\n",
    "            return False\n",
    "        if in1['ctxs'][:previous_pos-1] + in1['ctxs'][previous_pos:] != in2['ctxs'][:new_position-1] + in2['ctxs'][new_position:]:\n",
    "            print('negative not mathcing')\n",
    "            pprint(in1['ctxs'])\n",
    "            print('-----')\n",
    "            pprint(in2['ctxs'])\n",
    "            return False\n",
    "        if in1['ctxs'][previous_pos-1] != in2['ctxs'][new_position-1]:\n",
    "            print('positive not mathcing')\n",
    "            print(in1['ctxs'][previous_pos-1])\n",
    "            print(in2['ctxs'][new_position-1])\n",
    "            return False\n",
    "    return True\n",
    "    "
   ]
  },
  {
   "cell_type": "code",
   "execution_count": null,
   "id": "a0b3f2ae",
   "metadata": {},
   "outputs": [],
   "source": [
    "# prev_pos = 1\n",
    "# next_pos = 2\n",
    "# instance2 = create_new_instance(instances, prev_pos, next_pos)"
   ]
  },
  {
   "cell_type": "code",
   "execution_count": null,
   "id": "33fe562f",
   "metadata": {},
   "outputs": [],
   "source": [
    "# checking_with_previous(instances, instance2, prev_pos, next_pos)"
   ]
  },
  {
   "cell_type": "code",
   "execution_count": null,
   "id": "d80c2b22",
   "metadata": {},
   "outputs": [],
   "source": [
    "# instance2 = deepcopy(instances)"
   ]
  },
  {
   "cell_type": "code",
   "execution_count": null,
   "id": "4a667b08",
   "metadata": {},
   "outputs": [],
   "source": [
    "# filename = f'/data/philhoon-relevance/FiD/open_domain_data/NQ_KILT_BM25/kilt_dpr_nq_dev_pos{next_pos}.json'"
   ]
  },
  {
   "cell_type": "code",
   "execution_count": null,
   "id": "76b8e8e4",
   "metadata": {},
   "outputs": [],
   "source": [
    "# prev_pos, next_pos = next_pos, next_pos + 1\n",
    "# print(prev_pos, next_pos)"
   ]
  },
  {
   "cell_type": "code",
   "execution_count": null,
   "id": "4ca33b6f",
   "metadata": {},
   "outputs": [],
   "source": []
  },
  {
   "cell_type": "code",
   "execution_count": null,
   "id": "c9828a78",
   "metadata": {},
   "outputs": [],
   "source": [
    "last_ins_testing = deepcopy(instances)\n",
    "for i in range(1, 6):\n",
    "    prev_pos = i\n",
    "    next_pos = prev_pos + 1 if prev_pos < 5 else 1\n",
    "    filename = f'/data/philhoon-relevance/FiD/open_domain_data/NQ_KILT_BM25/kilt_bm25_nq_dev_pos{next_pos}.json'\n",
    "    instance2 = create_new_instance(instances, prev_pos, next_pos)\n",
    "    print(f'prev_pos : {prev_pos} next_pos : {next_pos}')\n",
    "    \n",
    "    if next_pos == 1 and checking_with_previous(instances, last_ins_testing, prev_pos, next_pos):\n",
    "        print(f'checking the first one and the last instance')\n",
    "    elif checking_with_previous(instances, instance2, prev_pos, next_pos):\n",
    "        utils.save_json(instance2, filename)\n",
    "        print(f'Saving {next_pos} instance')\n",
    "        \n",
    "    instances = deepcopy(instance2)\n",
    "        "
   ]
  },
  {
   "cell_type": "markdown",
   "id": "e44a6c74",
   "metadata": {},
   "source": [
    "## ====== The End ======\n",
    "\n"
   ]
  },
  {
   "cell_type": "code",
   "execution_count": null,
   "id": "98138852",
   "metadata": {},
   "outputs": [],
   "source": []
  },
  {
   "cell_type": "code",
   "execution_count": null,
   "id": "d0dbb3ec",
   "metadata": {},
   "outputs": [],
   "source": []
  },
  {
   "cell_type": "code",
   "execution_count": null,
   "id": "8056f819",
   "metadata": {},
   "outputs": [],
   "source": []
  },
  {
   "cell_type": "code",
   "execution_count": null,
   "id": "7ec44f95",
   "metadata": {},
   "outputs": [],
   "source": [
    "\n",
    "for i in range(1, 6):\n",
    "    prev_pos = i\n",
    "    next_pos = prev_pos + 1 if prev_pos < 5 else 1\n",
    "    print(f'prev_pos : {prev_pos} next_pos : {next_pos}')\n",
    "    instance2 = create_new_instance(instances, prev_pos, next_pos)\n",
    "    print(checking_with_previous(instances, instance2, prev_pos, next_pos))\n",
    "    filename = f'/data/philhoon-relevance/FiD/open_domain_data/NQ_KILT_BM25/kilt_dpr_nq_dev_pos{next_pos}.json'\n",
    "    print(filename)\n",
    "    print('==========')\n",
    "    instances = deepcopy(instance2)\n",
    "        "
   ]
  },
  {
   "cell_type": "code",
   "execution_count": null,
   "id": "903e0e24",
   "metadata": {},
   "outputs": [],
   "source": []
  },
  {
   "cell_type": "code",
   "execution_count": null,
   "id": "2c1708b5",
   "metadata": {},
   "outputs": [],
   "source": []
  },
  {
   "cell_type": "code",
   "execution_count": null,
   "id": "5fe17e11",
   "metadata": {},
   "outputs": [],
   "source": []
  },
  {
   "cell_type": "code",
   "execution_count": null,
   "id": "845d932d",
   "metadata": {},
   "outputs": [],
   "source": []
  },
  {
   "cell_type": "code",
   "execution_count": null,
   "id": "3dde1500",
   "metadata": {},
   "outputs": [],
   "source": [
    "previous_pos = 1\n",
    "new_position = 2"
   ]
  },
  {
   "cell_type": "code",
   "execution_count": null,
   "id": "f04d709a",
   "metadata": {},
   "outputs": [],
   "source": [
    "for ins in instance2:\n",
    "    ins['ctxs'][previous_pos-1], ins['ctxs'][new_position-1] = ins['ctxs'][new_position-1], ins['ctxs'][previous_pos-1]"
   ]
  },
  {
   "cell_type": "code",
   "execution_count": null,
   "id": "7792a570",
   "metadata": {
    "scrolled": false
   },
   "outputs": [],
   "source": [
    "# checking\n",
    "for in1, in2 in zip(instances, instance2):\n",
    "    if in1['id'] != in2['id']:\n",
    "        print('not matching id')\n",
    "        break\n",
    "    if in1['question'] != in2['question']:\n",
    "        print('not mathcing question')\n",
    "        break\n",
    "    if in1['answers'] != in2['answers']:\n",
    "        print('not mathcing question')\n",
    "        break\n",
    "    if in1['ctxs'][:previous_pos-1] + in1['ctxs'][previous_pos:] != in2['ctxs'][:new_position-1] + in2['ctxs'][new_position:]:\n",
    "        print('negative not mathcing')\n",
    "        pprint(in1['ctxs'][:previous_pos-1] + in1['ctxs'][previous_pos:])\n",
    "        pprint(in2['ctxs'][:new_position-1] + in2['ctxs'][new_position:])\n",
    "        break\n",
    "    if in1['ctxs'][previous_pos-1] != in2['ctxs'][new_position-1]:\n",
    "        print('positive not mathcing')\n",
    "        print(in1['ctxs'][previous_pos-1])\n",
    "        print(in2['ctxs'][new_position-1])\n",
    "        break\n",
    "    "
   ]
  },
  {
   "cell_type": "code",
   "execution_count": null,
   "id": "d2709eff",
   "metadata": {},
   "outputs": [],
   "source": [
    "filename = '/data/philhoon-relevance/FiD/open_domain_data/NQ_KILT_DPR/kilt_dpr_nq_dev_pos2.json'"
   ]
  },
  {
   "cell_type": "code",
   "execution_count": null,
   "id": "79811f4e",
   "metadata": {},
   "outputs": [],
   "source": [
    "save_json(instance2, filename)"
   ]
  },
  {
   "cell_type": "code",
   "execution_count": null,
   "id": "642f7171",
   "metadata": {},
   "outputs": [],
   "source": [
    "instance3 = deepcopy(instance2)"
   ]
  },
  {
   "cell_type": "code",
   "execution_count": null,
   "id": "227a326a",
   "metadata": {},
   "outputs": [],
   "source": [
    "previous_pos = 2\n",
    "new_position = 3"
   ]
  },
  {
   "cell_type": "code",
   "execution_count": null,
   "id": "9ee69e90",
   "metadata": {},
   "outputs": [],
   "source": [
    "for ins in instance3:\n",
    "    ins['ctxs'][previous_pos-1], ins['ctxs'][new_position-1] = ins['ctxs'][new_position-1], ins['ctxs'][previous_pos-1]"
   ]
  },
  {
   "cell_type": "code",
   "execution_count": null,
   "id": "7f195efd",
   "metadata": {},
   "outputs": [],
   "source": [
    "# checking\n",
    "for in1, in2 in zip(instance2, instance3):\n",
    "    if in1['id'] != in2['id']:\n",
    "        print('not matching id')\n",
    "        break\n",
    "    if in1['question'] != in2['question']:\n",
    "        print('not mathcing question')\n",
    "        break\n",
    "    if in1['answers'] != in2['answers']:\n",
    "        print('not mathcing question')\n",
    "        break\n",
    "    if in1['ctxs'][:previous_pos-1] + in1['ctxs'][previous_pos:] != in2['ctxs'][:new_position-1] + in2['ctxs'][new_position:]:\n",
    "        print('negative not mathcing')\n",
    "        pprint(in1['ctxs'][:previous_pos-1] + in1['ctxs'][previous_pos:])\n",
    "        pprint(in2['ctxs'][:new_position-1] + in2['ctxs'][new_position:])\n",
    "        break\n",
    "    if in1['ctxs'][previous_pos-1] != in2['ctxs'][new_position-1]:\n",
    "        print('positive not mathcing')\n",
    "        print(in1['ctxs'][previous_pos-1])\n",
    "        print(in2['ctxs'][new_position-1])\n",
    "        break\n",
    "    "
   ]
  },
  {
   "cell_type": "code",
   "execution_count": null,
   "id": "2613441d",
   "metadata": {},
   "outputs": [],
   "source": [
    "filename = '/data/philhoon-relevance/FiD/open_domain_data/NQ_KILT_DPR/kilt_dpr_nq_dev_pos3.json'"
   ]
  },
  {
   "cell_type": "code",
   "execution_count": null,
   "id": "56823e47",
   "metadata": {},
   "outputs": [],
   "source": [
    "save_json(instance3, filename)"
   ]
  },
  {
   "cell_type": "code",
   "execution_count": null,
   "id": "7397a5a3",
   "metadata": {},
   "outputs": [],
   "source": [
    "instance4 = deepcopy(instance3)"
   ]
  },
  {
   "cell_type": "code",
   "execution_count": null,
   "id": "d5fbcc2a",
   "metadata": {},
   "outputs": [],
   "source": [
    "previous_pos = 3\n",
    "new_position = 4"
   ]
  },
  {
   "cell_type": "code",
   "execution_count": null,
   "id": "91f74561",
   "metadata": {},
   "outputs": [],
   "source": [
    "for ins in instance4:\n",
    "    ins['ctxs'][previous_pos-1], ins['ctxs'][new_position-1] = ins['ctxs'][new_position-1], ins['ctxs'][previous_pos-1]"
   ]
  },
  {
   "cell_type": "code",
   "execution_count": null,
   "id": "659d4f77",
   "metadata": {},
   "outputs": [],
   "source": [
    "# checking\n",
    "for in1, in2 in zip(instance3, instance4):\n",
    "    if in1['id'] != in2['id']:\n",
    "        print('not matching id')\n",
    "        break\n",
    "    if in1['question'] != in2['question']:\n",
    "        print('not mathcing question')\n",
    "        break\n",
    "    if in1['answers'] != in2['answers']:\n",
    "        print('not mathcing question')\n",
    "        break\n",
    "    if in1['ctxs'][:previous_pos-1] + in1['ctxs'][previous_pos:] != in2['ctxs'][:new_position-1] + in2['ctxs'][new_position:]:\n",
    "        print('negative not mathcing')\n",
    "        pprint(in1['ctxs'][:previous_pos-1] + in1['ctxs'][previous_pos:])\n",
    "        pprint(in2['ctxs'][:new_position-1] + in2['ctxs'][new_position:])\n",
    "        break\n",
    "    if in1['ctxs'][previous_pos-1] != in2['ctxs'][new_position-1]:\n",
    "        print('positive not mathcing')\n",
    "        print(in1['ctxs'][previous_pos-1])\n",
    "        print(in2['ctxs'][new_position-1])\n",
    "        break\n",
    "    "
   ]
  },
  {
   "cell_type": "code",
   "execution_count": null,
   "id": "d87a4090",
   "metadata": {},
   "outputs": [],
   "source": [
    "filename = '/data/philhoon-relevance/FiD/open_domain_data/NQ_KILT_DPR/kilt_dpr_nq_dev_pos4.json'"
   ]
  },
  {
   "cell_type": "code",
   "execution_count": null,
   "id": "2fb74f7b",
   "metadata": {},
   "outputs": [],
   "source": [
    "save_json(instance4, filename)"
   ]
  },
  {
   "cell_type": "code",
   "execution_count": null,
   "id": "2b95df6d",
   "metadata": {},
   "outputs": [],
   "source": [
    "instance5 = deepcopy(instance4)"
   ]
  },
  {
   "cell_type": "code",
   "execution_count": null,
   "id": "3807aa3d",
   "metadata": {},
   "outputs": [],
   "source": [
    "previous_pos = 4\n",
    "new_position = 5"
   ]
  },
  {
   "cell_type": "code",
   "execution_count": null,
   "id": "8e3b8484",
   "metadata": {},
   "outputs": [],
   "source": [
    "for ins in instance5:\n",
    "    ins['ctxs'][previous_pos-1], ins['ctxs'][new_position-1] = ins['ctxs'][new_position-1], ins['ctxs'][previous_pos-1]"
   ]
  },
  {
   "cell_type": "code",
   "execution_count": null,
   "id": "7eaad4e2",
   "metadata": {},
   "outputs": [],
   "source": [
    "# checking\n",
    "for in1, in2 in zip(instance4, instance5):\n",
    "    if in1['id'] != in2['id']:\n",
    "        print('not matching id')\n",
    "        break\n",
    "    if in1['question'] != in2['question']:\n",
    "        print('not mathcing question')\n",
    "        break\n",
    "    if in1['answers'] != in2['answers']:\n",
    "        print('not mathcing question')\n",
    "        break\n",
    "    if in1['ctxs'][:previous_pos-1] + in1['ctxs'][previous_pos:] != in2['ctxs'][:new_position-1] + in2['ctxs'][new_position:]:\n",
    "        print('negative not mathcing')\n",
    "        pprint(in1['ctxs'][:previous_pos-1] + in1['ctxs'][previous_pos:])\n",
    "        pprint(in2['ctxs'][:new_position-1] + in2['ctxs'][new_position:])\n",
    "        break\n",
    "    if in1['ctxs'][previous_pos-1] != in2['ctxs'][new_position-1]:\n",
    "        print('positive not mathcing')\n",
    "        print(in1['ctxs'][previous_pos-1])\n",
    "        print(in2['ctxs'][new_position-1])\n",
    "        break\n",
    "    "
   ]
  },
  {
   "cell_type": "code",
   "execution_count": null,
   "id": "a42b1fe9",
   "metadata": {},
   "outputs": [],
   "source": [
    "filename = '/data/philhoon-relevance/FiD/open_domain_data/NQ_KILT_DPR/kilt_dpr_nq_dev_pos5.json'"
   ]
  },
  {
   "cell_type": "code",
   "execution_count": null,
   "id": "cd8cc518",
   "metadata": {},
   "outputs": [],
   "source": [
    "save_json(instance5, filename)"
   ]
  },
  {
   "cell_type": "code",
   "execution_count": null,
   "id": "fb180d99",
   "metadata": {},
   "outputs": [],
   "source": [
    "instance5[0]['ctxs']"
   ]
  },
  {
   "cell_type": "code",
   "execution_count": null,
   "id": "87dd2f54",
   "metadata": {},
   "outputs": [],
   "source": [
    "previous_pos"
   ]
  },
  {
   "cell_type": "code",
   "execution_count": null,
   "id": "a3fc6018",
   "metadata": {},
   "outputs": [],
   "source": [
    "# checking instance5 and instances\n",
    "previous_pos = 5\n",
    "new_position = 1"
   ]
  },
  {
   "cell_type": "code",
   "execution_count": null,
   "id": "79a98a0c",
   "metadata": {},
   "outputs": [],
   "source": [
    "instance5[0]['ctxs']"
   ]
  },
  {
   "cell_type": "code",
   "execution_count": null,
   "id": "1da26611",
   "metadata": {},
   "outputs": [],
   "source": [
    "# checking\n",
    "for in1, in2 in zip(instance5, instances):\n",
    "    if in1['id'] != in2['id']:\n",
    "        print('not matching id')\n",
    "        break\n",
    "    if in1['question'] != in2['question']:\n",
    "        print('not mathcing question')\n",
    "        break\n",
    "    if in1['answers'] != in2['answers']:\n",
    "        print('not mathcing question')\n",
    "        break\n",
    "    if in1['ctxs'][:previous_pos-1] + in1['ctxs'][previous_pos:] != in2['ctxs'][:new_position-1] + in2['ctxs'][new_position:]:\n",
    "        print('negative not mathcing')\n",
    "        pprint(in1['ctxs'][:previous_pos-1] + in1['ctxs'][previous_pos:])\n",
    "        print('=====')\n",
    "        pprint(in2['ctxs'][:new_position-1] + in2['ctxs'][new_position:])\n",
    "        break\n",
    "    if in1['ctxs'][previous_pos-1] != in2['ctxs'][new_position-1]:\n",
    "        print('positive not mathcing')\n",
    "        print(in1['ctxs'][previous_pos-1])\n",
    "        print(in2['ctxs'][new_position-1])\n",
    "        break\n",
    "    "
   ]
  },
  {
   "cell_type": "code",
   "execution_count": null,
   "id": "df565c97",
   "metadata": {},
   "outputs": [],
   "source": []
  },
  {
   "cell_type": "code",
   "execution_count": null,
   "id": "10e898b1",
   "metadata": {},
   "outputs": [],
   "source": []
  },
  {
   "cell_type": "code",
   "execution_count": null,
   "id": "e75a6a0c",
   "metadata": {},
   "outputs": [],
   "source": []
  },
  {
   "cell_type": "code",
   "execution_count": null,
   "id": "21473392",
   "metadata": {},
   "outputs": [],
   "source": [
    "k = [1,2,3]\n",
    "q = [1,2,3]"
   ]
  },
  {
   "cell_type": "code",
   "execution_count": null,
   "id": "7e1e6c54",
   "metadata": {},
   "outputs": [],
   "source": [
    "k == q"
   ]
  },
  {
   "cell_type": "code",
   "execution_count": null,
   "id": "746298db",
   "metadata": {},
   "outputs": [],
   "source": [
    "previous_pos = 1\n",
    "new_position = 2"
   ]
  },
  {
   "cell_type": "code",
   "execution_count": null,
   "id": "7da1a1b3",
   "metadata": {},
   "outputs": [],
   "source": [
    "k[:previous_pos-1] + k[previous_pos:] == q[:new_position-1] + q[new_position:]"
   ]
  },
  {
   "cell_type": "code",
   "execution_count": null,
   "id": "df9e9783",
   "metadata": {},
   "outputs": [],
   "source": [
    "q[:new_position-1] + q[new_position:]"
   ]
  },
  {
   "cell_type": "code",
   "execution_count": null,
   "id": "88adbf34",
   "metadata": {},
   "outputs": [],
   "source": []
  },
  {
   "cell_type": "code",
   "execution_count": null,
   "id": "fe03f811",
   "metadata": {},
   "outputs": [],
   "source": []
  },
  {
   "cell_type": "code",
   "execution_count": null,
   "id": "6f9c14ff",
   "metadata": {},
   "outputs": [],
   "source": []
  }
 ],
 "metadata": {
  "kernelspec": {
   "display_name": "relevance",
   "language": "python",
   "name": "relevance"
  },
  "language_info": {
   "codemirror_mode": {
    "name": "ipython",
    "version": 3
   },
   "file_extension": ".py",
   "mimetype": "text/x-python",
   "name": "python",
   "nbconvert_exporter": "python",
   "pygments_lexer": "ipython3",
   "version": "3.8.13"
  }
 },
 "nbformat": 4,
 "nbformat_minor": 5
}
