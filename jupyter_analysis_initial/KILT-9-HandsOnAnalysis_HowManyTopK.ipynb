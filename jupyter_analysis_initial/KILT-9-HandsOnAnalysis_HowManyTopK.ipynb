{
 "cells": [
  {
   "cell_type": "markdown",
   "id": "e86601ea",
   "metadata": {},
   "source": [
    "# KILT-9-HandsOnAnalysis_HowManyTopK"
   ]
  },
  {
   "cell_type": "markdown",
   "id": "de61e3fd",
   "metadata": {},
   "source": [
    "- NQ(KILT) dev FiD with BM25 negative passages\n",
    "    - Method3. '00011011000'  -> \n",
    "    <span style=\"color:blue\">0</span><span style=\"color:blue\">0</span><span style=\"color:blue\">0</span><span style=\"color:red\">1</span></span><span style=\"color:red\">1</span>0<span style=\"color:red\">1</span></span><span style=\"color:red\">1</span>000  (__0.73651__)  \n",
    "\n",
    "- NQ dev with FiD retrieved passages\n",
    "    - Method3. '00011011000'  -> \n",
    "<span style=\"color:blue\">0</span><span style=\"color:blue\">0</span><span style=\"color:blue\">0</span><span style=\"color:red\">1</span></span><span style=\"color:red\">1</span>0<span style=\"color:red\">1</span></span><span style=\"color:red\">1</span>000  (__0.57839__)     \n",
    "\n",
    "- Both cases show that including consecutive 0s improved the overall output\n",
    "- So Questions : How many consecutive 0s are needed?\n",
    "    - NQ(KILT) dev FiD with BM25 negative passages\n",
    "    - only 5 passages -> just checking 0s em Pattern"
   ]
  },
  {
   "cell_type": "code",
   "execution_count": 35,
   "id": "05b5b23e",
   "metadata": {},
   "outputs": [],
   "source": [
    "from collections import Counter\n",
    "import numpy as np\n",
    "import pathlib\n",
    "from pprint import pprint\n",
    "import pandas as pd\n",
    "from util import utils\n",
    "import re\n",
    "import os"
   ]
  },
  {
   "cell_type": "code",
   "execution_count": 26,
   "id": "d2926bb1",
   "metadata": {},
   "outputs": [],
   "source": [
    "input_file = utils.open_json('/data/philhoon-relevance/FiD/results/KILT_BM25_NQ/incremental_result/pos1_ctx5.json')"
   ]
  },
  {
   "cell_type": "code",
   "execution_count": 27,
   "id": "80d2a9ab",
   "metadata": {},
   "outputs": [
    {
     "name": "stdout",
     "output_type": "stream",
     "text": [
      "{'answers': ['the therefore sign',\n",
      "             'therefore sign',\n",
      "             'the therefore sign ( ∴ ) is generally used before a logical '\n",
      "             'consequence , such as the conclusion of a syllogism',\n",
      "             'a logical consequence , such as the conclusion of a syllogism'],\n",
      " 'conversion': 0,\n",
      " 'ctxs': [{'psg_id': 3894652,\n",
      "           'text': 'Therefore sign In logical argument and mathematical proof, '\n",
      "                   'the therefore sign (∴) is generally used before a logical '\n",
      "                   'consequence, such as the conclusion of a syllogism. The '\n",
      "                   'symbol consists of three dots placed in an upright '\n",
      "                   'triangle and is read \"therefore\". It is encoded at . While '\n",
      "                   'it is not generally used in formal writing, it is used in '\n",
      "                   'mathematics and shorthand. It is complementary to . '\n",
      "                   'History. According to Cajori, \"A History of Mathematical '\n",
      "                   'Notations,\" Johann Rahn used both the \"',\n",
      "           'title': 'Therefore sign'},\n",
      "          {'text': ', 3(2):2200, 2008. - Misha Gromov. \"Topological invariants '\n",
      "                   'of dynamical systems and spaces of holomorphic maps\". I. '\n",
      "                   'Math. Phys. Anal. Geom., 2(4):323–415, 1999. - Elon '\n",
      "                   'Lindenstrauss and Benjamin Weiss. \"Mean topological '\n",
      "                   'dimension\". Israel J. Math., 115:1–24, 2000. External '\n",
      "                   'links. What is Mean Dimension?',\n",
      "           'title': 'Mean dimension'},\n",
      "          {'text': '1. \"Introduction (Mel Lewis & Alan Grant)\" – 1:50 2. \"Big '\n",
      "                   'Dipper\" – 5:10 3. \"Polka Dots and Moonbeams\" (Van Heusen, '\n",
      "                   'Burke) – 3:47 4. \"Once Around\" – 12:37 5. \"All My '\n",
      "                   'Yesterdays\" – 4:08 6. \"Morning Reverend\" – 4:50 7. \"Low '\n",
      "                   'Down\" – 4:25 8. \"Lover Man\" (Davis, Ramirez, Sherman) – '\n",
      "                   '5:08 9. \"Mean What',\n",
      "           'title': 'Opening Night (album)'},\n",
      "          {'text': 'Track listings appear in a slightly different order on the '\n",
      "                   'reissued version as well. Singles from this album include '\n",
      "                   '\"My Girl\", and \"Do You Know What I Mean\" (with background '\n",
      "                   'vocals provided by Lee Aaron). Track listing. Track '\n",
      "                   'listing Original release. 1. \"Veil of Tears\" – 4:23 2. \"Do '\n",
      "                   'You Know What I Mean\" – 3:45 3. \"Caviar\" – 4:34 4. \"Sonya\" '\n",
      "                   '– 5:10 5. \"Head On\"',\n",
      "           'title': 'Myles Goodwyn (album)'},\n",
      "          {'text': 'difficult, having these pre-assessments done will help you '\n",
      "                   \"spend more time teaching students what they don't know and \"\n",
      "                   'just refreshing them on what they do already do know. For '\n",
      "                   'example, if you are going to be starting a new unit in '\n",
      "                   'math, how to add and subtract. Just by asking the students '\n",
      "                   '\"What does addition mean?\", \"What does subtraction mean\" '\n",
      "                   'and, \"Do they relate to each other?\", the teacher would be '\n",
      "                   'able to know that the students had a good basic',\n",
      "           'title': 'Pre-assessment'}],\n",
      " 'cumulative_em': '0',\n",
      " 'em_pattern': '00000',\n",
      " 'id': '1',\n",
      " 'inference': ['therefore', 'therefore', 'therefore', 'therefore', 'therefore'],\n",
      " 'question': 'what do the 3 dots mean in math'}\n"
     ]
    }
   ],
   "source": [
    "pprint(input_file[0])"
   ]
  },
  {
   "cell_type": "markdown",
   "id": "f80b33e7",
   "metadata": {},
   "source": [
    "### format\n",
    "```python\n",
    "{\n",
    "    'id' : str()\n",
    "    'answers' : list()\n",
    "    'ctxs' : list(dict)\n",
    "    'questions' : str()\n",
    "}\n",
    "```"
   ]
  },
  {
   "cell_type": "code",
   "execution_count": 28,
   "id": "7d3b65b7",
   "metadata": {},
   "outputs": [],
   "source": [
    "sample_size = 5\n",
    "total = 0\n",
    "num_zero_lst = []"
   ]
  },
  {
   "cell_type": "code",
   "execution_count": 29,
   "id": "34d9f974",
   "metadata": {
    "scrolled": false
   },
   "outputs": [],
   "source": [
    "for inst_ in input_file:\n",
    "    pattern = inst_['em_pattern']\n",
    "    if pattern.startswith('0') and pattern != '0' * sample_size:\n",
    "#         print(pattern)\n",
    "        result = re.search(\"^0+\", pattern)\n",
    "#         print(pattern)\n",
    "#         print(result)\n",
    "#         p\n",
    "#         print('-----')\n",
    "        total += 1\n",
    "        num_zero_lst.append(result.span()[-1])\n",
    "#     print(pattern)\n",
    "# print(total)"
   ]
  },
  {
   "cell_type": "code",
   "execution_count": 30,
   "id": "8afab031",
   "metadata": {},
   "outputs": [
    {
     "name": "stdout",
     "output_type": "stream",
     "text": [
      "153\n"
     ]
    }
   ],
   "source": [
    "print(total)"
   ]
  },
  {
   "cell_type": "code",
   "execution_count": 31,
   "id": "e0eafea8",
   "metadata": {},
   "outputs": [],
   "source": [
    "zero_array = np.array(num_zero_lst)"
   ]
  },
  {
   "cell_type": "code",
   "execution_count": 36,
   "id": "878c5f22",
   "metadata": {},
   "outputs": [],
   "source": [
    "counts = Counter(num_zero_lst)"
   ]
  },
  {
   "cell_type": "code",
   "execution_count": 37,
   "id": "0ab2c5a5",
   "metadata": {},
   "outputs": [
    {
     "data": {
      "text/plain": [
       "Counter({2: 48, 1: 64, 4: 16, 3: 25})"
      ]
     },
     "execution_count": 37,
     "metadata": {},
     "output_type": "execute_result"
    }
   ],
   "source": [
    "counts"
   ]
  },
  {
   "cell_type": "code",
   "execution_count": 32,
   "id": "4c13e011",
   "metadata": {},
   "outputs": [
    {
     "data": {
      "text/plain": [
       "153"
      ]
     },
     "execution_count": 32,
     "metadata": {},
     "output_type": "execute_result"
    }
   ],
   "source": [
    "len(zero_array)"
   ]
  },
  {
   "cell_type": "code",
   "execution_count": 33,
   "id": "e6857ad3",
   "metadata": {},
   "outputs": [
    {
     "data": {
      "text/html": [
       "<div>\n",
       "<style scoped>\n",
       "    .dataframe tbody tr th:only-of-type {\n",
       "        vertical-align: middle;\n",
       "    }\n",
       "\n",
       "    .dataframe tbody tr th {\n",
       "        vertical-align: top;\n",
       "    }\n",
       "\n",
       "    .dataframe thead th {\n",
       "        text-align: right;\n",
       "    }\n",
       "</style>\n",
       "<table border=\"1\" class=\"dataframe\">\n",
       "  <thead>\n",
       "    <tr style=\"text-align: right;\">\n",
       "      <th></th>\n",
       "      <th>0</th>\n",
       "    </tr>\n",
       "  </thead>\n",
       "  <tbody>\n",
       "    <tr>\n",
       "      <th>count</th>\n",
       "      <td>153.000000</td>\n",
       "    </tr>\n",
       "    <tr>\n",
       "      <th>mean</th>\n",
       "      <td>1.954248</td>\n",
       "    </tr>\n",
       "    <tr>\n",
       "      <th>std</th>\n",
       "      <td>1.002233</td>\n",
       "    </tr>\n",
       "    <tr>\n",
       "      <th>min</th>\n",
       "      <td>1.000000</td>\n",
       "    </tr>\n",
       "    <tr>\n",
       "      <th>25%</th>\n",
       "      <td>1.000000</td>\n",
       "    </tr>\n",
       "    <tr>\n",
       "      <th>50%</th>\n",
       "      <td>2.000000</td>\n",
       "    </tr>\n",
       "    <tr>\n",
       "      <th>75%</th>\n",
       "      <td>3.000000</td>\n",
       "    </tr>\n",
       "    <tr>\n",
       "      <th>max</th>\n",
       "      <td>4.000000</td>\n",
       "    </tr>\n",
       "  </tbody>\n",
       "</table>\n",
       "</div>"
      ],
      "text/plain": [
       "                0\n",
       "count  153.000000\n",
       "mean     1.954248\n",
       "std      1.002233\n",
       "min      1.000000\n",
       "25%      1.000000\n",
       "50%      2.000000\n",
       "75%      3.000000\n",
       "max      4.000000"
      ]
     },
     "execution_count": 33,
     "metadata": {},
     "output_type": "execute_result"
    }
   ],
   "source": [
    "df_describe = pd.DataFrame(zero_array)\n",
    "df_describe.describe()"
   ]
  },
  {
   "cell_type": "code",
   "execution_count": null,
   "id": "58a587da",
   "metadata": {},
   "outputs": [],
   "source": []
  },
  {
   "cell_type": "code",
   "execution_count": null,
   "id": "31beeb01",
   "metadata": {},
   "outputs": [],
   "source": []
  },
  {
   "cell_type": "markdown",
   "id": "c594cc4b",
   "metadata": {},
   "source": [
    "#### Test Code "
   ]
  },
  {
   "cell_type": "markdown",
   "id": "1d2d4384",
   "metadata": {},
   "source": [
    "### Checking on Final Total Trials 12"
   ]
  },
  {
   "cell_type": "markdown",
   "id": "83095e97",
   "metadata": {},
   "source": [
    "    1st Trial - Options1(Remove only Damaging) + Strict Positive + Strict Damaging (checked)\n",
    "    2nd Trial - Options1(Remove only Damaging) + Strict Positive + Naive Damaging (checked)\n",
    "    3rd Trial - Options1(Remove only Damaging) + Naive Positive + Strict Damaging (checked)\n",
    "    4th Trial - Options1(Remove only Damaging) + Naive Positive + Naive Damaging (checked)\n",
    "    \n",
    "    5th Trial - Options2(Remove damaging + irrelevant) + Strict Positive + Strict Damaging (checked)\n",
    "        - The one also represents other three cases\n",
    "            - Options2(Remove damaging + irrelevant) + Strict Positive + Naive Damaging \n",
    "            - Options2(Remove damaging + irrelevant) + Naive Positive + Strict Damaging (checked)\n",
    "            - Options2(Remove damaging + irrelevant) + Naive Positive + Naive Damaging \n",
    "    \n",
    "    6th Trial - Options3(Removes damaging + relevant) + Strict Positive + Strict Damaging (checked)\n",
    "    7th Trial - Options3(Removes damaging + relevant) + Strict Positive + Naive Damaging (checked)\n",
    "    8th Trial - Options3(Removes damaging + relevant) + Naive Positive + Strict Damaging (checked)\n",
    "    9th Trial - Options3(Removes damaging + relevant) + Naive Positive + Naive Damaging (checked)\n",
    "    \n",
    "    10th Trial - Options4(Removes damaging + irrelevant + relevant) + Strict Positive (checked)\n",
    "        - The one represents cases \n",
    "            - Options4(Removes damaging + irrelevant + relevant) + Strict Positive + Strict Damaging (checked)\n",
    "            - Options4(Removes damaging + irrelevant + relevant) + Strict Positive + Naive Damaging\n",
    "        - almost equal to \"pos1_ctx1\" e.g.) 01011 -> 2 strict positive cases\n",
    "        - \"pos1_ctx1\" = baseline could be our baselines\n",
    "        \n",
    "    11th Trial - Options4(Removes damaging + irrelevant + relevant) + Naive Positive (checked)  \n",
    "        - The one represents cases \n",
    "            - Options4(Removes damaging + irrelevant + relevant) + Naive Positive + Strict Damaging\n",
    "            - Options4(Removes damaging + irrelevant + relevant) + Naive Positive + Naive Damaging (checked)"
   ]
  },
  {
   "cell_type": "markdown",
   "id": "57a294aa",
   "metadata": {},
   "source": [
    "# Implementation"
   ]
  },
  {
   "cell_type": "code",
   "execution_count": 4,
   "id": "aa293b02",
   "metadata": {},
   "outputs": [],
   "source": [
    "def build_data(input_file, option, option_p, option_d):\n",
    "    '''\n",
    "    input_file : incremental inference result from FiD from KILT-5-1\n",
    "        path : /data/philhoon-relevance/FiD/results/KILT_BM25_NQ/incremental_result/pos1_ctx5.json\n",
    "        \n",
    "    output : FiD input json format\n",
    "    \n",
    "    option(required) : removing strategies\n",
    "        op1 : removes damages only\n",
    "        op2 : removes damaging + irrelevant\n",
    "        op3 : removes damaging + relevant\n",
    "        op4 : removes damaging + irrelevant + relevant\n",
    "        \n",
    "    option_p(required) : positive passage selection options\n",
    "        strict : strict positive\n",
    "            e.g.) 11 pattern \n",
    "                1st '1' is positive, 2nd '1' is relevant\n",
    "        naive : naive positive\n",
    "            e.g.) 11 pattern \n",
    "                1st '1' is positive, 2nd '1' is positive\n",
    "                \n",
    "    option_d(required) : damaging passage selection options\n",
    "        strict : strict negative\n",
    "            e.g.) A00 pattern \n",
    "                if there is at least one '1' occurred in A, 2nd '0' is irrelevant\n",
    "        naive : naive damaging\n",
    "            e.g.) A00 pattern \n",
    "                if there is at least one '1' occurred in A, 2nd '0' is damaging\n",
    "    \n",
    "    '''\n",
    "    \n",
    "    output_format = []\n",
    "\n",
    "    # 'strict', 'naive'  \n",
    "    # option_p = 'naive'\n",
    "    # option_d = 'naive'\n",
    "    # option = 'op4'\n",
    "\n",
    "    for instance in input_file:\n",
    "        template_dict = {}\n",
    "        template_dict['id'] = instance['id']\n",
    "        template_dict['answers'] = instance['answers']\n",
    "        template_dict['question'] = instance['question']\n",
    "        template_dict['em_pattern'] = instance['em_pattern']\n",
    "\n",
    "        em_pattern = instance['em_pattern']\n",
    "\n",
    "        # when there is at least one EM in the accumulated inference\n",
    "        if em_pattern != '00000':   \n",
    "            new_ctx = []\n",
    "\n",
    "            # relevant vs positive\n",
    "            positve_ctx_lst = []\n",
    "            relevant_ctx_lst = []\n",
    "\n",
    "            # irrelevant vs damaging\n",
    "            damaging_ctx_lst = []\n",
    "            irrelevant_ctx_lst = []\n",
    "\n",
    "\n",
    "            for idx_, ctx in enumerate(instance['ctxs']):\n",
    "\n",
    "                # checking current em\n",
    "                cur_em = em_pattern[idx_]\n",
    "                pre_em_pattern = em_pattern[:idx_]\n",
    "\n",
    "\n",
    "                # first 1 : positive\n",
    "                if not pre_em_pattern and cur_em == '1':\n",
    "                    positve_ctx_lst.append(ctx)\n",
    "\n",
    "                # first 0 : irrelevant\n",
    "                elif not pre_em_pattern and cur_em == '0':\n",
    "                    irrelevant_ctx_lst.append(ctx)\n",
    "                    \n",
    "                # 01 pattern : positive \n",
    "                elif pre_em_pattern and pre_em_pattern[-1] == '0' and cur_em == '1':\n",
    "                    positve_ctx_lst.append(ctx)\n",
    "\n",
    "                # 10 pattern : damaging\n",
    "                elif pre_em_pattern and pre_em_pattern[-1] == '1' and cur_em == '0':\n",
    "                    damaging_ctx_lst.append(ctx)\n",
    "\n",
    "                # 11 pattern : Strict Positive(relevant) or Naive Positive(positive)\n",
    "                elif pre_em_pattern and pre_em_pattern[-1] == '1' and cur_em == '1':\n",
    "                    if option_p == 'strict':\n",
    "                        relevant_ctx_lst.append(ctx)\n",
    "\n",
    "                    elif option_p == 'naive':\n",
    "                        positve_ctx_lst.append(ctx)\n",
    "\n",
    "                    else:\n",
    "                        print('option_p should be either \\'strict\\' or \\'naive\\'')\n",
    "                        return \n",
    "\n",
    "                # 00 pattern : Strict Damaging(irrelevant) or Naive Damaging(damaging) \n",
    "                elif pre_em_pattern and pre_em_pattern[-1] == '0' and cur_em == '0':\n",
    "                    # if '1' does not occured in A, currnet passage is irrelevant\n",
    "                    if not '1' in pre_em_pattern:\n",
    "                        irrelevant_ctx_lst.append(ctx)\n",
    "\n",
    "                    # if '1' occurred in A, \n",
    "                    else:\n",
    "                        # strict : consider it as irrelevnat \n",
    "                        if option_d == 'strict':\n",
    "                            irrelevant_ctx_lst.append(ctx)\n",
    "\n",
    "                        # naive : consider it as damaging \n",
    "                        elif option_d == 'naive':\n",
    "                            damaging_ctx_lst.append(ctx)\n",
    "\n",
    "                        else:\n",
    "                            print('option_p should be either \\'strict\\' or \\'naive\\'')\n",
    "                            return \n",
    "\n",
    "            # op1 removes damages only\n",
    "            if option == 'op1':\n",
    "                new_ctx.extend(positve_ctx_lst)\n",
    "                new_ctx.extend(relevant_ctx_lst)\n",
    "                new_ctx.extend(irrelevant_ctx_lst)\n",
    "\n",
    "\n",
    "            # op2 removes damaging + irrelevant\n",
    "            elif option == 'op2':\n",
    "                new_ctx.extend(positve_ctx_lst)\n",
    "                new_ctx.extend(relevant_ctx_lst)\n",
    "\n",
    "            # op3 : Removes damaging + relevant\n",
    "            elif option == 'op3':\n",
    "                new_ctx.extend(positve_ctx_lst)\n",
    "                new_ctx.extend(irrelevant_ctx_lst)\n",
    "\n",
    "            # op4 : Removes damaging + irrelevant + relevant\n",
    "            elif option == 'op4':\n",
    "                new_ctx.extend(positve_ctx_lst)\n",
    "\n",
    "            else:\n",
    "                print('option should be op1, op2, op3, op4')\n",
    "                return \n",
    "\n",
    "            template_dict['ctxs'] = new_ctx\n",
    "            output_format.append(template_dict)\n",
    "\n",
    "        # when there is no EM in the accumulated inference\n",
    "        else:\n",
    "            template_dict['ctxs']= instance['ctxs']\n",
    "            output_format.append(template_dict)\n",
    "    \n",
    "    print('==============instance finished======================')\n",
    "    return output_format\n",
    "        \n"
   ]
  },
  {
   "cell_type": "code",
   "execution_count": 6,
   "id": "e9790bbb",
   "metadata": {},
   "outputs": [],
   "source": [
    "option_dict = {\n",
    "    'op1' : 'remove_damage',\n",
    "    'op2' : 'remove_damage_irrelevant',\n",
    "    'op3' : 'remove_damage_relevant',\n",
    "    'op4' : 'remove_damage_irrelevant_relevant',\n",
    "}\n",
    "# option = 'op4'"
   ]
  },
  {
   "cell_type": "code",
   "execution_count": 7,
   "id": "fcb0587c",
   "metadata": {},
   "outputs": [],
   "source": [
    "option_p_dict = {\n",
    "    'strict' : 'strict_positive',\n",
    "    'naive' : 'naive_positive',\n",
    "}\n",
    "# option_p = 'strict'"
   ]
  },
  {
   "cell_type": "code",
   "execution_count": 8,
   "id": "5403cb45",
   "metadata": {},
   "outputs": [],
   "source": [
    "option_d_dict = {\n",
    "    'strict' : 'strict_damaging',\n",
    "    'naive' : 'naive_damaging',\n",
    "}\n",
    "# option_d = 'strict'"
   ]
  },
  {
   "cell_type": "code",
   "execution_count": 9,
   "id": "d2ae7412",
   "metadata": {},
   "outputs": [],
   "source": [
    "input_file = utils.open_json('/data/philhoon-relevance/FiD/results/KILT_BM25_NQ/incremental_result/pos1_ctx5.json')\n",
    "output_path = '/data/philhoon-relevance/FiD/open_domain_data/NQ_KILT_BM25_SELECTION'"
   ]
  },
  {
   "cell_type": "code",
   "execution_count": 10,
   "id": "8fbb02e0",
   "metadata": {},
   "outputs": [
    {
     "name": "stdout",
     "output_type": "stream",
     "text": [
      "==============instance finished======================\n",
      "strict_positive_strict_damaging_remove_damage.json save on \n",
      " /data/philhoon-relevance/FiD/open_domain_data/NQ_KILT_INCRE_TEST\n",
      "==============instance finished======================\n",
      "strict_positive_naive_damaging_remove_damage.json save on \n",
      " /data/philhoon-relevance/FiD/open_domain_data/NQ_KILT_INCRE_TEST\n",
      "==============instance finished======================\n",
      "naive_positive_strict_damaging_remove_damage.json save on \n",
      " /data/philhoon-relevance/FiD/open_domain_data/NQ_KILT_INCRE_TEST\n",
      "==============instance finished======================\n",
      "naive_positive_naive_damaging_remove_damage.json save on \n",
      " /data/philhoon-relevance/FiD/open_domain_data/NQ_KILT_INCRE_TEST\n",
      "==============instance finished======================\n",
      "strict_positive_strict_damaging_remove_damage_irrelevant.json save on \n",
      " /data/philhoon-relevance/FiD/open_domain_data/NQ_KILT_INCRE_TEST\n",
      "==============instance finished======================\n",
      "strict_positive_naive_damaging_remove_damage_irrelevant.json save on \n",
      " /data/philhoon-relevance/FiD/open_domain_data/NQ_KILT_INCRE_TEST\n",
      "==============instance finished======================\n",
      "naive_positive_strict_damaging_remove_damage_irrelevant.json save on \n",
      " /data/philhoon-relevance/FiD/open_domain_data/NQ_KILT_INCRE_TEST\n",
      "==============instance finished======================\n",
      "naive_positive_naive_damaging_remove_damage_irrelevant.json save on \n",
      " /data/philhoon-relevance/FiD/open_domain_data/NQ_KILT_INCRE_TEST\n",
      "==============instance finished======================\n",
      "strict_positive_strict_damaging_remove_damage_relevant.json save on \n",
      " /data/philhoon-relevance/FiD/open_domain_data/NQ_KILT_INCRE_TEST\n",
      "==============instance finished======================\n",
      "strict_positive_naive_damaging_remove_damage_relevant.json save on \n",
      " /data/philhoon-relevance/FiD/open_domain_data/NQ_KILT_INCRE_TEST\n",
      "==============instance finished======================\n",
      "naive_positive_strict_damaging_remove_damage_relevant.json save on \n",
      " /data/philhoon-relevance/FiD/open_domain_data/NQ_KILT_INCRE_TEST\n",
      "==============instance finished======================\n",
      "naive_positive_naive_damaging_remove_damage_relevant.json save on \n",
      " /data/philhoon-relevance/FiD/open_domain_data/NQ_KILT_INCRE_TEST\n",
      "==============instance finished======================\n",
      "strict_positive_strict_damaging_remove_damage_irrelevant_relevant.json save on \n",
      " /data/philhoon-relevance/FiD/open_domain_data/NQ_KILT_INCRE_TEST\n",
      "==============instance finished======================\n",
      "strict_positive_naive_damaging_remove_damage_irrelevant_relevant.json save on \n",
      " /data/philhoon-relevance/FiD/open_domain_data/NQ_KILT_INCRE_TEST\n",
      "==============instance finished======================\n",
      "naive_positive_strict_damaging_remove_damage_irrelevant_relevant.json save on \n",
      " /data/philhoon-relevance/FiD/open_domain_data/NQ_KILT_INCRE_TEST\n",
      "==============instance finished======================\n",
      "naive_positive_naive_damaging_remove_damage_irrelevant_relevant.json save on \n",
      " /data/philhoon-relevance/FiD/open_domain_data/NQ_KILT_INCRE_TEST\n"
     ]
    }
   ],
   "source": [
    "for o_ in option_dict.keys():\n",
    "    for op in option_p_dict.keys():\n",
    "        for od in option_d_dict.keys():\n",
    "            option = o_\n",
    "            option_p = op\n",
    "            option_d = od\n",
    "            \n",
    "            filename = f'{option_p_dict[option_p]}_{option_d_dict[option_d]}_{option_dict[option]}.json'\n",
    "            \n",
    "            output_file = os.path.join(output_path, filename)\n",
    "            output_format = build_data(input_file, option, option_p, option_d)\n",
    "            \n",
    "            utils.save_json(output_format, output_file)\n",
    "            print(f'{filename} save on \\n {output_path}')\n",
    "#             print(f'option : {option}')\n",
    "#             print(f'option_p : {option_p}')\n",
    "#             print(f'option_d : {option_d}')\n",
    "#             print(f'filename : {filename}')\n",
    "#             print(f'output_file : {output_file}')\n",
    "            "
   ]
  },
  {
   "cell_type": "code",
   "execution_count": null,
   "id": "c51405c9",
   "metadata": {},
   "outputs": [],
   "source": []
  }
 ],
 "metadata": {
  "kernelspec": {
   "display_name": "relevance-kilt",
   "language": "python",
   "name": "relevance-kilt"
  },
  "language_info": {
   "codemirror_mode": {
    "name": "ipython",
    "version": 3
   },
   "file_extension": ".py",
   "mimetype": "text/x-python",
   "name": "python",
   "nbconvert_exporter": "python",
   "pygments_lexer": "ipython3",
   "version": "3.8.13"
  }
 },
 "nbformat": 4,
 "nbformat_minor": 5
}
