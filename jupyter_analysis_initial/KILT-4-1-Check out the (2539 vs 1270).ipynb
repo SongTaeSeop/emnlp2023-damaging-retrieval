{
 "cells": [
  {
   "cell_type": "markdown",
   "id": "e86601ea",
   "metadata": {},
   "source": [
    "# KILT-4-1-Check out (2539 vs 1270)"
   ]
  },
  {
   "cell_type": "markdown",
   "id": "c49f712c",
   "metadata": {},
   "source": [
    "- Evalutaion on FiD results on KILT NQ using (BM25/Random) Samples\n",
    "    - By Position\n",
    "    - By Number of Context"
   ]
  },
  {
   "cell_type": "code",
   "execution_count": 1,
   "id": "434f76e1",
   "metadata": {},
   "outputs": [],
   "source": [
    "from cycler import cycler\n",
    "import numpy as np\n",
    "import seaborn as sns\n",
    "import matplotlib as mpl\n",
    "import pathlib\n",
    "from pprint import pprint\n",
    "import pandas as pd\n",
    "import matplotlib.pyplot as plt"
   ]
  },
  {
   "cell_type": "code",
   "execution_count": 2,
   "id": "171f41f3",
   "metadata": {},
   "outputs": [],
   "source": [
    "raw_light_palette = [\n",
    "    (0, 122, 255), # Blue\n",
    "    (255, 149, 0), # Orange\n",
    "    (52, 199, 89), # Green\n",
    "    (255, 59, 48), # Red\n",
    "    (175, 82, 222),# Purple\n",
    "    (255, 45, 85), # Pink\n",
    "    (88, 86, 214), # Indigo\n",
    "    (90, 200, 250),# Teal\n",
    "    (255, 204, 0)  # Yellow\n",
    "]\n",
    "\n",
    "raw_gray_light_palette = [\n",
    "    (142, 142, 147),# Gray\n",
    "    (174, 174, 178),# Gray (2)\n",
    "    (199, 199, 204),# Gray (3)\n",
    "    (209, 209, 214),# Gray (4)\n",
    "    (229, 229, 234),# Gray (5)\n",
    "    (242, 242, 247),# Gray (6)\n",
    "]\n",
    "\n",
    "\n",
    "light_palette = np.array(raw_light_palette)/255\n",
    "gray_light_palette = np.array(raw_gray_light_palette)/255"
   ]
  },
  {
   "cell_type": "code",
   "execution_count": 3,
   "id": "fa90290f",
   "metadata": {},
   "outputs": [
    {
     "name": "stdout",
     "output_type": "stream",
     "text": [
      "Light mode palette\n"
     ]
    },
    {
     "data": {
      "image/png": "[encoded data removed]",
      "text/plain": [
       "<Figure size 900x100 with 1 Axes>"
      ]
     },
     "metadata": {},
     "output_type": "display_data"
    },
    {
     "data": {
      "image/png": "[encoded data removed]",
      "text/plain": [
       "<Figure size 600x100 with 1 Axes>"
      ]
     },
     "metadata": {},
     "output_type": "display_data"
    }
   ],
   "source": [
    "print('Light mode palette')\n",
    "sns.palplot(light_palette)\n",
    "sns.palplot(gray_light_palette)"
   ]
  },
  {
   "cell_type": "code",
   "execution_count": 4,
   "id": "add1657d",
   "metadata": {},
   "outputs": [],
   "source": [
    "# cmap 수정\n",
    "mpl.rcParams['axes.prop_cycle'] = cycler('color',light_palette)\n",
    "# 해상도 조정\n",
    "mpl.rcParams['figure.dpi'] = 200\n",
    "# ax의 우측과 상단 지우기\n",
    "mpl.rcParams['axes.spines.top'] = False\n",
    "mpl.rcParams['axes.spines.right'] = False"
   ]
  },
  {
   "cell_type": "markdown",
   "id": "d4c7c0a3",
   "metadata": {},
   "source": [
    "## KILT BM25 NQ negative (from DPR) depreciated"
   ]
  },
  {
   "cell_type": "code",
   "execution_count": 5,
   "id": "4e9ae4ae",
   "metadata": {},
   "outputs": [],
   "source": [
    "# option = 'bm25'\n",
    "# path = '/data/philhoon-relevance/FiD/results/KILT_DPR_NQ'\n",
    "# # path = '/data/philhoon-relevance/FiD/results/KILT_DPR_NQ_depreciated'\n",
    "# plot_path = './img/FiDResultOnBM25HardnegativeNQdevSubsets.png'\n",
    "# title = 'FiD result on BM25 negative nq dev subsets'"
   ]
  },
  {
   "cell_type": "markdown",
   "id": "b69b594e",
   "metadata": {},
   "source": [
    "## KILT Random Sampling NQ negative "
   ]
  },
  {
   "cell_type": "code",
   "execution_count": 6,
   "id": "db0ca387",
   "metadata": {},
   "outputs": [],
   "source": [
    "# option = 'random'\n",
    "# path = '/data/philhoon-relevance/FiD/results/KILT_RANDOM_NQ'\n",
    "# plot_path = './img/FiDResultOnRandomSamplingnegativeNQdevSubsets.png'\n",
    "# title = 'FiD result on random sampling negative nq dev subsets'"
   ]
  },
  {
   "cell_type": "markdown",
   "id": "4d94b03f",
   "metadata": {},
   "source": [
    "## KILT BM25 NQ negative (from DPR)"
   ]
  },
  {
   "cell_type": "code",
   "execution_count": 7,
   "id": "779c7a4d",
   "metadata": {},
   "outputs": [],
   "source": [
    "option = 'bm25'\n",
    "path = '/data/philhoon-relevance/FiD/results/KILT_BM25_NQ'\n",
    "plot_path = './img/New_FiDResultOnBM25HardnegativeNQdevSubsets.png'\n",
    "title = 'New FiD result on BM25 negative nq dev subsets'"
   ]
  },
  {
   "cell_type": "code",
   "execution_count": 8,
   "id": "94004efd",
   "metadata": {},
   "outputs": [],
   "source": [
    "path = pathlib.Path(path)"
   ]
  },
  {
   "cell_type": "code",
   "execution_count": 9,
   "id": "681b78f3",
   "metadata": {},
   "outputs": [
    {
     "name": "stdout",
     "output_type": "stream",
     "text": [
      "[PosixPath('/data/philhoon-relevance/FiD/results/KILT_BM25_NQ/kilt_bm25_nq_dev_pos3_context3/final_output.txt'),\n",
      " PosixPath('/data/philhoon-relevance/FiD/results/KILT_BM25_NQ/kilt_bm25_nq_dev_pos4_context4/final_output.txt'),\n",
      " PosixPath('/data/philhoon-relevance/FiD/results/KILT_BM25_NQ/kilt_bm25_nq_dev_pos1_context2/final_output.txt'),\n",
      " PosixPath('/data/philhoon-relevance/FiD/results/KILT_BM25_NQ/kilt_bm25_nq_dev_pos1_context5/final_output.txt'),\n",
      " PosixPath('/data/philhoon-relevance/FiD/results/KILT_BM25_NQ/kilt_bm25_nq_dev_pos3_context4/final_output.txt'),\n",
      " PosixPath('/data/philhoon-relevance/FiD/results/KILT_BM25_NQ/kilt_bm25_nq_dev_pos1_context1/final_output.txt'),\n",
      " PosixPath('/data/philhoon-relevance/FiD/results/KILT_BM25_NQ/kilt_bm25_nq_dev_pos2_context3/final_output.txt'),\n",
      " PosixPath('/data/philhoon-relevance/FiD/results/KILT_BM25_NQ/kilt_bm25_nq_dev_pos2_context4/final_output.txt'),\n",
      " PosixPath('/data/philhoon-relevance/FiD/results/KILT_BM25_NQ/kilt_bm25_nq_dev_pos3_context5/final_output.txt'),\n",
      " PosixPath('/data/philhoon-relevance/FiD/results/KILT_BM25_NQ/kilt_bm25_nq_dev_pos1_context4/final_output.txt'),\n",
      " PosixPath('/data/philhoon-relevance/FiD/results/KILT_BM25_NQ/kilt_bm25_nq_dev_pos1_context3/final_output.txt'),\n",
      " PosixPath('/data/philhoon-relevance/FiD/results/KILT_BM25_NQ/kilt_bm25_nq_dev_pos4_context5/final_output.txt'),\n",
      " PosixPath('/data/philhoon-relevance/FiD/results/KILT_BM25_NQ/kilt_bm25_nq_dev_pos2_context5/final_output.txt'),\n",
      " PosixPath('/data/philhoon-relevance/FiD/results/KILT_BM25_NQ/kilt_bm25_nq_dev_pos2_context2/final_output.txt'),\n",
      " PosixPath('/data/philhoon-relevance/FiD/results/KILT_BM25_NQ/kilt_bm25_nq_dev_pos5_context5/final_output.txt')]\n"
     ]
    }
   ],
   "source": [
    "files = path.glob('**/*.txt')\n",
    "files = path.glob('**/*.txt')\n",
    "pprint(list(files))"
   ]
  },
  {
   "cell_type": "code",
   "execution_count": 10,
   "id": "7fc8fc4d",
   "metadata": {},
   "outputs": [
    {
     "name": "stdout",
     "output_type": "stream",
     "text": [
      "/data/philhoon-relevance/FiD/results/KILT_BM25_NQ/kilt_bm25_nq_dev_pos1_context1/final_output.txt\n",
      "2539\n",
      "/data/philhoon-relevance/FiD/results/KILT_BM25_NQ/kilt_bm25_nq_dev_pos1_context2/final_output.txt\n",
      "2539\n",
      "/data/philhoon-relevance/FiD/results/KILT_BM25_NQ/kilt_bm25_nq_dev_pos1_context3/final_output.txt\n",
      "2539\n",
      "/data/philhoon-relevance/FiD/results/KILT_BM25_NQ/kilt_bm25_nq_dev_pos1_context4/final_output.txt\n",
      "2539\n",
      "/data/philhoon-relevance/FiD/results/KILT_BM25_NQ/kilt_bm25_nq_dev_pos1_context5/final_output.txt\n",
      "2539\n",
      "/data/philhoon-relevance/FiD/results/KILT_BM25_NQ/kilt_bm25_nq_dev_pos2_context2/final_output.txt\n",
      "2539\n",
      "/data/philhoon-relevance/FiD/results/KILT_BM25_NQ/kilt_bm25_nq_dev_pos2_context3/final_output.txt\n",
      "2539\n",
      "/data/philhoon-relevance/FiD/results/KILT_BM25_NQ/kilt_bm25_nq_dev_pos2_context4/final_output.txt\n",
      "2539\n",
      "/data/philhoon-relevance/FiD/results/KILT_BM25_NQ/kilt_bm25_nq_dev_pos2_context5/final_output.txt\n",
      "2539\n",
      "/data/philhoon-relevance/FiD/results/KILT_BM25_NQ/kilt_bm25_nq_dev_pos3_context3/final_output.txt\n",
      "2539\n",
      "/data/philhoon-relevance/FiD/results/KILT_BM25_NQ/kilt_bm25_nq_dev_pos3_context4/final_output.txt\n",
      "2539\n",
      "/data/philhoon-relevance/FiD/results/KILT_BM25_NQ/kilt_bm25_nq_dev_pos3_context5/final_output.txt\n",
      "2539\n",
      "/data/philhoon-relevance/FiD/results/KILT_BM25_NQ/kilt_bm25_nq_dev_pos4_context4/final_output.txt\n",
      "2539\n",
      "/data/philhoon-relevance/FiD/results/KILT_BM25_NQ/kilt_bm25_nq_dev_pos4_context5/final_output.txt\n",
      "2539\n",
      "/data/philhoon-relevance/FiD/results/KILT_BM25_NQ/kilt_bm25_nq_dev_pos5_context5/final_output.txt\n",
      "2539\n"
     ]
    }
   ],
   "source": [
    "dict_eval = {\n",
    "    'pos' : [],\n",
    "    'ctx' : [],\n",
    "    'em' : []\n",
    "}\n",
    "\n",
    "sample_size = 5\n",
    "for pos in range(1, sample_size+1):\n",
    "    for ctx in range(pos, sample_size+1):\n",
    "    \n",
    "#         # bm25 negative filenames\n",
    "#         file_name_ = f'kilt_dpr_nq_dev_pos{pos}_context{ctx}'\n",
    "\n",
    "        # random sampling negative filenames\n",
    "        if option == 'random':\n",
    "            file_name_ = f'kilt_rand_nq_dev_pos{pos}_context{ctx}'\n",
    "            file = list(path.glob(f'*{file_name_}*/*.txt'))\n",
    "            test = file[0] \n",
    "        # DPR should be changed to bm25\n",
    "        if option == 'bm25':\n",
    "            file_name_ = f'kilt_bm25_nq_dev_pos{pos}_context{ctx}'\n",
    "            file = list(path.glob(f'*{file_name_}*/*.txt'))\n",
    "            test = file[0] \n",
    "        \n",
    "        print(test)\n",
    "        \n",
    "        df = pd.read_csv(test, sep = '\\t', header=None)\n",
    "        df.columns = ['id','inference','em']\n",
    "        print(len(df))\n",
    "        em = float(sum(df['em'])/len(df))\n",
    "        \n",
    "        dict_eval['pos'].append(pos)\n",
    "        dict_eval['ctx'].append(ctx)\n",
    "        dict_eval['em'].append(em)\n",
    "        \n",
    "        "
   ]
  },
  {
   "cell_type": "code",
   "execution_count": 11,
   "id": "785e69bf",
   "metadata": {},
   "outputs": [],
   "source": [
    "# test"
   ]
  },
  {
   "cell_type": "code",
   "execution_count": 12,
   "id": "f6cbb8ad",
   "metadata": {},
   "outputs": [],
   "source": [
    "df = pd.DataFrame(data=dict_eval)\n",
    "# print(dict_eval)\n",
    "\n",
    "pos_set = set(df['pos'])"
   ]
  },
  {
   "cell_type": "code",
   "execution_count": 13,
   "id": "befb60c1",
   "metadata": {},
   "outputs": [],
   "source": [
    "from cycler import cycler\n",
    "# marker='*',\n",
    "# default_cycler = (cycler(markers=['1', '2', '3' ,'4','8']))\n",
    "c = plt.cycler(color=[\"Blue\", \"Orange\", \"Green\",'Red','Purple'],\n",
    "               markersize=[10, 10, 10, 10, 10],\n",
    "               marker=[\"o\", \"s\", \"^\", '1', '3'])\n",
    "plt.rcParams[\"axes.prop_cycle\"] = c\n",
    "\n",
    "# plt.rc('axes', prop_cycle=default_cycler)"
   ]
  },
  {
   "cell_type": "code",
   "execution_count": 14,
   "id": "042c42c1",
   "metadata": {},
   "outputs": [
    {
     "data": {
      "text/html": [
       "<div>\n",
       "<style scoped>\n",
       "    .dataframe tbody tr th:only-of-type {\n",
       "        vertical-align: middle;\n",
       "    }\n",
       "\n",
       "    .dataframe tbody tr th {\n",
       "        vertical-align: top;\n",
       "    }\n",
       "\n",
       "    .dataframe thead th {\n",
       "        text-align: right;\n",
       "    }\n",
       "</style>\n",
       "<table border=\"1\" class=\"dataframe\">\n",
       "  <thead>\n",
       "    <tr style=\"text-align: right;\">\n",
       "      <th></th>\n",
       "      <th>pos</th>\n",
       "      <th>ctx</th>\n",
       "      <th>em</th>\n",
       "    </tr>\n",
       "  </thead>\n",
       "  <tbody>\n",
       "    <tr>\n",
       "      <th>0</th>\n",
       "      <td>1</td>\n",
       "      <td>1</td>\n",
       "      <td>0.678614</td>\n",
       "    </tr>\n",
       "    <tr>\n",
       "      <th>1</th>\n",
       "      <td>1</td>\n",
       "      <td>2</td>\n",
       "      <td>0.647105</td>\n",
       "    </tr>\n",
       "    <tr>\n",
       "      <th>2</th>\n",
       "      <td>1</td>\n",
       "      <td>3</td>\n",
       "      <td>0.632926</td>\n",
       "    </tr>\n",
       "    <tr>\n",
       "      <th>3</th>\n",
       "      <td>1</td>\n",
       "      <td>4</td>\n",
       "      <td>0.625837</td>\n",
       "    </tr>\n",
       "    <tr>\n",
       "      <th>4</th>\n",
       "      <td>1</td>\n",
       "      <td>5</td>\n",
       "      <td>0.622686</td>\n",
       "    </tr>\n",
       "    <tr>\n",
       "      <th>5</th>\n",
       "      <td>2</td>\n",
       "      <td>2</td>\n",
       "      <td>0.647105</td>\n",
       "    </tr>\n",
       "    <tr>\n",
       "      <th>6</th>\n",
       "      <td>2</td>\n",
       "      <td>3</td>\n",
       "      <td>0.632926</td>\n",
       "    </tr>\n",
       "    <tr>\n",
       "      <th>7</th>\n",
       "      <td>2</td>\n",
       "      <td>4</td>\n",
       "      <td>0.625837</td>\n",
       "    </tr>\n",
       "    <tr>\n",
       "      <th>8</th>\n",
       "      <td>2</td>\n",
       "      <td>5</td>\n",
       "      <td>0.622686</td>\n",
       "    </tr>\n",
       "    <tr>\n",
       "      <th>9</th>\n",
       "      <td>3</td>\n",
       "      <td>3</td>\n",
       "      <td>0.632926</td>\n",
       "    </tr>\n",
       "    <tr>\n",
       "      <th>10</th>\n",
       "      <td>3</td>\n",
       "      <td>4</td>\n",
       "      <td>0.625837</td>\n",
       "    </tr>\n",
       "    <tr>\n",
       "      <th>11</th>\n",
       "      <td>3</td>\n",
       "      <td>5</td>\n",
       "      <td>0.622686</td>\n",
       "    </tr>\n",
       "    <tr>\n",
       "      <th>12</th>\n",
       "      <td>4</td>\n",
       "      <td>4</td>\n",
       "      <td>0.625837</td>\n",
       "    </tr>\n",
       "    <tr>\n",
       "      <th>13</th>\n",
       "      <td>4</td>\n",
       "      <td>5</td>\n",
       "      <td>0.622686</td>\n",
       "    </tr>\n",
       "    <tr>\n",
       "      <th>14</th>\n",
       "      <td>5</td>\n",
       "      <td>5</td>\n",
       "      <td>0.622686</td>\n",
       "    </tr>\n",
       "  </tbody>\n",
       "</table>\n",
       "</div>"
      ],
      "text/plain": [
       "    pos  ctx        em\n",
       "0     1    1  0.678614\n",
       "1     1    2  0.647105\n",
       "2     1    3  0.632926\n",
       "3     1    4  0.625837\n",
       "4     1    5  0.622686\n",
       "5     2    2  0.647105\n",
       "6     2    3  0.632926\n",
       "7     2    4  0.625837\n",
       "8     2    5  0.622686\n",
       "9     3    3  0.632926\n",
       "10    3    4  0.625837\n",
       "11    3    5  0.622686\n",
       "12    4    4  0.625837\n",
       "13    4    5  0.622686\n",
       "14    5    5  0.622686"
      ]
     },
     "execution_count": 14,
     "metadata": {},
     "output_type": "execute_result"
    }
   ],
   "source": [
    "df"
   ]
  },
  {
   "cell_type": "code",
   "execution_count": 15,
   "id": "aeb0b2b0",
   "metadata": {
    "scrolled": false
   },
   "outputs": [
    {
     "data": {
      "image/png": "[encoded data removed]",
      "text/plain": [
       "<Figure size 800x800 with 1 Axes>"
      ]
     },
     "metadata": {},
     "output_type": "display_data"
    }
   ],
   "source": [
    "fig, ax = plt.subplots(1, 1, figsize=(4, 4))\n",
    "ax.set_xticks(sorted(list(pos_set)))\n",
    "for pos in pos_set:\n",
    "    selected_data = df.loc[df['pos'] == pos]\n",
    "#     print(selected_data)\n",
    "    ax.plot(selected_data['ctx'], selected_data['em'], label=pos, alpha = 0.5, linewidth=5)\n",
    "    \n",
    "# ax.set_title('FiD result on BM25 hard negative nq dev subsets')\n",
    "ax.set_title(title)\n",
    "ax.legend(title='Position of positive context')\n",
    "plt.ylabel('EM')\n",
    "plt.xlabel('Number of Context')\n",
    "plt.savefig(plot_path, dpi=300)\n",
    "plt.show()"
   ]
  },
  {
   "cell_type": "code",
   "execution_count": null,
   "id": "6b048039",
   "metadata": {},
   "outputs": [],
   "source": []
  },
  {
   "cell_type": "code",
   "execution_count": null,
   "id": "4f447ad0",
   "metadata": {},
   "outputs": [],
   "source": []
  },
  {
   "cell_type": "code",
   "execution_count": null,
   "id": "ec2b466d",
   "metadata": {},
   "outputs": [],
   "source": []
  },
  {
   "cell_type": "markdown",
   "id": "b558787b",
   "metadata": {},
   "source": [
    "## Check out the weired behavior. (2539 vs 1270)"
   ]
  },
  {
   "cell_type": "code",
   "execution_count": null,
   "id": "1e140363",
   "metadata": {},
   "outputs": [],
   "source": [
    "def read_file(ctx):\n",
    "    file_1 = f'/data/philhoon-relevance/FiD/results/KILT_DPR_NQ/kilt_dpr_nq_dev_pos1_context{ctx}/final_output.txt'\n",
    "    file_2 = f'/data/philhoon-relevance/FiD/results/KILT_DPR_NQ_depreciated/kilt_dpr_nq_dev_pos1_context{ctx}/final_output.txt'\n",
    "    \n",
    "    df_1 = pd.read_csv(file_1, sep = '\\t', header=None)\n",
    "    df_1.columns = ['id','inference','em']\n",
    "\n",
    "    df_2 = pd.read_csv(file_2, sep = '\\t', header=None)\n",
    "    df_2.columns = ['id','inference_2','em_2']\n",
    "\n",
    "    merged = pd.merge(df_1, df_2, on='id',how='left')\n",
    "    \n",
    "    return merged"
   ]
  },
  {
   "cell_type": "code",
   "execution_count": null,
   "id": "c5e41668",
   "metadata": {},
   "outputs": [],
   "source": [
    "merged_1 = read_file(1)"
   ]
  },
  {
   "cell_type": "code",
   "execution_count": null,
   "id": "a2daf6b8",
   "metadata": {},
   "outputs": [],
   "source": [
    "merged_1"
   ]
  },
  {
   "cell_type": "code",
   "execution_count": null,
   "id": "31c4a70f",
   "metadata": {},
   "outputs": [],
   "source": [
    "merged_2 = read_file(2)"
   ]
  },
  {
   "cell_type": "code",
   "execution_count": null,
   "id": "f2ab68d5",
   "metadata": {
    "scrolled": true
   },
   "outputs": [],
   "source": [
    "merged_2"
   ]
  },
  {
   "cell_type": "code",
   "execution_count": null,
   "id": "eddcd730",
   "metadata": {},
   "outputs": [],
   "source": [
    "merged_2"
   ]
  },
  {
   "cell_type": "code",
   "execution_count": null,
   "id": "5379b2d1",
   "metadata": {},
   "outputs": [],
   "source": [
    "def check_consistency(merged):\n",
    "    # merged_not_null where merged.em_2 is not null\n",
    "    merged_not_null = merged[merged.em_2.notnull()]\n",
    "    # merge_is_null where merged.em_2 is null\n",
    "    merged_is_null = merged[merged.em_2.isnull()]\n",
    "\n",
    "\n",
    "    # check inference == inference_2 \n",
    "    # adjusting NaN on inference (NaN is the answer to the query)\n",
    "    merged_not_null['inference'] = merged_not_null['inference'].fillna('NaN')\n",
    "    merged_not_null['inference_2'] = merged_not_null['inference_2'].fillna('NaN')\n",
    "\n",
    "\n",
    "    # check inference == inference_2 \n",
    "    print(all(merged_not_null.inference == merged_not_null.inference_2))\n",
    "    "
   ]
  },
  {
   "cell_type": "code",
   "execution_count": null,
   "id": "5922657a",
   "metadata": {},
   "outputs": [],
   "source": [
    "merged_2_not_null = merged_2[merged_2.em_2.notnull()]\n",
    "merged_2_is_null = merged_2[merged_2.em_2.isnull()]"
   ]
  },
  {
   "cell_type": "code",
   "execution_count": null,
   "id": "faa37665",
   "metadata": {
    "scrolled": true
   },
   "outputs": [],
   "source": [
    "merged_2_not_null['inference'] = merged_2_not_null['inference'].fillna('NaN')\n",
    "merged_2_not_null['inference_2'] = merged_2_not_null['inference_2'].fillna('NaN')"
   ]
  },
  {
   "cell_type": "code",
   "execution_count": null,
   "id": "dd2334c2",
   "metadata": {},
   "outputs": [],
   "source": [
    "all(merged_2_not_null.inference == merged_2_not_null.inference_2)"
   ]
  },
  {
   "cell_type": "code",
   "execution_count": null,
   "id": "5efa584d",
   "metadata": {},
   "outputs": [],
   "source": [
    "len(merged_2_not_null) - sum(merged_2_not_null.inference == merged_2_not_null.inference_2)"
   ]
  },
  {
   "cell_type": "code",
   "execution_count": null,
   "id": "61ded242",
   "metadata": {},
   "outputs": [],
   "source": [
    "merged_2_not_null"
   ]
  },
  {
   "cell_type": "code",
   "execution_count": null,
   "id": "ce457788",
   "metadata": {},
   "outputs": [],
   "source": []
  },
  {
   "cell_type": "code",
   "execution_count": null,
   "id": "8848ab3a",
   "metadata": {},
   "outputs": [],
   "source": [
    "check_consistency(merged_2)"
   ]
  },
  {
   "cell_type": "code",
   "execution_count": null,
   "id": "c38c364d",
   "metadata": {},
   "outputs": [],
   "source": [
    "# merged_not_null where merged.em_2 is not null\n",
    "merged_not_null = merged[merged.em_2.notnull()]\n",
    "# merge_is_null where merged.em_2 is null\n",
    "merged_is_null = merged[merged.em_2.isnull()]\n",
    "\n",
    "\n",
    "# check inference == inference_2 \n",
    "# adjusting NaN on inference (NaN is the answer to the query)\n",
    "merged_not_null['inference'] = merged_not_null['inference'].fillna('NaN')\n",
    "merged_not_null['inference_2'] = merged_not_null['inference_2'].fillna('NaN')\n",
    "\n",
    "\n",
    "# check inference == inference_2 \n",
    "all(merged_not_null.inference == merged_not_null.inference_2)"
   ]
  },
  {
   "cell_type": "code",
   "execution_count": null,
   "id": "a629d99f",
   "metadata": {},
   "outputs": [],
   "source": []
  },
  {
   "cell_type": "code",
   "execution_count": null,
   "id": "e3f3d25c",
   "metadata": {},
   "outputs": [],
   "source": []
  },
  {
   "cell_type": "code",
   "execution_count": null,
   "id": "5ccc973b",
   "metadata": {},
   "outputs": [],
   "source": [
    "ctx = 1\n",
    "file_1 = f'/data/philhoon-relevance/FiD/results/KILT_DPR_NQ/kilt_dpr_nq_dev_pos1_context{ctx}/final_output.txt'\n",
    "file_2 = f'/data/philhoon-relevance/FiD/results/KILT_DPR_NQ_depreciated/kilt_dpr_nq_dev_pos1_context{ctx}/final_output.txt'"
   ]
  },
  {
   "cell_type": "code",
   "execution_count": null,
   "id": "58778ec5",
   "metadata": {},
   "outputs": [],
   "source": [
    "df_1 = pd.read_csv(file_1, sep = '\\t', header=None)\n",
    "df_1.columns = ['id','inference','em']\n",
    "\n",
    "df_2 = pd.read_csv(file_2, sep = '\\t', header=None)\n",
    "df_2.columns = ['id','inference_2','em_2']\n",
    "\n",
    "merged = pd.merge(df_1, df_2, on='id',how='left')"
   ]
  },
  {
   "cell_type": "code",
   "execution_count": null,
   "id": "66c4780a",
   "metadata": {
    "scrolled": false
   },
   "outputs": [],
   "source": [
    "merged"
   ]
  },
  {
   "cell_type": "code",
   "execution_count": null,
   "id": "e75b23d3",
   "metadata": {},
   "outputs": [],
   "source": [
    "ctx = 1\n",
    "file_1 = f'/data/philhoon-relevance/FiD/results/KILT_DPR_NQ/kilt_dpr_nq_dev_pos1_context{ctx}/final_output.txt'\n",
    "file_2 = f'/data/philhoon-relevance/FiD/results/KILT_DPR_NQ_depreciated/kilt_dpr_nq_dev_pos1_context{ctx}/final_output.txt'"
   ]
  },
  {
   "cell_type": "code",
   "execution_count": null,
   "id": "8b3db381",
   "metadata": {},
   "outputs": [],
   "source": [
    "df_1 = pd.read_csv(file_1, sep = '\\t', header=None)\n",
    "df_1.columns = ['id','inference','em']\n",
    "\n",
    "df_2 = pd.read_csv(file_2, sep = '\\t', header=None)\n",
    "df_2.columns = ['id','inference_2','em_2']\n",
    "\n",
    "merged = pd.merge(df_1, df_2, on='id',how='left')"
   ]
  },
  {
   "cell_type": "code",
   "execution_count": null,
   "id": "ef8601e3",
   "metadata": {},
   "outputs": [],
   "source": [
    "# merged_not_null where merged.em_2 is not null\n",
    "merged_not_null = merged[merged.em_2.notnull()]\n",
    "# merge_is_null where merged.em_2 is null\n",
    "merged_is_null = merged[merged.em_2.isnull()]\n",
    "\n",
    "\n",
    "# check inference == inference_2 \n",
    "# adjusting NaN on inference (NaN is the answer to the query)\n",
    "merged_not_null['inference'] = merged_not_null['inference'].fillna('NaN')\n",
    "merged_not_null['inference_2'] = merged_not_null['inference_2'].fillna('NaN')\n",
    "\n",
    "\n",
    "# check inference == inference_2 \n",
    "all(merged_not_null.inference == merged_not_null.inference_2)"
   ]
  },
  {
   "cell_type": "code",
   "execution_count": null,
   "id": "069f7adb",
   "metadata": {},
   "outputs": [],
   "source": [
    "print(merged.em.sum())\n",
    "merged.em.sum() == merged.em_2.sum() + merged_is_null.em.sum()"
   ]
  },
  {
   "cell_type": "code",
   "execution_count": null,
   "id": "b5b55ff7",
   "metadata": {},
   "outputs": [],
   "source": [
    "def calculate_ems(merged):\n",
    "#     em_1 = float(merged.em.sum()/len(merged))\n",
    "#     em_2 = float(merged.em_2.sum()/merged.em_2.notnull().sum())\n",
    "    em_1 = float(merged.em.sum())\n",
    "    em_2 = float(merged.em_2.sum())\n",
    "    print(f'total em : {em_1}, half em : {em_2}')\n",
    "    return em_1, em_2"
   ]
  },
  {
   "cell_type": "code",
   "execution_count": null,
   "id": "3ae6b3d9",
   "metadata": {},
   "outputs": [],
   "source": [
    "def cacluate_sem(merged):\n",
    "#     em = float(merged_is_null.em.sum()/len(merged_is_null))\n",
    "    em = float(merged_is_null.em.sum())\n",
    "    print(f'rest em score : {em}')\n",
    "    return em"
   ]
  },
  {
   "cell_type": "code",
   "execution_count": null,
   "id": "69862591",
   "metadata": {},
   "outputs": [],
   "source": [
    "def seperate(merged):\n",
    "    merged_is_null = merged[merged.em_2.isnull()]\n",
    "\n",
    "    return merged_is_null"
   ]
  },
  {
   "cell_type": "code",
   "execution_count": null,
   "id": "a958b5f6",
   "metadata": {},
   "outputs": [],
   "source": [
    "em_1, em_2 = calculate_ems(merged)\n",
    "merged_s = seperate(merged)\n",
    "em_d = cacluate_sem(merged_s)"
   ]
  },
  {
   "cell_type": "code",
   "execution_count": null,
   "id": "5c2d0980",
   "metadata": {},
   "outputs": [],
   "source": []
  },
  {
   "cell_type": "code",
   "execution_count": null,
   "id": "c6bc0d59",
   "metadata": {},
   "outputs": [],
   "source": [
    "def checking_datas(file_1, file_2):\n",
    "    # file_1 is 2539 instances\n",
    "    # file_2 is 1270 instacnes\n",
    "    df_1 = pd.read_csv(file_1, sep = '\\t', header=None)\n",
    "    df_1.columns = ['id','inference','em']\n",
    "    \n",
    "    df_2 = pd.read_csv(file_2, sep = '\\t', header=None)\n",
    "    df_2.columns = ['id','inference_2','em_2']\n",
    "\n",
    "    merged = pd.merge(df_1, df_2, on='id',how='left')\n",
    "    \n",
    "    if all(merged[merged.em_2.notnull()].em == merged[merged.em_2.notnull()].em_2):\n",
    "        print(f'Same outputs on same quetions')\n",
    "    return merged"
   ]
  },
  {
   "cell_type": "code",
   "execution_count": null,
   "id": "fc3f95e8",
   "metadata": {},
   "outputs": [],
   "source": [
    "def get_ems(i, j):\n",
    "    file_1 = f'/data/philhoon-relevance/FiD/results/KILT_DPR_NQ/kilt_dpr_nq_dev_pos{i}_context{j}/final_output.txt'\n",
    "    file_2 = f'/data/philhoon-relevance/FiD/results/KILT_DPR_NQ_depreciated/kilt_dpr_nq_dev_pos{i}_context{j}/final_output.txt'\n",
    "    \n",
    "    # checking whether datas with same id have identitical result\n",
    "    merged = checking_datas(file_1, file_2)\n",
    "    \n",
    "    em_1, em_2 = calculate_ems(merged)\n",
    "    merged_s = seperate(merged)\n",
    "    em_d = cacluate_sem(merged_s)\n",
    "    \n",
    "    return em_1, em_2, em_d"
   ]
  },
  {
   "cell_type": "code",
   "execution_count": null,
   "id": "a32bffa2",
   "metadata": {},
   "outputs": [],
   "source": [
    "dict_eval = {\n",
    "    'total' : [],\n",
    "    'half' : [],\n",
    "    'rest' : [],\n",
    "    'ctx' : [],\n",
    "}\n",
    "pos = 1\n",
    "for j in range(1,6):\n",
    "    em_1, em_2, em_r = get_ems(pos, j)\n",
    "    dict_eval['total'].append(em_1)\n",
    "    dict_eval['half'].append(em_2)\n",
    "    dict_eval['rest'].append(em_r)\n",
    "    dict_eval['ctx'].append(j)"
   ]
  },
  {
   "cell_type": "code",
   "execution_count": null,
   "id": "d9ecf26d",
   "metadata": {},
   "outputs": [],
   "source": [
    "df = pd.DataFrame(data=dict_eval)"
   ]
  },
  {
   "cell_type": "code",
   "execution_count": null,
   "id": "4065da1d",
   "metadata": {},
   "outputs": [],
   "source": [
    "df"
   ]
  },
  {
   "cell_type": "code",
   "execution_count": null,
   "id": "2a99a698",
   "metadata": {},
   "outputs": [],
   "source": [
    "fig, ax = plt.subplots(1, 1, figsize=(5, 5))\n",
    "ax.plot(df['ctx'], df['total'], label='total', alpha = 0.5, linewidth=5)\n",
    "ax.plot(df['ctx'], df['half'], label='half', alpha = 0.5, linewidth=5)\n",
    "ax.plot(df['ctx'], df['rest'], label='rest', alpha = 0.5, linewidth=5)\n",
    "# ax.set_title(title)\n",
    "ax.legend(title='Position of positive context')\n",
    "plt.ylabel('EM')\n",
    "plt.xlabel('Number of Context')\n",
    "# plt.savefig(plot_path, dpi=300)\n",
    "plt.show()\n"
   ]
  },
  {
   "cell_type": "code",
   "execution_count": null,
   "id": "a8444a25",
   "metadata": {},
   "outputs": [],
   "source": []
  },
  {
   "cell_type": "code",
   "execution_count": null,
   "id": "3e7bfe12",
   "metadata": {},
   "outputs": [],
   "source": [
    "inf_2"
   ]
  },
  {
   "cell_type": "code",
   "execution_count": null,
   "id": "a27f47d5",
   "metadata": {},
   "outputs": [],
   "source": [
    "ids"
   ]
  },
  {
   "cell_type": "code",
   "execution_count": null,
   "id": "a9d31bc2",
   "metadata": {},
   "outputs": [],
   "source": [
    "def checking_datas(file_1, file_2):\n",
    "    # file_1 is 2539 instances\n",
    "    # file_2 is 1270 instacnes\n",
    "    df_1 = pd.read_csv(file_1, sep = '\\t', header=None)\n",
    "    df_1.columns = ['id','inference','em']\n",
    "    \n",
    "    df_2 = pd.read_csv(file_2, sep = '\\t', header=None)\n",
    "    df_2.columns = ['id','inference_2','em_2']\n",
    "\n",
    "    merged = pd.merge(df_1, df_2, on='id',how='left')\n",
    "    \n",
    "    # Check they have the same inference where merged.em_2 is not mull\n",
    "    merged[].\n",
    "    if merged[merged.em_2.notnull()].inference = merged[merged.em_2.notnull()].inference_2:\n",
    "        print(f'same predictions on same quetions')\n",
    "#     if len(merged[merged.em == merged.em_2]) == len(df_2):\n",
    "#         print(f'same predictions')\n",
    "    return merged"
   ]
  },
  {
   "cell_type": "code",
   "execution_count": null,
   "id": "636eabb8",
   "metadata": {},
   "outputs": [],
   "source": [
    "# len(merged) - merged.em_2.notnull().sum()"
   ]
  },
  {
   "cell_type": "code",
   "execution_count": null,
   "id": "8b255769",
   "metadata": {},
   "outputs": [],
   "source": [
    "# len(merged[merged.inference == merged.inference_2])"
   ]
  },
  {
   "cell_type": "code",
   "execution_count": null,
   "id": "de9f22ee",
   "metadata": {},
   "outputs": [],
   "source": [
    "# merged[merged.inference == merged.inference_2]"
   ]
  },
  {
   "cell_type": "code",
   "execution_count": null,
   "id": "80a525b2",
   "metadata": {},
   "outputs": [],
   "source": [
    "# checking_datas(file_1, file_2)"
   ]
  },
  {
   "cell_type": "code",
   "execution_count": null,
   "id": "7ef8542f",
   "metadata": {},
   "outputs": [],
   "source": [
    "# merged"
   ]
  },
  {
   "cell_type": "code",
   "execution_count": null,
   "id": "4468fff4",
   "metadata": {},
   "outputs": [],
   "source": [
    "# merged.em_2.isnull().sum()"
   ]
  },
  {
   "cell_type": "code",
   "execution_count": null,
   "id": "9e10878f",
   "metadata": {},
   "outputs": [],
   "source": [
    "merged[merged.em_2.notnull()]"
   ]
  },
  {
   "cell_type": "code",
   "execution_count": null,
   "id": "72c6f9da",
   "metadata": {},
   "outputs": [],
   "source": [
    "def calculate_ems(merged):\n",
    "    em_1 = float(sum(merged['em'])/(len(merged) - merged.em.isnull().sum()))\n",
    "    em_2 = float((merged[merged.em_2.notnull()]/(len(merged) - merged.em_2.isnull().sum()))\n",
    "    print(f'em_scores : {em_1}, {em_2}')\n",
    "    return em_1, em_2"
   ]
  },
  {
   "cell_type": "code",
   "execution_count": null,
   "id": "ba72f738",
   "metadata": {},
   "outputs": [],
   "source": [
    "dict_eval = {\n",
    "    '2539' : [],\n",
    "    '1270' : [],\n",
    "    'ctx' : [],\n",
    "}"
   ]
  },
  {
   "cell_type": "code",
   "execution_count": null,
   "id": "0352631b",
   "metadata": {},
   "outputs": [],
   "source": [
    "def checking_module(i, j):\n",
    "    file_1 = f'/data/philhoon-relevance/FiD/results/KILT_DPR_NQ/kilt_dpr_nq_dev_pos{i}_context{j}/final_output.txt'\n",
    "    file_2 = f'/data/philhoon-relevance/FiD/results/KILT_DPR_NQ_depreciated/kilt_dpr_nq_dev_pos{i}_context{j}/final_output.txt'\n",
    "    \n",
    "    # checking whether datas with same id have identitical result\n",
    "    merged = checking_datas(file_1, file_2)\n",
    "    \n",
    "    em_1, em_2 = calculate_ems(merged)\n",
    "    return em_1, em_2 "
   ]
  },
  {
   "cell_type": "code",
   "execution_count": null,
   "id": "6b53fa28",
   "metadata": {},
   "outputs": [],
   "source": [
    "pos = 1\n",
    "for j in range(1,6):\n",
    "    em_1, em_2 = checking_module(pos, j)\n",
    "    dict_eval['2539'].append(em_1)\n",
    "    dict_eval['1270'].append(em_2)\n",
    "    dict_eval['ctx'].append(j)"
   ]
  },
  {
   "cell_type": "code",
   "execution_count": null,
   "id": "3e26e9c2",
   "metadata": {},
   "outputs": [],
   "source": [
    "df = pd.DataFrame(data=dict_eval)"
   ]
  },
  {
   "cell_type": "code",
   "execution_count": null,
   "id": "79fcf134",
   "metadata": {},
   "outputs": [],
   "source": [
    "df"
   ]
  },
  {
   "cell_type": "code",
   "execution_count": null,
   "id": "a48c6e74",
   "metadata": {},
   "outputs": [],
   "source": [
    "fig, ax = plt.subplots(1, 1, figsize=(4, 4))\n",
    "ax.plot(df['ctx'], df['1270'], label='1270', alpha = 0.5, linewidth=5)\n",
    "ax.plot(df['ctx'], df['2539'], label='2539', alpha = 0.5, linewidth=5)\n",
    "# ax.set_title(title)\n",
    "ax.legend(title='Position of positive context')\n",
    "plt.ylabel('EM')\n",
    "plt.xlabel('Number of Context')\n",
    "# plt.savefig(plot_path, dpi=300)\n",
    "plt.show()"
   ]
  },
  {
   "cell_type": "code",
   "execution_count": null,
   "id": "f7f515e3",
   "metadata": {},
   "outputs": [],
   "source": [
    "selected_data = df.loc[df['pos'] == pos]"
   ]
  },
  {
   "cell_type": "code",
   "execution_count": null,
   "id": "037b157f",
   "metadata": {},
   "outputs": [],
   "source": [
    "pos_set = set(df['pos'])"
   ]
  },
  {
   "cell_type": "code",
   "execution_count": null,
   "id": "cc5f85a4",
   "metadata": {},
   "outputs": [],
   "source": [
    "fig, ax = plt.subplots(1, 1, figsize=(4, 4))\n",
    "ax.set_xticks(sorted(list(pos_set)))\n",
    "for pos in pos_set:\n",
    "    selected_data = df.loc[df['pos'] == pos]\n",
    "#     print(selected_data)\n",
    "    ax.plot(selected_data['ctx'], selected_data['em'], label=pos, alpha = 0.5, linewidth=5)\n",
    "    \n",
    "# ax.set_title('FiD result on BM25 hard negative nq dev subsets')\n",
    "ax.set_title(title)\n",
    "ax.legend(title='Position of positive context')\n",
    "plt.ylabel('EM')\n",
    "plt.xlabel('Number of Context')\n",
    "# plt.savefig(plot_path, dpi=300)\n",
    "plt.show()"
   ]
  },
  {
   "cell_type": "code",
   "execution_count": null,
   "id": "fd3f3118",
   "metadata": {},
   "outputs": [],
   "source": []
  },
  {
   "cell_type": "markdown",
   "id": "43ca5427",
   "metadata": {},
   "source": [
    "## Checking Dataset"
   ]
  },
  {
   "cell_type": "code",
   "execution_count": null,
   "id": "d9113c87",
   "metadata": {},
   "outputs": [],
   "source": [
    "from util import utils"
   ]
  },
  {
   "cell_type": "code",
   "execution_count": null,
   "id": "07eb7701",
   "metadata": {},
   "outputs": [],
   "source": [
    "\n",
    "for pos in range(1,6):\n",
    "    filename = f'/data/philhoon-relevance/FiD/open_domain_data/NQ_KILT_DPR/kilt_dpr_nq_dev_pos{pos}.json'\n",
    "    data = utils.open_json(filename)\n",
    "    \n",
    "    for pair in data:\n",
    "        answer_lst = pair['answers']\n",
    "        context_lst = pair['ctxs']\n",
    "        pos_cts = context_lst[pos-1]['t']\n",
    "        \n",
    "        \n",
    "#     break"
   ]
  },
  {
   "cell_type": "code",
   "execution_count": null,
   "id": "23d2bfd8",
   "metadata": {},
   "outputs": [],
   "source": [
    "filename"
   ]
  },
  {
   "cell_type": "code",
   "execution_count": null,
   "id": "30653abc",
   "metadata": {},
   "outputs": [],
   "source": [
    "pprint(len(data))"
   ]
  },
  {
   "cell_type": "code",
   "execution_count": null,
   "id": "9957f2da",
   "metadata": {},
   "outputs": [],
   "source": [
    "pprint(data[10])"
   ]
  },
  {
   "cell_type": "code",
   "execution_count": null,
   "id": "d599ccd8",
   "metadata": {},
   "outputs": [],
   "source": []
  },
  {
   "cell_type": "code",
   "execution_count": null,
   "id": "5ca65d32",
   "metadata": {},
   "outputs": [],
   "source": []
  }
 ],
 "metadata": {
  "kernelspec": {
   "display_name": "relevance-kilt",
   "language": "python",
   "name": "relevance-kilt"
  },
  "language_info": {
   "codemirror_mode": {
    "name": "ipython",
    "version": 3
   },
   "file_extension": ".py",
   "mimetype": "text/x-python",
   "name": "python",
   "nbconvert_exporter": "python",
   "pygments_lexer": "ipython3",
   "version": "3.8.13"
  }
 },
 "nbformat": 4,
 "nbformat_minor": 5
}
