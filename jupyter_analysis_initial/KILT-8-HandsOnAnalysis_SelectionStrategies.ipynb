{
 "cells": [
  {
   "cell_type": "markdown",
   "id": "e86601ea",
   "metadata": {},
   "source": [
    "# KILT-8-HandsOnAnalysis_SelectionStrategies"
   ]
  },
  {
   "cell_type": "markdown",
   "id": "c49f712c",
   "metadata": {},
   "source": [
    "- Analysis on KILT-6-get-data-for-incremental-data.ipynb results"
   ]
  },
  {
   "cell_type": "code",
   "execution_count": 1,
   "id": "434f76e1",
   "metadata": {},
   "outputs": [],
   "source": [
    "from cycler import cycler\n",
    "import numpy as np\n",
    "import seaborn as sns\n",
    "import matplotlib as mpl\n",
    "import pathlib\n",
    "from pprint import pprint\n",
    "import pandas as pd\n",
    "import matplotlib.pyplot as plt\n",
    "import os\n",
    "from rich.console import Console\n",
    "from rich.table import Table"
   ]
  },
  {
   "cell_type": "code",
   "execution_count": 2,
   "id": "4bd7e04f",
   "metadata": {},
   "outputs": [],
   "source": [
    "def get_table(title, columns, rows):\n",
    "\n",
    "    table = Table(title=title)\n",
    "    \n",
    "    table.add_column(\"\", justify=\"center\")\n",
    "    for column in columns:\n",
    "        table.add_column(column, justify=\"center\")\n",
    "    \n",
    "    for row in rows:\n",
    "        table.add_row(*row)\n",
    "        \n",
    "\n",
    "    console = Console(record=True)\n",
    "    console.print(table, justify=\"center\")\n",
    "#     console.save_text(f\"./images/{title}\")"
   ]
  },
  {
   "cell_type": "code",
   "execution_count": 3,
   "id": "171f41f3",
   "metadata": {},
   "outputs": [],
   "source": [
    "raw_light_palette = [\n",
    "    (0, 122, 255), # Blue\n",
    "    (255, 149, 0), # Orange\n",
    "    (52, 199, 89), # Green\n",
    "    (255, 59, 48), # Red\n",
    "    (175, 82, 222),# Purple\n",
    "    (255, 45, 85), # Pink\n",
    "    (88, 86, 214), # Indigo\n",
    "    (90, 200, 250),# Teal\n",
    "    (255, 204, 0)  # Yellow\n",
    "]\n",
    "\n",
    "raw_gray_light_palette = [\n",
    "    (142, 142, 147),# Gray\n",
    "    (174, 174, 178),# Gray (2)\n",
    "    (199, 199, 204),# Gray (3)\n",
    "    (209, 209, 214),# Gray (4)\n",
    "    (229, 229, 234),# Gray (5)\n",
    "    (242, 242, 247),# Gray (6)\n",
    "]\n",
    "\n",
    "\n",
    "light_palette = np.array(raw_light_palette)/255\n",
    "gray_light_palette = np.array(raw_gray_light_palette)/255"
   ]
  },
  {
   "cell_type": "code",
   "execution_count": 4,
   "id": "fa90290f",
   "metadata": {},
   "outputs": [
    {
     "name": "stdout",
     "output_type": "stream",
     "text": [
      "Light mode palette\n"
     ]
    },
    {
     "data": {
      "image/png": "[encoded data removed]",
      "text/plain": [
       "<Figure size 900x100 with 1 Axes>"
      ]
     },
     "metadata": {},
     "output_type": "display_data"
    },
    {
     "data": {
      "image/png": "[encoded data removed]",
      "text/plain": [
       "<Figure size 600x100 with 1 Axes>"
      ]
     },
     "metadata": {},
     "output_type": "display_data"
    }
   ],
   "source": [
    "print('Light mode palette')\n",
    "sns.palplot(light_palette)\n",
    "sns.palplot(gray_light_palette)"
   ]
  },
  {
   "cell_type": "code",
   "execution_count": 5,
   "id": "add1657d",
   "metadata": {},
   "outputs": [],
   "source": [
    "# cmap 수정\n",
    "mpl.rcParams['axes.prop_cycle'] = cycler('color',light_palette)\n",
    "# 해상도 조정\n",
    "mpl.rcParams['figure.dpi'] = 200\n",
    "# ax의 우측과 상단 지우기\n",
    "mpl.rcParams['axes.spines.top'] = False\n",
    "mpl.rcParams['axes.spines.right'] = False"
   ]
  },
  {
   "cell_type": "markdown",
   "id": "d4c7c0a3",
   "metadata": {},
   "source": [
    "## KILT BM25 NQ negative (from DPR) depreciated"
   ]
  },
  {
   "cell_type": "code",
   "execution_count": 6,
   "id": "4e9ae4ae",
   "metadata": {},
   "outputs": [],
   "source": [
    "# option = 'bm25'\n",
    "# path = '/data/philhoon-relevance/FiD/results/KILT_DPR_NQ'\n",
    "# # path = '/data/philhoon-relevance/FiD/results/KILT_DPR_NQ_depreciated'\n",
    "# plot_path = './img/FiDResultOnBM25HardnegativeNQdevSubsets.png'\n",
    "# title = 'FiD result on BM25 negative nq dev subsets'"
   ]
  },
  {
   "cell_type": "markdown",
   "id": "b69b594e",
   "metadata": {},
   "source": [
    "## KILT Random Sampling NQ negative  depreciated"
   ]
  },
  {
   "cell_type": "code",
   "execution_count": 7,
   "id": "db0ca387",
   "metadata": {},
   "outputs": [],
   "source": [
    "# option = 'random'\n",
    "# path = '/data/philhoon-relevance/FiD/results/KILT_RANDOM_NQ'\n",
    "# plot_path = './img/FiDResultOnRandomSamplingnegativeNQdevSubsets.png'\n",
    "# title = 'FiD result on random sampling negative nq dev subsets'"
   ]
  },
  {
   "cell_type": "markdown",
   "id": "4d94b03f",
   "metadata": {},
   "source": [
    "## KILT BM25 NQ negative (from DPR)"
   ]
  },
  {
   "cell_type": "code",
   "execution_count": 8,
   "id": "779c7a4d",
   "metadata": {},
   "outputs": [],
   "source": [
    "# option = 'bm25'\n",
    "# path = '/data/philhoon-relevance/FiD/results/KILT_BM25_NQ'"
   ]
  },
  {
   "cell_type": "markdown",
   "id": "ce828108",
   "metadata": {},
   "source": [
    "## KILT Random Sampling NQ negative "
   ]
  },
  {
   "cell_type": "code",
   "execution_count": 9,
   "id": "580e7bce",
   "metadata": {},
   "outputs": [],
   "source": [
    "# option = 'random'\n",
    "# path = '/data/philhoon-relevance/FiD/results/KILT_RANDOM_NQ'\n",
    "# plot_path = './img/New_FiDResultOnRandomSamplingnegativeNQdev2539.png'\n",
    "# title = 'New FiD result on random sampling negative nq dev subsets'"
   ]
  },
  {
   "cell_type": "code",
   "execution_count": 10,
   "id": "94004efd",
   "metadata": {},
   "outputs": [],
   "source": [
    "# path = pathlib.Path(path)"
   ]
  },
  {
   "cell_type": "code",
   "execution_count": 11,
   "id": "681b78f3",
   "metadata": {},
   "outputs": [],
   "source": [
    "# files = path.glob('**/*.txt')\n",
    "# pprint(list(files))"
   ]
  },
  {
   "cell_type": "code",
   "execution_count": 12,
   "id": "7fc8fc4d",
   "metadata": {},
   "outputs": [],
   "source": [
    "# dict_eval = {\n",
    "#     'pos' : [],\n",
    "#     'ctx' : [],\n",
    "#     'em' : []\n",
    "# }\n",
    "\n",
    "# sample_size = 5\n",
    "# for pos in range(1, sample_size+1):\n",
    "#     for ctx in range(pos, sample_size+1):\n",
    "    \n",
    "# #         # bm25 negative filenames\n",
    "# #         file_name_ = f'kilt_dpr_nq_dev_pos{pos}_context{ctx}'\n",
    "\n",
    "#         # random sampling negative filenames\n",
    "#         if option == 'random':\n",
    "#             file_name_ = f'kilt_rand_nq_dev_pos{pos}_context{ctx}'\n",
    "#             file = list(path.glob(f'*{file_name_}*/*.txt'))\n",
    "#             test = file[0] \n",
    "#         # DPR should be changed to bm25\n",
    "#         if option == 'bm25':\n",
    "#             file_name_ = f'kilt_bm25_nq_dev_pos{pos}_context{ctx}'\n",
    "#             file = list(path.glob(f'*{file_name_}*/*.txt'))\n",
    "#             test = file[0] \n",
    "        \n",
    "#         print(test)\n",
    "        \n",
    "#         df = pd.read_csv(test, sep = '\\t', header=None)\n",
    "#         df.columns = ['id','inference','em']\n",
    "#         print(len(df))\n",
    "#         em = float(sum(df['em'])/len(df))\n",
    "        \n",
    "#         dict_eval['pos'].append(pos)\n",
    "#         dict_eval['ctx'].append(ctx)\n",
    "#         dict_eval['em'].append(em)\n",
    "        \n",
    "        "
   ]
  },
  {
   "cell_type": "markdown",
   "id": "22eba964",
   "metadata": {},
   "source": [
    "## KILT BM25 NQ incremetal result (from DPR)"
   ]
  },
  {
   "cell_type": "code",
   "execution_count": 13,
   "id": "605136ee",
   "metadata": {},
   "outputs": [],
   "source": [
    "# '/data/philhoon-relevance/FiD/results/KILT_BM25_NQ/incremental_result/pos1_ctx1.json'\n",
    "pos = 1\n",
    "sample_size = 5\n",
    "path2 = '/data/philhoon-relevance/FiD/results/KILT_BM25_NQ/incremental_result/'"
   ]
  },
  {
   "cell_type": "code",
   "execution_count": 14,
   "id": "8e22e003",
   "metadata": {},
   "outputs": [
    {
     "name": "stdout",
     "output_type": "stream",
     "text": [
      "[PosixPath('/data/philhoon-relevance/FiD/results/KILT_BM25_NQ/incremental_result/pos1_ctx5.txt'),\n",
      " PosixPath('/data/philhoon-relevance/FiD/results/KILT_BM25_NQ/incremental_result/pos1_ctx2.txt'),\n",
      " PosixPath('/data/philhoon-relevance/FiD/results/KILT_BM25_NQ/incremental_result/pos1_ctx3.txt'),\n",
      " PosixPath('/data/philhoon-relevance/FiD/results/KILT_BM25_NQ/incremental_result/pos1_ctx4.txt'),\n",
      " PosixPath('/data/philhoon-relevance/FiD/results/KILT_BM25_NQ/incremental_result/pos1_ctx1.txt')]\n"
     ]
    }
   ],
   "source": [
    "path2 = pathlib.Path(path2)\n",
    "files = path2.glob(f'pos{pos}*.txt')\n",
    "pprint(list(files))"
   ]
  },
  {
   "cell_type": "code",
   "execution_count": 15,
   "id": "1250d400",
   "metadata": {},
   "outputs": [],
   "source": [
    "incre_em = {\n",
    "    'ctx' : [],\n",
    "    'em' : [],   \n",
    "}\n",
    "for i in range(pos, sample_size+1):\n",
    "    file_name_ = f'pos{pos}_ctx{i}.txt'\n",
    "    file = list(path2.glob(file_name_))\n",
    "    test = file[0] \n",
    "    incre_em['ctx'].append(i)\n",
    "    with open(test, 'r') as f:\n",
    "        em_ = float(f.readline().split()[-3])\n",
    "        incre_em['em'].append(em_)"
   ]
  },
  {
   "cell_type": "code",
   "execution_count": 16,
   "id": "ade3a69d",
   "metadata": {},
   "outputs": [
    {
     "data": {
      "text/plain": [
       "{'ctx': [1, 2, 3, 4, 5],\n",
       " 'em': [0.6786136274123671,\n",
       "  0.7038204017329658,\n",
       "  0.7227254824734147,\n",
       "  0.7325718786923986,\n",
       "  0.7388735722725482]}"
      ]
     },
     "execution_count": 16,
     "metadata": {},
     "output_type": "execute_result"
    }
   ],
   "source": [
    "incre_em"
   ]
  },
  {
   "cell_type": "code",
   "execution_count": 17,
   "id": "d8e0c098",
   "metadata": {},
   "outputs": [],
   "source": [
    "def get_lowerbound(incre_em):\n",
    "    index_min = np.argmin(incre_em['em'])\n",
    "    return incre_em['ctx'][index_min], incre_em['em'][index_min]"
   ]
  },
  {
   "cell_type": "code",
   "execution_count": 18,
   "id": "34590335",
   "metadata": {},
   "outputs": [],
   "source": [
    "def get_upperbound(incre_em):\n",
    "    index_max = np.argmax(incre_em['em'])\n",
    "    return incre_em['ctx'][index_max], incre_em['em'][index_max]"
   ]
  },
  {
   "cell_type": "code",
   "execution_count": 19,
   "id": "c8064364",
   "metadata": {},
   "outputs": [],
   "source": [
    "upper_ctx, upper_em = get_upperbound(incre_em)"
   ]
  },
  {
   "cell_type": "code",
   "execution_count": 20,
   "id": "9ccde0e5",
   "metadata": {},
   "outputs": [
    {
     "name": "stdout",
     "output_type": "stream",
     "text": [
      "5 0.7388735722725482\n"
     ]
    }
   ],
   "source": [
    "print(upper_ctx, upper_em)"
   ]
  },
  {
   "cell_type": "code",
   "execution_count": 21,
   "id": "317719bc",
   "metadata": {},
   "outputs": [],
   "source": [
    "lower_ctx, lower_em = get_lowerbound(incre_em)"
   ]
  },
  {
   "cell_type": "code",
   "execution_count": 22,
   "id": "1e39e1e7",
   "metadata": {},
   "outputs": [
    {
     "name": "stdout",
     "output_type": "stream",
     "text": [
      "1 0.6786136274123671\n"
     ]
    }
   ],
   "source": [
    "print(lower_ctx, lower_em)"
   ]
  },
  {
   "cell_type": "markdown",
   "id": "b55a7745",
   "metadata": {},
   "source": [
    "## KILT BM25 NQ selection strategy result"
   ]
  },
  {
   "cell_type": "code",
   "execution_count": 23,
   "id": "5cc838b6",
   "metadata": {},
   "outputs": [],
   "source": [
    "option_dict = {\n",
    "    'op1' : 'remove_damage',\n",
    "    'op2' : 'remove_damage_irrelevant',\n",
    "    'op3' : 'remove_damage_relevant',\n",
    "    'op4' : 'remove_damage_irrelevant_relevant',\n",
    "}\n",
    "# option = 'op4'"
   ]
  },
  {
   "cell_type": "code",
   "execution_count": 24,
   "id": "24b5ee80",
   "metadata": {},
   "outputs": [],
   "source": [
    "option_p_dict = {\n",
    "    'strict' : 'strict_positive',\n",
    "    'naive' : 'naive_positive',\n",
    "}\n",
    "# option_p = 'strict'"
   ]
  },
  {
   "cell_type": "code",
   "execution_count": 25,
   "id": "ec5c0fc4",
   "metadata": {},
   "outputs": [],
   "source": [
    "option_d_dict = {\n",
    "    'strict' : 'strict_damaging',\n",
    "    'naive' : 'naive_damaging',\n",
    "}\n",
    "# option_d = 'strict'"
   ]
  },
  {
   "cell_type": "code",
   "execution_count": 26,
   "id": "6b048039",
   "metadata": {},
   "outputs": [],
   "source": [
    "input_path = '/data/philhoon-relevance/FiD/results/NQ_KILT_BM25_SELECTION'"
   ]
  },
  {
   "cell_type": "code",
   "execution_count": 27,
   "id": "ae4b1451",
   "metadata": {},
   "outputs": [],
   "source": [
    "in_path = pathlib.Path(input_path)\n",
    "# files = in_path.glob(f'**/*.txt')\n",
    "# pprint(list(files))"
   ]
  },
  {
   "cell_type": "code",
   "execution_count": 28,
   "id": "8292ded2",
   "metadata": {},
   "outputs": [
    {
     "name": "stdout",
     "output_type": "stream",
     "text": [
      "op1_strict_strict\n",
      "op1_strict_naive\n",
      "op1_naive_strict\n",
      "op1_naive_naive\n",
      "op2_strict_strict\n",
      "op2_strict_naive\n",
      "op2_naive_strict\n",
      "op2_naive_naive\n",
      "op3_strict_strict\n",
      "op3_strict_naive\n",
      "op3_naive_strict\n",
      "op3_naive_naive\n",
      "op4_strict_strict\n",
      "op4_strict_naive\n",
      "op4_naive_strict\n",
      "op4_naive_naive\n"
     ]
    }
   ],
   "source": [
    "dict_eval = {\n",
    "    'strategy' : [],\n",
    "    'em' : []\n",
    "}\n",
    "\n",
    "for op in option_dict.keys():\n",
    "    for op_p in option_p_dict.keys():\n",
    "        for op_d in option_d_dict.keys():\n",
    "            strategy_ = f'{option_p_dict[op_p]}_{option_d_dict[op_d]}_{option_dict[op]}'\n",
    "            strategy_name = f'{op}_{op_p}_{op_d}'\n",
    "            print(strategy_name)\n",
    "            strategy_path = pathlib.Path(input_path, strategy_)\n",
    "            file = list(strategy_path.glob(f'*.txt'))\n",
    "            if len(file) != 1:\n",
    "                print('There should be 1 file per each path')\n",
    "            else:\n",
    "                test = file[0] \n",
    "            \n",
    "#             print(test)\n",
    "            df = pd.read_csv(test, sep = '\\t', header=None)\n",
    "            df.columns = ['id','inference','em']\n",
    "#             print(len(df))\n",
    "            em = float(sum(df['em'])/len(df))\n",
    "        \n",
    "            dict_eval['strategy'].append(strategy_name)\n",
    "            dict_eval['em'].append(em)\n",
    "            "
   ]
  },
  {
   "cell_type": "code",
   "execution_count": 29,
   "id": "75b8444a",
   "metadata": {},
   "outputs": [],
   "source": [
    "def merge(incre_em, dict_eval):\n",
    "    column_names = []\n",
    "    row_values = []\n",
    "    upper_ctx, upper_em = get_upperbound(incre_em)\n",
    "    lower_ctx, lower_em = get_lowerbound(incre_em)\n",
    "    column_names.append('UpperBound-AccumulatedEm')\n",
    "    column_names.append('LowerBound-PositiveOneEm')\n",
    "    row_values.append(str(upper_em))\n",
    "    row_values.append(str(lower_em))\n",
    "    \n",
    "    for strat_, em_ in zip(dict_eval['strategy'], dict_eval['em']):\n",
    "        column_names.append(strat_)\n",
    "        row_values.append(str(em_))\n",
    "        \n",
    "    return column_names, row_values\n",
    "    "
   ]
  },
  {
   "cell_type": "code",
   "execution_count": 30,
   "id": "a7a9e494",
   "metadata": {},
   "outputs": [],
   "source": [
    "col_lst, value_lst = merge(incre_em, dict_eval)"
   ]
  },
  {
   "cell_type": "code",
   "execution_count": 31,
   "id": "e0bb3322",
   "metadata": {},
   "outputs": [
    {
     "name": "stdout",
     "output_type": "stream",
     "text": [
      "['UpperBound-AccumulatedEm', 'LowerBound-PositiveOneEm', 'op1_strict_strict', 'op1_strict_naive', 'op1_naive_strict', 'op1_naive_naive', 'op2_strict_strict', 'op2_strict_naive', 'op2_naive_strict', 'op2_naive_naive', 'op3_strict_strict', 'op3_strict_naive', 'op3_naive_strict', 'op3_naive_naive', 'op4_strict_strict', 'op4_strict_naive', 'op4_naive_strict', 'op4_naive_naive']\n",
      "['0.7388735722725482', '0.6786136274123671', '0.6845214651437573', '0.7365104371799921', '0.6845214651437573', '0.7365104371799921', '0.7113036628593935', '0.7113036628593935', '0.7113036628593935', '0.7113036628593935', '0.6860968885387948', '0.7361165813312328', '0.6845214651437573', '0.7365104371799921', '0.709728239464356', '0.709728239464356', '0.7113036628593935', '0.7113036628593935']\n"
     ]
    }
   ],
   "source": [
    "print(col_lst)\n",
    "print(value_lst)"
   ]
  },
  {
   "cell_type": "code",
   "execution_count": 32,
   "id": "c429dd51",
   "metadata": {},
   "outputs": [],
   "source": [
    "def get_table(title, columns, rows):\n",
    "\n",
    "    table = Table(title=title)\n",
    "    \n",
    "    table.add_column(\"\", justify=\"center\")\n",
    "    for column in columns:\n",
    "        table.add_column(column, justify=\"center\")\n",
    "    \n",
    "    if any(isinstance(i, list) for i in rows):\n",
    "        for row in rows:\n",
    "            table.add_row(*row)\n",
    "    else:\n",
    "#         print(rows)\n",
    "        name = 'result'\n",
    "        single_row = [name] + rows\n",
    "        table.add_row(*single_row)\n",
    "        \n",
    "\n",
    "    console = Console(record=True)\n",
    "    console.print(table, justify=\"center\")\n",
    "#     console.save_text(f\"./images/{title}\")"
   ]
  },
  {
   "cell_type": "code",
   "execution_count": 53,
   "id": "23e3b116",
   "metadata": {},
   "outputs": [],
   "source": [
    "option_dict = {\n",
    "    'op1' : 'remove_damage',\n",
    "    'op2' : 'remove_damage_irrelevant',\n",
    "    'op3' : 'remove_damage_relevant',\n",
    "    'op4' : 'remove_damage_irrelevant_relevant',\n",
    "}\n",
    "option_p_dict = {\n",
    "    'strict' : 'strict_positive', # - decreasing # of positive passages\n",
    "    'naive' : 'naive_positive', # - increasing # of positive passage\n",
    "}\n",
    "option_d_dict = {\n",
    "    'strict' : 'strict_damaging', # - decreasing # of damaging passages\n",
    "    'naive' : 'naive_damaging', # - increasing # of damaging passages\n",
    "}"
   ]
  },
  {
   "cell_type": "code",
   "execution_count": 48,
   "id": "2b2ebbb7",
   "metadata": {},
   "outputs": [
    {
     "data": {
      "text/html": [
       "<pre style=\"white-space:pre;overflow-x:auto;line-height:normal;font-family:Menlo,'DejaVu Sans Mono',consolas,'Courier New',monospace\">                         <span style=\"font-style: italic\">                    Strategy Selection Table                    </span>                          \n",
       "                         ┏━━━━━━━━┳━━━━━━━━━━━━━━━━━━━━━━━━━━┳━━━━━━━━━━━━━━━━━━━━━━━━━━┓                          \n",
       "                         ┃<span style=\"font-weight: bold\">        </span>┃<span style=\"font-weight: bold\"> UpperBound-AccumulatedEm </span>┃<span style=\"font-weight: bold\"> LowerBound-PositiveOneEm </span>┃                          \n",
       "                         ┡━━━━━━━━╇━━━━━━━━━━━━━━━━━━━━━━━━━━╇━━━━━━━━━━━━━━━━━━━━━━━━━━┩                          \n",
       "                         │ result │    0.7388735722725482    │    0.6786136274123671    │                          \n",
       "                         └────────┴──────────────────────────┴──────────────────────────┘                          \n",
       "</pre>\n"
      ],
      "text/plain": [
       "                         \u001b[3m                    Strategy Selection Table                    \u001b[0m                          \n",
       "                         ┏━━━━━━━━┳━━━━━━━━━━━━━━━━━━━━━━━━━━┳━━━━━━━━━━━━━━━━━━━━━━━━━━┓                          \n",
       "                         ┃\u001b[1m \u001b[0m\u001b[1m      \u001b[0m\u001b[1m \u001b[0m┃\u001b[1m \u001b[0m\u001b[1mUpperBound-AccumulatedEm\u001b[0m\u001b[1m \u001b[0m┃\u001b[1m \u001b[0m\u001b[1mLowerBound-PositiveOneEm\u001b[0m\u001b[1m \u001b[0m┃                          \n",
       "                         ┡━━━━━━━━╇━━━━━━━━━━━━━━━━━━━━━━━━━━╇━━━━━━━━━━━━━━━━━━━━━━━━━━┩                          \n",
       "                         │ result │    0.7388735722725482    │    0.6786136274123671    │                          \n",
       "                         └────────┴──────────────────────────┴──────────────────────────┘                          \n"
      ]
     },
     "metadata": {},
     "output_type": "display_data"
    }
   ],
   "source": [
    "unit = 2\n",
    "s_ind = 0\n",
    "e_ind = s_ind + unit\n",
    "title = 'Strategy Selection Table'\n",
    "get_table(title, col_lst[s_ind:e_ind], value_lst[s_ind:e_ind])"
   ]
  },
  {
   "cell_type": "code",
   "execution_count": 49,
   "id": "50e8071a",
   "metadata": {},
   "outputs": [
    {
     "data": {
      "text/html": [
       "<pre style=\"white-space:pre;overflow-x:auto;line-height:normal;font-family:Menlo,'DejaVu Sans Mono',consolas,'Courier New',monospace\">          <span style=\"font-style: italic\">                                 Strategy Selection Table op1                                 </span>           \n",
       "          ┏━━━━━━━━┳━━━━━━━━━━━━━━━━━━━━┳━━━━━━━━━━━━━━━━━━━━┳━━━━━━━━━━━━━━━━━━━━┳━━━━━━━━━━━━━━━━━━━━┓           \n",
       "          ┃<span style=\"font-weight: bold\">        </span>┃<span style=\"font-weight: bold\"> op1_strict_strict  </span>┃<span style=\"font-weight: bold\">  op1_strict_naive  </span>┃<span style=\"font-weight: bold\">  op1_naive_strict  </span>┃<span style=\"font-weight: bold\">  op1_naive_naive   </span>┃           \n",
       "          ┡━━━━━━━━╇━━━━━━━━━━━━━━━━━━━━╇━━━━━━━━━━━━━━━━━━━━╇━━━━━━━━━━━━━━━━━━━━╇━━━━━━━━━━━━━━━━━━━━┩           \n",
       "          │ result │ 0.6845214651437573 │ 0.7365104371799921 │ 0.6845214651437573 │ 0.7365104371799921 │           \n",
       "          └────────┴────────────────────┴────────────────────┴────────────────────┴────────────────────┘           \n",
       "</pre>\n"
      ],
      "text/plain": [
       "          \u001b[3m                                 Strategy Selection Table op1                                 \u001b[0m           \n",
       "          ┏━━━━━━━━┳━━━━━━━━━━━━━━━━━━━━┳━━━━━━━━━━━━━━━━━━━━┳━━━━━━━━━━━━━━━━━━━━┳━━━━━━━━━━━━━━━━━━━━┓           \n",
       "          ┃\u001b[1m \u001b[0m\u001b[1m      \u001b[0m\u001b[1m \u001b[0m┃\u001b[1m \u001b[0m\u001b[1mop1_strict_strict \u001b[0m\u001b[1m \u001b[0m┃\u001b[1m \u001b[0m\u001b[1m op1_strict_naive \u001b[0m\u001b[1m \u001b[0m┃\u001b[1m \u001b[0m\u001b[1m op1_naive_strict \u001b[0m\u001b[1m \u001b[0m┃\u001b[1m \u001b[0m\u001b[1m op1_naive_naive  \u001b[0m\u001b[1m \u001b[0m┃           \n",
       "          ┡━━━━━━━━╇━━━━━━━━━━━━━━━━━━━━╇━━━━━━━━━━━━━━━━━━━━╇━━━━━━━━━━━━━━━━━━━━╇━━━━━━━━━━━━━━━━━━━━┩           \n",
       "          │ result │ 0.6845214651437573 │ 0.7365104371799921 │ 0.6845214651437573 │ 0.7365104371799921 │           \n",
       "          └────────┴────────────────────┴────────────────────┴────────────────────┴────────────────────┘           \n"
      ]
     },
     "metadata": {},
     "output_type": "display_data"
    }
   ],
   "source": [
    "unit = 4\n",
    "title = 'Strategy Selection Table op1'\n",
    "s_ind = e_ind\n",
    "e_ind = s_ind + unit\n",
    "get_table(title, col_lst[s_ind:e_ind], value_lst[s_ind:e_ind])"
   ]
  },
  {
   "cell_type": "markdown",
   "id": "8a7e6e6c",
   "metadata": {},
   "source": [
    "## op1 result - remove_damage\n",
    "    - positive option won't effect the result\n",
    "    - naive damaging - increasing # of damaging passages -> better result\n",
    "### Conclusion \n",
    "     - 1. Adding relevant passages won't affect the result when there is a positive passage \n",
    "     - 2. Removing irrelevant passages gives the better result because it removes passages that might be damaging"
   ]
  },
  {
   "cell_type": "code",
   "execution_count": 50,
   "id": "02b3736f",
   "metadata": {
    "scrolled": true
   },
   "outputs": [
    {
     "data": {
      "text/html": [
       "<pre style=\"white-space:pre;overflow-x:auto;line-height:normal;font-family:Menlo,'DejaVu Sans Mono',consolas,'Courier New',monospace\">          <span style=\"font-style: italic\">                                 Strategy Selection Table op2                                 </span>           \n",
       "          ┏━━━━━━━━┳━━━━━━━━━━━━━━━━━━━━┳━━━━━━━━━━━━━━━━━━━━┳━━━━━━━━━━━━━━━━━━━━┳━━━━━━━━━━━━━━━━━━━━┓           \n",
       "          ┃<span style=\"font-weight: bold\">        </span>┃<span style=\"font-weight: bold\"> op2_strict_strict  </span>┃<span style=\"font-weight: bold\">  op2_strict_naive  </span>┃<span style=\"font-weight: bold\">  op2_naive_strict  </span>┃<span style=\"font-weight: bold\">  op2_naive_naive   </span>┃           \n",
       "          ┡━━━━━━━━╇━━━━━━━━━━━━━━━━━━━━╇━━━━━━━━━━━━━━━━━━━━╇━━━━━━━━━━━━━━━━━━━━╇━━━━━━━━━━━━━━━━━━━━┩           \n",
       "          │ result │ 0.7113036628593935 │ 0.7113036628593935 │ 0.7113036628593935 │ 0.7113036628593935 │           \n",
       "          └────────┴────────────────────┴────────────────────┴────────────────────┴────────────────────┘           \n",
       "</pre>\n"
      ],
      "text/plain": [
       "          \u001b[3m                                 Strategy Selection Table op2                                 \u001b[0m           \n",
       "          ┏━━━━━━━━┳━━━━━━━━━━━━━━━━━━━━┳━━━━━━━━━━━━━━━━━━━━┳━━━━━━━━━━━━━━━━━━━━┳━━━━━━━━━━━━━━━━━━━━┓           \n",
       "          ┃\u001b[1m \u001b[0m\u001b[1m      \u001b[0m\u001b[1m \u001b[0m┃\u001b[1m \u001b[0m\u001b[1mop2_strict_strict \u001b[0m\u001b[1m \u001b[0m┃\u001b[1m \u001b[0m\u001b[1m op2_strict_naive \u001b[0m\u001b[1m \u001b[0m┃\u001b[1m \u001b[0m\u001b[1m op2_naive_strict \u001b[0m\u001b[1m \u001b[0m┃\u001b[1m \u001b[0m\u001b[1m op2_naive_naive  \u001b[0m\u001b[1m \u001b[0m┃           \n",
       "          ┡━━━━━━━━╇━━━━━━━━━━━━━━━━━━━━╇━━━━━━━━━━━━━━━━━━━━╇━━━━━━━━━━━━━━━━━━━━╇━━━━━━━━━━━━━━━━━━━━┩           \n",
       "          │ result │ 0.7113036628593935 │ 0.7113036628593935 │ 0.7113036628593935 │ 0.7113036628593935 │           \n",
       "          └────────┴────────────────────┴────────────────────┴────────────────────┴────────────────────┘           \n"
      ]
     },
     "metadata": {},
     "output_type": "display_data"
    }
   ],
   "source": [
    "title = 'Strategy Selection Table op2'\n",
    "s_ind = e_ind\n",
    "e_ind = s_ind + unit\n",
    "get_table(title, col_lst[s_ind:e_ind], value_lst[s_ind:e_ind])"
   ]
  },
  {
   "cell_type": "markdown",
   "id": "1a1b3d1d",
   "metadata": {},
   "source": [
    "## op2 result - remove_damage_irrelevant\n",
    "    - All results have to be same since we are removing all damaging and irrelevants\n",
    "    - Removing increased number of damages passages shows better performance OVERALL\n",
    "        - that is because we are reducing the possibility of damaging passages\n",
    "    \n",
    "#### Conclusion \n",
    "    - 1. Removing increased number of damages passages shows better performance OVERALL\n",
    "        - that is because we are reducing the possibility of damaging passages\n",
    "    - 2. op1_strict_naive BETTER (Removing all damages_irrelevant < only damaging)\n",
    "         - However, this is partially because this one removes even the first context (positive context)\n",
    "    - 3. Removing irrelevant passages gives the better result because it removes passages that might be damaging"
   ]
  },
  {
   "cell_type": "code",
   "execution_count": 51,
   "id": "f2da0b5f",
   "metadata": {},
   "outputs": [
    {
     "data": {
      "text/html": [
       "<pre style=\"white-space:pre;overflow-x:auto;line-height:normal;font-family:Menlo,'DejaVu Sans Mono',consolas,'Courier New',monospace\">          <span style=\"font-style: italic\">                                 Strategy Selection Table op3                                 </span>           \n",
       "          ┏━━━━━━━━┳━━━━━━━━━━━━━━━━━━━━┳━━━━━━━━━━━━━━━━━━━━┳━━━━━━━━━━━━━━━━━━━━┳━━━━━━━━━━━━━━━━━━━━┓           \n",
       "          ┃<span style=\"font-weight: bold\">        </span>┃<span style=\"font-weight: bold\"> op3_strict_strict  </span>┃<span style=\"font-weight: bold\">  op3_strict_naive  </span>┃<span style=\"font-weight: bold\">  op3_naive_strict  </span>┃<span style=\"font-weight: bold\">  op3_naive_naive   </span>┃           \n",
       "          ┡━━━━━━━━╇━━━━━━━━━━━━━━━━━━━━╇━━━━━━━━━━━━━━━━━━━━╇━━━━━━━━━━━━━━━━━━━━╇━━━━━━━━━━━━━━━━━━━━┩           \n",
       "          │ result │ 0.6860968885387948 │ 0.7361165813312328 │ 0.6845214651437573 │ 0.7365104371799921 │           \n",
       "          └────────┴────────────────────┴────────────────────┴────────────────────┴────────────────────┘           \n",
       "</pre>\n"
      ],
      "text/plain": [
       "          \u001b[3m                                 Strategy Selection Table op3                                 \u001b[0m           \n",
       "          ┏━━━━━━━━┳━━━━━━━━━━━━━━━━━━━━┳━━━━━━━━━━━━━━━━━━━━┳━━━━━━━━━━━━━━━━━━━━┳━━━━━━━━━━━━━━━━━━━━┓           \n",
       "          ┃\u001b[1m \u001b[0m\u001b[1m      \u001b[0m\u001b[1m \u001b[0m┃\u001b[1m \u001b[0m\u001b[1mop3_strict_strict \u001b[0m\u001b[1m \u001b[0m┃\u001b[1m \u001b[0m\u001b[1m op3_strict_naive \u001b[0m\u001b[1m \u001b[0m┃\u001b[1m \u001b[0m\u001b[1m op3_naive_strict \u001b[0m\u001b[1m \u001b[0m┃\u001b[1m \u001b[0m\u001b[1m op3_naive_naive  \u001b[0m\u001b[1m \u001b[0m┃           \n",
       "          ┡━━━━━━━━╇━━━━━━━━━━━━━━━━━━━━╇━━━━━━━━━━━━━━━━━━━━╇━━━━━━━━━━━━━━━━━━━━╇━━━━━━━━━━━━━━━━━━━━┩           \n",
       "          │ result │ 0.6860968885387948 │ 0.7361165813312328 │ 0.6845214651437573 │ 0.7365104371799921 │           \n",
       "          └────────┴────────────────────┴────────────────────┴────────────────────┴────────────────────┘           \n"
      ]
     },
     "metadata": {},
     "output_type": "display_data"
    }
   ],
   "source": [
    "title = 'Strategy Selection Table op3'\n",
    "s_ind = e_ind\n",
    "e_ind = s_ind + unit\n",
    "get_table(title, col_lst[s_ind:e_ind], value_lst[s_ind:e_ind])"
   ]
  },
  {
   "cell_type": "markdown",
   "id": "2c7921f8",
   "metadata": {},
   "source": [
    "## op3 result - remove_damage_relevant\n",
    "    - op3 is done to check the performance drop when removing relevant\n",
    "    - dropping relevant passages \n",
    "    \n",
    "    - strict vs naive on damaging (2nd position)\n",
    "        - Removing increased number of damages passages shows better performance\n",
    "        - op3_strict_strict vs op3_strict_naive\n",
    "        - op3_naive_strict vs op3_naive_naive\n",
    "    \n",
    "    - strict vs naive on positive (1st position)\n",
    "        - Once it has the positive passages, adding more relevant passage won't matter\n",
    "            - neglible difference\n",
    "        \n",
    "#### Conclusion \n",
    "     - 1. Removing all damages and irrelevant shows lower performance than just removing damaging\n",
    "         - However, this is partially because this one removes even the first context (positive context)\n",
    "     - 2. Removing irrelevant passages gives the better result because it removes passages that might be damaging"
   ]
  },
  {
   "cell_type": "code",
   "execution_count": 52,
   "id": "564317fd",
   "metadata": {},
   "outputs": [
    {
     "data": {
      "text/html": [
       "<pre style=\"white-space:pre;overflow-x:auto;line-height:normal;font-family:Menlo,'DejaVu Sans Mono',consolas,'Courier New',monospace\">           <span style=\"font-style: italic\">                                Strategy Selection Table op4                                </span>            \n",
       "           ┏━━━━━━━━┳━━━━━━━━━━━━━━━━━━━┳━━━━━━━━━━━━━━━━━━━┳━━━━━━━━━━━━━━━━━━━━┳━━━━━━━━━━━━━━━━━━━━┓            \n",
       "           ┃<span style=\"font-weight: bold\">        </span>┃<span style=\"font-weight: bold\"> op4_strict_strict </span>┃<span style=\"font-weight: bold\"> op4_strict_naive  </span>┃<span style=\"font-weight: bold\">  op4_naive_strict  </span>┃<span style=\"font-weight: bold\">  op4_naive_naive   </span>┃            \n",
       "           ┡━━━━━━━━╇━━━━━━━━━━━━━━━━━━━╇━━━━━━━━━━━━━━━━━━━╇━━━━━━━━━━━━━━━━━━━━╇━━━━━━━━━━━━━━━━━━━━┩            \n",
       "           │ result │ 0.709728239464356 │ 0.709728239464356 │ 0.7113036628593935 │ 0.7113036628593935 │            \n",
       "           └────────┴───────────────────┴───────────────────┴────────────────────┴────────────────────┘            \n",
       "</pre>\n"
      ],
      "text/plain": [
       "           \u001b[3m                                Strategy Selection Table op4                                \u001b[0m            \n",
       "           ┏━━━━━━━━┳━━━━━━━━━━━━━━━━━━━┳━━━━━━━━━━━━━━━━━━━┳━━━━━━━━━━━━━━━━━━━━┳━━━━━━━━━━━━━━━━━━━━┓            \n",
       "           ┃\u001b[1m \u001b[0m\u001b[1m      \u001b[0m\u001b[1m \u001b[0m┃\u001b[1m \u001b[0m\u001b[1mop4_strict_strict\u001b[0m\u001b[1m \u001b[0m┃\u001b[1m \u001b[0m\u001b[1mop4_strict_naive \u001b[0m\u001b[1m \u001b[0m┃\u001b[1m \u001b[0m\u001b[1m op4_naive_strict \u001b[0m\u001b[1m \u001b[0m┃\u001b[1m \u001b[0m\u001b[1m op4_naive_naive  \u001b[0m\u001b[1m \u001b[0m┃            \n",
       "           ┡━━━━━━━━╇━━━━━━━━━━━━━━━━━━━╇━━━━━━━━━━━━━━━━━━━╇━━━━━━━━━━━━━━━━━━━━╇━━━━━━━━━━━━━━━━━━━━┩            \n",
       "           │ result │ 0.709728239464356 │ 0.709728239464356 │ 0.7113036628593935 │ 0.7113036628593935 │            \n",
       "           └────────┴───────────────────┴───────────────────┴────────────────────┴────────────────────┘            \n"
      ]
     },
     "metadata": {},
     "output_type": "display_data"
    }
   ],
   "source": [
    "title = 'Strategy Selection Table op4'\n",
    "s_ind = e_ind\n",
    "e_ind = s_ind + unit\n",
    "get_table(title, col_lst[s_ind:e_ind], value_lst[s_ind:e_ind])"
   ]
  },
  {
   "cell_type": "markdown",
   "id": "69606c72",
   "metadata": {},
   "source": [
    "## op4 result - remove_damage_irrelevant_relevant \n",
    "    - since we are dropping damage+irrelevant \n",
    "        op4_strict_strict = op4_strict_naive\n",
    "        op4_naive_strict = op4_naive_naive\n",
    "    \n",
    "    \n",
    "    - strict vs naive on positive (1st position)\n",
    "        - Adding extra positive shows better \n",
    "            - However, neglible difference\n",
    "        \n",
    "#### Conclusion \n",
    "     - 1. Limiting the number of positive passage show lower performance but better result "
   ]
  },
  {
   "cell_type": "markdown",
   "id": "1b235b65",
   "metadata": {},
   "source": [
    "# Conclusion\n",
    "    - Dropping damages + irrelevant reduces the possibility of damaging effect\n",
    "    - Once we have positive passages, adding extra does not show substantial difference\n",
    "    - However, keeping them shows better result overall\n",
    "        - For performance, keep them\n",
    "        - For resource, discard them"
   ]
  },
  {
   "cell_type": "code",
   "execution_count": null,
   "id": "63807bed",
   "metadata": {},
   "outputs": [],
   "source": []
  }
 ],
 "metadata": {
  "kernelspec": {
   "display_name": "relevance-kilt",
   "language": "python",
   "name": "relevance-kilt"
  },
  "language_info": {
   "codemirror_mode": {
    "name": "ipython",
    "version": 3
   },
   "file_extension": ".py",
   "mimetype": "text/x-python",
   "name": "python",
   "nbconvert_exporter": "python",
   "pygments_lexer": "ipython3",
   "version": "3.8.13"
  }
 },
 "nbformat": 4,
 "nbformat_minor": 5
}
