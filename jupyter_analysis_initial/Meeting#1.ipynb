{
 "cells": [
  {
   "cell_type": "markdown",
   "id": "7a1ca714",
   "metadata": {},
   "source": [
    "# Meeting 1 \n",
    "- Definitions about base, damaging, and irrevlant passages\n",
    "- Define RQ(Research Question)"
   ]
  },
  {
   "cell_type": "markdown",
   "id": "c87f7d42",
   "metadata": {},
   "source": [
    "# Definitions"
   ]
  },
  {
   "cell_type": "markdown",
   "id": "5e9b9889",
   "metadata": {},
   "source": [
    "### Base model\n",
    "$$ \\hat{y} = f(e^{+}, q) \\text{ , } e^{+} \\in E^{+} \\text{ where } E^{+} \\text{ is a set of anotated passages (gold passages)}$$"
   ]
  },
  {
   "cell_type": "markdown",
   "id": "c9141afe",
   "metadata": {},
   "source": [
    "### Definition of damaging passage\n",
    "- A evidence passage $e^{-}$ that satisfies below equation\n",
    "$$ f(\\{e^{+}\\}, q) \\neq f(\\{e^{+}, e^{-}\\}, q) $$\n",
    "$$ e^{+} \\in E^{+} \\text{, } e^{-} \\in E^{-} \\text{ where } E^{-} \\subset E \\setminus  E^{+}$$"
   ]
  },
  {
   "cell_type": "markdown",
   "id": "df8ac336",
   "metadata": {},
   "source": [
    "### Definition of irrelevant(or neutral) passage\n",
    "- A evidence passage $e^{0}$ that satisfies below equation\n",
    "$$ f(\\{e^{+}\\}, q) = f(\\{e^{+}, e^{0}\\}, q) $$\n",
    "$$ e^{+} \\in E^{+} \\text{, } e^{0} \\in E^{0} \\text{ where } E^{0} \\subset E \\setminus  E^{+}$$"
   ]
  },
  {
   "cell_type": "markdown",
   "id": "48d706ae",
   "metadata": {},
   "source": [
    "# Research Quetions"
   ]
  },
  {
   "cell_type": "markdown",
   "id": "6df67635",
   "metadata": {},
   "source": [
    "# RQ1 : Irrelevance(Neutral) = Damaging?\n",
    "- Showing how irrelevant information degrades the output \n",
    "    - Check supurious information or cues affects the output (hallucinations)\n",
    "- $ q_{i} \\in Q \\text{ query set} $\n",
    "- $ Let \\text{ } D_{i} \\overset{\\underset{\\mathrm{def}}{}}{=} DPR(E,q_{i}) $\n",
    "- $ Let \\text{ Irrelevant(Neutral) evidence set } I_{i} \\overset{\\underset{\\mathrm{def}}{}}{=} E \\setminus D_{i} $\n",
    "- Let $e_{j}^{?} \\in I_{i}$\n",
    "\n",
    "$$ f(q_{i}, \\{ e_{i}^{+} \\} \\cup \\{e_{j}^{?}\\}) = f(q_{i}, \\{ e_{i}^{+} \\})$$\n"
   ]
  },
  {
   "cell_type": "markdown",
   "id": "34cc5040",
   "metadata": {},
   "source": [
    "# RQ2 : Saturation \n",
    "- Showing saturation point \n",
    "    - How many neutral passages are needed to generate wrong output?\n",
    "- $ S_{i} \\subset I_{i}$\n",
    "    - We can also $ Let \\text{ Irrelevant(Neutral) evidence set } I_{i} \\overset{\\underset{\\mathrm{def}}{}}{=} DPR \\setminus \\{ e_{i}^{+} \\} $\n",
    "- Increasing $ |S_{i}| $, degrades the output \n",
    "- Position of $ e_{i}^{+} \\text{ with } S_{i} = \\{e_{1}^{?}, e_{2}^{?}, e_{3}^{?}, e_{4}^{?}, e_{5}^{?} \\}$\n",
    "$$[{\\color{red}{e_{i}^{+}}}, e_{1}^{?}, e_{2}^{?}, e_{3}^{?}, e_{4}^{?}, e_{5}^{?} ]$$\n",
    "$$[e_{1}^{?}, {\\color{red}{e_{i}^{+}}}, e_{2}^{?}, e_{3}^{?}, e_{4}^{?}, e_{5}^{?} ]$$\n",
    "$$[e_{1}^{?}, e_{2}^{?}, {\\color{red}{e_{i}^{+}}}, e_{3}^{?}, e_{4}^{?}, e_{5}^{?} ]$$\n",
    "$$[e_{1}^{?}, e_{2}^{?}, e_{3}^{?}, {\\color{red}{e_{i}^{+}}}, e_{4}^{?}, e_{5}^{?} ]$$\n",
    "$$[e_{1}^{?}, e_{2}^{?}, e_{3}^{?}, e_{4}^{?}, {\\color{red}{e_{i}^{+}}}, e_{5}^{?} ]$$\n",
    "$$[e_{1}^{?}, e_{2}^{?}, e_{3}^{?}, e_{4}^{?}, e_{5}^{?}, {\\color{red}{e_{i}^{+}}} ]$$\n",
    "\n",
    "$$ f(q_{i}, \\{ e_{i}^{+} \\} \\cup S_{i}\\}) \\neq f(q_{i}, \\{ e_{i}^{+} \\})$$\n"
   ]
  },
  {
   "cell_type": "markdown",
   "id": "92982fc6",
   "metadata": {},
   "source": [
    "![Saturataion_plot](./img/saturation_plot.png?raw=true)"
   ]
  },
  {
   "cell_type": "markdown",
   "id": "889bc046",
   "metadata": {},
   "source": [
    "# RQ3 : Classification"
   ]
  },
  {
   "cell_type": "markdown",
   "id": "02de1a08",
   "metadata": {},
   "source": [
    "- RQ2 gave us info \n",
    "\n",
    "| OUTPUT | $$e_{i}^{+}$$ | $$S_{i}$$ |\n",
    "|--------|---------|--------|\n",
    "|0    |$$e_{1}^{+}$$       |$$S_{1}$$ |\n",
    "|0    |$$e_{2}^{+}$$      |$$S_{2}$$ |\n",
    "|1    |$$e_{3}^{+}$$       |$$S_{3}$$ |\n",
    "|1    |$$e_{4}^{+}$$     |$$S_{4}$$ |\n"
   ]
  },
  {
   "cell_type": "markdown",
   "id": "797738c6",
   "metadata": {},
   "source": [
    "- which can be used for training"
   ]
  }
 ],
 "metadata": {
  "kernelspec": {
   "display_name": "py38_transformers",
   "language": "python",
   "name": "py38"
  },
  "language_info": {
   "codemirror_mode": {
    "name": "ipython",
    "version": 3
   },
   "file_extension": ".py",
   "mimetype": "text/x-python",
   "name": "python",
   "nbconvert_exporter": "python",
   "pygments_lexer": "ipython3",
   "version": "3.8.12"
  }
 },
 "nbformat": 4,
 "nbformat_minor": 5
}
