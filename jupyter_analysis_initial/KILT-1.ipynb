{
 "cells": [
  {
   "cell_type": "markdown",
   "id": "2c498c0e",
   "metadata": {},
   "source": [
    "# Natural Questions\n",
    "    Train/Dev/Test\n",
    "    - /data/yorih-deardr/data/kilt/nq-train-kilt.jsonl\n",
    "    - /data/yorih-deardr/data/kilt/nq-dev-kilt.jsonl\n",
    "    - /data/yorih-deardr/data/kilt/nq-test_without_answers-kilt.jsonl"
   ]
  },
  {
   "cell_type": "code",
   "execution_count": 1,
   "id": "b79a47e2",
   "metadata": {},
   "outputs": [],
   "source": [
    "# !pip install jsonlines"
   ]
  },
  {
   "cell_type": "code",
   "execution_count": 2,
   "id": "b13e47fd",
   "metadata": {},
   "outputs": [],
   "source": [
    "nq_train_jsonl = '/data/yorih-deardr/data/kilt/nq-train-kilt.jsonl'\n",
    "nq_dev_jsonl = '/data/yorih-deardr/data/kilt/nq-dev-kilt.jsonl'\n",
    "nq_test_jsonl = '/data/yorih-deardr/data/kilt/nq-test_without_answers-kilt.jsonl'"
   ]
  },
  {
   "cell_type": "code",
   "execution_count": 3,
   "id": "cd1392ea",
   "metadata": {},
   "outputs": [],
   "source": [
    "import jsonlines\n",
    "from pprint import pprint"
   ]
  },
  {
   "cell_type": "code",
   "execution_count": 4,
   "id": "357ef4b8",
   "metadata": {},
   "outputs": [],
   "source": [
    "def open_jsonl(file):\n",
    "    json_lst = []\n",
    "    with jsonlines.open(file , 'r') as f: \n",
    "        for line in f:\n",
    "            json_lst.append(line)\n",
    "    return json_lst\n",
    "        \n",
    "def open_jsonl_generator(file):\n",
    "    with jsonlines.open(file , 'r') as f: \n",
    "        for line in f:\n",
    "            yield line"
   ]
  },
  {
   "cell_type": "code",
   "execution_count": 5,
   "id": "f5dffa7f",
   "metadata": {},
   "outputs": [],
   "source": [
    "# test_line = open_jsonl(nq_dev_jsonl)\n",
    "# test_line[0]"
   ]
  },
  {
   "cell_type": "code",
   "execution_count": 5,
   "id": "f16988b5",
   "metadata": {},
   "outputs": [],
   "source": [
    "# next(test_line)"
   ]
  },
  {
   "cell_type": "code",
   "execution_count": 12,
   "id": "131930ca",
   "metadata": {},
   "outputs": [],
   "source": [
    "nq_dev = open_jsonl_generator(nq_dev_jsonl)"
   ]
  },
  {
   "cell_type": "code",
   "execution_count": 13,
   "id": "a9357542",
   "metadata": {},
   "outputs": [
    {
     "name": "stdout",
     "output_type": "stream",
     "text": [
      "{'id': '6915606477668963399',\n",
      " 'input': 'what do the 3 dots mean in math',\n",
      " 'output': [{'answer': 'the therefore sign',\n",
      "             'provenance': [{'bleu_score': 1.0,\n",
      "                             'end_character': 62,\n",
      "                             'end_paragraph_id': 1,\n",
      "                             'section': 'Section::::Abstract.',\n",
      "                             'start_character': 44,\n",
      "                             'start_paragraph_id': 1,\n",
      "                             'title': 'Therefore sign',\n",
      "                             'wikipedia_id': '10593264'}]},\n",
      "            {'answer': 'therefore sign',\n",
      "             'provenance': [{'bleu_score': 1.0,\n",
      "                             'end_character': 62,\n",
      "                             'end_paragraph_id': 1,\n",
      "                             'section': 'Section::::Abstract.',\n",
      "                             'start_character': 48,\n",
      "                             'start_paragraph_id': 1,\n",
      "                             'title': 'Therefore sign',\n",
      "                             'wikipedia_id': '10593264'}]},\n",
      "            {'answer': 'a logical consequence , such as the conclusion of a '\n",
      "                       'syllogism'},\n",
      "            {'answer': 'the therefore sign ( ∴ ) is generally used before a '\n",
      "                       'logical consequence , such as the conclusion of a '\n",
      "                       'syllogism'},\n",
      "            {'provenance': [{'bleu_score': 0.6816476074249925,\n",
      "                             'end_character': 375,\n",
      "                             'end_paragraph_id': 1,\n",
      "                             'meta': {'annotation_id': 13591449469826568799,\n",
      "                                      'yes_no_answer': 'NONE'},\n",
      "                             'section': 'Section::::Abstract.',\n",
      "                             'start_character': 0,\n",
      "                             'start_paragraph_id': 1,\n",
      "                             'title': 'Therefore sign',\n",
      "                             'wikipedia_id': '10593264'}]},\n",
      "            {'provenance': [{'end_paragraph_id': 1,\n",
      "                             'meta': {'evidence_span': ['The symbol consists '\n",
      "                                                        'of three dots placed '\n",
      "                                                        'in an upright '\n",
      "                                                        'triangle and is read '\n",
      "                                                        '\"therefore\".',\n",
      "                                                        'The symbol consists '\n",
      "                                                        'of three dots placed '\n",
      "                                                        'in an upright '\n",
      "                                                        'triangle and is read '\n",
      "                                                        '\"therefore\".',\n",
      "                                                        'The symbol consists '\n",
      "                                                        'of three dots placed '\n",
      "                                                        'in an upright '\n",
      "                                                        'triangle and is read '\n",
      "                                                        '\"therefore\".',\n",
      "                                                        'In logical argument '\n",
      "                                                        'and mathematical '\n",
      "                                                        'proof, the therefore '\n",
      "                                                        'sign () is generally '\n",
      "                                                        'used before a logical '\n",
      "                                                        'consequence, such as '\n",
      "                                                        'the conclusion of a '\n",
      "                                                        'syllogism. The symbol '\n",
      "                                                        'consists of three '\n",
      "                                                        'dots placed in an '\n",
      "                                                        'upright triangle and '\n",
      "                                                        'is read \"therefore\". '\n",
      "                                                        'It is encoded at .']},\n",
      "                             'section': 'Section::::Abstract.',\n",
      "                             'start_paragraph_id': 1,\n",
      "                             'title': 'Therefore sign',\n",
      "                             'wikipedia_id': '10593264'}]}]}\n"
     ]
    }
   ],
   "source": [
    "pprint(next(iter(nq_dev)))"
   ]
  },
  {
   "cell_type": "code",
   "execution_count": 57,
   "id": "3f7919ad",
   "metadata": {
    "scrolled": false
   },
   "outputs": [
    {
     "name": "stdout",
     "output_type": "stream",
     "text": [
      "{'id': '-8366545547296627039',\n",
      " 'input': 'who wrote the song photograph by ringo starr',\n",
      " 'output': [{'answer': 'Ringo Starr',\n",
      "             'provenance': [{'bleu_score': 1.0,\n",
      "                             'end_character': 23,\n",
      "                             'end_paragraph_id': 0,\n",
      "                             'section': 'Section::::Abstract.',\n",
      "                             'start_character': 12,\n",
      "                             'start_paragraph_id': 0,\n",
      "                             'title': 'Photograph (Ringo Starr song)',\n",
      "                             'wikipedia_id': '2448355'}]},\n",
      "            {'answer': 'George Harrison',\n",
      "             'provenance': [{'bleu_score': 1.0,\n",
      "                             'end_character': 165,\n",
      "                             'end_paragraph_id': 1,\n",
      "                             'section': 'Section::::Abstract.',\n",
      "                             'start_character': 150,\n",
      "                             'start_paragraph_id': 1,\n",
      "                             'title': 'Photograph (Ringo Starr song)',\n",
      "                             'wikipedia_id': '2448355'}]},\n",
      "            {'answer': 'Richard Starkey'},\n",
      "            {'provenance': [{'bleu_score': 0.9400346272745647,\n",
      "                             'end_character': 714,\n",
      "                             'end_paragraph_id': 1,\n",
      "                             'meta': {'annotation_id': 647276088892962831,\n",
      "                                      'yes_no_answer': 'NONE'},\n",
      "                             'section': 'Section::::Abstract.',\n",
      "                             'start_character': 0,\n",
      "                             'start_paragraph_id': 1,\n",
      "                             'title': 'Photograph (Ringo Starr song)',\n",
      "                             'wikipedia_id': '2448355'}]},\n",
      "            {'provenance': [{'end_paragraph_id': 6,\n",
      "                             'meta': {'evidence_span': [\"As with Starr's two \"\n",
      "                                                        'singles over 197172, '\n",
      "                                                        '\"It Don\\'t Come Easy\" '\n",
      "                                                        'and \"Back Off '\n",
      "                                                        'Boogaloo\", Harrison '\n",
      "                                                        'helped write the '\n",
      "                                                        'melody, although '\n",
      "                                                        '\"Photograph\" marked '\n",
      "                                                        'the first time that '\n",
      "                                                        'he was credited as a '\n",
      "                                                        'co-writer with Starr.',\n",
      "                                                        'Harrison helped write '\n",
      "                                                        'the melody, although '\n",
      "                                                        '\"Photograph\" marked '\n",
      "                                                        'the first time that '\n",
      "                                                        'he was credited as a '\n",
      "                                                        'co-writer with Starr.',\n",
      "                                                        'Another guest on the '\n",
      "                                                        '\"Marala\" was Cilla '\n",
      "                                                        'Black, singer and a '\n",
      "                                                        'friend to the Beatles '\n",
      "                                                        'since the 1960s, who '\n",
      "                                                        'recalls Starr and '\n",
      "                                                        'Harrison playing '\n",
      "                                                        '\"Photograph\" during '\n",
      "                                                        'an evening '\n",
      "                                                        'get-together, with '\n",
      "                                                        '\"everyone on board\" '\n",
      "                                                        'contributing ideas '\n",
      "                                                        'for the lyrics. As '\n",
      "                                                        \"with Starr's two \"\n",
      "                                                        'singles over 197172, '\n",
      "                                                        '\"It Don\\'t Come Easy\" '\n",
      "                                                        'and \"Back Off '\n",
      "                                                        'Boogaloo\", Harrison '\n",
      "                                                        'helped write the '\n",
      "                                                        'melody, although '\n",
      "                                                        '\"Photograph\" marked '\n",
      "                                                        'the first time that '\n",
      "                                                        'he was credited as a '\n",
      "                                                        'co-writer with '\n",
      "                                                        'Starr.']},\n",
      "                             'section': 'Section::::Background and '\n",
      "                                        'composition.\\n',\n",
      "                             'start_paragraph_id': 6,\n",
      "                             'title': 'Photograph (Ringo Starr song)',\n",
      "                             'wikipedia_id': '2448355'}]},\n",
      "            {'provenance': [{'end_paragraph_id': 1,\n",
      "                             'meta': {'evidence_span': ['\"Photograph\" is a '\n",
      "                                                        'song by English '\n",
      "                                                        'musician Ringo Starr '\n",
      "                                                        'that was released as '\n",
      "                                                        'the lead single from '\n",
      "                                                        'his 1973 album '\n",
      "                                                        '\"Ringo\"',\n",
      "                                                        '\"Photograph\" is a '\n",
      "                                                        'song by English '\n",
      "                                                        'musician Ringo Starr '\n",
      "                                                        'that was released as '\n",
      "                                                        'the lead single from '\n",
      "                                                        'his 1973 album '\n",
      "                                                        '\"Ringo\". Starr '\n",
      "                                                        'co-wrote the song '\n",
      "                                                        'with George Harrison,',\n",
      "                                                        '\"Photograph\" is a '\n",
      "                                                        'song by English '\n",
      "                                                        'musician Ringo Starr '\n",
      "                                                        'that was released as '\n",
      "                                                        'the lead single from '\n",
      "                                                        'his 1973 album '\n",
      "                                                        '\"Ringo\". Starr '\n",
      "                                                        'co-wrote the song '\n",
      "                                                        'with George Harrison, '\n",
      "                                                        'his former bandmate '\n",
      "                                                        'from the Beatles.',\n",
      "                                                        '\"Photograph\" is a '\n",
      "                                                        'song by English '\n",
      "                                                        'musician Ringo Starr '\n",
      "                                                        'that was released as '\n",
      "                                                        'the lead single from '\n",
      "                                                        'his 1973 album '\n",
      "                                                        '\"Ringo\". Starr '\n",
      "                                                        'co-wrote the song '\n",
      "                                                        'with George '\n",
      "                                                        'Harrison']},\n",
      "                             'section': 'Section::::Abstract.',\n",
      "                             'start_paragraph_id': 1,\n",
      "                             'title': 'Photograph (Ringo Starr song)',\n",
      "                             'wikipedia_id': '2448355'}]}]}\n"
     ]
    }
   ],
   "source": [
    "pprint(nq_dev[1])"
   ]
  },
  {
   "cell_type": "code",
   "execution_count": 40,
   "id": "a743c77d",
   "metadata": {},
   "outputs": [
    {
     "data": {
      "text/plain": [
       "dict_keys(['id', 'input', 'output'])"
      ]
     },
     "execution_count": 40,
     "metadata": {},
     "output_type": "execute_result"
    }
   ],
   "source": [
    "nq_dev[0].keys()"
   ]
  },
  {
   "cell_type": "code",
   "execution_count": 41,
   "id": "d2c98019",
   "metadata": {},
   "outputs": [
    {
     "data": {
      "text/plain": [
       "'6915606477668963399'"
      ]
     },
     "execution_count": 41,
     "metadata": {},
     "output_type": "execute_result"
    }
   ],
   "source": [
    "nq_dev[0]['id']"
   ]
  },
  {
   "cell_type": "code",
   "execution_count": 42,
   "id": "3e0d5851",
   "metadata": {},
   "outputs": [
    {
     "data": {
      "text/plain": [
       "'what do the 3 dots mean in math'"
      ]
     },
     "execution_count": 42,
     "metadata": {},
     "output_type": "execute_result"
    }
   ],
   "source": [
    "nq_dev[0]['input']"
   ]
  },
  {
   "cell_type": "code",
   "execution_count": 44,
   "id": "17cac9a1",
   "metadata": {},
   "outputs": [
    {
     "name": "stdout",
     "output_type": "stream",
     "text": [
      "[{'answer': 'the therefore sign',\n",
      "  'provenance': [{'bleu_score': 1.0,\n",
      "                  'end_character': 62,\n",
      "                  'end_paragraph_id': 1,\n",
      "                  'section': 'Section::::Abstract.',\n",
      "                  'start_character': 44,\n",
      "                  'start_paragraph_id': 1,\n",
      "                  'title': 'Therefore sign',\n",
      "                  'wikipedia_id': '10593264'}]},\n",
      " {'answer': 'therefore sign',\n",
      "  'provenance': [{'bleu_score': 1.0,\n",
      "                  'end_character': 62,\n",
      "                  'end_paragraph_id': 1,\n",
      "                  'section': 'Section::::Abstract.',\n",
      "                  'start_character': 48,\n",
      "                  'start_paragraph_id': 1,\n",
      "                  'title': 'Therefore sign',\n",
      "                  'wikipedia_id': '10593264'}]},\n",
      " {'answer': 'a logical consequence , such as the conclusion of a syllogism'},\n",
      " {'answer': 'the therefore sign ( ∴ ) is generally used before a logical '\n",
      "            'consequence , such as the conclusion of a syllogism'},\n",
      " {'provenance': [{'bleu_score': 0.6816476074249925,\n",
      "                  'end_character': 375,\n",
      "                  'end_paragraph_id': 1,\n",
      "                  'meta': {'annotation_id': 13591449469826568799,\n",
      "                           'yes_no_answer': 'NONE'},\n",
      "                  'section': 'Section::::Abstract.',\n",
      "                  'start_character': 0,\n",
      "                  'start_paragraph_id': 1,\n",
      "                  'title': 'Therefore sign',\n",
      "                  'wikipedia_id': '10593264'}]},\n",
      " {'provenance': [{'end_paragraph_id': 1,\n",
      "                  'meta': {'evidence_span': ['The symbol consists of three '\n",
      "                                             'dots placed in an upright '\n",
      "                                             'triangle and is read '\n",
      "                                             '\"therefore\".',\n",
      "                                             'The symbol consists of three '\n",
      "                                             'dots placed in an upright '\n",
      "                                             'triangle and is read '\n",
      "                                             '\"therefore\".',\n",
      "                                             'The symbol consists of three '\n",
      "                                             'dots placed in an upright '\n",
      "                                             'triangle and is read '\n",
      "                                             '\"therefore\".',\n",
      "                                             'In logical argument and '\n",
      "                                             'mathematical proof, the '\n",
      "                                             'therefore sign () is generally '\n",
      "                                             'used before a logical '\n",
      "                                             'consequence, such as the '\n",
      "                                             'conclusion of a syllogism. The '\n",
      "                                             'symbol consists of three dots '\n",
      "                                             'placed in an upright triangle '\n",
      "                                             'and is read \"therefore\". It is '\n",
      "                                             'encoded at .']},\n",
      "                  'section': 'Section::::Abstract.',\n",
      "                  'start_paragraph_id': 1,\n",
      "                  'title': 'Therefore sign',\n",
      "                  'wikipedia_id': '10593264'}]}]\n"
     ]
    }
   ],
   "source": [
    "pprint(nq_dev[0]['output'])"
   ]
  },
  {
   "cell_type": "code",
   "execution_count": 51,
   "id": "22c4ab74",
   "metadata": {},
   "outputs": [
    {
     "data": {
      "text/plain": [
       "6"
      ]
     },
     "execution_count": 51,
     "metadata": {},
     "output_type": "execute_result"
    }
   ],
   "source": [
    "len(nq_dev[0]['output'])"
   ]
  },
  {
   "cell_type": "code",
   "execution_count": 56,
   "id": "8a10a2c1",
   "metadata": {},
   "outputs": [
    {
     "name": "stdout",
     "output_type": "stream",
     "text": [
      "1 output\n",
      "{'answer': 'the therefore sign',\n",
      " 'provenance': [{'bleu_score': 1.0,\n",
      "                 'end_character': 62,\n",
      "                 'end_paragraph_id': 1,\n",
      "                 'section': 'Section::::Abstract.',\n",
      "                 'start_character': 44,\n",
      "                 'start_paragraph_id': 1,\n",
      "                 'title': 'Therefore sign',\n",
      "                 'wikipedia_id': '10593264'}]}\n",
      "------------------\n",
      "2 output\n",
      "{'answer': 'therefore sign',\n",
      " 'provenance': [{'bleu_score': 1.0,\n",
      "                 'end_character': 62,\n",
      "                 'end_paragraph_id': 1,\n",
      "                 'section': 'Section::::Abstract.',\n",
      "                 'start_character': 48,\n",
      "                 'start_paragraph_id': 1,\n",
      "                 'title': 'Therefore sign',\n",
      "                 'wikipedia_id': '10593264'}]}\n",
      "------------------\n",
      "3 output\n",
      "{'answer': 'a logical consequence , such as the conclusion of a syllogism'}\n",
      "------------------\n",
      "4 output\n",
      "{'answer': 'the therefore sign ( ∴ ) is generally used before a logical '\n",
      "           'consequence , such as the conclusion of a syllogism'}\n",
      "------------------\n",
      "5 output\n",
      "{'provenance': [{'bleu_score': 0.6816476074249925,\n",
      "                 'end_character': 375,\n",
      "                 'end_paragraph_id': 1,\n",
      "                 'meta': {'annotation_id': 13591449469826568799,\n",
      "                          'yes_no_answer': 'NONE'},\n",
      "                 'section': 'Section::::Abstract.',\n",
      "                 'start_character': 0,\n",
      "                 'start_paragraph_id': 1,\n",
      "                 'title': 'Therefore sign',\n",
      "                 'wikipedia_id': '10593264'}]}\n",
      "------------------\n",
      "6 output\n",
      "{'provenance': [{'end_paragraph_id': 1,\n",
      "                 'meta': {'evidence_span': ['The symbol consists of three dots '\n",
      "                                            'placed in an upright triangle and '\n",
      "                                            'is read \"therefore\".',\n",
      "                                            'The symbol consists of three dots '\n",
      "                                            'placed in an upright triangle and '\n",
      "                                            'is read \"therefore\".',\n",
      "                                            'The symbol consists of three dots '\n",
      "                                            'placed in an upright triangle and '\n",
      "                                            'is read \"therefore\".',\n",
      "                                            'In logical argument and '\n",
      "                                            'mathematical proof, the therefore '\n",
      "                                            'sign () is generally used before '\n",
      "                                            'a logical consequence, such as '\n",
      "                                            'the conclusion of a syllogism. '\n",
      "                                            'The symbol consists of three dots '\n",
      "                                            'placed in an upright triangle and '\n",
      "                                            'is read \"therefore\". It is '\n",
      "                                            'encoded at .']},\n",
      "                 'section': 'Section::::Abstract.',\n",
      "                 'start_paragraph_id': 1,\n",
      "                 'title': 'Therefore sign',\n",
      "                 'wikipedia_id': '10593264'}]}\n",
      "------------------\n"
     ]
    }
   ],
   "source": [
    "for index, output in enumerate(nq_dev[0]['output']):\n",
    "    print(f'{index+1} output')\n",
    "    pprint(output)\n",
    "    print('------------------')\n",
    "    \n",
    "# pprint(nq_dev[0]['output'][0])"
   ]
  },
  {
   "cell_type": "markdown",
   "id": "eecbefdd",
   "metadata": {},
   "source": [
    "# Trivia Questions\n",
    "    Train/Dev/Test\n",
    "    - /data/yorih-deardr/data/kilt/triviaqa-train-kilt.jsonl\n",
    "    - /data/yorih-deardr/data/kilt/triviaqa-dev-kilt.jsonl\n",
    "    - /data/yorih-deardr/data/kilt/triviaqa-test_without_answers-kilt.jsonl"
   ]
  },
  {
   "cell_type": "code",
   "execution_count": 69,
   "id": "2c05e430",
   "metadata": {},
   "outputs": [],
   "source": [
    "trivia_train_jsonl = '/data/yorih-deardr/data/kilt/triviaqa-train-kilt.jsonl'\n",
    "trivia_dev_jsonl = '/data/yorih-deardr/data/kilt/triviaqa-dev-kilt.jsonl'\n",
    "trivia_test_jsonl = '/data/yorih-deardr/data/kilt/triviaqa-test_without_answers-kilt.jsonl'"
   ]
  },
  {
   "cell_type": "code",
   "execution_count": 70,
   "id": "3946d3b5",
   "metadata": {},
   "outputs": [],
   "source": [
    "nq_dev = open_jsonl(trivia_dev_jsonl)"
   ]
  },
  {
   "cell_type": "code",
   "execution_count": 71,
   "id": "26247d76",
   "metadata": {},
   "outputs": [
    {
     "data": {
      "text/plain": [
       "5359"
      ]
     },
     "execution_count": 71,
     "metadata": {},
     "output_type": "execute_result"
    }
   ],
   "source": [
    "len(nq_dev)"
   ]
  },
  {
   "cell_type": "code",
   "execution_count": 76,
   "id": "bcdd0fd1",
   "metadata": {
    "scrolled": false
   },
   "outputs": [
    {
     "name": "stdout",
     "output_type": "stream",
     "text": [
      "{'id': 'sfq_17762',\n",
      " 'input': 'In which country was the actor Sid James born?',\n",
      " 'output': [{'answer': 'South African',\n",
      "             'provenance': [{'bleu_score': 1.0,\n",
      "                             'end_character': 480,\n",
      "                             'end_paragraph_id': 7,\n",
      "                             'section': 'Section::::Early life.\\n',\n",
      "                             'start_character': 467,\n",
      "                             'start_paragraph_id': 7,\n",
      "                             'title': 'Sid James',\n",
      "                             'wikipedia_id': '28360'}]},\n",
      "            {'answer': 'South Africa',\n",
      "             'provenance': [{'bleu_score': 1.0,\n",
      "                             'end_character': 167,\n",
      "                             'end_paragraph_id': 1,\n",
      "                             'section': 'Section::::Abstract.',\n",
      "                             'start_character': 155,\n",
      "                             'start_paragraph_id': 1,\n",
      "                             'title': 'Sid James',\n",
      "                             'wikipedia_id': '28360'}]},\n",
      "            {'answer': 'South Africans'},\n",
      "            {'answer': 'republiek van suid afrika'},\n",
      "            {'answer': 'south africaà'},\n",
      "            {'answer': 'The Republic of South Africa'},\n",
      "            {'answer': 'Zuid Africa'},\n",
      "            {'answer': 'Mzansi'},\n",
      "            {'answer': 'Republic of south africa'},\n",
      "            {'answer': 'ISO 3166-1:ZA'},\n",
      "            {'answer': 'iso 3166 1 za'},\n",
      "            {'answer': \"South Africa's\"},\n",
      "            {'answer': 'south african'},\n",
      "            {'answer': 'Suid-Afrika'},\n",
      "            {'answer': 'Suid Africa'},\n",
      "            {'answer': 'Republiek van Suid-Afrika'},\n",
      "            {'answer': 'suid afrika'},\n",
      "            {'answer': 'zuid afrika'},\n",
      "            {'answer': 'Ningizimu Afrika'},\n",
      "            {'answer': 'Capital of South Africa'},\n",
      "            {'answer': 'beloved country'},\n",
      "            {'answer': 'sou frica'},\n",
      "            {'answer': 'mzansi'},\n",
      "            {'answer': 's afr'},\n",
      "            {'answer': 'south africa'},\n",
      "            {'answer': 'Southafrica'},\n",
      "            {'answer': 'Third Republic (South Africa)'},\n",
      "            {'answer': 'S Africa'},\n",
      "            {'answer': 'Afrique du sud'},\n",
      "            {'answer': 'seth efrika'},\n",
      "            {'answer': 's africa'},\n",
      "            {'answer': 'south africa s'},\n",
      "            {'answer': 'southafrica'},\n",
      "            {'answer': 'ningizimu afrika'},\n",
      "            {'answer': 'Zuid-Afrika'},\n",
      "            {'answer': 'afrique du sud'},\n",
      "            {'answer': 'Republic of South Africa'},\n",
      "            {'answer': 'rep of south africa'},\n",
      "            {'answer': 'saffa'},\n",
      "            {'answer': 'South-Africa'},\n",
      "            {'answer': 'zuid africa'},\n",
      "            {'answer': 'azania south africa'},\n",
      "            {'answer': 'Saffa'},\n",
      "            {'answer': 'Seth efrika'},\n",
      "            {'answer': 'suid africa'},\n",
      "            {'answer': 'Rep. of South Africa'},\n",
      "            {'answer': 'South-African'},\n",
      "            {'answer': 'zuidafrika'},\n",
      "            {'answer': \"Sou'frica\"},\n",
      "            {'answer': 'S. Africa'},\n",
      "            {'answer': 'Zuidafrika'},\n",
      "            {'answer': 'Azania/South Africa'},\n",
      "            {'answer': 'South Africaà'},\n",
      "            {'answer': 'republic of south africa'},\n",
      "            {'answer': 'capital of south africa'},\n",
      "            {'answer': 'SOUTH AFRICA'},\n",
      "            {'answer': 'third republic south africa'},\n",
      "            {'answer': 'Soufrica'},\n",
      "            {'answer': 'S Afr'},\n",
      "            {'answer': 'South africa'},\n",
      "            {'answer': 'The Beloved Country'},\n",
      "            {'answer': 'soufrica'},\n",
      "            {'answer': 'Zuid Afrika'},\n",
      "            {'answer': 'Rep. of SOUTH AFRICA'},\n",
      "            {'answer': 'south africans'}]}\n"
     ]
    }
   ],
   "source": [
    "pprint(nq_dev[1])"
   ]
  },
  {
   "cell_type": "code",
   "execution_count": 77,
   "id": "420bf8a8",
   "metadata": {},
   "outputs": [
    {
     "name": "stdout",
     "output_type": "stream",
     "text": [
      "{'id': 'sfq_17764',\n",
      " 'input': \"If you landed at 'Santa Catarina Airport on which Island would you \"\n",
      "          'be in?',\n",
      " 'output': [{'answer': 'Autonomous Region of Madeira',\n",
      "             'provenance': [{'bleu_score': 1.0,\n",
      "                             'end_character': 427,\n",
      "                             'end_paragraph_id': 19,\n",
      "                             'section': 'Section::::Facilities.:Modernisation.\\n',\n",
      "                             'start_character': 399,\n",
      "                             'start_paragraph_id': 19,\n",
      "                             'title': 'Madeira Airport',\n",
      "                             'wikipedia_id': '5762092'}]},\n",
      "            {'answer': 'Madeira',\n",
      "             'provenance': [{'bleu_score': 1.0,\n",
      "                             'end_character': 7,\n",
      "                             'end_paragraph_id': 0,\n",
      "                             'section': 'Section::::Abstract.',\n",
      "                             'start_character': 0,\n",
      "                             'start_paragraph_id': 0,\n",
      "                             'title': 'Madeira Airport',\n",
      "                             'wikipedia_id': '5762092'}]},\n",
      "            {'answer': 'Madeiran',\n",
      "             'provenance': [{'bleu_score': 1.0,\n",
      "                             'end_character': 637,\n",
      "                             'end_paragraph_id': 1,\n",
      "                             'section': 'Section::::Abstract.',\n",
      "                             'start_character': 629,\n",
      "                             'start_paragraph_id': 1,\n",
      "                             'title': 'Madeira Airport',\n",
      "                             'wikipedia_id': '5762092'}]},\n",
      "            {'answer': 'Protestantism in Madeira'},\n",
      "            {'answer': 'madeiras'},\n",
      "            {'answer': 'Madeira (island)'},\n",
      "            {'answer': 'Madeira Archipelago'},\n",
      "            {'answer': 'Madiera'},\n",
      "            {'answer': 'telecommunications in madeira'},\n",
      "            {'answer': 'Climate of Madeira'},\n",
      "            {'answer': 'madeira portugal'},\n",
      "            {'answer': 'geography of madeira'},\n",
      "            {'answer': 'Communications in Madeira'},\n",
      "            {'answer': 'economy of madeira'},\n",
      "            {'answer': 'Economy of Madeira'},\n",
      "            {'answer': 'tourism in madeira'},\n",
      "            {'answer': 'Island Madeira'},\n",
      "            {'answer': 'protestantism in madeira'},\n",
      "            {'answer': 'madeiran'},\n",
      "            {'answer': 'The Madeira Islands'},\n",
      "            {'answer': 'Madeira islands'},\n",
      "            {'answer': 'Lauraceas madeirense'},\n",
      "            {'answer': 'ilha da madeira'},\n",
      "            {'answer': 'Geography of the Madeira Islands'},\n",
      "            {'answer': 'History of the Madeira Islands'},\n",
      "            {'answer': 'Madeira Island'},\n",
      "            {'answer': 'Telecommunications in Madeira'},\n",
      "            {'answer': 'history of madeira islands'},\n",
      "            {'answer': 'região autónoma da madeira'},\n",
      "            {'answer': 'madeira islands'},\n",
      "            {'answer': 'madeira archipelago'},\n",
      "            {'answer': 'Regiao Autonoma da Madeira'},\n",
      "            {'answer': 'Tourism in Madeira'},\n",
      "            {'answer': 'communications in madeira'},\n",
      "            {'answer': 'island madeira'},\n",
      "            {'answer': 'Madeira Islands'},\n",
      "            {'answer': 'MADEIRA'},\n",
      "            {'answer': 'geography of madeira islands'},\n",
      "            {'answer': 'climate of madeira'},\n",
      "            {'answer': 'madiera'},\n",
      "            {'answer': 'madeira island'},\n",
      "            {'answer': 'Madeira, Portugal'},\n",
      "            {'answer': 'madeira'},\n",
      "            {'answer': 'Parliament of Madeira'},\n",
      "            {'answer': 'Geography of Madeira'},\n",
      "            {'answer': 'Madeiras'},\n",
      "            {'answer': 'parliament of madeira'},\n",
      "            {'answer': 'lauraceas madeirense'},\n",
      "            {'answer': 'Ilha da Madeira'},\n",
      "            {'answer': 'regiao autonoma da madeira'},\n",
      "            {'answer': 'autonomous region of madeira'},\n",
      "            {'answer': 'Região Autónoma da Madeira'}]}\n"
     ]
    }
   ],
   "source": [
    "pprint(nq_dev[2])"
   ]
  },
  {
   "cell_type": "code",
   "execution_count": 78,
   "id": "cb7e8f7e",
   "metadata": {},
   "outputs": [
    {
     "name": "stdout",
     "output_type": "stream",
     "text": [
      "{'id': 'sfq_17775',\n",
      " 'input': \"From which film did the Oscar winning song `Up Where We Belong' \"\n",
      "          'come?',\n",
      " 'output': [{'answer': 'An Officer and a Gentlemen',\n",
      "             'provenance': [{'bleu_score': 0.668740304976422,\n",
      "                             'end_character': 181,\n",
      "                             'end_paragraph_id': 1,\n",
      "                             'section': 'Section::::Abstract.',\n",
      "                             'start_character': 164,\n",
      "                             'start_paragraph_id': 1,\n",
      "                             'title': 'Up Where We Belong',\n",
      "                             'wikipedia_id': '3585181'}]},\n",
      "            {'answer': 'An Officer and a Gentleman',\n",
      "             'provenance': [{'bleu_score': 1.0,\n",
      "                             'end_character': 191,\n",
      "                             'end_paragraph_id': 1,\n",
      "                             'section': 'Section::::Abstract.',\n",
      "                             'start_character': 165,\n",
      "                             'start_paragraph_id': 1,\n",
      "                             'title': 'Up Where We Belong',\n",
      "                             'wikipedia_id': '3585181'}]},\n",
      "            {'answer': 'Officer and a Gentleman',\n",
      "             'provenance': [{'bleu_score': 1.0,\n",
      "                             'end_character': 191,\n",
      "                             'end_paragraph_id': 1,\n",
      "                             'section': 'Section::::Abstract.',\n",
      "                             'start_character': 168,\n",
      "                             'start_paragraph_id': 1,\n",
      "                             'title': 'Up Where We Belong',\n",
      "                             'wikipedia_id': '3585181'}]},\n",
      "            {'answer': 'AN OFFICER AND A GENTLEMAN'},\n",
      "            {'answer': 'officer gentleman'},\n",
      "            {'answer': 'An Officer and A Gentleman'},\n",
      "            {'answer': 'An Officer & a Gentleman'},\n",
      "            {'answer': 'Officer and a gentleman'},\n",
      "            {'answer': 'An Officer And A Gentleman'},\n",
      "            {'answer': 'officer and gentlemen'},\n",
      "            {'answer': 'zack mayo'},\n",
      "            {'answer': 'Zack Mayo'},\n",
      "            {'answer': 'officer and gentleman'}]}\n"
     ]
    }
   ],
   "source": [
    "pprint(nq_dev[3])"
   ]
  },
  {
   "cell_type": "code",
   "execution_count": 79,
   "id": "7f3c6c22",
   "metadata": {},
   "outputs": [
    {
     "name": "stdout",
     "output_type": "stream",
     "text": [
      "{'id': 'qw_1617',\n",
      " 'input': 'The Wimbledon tennis tournament is held at which tennis club in '\n",
      "          'London?',\n",
      " 'output': [{'answer': 'All England Lawn Tennis Club',\n",
      "             'provenance': [{'bleu_score': 1.0,\n",
      "                             'end_character': 177,\n",
      "                             'end_paragraph_id': 20,\n",
      "                             'section': 'Section::::History.:21st century.\\n',\n",
      "                             'start_character': 149,\n",
      "                             'start_paragraph_id': 20,\n",
      "                             'title': 'The Championships, Wimbledon',\n",
      "                             'wikipedia_id': '91195'}]},\n",
      "            {'answer': 'All-England Club',\n",
      "             'provenance': [{'bleu_score': 1.0,\n",
      "                             'end_character': 137,\n",
      "                             'end_paragraph_id': 74,\n",
      "                             'section': 'Section::::Grounds.:Bank of England '\n",
      "                                        'Sports Centre.\\n',\n",
      "                             'start_character': 121,\n",
      "                             'start_paragraph_id': 74,\n",
      "                             'title': 'The Championships, Wimbledon',\n",
      "                             'wikipedia_id': '91195'}]},\n",
      "            {'answer': 'AELTC',\n",
      "             'provenance': [{'bleu_score': 1.0,\n",
      "                             'end_character': 222,\n",
      "                             'end_paragraph_id': 20,\n",
      "                             'section': 'Section::::History.:21st century.\\n',\n",
      "                             'start_character': 217,\n",
      "                             'start_paragraph_id': 20,\n",
      "                             'title': 'The Championships, Wimbledon',\n",
      "                             'wikipedia_id': '91195'}]},\n",
      "            {'answer': 'Aorangi Park',\n",
      "             'provenance': [{'bleu_score': 1.0,\n",
      "                             'end_character': 401,\n",
      "                             'end_paragraph_id': 17,\n",
      "                             'section': 'Section::::History.:21st century.\\n',\n",
      "                             'start_character': 389,\n",
      "                             'start_paragraph_id': 17,\n",
      "                             'title': 'The Championships, Wimbledon',\n",
      "                             'wikipedia_id': '91195'}]},\n",
      "            {'answer': 'The All England Club',\n",
      "             'provenance': [{'bleu_score': 1.0,\n",
      "                             'end_character': 20,\n",
      "                             'end_paragraph_id': 98,\n",
      "                             'section': 'Section::::Traditions.:Tickets.\\n',\n",
      "                             'start_character': 0,\n",
      "                             'start_paragraph_id': 98,\n",
      "                             'title': 'The Championships, Wimbledon',\n",
      "                             'wikipedia_id': '91195'}]},\n",
      "            {'answer': 'All England Club',\n",
      "             'provenance': [{'bleu_score': 1.0,\n",
      "                             'end_character': 223,\n",
      "                             'end_paragraph_id': 1,\n",
      "                             'section': 'Section::::Abstract.',\n",
      "                             'start_character': 207,\n",
      "                             'start_paragraph_id': 1,\n",
      "                             'title': 'The Championships, Wimbledon',\n",
      "                             'wikipedia_id': '91195'}]},\n",
      "            {'answer': 'All England Lawn Tennis and Croquet Club',\n",
      "             'provenance': [{'bleu_score': 1.0,\n",
      "                             'end_character': 44,\n",
      "                             'end_paragraph_id': 9,\n",
      "                             'section': 'Section::::History.:Beginning.\\n',\n",
      "                             'start_character': 4,\n",
      "                             'start_paragraph_id': 9,\n",
      "                             'title': 'The Championships, Wimbledon',\n",
      "                             'wikipedia_id': '91195'}]},\n",
      "            {'answer': 'aorangi park'},\n",
      "            {'answer': 'All england lawn tennis and croquet club'},\n",
      "            {'answer': 'all england lawn tennis and croquet club'},\n",
      "            {'answer': 'all england club'},\n",
      "            {'answer': 'all england lawn tennis club'},\n",
      "            {'answer': 'aeltc'}]}\n"
     ]
    }
   ],
   "source": [
    "pprint(nq_dev[-1])"
   ]
  },
  {
   "cell_type": "markdown",
   "id": "55629131",
   "metadata": {},
   "source": [
    "# Hotpot Questions - multi-hop\n",
    "    Train/Dev/Test\n",
    "    - /data/yorih-deardr/data/kilt/hotpotqa-train-kilt.jsonl\n",
    "    - /data/yorih-deardr/data/kilt/hotpotqa-dev-kilt.jsonl\n",
    "    - /data/yorih-deardr/data/kilt/"
   ]
  },
  {
   "cell_type": "code",
   "execution_count": 80,
   "id": "ea05e134",
   "metadata": {},
   "outputs": [],
   "source": [
    "hotpot_train_jsonl = '/data/yorih-deardr/data/kilt/hotpotqa-train-kilt.jsonl'\n",
    "hotpot_dev_jsonl = '/data/yorih-deardr/data/kilt/hotpotqa-dev-kilt.jsonl'"
   ]
  },
  {
   "cell_type": "code",
   "execution_count": 81,
   "id": "07d6e922",
   "metadata": {},
   "outputs": [],
   "source": [
    "hotpot_dev = open_jsonl(hotpot_dev_jsonl)"
   ]
  },
  {
   "cell_type": "code",
   "execution_count": 87,
   "id": "c01019d8",
   "metadata": {},
   "outputs": [
    {
     "data": {
      "text/plain": [
       "5600"
      ]
     },
     "execution_count": 87,
     "metadata": {},
     "output_type": "execute_result"
    }
   ],
   "source": [
    "len(hotpot_dev)"
   ]
  },
  {
   "cell_type": "code",
   "execution_count": 88,
   "id": "398d4603",
   "metadata": {},
   "outputs": [
    {
     "name": "stdout",
     "output_type": "stream",
     "text": [
      "{'id': '5a8b57f25542995d1e6f1371',\n",
      " 'input': 'Were Scott Derrickson and Ed Wood of the same nationality?',\n",
      " 'output': [{'answer': 'yes',\n",
      "             'provenance': [{'bleu_score': 0.6964705665515707,\n",
      "                             'end_character': 81,\n",
      "                             'end_paragraph_id': 1,\n",
      "                             'section': 'Section::::Abstract.',\n",
      "                             'start_character': 0,\n",
      "                             'start_paragraph_id': 1,\n",
      "                             'title': 'Scott Derrickson',\n",
      "                             'wikipedia_id': '2816539'},\n",
      "                            {'bleu_score': 0.7784290264326612,\n",
      "                             'end_character': 106,\n",
      "                             'end_paragraph_id': 1,\n",
      "                             'section': 'Section::::Abstract.',\n",
      "                             'start_character': 0,\n",
      "                             'start_paragraph_id': 1,\n",
      "                             'title': 'Ed Wood',\n",
      "                             'wikipedia_id': '10520'}]}]}\n"
     ]
    }
   ],
   "source": [
    "pprint(hotpot_dev[0])"
   ]
  },
  {
   "cell_type": "code",
   "execution_count": 89,
   "id": "2f99bd8a",
   "metadata": {},
   "outputs": [
    {
     "name": "stdout",
     "output_type": "stream",
     "text": [
      "{'id': '5a8c7595554299585d9e36b6',\n",
      " 'input': 'What government position was held by the woman who portrayed '\n",
      "          'Corliss Archer in the film Kiss and Tell?',\n",
      " 'output': [{'answer': 'Chief of Protocol',\n",
      "             'provenance': [{'bleu_score': 1.0,\n",
      "                             'end_character': 104,\n",
      "                             'end_paragraph_id': 1,\n",
      "                             'section': 'Section::::Abstract.',\n",
      "                             'start_character': 0,\n",
      "                             'start_paragraph_id': 1,\n",
      "                             'title': 'Kiss and Tell (1945 film)',\n",
      "                             'wikipedia_id': '33022480'},\n",
      "                            {'bleu_score': 1.0,\n",
      "                             'end_character': 211,\n",
      "                             'end_paragraph_id': 1,\n",
      "                             'section': 'Section::::Abstract.',\n",
      "                             'start_character': 0,\n",
      "                             'start_paragraph_id': 1,\n",
      "                             'title': 'Shirley Temple',\n",
      "                             'wikipedia_id': '804602'},\n",
      "                            {'bleu_score': 0.9025139799587886,\n",
      "                             'end_character': 354,\n",
      "                             'end_paragraph_id': 1,\n",
      "                             'section': 'Section::::Abstract.',\n",
      "                             'start_character': 212,\n",
      "                             'start_paragraph_id': 1,\n",
      "                             'title': 'Shirley Temple',\n",
      "                             'wikipedia_id': '804602'}]}]}\n"
     ]
    }
   ],
   "source": [
    "pprint(hotpot_dev[1])"
   ]
  },
  {
   "cell_type": "code",
   "execution_count": 90,
   "id": "22ba4d8f",
   "metadata": {},
   "outputs": [
    {
     "name": "stdout",
     "output_type": "stream",
     "text": [
      "{'id': '5a7c220b5542990527d5545c',\n",
      " 'input': 'In 2014, the Co-operative Bank planned to launch a train service in '\n",
      "          'Wiltshire called Go-op. Where is the bank headquartered',\n",
      " 'output': [{'answer': 'Manchester',\n",
      "             'provenance': [{'bleu_score': 0.8408964152537145,\n",
      "                             'end_character': 19,\n",
      "                             'end_paragraph_id': 1,\n",
      "                             'section': 'Section::::Abstract.',\n",
      "                             'start_character': 0,\n",
      "                             'start_paragraph_id': 1,\n",
      "                             'title': 'Go-Op (train operating company)',\n",
      "                             'wikipedia_id': '26748036'},\n",
      "                            {'bleu_score': 1.0,\n",
      "                             'end_character': 709,\n",
      "                             'end_paragraph_id': 1,\n",
      "                             'section': 'Section::::Abstract.',\n",
      "                             'start_character': 477,\n",
      "                             'start_paragraph_id': 1,\n",
      "                             'title': 'Go-Op (train operating company)',\n",
      "                             'wikipedia_id': '26748036'},\n",
      "                            {'bleu_score': 1.0,\n",
      "                             'end_character': 133,\n",
      "                             'end_paragraph_id': 1,\n",
      "                             'section': 'Section::::Abstract.',\n",
      "                             'start_character': 0,\n",
      "                             'start_paragraph_id': 1,\n",
      "                             'title': 'The Co-operative Bank',\n",
      "                             'wikipedia_id': '526703'}]}]}\n"
     ]
    }
   ],
   "source": [
    "pprint(hotpot_dev[-1])"
   ]
  },
  {
   "cell_type": "markdown",
   "id": "b3c3bc9a",
   "metadata": {},
   "source": [
    "# ELI5 Questions\n",
    "    Train/Dev/Test\n",
    "    - /data/yorih-deardr/data/kilt/eli5-train-kilt.jsonl\n",
    "    - /data/yorih-deardr/data/kilt/\n",
    "    - /data/yorih-deardr/data/kilt/eli5-test_without_answers-kilt.jsonl"
   ]
  },
  {
   "cell_type": "code",
   "execution_count": 93,
   "id": "012691b5",
   "metadata": {},
   "outputs": [],
   "source": [
    "eli5_train_jsonl = '/data/yorih-deardr/data/kilt/eli5-train-kilt.jsonl'\n",
    "eli5_test_jsonl = '/data/yorih-deardr/data/kilt/eli5-test_without_answers-kilt.jsonl'"
   ]
  },
  {
   "cell_type": "code",
   "execution_count": 94,
   "id": "2bca7c27",
   "metadata": {},
   "outputs": [],
   "source": [
    "eli5_train = open_jsonl(eli5_train_jsonl)"
   ]
  },
  {
   "cell_type": "code",
   "execution_count": 95,
   "id": "6e8ba392",
   "metadata": {},
   "outputs": [
    {
     "data": {
      "text/plain": [
       "272634"
      ]
     },
     "execution_count": 95,
     "metadata": {},
     "output_type": "execute_result"
    }
   ],
   "source": [
    "len(eli5_train)"
   ]
  },
  {
   "cell_type": "code",
   "execution_count": 96,
   "id": "2c199851",
   "metadata": {},
   "outputs": [
    {
     "name": "stdout",
     "output_type": "stream",
     "text": [
      "{'id': '1oy5tc',\n",
      " 'input': 'in football whats the point of wasting the first two plays with a '\n",
      "          'rush - up the middle - not regular rush plays i get those',\n",
      " 'output': [{'answer': 'Keep the defense honest, get a feel for the pass rush, '\n",
      "                       \"open up the passing game. An offense that's too one \"\n",
      "                       'dimensional will fail. And those rushes up the middle '\n",
      "                       'can be busted wide open sometimes for big yardage.',\n",
      "             'meta': {'score': 3}},\n",
      "            {'answer': 'If you throw the ball all the time, then the defense '\n",
      "                       'will adapt to always cover for a pass.  By doing a '\n",
      "                       'simple running play every now and then, you force the '\n",
      "                       'defense to stay close and guard against the run.  '\n",
      "                       'Sometimes, the offense can catch the defense off guard '\n",
      "                       'by faking a run and freeing up their receivers.\\n'\n",
      "                       '\\n'\n",
      "                       \"Also, you don't have to gain massive yards on every \"\n",
      "                       'single play.  Sometimes, it works best to gain a few '\n",
      "                       'yards at a time.  As long as you get the first down, '\n",
      "                       'you are in good shape.',\n",
      "             'meta': {'score': 2}},\n",
      "            {'answer': 'In most cases the O-Line is supposed to make a hole '\n",
      "                       'for the running back to go through. If you run too '\n",
      "                       'many plays to the outside/throws the defense will '\n",
      "                       'catch on.\\n'\n",
      "                       '\\n'\n",
      "                       'Also, 2 5 yard plays gets you a new set of downs.',\n",
      "             'meta': {'score': 2}},\n",
      "            {'answer': \"I you don't like those type of plays, watch CFL.  We \"\n",
      "                       \"only get 3 downs so you can't afford to waste one.  \"\n",
      "                       'Lots more passing.',\n",
      "             'meta': {'score': 2}}]}\n"
     ]
    }
   ],
   "source": [
    "pprint(eli5_train[0])"
   ]
  },
  {
   "cell_type": "code",
   "execution_count": 103,
   "id": "18a0c110",
   "metadata": {},
   "outputs": [
    {
     "name": "stdout",
     "output_type": "stream",
     "text": [
      "{'id': 'ckgil4',\n",
      " 'input': \"Why can people with Alzheimer's easily remember their childhood and \"\n",
      "          'young adult life but not recent events?',\n",
      " 'output': [{'answer': 'It could be that long term memories are stored in the '\n",
      "                       'frontal lobe of the brain and Alzheimers first targets '\n",
      "                       'the hippocampus, which is responsible for memory '\n",
      "                       'reconsolidation (the creation of long term memories '\n",
      "                       'from short term memories)',\n",
      "             'meta': {'score': 4}}]}\n"
     ]
    }
   ],
   "source": [
    "pprint(eli5_train[-1])"
   ]
  },
  {
   "cell_type": "code",
   "execution_count": 100,
   "id": "54191769",
   "metadata": {},
   "outputs": [
    {
     "name": "stdout",
     "output_type": "stream",
     "text": [
      "{'id': '8v5e3s',\n",
      " 'input': 'Stars and Visibility',\n",
      " 'output': [{'answer': \"It's a quirk of the human eye. At the center of the \"\n",
      "                       'eye (the fovea) we mostly have colour-sensitive cone '\n",
      "                       \"cells to see detail and colour of what we're focusing \"\n",
      "                       'on. Around the fovea we mostly have rod cells that '\n",
      "                       \"can't see colour but are more sensitive to variations \"\n",
      "                       'in light intensity and movement.  \\n'\n",
      "                       \"Looking slightly to the side of the thing you're \"\n",
      "                       'examining sends more of the light to the rod cells and '\n",
      "                       'lets you see things more clearly in low-light '\n",
      "                       \"conditions where cones don't work well.\",\n",
      "             'meta': {'score': 8}}]}\n"
     ]
    }
   ],
   "source": [
    "pprint(eli5_train[2])"
   ]
  },
  {
   "cell_type": "code",
   "execution_count": 102,
   "id": "ccdfa5c1",
   "metadata": {
    "scrolled": false
   },
   "outputs": [
    {
     "name": "stdout",
     "output_type": "stream",
     "text": [
      "{'id': '1kiwfx',\n",
      " 'input': 'In Trading Places (1983, Akroyd/Murphy) how does the scheme at the '\n",
      "          'end of the movie work? Why would buying a lot of OJ at a high price '\n",
      "          'ruin the Duke Brothers?',\n",
      " 'meta': {'partial_evidence': [{'end_paragraph_id': 7,\n",
      "                                'meta': {'evidence_span': ['On television, '\n",
      "                                                           'they learn that '\n",
      "                                                           'Clarence Beeks is '\n",
      "                                                           'transporting a '\n",
      "                                                           'secret USDA report '\n",
      "                                                           'on orange crop '\n",
      "                                                           'forecasts.',\n",
      "                                                           'On television, '\n",
      "                                                           'they learn that '\n",
      "                                                           'Clarence Beeks is '\n",
      "                                                           'transporting a '\n",
      "                                                           'secret USDA report '\n",
      "                                                           'on orange crop '\n",
      "                                                           'forecasts. '\n",
      "                                                           'Winthorpe and '\n",
      "                                                           'Valentine recall '\n",
      "                                                           'large payments '\n",
      "                                                           'made to Beeks by '\n",
      "                                                           'the Dukes and '\n",
      "                                                           'realize that the '\n",
      "                                                           'Dukes plan to '\n",
      "                                                           'obtain the report '\n",
      "                                                           'to corner the '\n",
      "                                                           'market on frozen '\n",
      "                                                           'orange juice.',\n",
      "                                                           'Winthorpe and '\n",
      "                                                           'Valentine recall '\n",
      "                                                           'large payments '\n",
      "                                                           'made to Beeks by '\n",
      "                                                           'the Dukes and '\n",
      "                                                           'realize that the '\n",
      "                                                           'Dukes plan to '\n",
      "                                                           'obtain the report '\n",
      "                                                           'to corner the '\n",
      "                                                           'market on frozen '\n",
      "                                                           'orange juice.']},\n",
      "                                'section': 'Section::::Plot.\\n',\n",
      "                                'start_paragraph_id': 7,\n",
      "                                'title': 'Trading Places',\n",
      "                                'wikipedia_id': '520990'}]},\n",
      " 'output': [{'answer': 'The final scene involves future contracts. This simply '\n",
      "                       'means entering into a contract to buy something (oil, '\n",
      "                       'wheat, even frozen concentrated orange juice(FCOJ)) at '\n",
      "                       'a specified time for the current price. The person '\n",
      "                       'selling the future does not have to own the FCOJ at '\n",
      "                       'the time of sale he simply has to provide them at the '\n",
      "                       'agreed upon date. Futures help companies mitigate risk '\n",
      "                       'against the unpredictable price of FCOJ. If the price '\n",
      "                       'of FCOJ goes up the buyer wins the seller loses and '\n",
      "                       'visa versa. This price is often affected by fresh '\n",
      "                       'oranges. If there is a good harvest FCOJ price goes '\n",
      "                       'down and so on. The Dukes believed there was going to '\n",
      "                       'be a bad harvest. Their plan was to buy as much FCOJ '\n",
      "                       'as they could and basically corner the market then '\n",
      "                       'sell it at a much higher price due to a lack of '\n",
      "                       'oranges. So here is what happened. At first Winthrop '\n",
      "                       'and Valentine begin selling futures contracts at '\n",
      "                       'inflated prices caused by the Dukes (on the info from '\n",
      "                       'the fake report of a bad orange harvest) at '\n",
      "                       'approximately $1.45 per unit. When the report comes '\n",
      "                       'out that the orange harvest is expected to be good '\n",
      "                       'caused a massive selloff and the futures price '\n",
      "                       'plummeted to about $.22 cents. This is when Winthrop '\n",
      "                       'and Valentine begin buying futures instead of selling. '\n",
      "                       'So now they can fill the futures orders of $1.45 with '\n",
      "                       'oranges costing $.22 earning something like a 545% '\n",
      "                       'profit.'},\n",
      "            {'answer': 'They had an episode of Marketplace that addressed this '\n",
      "                       'a few weeks ago:  URL_0 '},\n",
      "            {'answer': 'NPR actually did a interview explaining everything '\n",
      "                       'pretty well.  URL_0 '},\n",
      "            {'answer': 'If I remember correctly, they knew that the price of '\n",
      "                       \"orange juice was going to fall. Normally this wouldn't \"\n",
      "                       'matter, because you are supposed to buy and hold '\n",
      "                       \"stocks, but they were buying what's called 'futures'. \"\n",
      "                       'In a nutshell, they were buying contracts that afford '\n",
      "                       'them the legal right to purchase units of OJ at a '\n",
      "                       'specific price. Since they knew the price of OJ would '\n",
      "                       'fall (remember the dude with the locked briefcase?) '\n",
      "                       'they were buying option contracts to purchase OJ at a '\n",
      "                       'higher price. Anyone with half a brain would sell them '\n",
      "                       \"these and of course that's what happened. For in depth \"\n",
      "                       'knowledge, look up \"how futures trading works.\"'},\n",
      "            {'answer': 'The unrealistic part of that flick is not the trading '\n",
      "                       'but Winthorp and Valentine being able just to waltz in '\n",
      "                       'to that pit and stand wherever they want. Spots in a '\n",
      "                       'commodity pit are protected like gang turf. They just '\n",
      "                       'go in and stand in the middle. Also if they deposit '\n",
      "                       \"the cash from everyone's savings lets say 100k and the \"\n",
      "                       'margin per contract is 5k per contract they can only '\n",
      "                       \"buy or sell 20 contracts. I don't know what the FCOJ \"\n",
      "                       'margins are, but if they trade more than 20 the profit '\n",
      "                       \"goes to the exchange. At least that's how the CME \"\n",
      "                       'rolls.'},\n",
      "            {'answer': 'Fun fact: In \"Coming to America\", when Akeem\\'s '\n",
      "                       'character gave the money to the 2 homeless guys, it '\n",
      "                       'was the Duke brothers. :)  URL_0 '},\n",
      "            {'answer': \"odd things I noted - 1. They didn't go in with that \"\n",
      "                       'much cash. I understand they first sold high and then '\n",
      "                       'bought low. So how did they sell so much with just a '\n",
      "                       \"small sum? They should've bought very little contracts \"\n",
      "                       'of fcoj which would sell out in 1min with that frenzy '\n",
      "                       'and then the buyers would go somewhere else and price '\n",
      "                       'would rise even beyond $1.42 2. They all look at the '\n",
      "                       'clock and then 9am (I think) strikes and crop report '\n",
      "                       'is read. Then they all panic because they need to '\n",
      "                       'unload whatever they bought and finding the 2 buying '\n",
      "                       'they sell ASAP. Again how can these 2 buy everything '\n",
      "                       'with so little money? 3. Finally the closing bell '\n",
      "                       'strikes and trading stops. How did all this scheme '\n",
      "                       'happen so fast ? Doesnt trading happen 9:30am to 4pm '\n",
      "                       'at NYSE (why wtc was shown?) for such commodities. Did '\n",
      "                       'they spend that many hours there? It just seemed '\n",
      "                       'sudden and abrupt the time flow.'},\n",
      "            {'answer': \"it was the margin call for the duke brothers. as i'm \"\n",
      "                       'sure others explained, the dukes shorted the market '\n",
      "                       'based on info from the phony crop report. so when the '\n",
      "                       'price shot up, a margin call was due, even after the '\n",
      "                       'price settled a bit after billy and louie sold their '\n",
      "                       'holdings for huge gains. when the market closed with '\n",
      "                       'the price still up, the movie shows the guy affiliated '\n",
      "                       'with the exchange saying \"Margin call.\". In reality I '\n",
      "                       \"think it would've been the firm that they trade \"\n",
      "                       'through and that provided them the loan in the first '\n",
      "                       'place. (margin call means pay back the loaned amount) '\n",
      "                       'edit: maybe I had it backwards and the dukes were '\n",
      "                       \"going to go long on OJ futures, but it's the same \"\n",
      "                       'principle. margin call did them in after the market '\n",
      "                       'worked against them based on their false knowledge.'},\n",
      "            {'answer': 'I feel so old. People have been askinbg what happened '\n",
      "                       'at the end of this movie for what must be the last 15 '\n",
      "                       'years of my life. It never stops. Every '\n",
      "                       'year/month/fortnight, I see someone asking what '\n",
      "                       'happened, and someone explaining. Andf it will keep on '\n",
      "                       'happening, until I am 90yrs old, in a home, with '\n",
      "                       'nothing but the Internet and my bladder to keep me '\n",
      "                       'going. And there it will be: \"what happens at the end '\n",
      "                       'of Trading Places?\"'},\n",
      "            {'provenance': [{'bleu_score': 0.9232808519770748,\n",
      "                             'end_character': 612,\n",
      "                             'end_paragraph_id': 1,\n",
      "                             'section': 'Section::::Abstract.',\n",
      "                             'start_character': 14,\n",
      "                             'start_paragraph_id': 1,\n",
      "                             'title': 'Futures contract',\n",
      "                             'wikipedia_id': '242855'}]}]}\n"
     ]
    }
   ],
   "source": [
    "pprint({\"id\": \"1kiwfx\", \"input\": \"In Trading Places (1983, Akroyd/Murphy) how does the scheme at the end of the movie work? Why would buying a lot of OJ at a high price ruin the Duke Brothers?\", \"output\": [{\"answer\": \"The final scene involves future contracts. This simply means entering into a contract to buy something (oil, wheat, even frozen concentrated orange juice(FCOJ)) at a specified time for the current price. The person selling the future does not have to own the FCOJ at the time of sale he simply has to provide them at the agreed upon date. Futures help companies mitigate risk against the unpredictable price of FCOJ. If the price of FCOJ goes up the buyer wins the seller loses and visa versa. This price is often affected by fresh oranges. If there is a good harvest FCOJ price goes down and so on. The Dukes believed there was going to be a bad harvest. Their plan was to buy as much FCOJ as they could and basically corner the market then sell it at a much higher price due to a lack of oranges. So here is what happened. At first Winthrop and Valentine begin selling futures contracts at inflated prices caused by the Dukes (on the info from the fake report of a bad orange harvest) at approximately $1.45 per unit. When the report comes out that the orange harvest is expected to be good caused a massive selloff and the futures price plummeted to about $.22 cents. This is when Winthrop and Valentine begin buying futures instead of selling. So now they can fill the futures orders of $1.45 with oranges costing $.22 earning something like a 545% profit.\"}, {\"answer\": \"They had an episode of Marketplace that addressed this a few weeks ago:  URL_0 \"}, {\"answer\": \"NPR actually did a interview explaining everything pretty well.  URL_0 \"}, {\"answer\": \"If I remember correctly, they knew that the price of orange juice was going to fall. Normally this wouldn't matter, because you are supposed to buy and hold stocks, but they were buying what's called 'futures'. In a nutshell, they were buying contracts that afford them the legal right to purchase units of OJ at a specific price. Since they knew the price of OJ would fall (remember the dude with the locked briefcase?) they were buying option contracts to purchase OJ at a higher price. Anyone with half a brain would sell them these and of course that's what happened. For in depth knowledge, look up \\\"how futures trading works.\\\"\"}, {\"answer\": \"The unrealistic part of that flick is not the trading but Winthorp and Valentine being able just to waltz in to that pit and stand wherever they want. Spots in a commodity pit are protected like gang turf. They just go in and stand in the middle. Also if they deposit the cash from everyone's savings lets say 100k and the margin per contract is 5k per contract they can only buy or sell 20 contracts. I don't know what the FCOJ margins are, but if they trade more than 20 the profit goes to the exchange. At least that's how the CME rolls.\"}, {\"answer\": \"Fun fact: In \\\"Coming to America\\\", when Akeem's character gave the money to the 2 homeless guys, it was the Duke brothers. :)  URL_0 \"}, {\"answer\": \"odd things I noted - 1. They didn't go in with that much cash. I understand they first sold high and then bought low. So how did they sell so much with just a small sum? They should've bought very little contracts of fcoj which would sell out in 1min with that frenzy and then the buyers would go somewhere else and price would rise even beyond $1.42 2. They all look at the clock and then 9am (I think) strikes and crop report is read. Then they all panic because they need to unload whatever they bought and finding the 2 buying they sell ASAP. Again how can these 2 buy everything with so little money? 3. Finally the closing bell strikes and trading stops. How did all this scheme happen so fast ? Doesnt trading happen 9:30am to 4pm at NYSE (why wtc was shown?) for such commodities. Did they spend that many hours there? It just seemed sudden and abrupt the time flow.\"}, {\"answer\": \"it was the margin call for the duke brothers. as i'm sure others explained, the dukes shorted the market based on info from the phony crop report. so when the price shot up, a margin call was due, even after the price settled a bit after billy and louie sold their holdings for huge gains. when the market closed with the price still up, the movie shows the guy affiliated with the exchange saying \\\"Margin call.\\\". In reality I think it would've been the firm that they trade through and that provided them the loan in the first place. (margin call means pay back the loaned amount) edit: maybe I had it backwards and the dukes were going to go long on OJ futures, but it's the same principle. margin call did them in after the market worked against them based on their false knowledge.\"}, {\"answer\": \"I feel so old. People have been askinbg what happened at the end of this movie for what must be the last 15 years of my life. It never stops. Every year/month/fortnight, I see someone asking what happened, and someone explaining. Andf it will keep on happening, until I am 90yrs old, in a home, with nothing but the Internet and my bladder to keep me going. And there it will be: \\\"what happens at the end of Trading Places?\\\"\"}, {\"provenance\": [{\"wikipedia_id\": \"242855\", \"title\": \"Futures contract\", \"section\": \"Section::::Abstract.\", \"start_paragraph_id\": 1, \"start_character\": 14, \"end_paragraph_id\": 1, \"end_character\": 612, \"bleu_score\": 0.9232808519770748}]}], \"meta\": {\"partial_evidence\": [{\"wikipedia_id\": \"520990\", \"title\": \"Trading Places\", \"section\": \"Section::::Plot.\\n\", \"start_paragraph_id\": 7, \"end_paragraph_id\": 7, \"meta\": {\"evidence_span\": [\"On television, they learn that Clarence Beeks is transporting a secret USDA report on orange crop forecasts.\", \"On television, they learn that Clarence Beeks is transporting a secret USDA report on orange crop forecasts. Winthorpe and Valentine recall large payments made to Beeks by the Dukes and realize that the Dukes plan to obtain the report to corner the market on frozen orange juice.\", \"Winthorpe and Valentine recall large payments made to Beeks by the Dukes and realize that the Dukes plan to obtain the report to corner the market on frozen orange juice.\"]}}]}})"
   ]
  },
  {
   "cell_type": "code",
   "execution_count": 104,
   "id": "2f368d2a",
   "metadata": {
    "scrolled": false
   },
   "outputs": [
    {
     "name": "stdout",
     "output_type": "stream",
     "text": [
      "{'id': '5s7ksf',\n",
      " 'input': 'Why do we use an tiered income tax system, instead of something '\n",
      "          'more precise (like an integral-based tax)?',\n",
      " 'output': [{'answer': \"It's way easier for the average person to do the math \"\n",
      "                       'if the tax rates are stepwise rather than continuous. '\n",
      "                       \"The average person isn't very comfortable with \"\n",
      "                       'formulas, but can deal with subtraction and '\n",
      "                       'multiplication.'},\n",
      "            {'answer': 'I have a feeling that using a formula to calculate '\n",
      "                       'income tax is more complicated and harder to '\n",
      "                       'understand amongst the un-educated, which make up a '\n",
      "                       \"significant portion of a country's population. I know \"\n",
      "                       'a couple of relatives who cannot grasp the concept of '\n",
      "                       '\"x-squared\" but have no problem with the current tax '\n",
      "                       \"code. Hell, there are even people who don't understand \"\n",
      "                       'the brackets system and think that accepting a raise '\n",
      "                       'will make you poorer. Another main reason is that it '\n",
      "                       'is hard to find a polynomial curve that fits into what '\n",
      "                       \"the government wants. Try plotting US's tax system \"\n",
      "                       \"with a parabola, I'm sure you'll end up with very \"\n",
      "                       'strange coefficients.'},\n",
      "            {'answer': 'H & R Block, Intuit (who owns TurboTax), etc. actively '\n",
      "                       'lobby (i.e. bribe) lawmakers to keep the tax code as '\n",
      "                       'confusing as possible because their industry depends '\n",
      "                       'on individuals not being able to prepare or file taxes '\n",
      "                       'on their own. Imagine if we had a flat tax that was '\n",
      "                       'simple and automatic, and based on the income '\n",
      "                       'statements that the government already has access to. '\n",
      "                       'Why would anyone pay to have their taxes done? The '\n",
      "                       \"system isn't broken, it works exactly as designed. It \"\n",
      "                       \"was just designed to serve them, not us. That's not \"\n",
      "                       \"the sole reason, but it's certainly a contributor.\"},\n",
      "            {'answer': 'A very common misconception is that your tax burden '\n",
      "                       'immediately jumps up to a higher percentage if your '\n",
      "                       'income (AGI) crests into a higher bracket. What '\n",
      "                       'actually (currently) happens is that your first $x of '\n",
      "                       \"income is taxed at the first bracket's percentage, the \"\n",
      "                       'next $y of income at the next percentage, and so on. '\n",
      "                       'For example, if the next bracket is 20% at $86,000 and '\n",
      "                       'your AGI was $86,091, only $91 would be taxed at 20%, '\n",
      "                       'and the remaining $86,000 is separated into lower '\n",
      "                       'rates (e.g. 10% of your first $30,000, plus 15% of '\n",
      "                       '$56,000). If you were to graph taxes paid against AGI, '\n",
      "                       'it would have a slight curve. Against gross income, '\n",
      "                       'there would be a \"landing area\" corresponding to the '\n",
      "                       'standard exemption. Graphing percentage paid as tax '\n",
      "                       'against income might actually look somewhat like a '\n",
      "                       'parabola, depending on the number of brackets and the '\n",
      "                       'rates in between. [add] [Actual tax brackets for '\n",
      "                       '2016]( URL_0 )'},\n",
      "            {'answer': 'That would be more complicated. And whether or not it '\n",
      "                       'would be theoretically more efficient, that can end up '\n",
      "                       'being less efficient in practice due to the complexity '\n",
      "                       'of implementing it. If every single additional dollar '\n",
      "                       'you make changes the tax rate you pay, the accounting '\n",
      "                       'calculations become a bit more complicated than if you '\n",
      "                       'can simply apply a single arithmetic calculation for '\n",
      "                       'everything you make under a threshold you may be '\n",
      "                       'nowhere near. A business can handle that, but just '\n",
      "                       'some random person might find it frustrating, easy to '\n",
      "                       \"screw up, and untrustworthy if they don't understand \"\n",
      "                       'how a number is arrived at.'},\n",
      "            {'answer': 'I think we need new formulas that consider GDP, '\n",
      "                       'Cornflation, Home Inflation, Cost of Living and adjust '\n",
      "                       'for each region. After all, Fort Wayne Indiana and San '\n",
      "                       'Fransisco have different costs of living. That said, '\n",
      "                       'rich people should pay more. Period. Paying more '\n",
      "                       \"doesn't stop them from earning it right back and it \"\n",
      "                       \"also doesn't take away their billionaire and \"\n",
      "                       'millionaire status.'},\n",
      "            {'provenance': [{'end_paragraph_id': 1,\n",
      "                             'meta': {'evidence_span': ['A proportional tax is '\n",
      "                                                        'a tax imposed so that '\n",
      "                                                        'the tax rate is '\n",
      "                                                        'fixed, with no change '\n",
      "                                                        'as the taxable base '\n",
      "                                                        'amount increases or '\n",
      "                                                        'decreases. The amount '\n",
      "                                                        'of the tax is in '\n",
      "                                                        'proportion to the '\n",
      "                                                        'amount subject to '\n",
      "                                                        'taxation. '\n",
      "                                                        '\"Proportional\" '\n",
      "                                                        'describes a '\n",
      "                                                        'distribution effect '\n",
      "                                                        'on income or '\n",
      "                                                        'expenditure, '\n",
      "                                                        'referring to the way '\n",
      "                                                        'the rate remains '\n",
      "                                                        'consistent (does not '\n",
      "                                                        'progress from \"low to '\n",
      "                                                        'high\" or \"high to '\n",
      "                                                        'low\" as income or '\n",
      "                                                        'consumption changes), '\n",
      "                                                        'where the marginal '\n",
      "                                                        'tax rate is equal to '\n",
      "                                                        'the average tax '\n",
      "                                                        'rate.\\r'\n",
      "                                                        'highlight sentence(s) '\n",
      "                                                        'containing evidence, '\n",
      "                                                        'not only the answer',\n",
      "                                                        'A proportional tax is '\n",
      "                                                        'a tax imposed so that '\n",
      "                                                        'the tax rate is '\n",
      "                                                        'fixed, with no change '\n",
      "                                                        'as the taxable base '\n",
      "                                                        'amount increases or '\n",
      "                                                        'decreases. The amount '\n",
      "                                                        'of the tax is in '\n",
      "                                                        'proportion to the '\n",
      "                                                        'amount subject to '\n",
      "                                                        'taxation. \"',\n",
      "                                                        'A proportional tax is '\n",
      "                                                        'a tax imposed so that '\n",
      "                                                        'the tax rate is '\n",
      "                                                        'fixed, with no change '\n",
      "                                                        'as the taxable base '\n",
      "                                                        'amount increases or '\n",
      "                                                        'decreases. The amount '\n",
      "                                                        'of the tax is in '\n",
      "                                                        'proportion to the '\n",
      "                                                        'amount subject to '\n",
      "                                                        'taxation']},\n",
      "                             'section': 'Section::::Abstract.',\n",
      "                             'start_paragraph_id': 1,\n",
      "                             'title': 'Proportional tax',\n",
      "                             'wikipedia_id': '2470262'}]}]}\n"
     ]
    }
   ],
   "source": [
    "pprint({\"id\": \"5s7ksf\", \"input\": \"Why do we use an tiered income tax system, instead of something more precise (like an integral-based tax)?\", \"output\": [{\"answer\": \"It's way easier for the average person to do the math if the tax rates are stepwise rather than continuous. The average person isn't very comfortable with formulas, but can deal with subtraction and multiplication.\"}, {\"answer\": \"I have a feeling that using a formula to calculate income tax is more complicated and harder to understand amongst the un-educated, which make up a significant portion of a country's population. I know a couple of relatives who cannot grasp the concept of \\\"x-squared\\\" but have no problem with the current tax code. Hell, there are even people who don't understand the brackets system and think that accepting a raise will make you poorer. Another main reason is that it is hard to find a polynomial curve that fits into what the government wants. Try plotting US's tax system with a parabola, I'm sure you'll end up with very strange coefficients.\"}, {\"answer\": \"H & R Block, Intuit (who owns TurboTax), etc. actively lobby (i.e. bribe) lawmakers to keep the tax code as confusing as possible because their industry depends on individuals not being able to prepare or file taxes on their own. Imagine if we had a flat tax that was simple and automatic, and based on the income statements that the government already has access to. Why would anyone pay to have their taxes done? The system isn't broken, it works exactly as designed. It was just designed to serve them, not us. That's not the sole reason, but it's certainly a contributor.\"}, {\"answer\": \"A very common misconception is that your tax burden immediately jumps up to a higher percentage if your income (AGI) crests into a higher bracket. What actually (currently) happens is that your first $x of income is taxed at the first bracket's percentage, the next $y of income at the next percentage, and so on. For example, if the next bracket is 20% at $86,000 and your AGI was $86,091, only $91 would be taxed at 20%, and the remaining $86,000 is separated into lower rates (e.g. 10% of your first $30,000, plus 15% of $56,000). If you were to graph taxes paid against AGI, it would have a slight curve. Against gross income, there would be a \\\"landing area\\\" corresponding to the standard exemption. Graphing percentage paid as tax against income might actually look somewhat like a parabola, depending on the number of brackets and the rates in between. [add] [Actual tax brackets for 2016]( URL_0 )\"}, {\"answer\": \"That would be more complicated. And whether or not it would be theoretically more efficient, that can end up being less efficient in practice due to the complexity of implementing it. If every single additional dollar you make changes the tax rate you pay, the accounting calculations become a bit more complicated than if you can simply apply a single arithmetic calculation for everything you make under a threshold you may be nowhere near. A business can handle that, but just some random person might find it frustrating, easy to screw up, and untrustworthy if they don't understand how a number is arrived at.\"}, {\"answer\": \"I think we need new formulas that consider GDP, Cornflation, Home Inflation, Cost of Living and adjust for each region. After all, Fort Wayne Indiana and San Fransisco have different costs of living. That said, rich people should pay more. Period. Paying more doesn't stop them from earning it right back and it also doesn't take away their billionaire and millionaire status.\"}, {\"provenance\": [{\"wikipedia_id\": \"2470262\", \"title\": \"Proportional tax\", \"section\": \"Section::::Abstract.\", \"start_paragraph_id\": 1, \"end_paragraph_id\": 1, \"meta\": {\"evidence_span\": [\"A proportional tax is a tax imposed so that the tax rate is fixed, with no change as the taxable base amount increases or decreases. The amount of the tax is in proportion to the amount subject to taxation. \\\"Proportional\\\" describes a distribution effect on income or expenditure, referring to the way the rate remains consistent (does not progress from \\\"low to high\\\" or \\\"high to low\\\" as income or consumption changes), where the marginal tax rate is equal to the average tax rate.\\rhighlight sentence(s) containing evidence, not only the answer\", \"A proportional tax is a tax imposed so that the tax rate is fixed, with no change as the taxable base amount increases or decreases. The amount of the tax is in proportion to the amount subject to taxation. \\\"\", \"A proportional tax is a tax imposed so that the tax rate is fixed, with no change as the taxable base amount increases or decreases. The amount of the tax is in proportion to the amount subject to taxation\"]}}]}]})"
   ]
  },
  {
   "cell_type": "code",
   "execution_count": null,
   "id": "d357947c",
   "metadata": {},
   "outputs": [],
   "source": []
  }
 ],
 "metadata": {
  "kernelspec": {
   "display_name": "relevance",
   "language": "python",
   "name": "relevance"
  },
  "language_info": {
   "codemirror_mode": {
    "name": "ipython",
    "version": 3
   },
   "file_extension": ".py",
   "mimetype": "text/x-python",
   "name": "python",
   "nbconvert_exporter": "python",
   "pygments_lexer": "ipython3",
   "version": "3.8.13"
  }
 },
 "nbformat": 4,
 "nbformat_minor": 5
}
